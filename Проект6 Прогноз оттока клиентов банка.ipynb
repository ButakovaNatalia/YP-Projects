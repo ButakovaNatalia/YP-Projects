{
 "cells": [
  {
   "cell_type": "markdown",
   "metadata": {},
   "source": [
    "<h1>Прогноз оттока клиентов банка</h1>"
   ]
  },
  {
   "cell_type": "markdown",
   "metadata": {},
   "source": [
    "Из «Бета-Банка» стали уходить клиенты. Каждый месяц. Немного, но заметно. Банковские маркетологи посчитали: сохранять текущих клиентов дешевле, чем привлекать новых.\n",
    "Нам нужно спрогнозировать, уйдёт клиент из банка в ближайшее время или нет. Нам предоставлены исторические данные о поведении клиентов и расторжении договоров с банком.\n",
    "Необходимо построить модель с предельно большим значением F1-меры. "
   ]
  },
  {
   "cell_type": "markdown",
   "metadata": {},
   "source": [
    "F1-мера не должна быть меньше 0.59."
   ]
  },
  {
   "cell_type": "markdown",
   "metadata": {},
   "source": [
    "**Описание данных:**"
   ]
  },
  {
   "cell_type": "markdown",
   "metadata": {},
   "source": [
    "*Признаки:*"
   ]
  },
  {
   "cell_type": "markdown",
   "metadata": {},
   "source": [
    "    RowNumber — индекс строки в данных\n",
    "    CustomerId — уникальный идентификатор клиента\n",
    "    Surname — фамилия\n",
    "    CreditScore — кредитный рейтинг\n",
    "    Geography — страна проживания\n",
    "    Gender — пол\n",
    "    Age — возраст\n",
    "    Tenure — количество недвижимости у клиента\n",
    "    Balance — баланс на счёте\n",
    "    NumOfProducts — количество продуктов банка, используемых клиентом\n",
    "    HasCrCard — наличие кредитной карты\n",
    "    IsActiveMember — активность клиента\n",
    "    EstimatedSalary — предполагаемая зарплата"
   ]
  },
  {
   "cell_type": "markdown",
   "metadata": {},
   "source": [
    "*Целевой признак:*"
   ]
  },
  {
   "cell_type": "markdown",
   "metadata": {},
   "source": [
    "    Exited — факт ухода клиента"
   ]
  },
  {
   "cell_type": "markdown",
   "metadata": {},
   "source": [
    "**План работы**: первым делом мы познакомимся с нашими данными и сделаем первые выводы по ним, далее - предобработаем их, затем - наша работа поделится на два больших этапа: работа с моделями, в которых не учитывается дисбаланс классов, и с моделями, в которых учитывается, по каждому из этих двух блоков мы будем считать метрики качества, анализировать их, для второго раздела мы также опробуем различные наборы обучающих данных - для минимизации эффекта дисбаланса классов, в завершении работы - мы протестируем лучшую модель на тестовой выборке и сделаем выводы. "
   ]
  },
  {
   "cell_type": "markdown",
   "metadata": {},
   "source": [
    "<h3>Оглавление</h3>"
   ]
  },
  {
   "cell_type": "markdown",
   "metadata": {},
   "source": [
    "1. [Шаг 1: Знакомство с данными](#start)\n",
    "2. [Шаг 2: Подготовка признаков и деление на выборки](#preproc)\n",
    "3. [Шаг 3: Построение моделей без учета дисбаланса классов](#notbalanced)\n",
    "4. [Шаг 4: Построение моделей с учетом дисбаланса классов](#balanced)\n",
    "5. [Шаг 5: Сравнение получившихся моделей](#compare)\n",
    "6. [Шаг 6: Финальное тестирование модели](#test)"
   ]
  },
  {
   "cell_type": "markdown",
   "metadata": {},
   "source": [
    "<h3>Шаг 1: Знакомство с данными</h3>\n",
    "<a id='start'></a>"
   ]
  },
  {
   "cell_type": "markdown",
   "metadata": {},
   "source": [
    "Первым делом - импортируем необходимые нам библиотеки."
   ]
  },
  {
   "cell_type": "code",
   "execution_count": 1,
   "metadata": {},
   "outputs": [],
   "source": [
    "import pandas as pd\n",
    "from sklearn.model_selection import train_test_split\n",
    "from sklearn.preprocessing import StandardScaler\n",
    "from sklearn.metrics import f1_score, precision_score, accuracy_score, recall_score, roc_curve, roc_auc_score\n",
    "from sklearn.ensemble import RandomForestClassifier, RandomForestRegressor\n",
    "from sklearn.linear_model import LogisticRegression \n",
    "from sklearn.neighbors import KNeighborsClassifier\n",
    "import matplotlib.pyplot as plt\n",
    "import warnings\n",
    "from sklearn.utils import shuffle "
   ]
  },
  {
   "cell_type": "markdown",
   "metadata": {},
   "source": [
    "Следом - наш датасет. Посмотрим на первые пять строк и на общую информацию о датафрейме."
   ]
  },
  {
   "cell_type": "code",
   "execution_count": 2,
   "metadata": {},
   "outputs": [],
   "source": [
    "data = pd.read_csv('/datasets/Churn.csv')"
   ]
  },
  {
   "cell_type": "code",
   "execution_count": 3,
   "metadata": {},
   "outputs": [
    {
     "data": {
      "text/html": [
       "<div>\n",
       "<style scoped>\n",
       "    .dataframe tbody tr th:only-of-type {\n",
       "        vertical-align: middle;\n",
       "    }\n",
       "\n",
       "    .dataframe tbody tr th {\n",
       "        vertical-align: top;\n",
       "    }\n",
       "\n",
       "    .dataframe thead th {\n",
       "        text-align: right;\n",
       "    }\n",
       "</style>\n",
       "<table border=\"1\" class=\"dataframe\">\n",
       "  <thead>\n",
       "    <tr style=\"text-align: right;\">\n",
       "      <th></th>\n",
       "      <th>RowNumber</th>\n",
       "      <th>CustomerId</th>\n",
       "      <th>Surname</th>\n",
       "      <th>CreditScore</th>\n",
       "      <th>Geography</th>\n",
       "      <th>Gender</th>\n",
       "      <th>Age</th>\n",
       "      <th>Tenure</th>\n",
       "      <th>Balance</th>\n",
       "      <th>NumOfProducts</th>\n",
       "      <th>HasCrCard</th>\n",
       "      <th>IsActiveMember</th>\n",
       "      <th>EstimatedSalary</th>\n",
       "      <th>Exited</th>\n",
       "    </tr>\n",
       "  </thead>\n",
       "  <tbody>\n",
       "    <tr>\n",
       "      <td>0</td>\n",
       "      <td>1</td>\n",
       "      <td>15634602</td>\n",
       "      <td>Hargrave</td>\n",
       "      <td>619</td>\n",
       "      <td>France</td>\n",
       "      <td>Female</td>\n",
       "      <td>42</td>\n",
       "      <td>2.0</td>\n",
       "      <td>0.00</td>\n",
       "      <td>1</td>\n",
       "      <td>1</td>\n",
       "      <td>1</td>\n",
       "      <td>101348.88</td>\n",
       "      <td>1</td>\n",
       "    </tr>\n",
       "    <tr>\n",
       "      <td>1</td>\n",
       "      <td>2</td>\n",
       "      <td>15647311</td>\n",
       "      <td>Hill</td>\n",
       "      <td>608</td>\n",
       "      <td>Spain</td>\n",
       "      <td>Female</td>\n",
       "      <td>41</td>\n",
       "      <td>1.0</td>\n",
       "      <td>83807.86</td>\n",
       "      <td>1</td>\n",
       "      <td>0</td>\n",
       "      <td>1</td>\n",
       "      <td>112542.58</td>\n",
       "      <td>0</td>\n",
       "    </tr>\n",
       "    <tr>\n",
       "      <td>2</td>\n",
       "      <td>3</td>\n",
       "      <td>15619304</td>\n",
       "      <td>Onio</td>\n",
       "      <td>502</td>\n",
       "      <td>France</td>\n",
       "      <td>Female</td>\n",
       "      <td>42</td>\n",
       "      <td>8.0</td>\n",
       "      <td>159660.80</td>\n",
       "      <td>3</td>\n",
       "      <td>1</td>\n",
       "      <td>0</td>\n",
       "      <td>113931.57</td>\n",
       "      <td>1</td>\n",
       "    </tr>\n",
       "    <tr>\n",
       "      <td>3</td>\n",
       "      <td>4</td>\n",
       "      <td>15701354</td>\n",
       "      <td>Boni</td>\n",
       "      <td>699</td>\n",
       "      <td>France</td>\n",
       "      <td>Female</td>\n",
       "      <td>39</td>\n",
       "      <td>1.0</td>\n",
       "      <td>0.00</td>\n",
       "      <td>2</td>\n",
       "      <td>0</td>\n",
       "      <td>0</td>\n",
       "      <td>93826.63</td>\n",
       "      <td>0</td>\n",
       "    </tr>\n",
       "    <tr>\n",
       "      <td>4</td>\n",
       "      <td>5</td>\n",
       "      <td>15737888</td>\n",
       "      <td>Mitchell</td>\n",
       "      <td>850</td>\n",
       "      <td>Spain</td>\n",
       "      <td>Female</td>\n",
       "      <td>43</td>\n",
       "      <td>2.0</td>\n",
       "      <td>125510.82</td>\n",
       "      <td>1</td>\n",
       "      <td>1</td>\n",
       "      <td>1</td>\n",
       "      <td>79084.10</td>\n",
       "      <td>0</td>\n",
       "    </tr>\n",
       "  </tbody>\n",
       "</table>\n",
       "</div>"
      ],
      "text/plain": [
       "   RowNumber  CustomerId   Surname  CreditScore Geography  Gender  Age  \\\n",
       "0          1    15634602  Hargrave          619    France  Female   42   \n",
       "1          2    15647311      Hill          608     Spain  Female   41   \n",
       "2          3    15619304      Onio          502    France  Female   42   \n",
       "3          4    15701354      Boni          699    France  Female   39   \n",
       "4          5    15737888  Mitchell          850     Spain  Female   43   \n",
       "\n",
       "   Tenure    Balance  NumOfProducts  HasCrCard  IsActiveMember  \\\n",
       "0     2.0       0.00              1          1               1   \n",
       "1     1.0   83807.86              1          0               1   \n",
       "2     8.0  159660.80              3          1               0   \n",
       "3     1.0       0.00              2          0               0   \n",
       "4     2.0  125510.82              1          1               1   \n",
       "\n",
       "   EstimatedSalary  Exited  \n",
       "0        101348.88       1  \n",
       "1        112542.58       0  \n",
       "2        113931.57       1  \n",
       "3         93826.63       0  \n",
       "4         79084.10       0  "
      ]
     },
     "execution_count": 3,
     "metadata": {},
     "output_type": "execute_result"
    }
   ],
   "source": [
    "data.head()"
   ]
  },
  {
   "cell_type": "code",
   "execution_count": 4,
   "metadata": {},
   "outputs": [
    {
     "name": "stdout",
     "output_type": "stream",
     "text": [
      "<class 'pandas.core.frame.DataFrame'>\n",
      "RangeIndex: 10000 entries, 0 to 9999\n",
      "Data columns (total 14 columns):\n",
      "RowNumber          10000 non-null int64\n",
      "CustomerId         10000 non-null int64\n",
      "Surname            10000 non-null object\n",
      "CreditScore        10000 non-null int64\n",
      "Geography          10000 non-null object\n",
      "Gender             10000 non-null object\n",
      "Age                10000 non-null int64\n",
      "Tenure             9091 non-null float64\n",
      "Balance            10000 non-null float64\n",
      "NumOfProducts      10000 non-null int64\n",
      "HasCrCard          10000 non-null int64\n",
      "IsActiveMember     10000 non-null int64\n",
      "EstimatedSalary    10000 non-null float64\n",
      "Exited             10000 non-null int64\n",
      "dtypes: float64(3), int64(8), object(3)\n",
      "memory usage: 1.1+ MB\n"
     ]
    }
   ],
   "source": [
    "data.info()"
   ]
  },
  {
   "cell_type": "markdown",
   "metadata": {},
   "source": [
    "На основании увиденного можно сделать выводы по данному шагу (и завершить его)."
   ]
  },
  {
   "cell_type": "markdown",
   "metadata": {},
   "source": [
    "**Выводы по Шагу 1:** итак, мы ознакомились с данными, наш датасет содержит в себе 10 тысяч строк, это хорошая новость, данные выглядят весьма адекватно, пропуски присутствуют только в одном столбце - с недвижимостью, бросается в глаза факт того, что тип некоторых нужных нам столбцов - object - т.е. переменные категориальные, это мы исправим на следующем Шаге. "
   ]
  },
  {
   "cell_type": "markdown",
   "metadata": {},
   "source": [
    "<h3>Шаг 2: Подготовка признаков и деление на выборки</h3>\n",
    "<a id='preproc'></a>"
   ]
  },
  {
   "cell_type": "markdown",
   "metadata": {},
   "source": [
    "На данном Шаге мы подготовим наши признаки, а также - поделим данные на выборки."
   ]
  },
  {
   "cell_type": "markdown",
   "metadata": {},
   "source": [
    "На прошлом Шаге мы изучили наш датасет, очевидно - не все столбцы в нем пригодны для использования в качестве признаков. Для удобства дальнейшей работы мы их удалим. Это следующие поля: RowNumber, CustomerId, Surname. "
   ]
  },
  {
   "cell_type": "code",
   "execution_count": 5,
   "metadata": {},
   "outputs": [],
   "source": [
    "data = data.drop(columns = ['RowNumber', 'CustomerId', 'Surname'])"
   ]
  },
  {
   "cell_type": "markdown",
   "metadata": {},
   "source": [
    "**Исследование признаков на предмет аномалий**"
   ]
  },
  {
   "cell_type": "markdown",
   "metadata": {},
   "source": [
    "Для предыдущем шаге мы выявили явную проблему - пропуски. Будем помнить про нее и разберемся позже. А пока - посмотрим как обстоят дела с остальными признаками: построим графики, посчитаем статистики. Это необходимо сделать, чтобы убедиться в отсутствии неявных пропусков и выбросов. "
   ]
  },
  {
   "cell_type": "markdown",
   "metadata": {},
   "source": [
    "Начнем с CreditScore."
   ]
  },
  {
   "cell_type": "code",
   "execution_count": 6,
   "metadata": {},
   "outputs": [
    {
     "data": {
      "text/plain": [
       "count    10000.000000\n",
       "mean       650.528800\n",
       "std         96.653299\n",
       "min        350.000000\n",
       "25%        584.000000\n",
       "50%        652.000000\n",
       "75%        718.000000\n",
       "max        850.000000\n",
       "Name: CreditScore, dtype: float64"
      ]
     },
     "execution_count": 6,
     "metadata": {},
     "output_type": "execute_result"
    }
   ],
   "source": [
    "data['CreditScore'].describe()"
   ]
  },
  {
   "cell_type": "code",
   "execution_count": 7,
   "metadata": {},
   "outputs": [
    {
     "data": {
      "image/png": "[encoded data removed]",
      "text/plain": [
       "<Figure size 432x288 with 1 Axes>"
      ]
     },
     "metadata": {
      "needs_background": "light"
     },
     "output_type": "display_data"
    }
   ],
   "source": [
    "data['CreditScore'].plot(kind='hist', grid=True, density=True)\n",
    "plt.xlabel('Кредитный рейтинг')\n",
    "plt.ylabel('Частота в выборке')\n",
    "plt.title('Распределение кредитного рейтинга объектов в выборке')\n",
    "plt.show()"
   ]
  },
  {
   "cell_type": "code",
   "execution_count": 8,
   "metadata": {},
   "outputs": [
    {
     "data": {
      "image/png": "[encoded data removed]",
      "text/plain": [
       "<Figure size 432x288 with 1 Axes>"
      ]
     },
     "metadata": {
      "needs_background": "light"
     },
     "output_type": "display_data"
    }
   ],
   "source": [
    "plt.boxplot(data['CreditScore'])\n",
    "plt.ylabel('Кредитный рейтинг объектов')\n",
    "plt.title('Диаграмма размаха кредитного рейтинга объектов')\n",
    "plt.show()"
   ]
  },
  {
   "cell_type": "markdown",
   "metadata": {},
   "source": [
    "Какие выводы можно сделать по этому полю? Ну, диаграмма размаха сообщает нам о том, что есть выбросы, но взглянув на гистограмму - можно от этой мысли отказаться: распределение нормальное, значения, значительно отличающиеся от мат. ожидания, этому распределению вполне соответствуют. "
   ]
  },
  {
   "cell_type": "markdown",
   "metadata": {},
   "source": [
    "Посмотрим на Geography. Признак не количественный, посмотрим на значения в столбце и их количества."
   ]
  },
  {
   "cell_type": "code",
   "execution_count": 9,
   "metadata": {},
   "outputs": [
    {
     "data": {
      "text/plain": [
       "France     5014\n",
       "Germany    2509\n",
       "Spain      2477\n",
       "Name: Geography, dtype: int64"
      ]
     },
     "execution_count": 9,
     "metadata": {},
     "output_type": "execute_result"
    }
   ],
   "source": [
    "data['Geography'].value_counts()"
   ]
  },
  {
   "cell_type": "markdown",
   "metadata": {},
   "source": [
    "Всего три страны, Франция слегка перевешивает. Ничего сверхъестественного, двигаемся дальше."
   ]
  },
  {
   "cell_type": "markdown",
   "metadata": {},
   "source": [
    "Аналогично посмотрим на Gender."
   ]
  },
  {
   "cell_type": "code",
   "execution_count": 10,
   "metadata": {},
   "outputs": [
    {
     "data": {
      "text/plain": [
       "Male      5457\n",
       "Female    4543\n",
       "Name: Gender, dtype: int64"
      ]
     },
     "execution_count": 10,
     "metadata": {},
     "output_type": "execute_result"
    }
   ],
   "source": [
    "data['Gender'].value_counts()"
   ]
  },
  {
   "cell_type": "markdown",
   "metadata": {},
   "source": [
    "Все прекрасно. Перейдем к более интересному - к возрасту."
   ]
  },
  {
   "cell_type": "code",
   "execution_count": 11,
   "metadata": {},
   "outputs": [
    {
     "data": {
      "text/plain": [
       "count    10000.000000\n",
       "mean        38.921800\n",
       "std         10.487806\n",
       "min         18.000000\n",
       "25%         32.000000\n",
       "50%         37.000000\n",
       "75%         44.000000\n",
       "max         92.000000\n",
       "Name: Age, dtype: float64"
      ]
     },
     "execution_count": 11,
     "metadata": {},
     "output_type": "execute_result"
    }
   ],
   "source": [
    "data['Age'].describe()"
   ]
  },
  {
   "cell_type": "code",
   "execution_count": 12,
   "metadata": {},
   "outputs": [
    {
     "data": {
      "image/png": "[encoded data removed]",
      "text/plain": [
       "<Figure size 432x288 with 1 Axes>"
      ]
     },
     "metadata": {
      "needs_background": "light"
     },
     "output_type": "display_data"
    }
   ],
   "source": [
    "data['Age'].plot(kind='hist', grid=True, density=True)\n",
    "plt.xlabel('Возраст')\n",
    "plt.ylabel('Частота в выборке')\n",
    "plt.title('Распределение возраста объектов в выборке')\n",
    "plt.show()"
   ]
  },
  {
   "cell_type": "markdown",
   "metadata": {},
   "source": [
    "Распределение признака нормальное, на гистограмме длинный 'хвост' справа, но это объясняется семантикой признака - люди любых возрастов могут пользоваться услугами банка. Человека, которому 500 лет, в выборке нет и ладно. "
   ]
  },
  {
   "cell_type": "markdown",
   "metadata": {},
   "source": [
    "Следующий - Balance."
   ]
  },
  {
   "cell_type": "code",
   "execution_count": 13,
   "metadata": {
    "scrolled": true
   },
   "outputs": [
    {
     "data": {
      "text/plain": [
       "count     10000.000000\n",
       "mean      76485.889288\n",
       "std       62397.405202\n",
       "min           0.000000\n",
       "25%           0.000000\n",
       "50%       97198.540000\n",
       "75%      127644.240000\n",
       "max      250898.090000\n",
       "Name: Balance, dtype: float64"
      ]
     },
     "execution_count": 13,
     "metadata": {},
     "output_type": "execute_result"
    }
   ],
   "source": [
    "data['Balance'].describe()"
   ]
  },
  {
   "cell_type": "code",
   "execution_count": 14,
   "metadata": {},
   "outputs": [
    {
     "data": {
      "text/plain": [
       "'В выборке 36.17% людей с нулем на балансе'"
      ]
     },
     "execution_count": 14,
     "metadata": {},
     "output_type": "execute_result"
    }
   ],
   "source": [
    "'В выборке {:.2%} людей с нулем на балансе'.format(data[data['Balance'] == 0].shape[0] / data.shape[0])"
   ]
  },
  {
   "cell_type": "code",
   "execution_count": 15,
   "metadata": {
    "scrolled": true
   },
   "outputs": [
    {
     "data": {
      "image/png": "[encoded data removed]",
      "text/plain": [
       "<Figure size 432x288 with 1 Axes>"
      ]
     },
     "metadata": {
      "needs_background": "light"
     },
     "output_type": "display_data"
    }
   ],
   "source": [
    "data[data['Balance'] != 0]['Balance'].plot(kind='hist', grid=True, density=True)\n",
    "plt.xlabel('Баланс')\n",
    "plt.ylabel('Частота в выборке')\n",
    "plt.title('Распределение баланса объектов в выборке')\n",
    "plt.show()"
   ]
  },
  {
   "cell_type": "markdown",
   "metadata": {},
   "source": [
    "Итак, у нас больше трети выборки имеет ноль на счету, остальные значения распределены нормально. Ничего подозрительного. Перейдем к NumOfProducts."
   ]
  },
  {
   "cell_type": "code",
   "execution_count": 16,
   "metadata": {
    "scrolled": true
   },
   "outputs": [
    {
     "data": {
      "text/plain": [
       "1    5084\n",
       "2    4590\n",
       "3     266\n",
       "4      60\n",
       "Name: NumOfProducts, dtype: int64"
      ]
     },
     "execution_count": 16,
     "metadata": {},
     "output_type": "execute_result"
    }
   ],
   "source": [
    "data['NumOfProducts'].value_counts()"
   ]
  },
  {
   "cell_type": "markdown",
   "metadata": {},
   "source": [
    "Все в порядке."
   ]
  },
  {
   "cell_type": "markdown",
   "metadata": {},
   "source": [
    "Теперь HasCrCard и IsActiveMember. Тут же проверим, нет ли чего лишнего в столбце с целевым признаком."
   ]
  },
  {
   "cell_type": "code",
   "execution_count": 17,
   "metadata": {},
   "outputs": [
    {
     "data": {
      "text/plain": [
       "1    7055\n",
       "0    2945\n",
       "Name: HasCrCard, dtype: int64"
      ]
     },
     "execution_count": 17,
     "metadata": {},
     "output_type": "execute_result"
    }
   ],
   "source": [
    "data['HasCrCard'].value_counts()"
   ]
  },
  {
   "cell_type": "code",
   "execution_count": 18,
   "metadata": {},
   "outputs": [
    {
     "data": {
      "text/plain": [
       "1    5151\n",
       "0    4849\n",
       "Name: IsActiveMember, dtype: int64"
      ]
     },
     "execution_count": 18,
     "metadata": {},
     "output_type": "execute_result"
    }
   ],
   "source": [
    "data['IsActiveMember'].value_counts()"
   ]
  },
  {
   "cell_type": "code",
   "execution_count": 19,
   "metadata": {},
   "outputs": [
    {
     "data": {
      "text/plain": [
       "0    7963\n",
       "1    2037\n",
       "Name: Exited, dtype: int64"
      ]
     },
     "execution_count": 19,
     "metadata": {},
     "output_type": "execute_result"
    }
   ],
   "source": [
    "data['Exited'].value_counts()"
   ]
  },
  {
   "cell_type": "markdown",
   "metadata": {},
   "source": [
    "Обратим здесь внимание на результаты рассмотрения целевого признака - элементов одного класса в четыре раза меньше, чем другого. Наблюдается явный дисбаланс классов. Учтем его на определенной стадии нашей работы."
   ]
  },
  {
   "cell_type": "markdown",
   "metadata": {},
   "source": [
    "И последний столбец - с предполагаемой зарплатой (с Tenure мы будем работать отдельно)."
   ]
  },
  {
   "cell_type": "code",
   "execution_count": 20,
   "metadata": {},
   "outputs": [
    {
     "data": {
      "text/plain": [
       "count     10000.000000\n",
       "mean     100090.239881\n",
       "std       57510.492818\n",
       "min          11.580000\n",
       "25%       51002.110000\n",
       "50%      100193.915000\n",
       "75%      149388.247500\n",
       "max      199992.480000\n",
       "Name: EstimatedSalary, dtype: float64"
      ]
     },
     "execution_count": 20,
     "metadata": {},
     "output_type": "execute_result"
    }
   ],
   "source": [
    "data['EstimatedSalary'].describe()"
   ]
  },
  {
   "cell_type": "code",
   "execution_count": 21,
   "metadata": {},
   "outputs": [
    {
     "data": {
      "image/png": "[encoded data removed]",
      "text/plain": [
       "<Figure size 432x288 with 1 Axes>"
      ]
     },
     "metadata": {
      "needs_background": "light"
     },
     "output_type": "display_data"
    }
   ],
   "source": [
    "data['EstimatedSalary'].plot(kind='hist', grid=True, density=True, bins=20)\n",
    "plt.xlabel('Предполагаемая ЗП')\n",
    "plt.ylabel('Частота в выборке')\n",
    "plt.title('Распределение предполагаемой ЗП объектов в выборке')\n",
    "plt.show()"
   ]
  },
  {
   "cell_type": "markdown",
   "metadata": {},
   "source": [
    "Интересно - распределение равномерное. Явные аномалии отсутствуют."
   ]
  },
  {
   "cell_type": "markdown",
   "metadata": {},
   "source": [
    "*Промежуточный вывод:* наши признаки выглядят хорошо, для обучениия модели их придется лишь слегка подготовить."
   ]
  },
  {
   "cell_type": "markdown",
   "metadata": {},
   "source": [
    "**One Hot Encoding**"
   ]
  },
  {
   "cell_type": "markdown",
   "metadata": {},
   "source": [
    "Теперь решим вопрос с категориальными признаками."
   ]
  },
  {
   "cell_type": "markdown",
   "metadata": {},
   "source": [
    "Посмотрим, сколько признаков у нас являются категориальными. "
   ]
  },
  {
   "cell_type": "code",
   "execution_count": 22,
   "metadata": {
    "scrolled": true
   },
   "outputs": [
    {
     "name": "stdout",
     "output_type": "stream",
     "text": [
      "<class 'pandas.core.frame.DataFrame'>\n",
      "RangeIndex: 10000 entries, 0 to 9999\n",
      "Data columns (total 11 columns):\n",
      "CreditScore        10000 non-null int64\n",
      "Geography          10000 non-null object\n",
      "Gender             10000 non-null object\n",
      "Age                10000 non-null int64\n",
      "Tenure             9091 non-null float64\n",
      "Balance            10000 non-null float64\n",
      "NumOfProducts      10000 non-null int64\n",
      "HasCrCard          10000 non-null int64\n",
      "IsActiveMember     10000 non-null int64\n",
      "EstimatedSalary    10000 non-null float64\n",
      "Exited             10000 non-null int64\n",
      "dtypes: float64(3), int64(6), object(2)\n",
      "memory usage: 859.5+ KB\n"
     ]
    }
   ],
   "source": [
    "data.info()"
   ]
  },
  {
   "cell_type": "markdown",
   "metadata": {},
   "source": [
    "Такие признаки: Geography, Gender. Типы данных столбцов - object. Воспользуемся кодированием, чтобы преобразовать категориальные признаки. "
   ]
  },
  {
   "cell_type": "code",
   "execution_count": 23,
   "metadata": {},
   "outputs": [],
   "source": [
    "data = pd.get_dummies(data, drop_first=True)"
   ]
  },
  {
   "cell_type": "code",
   "execution_count": 24,
   "metadata": {},
   "outputs": [
    {
     "name": "stdout",
     "output_type": "stream",
     "text": [
      "<class 'pandas.core.frame.DataFrame'>\n",
      "RangeIndex: 10000 entries, 0 to 9999\n",
      "Data columns (total 12 columns):\n",
      "CreditScore          10000 non-null int64\n",
      "Age                  10000 non-null int64\n",
      "Tenure               9091 non-null float64\n",
      "Balance              10000 non-null float64\n",
      "NumOfProducts        10000 non-null int64\n",
      "HasCrCard            10000 non-null int64\n",
      "IsActiveMember       10000 non-null int64\n",
      "EstimatedSalary      10000 non-null float64\n",
      "Exited               10000 non-null int64\n",
      "Geography_Germany    10000 non-null uint8\n",
      "Geography_Spain      10000 non-null uint8\n",
      "Gender_Male          10000 non-null uint8\n",
      "dtypes: float64(3), int64(6), uint8(3)\n",
      "memory usage: 732.5 KB\n"
     ]
    }
   ],
   "source": [
    "data.info()"
   ]
  },
  {
   "cell_type": "markdown",
   "metadata": {},
   "source": [
    "Получилось."
   ]
  },
  {
   "cell_type": "markdown",
   "metadata": {},
   "source": [
    "**Обработка пропусков**"
   ]
  },
  {
   "cell_type": "markdown",
   "metadata": {},
   "source": [
    "Далее - нам следует разобраться с пропусками в столбце Tenure. Построим гистограмму для столбца, посчитаем среднее и медиану."
   ]
  },
  {
   "cell_type": "code",
   "execution_count": 25,
   "metadata": {},
   "outputs": [
    {
     "data": {
      "image/png": "[encoded data removed]",
      "text/plain": [
       "<Figure size 432x288 with 1 Axes>"
      ]
     },
     "metadata": {
      "needs_background": "light"
     },
     "output_type": "display_data"
    }
   ],
   "source": [
    "data['Tenure'].plot( kind = 'hist', bins =11, grid=True, density=True)\n",
    "plt.xlabel('Количество недвижимости')\n",
    "plt.ylabel('Частота в выборке')\n",
    "plt.title('Распределение количества недвижимости в выборке')\n",
    "plt.show()"
   ]
  },
  {
   "cell_type": "code",
   "execution_count": 26,
   "metadata": {
    "scrolled": true
   },
   "outputs": [
    {
     "data": {
      "text/plain": [
       "5.0"
      ]
     },
     "execution_count": 26,
     "metadata": {},
     "output_type": "execute_result"
    }
   ],
   "source": [
    "data['Tenure'].median()"
   ]
  },
  {
   "cell_type": "code",
   "execution_count": 27,
   "metadata": {},
   "outputs": [
    {
     "data": {
      "text/plain": [
       "4.997690023099769"
      ]
     },
     "execution_count": 27,
     "metadata": {},
     "output_type": "execute_result"
    }
   ],
   "source": [
    "data['Tenure'].mean()"
   ]
  },
  {
   "cell_type": "markdown",
   "metadata": {},
   "source": [
    "Что можно сказать? Если не брать во внимание крайние случаи - 0 и 10 недвижимости, то распределение признака - равномерное. Заполним пропуски медианой. Но перед этим - еще один момент."
   ]
  },
  {
   "cell_type": "markdown",
   "metadata": {},
   "source": [
    "Попробуем по-другому: в жизни количество недвижимости зависит от зарплаты по простому закону (часто) - чем выше ЗП, тем больше у тебя денег и недвижимости. Посмотрим на коэффициенты корелляции. Заодно просмотрим наши признаки на предмет мультиколлинеарности."
   ]
  },
  {
   "cell_type": "code",
   "execution_count": 28,
   "metadata": {},
   "outputs": [
    {
     "data": {
      "text/html": [
       "<div>\n",
       "<style scoped>\n",
       "    .dataframe tbody tr th:only-of-type {\n",
       "        vertical-align: middle;\n",
       "    }\n",
       "\n",
       "    .dataframe tbody tr th {\n",
       "        vertical-align: top;\n",
       "    }\n",
       "\n",
       "    .dataframe thead th {\n",
       "        text-align: right;\n",
       "    }\n",
       "</style>\n",
       "<table border=\"1\" class=\"dataframe\">\n",
       "  <thead>\n",
       "    <tr style=\"text-align: right;\">\n",
       "      <th></th>\n",
       "      <th>CreditScore</th>\n",
       "      <th>Age</th>\n",
       "      <th>Tenure</th>\n",
       "      <th>Balance</th>\n",
       "      <th>NumOfProducts</th>\n",
       "      <th>HasCrCard</th>\n",
       "      <th>IsActiveMember</th>\n",
       "      <th>EstimatedSalary</th>\n",
       "      <th>Exited</th>\n",
       "      <th>Geography_Germany</th>\n",
       "      <th>Geography_Spain</th>\n",
       "      <th>Gender_Male</th>\n",
       "    </tr>\n",
       "  </thead>\n",
       "  <tbody>\n",
       "    <tr>\n",
       "      <td>CreditScore</td>\n",
       "      <td>1.000000</td>\n",
       "      <td>-0.003965</td>\n",
       "      <td>-0.000062</td>\n",
       "      <td>0.006268</td>\n",
       "      <td>0.012238</td>\n",
       "      <td>-0.005458</td>\n",
       "      <td>0.025651</td>\n",
       "      <td>-0.001384</td>\n",
       "      <td>-0.027094</td>\n",
       "      <td>0.005538</td>\n",
       "      <td>0.004780</td>\n",
       "      <td>-0.002857</td>\n",
       "    </tr>\n",
       "    <tr>\n",
       "      <td>Age</td>\n",
       "      <td>-0.003965</td>\n",
       "      <td>1.000000</td>\n",
       "      <td>-0.013134</td>\n",
       "      <td>0.028308</td>\n",
       "      <td>-0.030680</td>\n",
       "      <td>-0.011721</td>\n",
       "      <td>0.085472</td>\n",
       "      <td>-0.007201</td>\n",
       "      <td>0.285323</td>\n",
       "      <td>0.046897</td>\n",
       "      <td>-0.001685</td>\n",
       "      <td>-0.027544</td>\n",
       "    </tr>\n",
       "    <tr>\n",
       "      <td>Tenure</td>\n",
       "      <td>-0.000062</td>\n",
       "      <td>-0.013134</td>\n",
       "      <td>1.000000</td>\n",
       "      <td>-0.007911</td>\n",
       "      <td>0.011979</td>\n",
       "      <td>0.027232</td>\n",
       "      <td>-0.032178</td>\n",
       "      <td>0.010520</td>\n",
       "      <td>-0.016761</td>\n",
       "      <td>-0.003299</td>\n",
       "      <td>0.000810</td>\n",
       "      <td>0.012634</td>\n",
       "    </tr>\n",
       "    <tr>\n",
       "      <td>Balance</td>\n",
       "      <td>0.006268</td>\n",
       "      <td>0.028308</td>\n",
       "      <td>-0.007911</td>\n",
       "      <td>1.000000</td>\n",
       "      <td>-0.304180</td>\n",
       "      <td>-0.014858</td>\n",
       "      <td>-0.010084</td>\n",
       "      <td>0.012797</td>\n",
       "      <td>0.118533</td>\n",
       "      <td>0.401110</td>\n",
       "      <td>-0.134892</td>\n",
       "      <td>0.012087</td>\n",
       "    </tr>\n",
       "    <tr>\n",
       "      <td>NumOfProducts</td>\n",
       "      <td>0.012238</td>\n",
       "      <td>-0.030680</td>\n",
       "      <td>0.011979</td>\n",
       "      <td>-0.304180</td>\n",
       "      <td>1.000000</td>\n",
       "      <td>0.003183</td>\n",
       "      <td>0.009612</td>\n",
       "      <td>0.014204</td>\n",
       "      <td>-0.047820</td>\n",
       "      <td>-0.010419</td>\n",
       "      <td>0.009039</td>\n",
       "      <td>-0.021859</td>\n",
       "    </tr>\n",
       "    <tr>\n",
       "      <td>HasCrCard</td>\n",
       "      <td>-0.005458</td>\n",
       "      <td>-0.011721</td>\n",
       "      <td>0.027232</td>\n",
       "      <td>-0.014858</td>\n",
       "      <td>0.003183</td>\n",
       "      <td>1.000000</td>\n",
       "      <td>-0.011866</td>\n",
       "      <td>-0.009933</td>\n",
       "      <td>-0.007138</td>\n",
       "      <td>0.010577</td>\n",
       "      <td>-0.013480</td>\n",
       "      <td>0.005766</td>\n",
       "    </tr>\n",
       "    <tr>\n",
       "      <td>IsActiveMember</td>\n",
       "      <td>0.025651</td>\n",
       "      <td>0.085472</td>\n",
       "      <td>-0.032178</td>\n",
       "      <td>-0.010084</td>\n",
       "      <td>0.009612</td>\n",
       "      <td>-0.011866</td>\n",
       "      <td>1.000000</td>\n",
       "      <td>-0.011421</td>\n",
       "      <td>-0.156128</td>\n",
       "      <td>-0.020486</td>\n",
       "      <td>0.016732</td>\n",
       "      <td>0.022544</td>\n",
       "    </tr>\n",
       "    <tr>\n",
       "      <td>EstimatedSalary</td>\n",
       "      <td>-0.001384</td>\n",
       "      <td>-0.007201</td>\n",
       "      <td>0.010520</td>\n",
       "      <td>0.012797</td>\n",
       "      <td>0.014204</td>\n",
       "      <td>-0.009933</td>\n",
       "      <td>-0.011421</td>\n",
       "      <td>1.000000</td>\n",
       "      <td>0.012097</td>\n",
       "      <td>0.010297</td>\n",
       "      <td>-0.006482</td>\n",
       "      <td>-0.008112</td>\n",
       "    </tr>\n",
       "    <tr>\n",
       "      <td>Exited</td>\n",
       "      <td>-0.027094</td>\n",
       "      <td>0.285323</td>\n",
       "      <td>-0.016761</td>\n",
       "      <td>0.118533</td>\n",
       "      <td>-0.047820</td>\n",
       "      <td>-0.007138</td>\n",
       "      <td>-0.156128</td>\n",
       "      <td>0.012097</td>\n",
       "      <td>1.000000</td>\n",
       "      <td>0.173488</td>\n",
       "      <td>-0.052667</td>\n",
       "      <td>-0.106512</td>\n",
       "    </tr>\n",
       "    <tr>\n",
       "      <td>Geography_Germany</td>\n",
       "      <td>0.005538</td>\n",
       "      <td>0.046897</td>\n",
       "      <td>-0.003299</td>\n",
       "      <td>0.401110</td>\n",
       "      <td>-0.010419</td>\n",
       "      <td>0.010577</td>\n",
       "      <td>-0.020486</td>\n",
       "      <td>0.010297</td>\n",
       "      <td>0.173488</td>\n",
       "      <td>1.000000</td>\n",
       "      <td>-0.332084</td>\n",
       "      <td>-0.024628</td>\n",
       "    </tr>\n",
       "    <tr>\n",
       "      <td>Geography_Spain</td>\n",
       "      <td>0.004780</td>\n",
       "      <td>-0.001685</td>\n",
       "      <td>0.000810</td>\n",
       "      <td>-0.134892</td>\n",
       "      <td>0.009039</td>\n",
       "      <td>-0.013480</td>\n",
       "      <td>0.016732</td>\n",
       "      <td>-0.006482</td>\n",
       "      <td>-0.052667</td>\n",
       "      <td>-0.332084</td>\n",
       "      <td>1.000000</td>\n",
       "      <td>0.016889</td>\n",
       "    </tr>\n",
       "    <tr>\n",
       "      <td>Gender_Male</td>\n",
       "      <td>-0.002857</td>\n",
       "      <td>-0.027544</td>\n",
       "      <td>0.012634</td>\n",
       "      <td>0.012087</td>\n",
       "      <td>-0.021859</td>\n",
       "      <td>0.005766</td>\n",
       "      <td>0.022544</td>\n",
       "      <td>-0.008112</td>\n",
       "      <td>-0.106512</td>\n",
       "      <td>-0.024628</td>\n",
       "      <td>0.016889</td>\n",
       "      <td>1.000000</td>\n",
       "    </tr>\n",
       "  </tbody>\n",
       "</table>\n",
       "</div>"
      ],
      "text/plain": [
       "                   CreditScore       Age    Tenure   Balance  NumOfProducts  \\\n",
       "CreditScore           1.000000 -0.003965 -0.000062  0.006268       0.012238   \n",
       "Age                  -0.003965  1.000000 -0.013134  0.028308      -0.030680   \n",
       "Tenure               -0.000062 -0.013134  1.000000 -0.007911       0.011979   \n",
       "Balance               0.006268  0.028308 -0.007911  1.000000      -0.304180   \n",
       "NumOfProducts         0.012238 -0.030680  0.011979 -0.304180       1.000000   \n",
       "HasCrCard            -0.005458 -0.011721  0.027232 -0.014858       0.003183   \n",
       "IsActiveMember        0.025651  0.085472 -0.032178 -0.010084       0.009612   \n",
       "EstimatedSalary      -0.001384 -0.007201  0.010520  0.012797       0.014204   \n",
       "Exited               -0.027094  0.285323 -0.016761  0.118533      -0.047820   \n",
       "Geography_Germany     0.005538  0.046897 -0.003299  0.401110      -0.010419   \n",
       "Geography_Spain       0.004780 -0.001685  0.000810 -0.134892       0.009039   \n",
       "Gender_Male          -0.002857 -0.027544  0.012634  0.012087      -0.021859   \n",
       "\n",
       "                   HasCrCard  IsActiveMember  EstimatedSalary    Exited  \\\n",
       "CreditScore        -0.005458        0.025651        -0.001384 -0.027094   \n",
       "Age                -0.011721        0.085472        -0.007201  0.285323   \n",
       "Tenure              0.027232       -0.032178         0.010520 -0.016761   \n",
       "Balance            -0.014858       -0.010084         0.012797  0.118533   \n",
       "NumOfProducts       0.003183        0.009612         0.014204 -0.047820   \n",
       "HasCrCard           1.000000       -0.011866        -0.009933 -0.007138   \n",
       "IsActiveMember     -0.011866        1.000000        -0.011421 -0.156128   \n",
       "EstimatedSalary    -0.009933       -0.011421         1.000000  0.012097   \n",
       "Exited             -0.007138       -0.156128         0.012097  1.000000   \n",
       "Geography_Germany   0.010577       -0.020486         0.010297  0.173488   \n",
       "Geography_Spain    -0.013480        0.016732        -0.006482 -0.052667   \n",
       "Gender_Male         0.005766        0.022544        -0.008112 -0.106512   \n",
       "\n",
       "                   Geography_Germany  Geography_Spain  Gender_Male  \n",
       "CreditScore                 0.005538         0.004780    -0.002857  \n",
       "Age                         0.046897        -0.001685    -0.027544  \n",
       "Tenure                     -0.003299         0.000810     0.012634  \n",
       "Balance                     0.401110        -0.134892     0.012087  \n",
       "NumOfProducts              -0.010419         0.009039    -0.021859  \n",
       "HasCrCard                   0.010577        -0.013480     0.005766  \n",
       "IsActiveMember             -0.020486         0.016732     0.022544  \n",
       "EstimatedSalary             0.010297        -0.006482    -0.008112  \n",
       "Exited                      0.173488        -0.052667    -0.106512  \n",
       "Geography_Germany           1.000000        -0.332084    -0.024628  \n",
       "Geography_Spain            -0.332084         1.000000     0.016889  \n",
       "Gender_Male                -0.024628         0.016889     1.000000  "
      ]
     },
     "execution_count": 28,
     "metadata": {},
     "output_type": "execute_result"
    }
   ],
   "source": [
    "data.corr()"
   ]
  },
  {
   "cell_type": "markdown",
   "metadata": {},
   "source": [
    "Мимо. Оставлять пропуски плохая идея, удалить десятую часть столбца мы не можем. Вернемся к идее заполнения цифрой 5. "
   ]
  },
  {
   "cell_type": "code",
   "execution_count": 29,
   "metadata": {},
   "outputs": [],
   "source": [
    "data = data.fillna(5)"
   ]
  },
  {
   "cell_type": "markdown",
   "metadata": {},
   "source": [
    "**Разбиение на выборки**"
   ]
  },
  {
   "cell_type": "markdown",
   "metadata": {},
   "source": [
    "Пора разбить наш датафрейм на: 1)целевой признак и остальные признаки, 2)на обучающую, валидационную и тестовую выборки."
   ]
  },
  {
   "cell_type": "markdown",
   "metadata": {},
   "source": [
    "Делим раз."
   ]
  },
  {
   "cell_type": "code",
   "execution_count": 30,
   "metadata": {},
   "outputs": [],
   "source": [
    "target = data['Exited']\n",
    "features = data.drop(columns = ['Exited'])"
   ]
  },
  {
   "cell_type": "markdown",
   "metadata": {},
   "source": [
    "Делим два. Соотношение будет следующее - 6:2:2 как обучающая:валидационная:тестовая. "
   ]
  },
  {
   "cell_type": "code",
   "execution_count": 31,
   "metadata": {},
   "outputs": [],
   "source": [
    "feat_train, feat_validtest, target_train, target_validtest = train_test_split(features, target, test_size=0.4, \n",
    "                                                                             random_state=12345, stratify=target)"
   ]
  },
  {
   "cell_type": "code",
   "execution_count": 32,
   "metadata": {},
   "outputs": [],
   "source": [
    "feat_valid, feat_test, target_valid, target_test = train_test_split(feat_validtest, target_validtest, test_size=0.5,\n",
    "                                                                  random_state=12345, stratify=target_validtest)"
   ]
  },
  {
   "cell_type": "markdown",
   "metadata": {},
   "source": [
    "*Промежуточный вывод*: получили 6 датафреймов: "
   ]
  },
  {
   "cell_type": "markdown",
   "metadata": {},
   "source": [
    "    feat_train и target_train - обучающая выборка\n",
    "    feat_valid и target_valid - валидационная выборка\n",
    "    feat_test и target_test - тестовая выборка"
   ]
  },
  {
   "cell_type": "markdown",
   "metadata": {},
   "source": [
    "**Вывод по Шагу 2:** на данном Шаге мы проделали важный этап работы - во-первых, мы изучили наши признаки, в том числе - целевой, обнаружили отсутствие аномалий и явный дисбаланс классов, во-вторых, мы преобразовали категориальный признаки в числовые и избавились от пропусков - все это позволит нам построить нашу модель, в-третьих, мы разделили наши данные на выборки."
   ]
  },
  {
   "cell_type": "markdown",
   "metadata": {},
   "source": [
    "На этом моменте пути расходятся. Нам осталось данные стандартизировать, но выборки будут разные (для обучения и, следовательно, стандартизации) в случаях учета дисбаланса классов и неучета. Не будем пока что ничего учитывать. Сделаем вид, что в целевом признаке поровну элементов обоих типов."
   ]
  },
  {
   "cell_type": "markdown",
   "metadata": {},
   "source": [
    "<h3>Шаг 3: Построение моделей без учета дисбаланса классов</h3>\n",
    "<a id='notbalanced'></a>"
   ]
  },
  {
   "cell_type": "markdown",
   "metadata": {},
   "source": [
    "Итак, мы приступаем к построению модели без учета дисбаланса классов. Сценарий следующий: стандартизируем данные, обучим несколько моделей, посмотрим на их метрики качества и выберем лучшие."
   ]
  },
  {
   "cell_type": "markdown",
   "metadata": {},
   "source": [
    "**Стандартизация**"
   ]
  },
  {
   "cell_type": "markdown",
   "metadata": {},
   "source": [
    "Как известно, разный масштаб данных может сыграть плохую шутку с моделью. Стандартизируем наши данные. "
   ]
  },
  {
   "cell_type": "code",
   "execution_count": 33,
   "metadata": {},
   "outputs": [],
   "source": [
    "scaler = StandardScaler()"
   ]
  },
  {
   "cell_type": "markdown",
   "metadata": {},
   "source": [
    "Обучим стандартизатор и сразу применим его для трех выборок с признаками."
   ]
  },
  {
   "cell_type": "code",
   "execution_count": 34,
   "metadata": {},
   "outputs": [
    {
     "data": {
      "text/plain": [
       "StandardScaler(copy=True, with_mean=True, with_std=True)"
      ]
     },
     "execution_count": 34,
     "metadata": {},
     "output_type": "execute_result"
    }
   ],
   "source": [
    "scaler.fit(feat_train)"
   ]
  },
  {
   "cell_type": "code",
   "execution_count": 35,
   "metadata": {},
   "outputs": [],
   "source": [
    "feat_train_1 = scaler.transform(feat_train)\n",
    "feat_valid_1 = scaler.transform(feat_valid)\n",
    "feat_test_1 = scaler.transform(feat_test)"
   ]
  },
  {
   "cell_type": "markdown",
   "metadata": {},
   "source": [
    "Готово. Теперь модели."
   ]
  },
  {
   "cell_type": "markdown",
   "metadata": {},
   "source": [
    "**Обучение моделей и выбор лучших**"
   ]
  },
  {
   "cell_type": "markdown",
   "metadata": {},
   "source": [
    "В данный работе рассмотрим: логистическую регрессию, случайный лес и метод k ближайших соседей. Для каждого алгоритма будем менять гиперпараметры (там, где это возможно, естественно) и искать лидера по метрике f1. Так, к концу подраздела должно быть 3 модели - лучшие среди других моделей - своих собратьев, обученных тем же алгоритмом. С этими тремя мы затем разберемся подробнее."
   ]
  },
  {
   "cell_type": "markdown",
   "metadata": {},
   "source": [
    "**Случайный лес**"
   ]
  },
  {
   "cell_type": "markdown",
   "metadata": {},
   "source": [
    "Выберем лучший случайный лес. Подберем лучшую максимальную глубину - от 5 до 20 и лучшее количество деревьев - от 10 до 80 - с шагом 10. "
   ]
  },
  {
   "cell_type": "markdown",
   "metadata": {},
   "source": [
    "Мы напишем для этого функцию. Она нам еще не раз пригодится. "
   ]
  },
  {
   "cell_type": "markdown",
   "metadata": {},
   "source": [
    "Функция получает на вход значение гиперпараметра class_weight (пригодится в дальнейшем), обучающую выборку и валидационную (но без целевого признака, т.к. данный объект не будет меняться на протяжении всего процесса). Функция возращает лучшую модель и её значение метрики f1."
   ]
  },
  {
   "cell_type": "code",
   "execution_count": 36,
   "metadata": {},
   "outputs": [],
   "source": [
    "def bestRandomForest(class_w, feat_train, target_train, feat_valid):\n",
    "    global target_valid\n",
    "    best_f1 = 0\n",
    "    best_depth = 0\n",
    "    best_n = 0\n",
    "    for i in range(5,21):\n",
    "        for j in range(10,81,10):\n",
    "            best_forest_1 = RandomForestClassifier(n_estimators=j, max_depth=i, random_state=12345, class_weight=class_w)\n",
    "            best_forest_1.fit(feat_train, target_train)\n",
    "            predicted = best_forest_1.predict(feat_valid)\n",
    "            f1 = f1_score(target_valid, predicted)\n",
    "            if f1>best_f1:\n",
    "                best_f1 = f1\n",
    "                best_depth = i\n",
    "                best_n = j\n",
    "    best_forest_1 = RandomForestClassifier(n_estimators=best_n, max_depth=best_depth, random_state=12345, class_weight=class_w)\n",
    "    best_forest_1.fit(feat_train, target_train)\n",
    "    return best_forest_1, best_f1"
   ]
  },
  {
   "cell_type": "code",
   "execution_count": 37,
   "metadata": {},
   "outputs": [],
   "source": [
    "best_forest_1, best_f1 = bestRandomForest(None, feat_train_1, target_train, feat_valid_1)"
   ]
  },
  {
   "cell_type": "markdown",
   "metadata": {},
   "source": [
    "Мы обнаружили лучший случайный лес. Посмотрим на его f1, значения гиперпараметров."
   ]
  },
  {
   "cell_type": "code",
   "execution_count": 38,
   "metadata": {},
   "outputs": [
    {
     "data": {
      "text/plain": [
       "'F1 лучшего случайного леса: 0.63'"
      ]
     },
     "execution_count": 38,
     "metadata": {},
     "output_type": "execute_result"
    }
   ],
   "source": [
    "'F1 лучшего случайного леса: {:.2}'.format(best_f1)"
   ]
  },
  {
   "cell_type": "code",
   "execution_count": 39,
   "metadata": {},
   "outputs": [
    {
     "data": {
      "text/plain": [
       "RandomForestClassifier(bootstrap=True, class_weight=None, criterion='gini',\n",
       "                       max_depth=15, max_features='auto', max_leaf_nodes=None,\n",
       "                       min_impurity_decrease=0.0, min_impurity_split=None,\n",
       "                       min_samples_leaf=1, min_samples_split=2,\n",
       "                       min_weight_fraction_leaf=0.0, n_estimators=60,\n",
       "                       n_jobs=None, oob_score=False, random_state=12345,\n",
       "                       verbose=0, warm_start=False)"
      ]
     },
     "execution_count": 39,
     "metadata": {},
     "output_type": "execute_result"
    }
   ],
   "source": [
    "best_forest_1"
   ]
  },
  {
   "cell_type": "markdown",
   "metadata": {},
   "source": [
    "Количество деревьев - 60, максимальная глубина - 15. Теперь посчитаем и другие метрики: accuracy, recall, presicion, ROC-AUC, также - построим ROC-кривую."
   ]
  },
  {
   "cell_type": "markdown",
   "metadata": {},
   "source": [
    "Здесь мы напишем еще две функции - одну для ROC-кривой, вторую - для параметров."
   ]
  },
  {
   "cell_type": "code",
   "execution_count": 40,
   "metadata": {},
   "outputs": [],
   "source": [
    "def rocLine(model, feat_valid, name):\n",
    "    global target_valid\n",
    "    fpr, tpr, thresholds = roc_curve(target_valid, model.predict_proba(feat_valid)[:,1])\n",
    "    plt.plot([0, 1], [0, 1], linestyle='--')\n",
    "    plt.plot(fpr, tpr)\n",
    "    plt.xlabel(\"False Positive Rate\")\n",
    "    plt.ylabel(\"True Positive Rate\")\n",
    "    plt.title(\"ROC-кривая \" + name)\n",
    "    plt.show()"
   ]
  },
  {
   "cell_type": "code",
   "execution_count": 41,
   "metadata": {},
   "outputs": [],
   "source": [
    "def metrics(model, feat_valid, name):\n",
    "    global target_valid\n",
    "    roc_auc = roc_auc_score(target_valid, model.predict_proba(feat_valid)[:,1])\n",
    "    print('Roc-auc {}: {:.2}'.format(name, roc_auc))\n",
    "    print('Accuracy {}: {:.2}'.format(name, accuracy_score(target_valid, model.predict(feat_valid))))\n",
    "    print('Precision {}: {:.2}'.format(name, precision_score(target_valid, model.predict(feat_valid))))\n",
    "    print('Recall {}: {:.2}'.format(name, recall_score(target_valid, model.predict(feat_valid))))"
   ]
  },
  {
   "cell_type": "code",
   "execution_count": 42,
   "metadata": {},
   "outputs": [
    {
     "data": {
      "image/png": "[encoded data removed]",
      "text/plain": [
       "<Figure size 432x288 with 1 Axes>"
      ]
     },
     "metadata": {
      "needs_background": "light"
     },
     "output_type": "display_data"
    }
   ],
   "source": [
    "rocLine(best_forest_1, feat_valid_1, 'случайного леса')"
   ]
  },
  {
   "cell_type": "code",
   "execution_count": 43,
   "metadata": {},
   "outputs": [
    {
     "name": "stdout",
     "output_type": "stream",
     "text": [
      "Roc-auc случайного леса: 0.86\n",
      "Accuracy случайного леса: 0.87\n",
      "Precision случайного леса: 0.79\n",
      "Recall случайного леса: 0.52\n"
     ]
    }
   ],
   "source": [
    "metrics(best_forest_1, feat_valid_1, 'случайного леса')"
   ]
  },
  {
   "cell_type": "markdown",
   "metadata": {},
   "source": [
    "Сделаем некоторые выводы по полученным значениям."
   ]
  },
  {
   "cell_type": "markdown",
   "metadata": {},
   "source": [
    "Итак, у данной модели показатель f1 это 0.63, также мы увидели, что разница между полнотой и точностью почти 0.3 - если модель предсказывает единицу, то так оно и есть - чаще всего, но при этом, видит далеко не все принадлежности к положительному классу - только половину. При этом доля правильных ответов составляет - 0.87. Вспомним, что у нас дисбаланс классов - значений одного в 4 раза больше, то есть соотношение 4:1, если бы мы называли все наши объекты принадлежащими к большему классу, то получили бы accuracy  примерно 0.8, то есть выиграли у dummy-модели мы не сильно много. "
   ]
  },
  {
   "cell_type": "markdown",
   "metadata": {},
   "source": [
    "Наша ROC-кривая весьма высока, да и сам показатель ROC-AUC не мал - составляет 0.86, что выше показателя случайной модели на 0.36."
   ]
  },
  {
   "cell_type": "markdown",
   "metadata": {},
   "source": [
    "**Логистическая регрессия**"
   ]
  },
  {
   "cell_type": "markdown",
   "metadata": {},
   "source": [
    "Займемся логистической регрессией."
   ]
  },
  {
   "cell_type": "code",
   "execution_count": 44,
   "metadata": {},
   "outputs": [
    {
     "data": {
      "text/plain": [
       "'F1 логистической регрессии: 0.31'"
      ]
     },
     "execution_count": 44,
     "metadata": {},
     "output_type": "execute_result"
    }
   ],
   "source": [
    "best_log_1 = LogisticRegression(solver='liblinear', random_state=12345)\n",
    "best_log_1.fit(feat_train_1, target_train)\n",
    "predicted = best_log_1.predict(feat_valid_1)\n",
    "'F1 логистической регрессии: {:.2}'.format(f1_score(target_valid, predicted))"
   ]
  },
  {
   "cell_type": "markdown",
   "metadata": {},
   "source": [
    "Показатель в два раза ниже, чем у случайного леса. Посмотрим на остальные метрики, аналогично предыдущему подпункту - построим ROC-кривую."
   ]
  },
  {
   "cell_type": "code",
   "execution_count": 45,
   "metadata": {},
   "outputs": [
    {
     "data": {
      "image/png": "[encoded data removed]",
      "text/plain": [
       "<Figure size 432x288 with 1 Axes>"
      ]
     },
     "metadata": {
      "needs_background": "light"
     },
     "output_type": "display_data"
    }
   ],
   "source": [
    "rocLine(best_log_1, feat_valid_1, 'логистической регрессии')"
   ]
  },
  {
   "cell_type": "code",
   "execution_count": 46,
   "metadata": {},
   "outputs": [
    {
     "name": "stdout",
     "output_type": "stream",
     "text": [
      "Roc-auc логистической регрессии: 0.79\n",
      "Accuracy логистической регрессии: 0.81\n",
      "Precision логистической регрессии: 0.61\n",
      "Recall логистической регрессии: 0.21\n"
     ]
    }
   ],
   "source": [
    "metrics(best_log_1, feat_valid_1, 'логистической регрессии')"
   ]
  },
  {
   "cell_type": "markdown",
   "metadata": {},
   "source": [
    "Посмотрим на ROC-кривую. Заметно, что она ниже, чем та, что построена для случайного леса. Roc-auc соответствует - тоже ниже, но выше, чем у случайной модели. Остальные метрики упали. Предыдущая модель была неважной, а эта еще хуже: доля правильных ответов совсем как у dummy-модели, полнота говорит о том, что модель классифицирует единицей только 20 процентов от объектов, действительно принадлежащих этому классу. Значение ключевой метрики f1 также не соотвествует требованиям. "
   ]
  },
  {
   "cell_type": "markdown",
   "metadata": {},
   "source": [
    "**Метод k ближайших соседей**"
   ]
  },
  {
   "cell_type": "markdown",
   "metadata": {},
   "source": [
    "Теперь выберем лучшую модель, обученную алгоритмом k ближайших соседей. Переберем количество соседей от 3 до 15."
   ]
  },
  {
   "cell_type": "markdown",
   "metadata": {},
   "source": [
    "Аналогично случайному лесу - создадим функцию. Она возвращает лучшую модель и значение f1."
   ]
  },
  {
   "cell_type": "code",
   "execution_count": 47,
   "metadata": {},
   "outputs": [],
   "source": [
    "def bestKNN(feat_train, target_train, feat_valid):\n",
    "    global target_valid\n",
    "    best_f1 = 0\n",
    "    best_k = 0\n",
    "    for i in range(3,16):\n",
    "        model = KNeighborsClassifier(n_neighbors=i)\n",
    "        model.fit(feat_train, target_train)\n",
    "        predicted = model.predict(feat_valid)\n",
    "        f1 = f1_score(target_valid, predicted)\n",
    "        if f1 > best_f1:\n",
    "            best_f1 = f1\n",
    "            best_k = i\n",
    "    model = KNeighborsClassifier(n_neighbors=best_k)\n",
    "    model.fit(feat_train, target_train)\n",
    "    return model, best_f1"
   ]
  },
  {
   "cell_type": "markdown",
   "metadata": {},
   "source": [
    "Мы обнаружили лучшую модель. Создадим ее, посмотрим на 'количество соседей' и f1."
   ]
  },
  {
   "cell_type": "code",
   "execution_count": 48,
   "metadata": {},
   "outputs": [
    {
     "data": {
      "text/plain": [
       "KNeighborsClassifier(algorithm='auto', leaf_size=30, metric='minkowski',\n",
       "                     metric_params=None, n_jobs=None, n_neighbors=3, p=2,\n",
       "                     weights='uniform')"
      ]
     },
     "execution_count": 48,
     "metadata": {},
     "output_type": "execute_result"
    }
   ],
   "source": [
    "best_knn_1, best_f1 = bestKNN(feat_train_1, target_train, feat_valid_1)\n",
    "best_knn_1"
   ]
  },
  {
   "cell_type": "markdown",
   "metadata": {},
   "source": [
    "Получили оптимальное 'количество соседей' - 3."
   ]
  },
  {
   "cell_type": "code",
   "execution_count": 49,
   "metadata": {},
   "outputs": [
    {
     "data": {
      "text/plain": [
       "'F1 лучшей knn-модели: 0.5'"
      ]
     },
     "execution_count": 49,
     "metadata": {},
     "output_type": "execute_result"
    }
   ],
   "source": [
    "'F1 лучшей knn-модели: {:.2}'.format(best_f1)"
   ]
  },
  {
   "cell_type": "markdown",
   "metadata": {},
   "source": [
    "Теперь остальные метрики и ROC-кривая."
   ]
  },
  {
   "cell_type": "code",
   "execution_count": 50,
   "metadata": {},
   "outputs": [
    {
     "data": {
      "image/png": "[encoded data removed]",
      "text/plain": [
       "<Figure size 432x288 with 1 Axes>"
      ]
     },
     "metadata": {
      "needs_background": "light"
     },
     "output_type": "display_data"
    }
   ],
   "source": [
    "rocLine(best_knn_1, feat_valid_1, 'knn-модели')"
   ]
  },
  {
   "cell_type": "code",
   "execution_count": 51,
   "metadata": {},
   "outputs": [
    {
     "name": "stdout",
     "output_type": "stream",
     "text": [
      "Roc-auc knn-модели: 0.74\n",
      "Accuracy knn-модели: 0.82\n",
      "Precision knn-модели: 0.58\n",
      "Recall knn-модели: 0.43\n"
     ]
    }
   ],
   "source": [
    "metrics(best_knn_1, feat_valid_1, 'knn-модели')"
   ]
  },
  {
   "cell_type": "markdown",
   "metadata": {},
   "source": [
    "Обратим внимание на следующий момент: ROC-кривая для этой модели ниже, чем для логистической регрессии, roc-auc тоже ниже, то есть качество модели - хуже, но при этом она выдает лучшее f1."
   ]
  },
  {
   "cell_type": "markdown",
   "metadata": {},
   "source": [
    "Показатели этой модели лучше, чем у логистической регресии, но хуже, чем у случайного леса. Accuracy близка к доле правильных ответов dummy-модели, как и у логистической регрессии, зато - recall вырос в два раза, но все равно - различать лишь 43 процентов от объектов класса - мало."
   ]
  },
  {
   "cell_type": "markdown",
   "metadata": {},
   "source": [
    "**Вывод по Шагу 3**: итак, мы сделали определенный объем работы - а именно: стандартизировали данные, а затем - обучили несколько моделей, используя три алгоритма обучения: случайный лес, логистическую регрессию, метод k ближайших соседей. Мы не учитывали дисбаланс классов. По каждому алгоритму выбрали по лучшей модели, ни одну из них нельзя со спокойной совестью назвать качественной. Разве что, случайный лес подает надежды - у него f1 = 0.63 и доля правильных ответов лучше, чем у  dummy-модели. "
   ]
  },
  {
   "cell_type": "markdown",
   "metadata": {},
   "source": [
    "<h3>Шаг 4: Построение моделей с учетом дисбаланса классов</h3>\n",
    "<a id='balanced'></a>"
   ]
  },
  {
   "cell_type": "markdown",
   "metadata": {},
   "source": [
    "На данном Шаге мы опробуем три метода борьбы с дисбалансом классов: взвешивание классов, upsampling и downsampling. В рамках каждого метода отберем три лучших модели - по одной на алгоритм. Это все займет Этапы 1, 2, 3."
   ]
  },
  {
   "cell_type": "markdown",
   "metadata": {},
   "source": [
    "**Этап 1: Работа с лучшими моделями со взвешиванием классов**"
   ]
  },
  {
   "cell_type": "markdown",
   "metadata": {},
   "source": [
    "*Случайный лес*"
   ]
  },
  {
   "cell_type": "markdown",
   "metadata": {},
   "source": [
    "Аналогично предыдущему шагу - выберем лучший случайный лес, перебирая значение максимальной глубины от 5 до 20, а количества деревьев - от 10 до 80 с шагом 10. Классы взвешиваем."
   ]
  },
  {
   "cell_type": "code",
   "execution_count": 52,
   "metadata": {},
   "outputs": [],
   "source": [
    "best_forest_20, best_f1 = bestRandomForest('balanced', feat_train_1, target_train, feat_valid_1)"
   ]
  },
  {
   "cell_type": "markdown",
   "metadata": {},
   "source": [
    "Нашли лучший случайный лес. Посмотрим на f1."
   ]
  },
  {
   "cell_type": "code",
   "execution_count": 53,
   "metadata": {},
   "outputs": [
    {
     "data": {
      "text/plain": [
       "'F1 лучшего случайного леса, веса классов для которого взвешены: 0.65'"
      ]
     },
     "execution_count": 53,
     "metadata": {},
     "output_type": "execute_result"
    }
   ],
   "source": [
    "'F1 лучшего случайного леса, веса классов для которого взвешены: {:.2}'.format(best_f1)"
   ]
  },
  {
   "cell_type": "markdown",
   "metadata": {},
   "source": [
    "Прогресс. Идем дальше, но перед этим - посмотрим на гиперпараметры."
   ]
  },
  {
   "cell_type": "code",
   "execution_count": 54,
   "metadata": {},
   "outputs": [
    {
     "data": {
      "text/plain": [
       "RandomForestClassifier(bootstrap=True, class_weight='balanced',\n",
       "                       criterion='gini', max_depth=9, max_features='auto',\n",
       "                       max_leaf_nodes=None, min_impurity_decrease=0.0,\n",
       "                       min_impurity_split=None, min_samples_leaf=1,\n",
       "                       min_samples_split=2, min_weight_fraction_leaf=0.0,\n",
       "                       n_estimators=30, n_jobs=None, oob_score=False,\n",
       "                       random_state=12345, verbose=0, warm_start=False)"
      ]
     },
     "execution_count": 54,
     "metadata": {},
     "output_type": "execute_result"
    }
   ],
   "source": [
    "best_forest_20"
   ]
  },
  {
   "cell_type": "markdown",
   "metadata": {},
   "source": [
    "Гиперпараметры отличаются от того леса, который получился без учета дисбаланса."
   ]
  },
  {
   "cell_type": "markdown",
   "metadata": {},
   "source": [
    "*Логистическая регрессия*"
   ]
  },
  {
   "cell_type": "markdown",
   "metadata": {},
   "source": [
    "Посмотрим, что получится. Для осуществления метода взвешивания классов передаем гиперпараметру class_weight значение balanced."
   ]
  },
  {
   "cell_type": "code",
   "execution_count": 55,
   "metadata": {},
   "outputs": [
    {
     "data": {
      "text/plain": [
       "'F1 логистической регрессии, веса классов для которой взвешены: 0.53'"
      ]
     },
     "execution_count": 55,
     "metadata": {},
     "output_type": "execute_result"
    }
   ],
   "source": [
    "best_log_20 = LogisticRegression(solver='liblinear', random_state=12345, class_weight='balanced')\n",
    "best_log_20.fit(feat_train_1, target_train)\n",
    "predicted = best_log_20.predict(feat_valid_1)\n",
    "'F1 логистической регрессии, веса классов для которой взвешены: {:.2}'.format(f1_score(target_valid, predicted))"
   ]
  },
  {
   "cell_type": "markdown",
   "metadata": {},
   "source": [
    "Значение метрики выросло. Было 0.31. Взвешивание классов помогло."
   ]
  },
  {
   "cell_type": "markdown",
   "metadata": {},
   "source": [
    "*Метод k ближайших соседей*"
   ]
  },
  {
   "cell_type": "markdown",
   "metadata": {},
   "source": [
    "У моделей данного алгоритма нет такого параметра, поэтому оставим в качестве лучшей модели - выбранную на предыдущем шаге - с тремя соседями."
   ]
  },
  {
   "cell_type": "code",
   "execution_count": 56,
   "metadata": {},
   "outputs": [
    {
     "data": {
      "text/plain": [
       "'F1 лучшей knn-модели: 0.5'"
      ]
     },
     "execution_count": 56,
     "metadata": {},
     "output_type": "execute_result"
    }
   ],
   "source": [
    "best_knn_20 = KNeighborsClassifier(n_neighbors=3)\n",
    "best_knn_20.fit(feat_train_1, target_train)\n",
    "'F1 лучшей knn-модели: {:.2}'.format(f1_score(target_valid, best_knn_20.predict(feat_valid_1)))"
   ]
  },
  {
   "cell_type": "markdown",
   "metadata": {},
   "source": [
    "*Вывод по этапу*: здесь стоит отметить два момента, во-первых, данный метод оказался эффективен - f1 выросла для случайного леса и логистической регрессии, во-вторых, у случайного леса поменялись гиперпараметры - удивительно."
   ]
  },
  {
   "cell_type": "markdown",
   "metadata": {},
   "source": [
    "**Этап 2: Upsampling**"
   ]
  },
  {
   "cell_type": "markdown",
   "metadata": {},
   "source": [
    "Мы опробовали взвешивание классов, сейчас будем использовать upsampling. Нам следует: поделить обучающую выборку ( не стандартизированную) на позитивные и негативные объекты, позитивных сделать в 4 раза больше, перемешать. Так мы получим новую обучающую выборку."
   ]
  },
  {
   "cell_type": "code",
   "execution_count": 57,
   "metadata": {},
   "outputs": [],
   "source": [
    "feat_zeros = feat_train[target_train == 0]\n",
    "feat_ones = feat_train[target_train == 1]\n",
    "target_zeros = target_train[target_train == 0]\n",
    "target_ones = target_train[target_train == 1]\n",
    "feat_train_21 = pd.concat([feat_zeros] + [feat_ones]*4)\n",
    "target_train_21 = pd.concat([target_zeros] + [target_ones]*4)\n",
    "feat_train_21, target_train_21 = shuffle(feat_train_21, target_train_21, random_state=12345)"
   ]
  },
  {
   "cell_type": "markdown",
   "metadata": {},
   "source": [
    "Посмотрим на соотношения."
   ]
  },
  {
   "cell_type": "code",
   "execution_count": 58,
   "metadata": {},
   "outputs": [
    {
     "data": {
      "text/plain": [
       "1    4888\n",
       "0    4778\n",
       "Name: Exited, dtype: int64"
      ]
     },
     "execution_count": 58,
     "metadata": {},
     "output_type": "execute_result"
    }
   ],
   "source": [
    "target_train_21.value_counts()"
   ]
  },
  {
   "cell_type": "markdown",
   "metadata": {},
   "source": [
    "Хорошо получилось, и объем выборки большой. Теперь заново стандартизируем."
   ]
  },
  {
   "cell_type": "code",
   "execution_count": 59,
   "metadata": {},
   "outputs": [],
   "source": [
    "scaler21 = StandardScaler()\n",
    "scaler21.fit(feat_train_21)\n",
    "feat_train_21 = scaler21.transform(feat_train_21)\n",
    "feat_valid_21 = scaler21.transform(feat_valid)\n",
    "feat_test_21 = scaler21.transform(feat_test)"
   ]
  },
  {
   "cell_type": "markdown",
   "metadata": {},
   "source": [
    "Можем обучать модели."
   ]
  },
  {
   "cell_type": "markdown",
   "metadata": {},
   "source": [
    "*Случайный лес*"
   ]
  },
  {
   "cell_type": "markdown",
   "metadata": {},
   "source": [
    "Попробуем разную глубину и количество деревьев."
   ]
  },
  {
   "cell_type": "code",
   "execution_count": 60,
   "metadata": {},
   "outputs": [],
   "source": [
    "best_forest_21, best_f1 = bestRandomForest(None, feat_train_21, target_train_21, feat_valid_21)"
   ]
  },
  {
   "cell_type": "markdown",
   "metadata": {},
   "source": [
    "Лучший вариант выбран. Посмотрим на гиперпараметры и f1."
   ]
  },
  {
   "cell_type": "code",
   "execution_count": 61,
   "metadata": {},
   "outputs": [
    {
     "data": {
      "text/plain": [
       "RandomForestClassifier(bootstrap=True, class_weight=None, criterion='gini',\n",
       "                       max_depth=10, max_features='auto', max_leaf_nodes=None,\n",
       "                       min_impurity_decrease=0.0, min_impurity_split=None,\n",
       "                       min_samples_leaf=1, min_samples_split=2,\n",
       "                       min_weight_fraction_leaf=0.0, n_estimators=30,\n",
       "                       n_jobs=None, oob_score=False, random_state=12345,\n",
       "                       verbose=0, warm_start=False)"
      ]
     },
     "execution_count": 61,
     "metadata": {},
     "output_type": "execute_result"
    }
   ],
   "source": [
    "best_forest_21 "
   ]
  },
  {
   "cell_type": "code",
   "execution_count": 62,
   "metadata": {},
   "outputs": [
    {
     "data": {
      "text/plain": [
       "'F1 случайного леса, который обучался по увеличенной выборке: 0.65'"
      ]
     },
     "execution_count": 62,
     "metadata": {},
     "output_type": "execute_result"
    }
   ],
   "source": [
    "'F1 случайного леса, который обучался по увеличенной выборке: {:.2}'.format(best_f1)"
   ]
  },
  {
   "cell_type": "markdown",
   "metadata": {},
   "source": [
    "Получили то же значение метрики, что и в предыдущем методе."
   ]
  },
  {
   "cell_type": "markdown",
   "metadata": {},
   "source": [
    "*Логистическая регрессия*"
   ]
  },
  {
   "cell_type": "markdown",
   "metadata": {},
   "source": [
    "Обучим логистическую регрессию на увеличенной выборке."
   ]
  },
  {
   "cell_type": "code",
   "execution_count": 86,
   "metadata": {},
   "outputs": [
    {
     "data": {
      "text/plain": [
       "'F1 логистической регрессии, которая обучена на увеличенной выборке: 0.52'"
      ]
     },
     "execution_count": 86,
     "metadata": {},
     "output_type": "execute_result"
    }
   ],
   "source": [
    "best_log_21 = LogisticRegression(solver='liblinear', random_state=12345)\n",
    "best_log_21.fit(feat_train_21, target_train_21)\n",
    "predicted = best_log_21.predict(feat_valid_21)\n",
    "'F1 логистической регрессии, которая обучена на увеличенной выборке: {:.2}'.format(f1_score(target_valid, predicted))"
   ]
  },
  {
   "cell_type": "markdown",
   "metadata": {},
   "source": [
    "Чуть хуже, чем в предыдущем методе."
   ]
  },
  {
   "cell_type": "markdown",
   "metadata": {},
   "source": [
    "*Метод k ближайших соседей*"
   ]
  },
  {
   "cell_type": "markdown",
   "metadata": {},
   "source": [
    "Подберем оптимальное 'количество соседей', обучая модели на увеличенной выборке."
   ]
  },
  {
   "cell_type": "code",
   "execution_count": 64,
   "metadata": {},
   "outputs": [],
   "source": [
    "best_knn_21, best_f1 = bestKNN(feat_train_21, target_train_21, feat_valid_21)"
   ]
  },
  {
   "cell_type": "markdown",
   "metadata": {},
   "source": [
    "Нашли. Посмотрим на гиперпараметры и f1."
   ]
  },
  {
   "cell_type": "code",
   "execution_count": 65,
   "metadata": {},
   "outputs": [
    {
     "data": {
      "text/plain": [
       "KNeighborsClassifier(algorithm='auto', leaf_size=30, metric='minkowski',\n",
       "                     metric_params=None, n_jobs=None, n_neighbors=9, p=2,\n",
       "                     weights='uniform')"
      ]
     },
     "execution_count": 65,
     "metadata": {},
     "output_type": "execute_result"
    }
   ],
   "source": [
    "best_knn_21"
   ]
  },
  {
   "cell_type": "markdown",
   "metadata": {},
   "source": [
    "'Количество соседей' увеличилось."
   ]
  },
  {
   "cell_type": "code",
   "execution_count": 66,
   "metadata": {},
   "outputs": [
    {
     "data": {
      "text/plain": [
       "'F1 лучшей модели, обученной по алгоритму k ближайших соседей и на увеличенной выборке: 0.5'"
      ]
     },
     "execution_count": 66,
     "metadata": {},
     "output_type": "execute_result"
    }
   ],
   "source": [
    "'F1 лучшей модели, обученной по алгоритму k ближайших соседей и на увеличенной выборке: {:.2}'.format(best_f1)"
   ]
  },
  {
   "cell_type": "markdown",
   "metadata": {},
   "source": [
    "Результаты опечаливают: ничего не поменялось. "
   ]
  },
  {
   "cell_type": "markdown",
   "metadata": {},
   "source": [
    "*Вывод по этапу:* сравнивая с предыдущим методом мы имеем следующие результаты: у случайного леса и метода k ближайших соседей ничего не поменялось, у логистической регрессии прогресс на одну сотую, опять же - интересно наблюдать, гиперпараметры у моделей меняются от метода к методу."
   ]
  },
  {
   "cell_type": "markdown",
   "metadata": {},
   "source": [
    "**Этап 3: Downsampling**"
   ]
  },
  {
   "cell_type": "markdown",
   "metadata": {},
   "source": [
    "Мы опробовали upsampling, сейчас приступаем к противоположному в каком-то смысле методу - к downsampling. Нам следует поделить обучающую выборку на позитивные и негативные объекты (это уже сделано), затем - из негативных выделить ровно четверть, сложить в одну выборку позитивные и выделенные негативные и перемешать. "
   ]
  },
  {
   "cell_type": "code",
   "execution_count": 67,
   "metadata": {},
   "outputs": [],
   "source": [
    "feat_train_22 = pd.concat([feat_zeros.sample(frac=0.25, random_state=12345)] + [feat_ones])\n",
    "target_train_22 = pd.concat([target_zeros.sample(frac=0.25, random_state=12345)] + [target_ones])\n",
    "feat_train_22, target_train_22 = shuffle(feat_train_22, target_train_22, random_state=12345)"
   ]
  },
  {
   "cell_type": "markdown",
   "metadata": {},
   "source": [
    "Посмотрим на соотношение."
   ]
  },
  {
   "cell_type": "code",
   "execution_count": 68,
   "metadata": {},
   "outputs": [
    {
     "data": {
      "text/plain": [
       "1    1222\n",
       "0    1194\n",
       "Name: Exited, dtype: int64"
      ]
     },
     "execution_count": 68,
     "metadata": {},
     "output_type": "execute_result"
    }
   ],
   "source": [
    "target_train_22.value_counts()"
   ]
  },
  {
   "cell_type": "markdown",
   "metadata": {},
   "source": [
    "Это нам подходит. Теперь стандартизируем."
   ]
  },
  {
   "cell_type": "code",
   "execution_count": 69,
   "metadata": {},
   "outputs": [],
   "source": [
    "scaler22 = StandardScaler()\n",
    "scaler22.fit(feat_train_22)\n",
    "feat_train_22 = scaler22.transform(feat_train_22)\n",
    "feat_valid_22 = scaler22.transform(feat_valid)\n",
    "feat_test_22 = scaler22.transform(feat_test)"
   ]
  },
  {
   "cell_type": "markdown",
   "metadata": {},
   "source": [
    "Приступаем к обучению. Все аналогично предыдущему этапу. У нас поменялась только выборка."
   ]
  },
  {
   "cell_type": "markdown",
   "metadata": {},
   "source": [
    "*Случайный лес*"
   ]
  },
  {
   "cell_type": "markdown",
   "metadata": {},
   "source": [
    "Поработаем со случайным лесом."
   ]
  },
  {
   "cell_type": "code",
   "execution_count": 70,
   "metadata": {},
   "outputs": [],
   "source": [
    "best_forest_22, best_f1 = bestRandomForest(None, feat_train_22, target_train_22, feat_valid_22)"
   ]
  },
  {
   "cell_type": "markdown",
   "metadata": {},
   "source": [
    "Нашли лучший. Посмотрим на гиперпараметры и значение f1."
   ]
  },
  {
   "cell_type": "code",
   "execution_count": 71,
   "metadata": {},
   "outputs": [
    {
     "data": {
      "text/plain": [
       "RandomForestClassifier(bootstrap=True, class_weight=None, criterion='gini',\n",
       "                       max_depth=7, max_features='auto', max_leaf_nodes=None,\n",
       "                       min_impurity_decrease=0.0, min_impurity_split=None,\n",
       "                       min_samples_leaf=1, min_samples_split=2,\n",
       "                       min_weight_fraction_leaf=0.0, n_estimators=30,\n",
       "                       n_jobs=None, oob_score=False, random_state=12345,\n",
       "                       verbose=0, warm_start=False)"
      ]
     },
     "execution_count": 71,
     "metadata": {},
     "output_type": "execute_result"
    }
   ],
   "source": [
    "best_forest_22"
   ]
  },
  {
   "cell_type": "code",
   "execution_count": 72,
   "metadata": {},
   "outputs": [
    {
     "data": {
      "text/plain": [
       "'F1 случайного леса, который обучался на уменьшенной выборке: 0.64'"
      ]
     },
     "execution_count": 72,
     "metadata": {},
     "output_type": "execute_result"
    }
   ],
   "source": [
    "'F1 случайного леса, который обучался на уменьшенной выборке: {:.2}'.format(best_f1)"
   ]
  },
  {
   "cell_type": "markdown",
   "metadata": {},
   "source": [
    "Получился средний результат - лучше, чем без учета дисбаланса, и хуже, чем в двух предыдущих методах. Возможно, сказывается меньший размер обучающей выборки?"
   ]
  },
  {
   "cell_type": "markdown",
   "metadata": {},
   "source": [
    "*Логистическая регрессия*"
   ]
  },
  {
   "cell_type": "markdown",
   "metadata": {},
   "source": [
    "Теперь логистическая регрессия."
   ]
  },
  {
   "cell_type": "code",
   "execution_count": 73,
   "metadata": {},
   "outputs": [
    {
     "data": {
      "text/plain": [
       "'F1 логистической регрессии, обученной на уменьшенной выборке: 0.53'"
      ]
     },
     "execution_count": 73,
     "metadata": {},
     "output_type": "execute_result"
    }
   ],
   "source": [
    "best_log_22 = LogisticRegression(solver='liblinear', random_state=12345)\n",
    "best_log_22.fit(feat_train_22, target_train_22)\n",
    "predicted = best_log_22.predict(feat_valid_22)\n",
    "'F1 логистической регрессии, обученной на уменьшенной выборке: {:.2}'.format(f1_score(target_valid, predicted))"
   ]
  },
  {
   "cell_type": "markdown",
   "metadata": {},
   "source": [
    "Получили такой же результат, что и во взвешивании, - лучший на данный момент по логистической регрессии."
   ]
  },
  {
   "cell_type": "markdown",
   "metadata": {},
   "source": [
    "*Метод k ближайших соседей*"
   ]
  },
  {
   "cell_type": "markdown",
   "metadata": {},
   "source": [
    "Подберем лучшую модель, обученную алгоритмом k ближайших соседей."
   ]
  },
  {
   "cell_type": "code",
   "execution_count": 74,
   "metadata": {},
   "outputs": [],
   "source": [
    "best_knn_22, best_f1 = bestKNN(feat_train_22, target_train_22, feat_valid_22)"
   ]
  },
  {
   "cell_type": "markdown",
   "metadata": {},
   "source": [
    "Посмотрим на гиперпараметры и метрику f1."
   ]
  },
  {
   "cell_type": "code",
   "execution_count": 75,
   "metadata": {},
   "outputs": [
    {
     "data": {
      "text/plain": [
       "KNeighborsClassifier(algorithm='auto', leaf_size=30, metric='minkowski',\n",
       "                     metric_params=None, n_jobs=None, n_neighbors=14, p=2,\n",
       "                     weights='uniform')"
      ]
     },
     "execution_count": 75,
     "metadata": {},
     "output_type": "execute_result"
    }
   ],
   "source": [
    "best_knn_22"
   ]
  },
  {
   "cell_type": "markdown",
   "metadata": {},
   "source": [
    "Сейчас соседей вообще 14."
   ]
  },
  {
   "cell_type": "code",
   "execution_count": 76,
   "metadata": {},
   "outputs": [
    {
     "data": {
      "text/plain": [
       "'F1 модели, обученной алгоритмом k ближайших соседей на уменьшенной выборке: 0.55'"
      ]
     },
     "execution_count": 76,
     "metadata": {},
     "output_type": "execute_result"
    }
   ],
   "source": [
    "'F1 модели, обученной алгоритмом k ближайших соседей на уменьшенной выборке: {:.2}'.format(best_f1)"
   ]
  },
  {
   "cell_type": "markdown",
   "metadata": {},
   "source": [
    "Только downsampling помог модели алгоритма k ближайших соседей. Впервые прогресс - теперь f1 даже лучше, чем у логистической регрессии."
   ]
  },
  {
   "cell_type": "markdown",
   "metadata": {},
   "source": [
    "*Вывод по этапу*: итак, на данном этапе мы опробовали downsampling, не получили ничего сверхъестественного относительно случайного леса и логистической регрессии, а вот результаты по модели k ближайших соседей радуют - метод помог, f1 выросло."
   ]
  },
  {
   "cell_type": "markdown",
   "metadata": {},
   "source": [
    "**Выводы по Шагу 4**: итак, на данном шаге мы опробовали три метода борьбы с дисбалансом классов, в рамках каждого метода обнаружили по лидеру на алгоритм. В итоге - получили 9 лучших моделей. Все методы показали себя примерно одинаково, в результате экспериментов f1 моделей от каждого алгоритма улучшилось. "
   ]
  },
  {
   "cell_type": "markdown",
   "metadata": {},
   "source": [
    "<h3>Шаг 5: Сравнение получившихся моделей</h3>\n",
    "<a id='compare'></a>"
   ]
  },
  {
   "cell_type": "markdown",
   "metadata": {},
   "source": [
    "На данном этапе мы будем сравнивать 12 моделей: три с Шага 3 и девять с Шага 4. Да, некоторые из них очевидно непригодны, но все равно представляют интерес. Создадим датафрейм для наглядности сравнения."
   ]
  },
  {
   "cell_type": "code",
   "execution_count": 77,
   "metadata": {},
   "outputs": [],
   "source": [
    "models = pd.DataFrame(columns = ['model_name','method','model', 'valid_sample'], data = [\n",
    "    ['RandomForest', 'W_Classes', best_forest_20, feat_valid_1],\n",
    "    ['LogisticRegression', 'W_Classes',best_log_20, feat_valid_1],\n",
    "    ['RandomForest', 'Upsampling', best_forest_21, feat_valid_21], \n",
    "    ['LogisticRegression', 'Upsampling', best_log_21, feat_valid_21], \n",
    "    ['KNN', 'Upsampling',best_knn_21, feat_valid_21], \n",
    "    ['RandomForest', 'Downsampling', best_forest_22,feat_valid_22],     \n",
    "    ['LogisticRegression', 'Downsampling', best_log_22, feat_valid_22], \n",
    "    ['KNN', 'Downsampling', best_knn_22, feat_valid_22],\n",
    "    ['RandomForest', 'No', best_forest_1, feat_valid_1],\n",
    "    ['LogisticRegression', 'No',best_log_1, feat_valid_1],\n",
    "    ['KNN','No', best_knn_1, feat_valid_1]])"
   ]
  },
  {
   "cell_type": "code",
   "execution_count": 78,
   "metadata": {},
   "outputs": [],
   "source": [
    "def f1(row):\n",
    "    global target_valid\n",
    "    return round(f1_score(target_valid, row['model'].predict(row['valid_sample'])),2)\n",
    "\n",
    "def accuracy(row):\n",
    "    global target_valid\n",
    "    return round(accuracy_score(target_valid, row['model'].predict(row['valid_sample'])),2)\n",
    "\n",
    "def precision(row):\n",
    "    global target_valid\n",
    "    return round(precision_score(target_valid, row['model'].predict(row['valid_sample'])),2)\n",
    "\n",
    "def recall(row):\n",
    "    global target_valid\n",
    "    return round(recall_score(target_valid, row['model'].predict(row['valid_sample'])),2)\n",
    "\n",
    "def roc_auc(row):\n",
    "    global target_valid\n",
    "    return round(roc_auc_score(target_valid, row['model'].predict_proba(row['valid_sample'])[:,1]),2)"
   ]
  },
  {
   "cell_type": "markdown",
   "metadata": {},
   "source": [
    "Посчитаем для каждой модели f1, accuracy, precision, recall и roc_auc."
   ]
  },
  {
   "cell_type": "code",
   "execution_count": 79,
   "metadata": {},
   "outputs": [],
   "source": [
    "models['f1'] = models.apply(f1, axis=1)\n",
    "models['accuracy'] = models.apply(accuracy, axis=1)\n",
    "models['precision'] = models.apply(precision, axis=1)\n",
    "models['recall'] = models.apply(recall, axis=1)\n",
    "models['roc_auc'] = models.apply(roc_auc, axis=1)"
   ]
  },
  {
   "cell_type": "markdown",
   "metadata": {},
   "source": [
    "Посмотрим, что получилось."
   ]
  },
  {
   "cell_type": "code",
   "execution_count": 80,
   "metadata": {
    "scrolled": true
   },
   "outputs": [
    {
     "data": {
      "text/html": [
       "<div>\n",
       "<style scoped>\n",
       "    .dataframe tbody tr th:only-of-type {\n",
       "        vertical-align: middle;\n",
       "    }\n",
       "\n",
       "    .dataframe tbody tr th {\n",
       "        vertical-align: top;\n",
       "    }\n",
       "\n",
       "    .dataframe thead th {\n",
       "        text-align: right;\n",
       "    }\n",
       "</style>\n",
       "<table border=\"1\" class=\"dataframe\">\n",
       "  <thead>\n",
       "    <tr style=\"text-align: right;\">\n",
       "      <th></th>\n",
       "      <th>model_name</th>\n",
       "      <th>method</th>\n",
       "      <th>f1</th>\n",
       "      <th>accuracy</th>\n",
       "      <th>precision</th>\n",
       "      <th>recall</th>\n",
       "      <th>roc_auc</th>\n",
       "    </tr>\n",
       "  </thead>\n",
       "  <tbody>\n",
       "    <tr>\n",
       "      <td>0</td>\n",
       "      <td>RandomForest</td>\n",
       "      <td>W_Classes</td>\n",
       "      <td>0.65</td>\n",
       "      <td>0.85</td>\n",
       "      <td>0.61</td>\n",
       "      <td>0.69</td>\n",
       "      <td>0.87</td>\n",
       "    </tr>\n",
       "    <tr>\n",
       "      <td>1</td>\n",
       "      <td>LogisticRegression</td>\n",
       "      <td>W_Classes</td>\n",
       "      <td>0.53</td>\n",
       "      <td>0.73</td>\n",
       "      <td>0.41</td>\n",
       "      <td>0.74</td>\n",
       "      <td>0.79</td>\n",
       "    </tr>\n",
       "    <tr>\n",
       "      <td>2</td>\n",
       "      <td>RandomForest</td>\n",
       "      <td>Upsampling</td>\n",
       "      <td>0.65</td>\n",
       "      <td>0.84</td>\n",
       "      <td>0.58</td>\n",
       "      <td>0.75</td>\n",
       "      <td>0.87</td>\n",
       "    </tr>\n",
       "    <tr>\n",
       "      <td>3</td>\n",
       "      <td>LogisticRegression</td>\n",
       "      <td>Upsampling</td>\n",
       "      <td>0.52</td>\n",
       "      <td>0.73</td>\n",
       "      <td>0.41</td>\n",
       "      <td>0.74</td>\n",
       "      <td>0.79</td>\n",
       "    </tr>\n",
       "    <tr>\n",
       "      <td>4</td>\n",
       "      <td>KNN</td>\n",
       "      <td>Upsampling</td>\n",
       "      <td>0.50</td>\n",
       "      <td>0.76</td>\n",
       "      <td>0.44</td>\n",
       "      <td>0.59</td>\n",
       "      <td>0.77</td>\n",
       "    </tr>\n",
       "    <tr>\n",
       "      <td>5</td>\n",
       "      <td>RandomForest</td>\n",
       "      <td>Downsampling</td>\n",
       "      <td>0.64</td>\n",
       "      <td>0.81</td>\n",
       "      <td>0.53</td>\n",
       "      <td>0.80</td>\n",
       "      <td>0.87</td>\n",
       "    </tr>\n",
       "    <tr>\n",
       "      <td>6</td>\n",
       "      <td>LogisticRegression</td>\n",
       "      <td>Downsampling</td>\n",
       "      <td>0.53</td>\n",
       "      <td>0.73</td>\n",
       "      <td>0.41</td>\n",
       "      <td>0.75</td>\n",
       "      <td>0.79</td>\n",
       "    </tr>\n",
       "    <tr>\n",
       "      <td>7</td>\n",
       "      <td>KNN</td>\n",
       "      <td>Downsampling</td>\n",
       "      <td>0.55</td>\n",
       "      <td>0.77</td>\n",
       "      <td>0.46</td>\n",
       "      <td>0.66</td>\n",
       "      <td>0.80</td>\n",
       "    </tr>\n",
       "    <tr>\n",
       "      <td>8</td>\n",
       "      <td>RandomForest</td>\n",
       "      <td>No</td>\n",
       "      <td>0.63</td>\n",
       "      <td>0.87</td>\n",
       "      <td>0.79</td>\n",
       "      <td>0.52</td>\n",
       "      <td>0.86</td>\n",
       "    </tr>\n",
       "    <tr>\n",
       "      <td>9</td>\n",
       "      <td>LogisticRegression</td>\n",
       "      <td>No</td>\n",
       "      <td>0.31</td>\n",
       "      <td>0.81</td>\n",
       "      <td>0.61</td>\n",
       "      <td>0.21</td>\n",
       "      <td>0.79</td>\n",
       "    </tr>\n",
       "    <tr>\n",
       "      <td>10</td>\n",
       "      <td>KNN</td>\n",
       "      <td>No</td>\n",
       "      <td>0.50</td>\n",
       "      <td>0.82</td>\n",
       "      <td>0.58</td>\n",
       "      <td>0.43</td>\n",
       "      <td>0.74</td>\n",
       "    </tr>\n",
       "  </tbody>\n",
       "</table>\n",
       "</div>"
      ],
      "text/plain": [
       "            model_name        method    f1  accuracy  precision  recall  \\\n",
       "0         RandomForest     W_Classes  0.65      0.85       0.61    0.69   \n",
       "1   LogisticRegression     W_Classes  0.53      0.73       0.41    0.74   \n",
       "2         RandomForest    Upsampling  0.65      0.84       0.58    0.75   \n",
       "3   LogisticRegression    Upsampling  0.52      0.73       0.41    0.74   \n",
       "4                  KNN    Upsampling  0.50      0.76       0.44    0.59   \n",
       "5         RandomForest  Downsampling  0.64      0.81       0.53    0.80   \n",
       "6   LogisticRegression  Downsampling  0.53      0.73       0.41    0.75   \n",
       "7                  KNN  Downsampling  0.55      0.77       0.46    0.66   \n",
       "8         RandomForest            No  0.63      0.87       0.79    0.52   \n",
       "9   LogisticRegression            No  0.31      0.81       0.61    0.21   \n",
       "10                 KNN            No  0.50      0.82       0.58    0.43   \n",
       "\n",
       "    roc_auc  \n",
       "0      0.87  \n",
       "1      0.79  \n",
       "2      0.87  \n",
       "3      0.79  \n",
       "4      0.77  \n",
       "5      0.87  \n",
       "6      0.79  \n",
       "7      0.80  \n",
       "8      0.86  \n",
       "9      0.79  \n",
       "10     0.74  "
      ]
     },
     "execution_count": 80,
     "metadata": {},
     "output_type": "execute_result"
    }
   ],
   "source": [
    "models[['model_name', 'method', 'f1', 'accuracy', 'precision', 'recall', 'roc_auc']]"
   ]
  },
  {
   "cell_type": "markdown",
   "metadata": {},
   "source": [
    "Сделаем некоторые выводы: "
   ]
  },
  {
   "cell_type": "markdown",
   "metadata": {},
   "source": [
    "*По методам*:"
   ]
  },
  {
   "cell_type": "markdown",
   "metadata": {},
   "source": [
    "    - модели случайного леса лучше всего помогли методы: взвешивание классов и upsampling;\n",
    "    - для модели логистической регрессии наиболее эффективен оказались методы: взвешивание классов и downsampling;\n",
    "    - для модели алгоритма k ближайших соседей полезен оказался лишь метод downsampling;\n",
    "    - несложно заметить, что каждый из этих методов эффективен - качество растет на всех моделях, просто где-то больше, а где-то меньше; "
   ]
  },
  {
   "cell_type": "markdown",
   "metadata": {},
   "source": [
    "*По моделям:*"
   ]
  },
  {
   "cell_type": "markdown",
   "metadata": {},
   "source": [
    "    - наиболее удачной моделью является - случайный лес, даже не учитывая дисбаланс классов, мы получили f1-меру равную 0.63, а затем и 0.65; \n",
    "    - логистическая регрессия начала приближаться к качественной версии себя лишь после учета дисбаланса классов, лучший результат f1-меры по этому алгоритму равен 0.53; \n",
    "    - модель алгоритма k ближайших соседей вообще наиболее странный гость сегодня: модели не помог upsampling, зато с помошью downsampling'а мера f1 стала равной значению, которое выше, чем у лучшей логистической регрессии - получили 0.55; \n",
    "    - очевидно - выбирать финальную модель будем среди случайных лесов, обученных с учетом дисбаланса классов;"
   ]
  },
  {
   "cell_type": "markdown",
   "metadata": {},
   "source": [
    "*По динамике метрик моделей*:"
   ]
  },
  {
   "cell_type": "markdown",
   "metadata": {},
   "source": [
    "    - про связь roc-auc и f1: в 10 из 11 случаев мы имели с ростом f1 и рост roc-auc - площади под графиком ROC-кривой, что имеет свое объяснение, рост f1 говорит о том, что модель стала лучше, также и рост roc-auc сигнализирует о растущем качестве модели; но мы получили один случай, который выбивается из этого объяснения: на модели алгоритма k ближайших соседей, обученной без учета дисбалансов классов, у нас была f1-мера, равная 0.5 и roc-auc равный 0.74, а теперь для сравнения метрики еще одной модели: логистическая регрессия, обученная без учета дисбаланса классов: f1 = 0.31, roc-auc = 0.79, вопрос - как мы получили такую площадь под графиком ROC-кривой на логистической регрессии с такой f1-мерой? ответ: за таким низким f1 у нас скрывается низкое значение recall - модель более качественная, но она совсем не видит положительный класс - возможно, здесь следовало поменять порог классификации, тогда бы все встало на свои места; \n",
    "    - про разницу между значениями метрик моделей, обученных без учета дисбаланса классов, и значениями метрик остальных моделей: значение меры f1 для моделей, в которых применялись различные методы борьбы с дисбалансом классов, менялось в большую сторону: на немного или на много, либо не менялось вообще - а поисходило это все из-за роста полноты и (!) снижения точности, то есть - модели стали видеть больше объектов положительного класса, но вероятность того, что если класс назван положительным, то он такой и есть, упала; \n",
    "    - про accuracy: на Шаге 3 мы сравнивали значение данной метрики с accuracy dummy-модели - для случайного леса разница мер составляла 0.07, для остальных двух моделей - 0.02 и ниже; обратимся к моделям, на которых использовались downsampling и upsampling: для такого рода выборок - у случайной модели доля правильных ответов составляет 0.5, мы же получили значения от 0.73 до 0.84 - ощутимое отличие;"
   ]
  },
  {
   "cell_type": "markdown",
   "metadata": {},
   "source": [
    "**Выводы по Шагу 5**: итак, на данном шаге мы сравнили 11 различных моделей, рассмотрели, как влияет на качество метод, который используется для борьбы с дисбалансом классов, как влияет выбранный алгоритм, как менялись метрики в ходе работы и выделили интересные факты о получившемся наборе значений метрик моделей. В результате проделанной работы мы можем выбрать лучшую модель - это случайный лес, обученный на выборке, составленной с помощью upsampling'a; у данной модели значение f1-меры - 0.65, что является лучшим результатом. "
   ]
  },
  {
   "cell_type": "markdown",
   "metadata": {},
   "source": [
    "<h3>Шаг 6: Финальное тестирование модели</h3>\n",
    "<a id='test'></a>"
   ]
  },
  {
   "cell_type": "markdown",
   "metadata": {},
   "source": [
    "Вспомним, в качестве лучшей модели была выбрана модель случайного леса, обученная на upsampled выборке. Осталось - провести тестирование модели на тестовой выборке. "
   ]
  },
  {
   "cell_type": "markdown",
   "metadata": {},
   "source": [
    "Посмотрим на значение f1-меры, а также на значения остальных метрик. "
   ]
  },
  {
   "cell_type": "code",
   "execution_count": 81,
   "metadata": {},
   "outputs": [
    {
     "data": {
      "text/plain": [
       "'Значение метрики f1 на лучшей модели: 0.6'"
      ]
     },
     "execution_count": 81,
     "metadata": {},
     "output_type": "execute_result"
    }
   ],
   "source": [
    "'Значение метрики f1 на лучшей модели: {:.2}'.format(f1_score(target_test, best_forest_21.predict(feat_test_21)))"
   ]
  },
  {
   "cell_type": "code",
   "execution_count": 82,
   "metadata": {},
   "outputs": [
    {
     "data": {
      "text/plain": [
       "'Значение метрики recall на лучшей модели: 0.68'"
      ]
     },
     "execution_count": 82,
     "metadata": {},
     "output_type": "execute_result"
    }
   ],
   "source": [
    "'Значение метрики recall на лучшей модели: {:.2}'.format(recall_score(target_test, best_forest_21.predict(feat_test_21)))"
   ]
  },
  {
   "cell_type": "code",
   "execution_count": 83,
   "metadata": {},
   "outputs": [
    {
     "data": {
      "text/plain": [
       "'Значение метрики precision на лучшей модели: 0.54'"
      ]
     },
     "execution_count": 83,
     "metadata": {},
     "output_type": "execute_result"
    }
   ],
   "source": [
    "'Значение метрики precision на лучшей модели: {:.2}'.format(precision_score(target_test, best_forest_21.predict(feat_test_21)))"
   ]
  },
  {
   "cell_type": "code",
   "execution_count": 84,
   "metadata": {},
   "outputs": [
    {
     "data": {
      "text/plain": [
       "'Значение метрики accuracy на лучшей модели: 0.82'"
      ]
     },
     "execution_count": 84,
     "metadata": {},
     "output_type": "execute_result"
    }
   ],
   "source": [
    "'Значение метрики accuracy на лучшей модели: {:.2}'.format(accuracy_score(target_test, best_forest_21.predict(feat_test_21)))"
   ]
  },
  {
   "cell_type": "code",
   "execution_count": 85,
   "metadata": {},
   "outputs": [
    {
     "data": {
      "text/plain": [
       "'Значение метрики roc_auc на лучшей модели: 0.77'"
      ]
     },
     "execution_count": 85,
     "metadata": {},
     "output_type": "execute_result"
    }
   ],
   "source": [
    "'Значение метрики roc_auc на лучшей модели: {:.2}'.format(roc_auc_score(target_test, best_forest_21.predict(feat_test_21)))"
   ]
  },
  {
   "cell_type": "markdown",
   "metadata": {},
   "source": [
    "**Вывод по Шагу 6**: итак, мы протестировали выбранную модель, получили не такие высокие показатели, как на валидационной выборке, но все равно - соответствующие требованиям задания и здравого смысла: f1 превышает значение 0.59, accuracy больше значения случайной модели. "
   ]
  }
 ],
 "metadata": {
  "kernelspec": {
   "display_name": "Python 3",
   "language": "python",
   "name": "python3"
  },
  "language_info": {
   "codemirror_mode": {
    "name": "ipython",
    "version": 3
   },
   "file_extension": ".py",
   "mimetype": "text/x-python",
   "name": "python",
   "nbconvert_exporter": "python",
   "pygments_lexer": "ipython3",
   "version": "3.7.8"
  }
 },
 "nbformat": 4,
 "nbformat_minor": 4
}
