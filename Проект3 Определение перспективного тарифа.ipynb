{
 "cells": [
  {
   "cell_type": "markdown",
   "metadata": {},
   "source": [
    "<h1>Определение перспективного тарифа для телеком компании</h1>"
   ]
  },
  {
   "cell_type": "markdown",
   "metadata": {},
   "source": [
    "Мы - аналитики компании «Мегалайн» — федерального оператора сотовой связи. Клиентам предлагают два тарифных плана: «Смарт» и «Ультра». Чтобы скорректировать рекламный бюджет, коммерческий департамент хочет понять, какой тариф приносит больше денег.\n",
    "Нам предстоит сделать предварительный анализ тарифов на небольшой выборке клиентов. В нашем распоряжении данные 500 пользователей «Мегалайна»: кто они, откуда, каким тарифом пользуются, сколько звонков и сообщений каждый отправил за 2018 год. Нужно проанализировать поведение клиентов и сделать вывод — какой тариф лучше."
   ]
  },
  {
   "cell_type": "markdown",
   "metadata": {},
   "source": [
    "**Описание тарифов**"
   ]
  },
  {
   "cell_type": "markdown",
   "metadata": {},
   "source": [
    "*Тариф «Смарт»*"
   ]
  },
  {
   "cell_type": "markdown",
   "metadata": {},
   "source": [
    "    - Ежемесячная плата: 550 рублей\n",
    "    - Включено 500 минут разговора, 50 сообщений и 15 Гб интернет-трафика\n",
    "    - Стоимость услуг сверх тарифного пакета:\n",
    "    * минута разговора: 3 рубля\n",
    "    * сообщение: 3 рубля\n",
    "    * 1 Гб интернет-трафика: 200 рублей"
   ]
  },
  {
   "cell_type": "markdown",
   "metadata": {},
   "source": [
    "*Тариф «Ультра»*"
   ]
  },
  {
   "cell_type": "markdown",
   "metadata": {},
   "source": [
    "     - Ежемесячная плата: 1950 рублей\n",
    "     - Включено 3000 минут разговора, 1000 сообщений и 30 Гб интернет-трафика\n",
    "     - Стоимость услуг сверх тарифного пакета:\n",
    "     * минута разговора: 1 рубль\n",
    "     * сообщение: 1 рубль\n",
    "     * 1 Гб интернет-трафика: 150 рублей"
   ]
  },
  {
   "cell_type": "markdown",
   "metadata": {},
   "source": [
    "«Мегалайн» всегда округляет вверх значения минут и мегабайтов. Если пользователь проговорил всего 1 секунду, в тарифе засчитывается целая минута."
   ]
  },
  {
   "cell_type": "markdown",
   "metadata": {},
   "source": [
    "**Описание данных:**"
   ]
  },
  {
   "cell_type": "markdown",
   "metadata": {},
   "source": [
    "*Таблица users (информация о пользователях):*"
   ]
  },
  {
   "cell_type": "markdown",
   "metadata": {},
   "source": [
    "    user_id — уникальный идентификатор пользователя\n",
    "    first_name — имя пользователя\n",
    "    last_name — фамилия пользователя\n",
    "    age — возраст пользователя (годы)\n",
    "    reg_date — дата подключения тарифа (день, месяц, год)\n",
    "    churn_date — дата прекращения пользования тарифом (если значение пропущено, то тариф ещё действовал на момент выгрузки данных)\n",
    "    city — город проживания пользователя\n",
    "    tariff — название тарифного плана"
   ]
  },
  {
   "cell_type": "markdown",
   "metadata": {},
   "source": [
    "*Таблица calls (информация о звонках):*"
   ]
  },
  {
   "cell_type": "markdown",
   "metadata": {},
   "source": [
    "    id — уникальный номер звонка\n",
    "    call_date — дата звонка\n",
    "    duration — длительность звонка в минутах\n",
    "    user_id — идентификатор пользователя, сделавшего звонок"
   ]
  },
  {
   "cell_type": "markdown",
   "metadata": {},
   "source": [
    "*Таблица messages (информация о сообщениях):*"
   ]
  },
  {
   "cell_type": "markdown",
   "metadata": {},
   "source": [
    "    id — уникальный номер сообщения\n",
    "    message_date — дата сообщения\n",
    "    user_id — идентификатор пользователя, отправившего сообщение"
   ]
  },
  {
   "cell_type": "markdown",
   "metadata": {},
   "source": [
    "*Таблица internet (информация об интернет-сессиях):*"
   ]
  },
  {
   "cell_type": "markdown",
   "metadata": {},
   "source": [
    "    id — уникальный номер сессии\n",
    "    mb_used — объём потраченного за сессию интернет-трафика (в мегабайтах)\n",
    "    session_date — дата интернет-сессии\n",
    "    user_id — идентификатор пользователя"
   ]
  },
  {
   "cell_type": "markdown",
   "metadata": {},
   "source": [
    "*Таблица tariffs (информация о тарифах):* "
   ]
  },
  {
   "cell_type": "markdown",
   "metadata": {},
   "source": [
    "    tariff_name — название тарифа\n",
    "    rub_monthly_fee — ежемесячная абонентская плата в рублях\n",
    "    minutes_included — количество минут разговора в месяц, включённых в абонентскую плату\n",
    "    messages_included — количество сообщений в месяц, включённых в абонентскую плату\n",
    "    mb_per_month_included — объём интернет-трафика, включённого в абонентскую плату (в мегабайтах)\n",
    "    rub_per_minute — стоимость минуты разговора сверх тарифного пакета (например, если в тарифе 100 минут разговора в месяц, то со 101 минуты будет взиматься плата)\n",
    "    rub_per_message — стоимость отправки сообщения сверх тарифного пакета\n",
    "    rub_per_gb — стоимость дополнительного гигабайта интернет-трафика сверх тарифного пакета (1 гигабайт = 1024 мегабайта) "
   ]
  },
  {
   "cell_type": "markdown",
   "metadata": {},
   "source": [
    "**План работы**: первым делом мы ознакомимся с полученными данными; далее мы подготовим наши таблицы к дальнейшей работе: разберемся с ошибками и добавим дополнительную информацию; затем проведем анализ данных, проверим гипотезы и, наконец, сделаем общий вывод."
   ]
  },
  {
   "cell_type": "markdown",
   "metadata": {},
   "source": [
    "<h3>Оглавление</h3>"
   ]
  },
  {
   "cell_type": "markdown",
   "metadata": {},
   "source": [
    "1. [Шаг 1: Первичный обзор данных, получение общей информации о данных](#start)   \n",
    "2. [Шаг 2: Подготовка данных](#prepare)   \n",
    "    * [Предобработка данных: изменение типов данных и работа с ошибками](#preproc)   \n",
    "    * [Добавление новой информации](#adding)     \n",
    "3. [Шаг 3: Анализ данных](#analys)\n",
    "4. [Шаг 4: Проверка гипотез](#hypo)\n",
    "5. [Шаг 5: Общие выводы](#conc)"
   ]
  },
  {
   "cell_type": "markdown",
   "metadata": {},
   "source": [
    "<h3> Шаг 1: Первичный обзор данных, получение общей информации о данных </h3>\n",
    "<a id='start'></a>"
   ]
  },
  {
   "cell_type": "markdown",
   "metadata": {},
   "source": [
    "Первым делом импортируем необходимые нам библиотеки. "
   ]
  },
  {
   "cell_type": "code",
   "execution_count": 1,
   "metadata": {},
   "outputs": [],
   "source": [
    "import pandas as pd\n",
    "import numpy as np\n",
    "import matplotlib.pyplot as plt\n",
    "from scipy import stats as st"
   ]
  },
  {
   "cell_type": "markdown",
   "metadata": {},
   "source": [
    "Сохраним датасеты в переменные, посмотрим общую информацию о них, а также взглянем на первые строки таблиц. Начнем с users."
   ]
  },
  {
   "cell_type": "code",
   "execution_count": 2,
   "metadata": {},
   "outputs": [],
   "source": [
    "users = pd.read_csv('/datasets/users.csv')"
   ]
  },
  {
   "cell_type": "code",
   "execution_count": 3,
   "metadata": {},
   "outputs": [
    {
     "name": "stdout",
     "output_type": "stream",
     "text": [
      "<class 'pandas.core.frame.DataFrame'>\n",
      "RangeIndex: 500 entries, 0 to 499\n",
      "Data columns (total 8 columns):\n",
      "user_id       500 non-null int64\n",
      "age           500 non-null int64\n",
      "churn_date    38 non-null object\n",
      "city          500 non-null object\n",
      "first_name    500 non-null object\n",
      "last_name     500 non-null object\n",
      "reg_date      500 non-null object\n",
      "tariff        500 non-null object\n",
      "dtypes: int64(2), object(6)\n",
      "memory usage: 31.4+ KB\n"
     ]
    }
   ],
   "source": [
    "users.info()"
   ]
  },
  {
   "cell_type": "code",
   "execution_count": 4,
   "metadata": {},
   "outputs": [
    {
     "data": {
      "text/html": [
       "<div>\n",
       "<style scoped>\n",
       "    .dataframe tbody tr th:only-of-type {\n",
       "        vertical-align: middle;\n",
       "    }\n",
       "\n",
       "    .dataframe tbody tr th {\n",
       "        vertical-align: top;\n",
       "    }\n",
       "\n",
       "    .dataframe thead th {\n",
       "        text-align: right;\n",
       "    }\n",
       "</style>\n",
       "<table border=\"1\" class=\"dataframe\">\n",
       "  <thead>\n",
       "    <tr style=\"text-align: right;\">\n",
       "      <th></th>\n",
       "      <th>user_id</th>\n",
       "      <th>age</th>\n",
       "      <th>churn_date</th>\n",
       "      <th>city</th>\n",
       "      <th>first_name</th>\n",
       "      <th>last_name</th>\n",
       "      <th>reg_date</th>\n",
       "      <th>tariff</th>\n",
       "    </tr>\n",
       "  </thead>\n",
       "  <tbody>\n",
       "    <tr>\n",
       "      <td>0</td>\n",
       "      <td>1000</td>\n",
       "      <td>52</td>\n",
       "      <td>NaN</td>\n",
       "      <td>Краснодар</td>\n",
       "      <td>Рафаил</td>\n",
       "      <td>Верещагин</td>\n",
       "      <td>2018-05-25</td>\n",
       "      <td>ultra</td>\n",
       "    </tr>\n",
       "    <tr>\n",
       "      <td>1</td>\n",
       "      <td>1001</td>\n",
       "      <td>41</td>\n",
       "      <td>NaN</td>\n",
       "      <td>Москва</td>\n",
       "      <td>Иван</td>\n",
       "      <td>Ежов</td>\n",
       "      <td>2018-11-01</td>\n",
       "      <td>smart</td>\n",
       "    </tr>\n",
       "    <tr>\n",
       "      <td>2</td>\n",
       "      <td>1002</td>\n",
       "      <td>59</td>\n",
       "      <td>NaN</td>\n",
       "      <td>Стерлитамак</td>\n",
       "      <td>Евгений</td>\n",
       "      <td>Абрамович</td>\n",
       "      <td>2018-06-17</td>\n",
       "      <td>smart</td>\n",
       "    </tr>\n",
       "    <tr>\n",
       "      <td>3</td>\n",
       "      <td>1003</td>\n",
       "      <td>23</td>\n",
       "      <td>NaN</td>\n",
       "      <td>Москва</td>\n",
       "      <td>Белла</td>\n",
       "      <td>Белякова</td>\n",
       "      <td>2018-08-17</td>\n",
       "      <td>ultra</td>\n",
       "    </tr>\n",
       "    <tr>\n",
       "      <td>4</td>\n",
       "      <td>1004</td>\n",
       "      <td>68</td>\n",
       "      <td>NaN</td>\n",
       "      <td>Новокузнецк</td>\n",
       "      <td>Татьяна</td>\n",
       "      <td>Авдеенко</td>\n",
       "      <td>2018-05-14</td>\n",
       "      <td>ultra</td>\n",
       "    </tr>\n",
       "    <tr>\n",
       "      <td>5</td>\n",
       "      <td>1005</td>\n",
       "      <td>67</td>\n",
       "      <td>NaN</td>\n",
       "      <td>Набережные Челны</td>\n",
       "      <td>Афанасий</td>\n",
       "      <td>Горлов</td>\n",
       "      <td>2018-01-25</td>\n",
       "      <td>smart</td>\n",
       "    </tr>\n",
       "    <tr>\n",
       "      <td>6</td>\n",
       "      <td>1006</td>\n",
       "      <td>21</td>\n",
       "      <td>NaN</td>\n",
       "      <td>Ульяновск</td>\n",
       "      <td>Леонид</td>\n",
       "      <td>Ермолаев</td>\n",
       "      <td>2018-02-26</td>\n",
       "      <td>smart</td>\n",
       "    </tr>\n",
       "    <tr>\n",
       "      <td>7</td>\n",
       "      <td>1007</td>\n",
       "      <td>65</td>\n",
       "      <td>NaN</td>\n",
       "      <td>Москва</td>\n",
       "      <td>Юна</td>\n",
       "      <td>Березина</td>\n",
       "      <td>2018-04-19</td>\n",
       "      <td>smart</td>\n",
       "    </tr>\n",
       "    <tr>\n",
       "      <td>8</td>\n",
       "      <td>1008</td>\n",
       "      <td>63</td>\n",
       "      <td>NaN</td>\n",
       "      <td>Челябинск</td>\n",
       "      <td>Рустэм</td>\n",
       "      <td>Пономарёв</td>\n",
       "      <td>2018-12-19</td>\n",
       "      <td>smart</td>\n",
       "    </tr>\n",
       "    <tr>\n",
       "      <td>9</td>\n",
       "      <td>1009</td>\n",
       "      <td>24</td>\n",
       "      <td>NaN</td>\n",
       "      <td>Пермь</td>\n",
       "      <td>Василиса</td>\n",
       "      <td>Блинова</td>\n",
       "      <td>2018-03-22</td>\n",
       "      <td>smart</td>\n",
       "    </tr>\n",
       "  </tbody>\n",
       "</table>\n",
       "</div>"
      ],
      "text/plain": [
       "   user_id  age churn_date              city first_name  last_name  \\\n",
       "0     1000   52        NaN         Краснодар     Рафаил  Верещагин   \n",
       "1     1001   41        NaN            Москва       Иван       Ежов   \n",
       "2     1002   59        NaN       Стерлитамак    Евгений  Абрамович   \n",
       "3     1003   23        NaN            Москва      Белла   Белякова   \n",
       "4     1004   68        NaN       Новокузнецк    Татьяна   Авдеенко   \n",
       "5     1005   67        NaN  Набережные Челны   Афанасий     Горлов   \n",
       "6     1006   21        NaN         Ульяновск     Леонид   Ермолаев   \n",
       "7     1007   65        NaN            Москва        Юна   Березина   \n",
       "8     1008   63        NaN         Челябинск     Рустэм  Пономарёв   \n",
       "9     1009   24        NaN             Пермь   Василиса    Блинова   \n",
       "\n",
       "     reg_date tariff  \n",
       "0  2018-05-25  ultra  \n",
       "1  2018-11-01  smart  \n",
       "2  2018-06-17  smart  \n",
       "3  2018-08-17  ultra  \n",
       "4  2018-05-14  ultra  \n",
       "5  2018-01-25  smart  \n",
       "6  2018-02-26  smart  \n",
       "7  2018-04-19  smart  \n",
       "8  2018-12-19  smart  \n",
       "9  2018-03-22  smart  "
      ]
     },
     "execution_count": 4,
     "metadata": {},
     "output_type": "execute_result"
    }
   ],
   "source": [
    "users.head(10)"
   ]
  },
  {
   "cell_type": "markdown",
   "metadata": {},
   "source": [
    "Таблица, как и соответствует заявленному, содержит 500 строк и 8 столбцов, один из которых (churn_date) содержит пропущенные значения в виде NaN'ов - показатели того, что на момент получения данных пользователь продолжал использовать тариф; типы данных столбцов churn_date и reg_name не соответствуют семантике полей - они должны иметь тип данных datetime, с этим мы разберемся позднее, забегая вперед, - эта проблема наблюдается во всех таблицах. В остальном - ничего необычного, пропущенные значения в неявном виде не замечены."
   ]
  },
  {
   "cell_type": "markdown",
   "metadata": {},
   "source": [
    "Теперь calls. "
   ]
  },
  {
   "cell_type": "code",
   "execution_count": 5,
   "metadata": {},
   "outputs": [],
   "source": [
    "calls = pd.read_csv('/datasets/calls.csv')"
   ]
  },
  {
   "cell_type": "code",
   "execution_count": 6,
   "metadata": {},
   "outputs": [
    {
     "name": "stdout",
     "output_type": "stream",
     "text": [
      "<class 'pandas.core.frame.DataFrame'>\n",
      "RangeIndex: 202607 entries, 0 to 202606\n",
      "Data columns (total 4 columns):\n",
      "id           202607 non-null object\n",
      "call_date    202607 non-null object\n",
      "duration     202607 non-null float64\n",
      "user_id      202607 non-null int64\n",
      "dtypes: float64(1), int64(1), object(2)\n",
      "memory usage: 6.2+ MB\n"
     ]
    }
   ],
   "source": [
    "calls.info()"
   ]
  },
  {
   "cell_type": "code",
   "execution_count": 7,
   "metadata": {},
   "outputs": [
    {
     "data": {
      "text/html": [
       "<div>\n",
       "<style scoped>\n",
       "    .dataframe tbody tr th:only-of-type {\n",
       "        vertical-align: middle;\n",
       "    }\n",
       "\n",
       "    .dataframe tbody tr th {\n",
       "        vertical-align: top;\n",
       "    }\n",
       "\n",
       "    .dataframe thead th {\n",
       "        text-align: right;\n",
       "    }\n",
       "</style>\n",
       "<table border=\"1\" class=\"dataframe\">\n",
       "  <thead>\n",
       "    <tr style=\"text-align: right;\">\n",
       "      <th></th>\n",
       "      <th>id</th>\n",
       "      <th>call_date</th>\n",
       "      <th>duration</th>\n",
       "      <th>user_id</th>\n",
       "    </tr>\n",
       "  </thead>\n",
       "  <tbody>\n",
       "    <tr>\n",
       "      <td>0</td>\n",
       "      <td>1000_0</td>\n",
       "      <td>2018-07-25</td>\n",
       "      <td>0.00</td>\n",
       "      <td>1000</td>\n",
       "    </tr>\n",
       "    <tr>\n",
       "      <td>1</td>\n",
       "      <td>1000_1</td>\n",
       "      <td>2018-08-17</td>\n",
       "      <td>0.00</td>\n",
       "      <td>1000</td>\n",
       "    </tr>\n",
       "    <tr>\n",
       "      <td>2</td>\n",
       "      <td>1000_2</td>\n",
       "      <td>2018-06-11</td>\n",
       "      <td>2.85</td>\n",
       "      <td>1000</td>\n",
       "    </tr>\n",
       "    <tr>\n",
       "      <td>3</td>\n",
       "      <td>1000_3</td>\n",
       "      <td>2018-09-21</td>\n",
       "      <td>13.80</td>\n",
       "      <td>1000</td>\n",
       "    </tr>\n",
       "    <tr>\n",
       "      <td>4</td>\n",
       "      <td>1000_4</td>\n",
       "      <td>2018-12-15</td>\n",
       "      <td>5.18</td>\n",
       "      <td>1000</td>\n",
       "    </tr>\n",
       "    <tr>\n",
       "      <td>5</td>\n",
       "      <td>1000_5</td>\n",
       "      <td>2018-11-02</td>\n",
       "      <td>0.00</td>\n",
       "      <td>1000</td>\n",
       "    </tr>\n",
       "    <tr>\n",
       "      <td>6</td>\n",
       "      <td>1000_6</td>\n",
       "      <td>2018-10-18</td>\n",
       "      <td>0.00</td>\n",
       "      <td>1000</td>\n",
       "    </tr>\n",
       "    <tr>\n",
       "      <td>7</td>\n",
       "      <td>1000_7</td>\n",
       "      <td>2018-08-22</td>\n",
       "      <td>18.31</td>\n",
       "      <td>1000</td>\n",
       "    </tr>\n",
       "    <tr>\n",
       "      <td>8</td>\n",
       "      <td>1000_8</td>\n",
       "      <td>2018-09-15</td>\n",
       "      <td>18.44</td>\n",
       "      <td>1000</td>\n",
       "    </tr>\n",
       "    <tr>\n",
       "      <td>9</td>\n",
       "      <td>1000_9</td>\n",
       "      <td>2018-08-15</td>\n",
       "      <td>0.00</td>\n",
       "      <td>1000</td>\n",
       "    </tr>\n",
       "  </tbody>\n",
       "</table>\n",
       "</div>"
      ],
      "text/plain": [
       "       id   call_date  duration  user_id\n",
       "0  1000_0  2018-07-25      0.00     1000\n",
       "1  1000_1  2018-08-17      0.00     1000\n",
       "2  1000_2  2018-06-11      2.85     1000\n",
       "3  1000_3  2018-09-21     13.80     1000\n",
       "4  1000_4  2018-12-15      5.18     1000\n",
       "5  1000_5  2018-11-02      0.00     1000\n",
       "6  1000_6  2018-10-18      0.00     1000\n",
       "7  1000_7  2018-08-22     18.31     1000\n",
       "8  1000_8  2018-09-15     18.44     1000\n",
       "9  1000_9  2018-08-15      0.00     1000"
      ]
     },
     "execution_count": 7,
     "metadata": {},
     "output_type": "execute_result"
    }
   ],
   "source": [
    "calls.head(10)"
   ]
  },
  {
   "cell_type": "markdown",
   "metadata": {},
   "source": [
    "В таблице calls у нас нет пропущенных значений в виде NaN'ов, об этом нас информирует результат работы метода info, но как видно из первых десяти строк датафрейма, в половине первых записей в столбце duration стоит значение 0.0. "
   ]
  },
  {
   "cell_type": "markdown",
   "metadata": {},
   "source": [
    "Посмотрим на messages. "
   ]
  },
  {
   "cell_type": "code",
   "execution_count": 8,
   "metadata": {},
   "outputs": [],
   "source": [
    "messages = pd.read_csv('/datasets/messages.csv')"
   ]
  },
  {
   "cell_type": "code",
   "execution_count": 9,
   "metadata": {},
   "outputs": [
    {
     "name": "stdout",
     "output_type": "stream",
     "text": [
      "<class 'pandas.core.frame.DataFrame'>\n",
      "RangeIndex: 123036 entries, 0 to 123035\n",
      "Data columns (total 3 columns):\n",
      "id              123036 non-null object\n",
      "message_date    123036 non-null object\n",
      "user_id         123036 non-null int64\n",
      "dtypes: int64(1), object(2)\n",
      "memory usage: 2.8+ MB\n"
     ]
    }
   ],
   "source": [
    "messages.info()"
   ]
  },
  {
   "cell_type": "code",
   "execution_count": 10,
   "metadata": {},
   "outputs": [
    {
     "data": {
      "text/html": [
       "<div>\n",
       "<style scoped>\n",
       "    .dataframe tbody tr th:only-of-type {\n",
       "        vertical-align: middle;\n",
       "    }\n",
       "\n",
       "    .dataframe tbody tr th {\n",
       "        vertical-align: top;\n",
       "    }\n",
       "\n",
       "    .dataframe thead th {\n",
       "        text-align: right;\n",
       "    }\n",
       "</style>\n",
       "<table border=\"1\" class=\"dataframe\">\n",
       "  <thead>\n",
       "    <tr style=\"text-align: right;\">\n",
       "      <th></th>\n",
       "      <th>id</th>\n",
       "      <th>message_date</th>\n",
       "      <th>user_id</th>\n",
       "    </tr>\n",
       "  </thead>\n",
       "  <tbody>\n",
       "    <tr>\n",
       "      <td>0</td>\n",
       "      <td>1000_0</td>\n",
       "      <td>2018-06-27</td>\n",
       "      <td>1000</td>\n",
       "    </tr>\n",
       "    <tr>\n",
       "      <td>1</td>\n",
       "      <td>1000_1</td>\n",
       "      <td>2018-10-08</td>\n",
       "      <td>1000</td>\n",
       "    </tr>\n",
       "    <tr>\n",
       "      <td>2</td>\n",
       "      <td>1000_2</td>\n",
       "      <td>2018-08-04</td>\n",
       "      <td>1000</td>\n",
       "    </tr>\n",
       "    <tr>\n",
       "      <td>3</td>\n",
       "      <td>1000_3</td>\n",
       "      <td>2018-06-16</td>\n",
       "      <td>1000</td>\n",
       "    </tr>\n",
       "    <tr>\n",
       "      <td>4</td>\n",
       "      <td>1000_4</td>\n",
       "      <td>2018-12-05</td>\n",
       "      <td>1000</td>\n",
       "    </tr>\n",
       "    <tr>\n",
       "      <td>5</td>\n",
       "      <td>1000_5</td>\n",
       "      <td>2018-06-20</td>\n",
       "      <td>1000</td>\n",
       "    </tr>\n",
       "    <tr>\n",
       "      <td>6</td>\n",
       "      <td>1000_6</td>\n",
       "      <td>2018-11-19</td>\n",
       "      <td>1000</td>\n",
       "    </tr>\n",
       "    <tr>\n",
       "      <td>7</td>\n",
       "      <td>1000_7</td>\n",
       "      <td>2018-10-29</td>\n",
       "      <td>1000</td>\n",
       "    </tr>\n",
       "    <tr>\n",
       "      <td>8</td>\n",
       "      <td>1000_8</td>\n",
       "      <td>2018-06-25</td>\n",
       "      <td>1000</td>\n",
       "    </tr>\n",
       "    <tr>\n",
       "      <td>9</td>\n",
       "      <td>1000_9</td>\n",
       "      <td>2018-12-18</td>\n",
       "      <td>1000</td>\n",
       "    </tr>\n",
       "  </tbody>\n",
       "</table>\n",
       "</div>"
      ],
      "text/plain": [
       "       id message_date  user_id\n",
       "0  1000_0   2018-06-27     1000\n",
       "1  1000_1   2018-10-08     1000\n",
       "2  1000_2   2018-08-04     1000\n",
       "3  1000_3   2018-06-16     1000\n",
       "4  1000_4   2018-12-05     1000\n",
       "5  1000_5   2018-06-20     1000\n",
       "6  1000_6   2018-11-19     1000\n",
       "7  1000_7   2018-10-29     1000\n",
       "8  1000_8   2018-06-25     1000\n",
       "9  1000_9   2018-12-18     1000"
      ]
     },
     "execution_count": 10,
     "metadata": {},
     "output_type": "execute_result"
    }
   ],
   "source": [
    "messages.head(10)"
   ]
  },
  {
   "cell_type": "markdown",
   "metadata": {},
   "source": [
    "Здесь все в порядке, кроме типа данных поля с датой."
   ]
  },
  {
   "cell_type": "markdown",
   "metadata": {},
   "source": [
    "Ознакомимся с таблицей internet."
   ]
  },
  {
   "cell_type": "code",
   "execution_count": 11,
   "metadata": {},
   "outputs": [],
   "source": [
    "internet = pd.read_csv('/datasets/internet.csv')"
   ]
  },
  {
   "cell_type": "code",
   "execution_count": 12,
   "metadata": {},
   "outputs": [
    {
     "name": "stdout",
     "output_type": "stream",
     "text": [
      "<class 'pandas.core.frame.DataFrame'>\n",
      "RangeIndex: 149396 entries, 0 to 149395\n",
      "Data columns (total 5 columns):\n",
      "Unnamed: 0      149396 non-null int64\n",
      "id              149396 non-null object\n",
      "mb_used         149396 non-null float64\n",
      "session_date    149396 non-null object\n",
      "user_id         149396 non-null int64\n",
      "dtypes: float64(1), int64(2), object(2)\n",
      "memory usage: 5.7+ MB\n"
     ]
    }
   ],
   "source": [
    "internet.info()"
   ]
  },
  {
   "cell_type": "code",
   "execution_count": 13,
   "metadata": {},
   "outputs": [
    {
     "data": {
      "text/html": [
       "<div>\n",
       "<style scoped>\n",
       "    .dataframe tbody tr th:only-of-type {\n",
       "        vertical-align: middle;\n",
       "    }\n",
       "\n",
       "    .dataframe tbody tr th {\n",
       "        vertical-align: top;\n",
       "    }\n",
       "\n",
       "    .dataframe thead th {\n",
       "        text-align: right;\n",
       "    }\n",
       "</style>\n",
       "<table border=\"1\" class=\"dataframe\">\n",
       "  <thead>\n",
       "    <tr style=\"text-align: right;\">\n",
       "      <th></th>\n",
       "      <th>Unnamed: 0</th>\n",
       "      <th>id</th>\n",
       "      <th>mb_used</th>\n",
       "      <th>session_date</th>\n",
       "      <th>user_id</th>\n",
       "    </tr>\n",
       "  </thead>\n",
       "  <tbody>\n",
       "    <tr>\n",
       "      <td>0</td>\n",
       "      <td>0</td>\n",
       "      <td>1000_0</td>\n",
       "      <td>112.95</td>\n",
       "      <td>2018-11-25</td>\n",
       "      <td>1000</td>\n",
       "    </tr>\n",
       "    <tr>\n",
       "      <td>1</td>\n",
       "      <td>1</td>\n",
       "      <td>1000_1</td>\n",
       "      <td>1052.81</td>\n",
       "      <td>2018-09-07</td>\n",
       "      <td>1000</td>\n",
       "    </tr>\n",
       "    <tr>\n",
       "      <td>2</td>\n",
       "      <td>2</td>\n",
       "      <td>1000_2</td>\n",
       "      <td>1197.26</td>\n",
       "      <td>2018-06-25</td>\n",
       "      <td>1000</td>\n",
       "    </tr>\n",
       "    <tr>\n",
       "      <td>3</td>\n",
       "      <td>3</td>\n",
       "      <td>1000_3</td>\n",
       "      <td>550.27</td>\n",
       "      <td>2018-08-22</td>\n",
       "      <td>1000</td>\n",
       "    </tr>\n",
       "    <tr>\n",
       "      <td>4</td>\n",
       "      <td>4</td>\n",
       "      <td>1000_4</td>\n",
       "      <td>302.56</td>\n",
       "      <td>2018-09-24</td>\n",
       "      <td>1000</td>\n",
       "    </tr>\n",
       "    <tr>\n",
       "      <td>5</td>\n",
       "      <td>5</td>\n",
       "      <td>1000_5</td>\n",
       "      <td>399.97</td>\n",
       "      <td>2018-10-02</td>\n",
       "      <td>1000</td>\n",
       "    </tr>\n",
       "    <tr>\n",
       "      <td>6</td>\n",
       "      <td>6</td>\n",
       "      <td>1000_6</td>\n",
       "      <td>540.08</td>\n",
       "      <td>2018-09-07</td>\n",
       "      <td>1000</td>\n",
       "    </tr>\n",
       "    <tr>\n",
       "      <td>7</td>\n",
       "      <td>7</td>\n",
       "      <td>1000_7</td>\n",
       "      <td>415.70</td>\n",
       "      <td>2018-07-11</td>\n",
       "      <td>1000</td>\n",
       "    </tr>\n",
       "    <tr>\n",
       "      <td>8</td>\n",
       "      <td>8</td>\n",
       "      <td>1000_8</td>\n",
       "      <td>505.40</td>\n",
       "      <td>2018-10-08</td>\n",
       "      <td>1000</td>\n",
       "    </tr>\n",
       "    <tr>\n",
       "      <td>9</td>\n",
       "      <td>9</td>\n",
       "      <td>1000_9</td>\n",
       "      <td>345.54</td>\n",
       "      <td>2018-09-03</td>\n",
       "      <td>1000</td>\n",
       "    </tr>\n",
       "  </tbody>\n",
       "</table>\n",
       "</div>"
      ],
      "text/plain": [
       "   Unnamed: 0      id  mb_used session_date  user_id\n",
       "0           0  1000_0   112.95   2018-11-25     1000\n",
       "1           1  1000_1  1052.81   2018-09-07     1000\n",
       "2           2  1000_2  1197.26   2018-06-25     1000\n",
       "3           3  1000_3   550.27   2018-08-22     1000\n",
       "4           4  1000_4   302.56   2018-09-24     1000\n",
       "5           5  1000_5   399.97   2018-10-02     1000\n",
       "6           6  1000_6   540.08   2018-09-07     1000\n",
       "7           7  1000_7   415.70   2018-07-11     1000\n",
       "8           8  1000_8   505.40   2018-10-08     1000\n",
       "9           9  1000_9   345.54   2018-09-03     1000"
      ]
     },
     "execution_count": 13,
     "metadata": {},
     "output_type": "execute_result"
    }
   ],
   "source": [
    "internet.head(10)"
   ]
  },
  {
   "cell_type": "markdown",
   "metadata": {},
   "source": [
    "В этой таблице у нас появился столбец unnamed, значения которого дублируют индекс. Мы позже его удалим. "
   ]
  },
  {
   "cell_type": "markdown",
   "metadata": {},
   "source": [
    "И посмотрим на последнюю таблицу - tariffs."
   ]
  },
  {
   "cell_type": "code",
   "execution_count": 14,
   "metadata": {},
   "outputs": [],
   "source": [
    "tariffs = pd.read_csv('/datasets/tariffs.csv')"
   ]
  },
  {
   "cell_type": "code",
   "execution_count": 15,
   "metadata": {},
   "outputs": [
    {
     "name": "stdout",
     "output_type": "stream",
     "text": [
      "<class 'pandas.core.frame.DataFrame'>\n",
      "RangeIndex: 2 entries, 0 to 1\n",
      "Data columns (total 8 columns):\n",
      "messages_included        2 non-null int64\n",
      "mb_per_month_included    2 non-null int64\n",
      "minutes_included         2 non-null int64\n",
      "rub_monthly_fee          2 non-null int64\n",
      "rub_per_gb               2 non-null int64\n",
      "rub_per_message          2 non-null int64\n",
      "rub_per_minute           2 non-null int64\n",
      "tariff_name              2 non-null object\n",
      "dtypes: int64(7), object(1)\n",
      "memory usage: 256.0+ bytes\n"
     ]
    }
   ],
   "source": [
    "tariffs.info()"
   ]
  },
  {
   "cell_type": "code",
   "execution_count": 16,
   "metadata": {},
   "outputs": [
    {
     "data": {
      "text/html": [
       "<div>\n",
       "<style scoped>\n",
       "    .dataframe tbody tr th:only-of-type {\n",
       "        vertical-align: middle;\n",
       "    }\n",
       "\n",
       "    .dataframe tbody tr th {\n",
       "        vertical-align: top;\n",
       "    }\n",
       "\n",
       "    .dataframe thead th {\n",
       "        text-align: right;\n",
       "    }\n",
       "</style>\n",
       "<table border=\"1\" class=\"dataframe\">\n",
       "  <thead>\n",
       "    <tr style=\"text-align: right;\">\n",
       "      <th></th>\n",
       "      <th>messages_included</th>\n",
       "      <th>mb_per_month_included</th>\n",
       "      <th>minutes_included</th>\n",
       "      <th>rub_monthly_fee</th>\n",
       "      <th>rub_per_gb</th>\n",
       "      <th>rub_per_message</th>\n",
       "      <th>rub_per_minute</th>\n",
       "      <th>tariff_name</th>\n",
       "    </tr>\n",
       "  </thead>\n",
       "  <tbody>\n",
       "    <tr>\n",
       "      <td>0</td>\n",
       "      <td>50</td>\n",
       "      <td>15360</td>\n",
       "      <td>500</td>\n",
       "      <td>550</td>\n",
       "      <td>200</td>\n",
       "      <td>3</td>\n",
       "      <td>3</td>\n",
       "      <td>smart</td>\n",
       "    </tr>\n",
       "    <tr>\n",
       "      <td>1</td>\n",
       "      <td>1000</td>\n",
       "      <td>30720</td>\n",
       "      <td>3000</td>\n",
       "      <td>1950</td>\n",
       "      <td>150</td>\n",
       "      <td>1</td>\n",
       "      <td>1</td>\n",
       "      <td>ultra</td>\n",
       "    </tr>\n",
       "  </tbody>\n",
       "</table>\n",
       "</div>"
      ],
      "text/plain": [
       "   messages_included  mb_per_month_included  minutes_included  \\\n",
       "0                 50                  15360               500   \n",
       "1               1000                  30720              3000   \n",
       "\n",
       "   rub_monthly_fee  rub_per_gb  rub_per_message  rub_per_minute tariff_name  \n",
       "0              550         200                3               3       smart  \n",
       "1             1950         150                1               1       ultra  "
      ]
     },
     "execution_count": 16,
     "metadata": {},
     "output_type": "execute_result"
    }
   ],
   "source": [
    "tariffs"
   ]
  },
  {
   "cell_type": "markdown",
   "metadata": {},
   "source": [
    "Ну, здесь у нас точно все хорошо."
   ]
  },
  {
   "cell_type": "markdown",
   "metadata": {},
   "source": [
    "**Выводы по Шагу 1**: итак, на данном шаге мы ознакомились с данными, предоставленными нам для работы. Для каждой из пяти таблиц мы вызвали методы info, чтобы просмотреть общую информацию, и head, для того, чтобы ознакомиться с первыми строками таблиц. Были выявлены сразу некоторые общие для всех датасетов проблемы - несоответствие типов данных полей с датой семантике вопроса. Были выявлены и некоторые индивидуальные особенности - столбец, дублирующий индекс, например. Но в общем, можно сказать: наши данные почти идеальны. "
   ]
  },
  {
   "cell_type": "markdown",
   "metadata": {},
   "source": [
    "<h3>Шаг 2: Подготовка данных </h3>\n",
    "<a id='prepare'></a>"
   ]
  },
  {
   "cell_type": "markdown",
   "metadata": {},
   "source": [
    "Наша работа на данном шаге будет проводиться в два этапа: сначала мы предобработаем данные - приведем их к нужным типам и рассмотрим поближе ошибки, которые упомянули при знакомстве с таблицами, затем - создадим новый датафрейм и заполним его информацией, которая потребуется нам для дальнейшего исследования."
   ]
  },
  {
   "cell_type": "markdown",
   "metadata": {},
   "source": [
    "<h3>Предобработка данных: изменение типов данных и работа с ошибками</h3>\n",
    "<a id='preproc'></a>"
   ]
  },
  {
   "cell_type": "markdown",
   "metadata": {},
   "source": [
    "Начнем с рассмотрения ошибок. "
   ]
  },
  {
   "cell_type": "markdown",
   "metadata": {},
   "source": [
    "В дальнейшем нам потребуется рассчитать выручку от пользователей тарифов. Для этого нам потребуются столбцы с датой, один из которых - churn_date из users, содержащий в себе пропущенные значения. Мы можем оставить все как есть, методы pandas позволят нам обработать значения данного столбца в любом случае - привести непропущенные значения к datetime. Но лучше, конечно, от них избавиться, особенно, учитывая то, что у нас есть, чем их заменить - мы знаем, что нам предоставлены данные за 2018 год, то есть формально - прекращение использования тарифа пользователем в 2018 году происходит 31 декабря 2018 года. Заменим пропущенные значения в данном столбце."
   ]
  },
  {
   "cell_type": "code",
   "execution_count": 17,
   "metadata": {},
   "outputs": [],
   "source": [
    "users = users.fillna({'churn_date' : '2018-12-31'})"
   ]
  },
  {
   "cell_type": "markdown",
   "metadata": {},
   "source": [
    "Это, конечно, не ошибка, а значение, сигнализирующее об определенном положении вещей, о котором мы были предупреждены заранее. Но выделить этот момент - необходимо. Идем дальше. "
   ]
  },
  {
   "cell_type": "markdown",
   "metadata": {},
   "source": [
    "Очень интересная ситуация у нас в calls в столбце duration.Там присутствуют значения 0.0, кои вполне могут сигнализировать о звонках, где собеседник не взял трубку. Посчитаем их процентное соотношение к общему количеству записей."
   ]
  },
  {
   "cell_type": "code",
   "execution_count": 18,
   "metadata": {},
   "outputs": [
    {
     "data": {
      "text/plain": [
       "'19.55%'"
      ]
     },
     "execution_count": 18,
     "metadata": {},
     "output_type": "execute_result"
    }
   ],
   "source": [
    "str(round(calls.query('duration == 0').shape[0] / calls.shape[0] * 100, 2)) + '%'"
   ]
  },
  {
   "cell_type": "markdown",
   "metadata": {},
   "source": [
    "Почти 20 процентов - пятая часть таблицы. "
   ]
  },
  {
   "cell_type": "markdown",
   "metadata": {},
   "source": [
    "Давайте подумаем, на что повлияет удаление, или наоборот - игнорирование, такой крупной части таблицы и что мы можем сделать с этим."
   ]
  },
  {
   "cell_type": "markdown",
   "metadata": {},
   "source": [
    "Во-первых, при удалении при подсчете количества звонков изменится их количество для каждого пользователя и в целом. Рассмотрим этот пункт подробнее. Каждый пропущенный звонок - это потенциальный разговор, вопрос лишь в том - перезвонил ли user после или нет? Тут варианта два. Допустим, в половине случае пользователь решил перезвонить, тогда наши нулевые duration не имеют никакого смысла - это просто дубль звонка, а еще допустим, что не перезвонил - тогда этот звонок может расцениваться как потенциальная трата минут, как потенциальный самостоятельный звонок, который надо бы зафиксировать в величине 'количество звонков'. Но если взглянуть на план нашей дальнейшей работы, можно понять, что эта величина не так уж и сильно нас волнует - мы фокусируемся на количестве минут в данном исследовании, хоть в следующем пункте нам и предложено посчитать для каждого клиента количество звонков. По этому пункту нельзя дать точного ответа - удалять или оставлять. "
   ]
  },
  {
   "cell_type": "markdown",
   "metadata": {},
   "source": [
    "Во-вторых, при удалении данных записей медианное и среднее время звонка станут более корректными, фактическое значение будет соответствовать семантике вопроса - ведь учет пропущенных звонков в таких величинах не есть правильное действие. Плюсик в сторону удаления."
   ]
  },
  {
   "cell_type": "markdown",
   "metadata": {},
   "source": [
    "В-третьих, при удалении данных записей не изменятся сильно важные для нас величины: количество минут, израсходованных каждым пользователем за месяц и суммарно за год, но мы избавимся от строк, содержащих мало полезной информации, и будем точно уверены в нашем датафрейме."
   ]
  },
  {
   "cell_type": "markdown",
   "metadata": {},
   "source": [
    "Очевидно, мы можем удалить записи, в которых столбец duration содержит значение 0. Сделаем это."
   ]
  },
  {
   "cell_type": "code",
   "execution_count": 19,
   "metadata": {},
   "outputs": [],
   "source": [
    "calls = calls.drop(calls.query('duration == 0').index).reset_index(drop=True)"
   ]
  },
  {
   "cell_type": "markdown",
   "metadata": {},
   "source": [
    "Раз у нас появились нулевые значения в звонках - результаты невзятых трубок, может быть, и в таблице с интернет-сессиями у нас есть нулевые значения. Этому можно было бы найти целый ряд объяснений: закончился трафик, пользователь передумал выходить в сеть. "
   ]
  },
  {
   "cell_type": "code",
   "execution_count": 20,
   "metadata": {},
   "outputs": [
    {
     "data": {
      "text/plain": [
       "'13.12%'"
      ]
     },
     "execution_count": 20,
     "metadata": {},
     "output_type": "execute_result"
    }
   ],
   "source": [
    "str(round(internet.query('mb_used == 0').shape[0] / internet.shape[0] * 100, 2)) + '%'"
   ]
  },
  {
   "cell_type": "markdown",
   "metadata": {},
   "source": [
    "Удивительно, но и в этой таблице имеются подобные записи. Размышляя точно так, как и в предыдущем случае, можно получить то же решение - удалить подобные строки. Сделаем это. "
   ]
  },
  {
   "cell_type": "code",
   "execution_count": 21,
   "metadata": {},
   "outputs": [],
   "source": [
    "internet = internet.drop(internet.query('mb_used == 0').index).reset_index(drop=True)"
   ]
  },
  {
   "cell_type": "markdown",
   "metadata": {},
   "source": [
    "Перейдем к следующей проблеме. Вспомним, что в таблице internet у нас лишний столбец. Удалим его."
   ]
  },
  {
   "cell_type": "code",
   "execution_count": 22,
   "metadata": {},
   "outputs": [],
   "source": [
    "internet = internet.drop(columns=['Unnamed: 0'])"
   ]
  },
  {
   "cell_type": "markdown",
   "metadata": {},
   "source": [
    "Данная ошибка выглядит как попытка добавить столбец с индексами вручную. Вероятно, так оно и было. Либо это попытка какого-то другого средства добавить индексы при сборе данных. "
   ]
  },
  {
   "cell_type": "markdown",
   "metadata": {},
   "source": [
    "Никаких других проблем при знакомстве с данными выявлено не было. Теперь поменяем типы данных некоторых столбцов, а именно - содержащих даты. Напишем функцию для этого."
   ]
  },
  {
   "cell_type": "code",
   "execution_count": 23,
   "metadata": {},
   "outputs": [],
   "source": [
    "def change(data, column):\n",
    "    data[column] = pd.to_datetime(data[column], format='%Y-%m-%d')"
   ]
  },
  {
   "cell_type": "code",
   "execution_count": 24,
   "metadata": {},
   "outputs": [],
   "source": [
    "change(users, 'churn_date')\n",
    "change(users, 'reg_date')\n",
    "change(calls, 'call_date')\n",
    "change(messages, 'message_date')\n",
    "change(internet, 'session_date')"
   ]
  },
  {
   "cell_type": "markdown",
   "metadata": {},
   "source": [
    "Вызовем метод info к одному из датафреймов, чтобы посмотреть, все ли получилось."
   ]
  },
  {
   "cell_type": "code",
   "execution_count": 25,
   "metadata": {},
   "outputs": [
    {
     "name": "stdout",
     "output_type": "stream",
     "text": [
      "<class 'pandas.core.frame.DataFrame'>\n",
      "RangeIndex: 123036 entries, 0 to 123035\n",
      "Data columns (total 3 columns):\n",
      "id              123036 non-null object\n",
      "message_date    123036 non-null datetime64[ns]\n",
      "user_id         123036 non-null int64\n",
      "dtypes: datetime64[ns](1), int64(1), object(1)\n",
      "memory usage: 2.8+ MB\n"
     ]
    }
   ],
   "source": [
    "messages.info()"
   ]
  },
  {
   "cell_type": "markdown",
   "metadata": {},
   "source": [
    "Да, тип данных поменялся."
   ]
  },
  {
   "cell_type": "markdown",
   "metadata": {},
   "source": [
    "Обратим внимание, на примечание, которое нам оставили: «Мегалайн» всегда округляет вверх значения минут и мегабайтов. Что это для нас значит? Необходимо в таблицах округлить наши значения - чтобы, например, столбец, содержащий в себе продолжительность разговора, имел целочисленный тип данных - никаких секунд. Будем работать с duration из calls и mb_used из internet."
   ]
  },
  {
   "cell_type": "code",
   "execution_count": 26,
   "metadata": {},
   "outputs": [],
   "source": [
    "calls['duration'] = np.ceil(calls['duration']).astype('int64')"
   ]
  },
  {
   "cell_type": "code",
   "execution_count": 27,
   "metadata": {},
   "outputs": [],
   "source": [
    "internet['mb_used'] = np.ceil(internet['mb_used']).astype('int64')"
   ]
  },
  {
   "cell_type": "markdown",
   "metadata": {},
   "source": [
    "Готово."
   ]
  },
  {
   "cell_type": "markdown",
   "metadata": {},
   "source": [
    "Вывод по подпункту: мы провели важную работу - привели наши данные в лучший вид, избавились от ошибок, пропущенных значений, а также сделали так, чтоб столбцы, содержащие даты, имели соответствующий тип данных и учли особенности компании, данные от которой мы исследуем. Можем идти дальше."
   ]
  },
  {
   "cell_type": "markdown",
   "metadata": {},
   "source": [
    "<h3>Добавление новой информации</h3>\n",
    "<a id='adding'></a>"
   ]
  },
  {
   "cell_type": "markdown",
   "metadata": {},
   "source": [
    "Так, здесь нам необходимо подсчитать для каждого пользователя: "
   ]
  },
  {
   "cell_type": "markdown",
   "metadata": {},
   "source": [
    "    - количество сделанных звонков и израсходованных минут разговора по месяцам;\n",
    "    - количество отправленных сообщений по месяцам;\n",
    "    - объем израсходованного интернет-трафика по месяцам;\n",
    "    - помесячную выручку с каждого пользователя."
   ]
  },
  {
   "cell_type": "markdown",
   "metadata": {},
   "source": [
    "Немного логики работы оператора: будем придерживаться версии о том, что абонентская плата списывается не первого числа каждого месяца, а в определенное число - в тот день, когда произошла регистрация, например, пользователь зарегистрировался 4 ноября, значит плату с него списывают каждое 4 число. Деньги в этот день списывают за следующий (!) месяц. Если пользователь прекратил использование тарифа до окончания пакета, то деньги ему не возвращают. Это соответствует объективной реальности, но делает наши вычисления сложнее. Эти факты дают нам сделать ряд выводов, имеющих непосредственное отношение к нашей дальнейшей работе: во-первых, нам надо будет выделить такой день X для каждого пользователя, хранить его где-то, во-вторых, получаем, что таких отрезков по месяцу у нас будет максимум 12 для каждого пользователя, а один из них - последний, с большой вероятностью будет неполным."
   ]
  },
  {
   "cell_type": "markdown",
   "metadata": {},
   "source": [
    "Создадим объект Series, в который поместим дни списания денежных средств для каждого пользователя; устройство таблицы users, из которой мы будем брать информацию для создания данного объекта, позволяет нам сказать, что i-тый индекс нашего Series содержит в себе информацию о дне платежа пользователя, информация о котором содержалась в i-той строке users,  а значит - его user_id это i+1000. Также создадим Series с месяцами, в которые пользователи прекращали использовать тариф. Это позволит нам затем убрать неполные месяцы."
   ]
  },
  {
   "cell_type": "code",
   "execution_count": 28,
   "metadata": {},
   "outputs": [],
   "source": [
    "users_days = users['reg_date'].dt.day\n",
    "users_churn_month = users['churn_date'].dt.month"
   ]
  },
  {
   "cell_type": "markdown",
   "metadata": {},
   "source": [
    "Создадим новый датафрейм для хранения наших новых, рассчитанных данных.  Нам потребуется столбец для user_id."
   ]
  },
  {
   "cell_type": "code",
   "execution_count": 29,
   "metadata": {},
   "outputs": [],
   "source": [
    "users_used = pd.DataFrame()\n",
    "users_used['user_id'] = users['user_id']"
   ]
  },
  {
   "cell_type": "markdown",
   "metadata": {},
   "source": [
    "Еще немного логики работы оператора: будем рассматривать месяцы как почти календарные, будто, начало месяца смещается с 1 числа на X число - день списания денежных средств и обновления тарифа. Например: у А. день списания средств 6 число, потому что он подключился к тарифу 6 марта, звонок А. от 8 апреля - это звонок, который соответствует месяцу 4 (примерно, апрель), а вот звонок от 3 апреля - месяцу 3 - марту, поскольку на этот момент день X - день списания средств, день 'начала нового месяца', еще не наступил. "
   ]
  },
  {
   "cell_type": "markdown",
   "metadata": {},
   "source": [
    "Создадим функцию для вышеописанного действия - определения по дате сообщения/звонка/сессии, к какому отрезку-месяцу относятся перечисленные. "
   ]
  },
  {
   "cell_type": "code",
   "execution_count": 30,
   "metadata": {},
   "outputs": [],
   "source": [
    "def definer(date, pay_day):\n",
    "    if date.day < pay_day: \n",
    "        month = date.month - 1\n",
    "    else: \n",
    "        month = date.month\n",
    "    return month"
   ]
  },
  {
   "cell_type": "markdown",
   "metadata": {},
   "source": [
    "Далее наша задача - используя данную функцию, определить к какому месяцу относится сообщение/звонок/сессия. Для этого в каждой из соответствующих таблиц создадим отдельный столбец. Затем сможем удобно группировать наши датафреймы. "
   ]
  },
  {
   "cell_type": "code",
   "execution_count": 31,
   "metadata": {},
   "outputs": [],
   "source": [
    "def cat(row, column_name):\n",
    "    pay_day = users_days[row['user_id'] - 1000]\n",
    "    date = row[column_name]\n",
    "    return definer(date, pay_day)\n",
    "def adder(data, column_name):\n",
    "    data['cat'] = data.apply(cat, args=(column_name,), axis=1)"
   ]
  },
  {
   "cell_type": "code",
   "execution_count": 32,
   "metadata": {},
   "outputs": [],
   "source": [
    "adder(calls, 'call_date')\n",
    "adder(messages, 'message_date')\n",
    "adder(internet, 'session_date')"
   ]
  },
  {
   "cell_type": "markdown",
   "metadata": {},
   "source": [
    "Итак, мы добавили столбцы во все таблицы. Можем группировать, а затем сводить в общую таблицу."
   ]
  },
  {
   "cell_type": "code",
   "execution_count": 33,
   "metadata": {},
   "outputs": [
    {
     "name": "stderr",
     "output_type": "stream",
     "text": [
      "C:\\Users\\Acer\\anaconda3\\envs\\practicum\\lib\\site-packages\\pandas\\core\\reshape\\merge.py:617: UserWarning: merging between different levels can give an unintended result (1 levels on the left, 2 on the right)\n",
      "  warnings.warn(msg, UserWarning)\n"
     ]
    }
   ],
   "source": [
    "users_used = users_used.merge(calls.pivot_table(\n",
    "    index='user_id', columns='cat', values='duration', aggfunc=['sum', 'count']\n",
    "), how='outer', on='user_id')\n",
    "users_used = users_used.merge(messages.pivot_table(\n",
    "    index='user_id', columns='cat', values='id', aggfunc='count'\n",
    "), how='outer', on='user_id')\n",
    "users_used = users_used.merge(internet.pivot_table(\n",
    "    index='user_id', columns='cat', values='mb_used', aggfunc='sum'\n",
    "), how='outer', on='user_id')"
   ]
  },
  {
   "cell_type": "markdown",
   "metadata": {},
   "source": [
    "Вызовем метод info, чтобы быть в курсе событий. "
   ]
  },
  {
   "cell_type": "code",
   "execution_count": 34,
   "metadata": {},
   "outputs": [
    {
     "name": "stdout",
     "output_type": "stream",
     "text": [
      "<class 'pandas.core.frame.DataFrame'>\n",
      "Int64Index: 500 entries, 0 to 499\n",
      "Data columns (total 49 columns):\n",
      "user_id        500 non-null int64\n",
      "(sum, 1)       43 non-null float64\n",
      "(sum, 2)       82 non-null float64\n",
      "(sum, 3)       114 non-null float64\n",
      "(sum, 4)       166 non-null float64\n",
      "(sum, 5)       205 non-null float64\n",
      "(sum, 6)       245 non-null float64\n",
      "(sum, 7)       288 non-null float64\n",
      "(sum, 8)       336 non-null float64\n",
      "(sum, 9)       368 non-null float64\n",
      "(sum, 10)      406 non-null float64\n",
      "(sum, 11)      441 non-null float64\n",
      "(sum, 12)      463 non-null float64\n",
      "(count, 1)     43 non-null float64\n",
      "(count, 2)     82 non-null float64\n",
      "(count, 3)     114 non-null float64\n",
      "(count, 4)     166 non-null float64\n",
      "(count, 5)     205 non-null float64\n",
      "(count, 6)     245 non-null float64\n",
      "(count, 7)     288 non-null float64\n",
      "(count, 8)     336 non-null float64\n",
      "(count, 9)     368 non-null float64\n",
      "(count, 10)    406 non-null float64\n",
      "(count, 11)    441 non-null float64\n",
      "(count, 12)    463 non-null float64\n",
      "1_x            39 non-null float64\n",
      "2_x            67 non-null float64\n",
      "3_x            94 non-null float64\n",
      "4_x            139 non-null float64\n",
      "5_x            174 non-null float64\n",
      "6_x            210 non-null float64\n",
      "7_x            249 non-null float64\n",
      "8_x            291 non-null float64\n",
      "9_x            318 non-null float64\n",
      "10_x           352 non-null float64\n",
      "11_x           382 non-null float64\n",
      "12_x           392 non-null float64\n",
      "1_y            43 non-null float64\n",
      "2_y            82 non-null float64\n",
      "3_y            114 non-null float64\n",
      "4_y            167 non-null float64\n",
      "5_y            207 non-null float64\n",
      "6_y            247 non-null float64\n",
      "7_y            291 non-null float64\n",
      "8_y            341 non-null float64\n",
      "9_y            372 non-null float64\n",
      "10_y           411 non-null float64\n",
      "11_y           447 non-null float64\n",
      "12_y           466 non-null float64\n",
      "dtypes: float64(48), int64(1)\n",
      "memory usage: 195.3 KB\n"
     ]
    }
   ],
   "source": [
    "users_used.info()"
   ]
  },
  {
   "cell_type": "markdown",
   "metadata": {},
   "source": [
    "Нам необходимо поменять названия столбцов,типы данных, заполнить пропуски и пересчитать мегабайты в гигабайты. Начнем с последнего. Помним, что результат  слияния сводной таблицы с результатом группировки таблицы internet - крайние 12 столбцов. При пересчете округляем до целого: пользователь либо покупает гигабайт, либо нет."
   ]
  },
  {
   "cell_type": "code",
   "execution_count": 35,
   "metadata": {},
   "outputs": [],
   "source": [
    "def mgtogb(amount):\n",
    "    return np.ceil(amount/1024)\n",
    "for i in range(1,13):\n",
    "    column_name = str(i) + '_y'\n",
    "    users_used[column_name] = users_used[column_name].apply(mgtogb)"
   ]
  },
  {
   "cell_type": "markdown",
   "metadata": {},
   "source": [
    "Проведем остальные манипуляции с таблицей."
   ]
  },
  {
   "cell_type": "code",
   "execution_count": 36,
   "metadata": {},
   "outputs": [],
   "source": [
    "users_used.fillna(0, inplace=True)"
   ]
  },
  {
   "cell_type": "code",
   "execution_count": 37,
   "metadata": {},
   "outputs": [],
   "source": [
    "name_list = ['user_id']\n",
    "name_suf = ['calls_sum_','calls_count_', 'messages_count_','internet_sum_']\n",
    "for i in name_suf:\n",
    "    for j in range(1,13):\n",
    "        name_list.append(i + str(j))\n",
    "users_used.set_axis(name_list, axis='columns', inplace=True)"
   ]
  },
  {
   "cell_type": "code",
   "execution_count": 38,
   "metadata": {},
   "outputs": [],
   "source": [
    "for i in name_list[1:]: \n",
    "    users_used[i] = users_used[i].astype('int64')"
   ]
  },
  {
   "cell_type": "code",
   "execution_count": 39,
   "metadata": {},
   "outputs": [
    {
     "name": "stdout",
     "output_type": "stream",
     "text": [
      "<class 'pandas.core.frame.DataFrame'>\n",
      "Int64Index: 500 entries, 0 to 499\n",
      "Data columns (total 49 columns):\n",
      "user_id              500 non-null int64\n",
      "calls_sum_1          500 non-null int64\n",
      "calls_sum_2          500 non-null int64\n",
      "calls_sum_3          500 non-null int64\n",
      "calls_sum_4          500 non-null int64\n",
      "calls_sum_5          500 non-null int64\n",
      "calls_sum_6          500 non-null int64\n",
      "calls_sum_7          500 non-null int64\n",
      "calls_sum_8          500 non-null int64\n",
      "calls_sum_9          500 non-null int64\n",
      "calls_sum_10         500 non-null int64\n",
      "calls_sum_11         500 non-null int64\n",
      "calls_sum_12         500 non-null int64\n",
      "calls_count_1        500 non-null int64\n",
      "calls_count_2        500 non-null int64\n",
      "calls_count_3        500 non-null int64\n",
      "calls_count_4        500 non-null int64\n",
      "calls_count_5        500 non-null int64\n",
      "calls_count_6        500 non-null int64\n",
      "calls_count_7        500 non-null int64\n",
      "calls_count_8        500 non-null int64\n",
      "calls_count_9        500 non-null int64\n",
      "calls_count_10       500 non-null int64\n",
      "calls_count_11       500 non-null int64\n",
      "calls_count_12       500 non-null int64\n",
      "messages_count_1     500 non-null int64\n",
      "messages_count_2     500 non-null int64\n",
      "messages_count_3     500 non-null int64\n",
      "messages_count_4     500 non-null int64\n",
      "messages_count_5     500 non-null int64\n",
      "messages_count_6     500 non-null int64\n",
      "messages_count_7     500 non-null int64\n",
      "messages_count_8     500 non-null int64\n",
      "messages_count_9     500 non-null int64\n",
      "messages_count_10    500 non-null int64\n",
      "messages_count_11    500 non-null int64\n",
      "messages_count_12    500 non-null int64\n",
      "internet_sum_1       500 non-null int64\n",
      "internet_sum_2       500 non-null int64\n",
      "internet_sum_3       500 non-null int64\n",
      "internet_sum_4       500 non-null int64\n",
      "internet_sum_5       500 non-null int64\n",
      "internet_sum_6       500 non-null int64\n",
      "internet_sum_7       500 non-null int64\n",
      "internet_sum_8       500 non-null int64\n",
      "internet_sum_9       500 non-null int64\n",
      "internet_sum_10      500 non-null int64\n",
      "internet_sum_11      500 non-null int64\n",
      "internet_sum_12      500 non-null int64\n",
      "dtypes: int64(49)\n",
      "memory usage: 195.3 KB\n"
     ]
    }
   ],
   "source": [
    "users_used.info()"
   ]
  },
  {
   "cell_type": "markdown",
   "metadata": {},
   "source": [
    "Сейчас мы можем заняться подсчет помесячной прибыли с каждого пользователя. Но перед этим нам надо разобраться с последними месяцами. Итак, для каждого пользователя в нашей системе расчета платы есть неполный месяц (в большинстве случаев, конечно): либо это завершение использования тарифа ранее, чем кончается пакет и наступает день платы за новый месяца, либо конец года. Для каждого пользователя приравняем к нулю информацию об его опыте использовании тарифа в последний месяц. Затем проверим, имеет ли смысл держать в таблице поля про 12 месяц, и, если что, удалим их."
   ]
  },
  {
   "cell_type": "code",
   "execution_count": 40,
   "metadata": {},
   "outputs": [],
   "source": [
    "for i in range(1000, 1500):\n",
    "    churn_m = users_churn_month[i-1000]\n",
    "    for name in name_suf:\n",
    "        c = name + str(churn_m)\n",
    "        users_used.loc[i-1000, c] = 0"
   ]
  },
  {
   "cell_type": "code",
   "execution_count": 41,
   "metadata": {},
   "outputs": [
    {
     "data": {
      "text/plain": [
       "array([0], dtype=int64)"
      ]
     },
     "execution_count": 41,
     "metadata": {},
     "output_type": "execute_result"
    }
   ],
   "source": [
    "users_used['calls_sum_12'].unique()"
   ]
  },
  {
   "cell_type": "code",
   "execution_count": 42,
   "metadata": {},
   "outputs": [
    {
     "data": {
      "text/plain": [
       "array([0], dtype=int64)"
      ]
     },
     "execution_count": 42,
     "metadata": {},
     "output_type": "execute_result"
    }
   ],
   "source": [
    "users_used['internet_sum_12'].unique()"
   ]
  },
  {
   "cell_type": "code",
   "execution_count": 43,
   "metadata": {},
   "outputs": [
    {
     "data": {
      "text/plain": [
       "array([0], dtype=int64)"
      ]
     },
     "execution_count": 43,
     "metadata": {},
     "output_type": "execute_result"
    }
   ],
   "source": [
    "users_used['messages_count_12'].unique()"
   ]
  },
  {
   "cell_type": "markdown",
   "metadata": {},
   "source": [
    "Очевидно, поля, содержащие информацию о 12 месяце, можно удалить."
   ]
  },
  {
   "cell_type": "code",
   "execution_count": 44,
   "metadata": {},
   "outputs": [],
   "source": [
    "columns = []\n",
    "for i in name_suf:\n",
    "    columns.append(i + str(12))\n",
    "users_used = users_used.drop(columns=columns)"
   ]
  },
  {
   "cell_type": "markdown",
   "metadata": {},
   "source": [
    "Займемся подсчетом прибыли."
   ]
  },
  {
   "cell_type": "code",
   "execution_count": 45,
   "metadata": {},
   "outputs": [],
   "source": [
    "def revenue(row, month):\n",
    "    total = 0\n",
    "    calls = row['calls_sum_' + str(month)]\n",
    "    messages = row['messages_count_' + str(month)]\n",
    "    internet = row['internet_sum_' + str(month)]\n",
    "    user_id = row['user_id']\n",
    "    tariff = users.query('user_id == @user_id')['tariff']\n",
    "    tariff = tariff.loc[user_id - 1000]\n",
    "    if calls == 0 and messages == 0 and internet == 0: \n",
    "        return 0\n",
    "    if tariff == 'smart':\n",
    "        i = 0\n",
    "    else:\n",
    "        i = 1\n",
    "    if tariffs.loc[i, 'minutes_included'] < calls: \n",
    "        total += (calls - tariffs.loc[i,'minutes_included']) * tariffs.loc[i,'rub_per_minute']\n",
    "    if tariffs.loc[i, 'messages_included'] < messages: \n",
    "        total += (messages - tariffs.loc[i, 'messages_included']) * tariffs.loc[i, 'rub_per_message']\n",
    "    if tariffs.loc[i, 'mb_per_month_included'] < internet:\n",
    "        total += (internet - tariffs.loc[i, 'mb_per_month_included']) * tariffs.loc[i,'rub_per_gb']\n",
    "    total+= tariffs.loc[i, 'rub_monthly_fee']\n",
    "    return total"
   ]
  },
  {
   "cell_type": "code",
   "execution_count": 46,
   "metadata": {},
   "outputs": [],
   "source": [
    "for i in range(1,12):\n",
    "    column_name = 'rev_' + str(i)\n",
    "    users_used[column_name] = users_used.apply(revenue, axis=1, args=(i,))"
   ]
  },
  {
   "cell_type": "markdown",
   "metadata": {},
   "source": [
    "Теперь у нас есть столбцы, содержащие необходимую информацию."
   ]
  },
  {
   "cell_type": "markdown",
   "metadata": {},
   "source": [
    "Вывод по подпункту: итак, на данном этапе мы создали новый датафрейм и добавили в него очень важную информацию."
   ]
  },
  {
   "cell_type": "markdown",
   "metadata": {},
   "source": [
    "**Вывод по Шагу 2**: на данном шаге мы занимались подготовкой данных, а именно, поработали с ошибками в таблицах, которые нам были предоставлены, поменяли типых данных некоторых столбцов; корректное содержимое исходных датафреймов позволило нам перейти на следующий пункт: мы собрали все самое важное из наших пяти таблиц  и соединили это в новый объект, на основе которого мы будем делать ключевые для исследования выводы. "
   ]
  },
  {
   "cell_type": "markdown",
   "metadata": {},
   "source": [
    "<h3>Шаг 3: Анализ данных </h3>\n",
    "<a id='analys'></a>"
   ]
  },
  {
   "cell_type": "markdown",
   "metadata": {},
   "source": [
    "Итак, на данном Шаге нам необходимо описать поведение клиентов оператора: сколько минут разговора, сколько сообщений и какой объём интернет-трафика требуется пользователям каждого тарифа в месяц? Требуется посчитать среднее количество, дисперсию и стандартное отклонение, построить гистограммы, описать распределения."
   ]
  },
  {
   "cell_type": "markdown",
   "metadata": {},
   "source": [
    "План работы такой: посчитаем среднее количество минут, сообщений и объема интернет-трафика для каждого пользователя; произведем финальные вычисления и построения графиков; сделаем выводы. "
   ]
  },
  {
   "cell_type": "markdown",
   "metadata": {},
   "source": [
    "Для средних показателей пользователей создадим отдельный датафрейм.Заполним его. Сейчас, когда мы вычислили финансовую часть вопроса для каждого пользователя - выручку, можем переходить от целых значений обратно к дробным. При округлении мы теряем в точности. "
   ]
  },
  {
   "cell_type": "code",
   "execution_count": 47,
   "metadata": {},
   "outputs": [],
   "source": [
    "users_used_mean = pd.DataFrame()"
   ]
  },
  {
   "cell_type": "code",
   "execution_count": 48,
   "metadata": {},
   "outputs": [],
   "source": [
    "users_used_mean['user_id'] = users_used['user_id']"
   ]
  },
  {
   "cell_type": "code",
   "execution_count": 49,
   "metadata": {},
   "outputs": [],
   "source": [
    "def meaner(row, factor_pref):\n",
    "    mean = 0\n",
    "    months = 0\n",
    "    for i in range(1,12):\n",
    "        if row[factor_pref + str(i)] == 0:\n",
    "            continue\n",
    "        else:\n",
    "            mean += row[factor_pref + str(i)]\n",
    "            months += 1\n",
    "    if months == 0: \n",
    "        return 0\n",
    "    return round(mean/months,2)"
   ]
  },
  {
   "cell_type": "code",
   "execution_count": 50,
   "metadata": {},
   "outputs": [],
   "source": [
    "users_used_mean['calls_sum_'] = users_used.apply(meaner, args=('calls_sum_', ), axis=1)\n",
    "users_used_mean['messages_count_'] = users_used.apply(meaner, args=('messages_count_',), axis=1)\n",
    "users_used_mean['internet_sum_'] = users_used.apply(meaner, args=('internet_sum_',), axis=1)"
   ]
  },
  {
   "cell_type": "markdown",
   "metadata": {},
   "source": [
    "Добавим также столбец с тарифами для удобства, затем посмотрим информацию о нашей новой таблице и ее первые 10 строк."
   ]
  },
  {
   "cell_type": "code",
   "execution_count": 51,
   "metadata": {},
   "outputs": [
    {
     "name": "stdout",
     "output_type": "stream",
     "text": [
      "<class 'pandas.core.frame.DataFrame'>\n",
      "Int64Index: 500 entries, 0 to 499\n",
      "Data columns (total 5 columns):\n",
      "user_id            500 non-null int64\n",
      "calls_sum_         500 non-null float64\n",
      "messages_count_    500 non-null float64\n",
      "internet_sum_      500 non-null float64\n",
      "tariff             500 non-null object\n",
      "dtypes: float64(3), int64(1), object(1)\n",
      "memory usage: 23.4+ KB\n"
     ]
    }
   ],
   "source": [
    "users_used_mean['tariff'] = users['tariff']\n",
    "users_used_mean.info()"
   ]
  },
  {
   "cell_type": "code",
   "execution_count": 52,
   "metadata": {},
   "outputs": [
    {
     "data": {
      "text/html": [
       "<div>\n",
       "<style scoped>\n",
       "    .dataframe tbody tr th:only-of-type {\n",
       "        vertical-align: middle;\n",
       "    }\n",
       "\n",
       "    .dataframe tbody tr th {\n",
       "        vertical-align: top;\n",
       "    }\n",
       "\n",
       "    .dataframe thead th {\n",
       "        text-align: right;\n",
       "    }\n",
       "</style>\n",
       "<table border=\"1\" class=\"dataframe\">\n",
       "  <thead>\n",
       "    <tr style=\"text-align: right;\">\n",
       "      <th></th>\n",
       "      <th>user_id</th>\n",
       "      <th>calls_sum_</th>\n",
       "      <th>messages_count_</th>\n",
       "      <th>internet_sum_</th>\n",
       "      <th>tariff</th>\n",
       "    </tr>\n",
       "  </thead>\n",
       "  <tbody>\n",
       "    <tr>\n",
       "      <td>0</td>\n",
       "      <td>1000</td>\n",
       "      <td>359.57</td>\n",
       "      <td>69.00</td>\n",
       "      <td>15.29</td>\n",
       "      <td>ultra</td>\n",
       "    </tr>\n",
       "    <tr>\n",
       "      <td>1</td>\n",
       "      <td>1001</td>\n",
       "      <td>430.00</td>\n",
       "      <td>0.00</td>\n",
       "      <td>19.00</td>\n",
       "      <td>smart</td>\n",
       "    </tr>\n",
       "    <tr>\n",
       "      <td>2</td>\n",
       "      <td>1002</td>\n",
       "      <td>236.50</td>\n",
       "      <td>11.00</td>\n",
       "      <td>17.67</td>\n",
       "      <td>smart</td>\n",
       "    </tr>\n",
       "    <tr>\n",
       "      <td>3</td>\n",
       "      <td>1003</td>\n",
       "      <td>879.25</td>\n",
       "      <td>85.75</td>\n",
       "      <td>13.00</td>\n",
       "      <td>ultra</td>\n",
       "    </tr>\n",
       "    <tr>\n",
       "      <td>4</td>\n",
       "      <td>1004</td>\n",
       "      <td>124.86</td>\n",
       "      <td>158.29</td>\n",
       "      <td>19.71</td>\n",
       "      <td>ultra</td>\n",
       "    </tr>\n",
       "    <tr>\n",
       "      <td>5</td>\n",
       "      <td>1005</td>\n",
       "      <td>590.00</td>\n",
       "      <td>48.91</td>\n",
       "      <td>9.09</td>\n",
       "      <td>smart</td>\n",
       "    </tr>\n",
       "    <tr>\n",
       "      <td>6</td>\n",
       "      <td>1006</td>\n",
       "      <td>343.30</td>\n",
       "      <td>0.00</td>\n",
       "      <td>16.40</td>\n",
       "      <td>smart</td>\n",
       "    </tr>\n",
       "    <tr>\n",
       "      <td>7</td>\n",
       "      <td>1007</td>\n",
       "      <td>523.00</td>\n",
       "      <td>26.88</td>\n",
       "      <td>16.00</td>\n",
       "      <td>smart</td>\n",
       "    </tr>\n",
       "    <tr>\n",
       "      <td>8</td>\n",
       "      <td>1008</td>\n",
       "      <td>0.00</td>\n",
       "      <td>0.00</td>\n",
       "      <td>0.00</td>\n",
       "      <td>smart</td>\n",
       "    </tr>\n",
       "    <tr>\n",
       "      <td>9</td>\n",
       "      <td>1009</td>\n",
       "      <td>233.00</td>\n",
       "      <td>12.11</td>\n",
       "      <td>19.00</td>\n",
       "      <td>smart</td>\n",
       "    </tr>\n",
       "  </tbody>\n",
       "</table>\n",
       "</div>"
      ],
      "text/plain": [
       "   user_id  calls_sum_  messages_count_  internet_sum_ tariff\n",
       "0     1000      359.57            69.00          15.29  ultra\n",
       "1     1001      430.00             0.00          19.00  smart\n",
       "2     1002      236.50            11.00          17.67  smart\n",
       "3     1003      879.25            85.75          13.00  ultra\n",
       "4     1004      124.86           158.29          19.71  ultra\n",
       "5     1005      590.00            48.91           9.09  smart\n",
       "6     1006      343.30             0.00          16.40  smart\n",
       "7     1007      523.00            26.88          16.00  smart\n",
       "8     1008        0.00             0.00           0.00  smart\n",
       "9     1009      233.00            12.11          19.00  smart"
      ]
     },
     "execution_count": 52,
     "metadata": {},
     "output_type": "execute_result"
    }
   ],
   "source": [
    "users_used_mean.head(10)"
   ]
  },
  {
   "cell_type": "markdown",
   "metadata": {},
   "source": [
    "Создадим новый датафрейм для хранения характеристик: среднего значения, дисперсии и стандартного квадратичного отклоления для каждого тарифа. Посчитаем все вышеперечисленное для каждого тарифа. Напишем функцию для этого."
   ]
  },
  {
   "cell_type": "markdown",
   "metadata": {},
   "source": [
    "Также обезопасим себя от граничных случаев. Не совсем корректно учитывать информацию о пользователях которые вообще не звонят, не пишут сообщения и не используют интернет (и даже, например, в таких случаях имеют кнопочный телефон). Это как в анекдоте про Билла Гейтса и бар. "
   ]
  },
  {
   "cell_type": "code",
   "execution_count": 53,
   "metadata": {},
   "outputs": [],
   "source": [
    "users_used_char = pd.DataFrame(columns=['tariff'], data = [\n",
    "    ['smart'], ['ultra'], ['smart-0'], ['ultra-0']\n",
    "])"
   ]
  },
  {
   "cell_type": "code",
   "execution_count": 54,
   "metadata": {},
   "outputs": [],
   "source": [
    "def filler(medium_data, result_data, factor_pref):\n",
    "    smart = medium_data.query('tariff == \"smart\"')\n",
    "    ultra =  medium_data.query('tariff == \"ultra\"')\n",
    "    smart1 = medium_data[(medium_data['tariff'] == \"smart\") & (medium_data[factor_pref] != 0)]\n",
    "    ultra1 = medium_data[(medium_data['tariff'] == \"ultra\") & (medium_data[factor_pref] != 0)] \n",
    "    tarif_plan = [smart, ultra, smart1, ultra1]\n",
    "    mean_list = []\n",
    "    var_list = []\n",
    "    std_list = []\n",
    "    for i in tarif_plan: \n",
    "        mean_list.append(round(i[factor_pref].mean(), 2))\n",
    "        var_list.append(round(np.var(i[factor_pref],ddof=1),2))\n",
    "        std_list.append(round(np.std(i[factor_pref],ddof=1),2))\n",
    "    result_data[factor_pref + 'mean'] = mean_list\n",
    "    result_data[factor_pref + 'var'] = var_list\n",
    "    result_data[factor_pref + 'std'] = std_list"
   ]
  },
  {
   "cell_type": "code",
   "execution_count": 55,
   "metadata": {},
   "outputs": [],
   "source": [
    "for i in ['calls_sum_', 'messages_count_', 'internet_sum_']:\n",
    "    filler(users_used_mean, users_used_char, i)"
   ]
  },
  {
   "cell_type": "markdown",
   "metadata": {},
   "source": [
    "Посмотрим, что у нас получилось."
   ]
  },
  {
   "cell_type": "code",
   "execution_count": 56,
   "metadata": {},
   "outputs": [
    {
     "data": {
      "text/html": [
       "<div>\n",
       "<style scoped>\n",
       "    .dataframe tbody tr th:only-of-type {\n",
       "        vertical-align: middle;\n",
       "    }\n",
       "\n",
       "    .dataframe tbody tr th {\n",
       "        vertical-align: top;\n",
       "    }\n",
       "\n",
       "    .dataframe thead th {\n",
       "        text-align: right;\n",
       "    }\n",
       "</style>\n",
       "<table border=\"1\" class=\"dataframe\">\n",
       "  <thead>\n",
       "    <tr style=\"text-align: right;\">\n",
       "      <th></th>\n",
       "      <th>tariff</th>\n",
       "      <th>calls_sum_mean</th>\n",
       "      <th>calls_sum_var</th>\n",
       "      <th>calls_sum_std</th>\n",
       "      <th>messages_count_mean</th>\n",
       "      <th>messages_count_var</th>\n",
       "      <th>messages_count_std</th>\n",
       "      <th>internet_sum_mean</th>\n",
       "      <th>internet_sum_var</th>\n",
       "      <th>internet_sum_std</th>\n",
       "    </tr>\n",
       "  </thead>\n",
       "  <tbody>\n",
       "    <tr>\n",
       "      <td>0</td>\n",
       "      <td>smart</td>\n",
       "      <td>429.04</td>\n",
       "      <td>44539.11</td>\n",
       "      <td>211.04</td>\n",
       "      <td>32.94</td>\n",
       "      <td>858.29</td>\n",
       "      <td>29.30</td>\n",
       "      <td>16.61</td>\n",
       "      <td>41.47</td>\n",
       "      <td>6.44</td>\n",
       "    </tr>\n",
       "    <tr>\n",
       "      <td>1</td>\n",
       "      <td>ultra</td>\n",
       "      <td>547.21</td>\n",
       "      <td>112602.81</td>\n",
       "      <td>335.56</td>\n",
       "      <td>55.73</td>\n",
       "      <td>2593.62</td>\n",
       "      <td>50.93</td>\n",
       "      <td>20.37</td>\n",
       "      <td>105.82</td>\n",
       "      <td>10.29</td>\n",
       "    </tr>\n",
       "    <tr>\n",
       "      <td>2</td>\n",
       "      <td>smart-0</td>\n",
       "      <td>467.68</td>\n",
       "      <td>30435.10</td>\n",
       "      <td>174.46</td>\n",
       "      <td>41.44</td>\n",
       "      <td>727.09</td>\n",
       "      <td>26.96</td>\n",
       "      <td>18.05</td>\n",
       "      <td>18.99</td>\n",
       "      <td>4.36</td>\n",
       "    </tr>\n",
       "    <tr>\n",
       "      <td>3</td>\n",
       "      <td>ultra-0</td>\n",
       "      <td>599.51</td>\n",
       "      <td>91855.42</td>\n",
       "      <td>303.08</td>\n",
       "      <td>70.37</td>\n",
       "      <td>2241.63</td>\n",
       "      <td>47.35</td>\n",
       "      <td>21.67</td>\n",
       "      <td>84.09</td>\n",
       "      <td>9.17</td>\n",
       "    </tr>\n",
       "  </tbody>\n",
       "</table>\n",
       "</div>"
      ],
      "text/plain": [
       "    tariff  calls_sum_mean  calls_sum_var  calls_sum_std  messages_count_mean  \\\n",
       "0    smart          429.04       44539.11         211.04                32.94   \n",
       "1    ultra          547.21      112602.81         335.56                55.73   \n",
       "2  smart-0          467.68       30435.10         174.46                41.44   \n",
       "3  ultra-0          599.51       91855.42         303.08                70.37   \n",
       "\n",
       "   messages_count_var  messages_count_std  internet_sum_mean  \\\n",
       "0              858.29               29.30              16.61   \n",
       "1             2593.62               50.93              20.37   \n",
       "2              727.09               26.96              18.05   \n",
       "3             2241.63               47.35              21.67   \n",
       "\n",
       "   internet_sum_var  internet_sum_std  \n",
       "0             41.47              6.44  \n",
       "1            105.82             10.29  \n",
       "2             18.99              4.36  \n",
       "3             84.09              9.17  "
      ]
     },
     "execution_count": 56,
     "metadata": {},
     "output_type": "execute_result"
    }
   ],
   "source": [
    "users_used_char"
   ]
  },
  {
   "cell_type": "markdown",
   "metadata": {},
   "source": [
    "Данная таблица пригодится нам в дальнейшем, но по ней самой мы тоже можем сделать ряд выводов."
   ]
  },
  {
   "cell_type": "markdown",
   "metadata": {},
   "source": [
    "Во-первых, обратим внимание на разницу между статистиками, полученными по всему срезу, и теми, что считались без учета нулевых значений. У нас, безусловно, поменялись средние значения - выросли, но что более важно - уменьшились дисперсии и с.к.о. - данные имеют меньший разброс. Расмотрим более подробно крайние две строки."
   ]
  },
  {
   "cell_type": "markdown",
   "metadata": {},
   "source": [
    "Начнем с количества минут. Что мы видим? Опишем статистики по тарифу 'Смарт'. Среднее значение, полученное нами, не вызывает вопросов - предоставлено пользователю 500 минут, он, в среднем, расходует 468. Стандартное квадратичное отклонение весьма большое. Это сообщает нам о широком разбросе значений. Что со вторым тарифом? Среднее больше среднего предыдущего тарифа всего на 132 минуты, это при том, что 'Смарт' предоставляет пользователю 500 минут, а 'Ультра' - 3000. Интересно. С.к.о. по данным о пользователях этого тарифа тоже выше, что свидетельствует об еще большем разбросе данных, но это вполне объясняется разницей в количестве предоставляемых минут. "
   ]
  },
  {
   "cell_type": "markdown",
   "metadata": {},
   "source": [
    "Посмотрим на количество сообщений. Среднее количество по тарифу 'Смарт' 41 сообщение, по 'Ультра' - 70, при том, что по первому предоставляют - 50 штук, а по второму  - 1000. Зачем же пользователи регистрируются на этот тариф? С.к.о. большое для обоих величин. Так, пользователи тарифа 'Ультра', использующие и 23 сообщения в месяц в среднем, и 117 - оба остаются в пределах одной(!) сигма. "
   ]
  },
  {
   "cell_type": "markdown",
   "metadata": {},
   "source": [
    "Остался интернет. Средние не сильно отличаются: 18.1 гб и 21.7 гб, при предоставляемых 15 гб и 30 гб соответственно. Среднее квадратичное отклонение по тарифу 'Смарт' в этом вопросе не такое большое - всего 4.36 гб, а вот у тарифа 'Ультра' опять большой разброс - аж 9.27 гб. "
   ]
  },
  {
   "cell_type": "markdown",
   "metadata": {},
   "source": [
    "Какие общие выводы можно сделать по этой таблице на данном этапе работы? Образ пользователя тарифа 'Смарт' определен сильно лучше - меньшие разбросы по характеристикам, полученные средние значения соответствуют тем числам, которые фигурируют в описании тарифа: можно слегка грубо определить типичного зарегистрированного и понять логику его решений. Куда больше вопросов по среднему пользователю тарифа 'Ультра': большие разбросы - абсолютно разные идейно люди и разные цели подключения, сильно низкие средние значения, не соответствующие объемам, которые предоставляет компания - также поэтому сложно уловить причину регистрации на тариф.  "
   ]
  },
  {
   "cell_type": "markdown",
   "metadata": {},
   "source": [
    "Сделаем важную пометку."
   ]
  },
  {
   "cell_type": "code",
   "execution_count": 57,
   "metadata": {
    "scrolled": true
   },
   "outputs": [
    {
     "data": {
      "text/plain": [
       "'29.8%'"
      ]
     },
     "execution_count": 57,
     "metadata": {},
     "output_type": "execute_result"
    }
   ],
   "source": [
    "str(round(users.query('tariff == \"ultra\"')['tariff'].count() / 500 * 100,2)) + \"%\""
   ]
  },
  {
   "cell_type": "code",
   "execution_count": 58,
   "metadata": {},
   "outputs": [
    {
     "data": {
      "text/plain": [
       "149"
      ]
     },
     "execution_count": 58,
     "metadata": {},
     "output_type": "execute_result"
    }
   ],
   "source": [
    "users.query('tariff == \"ultra\"')['tariff'].count()"
   ]
  },
  {
   "cell_type": "markdown",
   "metadata": {},
   "source": [
    "Информации о пользователях тарифа 'Ультра' у нас меньше, поскольку самих таких пользователей в выборке меньше, это может влиять на точность полученных значений."
   ]
  },
  {
   "cell_type": "markdown",
   "metadata": {},
   "source": [
    "Перейдем к гистограммам и распределениям. Построим 6 гистограмм: среднее количество сообщений, минут и объем интернет-трафика пользователей каждого тарифа отдельно. "
   ]
  },
  {
   "cell_type": "markdown",
   "metadata": {},
   "source": [
    "Будем также строить график нормального распределения одновременно с гистограммой. Матожидание распределения - среднее параметра, с.к.о. - с.к.о. параметра. Использовать будем срез, не содержащий нулевых значений. Напишем функцию для построения графиков."
   ]
  },
  {
   "cell_type": "markdown",
   "metadata": {},
   "source": [
    "Посмотроим гистограмму среднего количества минут в месяц пользователей тарифа 'Смарт'."
   ]
  },
  {
   "cell_type": "code",
   "execution_count": 59,
   "metadata": {},
   "outputs": [],
   "source": [
    "def normi_tarif(data, factor, tarif, bins, title, xlabel):\n",
    "    data[(data['tariff'] == tarif) & (\n",
    "    data[factor] != 0)].plot(kind='hist', density=True, y=factor, bins=bins, grid=True, \n",
    "                                       label = ' ')\n",
    "    if tarif == 'smart':\n",
    "        i = 2\n",
    "    else:\n",
    "        i = 3\n",
    "    mo = users_used_char.loc[i, factor + 'mean']\n",
    "    s = users_used_char.loc[i, factor + 'std']\n",
    "    norm = st.norm.pdf(range(0, int(data[data['tariff'] == tarif][factor].max())), mo, s)\n",
    "    plt.plot(norm)\n",
    "    plt.title(title)\n",
    "    plt.xlabel(xlabel)\n",
    "    ylabel = 'Плотность частоты'\n",
    "    plt.ylabel(ylabel)\n",
    "    plt.show()"
   ]
  },
  {
   "cell_type": "code",
   "execution_count": 60,
   "metadata": {
    "scrolled": true
   },
   "outputs": [
    {
     "data": {
      "image/png": "[encoded data removed]",
      "text/plain": [
       "<Figure size 432x288 with 1 Axes>"
      ]
     },
     "metadata": {
      "needs_background": "light"
     },
     "output_type": "display_data"
    }
   ],
   "source": [
    "normi_tarif(users_used_mean, 'calls_sum_', 'smart', 20,\n",
    "            'Гистограмма плотностей для среднего количества минут, расходуемых пользователем тарифа \"Смарт\" ',\n",
    "            'Среднее количество минут, расходуемых пользователем тарифа  \"Смарт\"')"
   ]
  },
  {
   "cell_type": "markdown",
   "metadata": {},
   "source": [
    "Итак, по полученной диаграмме видно - среднее количество минут, расходуемых пользователем тарифа 'Смарт' распределено нормально. Важно - наше среднее посчитано корректно."
   ]
  },
  {
   "cell_type": "markdown",
   "metadata": {},
   "source": [
    "Посмотрим для тарифа 'Ультра'."
   ]
  },
  {
   "cell_type": "code",
   "execution_count": 61,
   "metadata": {},
   "outputs": [
    {
     "data": {
      "image/png": "[encoded data removed]",
      "text/plain": [
       "<Figure size 432x288 with 1 Axes>"
      ]
     },
     "metadata": {
      "needs_background": "light"
     },
     "output_type": "display_data"
    }
   ],
   "source": [
    "normi_tarif(users_used_mean, 'calls_sum_', 'ultra', 20,\n",
    "           'Гистограмма плотностей для среднего количества минут, расходуемых пользователем тарифа \"Ультра\" ',\n",
    "           'Среднее количество минут, расходуемых пользователем тарифа  \"Ультра\"')"
   ]
  },
  {
   "cell_type": "markdown",
   "metadata": {},
   "source": [
    "Данная гистограмма уже не так красиво ложится под нормальное распределение, как предыдущая, но очертания её таки позволяют нам сказать, что эти данные распределены нормально. И не будем забывать, что пользователей  с таким тарифом у нас не так много, что тоже влияет, конечно."
   ]
  },
  {
   "cell_type": "markdown",
   "metadata": {},
   "source": [
    "Построим гистограмму среднего количества сообщений в месяц пользователей тарифа 'Смарт'."
   ]
  },
  {
   "cell_type": "code",
   "execution_count": 62,
   "metadata": {},
   "outputs": [
    {
     "data": {
      "image/png": "[encoded data removed]",
      "text/plain": [
       "<Figure size 432x288 with 1 Axes>"
      ]
     },
     "metadata": {
      "needs_background": "light"
     },
     "output_type": "display_data"
    }
   ],
   "source": [
    "normi_tarif(users_used_mean, 'messages_count_', 'smart', 15, \n",
    "           'Гистограмма плотностей для среднего количества сообщений, расходуемых пользователем тарифа \"Смарт\" ',\n",
    "           'Среднее количество сообщений, расходуемых пользователем тарифа  \"Смарт\"')"
   ]
  },
  {
   "cell_type": "markdown",
   "metadata": {},
   "source": [
    "Наш график нормального распределения как будто правее, чем нужно, и слегка ниже. Ориентируясь по гистограмме, можно сказать, что данные распределены нормально, но судя по тому, как расположился график нормального распределения (которому мы в качестве мат.ожидания передали значение среднего по пользователям с таким тарифом), у нас не совпадают среднее по выборке и мат.ожидание фактического распределения - оно меньше. Это объясняется достаточно сильной скошенностью датасета, но самого важного факта не меняет - данные распределены нормально."
   ]
  },
  {
   "cell_type": "markdown",
   "metadata": {},
   "source": [
    "Посмотрим для тарифа 'Ультра'."
   ]
  },
  {
   "cell_type": "code",
   "execution_count": 63,
   "metadata": {},
   "outputs": [
    {
     "data": {
      "image/png": "[encoded data removed]",
      "text/plain": [
       "<Figure size 432x288 with 1 Axes>"
      ]
     },
     "metadata": {
      "needs_background": "light"
     },
     "output_type": "display_data"
    }
   ],
   "source": [
    "normi_tarif(users_used_mean, 'messages_count_', 'ultra', 10, \n",
    "           'Гистограмма плотностей для среднего количества сообщений, расходуемых пользователем тарифа \"Ультра\" ',\n",
    "           'Среднее количество сообщений, расходуемых пользователем тарифа  \"Ультра\"')"
   ]
  },
  {
   "cell_type": "markdown",
   "metadata": {},
   "source": [
    "Ситуация аналогичная прошлой - график норм. распределения как будто правее и ниже, чем нужно. Но приближенно таки можно сказать, что данные распределены нормально. Хотя при меньшем количестве корзин такого явного визуального соответствия нет, но это можно объяснить, во-первых, в принципе небольшой длиной оси абсцисс, и во-вторых, небольшим размером выборки (мы еще не учитываем пользователей, для которых параметр равен 0)."
   ]
  },
  {
   "cell_type": "markdown",
   "metadata": {},
   "source": [
    "Построим гистограмму среднего объема интернет-трафика в месяц пользователей тарифа 'Смарт'."
   ]
  },
  {
   "cell_type": "code",
   "execution_count": 64,
   "metadata": {},
   "outputs": [
    {
     "data": {
      "image/png": "[encoded data removed]",
      "text/plain": [
       "<Figure size 432x288 with 1 Axes>"
      ]
     },
     "metadata": {
      "needs_background": "light"
     },
     "output_type": "display_data"
    }
   ],
   "source": [
    "normi_tarif(users_used_mean, 'internet_sum_', 'smart', 15, \n",
    "           'Гистограмма плотностей для среднего объема трафика, расходуемого пользователем тарифа \"Смарт\" ',\n",
    "           'Средний объем трафика, расходуемый пользователем тарифа  \"Смарт\"')"
   ]
  },
  {
   "cell_type": "markdown",
   "metadata": {},
   "source": [
    "Очевидно, распределение нормальное. Строим для второго тарифа."
   ]
  },
  {
   "cell_type": "code",
   "execution_count": 65,
   "metadata": {
    "scrolled": true
   },
   "outputs": [
    {
     "data": {
      "image/png": "[encoded data removed]",
      "text/plain": [
       "<Figure size 432x288 with 1 Axes>"
      ]
     },
     "metadata": {
      "needs_background": "light"
     },
     "output_type": "display_data"
    }
   ],
   "source": [
    "normi_tarif(users_used_mean, 'internet_sum_', 'ultra', 15, \n",
    "           'Гистограмма плотностей для среднего объема трафика, расходуемого пользователем тарифа \"Ультра\" ',\n",
    "           'Средний объем трафика, расходуемый пользователем тарифа  \"Ультра\"')"
   ]
  },
  {
   "cell_type": "markdown",
   "metadata": {},
   "source": [
    "Приближенно, ситуация идентичная - распределение нормальное."
   ]
  },
  {
   "cell_type": "markdown",
   "metadata": {},
   "source": [
    "В качестве заключительного слова по данному Шагу ответим на вопрос: 'Сколько минут разговора, сколько сообщений и какой объём интернет-трафика требуется пользователям каждого тарифа в месяц?'. "
   ]
  },
  {
   "cell_type": "markdown",
   "metadata": {},
   "source": [
    "Напишем фунцию для получения ответа на вопрос."
   ]
  },
  {
   "cell_type": "markdown",
   "metadata": {},
   "source": [
    "Вспомним, что при нормальном распределении величины, вероятность попасть на любую точку графика ровно до мат. ожидания равно 0.5, ровно как и в любую точку после. Также факт - вероятность попадания в интервал [мат.ожидание; мат.ожидание + 2 сигма] равна 0.48. Таким образом, обозначив в качестве ответа на наш вопрос интервал [0;мат.ожидание + 2 сигма] мы предоставляем значения, про которые можно сказать: с вероятностью 0.98 они удовлетворяют реальную потребность пользователя тарифа, количество необходимого ему ресурса попадет в этот интервал, аналогично для интервала [0;мат.ожидание + 1 сигма] - вероятность в этом случае равна 0.84."
   ]
  },
  {
   "cell_type": "code",
   "execution_count": 66,
   "metadata": {},
   "outputs": [],
   "source": [
    "def conclusion(data, tarif, factor_pattern):\n",
    "    answer = 'В среднем пользователю требуется: '\n",
    "    if tarif == 'smart':\n",
    "        j = 2\n",
    "    else:\n",
    "        j = 3\n",
    "    mo = data.loc[j, factor_pattern[0] + 'mean']\n",
    "    s = data.loc[j, factor_pattern[0] + 'std']\n",
    "    answer += str (np.ceil(mo)) + factor_pattern[1] + '\\n'\n",
    "    answer += 'Чтобы удовлетворить потребность 98 процентов пользователей требуется : '\n",
    "    higher_b = np.ceil(mo + 2 * s) \n",
    "    answer += str(higher_b) + factor_pattern[1] + '\\n'\n",
    "    answer += 'Чтобы удовлетворить потребность 84 процентов пользователей требуется: '\n",
    "    med_b = np.ceil(mo + s)\n",
    "    answer += str(med_b) + factor_pattern[1]\n",
    "    return answer"
   ]
  },
  {
   "cell_type": "markdown",
   "metadata": {},
   "source": [
    "Итак, для пользователя тарифа 'Смарт':"
   ]
  },
  {
   "cell_type": "code",
   "execution_count": 67,
   "metadata": {},
   "outputs": [
    {
     "name": "stdout",
     "output_type": "stream",
     "text": [
      "В среднем пользователю требуется: 468.0 минут.\n",
      "Чтобы удовлетворить потребность 98 процентов пользователей требуется : 817.0 минут.\n",
      "Чтобы удовлетворить потребность 84 процентов пользователей требуется: 643.0 минут.\n",
      "В среднем пользователю требуется: 42.0 сообщений.\n",
      "Чтобы удовлетворить потребность 98 процентов пользователей требуется : 96.0 сообщений.\n",
      "Чтобы удовлетворить потребность 84 процентов пользователей требуется: 69.0 сообщений.\n",
      "В среднем пользователю требуется: 19.0 гб интернет-трафика.\n",
      "Чтобы удовлетворить потребность 98 процентов пользователей требуется : 27.0 гб интернет-трафика.\n",
      "Чтобы удовлетворить потребность 84 процентов пользователей требуется: 23.0 гб интернет-трафика.\n"
     ]
    }
   ],
   "source": [
    "for i in [['calls_sum_', ' минут.'], ['messages_count_', ' сообщений.'], ['internet_sum_', ' гб интернет-трафика.']]:\n",
    "    print(conclusion(users_used_char, 'smart', i))"
   ]
  },
  {
   "cell_type": "markdown",
   "metadata": {},
   "source": [
    "Итак, в среднем пользователям тарифа хватает количества минут и сообщений, предоставляемых компанией, но объема интернет-трафика  - нет; а вот для удовлетворения подавляющего большинства пользователей нужно увеличить количество предоставляемых минут, сообщений и, естественно, объем трафика."
   ]
  },
  {
   "cell_type": "markdown",
   "metadata": {},
   "source": [
    "Посмотрим для тарифа 'Ультра'."
   ]
  },
  {
   "cell_type": "code",
   "execution_count": 68,
   "metadata": {},
   "outputs": [
    {
     "name": "stdout",
     "output_type": "stream",
     "text": [
      "В среднем пользователю требуется: 600.0 минут.\n",
      "Чтобы удовлетворить потребность 98 процентов пользователей требуется : 1206.0 минут.\n",
      "Чтобы удовлетворить потребность 84 процентов пользователей требуется: 903.0 минут.\n",
      "В среднем пользователю требуется: 71.0 сообщений.\n",
      "Чтобы удовлетворить потребность 98 процентов пользователей требуется : 166.0 сообщений.\n",
      "Чтобы удовлетворить потребность 84 процентов пользователей требуется: 118.0 сообщений.\n",
      "В среднем пользователю требуется: 22.0 гб интернет-трафика.\n",
      "Чтобы удовлетворить потребность 98 процентов пользователей требуется : 41.0 гб интернет-трафика.\n",
      "Чтобы удовлетворить потребность 84 процентов пользователей требуется: 31.0 гб интернет-трафика.\n"
     ]
    }
   ],
   "source": [
    "for i in [['calls_sum_', ' минут.'], ['messages_count_', ' сообщений.'], ['internet_sum_', ' гб интернет-трафика.']]:\n",
    "    print(conclusion(users_used_char, 'ultra', i))"
   ]
  },
  {
   "cell_type": "markdown",
   "metadata": {},
   "source": [
    "В среднем пользователям тарифа хватает и количества минут, и сообщений (причем с большим избытком), и объема интернет-трафика. Также предоставляемых объемов хватает и для удовлетворения подавляющего большиства (опять же - с большим избытком), но есть исключение - интернет-трафик."
   ]
  },
  {
   "cell_type": "markdown",
   "metadata": {},
   "source": [
    "**Выводы по Шагу 3**: итак, на данном этапе мы проделали большой объем работы - описали поведение клиентов оператора: посчитали среднее количество звонков, смс и объема интернет-трафика для каждого пользователя; по полученным значениям вычислили средние по звонкам, смс и трафику для каждого тарифа, а также дисперсию и с.к.о. Это позволило нам рассмотреть интересные особенности в образе типичных пользователей тарифов. Также мы построили гистограммы по каждому фактору для обоих тарифов и убедились в нормальном распределении величин, а на основании этого уже смогли дать ответ на ключевой вопрос - сколько и чего требуется пользователям каждого из тарифов."
   ]
  },
  {
   "cell_type": "markdown",
   "metadata": {},
   "source": [
    "<h3> Шаг 4: Проверка гипотез </h3>\n",
    "<a id='hypo'></a>"
   ]
  },
  {
   "cell_type": "markdown",
   "metadata": {},
   "source": [
    "На данном Шаге необходимо проверить две гипотезы: 1 - средняя выручка пользователей тарифов «Ультра» и «Смарт» различается;\n",
    "2 - средняя выручка пользователей из Москвы отличается от выручки пользователей из других регионов;"
   ]
  },
  {
   "cell_type": "markdown",
   "metadata": {},
   "source": [
    "Итак, начнем с первой гипотезы. Нам нужно сравнить средние выручки от пользователей двух тарифов. Для этого нам надо посчитать их и занести в наш датафрейм, хранящий в себе средние - users_used_mean."
   ]
  },
  {
   "cell_type": "code",
   "execution_count": 69,
   "metadata": {},
   "outputs": [],
   "source": [
    "users_used_mean['rev_'] = users_used.apply(meaner, args=('rev_', ), axis=1)"
   ]
  },
  {
   "cell_type": "markdown",
   "metadata": {},
   "source": [
    "Мы будем проверять данную гипотезу как гипотезу о равенстве средних двух генеральных совокупностей. "
   ]
  },
  {
   "cell_type": "markdown",
   "metadata": {},
   "source": [
    "Представим, что у нас две генеральные совокупности - средние выручки пользователей тарифа 'Смарт' и средние выручки пользователей тарифа 'Ультра'. Соответственно и выборок у нас две - в контексте задачи это срезы датафрейма со средними значениями по каждому тарифу. "
   ]
  },
  {
   "cell_type": "markdown",
   "metadata": {},
   "source": [
    "Сформулируем нулевую гипотезу: средние этих двух генеральных совокупностей равны. Сформулируем альтернативную гипотезу: средние этих двух генеральных совокупностей различаются."
   ]
  },
  {
   "cell_type": "markdown",
   "metadata": {},
   "source": [
    "Критический уровень статистической значимости возьмем 0.05."
   ]
  },
  {
   "cell_type": "markdown",
   "metadata": {},
   "source": [
    "Дисперсию совокупностей будем считать разной, поскольку, как было показано выше, многим пользователям тарифа 'Смарт' не хватает содержимого пакета и они докупают минуты, сообщения и гигабайты; в это же время большинство пользователей тарифа 'Ультра' удовлетворено, и типичный клиент 'Ультра', соответственно, платит лишь за стоимость самого тарифа."
   ]
  },
  {
   "cell_type": "markdown",
   "metadata": {},
   "source": [
    "Удостоверимся в этом с помощью теста Левена на равенство дисперсий."
   ]
  },
  {
   "cell_type": "code",
   "execution_count": 70,
   "metadata": {},
   "outputs": [
    {
     "data": {
      "text/plain": [
       "0.0009878234427602235"
      ]
     },
     "execution_count": 70,
     "metadata": {},
     "output_type": "execute_result"
    }
   ],
   "source": [
    "st.levene(users_used_mean.query('tariff == \"smart\"')['rev_'], \n",
    "          users_used_mean.query('tariff == \"ultra\"')['rev_']).pvalue"
   ]
  },
  {
   "cell_type": "markdown",
   "metadata": {},
   "source": [
    "По результату теста очевидно, что дисперсии разные - поскольку уровень статистической значимости очень мал. "
   ]
  },
  {
   "cell_type": "markdown",
   "metadata": {},
   "source": [
    "Проведем тест и посмотрим на p-value. Сравним с критическим уровнем статистической значимости."
   ]
  },
  {
   "cell_type": "code",
   "execution_count": 71,
   "metadata": {},
   "outputs": [],
   "source": [
    "results = st.ttest_ind(users_used_mean.query('tariff == \"smart\"')['rev_'], \n",
    "                      users_used_mean.query('tariff == \"ultra\"')['rev_'], \n",
    "                      equal_var = False )\n",
    "alpha = .05"
   ]
  },
  {
   "cell_type": "code",
   "execution_count": 72,
   "metadata": {},
   "outputs": [
    {
     "name": "stdout",
     "output_type": "stream",
     "text": [
      "Нулевая гипотеза отвергается -> Средние не равны\n"
     ]
    }
   ],
   "source": [
    "if results.pvalue < alpha:\n",
    "    print('Нулевая гипотеза отвергается -> Средние не равны')\n",
    "else: \n",
    "    print('Нулевая гипотеза не отвергается')"
   ]
  },
  {
   "cell_type": "markdown",
   "metadata": {},
   "source": [
    "Уровень статистической значимости результата теста ниже критического уровня статистической значимости, значит, что при принятии нулевой гипотезы о равенстве средних совокупности верной, иметь те выборки, что мы имеем, весьма меловероятно, соответственно, мы можем отвергнуть нулевую гипотезу и в качестве вывода сообщить: средние совокупностей не равны -> средняя выручка пользователей тарифов «Ультра» и «Смарт» различается."
   ]
  },
  {
   "cell_type": "markdown",
   "metadata": {},
   "source": [
    "Приступим ко второй гипотезе. Первым делом, добавим в наш датасет средних значений по пользователям users_used_mean столбец с городами пользователей для более удобной работы."
   ]
  },
  {
   "cell_type": "code",
   "execution_count": 73,
   "metadata": {},
   "outputs": [],
   "source": [
    "users_used_mean['city'] = users['city']"
   ]
  },
  {
   "cell_type": "markdown",
   "metadata": {},
   "source": [
    "Как и в предыдущем случае, будем проверять данную гипотезу как гипотезу о равенстве средних двух генеральных совокупностей."
   ]
  },
  {
   "cell_type": "markdown",
   "metadata": {},
   "source": [
    "Представим, что у нас две генеральных совокупности: одна содержит информацию о средней выручке пользователей из Москвы, а вторая - информацию о средней выручке пользователей из регионов. Соответственно, выборки у нас тоже две - в контексте: срез по city = Москва и срез по city != Москва. "
   ]
  },
  {
   "cell_type": "markdown",
   "metadata": {},
   "source": [
    "Сформулируем нулевую гипотезу: средние этих генеральных совокупностей равны. Сформулируем альтернативную гипотезу: средние этих генеральных совокупностей не равны."
   ]
  },
  {
   "cell_type": "markdown",
   "metadata": {},
   "source": [
    "Критический уровень статистической значимости 0.05. "
   ]
  },
  {
   "cell_type": "markdown",
   "metadata": {},
   "source": [
    "Дисперсию совокупностей будем считать одинаковой, так как у нас нет оснований полагать, что они отличаются."
   ]
  },
  {
   "cell_type": "markdown",
   "metadata": {},
   "source": [
    "Проведем тест и посмотрим на p-value. Сравним с критическим уровнем статистической значимости."
   ]
  },
  {
   "cell_type": "code",
   "execution_count": 74,
   "metadata": {},
   "outputs": [
    {
     "name": "stdout",
     "output_type": "stream",
     "text": [
      "Нулевая гипотеза не отвергается\n"
     ]
    }
   ],
   "source": [
    "results = st.ttest_ind(users_used_mean.query('city == \"Москва\"')['rev_'], \n",
    "                      users_used_mean.query('city != \"Москва\"')['rev_'])\n",
    "if results.pvalue < alpha:\n",
    "    print('Нулевая гипотеза отвергается -> Средние не равны')\n",
    "else: \n",
    "    print('Нулевая гипотеза не отвергается')"
   ]
  },
  {
   "cell_type": "markdown",
   "metadata": {},
   "source": [
    "Получаем, что уровень статистической значимости результата выше критического уровня статистической значимости. Это значит, что, при принятии нулевой гипотезы верной, вероятность иметь те выборки, что мы имеем, не мала -> нулевая гипотеза может быть принята. Отсюда вывод: средние совокупностей равны, значит, средняя выручка пользователей из Москвы не отличается от средней выручки пользователей из регионов. "
   ]
  },
  {
   "cell_type": "markdown",
   "metadata": {},
   "source": [
    "**Вывод по Шагу 4**: итак, на данном этапе мы проверили две гипотезы, благодаря этому мы показали, что выручка от пользователей разных тарифов отличается, а вот  выручка жителей столицы от выручки жителей регионов - нет. "
   ]
  },
  {
   "cell_type": "markdown",
   "metadata": {},
   "source": [
    "<h3>Шаг 5: Общие выводы</h3>\n",
    "<a id='conc'></a>"
   ]
  },
  {
   "cell_type": "markdown",
   "metadata": {},
   "source": [
    "На заключительном этапе попробуем ответить на вопрос 'Какой тариф приносит больше денег?'"
   ]
  },
  {
   "cell_type": "markdown",
   "metadata": {},
   "source": [
    "Перед этим подрезюмируем все то важное, что мы узнали про тарифы и пользователей, которые их используют, в процессе исследования."
   ]
  },
  {
   "cell_type": "markdown",
   "metadata": {},
   "source": [
    "Вспомним, для каждого тарифа по каждому ресурсу мы считали среднее и с.к.о. Исходя из полученных цифр, мы сделали вывод, что образ пользователя тарифа 'Смарт' более ясен - меньшие с.к.о. по ресурсам и житейски понятная схожесть израсходованных объемам к предоставленным. В это время - типичный пользователь тарифа 'Ультра' более темен - бОльшие с.к.о. и нелогично малое использование ресурсов при целенаправленном желании обладать бОльшим их количеством при подключении такого пакета."
   ]
  },
  {
   "cell_type": "markdown",
   "metadata": {},
   "source": [
    "Также мы выяснили, что пользователям тарифа 'Смарт' остро не хватает того объема интернет-трафика, что им предоставляют, кроме того, недостаточно и количества минут, и сообщений - но этот вопрос уже ощущается не так критично. С пользователями тарифа 'Ультра' ситуация в чем-то противоположная, а в чем-то, на удивление, схожая - клиентам с избытком хватает сообщений и минут, но трафика так и не достает. "
   ]
  },
  {
   "cell_type": "markdown",
   "metadata": {},
   "source": [
    "Также отметим ключевой момент конкретно для данного исследования - средняя выручка пользователя тарифа 'Смарт' отличается от средней выручки пользователя тарифа 'Ультра' (судя по цене пакета, выручка от пользователей 'Смарта' меньше). А теперь поговорим про выручку подробнее."
   ]
  },
  {
   "cell_type": "markdown",
   "metadata": {},
   "source": [
    "Средняя выручка разная, но количество пользователей 'Смарт' больше. Он приносит больше денег? "
   ]
  },
  {
   "cell_type": "markdown",
   "metadata": {},
   "source": [
    "Давайте посмотрим на таблицу, которая описывает тарифы, и немного поразмышляем."
   ]
  },
  {
   "cell_type": "code",
   "execution_count": 75,
   "metadata": {},
   "outputs": [
    {
     "data": {
      "text/html": [
       "<div>\n",
       "<style scoped>\n",
       "    .dataframe tbody tr th:only-of-type {\n",
       "        vertical-align: middle;\n",
       "    }\n",
       "\n",
       "    .dataframe tbody tr th {\n",
       "        vertical-align: top;\n",
       "    }\n",
       "\n",
       "    .dataframe thead th {\n",
       "        text-align: right;\n",
       "    }\n",
       "</style>\n",
       "<table border=\"1\" class=\"dataframe\">\n",
       "  <thead>\n",
       "    <tr style=\"text-align: right;\">\n",
       "      <th></th>\n",
       "      <th>messages_included</th>\n",
       "      <th>mb_per_month_included</th>\n",
       "      <th>minutes_included</th>\n",
       "      <th>rub_monthly_fee</th>\n",
       "      <th>rub_per_gb</th>\n",
       "      <th>rub_per_message</th>\n",
       "      <th>rub_per_minute</th>\n",
       "      <th>tariff_name</th>\n",
       "    </tr>\n",
       "  </thead>\n",
       "  <tbody>\n",
       "    <tr>\n",
       "      <td>0</td>\n",
       "      <td>50</td>\n",
       "      <td>15360</td>\n",
       "      <td>500</td>\n",
       "      <td>550</td>\n",
       "      <td>200</td>\n",
       "      <td>3</td>\n",
       "      <td>3</td>\n",
       "      <td>smart</td>\n",
       "    </tr>\n",
       "    <tr>\n",
       "      <td>1</td>\n",
       "      <td>1000</td>\n",
       "      <td>30720</td>\n",
       "      <td>3000</td>\n",
       "      <td>1950</td>\n",
       "      <td>150</td>\n",
       "      <td>1</td>\n",
       "      <td>1</td>\n",
       "      <td>ultra</td>\n",
       "    </tr>\n",
       "  </tbody>\n",
       "</table>\n",
       "</div>"
      ],
      "text/plain": [
       "   messages_included  mb_per_month_included  minutes_included  \\\n",
       "0                 50                  15360               500   \n",
       "1               1000                  30720              3000   \n",
       "\n",
       "   rub_monthly_fee  rub_per_gb  rub_per_message  rub_per_minute tariff_name  \n",
       "0              550         200                3               3       smart  \n",
       "1             1950         150                1               1       ultra  "
      ]
     },
     "execution_count": 75,
     "metadata": {},
     "output_type": "execute_result"
    }
   ],
   "source": [
    "tariffs"
   ]
  },
  {
   "cell_type": "markdown",
   "metadata": {},
   "source": [
    "Почему большиство людей подлючает именно smart? Во-первых, меньшая цена месячного пакета подкупает и удовлетворяет простое желание сэкономить, во-вторых, даже если думать дальше термина 'заплатить меньше', условия тарифа располагают следующим: ты платишь небольшую цену за определенный стартовый пакет и затем докупаешь то, что необходимо именно тебе - сообщения, минуты или гигабайты. "
   ]
  },
  {
   "cell_type": "markdown",
   "metadata": {},
   "source": [
    "Предположим, что соотношение пользователей по тарифам в выборке соответствует соотношению в генеральной совокупности (что вполне естественно, ведь нам должны были предоставить репрезентативную выборку). Так, посчитав суммарную выручку пользователей каждого из тарифов, мы поймем, что же приносит больше денег. "
   ]
  },
  {
   "cell_type": "code",
   "execution_count": 76,
   "metadata": {},
   "outputs": [],
   "source": [
    "total_revenue_smart = 0\n",
    "total_revenue_ultra = 0"
   ]
  },
  {
   "cell_type": "code",
   "execution_count": 77,
   "metadata": {},
   "outputs": [],
   "source": [
    "def user_revenue(row):\n",
    "    global total_revenue_smart\n",
    "    global total_revenue_ultra\n",
    "    revenue = 0\n",
    "    for j in range(1,12):\n",
    "        name = 'rev_' + str(j)\n",
    "        revenue += row[name]\n",
    "    user_id = row['user_id']\n",
    "    tariff = users.query('user_id == @user_id')['tariff']\n",
    "    tariff = tariff[user_id - 1000]\n",
    "    if tariff == 'smart':\n",
    "        total_revenue_smart += revenue\n",
    "    else:\n",
    "        total_revenue_ultra += revenue"
   ]
  },
  {
   "cell_type": "code",
   "execution_count": 78,
   "metadata": {},
   "outputs": [
    {
     "name": "stdout",
     "output_type": "stream",
     "text": [
      "Общая выручка от пользователей, исполюзующих тариф Смарт составила: 1.335 млн. рублей \n",
      "Общая выручка от пользователей, исполюзующих тариф Ультра составила: 1.632 млн. рублей \n",
      "\n"
     ]
    }
   ],
   "source": [
    "users_used.apply(user_revenue, axis=1)\n",
    "total_revenue_smart_mln = round(total_revenue_smart / 1000000, 3)\n",
    "total_revenue_ultra_mln = round(total_revenue_ultra / 1000000, 3)\n",
    "answer = 'Общая выручка от пользователей, исполюзующих тариф Смарт составила: '\n",
    "answer += str(total_revenue_smart_mln) + ' млн. рублей ' + '\\n'\n",
    "answer += 'Общая выручка от пользователей, исполюзующих тариф Ультра составила: '\n",
    "answer += str(total_revenue_ultra_mln) + ' млн. рублей ' + '\\n'\n",
    "print(answer)"
   ]
  },
  {
   "cell_type": "markdown",
   "metadata": {},
   "source": [
    "Несмотря на большее количество пользователей тарифа 'Смарт', приносит больше денег тариф 'Ультра'. Что неудивительно, ведь цена за пакет на этом тарифе почти в три раза выше. "
   ]
  },
  {
   "cell_type": "markdown",
   "metadata": {},
   "source": [
    "**Получаем такой итог - Вывод по Шагу 5 и по проекту**: несмотря на свою специфичность (все-таки, ощутимую часть пакета пользователи не расходуют) и относительно высокую цену тариф 'Ультра' находит своих потребителей и приносит больше средств, чем более демократичный и скромный, но популярный 'Смарт'. "
   ]
  }
 ],
 "metadata": {
  "kernelspec": {
   "display_name": "Python 3",
   "language": "python",
   "name": "python3"
  },
  "language_info": {
   "codemirror_mode": {
    "name": "ipython",
    "version": 3
   },
   "file_extension": ".py",
   "mimetype": "text/x-python",
   "name": "python",
   "nbconvert_exporter": "python",
   "pygments_lexer": "ipython3",
   "version": "3.7.8"
  }
 },
 "nbformat": 4,
 "nbformat_minor": 4
}
