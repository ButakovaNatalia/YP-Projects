{
 "cells": [
  {
   "cell_type": "markdown",
   "metadata": {},
   "source": [
    "<h1>Построение модели предсказания коэффициента восстановления золота из золотосодержащей руды</h1>"
   ]
  },
  {
   "cell_type": "markdown",
   "metadata": {},
   "source": [
    "Необходимо подготовить прототип модели машинного обучения для «Цифры». Компания разрабатывает решения для эффективной работы промышленных предприятий.\n",
    "Модель должна предсказать коэффициент восстановления золота из золотосодержащей руды. В нашем распоряжении данные с параметрами добычи и очистки.\n",
    "Модель поможет оптимизировать производство, чтобы не запускать предприятие с убыточными характеристиками."
   ]
  },
  {
   "cell_type": "markdown",
   "metadata": {},
   "source": [
    "Как золото получают из руды? "
   ]
  },
  {
   "cell_type": "markdown",
   "metadata": {},
   "source": [
    "Когда добытая руда проходит первичную обработку, получается дроблёная смесь. Её отправляют на флотацию (обогащение) и двухэтапную очистку. После флотации получается, так называемый, черновой концентрат, а после двухэтапной очистки - финальный концентрат.  "
   ]
  },
  {
   "cell_type": "markdown",
   "metadata": {},
   "source": [
    "**Описание данных**"
   ]
  },
  {
   "cell_type": "markdown",
   "metadata": {},
   "source": [
    "Признаки имеют вид: [этап].[тип_параметра].[название_параметра], где возможные значения для блока [этап]: "
   ]
  },
  {
   "cell_type": "markdown",
   "metadata": {},
   "source": [
    "    rougher — флотация\n",
    "    primary_cleaner — первичная очистка\n",
    "    secondary_cleaner — вторичная очистка\n",
    "    final — финальные характеристики"
   ]
  },
  {
   "cell_type": "markdown",
   "metadata": {},
   "source": [
    "Возможные значения для блока [тип_параметра]:"
   ]
  },
  {
   "cell_type": "markdown",
   "metadata": {},
   "source": [
    "    input — параметры сырья\n",
    "    output — параметры продукта\n",
    "    state — параметры, характеризующие текущее состояние этапа\n",
    "    calculation — расчётные характеристики"
   ]
  },
  {
   "cell_type": "markdown",
   "metadata": {},
   "source": [
    "Эффективность обогащения - т.н. recovery - зависит от доли золота в концентрате после флотации/очистки; доли золота в сырье/концентрате до флотации/очистки; доли золота в отвальных хвостах после флотации/очистки. "
   ]
  },
  {
   "cell_type": "markdown",
   "metadata": {},
   "source": [
    "Метрика качества в задаче - sMAPE. "
   ]
  },
  {
   "cell_type": "markdown",
   "metadata": {},
   "source": [
    "Данные для исследования в трех файлах:"
   ]
  },
  {
   "cell_type": "markdown",
   "metadata": {},
   "source": [
    "    gold_recovery_train.csv — обучающая выборка \n",
    "    gold_recovery_test.csv — тестовая выборка \n",
    "    gold_recovery_full.csv — исходные данные"
   ]
  },
  {
   "cell_type": "markdown",
   "metadata": {},
   "source": [
    "Некоторые параметры недоступны, потому что замеряются и/или рассчитываются значительно позже. Из-за этого в тестовой выборке отсутствуют некоторые признаки, которые могут быть в обучающей. Также в тестовом наборе нет целевых признаков."
   ]
  },
  {
   "cell_type": "markdown",
   "metadata": {},
   "source": [
    "**План работы**: первым делом мы познакомимся с данными, проведем предобработку и исследовательский анализ, затем - построим модель предсказания и оценим ее качество."
   ]
  },
  {
   "cell_type": "markdown",
   "metadata": {},
   "source": [
    "<h3>Оглавление</h3>"
   ]
  },
  {
   "cell_type": "markdown",
   "metadata": {},
   "source": [
    "1. [Шаг 1: Подготовка данных](#start)\n",
    "2. [Шаг 2: Исследовательский анализ данных](#research)\n",
    "3. [Шаг 3: Построение и обучение модели](#model)"
   ]
  },
  {
   "cell_type": "markdown",
   "metadata": {},
   "source": [
    "<h3> Шаг 1: Подготовка данных </h3>\n",
    "<a id='start'></a>"
   ]
  },
  {
   "cell_type": "markdown",
   "metadata": {},
   "source": [
    "Извлечем необходимые нам библиотеки."
   ]
  },
  {
   "cell_type": "code",
   "execution_count": 1,
   "metadata": {},
   "outputs": [],
   "source": [
    "import pandas as pd\n",
    "import matplotlib.pyplot as plt\n",
    "from sklearn.metrics import mean_absolute_error\n",
    "import numpy as np\n",
    "import copy\n",
    "from sklearn.linear_model import LinearRegression\n",
    "from sklearn.ensemble import RandomForestRegressor"
   ]
  },
  {
   "cell_type": "markdown",
   "metadata": {},
   "source": [
    "Познакомимся с данными в файлах."
   ]
  },
  {
   "cell_type": "code",
   "execution_count": 2,
   "metadata": {},
   "outputs": [],
   "source": [
    "full = pd.read_csv('/datasets/gold_recovery_full.csv')\n",
    "test = pd.read_csv('/datasets/gold_recovery_test.csv')\n",
    "train = pd.read_csv('/datasets/gold_recovery_train.csv')"
   ]
  },
  {
   "cell_type": "code",
   "execution_count": 3,
   "metadata": {},
   "outputs": [
    {
     "name": "stdout",
     "output_type": "stream",
     "text": [
      "<class 'pandas.core.frame.DataFrame'>\n",
      "RangeIndex: 22716 entries, 0 to 22715\n",
      "Data columns (total 87 columns):\n",
      "date                                                  22716 non-null object\n",
      "final.output.concentrate_ag                           22627 non-null float64\n",
      "final.output.concentrate_pb                           22629 non-null float64\n",
      "final.output.concentrate_sol                          22331 non-null float64\n",
      "final.output.concentrate_au                           22630 non-null float64\n",
      "final.output.recovery                                 20753 non-null float64\n",
      "final.output.tail_ag                                  22633 non-null float64\n",
      "final.output.tail_pb                                  22516 non-null float64\n",
      "final.output.tail_sol                                 22445 non-null float64\n",
      "final.output.tail_au                                  22635 non-null float64\n",
      "primary_cleaner.input.sulfate                         21107 non-null float64\n",
      "primary_cleaner.input.depressant                      21170 non-null float64\n",
      "primary_cleaner.input.feed_size                       22716 non-null float64\n",
      "primary_cleaner.input.xanthate                        21565 non-null float64\n",
      "primary_cleaner.output.concentrate_ag                 22618 non-null float64\n",
      "primary_cleaner.output.concentrate_pb                 22268 non-null float64\n",
      "primary_cleaner.output.concentrate_sol                21918 non-null float64\n",
      "primary_cleaner.output.concentrate_au                 22618 non-null float64\n",
      "primary_cleaner.output.tail_ag                        22614 non-null float64\n",
      "primary_cleaner.output.tail_pb                        22594 non-null float64\n",
      "primary_cleaner.output.tail_sol                       22365 non-null float64\n",
      "primary_cleaner.output.tail_au                        22617 non-null float64\n",
      "primary_cleaner.state.floatbank8_a_air                22660 non-null float64\n",
      "primary_cleaner.state.floatbank8_a_level              22667 non-null float64\n",
      "primary_cleaner.state.floatbank8_b_air                22660 non-null float64\n",
      "primary_cleaner.state.floatbank8_b_level              22673 non-null float64\n",
      "primary_cleaner.state.floatbank8_c_air                22662 non-null float64\n",
      "primary_cleaner.state.floatbank8_c_level              22673 non-null float64\n",
      "primary_cleaner.state.floatbank8_d_air                22661 non-null float64\n",
      "primary_cleaner.state.floatbank8_d_level              22673 non-null float64\n",
      "rougher.calculation.sulfate_to_au_concentrate         22672 non-null float64\n",
      "rougher.calculation.floatbank10_sulfate_to_au_feed    22672 non-null float64\n",
      "rougher.calculation.floatbank11_sulfate_to_au_feed    22672 non-null float64\n",
      "rougher.calculation.au_pb_ratio                       21089 non-null float64\n",
      "rougher.input.feed_ag                                 22618 non-null float64\n",
      "rougher.input.feed_pb                                 22472 non-null float64\n",
      "rougher.input.feed_rate                               22163 non-null float64\n",
      "rougher.input.feed_size                               22277 non-null float64\n",
      "rougher.input.feed_sol                                22357 non-null float64\n",
      "rougher.input.feed_au                                 22617 non-null float64\n",
      "rougher.input.floatbank10_sulfate                     21415 non-null float64\n",
      "rougher.input.floatbank10_xanthate                    22247 non-null float64\n",
      "rougher.input.floatbank11_sulfate                     22038 non-null float64\n",
      "rougher.input.floatbank11_xanthate                    20459 non-null float64\n",
      "rougher.output.concentrate_ag                         22618 non-null float64\n",
      "rougher.output.concentrate_pb                         22618 non-null float64\n",
      "rougher.output.concentrate_sol                        22526 non-null float64\n",
      "rougher.output.concentrate_au                         22618 non-null float64\n",
      "rougher.output.recovery                               19597 non-null float64\n",
      "rougher.output.tail_ag                                19979 non-null float64\n",
      "rougher.output.tail_pb                                22618 non-null float64\n",
      "rougher.output.tail_sol                               19980 non-null float64\n",
      "rougher.output.tail_au                                19980 non-null float64\n",
      "rougher.state.floatbank10_a_air                       22646 non-null float64\n",
      "rougher.state.floatbank10_a_level                     22647 non-null float64\n",
      "rougher.state.floatbank10_b_air                       22646 non-null float64\n",
      "rougher.state.floatbank10_b_level                     22647 non-null float64\n",
      "rougher.state.floatbank10_c_air                       22646 non-null float64\n",
      "rougher.state.floatbank10_c_level                     22654 non-null float64\n",
      "rougher.state.floatbank10_d_air                       22641 non-null float64\n",
      "rougher.state.floatbank10_d_level                     22649 non-null float64\n",
      "rougher.state.floatbank10_e_air                       22096 non-null float64\n",
      "rougher.state.floatbank10_e_level                     22649 non-null float64\n",
      "rougher.state.floatbank10_f_air                       22641 non-null float64\n",
      "rougher.state.floatbank10_f_level                     22642 non-null float64\n",
      "secondary_cleaner.output.tail_ag                      22616 non-null float64\n",
      "secondary_cleaner.output.tail_pb                      22600 non-null float64\n",
      "secondary_cleaner.output.tail_sol                     20501 non-null float64\n",
      "secondary_cleaner.output.tail_au                      22618 non-null float64\n",
      "secondary_cleaner.state.floatbank2_a_air              22333 non-null float64\n",
      "secondary_cleaner.state.floatbank2_a_level            22591 non-null float64\n",
      "secondary_cleaner.state.floatbank2_b_air              22538 non-null float64\n",
      "secondary_cleaner.state.floatbank2_b_level            22588 non-null float64\n",
      "secondary_cleaner.state.floatbank3_a_air              22585 non-null float64\n",
      "secondary_cleaner.state.floatbank3_a_level            22587 non-null float64\n",
      "secondary_cleaner.state.floatbank3_b_air              22592 non-null float64\n",
      "secondary_cleaner.state.floatbank3_b_level            22590 non-null float64\n",
      "secondary_cleaner.state.floatbank4_a_air              22571 non-null float64\n",
      "secondary_cleaner.state.floatbank4_a_level            22587 non-null float64\n",
      "secondary_cleaner.state.floatbank4_b_air              22608 non-null float64\n",
      "secondary_cleaner.state.floatbank4_b_level            22607 non-null float64\n",
      "secondary_cleaner.state.floatbank5_a_air              22615 non-null float64\n",
      "secondary_cleaner.state.floatbank5_a_level            22615 non-null float64\n",
      "secondary_cleaner.state.floatbank5_b_air              22615 non-null float64\n",
      "secondary_cleaner.state.floatbank5_b_level            22616 non-null float64\n",
      "secondary_cleaner.state.floatbank6_a_air              22597 non-null float64\n",
      "secondary_cleaner.state.floatbank6_a_level            22615 non-null float64\n",
      "dtypes: float64(86), object(1)\n",
      "memory usage: 15.1+ MB\n"
     ]
    }
   ],
   "source": [
    "full.info()"
   ]
  },
  {
   "cell_type": "code",
   "execution_count": 4,
   "metadata": {},
   "outputs": [
    {
     "name": "stdout",
     "output_type": "stream",
     "text": [
      "<class 'pandas.core.frame.DataFrame'>\n",
      "RangeIndex: 5856 entries, 0 to 5855\n",
      "Data columns (total 53 columns):\n",
      "date                                          5856 non-null object\n",
      "primary_cleaner.input.sulfate                 5554 non-null float64\n",
      "primary_cleaner.input.depressant              5572 non-null float64\n",
      "primary_cleaner.input.feed_size               5856 non-null float64\n",
      "primary_cleaner.input.xanthate                5690 non-null float64\n",
      "primary_cleaner.state.floatbank8_a_air        5840 non-null float64\n",
      "primary_cleaner.state.floatbank8_a_level      5840 non-null float64\n",
      "primary_cleaner.state.floatbank8_b_air        5840 non-null float64\n",
      "primary_cleaner.state.floatbank8_b_level      5840 non-null float64\n",
      "primary_cleaner.state.floatbank8_c_air        5840 non-null float64\n",
      "primary_cleaner.state.floatbank8_c_level      5840 non-null float64\n",
      "primary_cleaner.state.floatbank8_d_air        5840 non-null float64\n",
      "primary_cleaner.state.floatbank8_d_level      5840 non-null float64\n",
      "rougher.input.feed_ag                         5840 non-null float64\n",
      "rougher.input.feed_pb                         5840 non-null float64\n",
      "rougher.input.feed_rate                       5816 non-null float64\n",
      "rougher.input.feed_size                       5834 non-null float64\n",
      "rougher.input.feed_sol                        5789 non-null float64\n",
      "rougher.input.feed_au                         5840 non-null float64\n",
      "rougher.input.floatbank10_sulfate             5599 non-null float64\n",
      "rougher.input.floatbank10_xanthate            5733 non-null float64\n",
      "rougher.input.floatbank11_sulfate             5801 non-null float64\n",
      "rougher.input.floatbank11_xanthate            5503 non-null float64\n",
      "rougher.state.floatbank10_a_air               5839 non-null float64\n",
      "rougher.state.floatbank10_a_level             5840 non-null float64\n",
      "rougher.state.floatbank10_b_air               5839 non-null float64\n",
      "rougher.state.floatbank10_b_level             5840 non-null float64\n",
      "rougher.state.floatbank10_c_air               5839 non-null float64\n",
      "rougher.state.floatbank10_c_level             5840 non-null float64\n",
      "rougher.state.floatbank10_d_air               5839 non-null float64\n",
      "rougher.state.floatbank10_d_level             5840 non-null float64\n",
      "rougher.state.floatbank10_e_air               5839 non-null float64\n",
      "rougher.state.floatbank10_e_level             5840 non-null float64\n",
      "rougher.state.floatbank10_f_air               5839 non-null float64\n",
      "rougher.state.floatbank10_f_level             5840 non-null float64\n",
      "secondary_cleaner.state.floatbank2_a_air      5836 non-null float64\n",
      "secondary_cleaner.state.floatbank2_a_level    5840 non-null float64\n",
      "secondary_cleaner.state.floatbank2_b_air      5833 non-null float64\n",
      "secondary_cleaner.state.floatbank2_b_level    5840 non-null float64\n",
      "secondary_cleaner.state.floatbank3_a_air      5822 non-null float64\n",
      "secondary_cleaner.state.floatbank3_a_level    5840 non-null float64\n",
      "secondary_cleaner.state.floatbank3_b_air      5840 non-null float64\n",
      "secondary_cleaner.state.floatbank3_b_level    5840 non-null float64\n",
      "secondary_cleaner.state.floatbank4_a_air      5840 non-null float64\n",
      "secondary_cleaner.state.floatbank4_a_level    5840 non-null float64\n",
      "secondary_cleaner.state.floatbank4_b_air      5840 non-null float64\n",
      "secondary_cleaner.state.floatbank4_b_level    5840 non-null float64\n",
      "secondary_cleaner.state.floatbank5_a_air      5840 non-null float64\n",
      "secondary_cleaner.state.floatbank5_a_level    5840 non-null float64\n",
      "secondary_cleaner.state.floatbank5_b_air      5840 non-null float64\n",
      "secondary_cleaner.state.floatbank5_b_level    5840 non-null float64\n",
      "secondary_cleaner.state.floatbank6_a_air      5840 non-null float64\n",
      "secondary_cleaner.state.floatbank6_a_level    5840 non-null float64\n",
      "dtypes: float64(52), object(1)\n",
      "memory usage: 2.4+ MB\n"
     ]
    }
   ],
   "source": [
    "test.info()"
   ]
  },
  {
   "cell_type": "code",
   "execution_count": 5,
   "metadata": {},
   "outputs": [
    {
     "name": "stdout",
     "output_type": "stream",
     "text": [
      "<class 'pandas.core.frame.DataFrame'>\n",
      "RangeIndex: 16860 entries, 0 to 16859\n",
      "Data columns (total 87 columns):\n",
      "date                                                  16860 non-null object\n",
      "final.output.concentrate_ag                           16788 non-null float64\n",
      "final.output.concentrate_pb                           16788 non-null float64\n",
      "final.output.concentrate_sol                          16490 non-null float64\n",
      "final.output.concentrate_au                           16789 non-null float64\n",
      "final.output.recovery                                 15339 non-null float64\n",
      "final.output.tail_ag                                  16794 non-null float64\n",
      "final.output.tail_pb                                  16677 non-null float64\n",
      "final.output.tail_sol                                 16715 non-null float64\n",
      "final.output.tail_au                                  16794 non-null float64\n",
      "primary_cleaner.input.sulfate                         15553 non-null float64\n",
      "primary_cleaner.input.depressant                      15598 non-null float64\n",
      "primary_cleaner.input.feed_size                       16860 non-null float64\n",
      "primary_cleaner.input.xanthate                        15875 non-null float64\n",
      "primary_cleaner.output.concentrate_ag                 16778 non-null float64\n",
      "primary_cleaner.output.concentrate_pb                 16502 non-null float64\n",
      "primary_cleaner.output.concentrate_sol                16224 non-null float64\n",
      "primary_cleaner.output.concentrate_au                 16778 non-null float64\n",
      "primary_cleaner.output.tail_ag                        16777 non-null float64\n",
      "primary_cleaner.output.tail_pb                        16761 non-null float64\n",
      "primary_cleaner.output.tail_sol                       16579 non-null float64\n",
      "primary_cleaner.output.tail_au                        16777 non-null float64\n",
      "primary_cleaner.state.floatbank8_a_air                16820 non-null float64\n",
      "primary_cleaner.state.floatbank8_a_level              16827 non-null float64\n",
      "primary_cleaner.state.floatbank8_b_air                16820 non-null float64\n",
      "primary_cleaner.state.floatbank8_b_level              16833 non-null float64\n",
      "primary_cleaner.state.floatbank8_c_air                16822 non-null float64\n",
      "primary_cleaner.state.floatbank8_c_level              16833 non-null float64\n",
      "primary_cleaner.state.floatbank8_d_air                16821 non-null float64\n",
      "primary_cleaner.state.floatbank8_d_level              16833 non-null float64\n",
      "rougher.calculation.sulfate_to_au_concentrate         16833 non-null float64\n",
      "rougher.calculation.floatbank10_sulfate_to_au_feed    16833 non-null float64\n",
      "rougher.calculation.floatbank11_sulfate_to_au_feed    16833 non-null float64\n",
      "rougher.calculation.au_pb_ratio                       15618 non-null float64\n",
      "rougher.input.feed_ag                                 16778 non-null float64\n",
      "rougher.input.feed_pb                                 16632 non-null float64\n",
      "rougher.input.feed_rate                               16347 non-null float64\n",
      "rougher.input.feed_size                               16443 non-null float64\n",
      "rougher.input.feed_sol                                16568 non-null float64\n",
      "rougher.input.feed_au                                 16777 non-null float64\n",
      "rougher.input.floatbank10_sulfate                     15816 non-null float64\n",
      "rougher.input.floatbank10_xanthate                    16514 non-null float64\n",
      "rougher.input.floatbank11_sulfate                     16237 non-null float64\n",
      "rougher.input.floatbank11_xanthate                    14956 non-null float64\n",
      "rougher.output.concentrate_ag                         16778 non-null float64\n",
      "rougher.output.concentrate_pb                         16778 non-null float64\n",
      "rougher.output.concentrate_sol                        16698 non-null float64\n",
      "rougher.output.concentrate_au                         16778 non-null float64\n",
      "rougher.output.recovery                               14287 non-null float64\n",
      "rougher.output.tail_ag                                14610 non-null float64\n",
      "rougher.output.tail_pb                                16778 non-null float64\n",
      "rougher.output.tail_sol                               14611 non-null float64\n",
      "rougher.output.tail_au                                14611 non-null float64\n",
      "rougher.state.floatbank10_a_air                       16807 non-null float64\n",
      "rougher.state.floatbank10_a_level                     16807 non-null float64\n",
      "rougher.state.floatbank10_b_air                       16807 non-null float64\n",
      "rougher.state.floatbank10_b_level                     16807 non-null float64\n",
      "rougher.state.floatbank10_c_air                       16807 non-null float64\n",
      "rougher.state.floatbank10_c_level                     16814 non-null float64\n",
      "rougher.state.floatbank10_d_air                       16802 non-null float64\n",
      "rougher.state.floatbank10_d_level                     16809 non-null float64\n",
      "rougher.state.floatbank10_e_air                       16257 non-null float64\n",
      "rougher.state.floatbank10_e_level                     16809 non-null float64\n",
      "rougher.state.floatbank10_f_air                       16802 non-null float64\n",
      "rougher.state.floatbank10_f_level                     16802 non-null float64\n",
      "secondary_cleaner.output.tail_ag                      16776 non-null float64\n",
      "secondary_cleaner.output.tail_pb                      16764 non-null float64\n",
      "secondary_cleaner.output.tail_sol                     14874 non-null float64\n",
      "secondary_cleaner.output.tail_au                      16778 non-null float64\n",
      "secondary_cleaner.state.floatbank2_a_air              16497 non-null float64\n",
      "secondary_cleaner.state.floatbank2_a_level            16751 non-null float64\n",
      "secondary_cleaner.state.floatbank2_b_air              16705 non-null float64\n",
      "secondary_cleaner.state.floatbank2_b_level            16748 non-null float64\n",
      "secondary_cleaner.state.floatbank3_a_air              16763 non-null float64\n",
      "secondary_cleaner.state.floatbank3_a_level            16747 non-null float64\n",
      "secondary_cleaner.state.floatbank3_b_air              16752 non-null float64\n",
      "secondary_cleaner.state.floatbank3_b_level            16750 non-null float64\n",
      "secondary_cleaner.state.floatbank4_a_air              16731 non-null float64\n",
      "secondary_cleaner.state.floatbank4_a_level            16747 non-null float64\n",
      "secondary_cleaner.state.floatbank4_b_air              16768 non-null float64\n",
      "secondary_cleaner.state.floatbank4_b_level            16767 non-null float64\n",
      "secondary_cleaner.state.floatbank5_a_air              16775 non-null float64\n",
      "secondary_cleaner.state.floatbank5_a_level            16775 non-null float64\n",
      "secondary_cleaner.state.floatbank5_b_air              16775 non-null float64\n",
      "secondary_cleaner.state.floatbank5_b_level            16776 non-null float64\n",
      "secondary_cleaner.state.floatbank6_a_air              16757 non-null float64\n",
      "secondary_cleaner.state.floatbank6_a_level            16775 non-null float64\n",
      "dtypes: float64(86), object(1)\n",
      "memory usage: 11.2+ MB\n"
     ]
    }
   ],
   "source": [
    "train.info()"
   ]
  },
  {
   "cell_type": "markdown",
   "metadata": {},
   "source": [
    "Как и ожидалось, количество столбцов в датафрейме с тестовой выборкой меньше. Также заметно наличие пропусков во всех таблицах."
   ]
  },
  {
   "cell_type": "markdown",
   "metadata": {},
   "source": [
    "Проверим, что эффективность обогащения рассчитана правильно. Вычислим её на обучающей выборке для признака rougher.output.recovery. "
   ]
  },
  {
   "cell_type": "markdown",
   "metadata": {},
   "source": [
    "Так как мы считаем эффективность обогащения после флотации, нам потребуются следующие переменные: доля золота в концентрате после флотации - rougher.output.concentrate_au, доля золота в сырье до флотации - rougher.input.feed_au, доля золота в отвальных хвостах после флотации - rougher.output.tail_au . "
   ]
  },
  {
   "cell_type": "markdown",
   "metadata": {},
   "source": [
    "Как известно, в нашей таблице есть пропуски и они могут помешать нам провести данную процедуру. Создадим новый - временный - датафрейм, в котором удалим все строки с пропущенными значениями в данных столбцах."
   ]
  },
  {
   "cell_type": "code",
   "execution_count": 6,
   "metadata": {},
   "outputs": [],
   "source": [
    "train_current = train.drop(train[(train['rougher.input.feed_au'].isna()) | (train['rougher.output.recovery'].isna(\n",
    ")) | (train['rougher.output.tail_au'].isna()) | (train['rougher.output.concentrate_au'].isna(\n",
    "))].index)"
   ]
  },
  {
   "cell_type": "code",
   "execution_count": 7,
   "metadata": {},
   "outputs": [],
   "source": [
    "recovery_testing = ( train_current['rougher.output.concentrate_au']* (\n",
    "    train_current['rougher.input.feed_au'] - train_current['rougher.output.tail_au'])) / (\n",
    "    train_current['rougher.input.feed_au'] * (train_current['rougher.output.concentrate_au'] - train_current['rougher.output.tail_au'] )) * 100"
   ]
  },
  {
   "cell_type": "markdown",
   "metadata": {},
   "source": [
    "Найдем MAE между нашими расчётами и значением признака."
   ]
  },
  {
   "cell_type": "code",
   "execution_count": 8,
   "metadata": {},
   "outputs": [
    {
     "data": {
      "text/plain": [
       "9.444891926100695e-15"
      ]
     },
     "execution_count": 8,
     "metadata": {},
     "output_type": "execute_result"
    }
   ],
   "source": [
    "mean_absolute_error(train_current['rougher.output.recovery'], recovery_testing)"
   ]
  },
  {
   "cell_type": "markdown",
   "metadata": {},
   "source": [
    "Получили значение практически равное 0, значит, эффективность обогащения рассчитана правильно."
   ]
  },
  {
   "cell_type": "markdown",
   "metadata": {},
   "source": [
    "Проанализируем параметры, которые недоступны в тестовой выборке. Для начала получим их список."
   ]
  },
  {
   "cell_type": "code",
   "execution_count": 9,
   "metadata": {},
   "outputs": [
    {
     "data": {
      "text/plain": [
       "{'final.output.concentrate_ag',\n",
       " 'final.output.concentrate_au',\n",
       " 'final.output.concentrate_pb',\n",
       " 'final.output.concentrate_sol',\n",
       " 'final.output.recovery',\n",
       " 'final.output.tail_ag',\n",
       " 'final.output.tail_au',\n",
       " 'final.output.tail_pb',\n",
       " 'final.output.tail_sol',\n",
       " 'primary_cleaner.output.concentrate_ag',\n",
       " 'primary_cleaner.output.concentrate_au',\n",
       " 'primary_cleaner.output.concentrate_pb',\n",
       " 'primary_cleaner.output.concentrate_sol',\n",
       " 'primary_cleaner.output.tail_ag',\n",
       " 'primary_cleaner.output.tail_au',\n",
       " 'primary_cleaner.output.tail_pb',\n",
       " 'primary_cleaner.output.tail_sol',\n",
       " 'rougher.calculation.au_pb_ratio',\n",
       " 'rougher.calculation.floatbank10_sulfate_to_au_feed',\n",
       " 'rougher.calculation.floatbank11_sulfate_to_au_feed',\n",
       " 'rougher.calculation.sulfate_to_au_concentrate',\n",
       " 'rougher.output.concentrate_ag',\n",
       " 'rougher.output.concentrate_au',\n",
       " 'rougher.output.concentrate_pb',\n",
       " 'rougher.output.concentrate_sol',\n",
       " 'rougher.output.recovery',\n",
       " 'rougher.output.tail_ag',\n",
       " 'rougher.output.tail_au',\n",
       " 'rougher.output.tail_pb',\n",
       " 'rougher.output.tail_sol',\n",
       " 'secondary_cleaner.output.tail_ag',\n",
       " 'secondary_cleaner.output.tail_au',\n",
       " 'secondary_cleaner.output.tail_pb',\n",
       " 'secondary_cleaner.output.tail_sol'}"
      ]
     },
     "execution_count": 9,
     "metadata": {},
     "output_type": "execute_result"
    }
   ],
   "source": [
    "output_set = set(train.columns).difference(set(test.columns))\n",
    "output_set"
   ]
  },
  {
   "cell_type": "markdown",
   "metadata": {},
   "source": [
    "Итак, закономерность на лицо. В тестовой выборке отсутствуют параметры типа output - то, что получается УЖЕ в процессе работы с рудой. Различные содержания веществ в выходных продуктах этапов, а также рассчеты связанные с содержанием золота в продуктах. Такие обстоятельства вполне логичны. Поскольку предполагается, что мы предсказываем заранее, пока процесс еще начался. Сделаем важный вывод отсюда - столбцы, что отсутствуют в тестовой выборке, нельзя использовать при обучении модели."
   ]
  },
  {
   "cell_type": "markdown",
   "metadata": {},
   "source": [
    "Проведем предобработку данных. Нам следует разобраться с пропусками. В этом деле мы воспользуемся фактом того, что соседние по времени параметры похожи.  Проверим это."
   ]
  },
  {
   "cell_type": "code",
   "execution_count": 10,
   "metadata": {},
   "outputs": [
    {
     "data": {
      "text/html": [
       "<div>\n",
       "<style scoped>\n",
       "    .dataframe tbody tr th:only-of-type {\n",
       "        vertical-align: middle;\n",
       "    }\n",
       "\n",
       "    .dataframe tbody tr th {\n",
       "        vertical-align: top;\n",
       "    }\n",
       "\n",
       "    .dataframe thead th {\n",
       "        text-align: right;\n",
       "    }\n",
       "</style>\n",
       "<table border=\"1\" class=\"dataframe\">\n",
       "  <thead>\n",
       "    <tr style=\"text-align: right;\">\n",
       "      <th></th>\n",
       "      <th>date</th>\n",
       "      <th>final.output.concentrate_ag</th>\n",
       "      <th>final.output.concentrate_pb</th>\n",
       "      <th>final.output.concentrate_sol</th>\n",
       "      <th>final.output.concentrate_au</th>\n",
       "      <th>final.output.recovery</th>\n",
       "      <th>final.output.tail_ag</th>\n",
       "      <th>final.output.tail_pb</th>\n",
       "      <th>final.output.tail_sol</th>\n",
       "      <th>final.output.tail_au</th>\n",
       "      <th>...</th>\n",
       "      <th>secondary_cleaner.state.floatbank4_a_air</th>\n",
       "      <th>secondary_cleaner.state.floatbank4_a_level</th>\n",
       "      <th>secondary_cleaner.state.floatbank4_b_air</th>\n",
       "      <th>secondary_cleaner.state.floatbank4_b_level</th>\n",
       "      <th>secondary_cleaner.state.floatbank5_a_air</th>\n",
       "      <th>secondary_cleaner.state.floatbank5_a_level</th>\n",
       "      <th>secondary_cleaner.state.floatbank5_b_air</th>\n",
       "      <th>secondary_cleaner.state.floatbank5_b_level</th>\n",
       "      <th>secondary_cleaner.state.floatbank6_a_air</th>\n",
       "      <th>secondary_cleaner.state.floatbank6_a_level</th>\n",
       "    </tr>\n",
       "  </thead>\n",
       "  <tbody>\n",
       "    <tr>\n",
       "      <td>0</td>\n",
       "      <td>2016-01-15 00:00:00</td>\n",
       "      <td>6.055403</td>\n",
       "      <td>9.889648</td>\n",
       "      <td>5.507324</td>\n",
       "      <td>42.192020</td>\n",
       "      <td>70.541216</td>\n",
       "      <td>10.411962</td>\n",
       "      <td>0.895447</td>\n",
       "      <td>16.904297</td>\n",
       "      <td>2.143149</td>\n",
       "      <td>...</td>\n",
       "      <td>14.016835</td>\n",
       "      <td>-502.488007</td>\n",
       "      <td>12.099931</td>\n",
       "      <td>-504.715942</td>\n",
       "      <td>9.925633</td>\n",
       "      <td>-498.310211</td>\n",
       "      <td>8.079666</td>\n",
       "      <td>-500.470978</td>\n",
       "      <td>14.151341</td>\n",
       "      <td>-605.841980</td>\n",
       "    </tr>\n",
       "    <tr>\n",
       "      <td>1</td>\n",
       "      <td>2016-01-15 01:00:00</td>\n",
       "      <td>6.029369</td>\n",
       "      <td>9.968944</td>\n",
       "      <td>5.257781</td>\n",
       "      <td>42.701629</td>\n",
       "      <td>69.266198</td>\n",
       "      <td>10.462676</td>\n",
       "      <td>0.927452</td>\n",
       "      <td>16.634514</td>\n",
       "      <td>2.224930</td>\n",
       "      <td>...</td>\n",
       "      <td>13.992281</td>\n",
       "      <td>-505.503262</td>\n",
       "      <td>11.950531</td>\n",
       "      <td>-501.331529</td>\n",
       "      <td>10.039245</td>\n",
       "      <td>-500.169983</td>\n",
       "      <td>7.984757</td>\n",
       "      <td>-500.582168</td>\n",
       "      <td>13.998353</td>\n",
       "      <td>-599.787184</td>\n",
       "    </tr>\n",
       "    <tr>\n",
       "      <td>2</td>\n",
       "      <td>2016-01-15 02:00:00</td>\n",
       "      <td>6.055926</td>\n",
       "      <td>10.213995</td>\n",
       "      <td>5.383759</td>\n",
       "      <td>42.657501</td>\n",
       "      <td>68.116445</td>\n",
       "      <td>10.507046</td>\n",
       "      <td>0.953716</td>\n",
       "      <td>16.208849</td>\n",
       "      <td>2.257889</td>\n",
       "      <td>...</td>\n",
       "      <td>14.015015</td>\n",
       "      <td>-502.520901</td>\n",
       "      <td>11.912783</td>\n",
       "      <td>-501.133383</td>\n",
       "      <td>10.070913</td>\n",
       "      <td>-500.129135</td>\n",
       "      <td>8.013877</td>\n",
       "      <td>-500.517572</td>\n",
       "      <td>14.028663</td>\n",
       "      <td>-601.427363</td>\n",
       "    </tr>\n",
       "    <tr>\n",
       "      <td>3</td>\n",
       "      <td>2016-01-15 03:00:00</td>\n",
       "      <td>6.047977</td>\n",
       "      <td>9.977019</td>\n",
       "      <td>4.858634</td>\n",
       "      <td>42.689819</td>\n",
       "      <td>68.347543</td>\n",
       "      <td>10.422762</td>\n",
       "      <td>0.883763</td>\n",
       "      <td>16.532835</td>\n",
       "      <td>2.146849</td>\n",
       "      <td>...</td>\n",
       "      <td>14.036510</td>\n",
       "      <td>-500.857308</td>\n",
       "      <td>11.999550</td>\n",
       "      <td>-501.193686</td>\n",
       "      <td>9.970366</td>\n",
       "      <td>-499.201640</td>\n",
       "      <td>7.977324</td>\n",
       "      <td>-500.255908</td>\n",
       "      <td>14.005551</td>\n",
       "      <td>-599.996129</td>\n",
       "    </tr>\n",
       "    <tr>\n",
       "      <td>4</td>\n",
       "      <td>2016-01-15 04:00:00</td>\n",
       "      <td>6.148599</td>\n",
       "      <td>10.142511</td>\n",
       "      <td>4.939416</td>\n",
       "      <td>42.774141</td>\n",
       "      <td>66.927016</td>\n",
       "      <td>10.360302</td>\n",
       "      <td>0.792826</td>\n",
       "      <td>16.525686</td>\n",
       "      <td>2.055292</td>\n",
       "      <td>...</td>\n",
       "      <td>14.027298</td>\n",
       "      <td>-499.838632</td>\n",
       "      <td>11.953070</td>\n",
       "      <td>-501.053894</td>\n",
       "      <td>9.925709</td>\n",
       "      <td>-501.686727</td>\n",
       "      <td>7.894242</td>\n",
       "      <td>-500.356035</td>\n",
       "      <td>13.996647</td>\n",
       "      <td>-601.496691</td>\n",
       "    </tr>\n",
       "    <tr>\n",
       "      <td>5</td>\n",
       "      <td>2016-01-15 05:00:00</td>\n",
       "      <td>6.482968</td>\n",
       "      <td>10.049416</td>\n",
       "      <td>5.480257</td>\n",
       "      <td>41.633678</td>\n",
       "      <td>69.465816</td>\n",
       "      <td>10.182708</td>\n",
       "      <td>0.664118</td>\n",
       "      <td>16.999638</td>\n",
       "      <td>1.918586</td>\n",
       "      <td>...</td>\n",
       "      <td>13.938497</td>\n",
       "      <td>-500.970168</td>\n",
       "      <td>11.883350</td>\n",
       "      <td>-500.395298</td>\n",
       "      <td>10.054147</td>\n",
       "      <td>-496.374715</td>\n",
       "      <td>7.965083</td>\n",
       "      <td>-499.364752</td>\n",
       "      <td>14.017067</td>\n",
       "      <td>-599.707915</td>\n",
       "    </tr>\n",
       "    <tr>\n",
       "      <td>6</td>\n",
       "      <td>2016-01-15 06:00:00</td>\n",
       "      <td>6.533849</td>\n",
       "      <td>10.058141</td>\n",
       "      <td>4.569100</td>\n",
       "      <td>41.995316</td>\n",
       "      <td>69.300835</td>\n",
       "      <td>10.304598</td>\n",
       "      <td>0.807342</td>\n",
       "      <td>16.723575</td>\n",
       "      <td>2.058913</td>\n",
       "      <td>...</td>\n",
       "      <td>14.046819</td>\n",
       "      <td>-500.971133</td>\n",
       "      <td>12.091543</td>\n",
       "      <td>-500.501426</td>\n",
       "      <td>10.003247</td>\n",
       "      <td>-497.083180</td>\n",
       "      <td>8.010890</td>\n",
       "      <td>-500.002423</td>\n",
       "      <td>14.029649</td>\n",
       "      <td>-600.905470</td>\n",
       "    </tr>\n",
       "    <tr>\n",
       "      <td>7</td>\n",
       "      <td>2016-01-15 07:00:00</td>\n",
       "      <td>6.130823</td>\n",
       "      <td>9.935481</td>\n",
       "      <td>4.389813</td>\n",
       "      <td>42.452727</td>\n",
       "      <td>70.230976</td>\n",
       "      <td>10.443288</td>\n",
       "      <td>0.949346</td>\n",
       "      <td>16.689959</td>\n",
       "      <td>2.143437</td>\n",
       "      <td>...</td>\n",
       "      <td>13.974691</td>\n",
       "      <td>-501.819696</td>\n",
       "      <td>12.101324</td>\n",
       "      <td>-500.583446</td>\n",
       "      <td>9.873169</td>\n",
       "      <td>-499.171928</td>\n",
       "      <td>7.993381</td>\n",
       "      <td>-499.794518</td>\n",
       "      <td>13.984498</td>\n",
       "      <td>-600.411070</td>\n",
       "    </tr>\n",
       "    <tr>\n",
       "      <td>8</td>\n",
       "      <td>2016-01-15 08:00:00</td>\n",
       "      <td>5.834140</td>\n",
       "      <td>10.071156</td>\n",
       "      <td>4.876389</td>\n",
       "      <td>43.404078</td>\n",
       "      <td>69.688595</td>\n",
       "      <td>10.420140</td>\n",
       "      <td>1.065453</td>\n",
       "      <td>17.201948</td>\n",
       "      <td>2.209881</td>\n",
       "      <td>...</td>\n",
       "      <td>13.964030</td>\n",
       "      <td>-504.252450</td>\n",
       "      <td>12.060738</td>\n",
       "      <td>-501.174549</td>\n",
       "      <td>10.033838</td>\n",
       "      <td>-501.178133</td>\n",
       "      <td>7.881604</td>\n",
       "      <td>-499.729434</td>\n",
       "      <td>13.967135</td>\n",
       "      <td>-599.061188</td>\n",
       "    </tr>\n",
       "    <tr>\n",
       "      <td>9</td>\n",
       "      <td>2016-01-15 09:00:00</td>\n",
       "      <td>5.687063</td>\n",
       "      <td>9.980404</td>\n",
       "      <td>5.282514</td>\n",
       "      <td>43.235220</td>\n",
       "      <td>70.279619</td>\n",
       "      <td>10.487013</td>\n",
       "      <td>1.159805</td>\n",
       "      <td>17.483979</td>\n",
       "      <td>2.209593</td>\n",
       "      <td>...</td>\n",
       "      <td>13.989632</td>\n",
       "      <td>-503.195299</td>\n",
       "      <td>12.052233</td>\n",
       "      <td>-500.928547</td>\n",
       "      <td>9.962574</td>\n",
       "      <td>-502.986357</td>\n",
       "      <td>7.979219</td>\n",
       "      <td>-500.146835</td>\n",
       "      <td>13.981614</td>\n",
       "      <td>-598.070855</td>\n",
       "    </tr>\n",
       "  </tbody>\n",
       "</table>\n",
       "<p>10 rows × 87 columns</p>\n",
       "</div>"
      ],
      "text/plain": [
       "                  date  final.output.concentrate_ag  \\\n",
       "0  2016-01-15 00:00:00                     6.055403   \n",
       "1  2016-01-15 01:00:00                     6.029369   \n",
       "2  2016-01-15 02:00:00                     6.055926   \n",
       "3  2016-01-15 03:00:00                     6.047977   \n",
       "4  2016-01-15 04:00:00                     6.148599   \n",
       "5  2016-01-15 05:00:00                     6.482968   \n",
       "6  2016-01-15 06:00:00                     6.533849   \n",
       "7  2016-01-15 07:00:00                     6.130823   \n",
       "8  2016-01-15 08:00:00                     5.834140   \n",
       "9  2016-01-15 09:00:00                     5.687063   \n",
       "\n",
       "   final.output.concentrate_pb  final.output.concentrate_sol  \\\n",
       "0                     9.889648                      5.507324   \n",
       "1                     9.968944                      5.257781   \n",
       "2                    10.213995                      5.383759   \n",
       "3                     9.977019                      4.858634   \n",
       "4                    10.142511                      4.939416   \n",
       "5                    10.049416                      5.480257   \n",
       "6                    10.058141                      4.569100   \n",
       "7                     9.935481                      4.389813   \n",
       "8                    10.071156                      4.876389   \n",
       "9                     9.980404                      5.282514   \n",
       "\n",
       "   final.output.concentrate_au  final.output.recovery  final.output.tail_ag  \\\n",
       "0                    42.192020              70.541216             10.411962   \n",
       "1                    42.701629              69.266198             10.462676   \n",
       "2                    42.657501              68.116445             10.507046   \n",
       "3                    42.689819              68.347543             10.422762   \n",
       "4                    42.774141              66.927016             10.360302   \n",
       "5                    41.633678              69.465816             10.182708   \n",
       "6                    41.995316              69.300835             10.304598   \n",
       "7                    42.452727              70.230976             10.443288   \n",
       "8                    43.404078              69.688595             10.420140   \n",
       "9                    43.235220              70.279619             10.487013   \n",
       "\n",
       "   final.output.tail_pb  final.output.tail_sol  final.output.tail_au  ...  \\\n",
       "0              0.895447              16.904297              2.143149  ...   \n",
       "1              0.927452              16.634514              2.224930  ...   \n",
       "2              0.953716              16.208849              2.257889  ...   \n",
       "3              0.883763              16.532835              2.146849  ...   \n",
       "4              0.792826              16.525686              2.055292  ...   \n",
       "5              0.664118              16.999638              1.918586  ...   \n",
       "6              0.807342              16.723575              2.058913  ...   \n",
       "7              0.949346              16.689959              2.143437  ...   \n",
       "8              1.065453              17.201948              2.209881  ...   \n",
       "9              1.159805              17.483979              2.209593  ...   \n",
       "\n",
       "   secondary_cleaner.state.floatbank4_a_air  \\\n",
       "0                                 14.016835   \n",
       "1                                 13.992281   \n",
       "2                                 14.015015   \n",
       "3                                 14.036510   \n",
       "4                                 14.027298   \n",
       "5                                 13.938497   \n",
       "6                                 14.046819   \n",
       "7                                 13.974691   \n",
       "8                                 13.964030   \n",
       "9                                 13.989632   \n",
       "\n",
       "   secondary_cleaner.state.floatbank4_a_level  \\\n",
       "0                                 -502.488007   \n",
       "1                                 -505.503262   \n",
       "2                                 -502.520901   \n",
       "3                                 -500.857308   \n",
       "4                                 -499.838632   \n",
       "5                                 -500.970168   \n",
       "6                                 -500.971133   \n",
       "7                                 -501.819696   \n",
       "8                                 -504.252450   \n",
       "9                                 -503.195299   \n",
       "\n",
       "   secondary_cleaner.state.floatbank4_b_air  \\\n",
       "0                                 12.099931   \n",
       "1                                 11.950531   \n",
       "2                                 11.912783   \n",
       "3                                 11.999550   \n",
       "4                                 11.953070   \n",
       "5                                 11.883350   \n",
       "6                                 12.091543   \n",
       "7                                 12.101324   \n",
       "8                                 12.060738   \n",
       "9                                 12.052233   \n",
       "\n",
       "   secondary_cleaner.state.floatbank4_b_level  \\\n",
       "0                                 -504.715942   \n",
       "1                                 -501.331529   \n",
       "2                                 -501.133383   \n",
       "3                                 -501.193686   \n",
       "4                                 -501.053894   \n",
       "5                                 -500.395298   \n",
       "6                                 -500.501426   \n",
       "7                                 -500.583446   \n",
       "8                                 -501.174549   \n",
       "9                                 -500.928547   \n",
       "\n",
       "   secondary_cleaner.state.floatbank5_a_air  \\\n",
       "0                                  9.925633   \n",
       "1                                 10.039245   \n",
       "2                                 10.070913   \n",
       "3                                  9.970366   \n",
       "4                                  9.925709   \n",
       "5                                 10.054147   \n",
       "6                                 10.003247   \n",
       "7                                  9.873169   \n",
       "8                                 10.033838   \n",
       "9                                  9.962574   \n",
       "\n",
       "   secondary_cleaner.state.floatbank5_a_level  \\\n",
       "0                                 -498.310211   \n",
       "1                                 -500.169983   \n",
       "2                                 -500.129135   \n",
       "3                                 -499.201640   \n",
       "4                                 -501.686727   \n",
       "5                                 -496.374715   \n",
       "6                                 -497.083180   \n",
       "7                                 -499.171928   \n",
       "8                                 -501.178133   \n",
       "9                                 -502.986357   \n",
       "\n",
       "   secondary_cleaner.state.floatbank5_b_air  \\\n",
       "0                                  8.079666   \n",
       "1                                  7.984757   \n",
       "2                                  8.013877   \n",
       "3                                  7.977324   \n",
       "4                                  7.894242   \n",
       "5                                  7.965083   \n",
       "6                                  8.010890   \n",
       "7                                  7.993381   \n",
       "8                                  7.881604   \n",
       "9                                  7.979219   \n",
       "\n",
       "   secondary_cleaner.state.floatbank5_b_level  \\\n",
       "0                                 -500.470978   \n",
       "1                                 -500.582168   \n",
       "2                                 -500.517572   \n",
       "3                                 -500.255908   \n",
       "4                                 -500.356035   \n",
       "5                                 -499.364752   \n",
       "6                                 -500.002423   \n",
       "7                                 -499.794518   \n",
       "8                                 -499.729434   \n",
       "9                                 -500.146835   \n",
       "\n",
       "   secondary_cleaner.state.floatbank6_a_air  \\\n",
       "0                                 14.151341   \n",
       "1                                 13.998353   \n",
       "2                                 14.028663   \n",
       "3                                 14.005551   \n",
       "4                                 13.996647   \n",
       "5                                 14.017067   \n",
       "6                                 14.029649   \n",
       "7                                 13.984498   \n",
       "8                                 13.967135   \n",
       "9                                 13.981614   \n",
       "\n",
       "   secondary_cleaner.state.floatbank6_a_level  \n",
       "0                                 -605.841980  \n",
       "1                                 -599.787184  \n",
       "2                                 -601.427363  \n",
       "3                                 -599.996129  \n",
       "4                                 -601.496691  \n",
       "5                                 -599.707915  \n",
       "6                                 -600.905470  \n",
       "7                                 -600.411070  \n",
       "8                                 -599.061188  \n",
       "9                                 -598.070855  \n",
       "\n",
       "[10 rows x 87 columns]"
      ]
     },
     "execution_count": 10,
     "metadata": {},
     "output_type": "execute_result"
    }
   ],
   "source": [
    "train.head(10)"
   ]
  },
  {
   "cell_type": "markdown",
   "metadata": {},
   "source": [
    "Действительно, значения отличаются не сильно. "
   ]
  },
  {
   "cell_type": "markdown",
   "metadata": {},
   "source": [
    "Напишем функцию и заменим там, где возможно, пропущенные значения средним арифметическим их соседей - и в тренировочной, и в тестовой выборке. Если значение не удалось заменить, значит, рядом с ним нет непустых ячеек, поэтому - восстановить их невозможно."
   ]
  },
  {
   "cell_type": "markdown",
   "metadata": {},
   "source": [
    "Также напишем функцию, которая выводит количество NaNов в столбце с наибольшим их содержанием, а также отношение этого значения к размеру датафрейма. Потребуется для оценки результатов и принятия решения об удалении строк с пропущенными значениями."
   ]
  },
  {
   "cell_type": "code",
   "execution_count": 11,
   "metadata": {},
   "outputs": [],
   "source": [
    "def filler(data, column):\n",
    "    current = copy.deepcopy(data[column]) #столбец\n",
    "    indexes = data[current.isna()].index #индексы пропусков в столбце\n",
    "    FIRST_INDEX = 0\n",
    "    SECOND_INDEX = 1\n",
    "    last_index = len(data) - 1\n",
    "    for i in indexes:\n",
    "        if i == FIRST_INDEX or i == SECOND_INDEX:\n",
    "            fill_slice = current.loc[i+1:i+2]\n",
    "        elif i == last_index: \n",
    "            fill_slice = current.loc[i-2:i-1]\n",
    "        else:\n",
    "            fill_slice = pd.concat([pd.Series(current.loc[i-2:i-1]), pd.Series(current.loc[i+1:i+2])])\n",
    "        if fill_slice.isna().sum() == len(fill_slice):\n",
    "            data.loc[i, column] = np.nan\n",
    "        else:\n",
    "            data.loc[i, column] = fill_slice.mean()"
   ]
  },
  {
   "cell_type": "code",
   "execution_count": 12,
   "metadata": {},
   "outputs": [],
   "source": [
    "def nan_check(data):\n",
    "    summ = data.isna().sum().max()\n",
    "    print('Наибольшее количество NaN: {}'.format(summ))\n",
    "    print('Это {:.2} от размера датафрейма'.format(summ/data.shape[0]))"
   ]
  },
  {
   "cell_type": "code",
   "execution_count": 13,
   "metadata": {},
   "outputs": [
    {
     "name": "stdout",
     "output_type": "stream",
     "text": [
      "Наибольшее количество NaN: 2573\n",
      "Это 0.15 от размера датафрейма\n",
      "Наибольшее количество NaN: 353\n",
      "Это 0.06 от размера датафрейма\n"
     ]
    }
   ],
   "source": [
    "nan_check(train)\n",
    "nan_check(test)"
   ]
  },
  {
   "cell_type": "code",
   "execution_count": 14,
   "metadata": {},
   "outputs": [],
   "source": [
    "columns_train = list(train.columns)"
   ]
  },
  {
   "cell_type": "code",
   "execution_count": 15,
   "metadata": {},
   "outputs": [],
   "source": [
    "for j in columns_train: \n",
    "    filler(train, j)"
   ]
  },
  {
   "cell_type": "code",
   "execution_count": 16,
   "metadata": {},
   "outputs": [],
   "source": [
    "columns_test = list(test.columns)"
   ]
  },
  {
   "cell_type": "code",
   "execution_count": 17,
   "metadata": {},
   "outputs": [],
   "source": [
    "for j in columns_test:\n",
    "    filler(test, j)"
   ]
  },
  {
   "cell_type": "markdown",
   "metadata": {},
   "source": [
    "Посмотрим на результаты. "
   ]
  },
  {
   "cell_type": "code",
   "execution_count": 18,
   "metadata": {
    "scrolled": true
   },
   "outputs": [
    {
     "name": "stdout",
     "output_type": "stream",
     "text": [
      "Наибольшее количество NaN: 1880\n",
      "Это 0.11 от размера датафрейма\n",
      "Наибольшее количество NaN: 254\n",
      "Это 0.043 от размера датафрейма\n"
     ]
    }
   ],
   "source": [
    "nan_check(train)\n",
    "nan_check(test)"
   ]
  },
  {
   "cell_type": "markdown",
   "metadata": {},
   "source": [
    "Заменить удалось не все. Итак, мы заменяли пропуски на основании значений, содержащихся в соседних ячейках. Если мы не заменили что-то, значит, что в рядом лежащих ячейках тоже были NaNы. Что делать с оставшимися пропусками? Рассмотрим варианты. Во-первых, можно заменить, но тогда вопрос - чем? В данной ситуации брать среднее значение по столбцу или медиану было бы некорректно, так как значения параметров меняются от процесса к процессу и могут сильно отличаться, соседями мы уже воспользовались. Источников информации больше нет. Во-вторых, можно удалить, но это слишком много строк. Сделаем так: из тестововой выборки все строки с пропущенными значениями; из тренировочной выборки удалим те строки, в которых пропуски в столбцах, необходимых для обучения модели - мы не можем оставить их как есть по понятным причинам."
   ]
  },
  {
   "cell_type": "code",
   "execution_count": 19,
   "metadata": {},
   "outputs": [],
   "source": [
    "def deleting(data, columns):\n",
    "    print('Количество строк до удаления: {}'.format(data.shape[0]))\n",
    "    new = data.dropna(subset=columns)\n",
    "    print('Количество строк  после удаления: {}'.format(new.shape[0]))\n",
    "    return new"
   ]
  },
  {
   "cell_type": "code",
   "execution_count": 20,
   "metadata": {
    "scrolled": true
   },
   "outputs": [
    {
     "name": "stdout",
     "output_type": "stream",
     "text": [
      "Количество строк до удаления: 5856\n",
      "Количество строк  после удаления: 5557\n"
     ]
    }
   ],
   "source": [
    "test = deleting(test, columns_test)"
   ]
  },
  {
   "cell_type": "code",
   "execution_count": 21,
   "metadata": {},
   "outputs": [],
   "source": [
    "columns_test.append('final.output.recovery')\n",
    "columns_test.append('rougher.output.recovery')"
   ]
  },
  {
   "cell_type": "code",
   "execution_count": 22,
   "metadata": {},
   "outputs": [
    {
     "name": "stdout",
     "output_type": "stream",
     "text": [
      "Количество строк до удаления: 16860\n",
      "Количество строк  после удаления: 13649\n"
     ]
    }
   ],
   "source": [
    "train = deleting(train, columns_test)"
   ]
  },
  {
   "cell_type": "markdown",
   "metadata": {},
   "source": [
    "Готово."
   ]
  },
  {
   "cell_type": "markdown",
   "metadata": {},
   "source": [
    "**Вывод по Шагу 1**: итак, на данном шаге мы ознакомились с данными, узнали отличие тестового набора от обучающего, что дало ключ к ответу на вопрос - какие признаки можно использовать при создании набора, также проверили правильность рассчета эффективности обогащения в таблице и удалили строки с пропущенными значениями, а там где получилось - часть из них заменили."
   ]
  },
  {
   "cell_type": "markdown",
   "metadata": {},
   "source": [
    "<h3> Шаг 2: Исследовательский анализ данных</h3>\n",
    "<a id='research'></a>"
   ]
  },
  {
   "cell_type": "markdown",
   "metadata": {},
   "source": [
    "На данном Шаге предстоит изучить некоторые закономерности в выборке и сделать выводы. "
   ]
  },
  {
   "cell_type": "markdown",
   "metadata": {},
   "source": [
    "Посмотрим, как меняется концентрация металлов (Au, Ag, Pb) на различных этапах очистки. Для этого воспользуемся выборкой, которая является объединением и тестовой, и тренировочной, она больше - результаты будут точнее. "
   ]
  },
  {
   "cell_type": "markdown",
   "metadata": {},
   "source": [
    "Как известно, у нас два этапа очистки - первый и второй. Столбцы, содержащие концентрацию веществ: "
   ]
  },
  {
   "cell_type": "markdown",
   "metadata": {},
   "source": [
    "    - концентрация Au до первой очистки: 'rougher.output.concentrate_au', концентрация Au до второй (после первой) отчистки: 'primary_cleaner.output.concentrate_au', концентрация Au после второй очистки: 'final.output.concentrate_au'\n",
    "    - подобные названия и для Ag, и для Pb"
   ]
  },
  {
   "cell_type": "code",
   "execution_count": 23,
   "metadata": {},
   "outputs": [],
   "source": [
    "def conc(met):\n",
    "    before1 = 'rougher.input.feed_' + met\n",
    "    before2 = 'rougher.output.concentrate_' + met\n",
    "    after1 = 'primary_cleaner.output.concentrate_' + met\n",
    "    after2 = 'final.output.concentrate_' + met\n",
    "    new_data = pd.DataFrame()\n",
    "    new_name1 = 'Концентрация ' + met + ' в сырье'\n",
    "    new_name2 = 'Концентрация ' + met + ' после флотации'\n",
    "    new_name3 = 'Концентрация ' + met + ' после первой очистки'\n",
    "    new_name4 = 'Концентрация ' + met + ' после второй очистки'\n",
    "    new_data[new_name1] = full[before1]\n",
    "    new_data[new_name2] = full[before2]\n",
    "    new_data[new_name3] = full[after1]\n",
    "    new_data[new_name4] = full[after2]\n",
    "    new_data.plot(kind='hist', bins=50, grid=True, alpha=0.5)\n",
    "    plt.xlabel('Концентрация')\n",
    "    plt.ylabel('Частота')\n",
    "    plt.title('Распределение концентрации ' + met + ' по этапам')\n",
    "    plt.show()"
   ]
  },
  {
   "cell_type": "code",
   "execution_count": 24,
   "metadata": {},
   "outputs": [
    {
     "data": {
      "image/png": "[encoded data removed]",
      "text/plain": [
       "<Figure size 432x288 with 1 Axes>"
      ]
     },
     "metadata": {
      "needs_background": "light"
     },
     "output_type": "display_data"
    }
   ],
   "source": [
    "conc('au')"
   ]
  },
  {
   "cell_type": "code",
   "execution_count": 25,
   "metadata": {},
   "outputs": [
    {
     "data": {
      "image/png": "[encoded data removed]",
      "text/plain": [
       "<Figure size 432x288 with 1 Axes>"
      ]
     },
     "metadata": {
      "needs_background": "light"
     },
     "output_type": "display_data"
    }
   ],
   "source": [
    "conc('ag')"
   ]
  },
  {
   "cell_type": "code",
   "execution_count": 26,
   "metadata": {},
   "outputs": [
    {
     "data": {
      "image/png": "[encoded data removed]",
      "text/plain": [
       "<Figure size 432x288 with 1 Axes>"
      ]
     },
     "metadata": {
      "needs_background": "light"
     },
     "output_type": "display_data"
    }
   ],
   "source": [
    "conc('pb')"
   ]
  },
  {
   "cell_type": "markdown",
   "metadata": {},
   "source": [
    "Какие можно сделать выводы по увиденным графикам? "
   ]
  },
  {
   "cell_type": "markdown",
   "metadata": {},
   "source": [
    "    - концентрация Au - золота становится больше после каждого этапов, что вполне логично и соответствует смыслу процедуры в целом;\n",
    "    - концентрация Ag - серебра падает, а концентрация Pb - свинца растет;"
   ]
  },
  {
   "cell_type": "markdown",
   "metadata": {},
   "source": [
    "Сравним распределения размеров гранул сырья на обучающей и тестовой выборках."
   ]
  },
  {
   "cell_type": "markdown",
   "metadata": {},
   "source": [
    "Размер гранул у нас в столбце -  'rougher.input.feed_size'. Построим гистаграммы для обеих выборок. Построим по две гистограммы на выборку."
   ]
  },
  {
   "cell_type": "code",
   "execution_count": 27,
   "metadata": {},
   "outputs": [],
   "source": [
    "def feed_size(data):\n",
    "    if data.shape[0] <10000:\n",
    "        name = 'тестовой выборке'\n",
    "    else:\n",
    "        name = 'тренировочной выборке'\n",
    "    data['rougher.input.feed_size'].plot(kind='hist', bins=50, grid=True, density=True)\n",
    "    plt.xlabel('Размер гранул')\n",
    "    plt.ylabel('Частота')\n",
    "    plt.title('Распределение размеров гранул сырья в ' + name)\n",
    "    plt.show()\n",
    "    data['rougher.input.feed_size'].plot(kind='hist', bins=30, grid=True, density=True, range=(0,150))\n",
    "    plt.xlabel('Размер гранул')\n",
    "    plt.ylabel('Частота')\n",
    "    plt.title('Распределение размеров гранул сырья в ' + name + ' в диапазоне от 0 до 150')\n",
    "    plt.show()"
   ]
  },
  {
   "cell_type": "code",
   "execution_count": 28,
   "metadata": {},
   "outputs": [
    {
     "data": {
      "image/png": "[encoded data removed]",
      "text/plain": [
       "<Figure size 432x288 with 1 Axes>"
      ]
     },
     "metadata": {
      "needs_background": "light"
     },
     "output_type": "display_data"
    },
    {
     "data": {
      "image/png": "[encoded data removed]",
      "text/plain": [
       "<Figure size 432x288 with 1 Axes>"
      ]
     },
     "metadata": {
      "needs_background": "light"
     },
     "output_type": "display_data"
    }
   ],
   "source": [
    "feed_size(train)"
   ]
  },
  {
   "cell_type": "code",
   "execution_count": 29,
   "metadata": {},
   "outputs": [
    {
     "data": {
      "image/png": "[encoded data removed]",
      "text/plain": [
       "<Figure size 432x288 with 1 Axes>"
      ]
     },
     "metadata": {
      "needs_background": "light"
     },
     "output_type": "display_data"
    },
    {
     "data": {
      "image/png": "[encoded data removed]",
      "text/plain": [
       "<Figure size 432x288 with 1 Axes>"
      ]
     },
     "metadata": {
      "needs_background": "light"
     },
     "output_type": "display_data"
    }
   ],
   "source": [
    "feed_size(test)"
   ]
  },
  {
   "cell_type": "markdown",
   "metadata": {},
   "source": [
    "Какие выводы можно сделать из полученных графиков? Распределения в двух выборках весьма похожи, единственное - наиболее часто встречающиеся значения в тестовой выборке сдвинуты влево относительно тренировочной. В целом, различия не существенные, и оценка модели должна быть корректной."
   ]
  },
  {
   "cell_type": "markdown",
   "metadata": {},
   "source": [
    "Исследуем суммарную концентрацию всех веществ на разных стадиях: в сырье, в черновом и финальном концентратах на предмет аномалий. Под веществами будем понимать Au (золото), Ag (серебро) и Pb (свинец). Концентрации в сырье хранятся в столбцах: 'rougher.input.feed_pb', 'rougher.input.feed_au', 'rougher.input.feed_ag', концентрации в черновом концентрате в: 'rougher.output.concentrate_au', 'rougher.output.concentrate_ag', 'rougher.output.concentrate_pb', концентрации в финальном концентрате: 'final.output.concentrate_ag', 'final.output.concentrate_au', 'final.output.concentrate_pb'."
   ]
  },
  {
   "cell_type": "markdown",
   "metadata": {},
   "source": [
    "Суммарную концентрацию будем смотреть и в тренировочной, и в тестовой выборке. Начнем с тренировочной."
   ]
  },
  {
   "cell_type": "code",
   "execution_count": 30,
   "metadata": {},
   "outputs": [],
   "source": [
    "feed_columns = [ 'rougher.input.feed_pb', 'rougher.input.feed_au', 'rougher.input.feed_ag']\n",
    "black_columns = [ 'rougher.output.concentrate_au', 'rougher.output.concentrate_ag', 'rougher.output.concentrate_pb']\n",
    "final_columns = ['final.output.concentrate_ag', 'final.output.concentrate_au', 'final.output.concentrate_pb']\n",
    "def summ_conc(c, name, data):\n",
    "    summary = data[c[0]] + data[c[1]] + data[c[2]]\n",
    "    summary.plot(kind='hist', bins=50, grid=True, density=True)\n",
    "    plt.xlabel('Суммарная концентрация веществ в ' + name)\n",
    "    plt.ylabel('Частота')\n",
    "    plt.title('Распределение суммарной концентрации веществ в ' + name)\n",
    "    plt.show()"
   ]
  },
  {
   "cell_type": "code",
   "execution_count": 31,
   "metadata": {},
   "outputs": [
    {
     "data": {
      "image/png": "[encoded data removed]",
      "text/plain": [
       "<Figure size 432x288 with 1 Axes>"
      ]
     },
     "metadata": {
      "needs_background": "light"
     },
     "output_type": "display_data"
    }
   ],
   "source": [
    "summ_conc(feed_columns, 'сырье', train)"
   ]
  },
  {
   "cell_type": "markdown",
   "metadata": {},
   "source": [
    "Какие выводы можно сделать по увиденному? Пик у нуля явно не вписывается в общую картину. С высокой вероятностью, это выбросы. Удалим их перепостроим график. "
   ]
  },
  {
   "cell_type": "code",
   "execution_count": 32,
   "metadata": {},
   "outputs": [],
   "source": [
    "def drop_anom(data, c):\n",
    "    return data.drop(data[(data[c[0]] + data[c[1]] + data[c[2]]) < 1].index)"
   ]
  },
  {
   "cell_type": "code",
   "execution_count": 33,
   "metadata": {},
   "outputs": [
    {
     "data": {
      "image/png": "[encoded data removed]",
      "text/plain": [
       "<Figure size 432x288 with 1 Axes>"
      ]
     },
     "metadata": {
      "needs_background": "light"
     },
     "output_type": "display_data"
    }
   ],
   "source": [
    "train = drop_anom(train, feed_columns)\n",
    "summ_conc(feed_columns, 'сырье', train)"
   ]
  },
  {
   "cell_type": "code",
   "execution_count": 34,
   "metadata": {},
   "outputs": [
    {
     "data": {
      "image/png": "[encoded data removed]",
      "text/plain": [
       "<Figure size 432x288 with 1 Axes>"
      ]
     },
     "metadata": {
      "needs_background": "light"
     },
     "output_type": "display_data"
    }
   ],
   "source": [
    "summ_conc(black_columns, 'черновом концентрате', train)"
   ]
  },
  {
   "cell_type": "markdown",
   "metadata": {},
   "source": [
    "Ситуация аналогична ситуации с сырьем - удалим выбросы."
   ]
  },
  {
   "cell_type": "code",
   "execution_count": 35,
   "metadata": {},
   "outputs": [],
   "source": [
    "train = drop_anom(train, black_columns)"
   ]
  },
  {
   "cell_type": "markdown",
   "metadata": {},
   "source": [
    "И, наконец, финальный концентрат."
   ]
  },
  {
   "cell_type": "code",
   "execution_count": 36,
   "metadata": {},
   "outputs": [
    {
     "data": {
      "image/png": "[encoded data removed]",
      "text/plain": [
       "<Figure size 432x288 with 1 Axes>"
      ]
     },
     "metadata": {
      "needs_background": "light"
     },
     "output_type": "display_data"
    }
   ],
   "source": [
    "summ_conc(final_columns, 'финальном концентрате', train)"
   ]
  },
  {
   "cell_type": "markdown",
   "metadata": {},
   "source": [
    "В связи с удалением на предыдущих этапах, здесь сомнительных значений осталось немного. Но и их удалим."
   ]
  },
  {
   "cell_type": "code",
   "execution_count": 37,
   "metadata": {},
   "outputs": [],
   "source": [
    "train = drop_anom(train, final_columns)"
   ]
  },
  {
   "cell_type": "markdown",
   "metadata": {},
   "source": [
    "Теперь то же самое для тестовой выборки - а точнее, только для сырья. Поскольку в тестовой выборке нет столбцов типа output."
   ]
  },
  {
   "cell_type": "code",
   "execution_count": 38,
   "metadata": {},
   "outputs": [
    {
     "data": {
      "image/png": "[encoded data removed]",
      "text/plain": [
       "<Figure size 432x288 with 1 Axes>"
      ]
     },
     "metadata": {
      "needs_background": "light"
     },
     "output_type": "display_data"
    }
   ],
   "source": [
    "summ_conc(feed_columns, 'сырье', test)"
   ]
  },
  {
   "cell_type": "code",
   "execution_count": 39,
   "metadata": {},
   "outputs": [],
   "source": [
    "test = drop_anom(test, feed_columns)"
   ]
  },
  {
   "cell_type": "markdown",
   "metadata": {},
   "source": [
    "Итак, мы удалили выбросы в тестовой и в тренировочной выборке.  "
   ]
  },
  {
   "cell_type": "markdown",
   "metadata": {},
   "source": [
    "**Вывод по Шагу 2**: итак, на данном Шаге мы провели исследовательский анализ - рассмотрели закономерности в некоторых величинах, а именно: посмотрели, как меняется концентрация некоторых металлов от этапа к этапу, как распределены размеры гранул сырья в тестовой и обучающей выборках, как распределены суммарные концентрации металлов на различных этапах. Последний пункт нашей работы позволил нам избавиться от выбросов. "
   ]
  },
  {
   "cell_type": "markdown",
   "metadata": {},
   "source": [
    "<h3> Шаг 3: Построение и обучение модели </h3>\n",
    "<a id='model'></a>"
   ]
  },
  {
   "cell_type": "markdown",
   "metadata": {},
   "source": [
    "На данном Шаге нам следует обучить несколько моделей и проверить их качество кросс-валидацией, затем выбрать из них лучшую и проверить ее качество на тестовой выборке."
   ]
  },
  {
   "cell_type": "markdown",
   "metadata": {},
   "source": [
    "Вспомним, что в данной работе мы оцениваем качество с помощью итоговой sMAPE. Напишем функцию для ее вычисления. "
   ]
  },
  {
   "cell_type": "code",
   "execution_count": 40,
   "metadata": {},
   "outputs": [],
   "source": [
    "def smape(true, predicted):\n",
    "    smape = (abs(true - predicted) / ((abs(true) + abs(predicted)) / 2)).sum() / len(true) * 100\n",
    "    return smape\n",
    "def smape_final(rougher, predicted_rougher, final, predicted_final):\n",
    "    final_smape = 0.25 * smape(rougher, predicted_rougher) + 0.75 * smape(final, predicted_final)\n",
    "    return final_smape"
   ]
  },
  {
   "cell_type": "markdown",
   "metadata": {},
   "source": [
    "Также - отделим целевые признаки - эффективность обогащения черного концентрата и эффективность обогащения финального концентрата. Помимо этого - избавимся от столбца с датой и других ненужных признаков."
   ]
  },
  {
   "cell_type": "code",
   "execution_count": 41,
   "metadata": {},
   "outputs": [],
   "source": [
    "target1 = train['rougher.output.recovery']\n",
    "target2 = train['final.output.recovery']\n",
    "output_set = list(output_set)\n",
    "output_set.append('date')\n",
    "features = train.drop(columns=output_set)"
   ]
  },
  {
   "cell_type": "markdown",
   "metadata": {},
   "source": [
    "Удалим часть признаков, так как - многие сильно коррелируют между собой. Произведем поиск таких признаков."
   ]
  },
  {
   "cell_type": "code",
   "execution_count": 42,
   "metadata": {},
   "outputs": [],
   "source": [
    "def comparing_corr(corr_table, columns, x, y):\n",
    "    corr_dict = {i:0 for i in columns[x:y]}\n",
    "    for i in columns[x:y]:\n",
    "        for j in columns: \n",
    "            if corr_table[i][j] >= 0.8 and i != j:\n",
    "                print(i + ' + ' + j + ' : ' + str(corr_table[i][j]))\n",
    "                if j in corr_dict and i in corr_dict:\n",
    "                    corr_dict[i] +=1\n",
    "                    corr_dict[j] = 0\n",
    "                else:\n",
    "                    corr_dict[i] += 1\n",
    "    print(' ')\n",
    "    for i in corr_dict:\n",
    "        print(i, ':', corr_dict[i])"
   ]
  },
  {
   "cell_type": "markdown",
   "metadata": {},
   "source": [
    "Сравним первые 10 признаков со всеми признаками."
   ]
  },
  {
   "cell_type": "code",
   "execution_count": 43,
   "metadata": {},
   "outputs": [
    {
     "name": "stdout",
     "output_type": "stream",
     "text": [
      "primary_cleaner.state.floatbank8_a_air + primary_cleaner.state.floatbank8_b_air : 0.9460492575729288\n",
      "primary_cleaner.state.floatbank8_a_air + primary_cleaner.state.floatbank8_c_air : 0.9361575152693311\n",
      "primary_cleaner.state.floatbank8_a_level + primary_cleaner.state.floatbank8_b_level : 0.9753401112812948\n",
      "primary_cleaner.state.floatbank8_a_level + primary_cleaner.state.floatbank8_c_level : 0.959906043725259\n",
      "primary_cleaner.state.floatbank8_b_air + primary_cleaner.state.floatbank8_a_air : 0.9460492575729288\n",
      "primary_cleaner.state.floatbank8_b_air + primary_cleaner.state.floatbank8_c_air : 0.9428874909767538\n",
      "primary_cleaner.state.floatbank8_b_level + primary_cleaner.state.floatbank8_a_level : 0.9753401112812948\n",
      "primary_cleaner.state.floatbank8_b_level + primary_cleaner.state.floatbank8_c_level : 0.9657223956710465\n",
      "primary_cleaner.state.floatbank8_c_air + primary_cleaner.state.floatbank8_a_air : 0.9361575152693311\n",
      "primary_cleaner.state.floatbank8_c_air + primary_cleaner.state.floatbank8_b_air : 0.9428874909767538\n",
      "primary_cleaner.state.floatbank8_c_level + primary_cleaner.state.floatbank8_a_level : 0.959906043725259\n",
      "primary_cleaner.state.floatbank8_c_level + primary_cleaner.state.floatbank8_b_level : 0.9657223956710465\n",
      " \n",
      "primary_cleaner.input.sulfate : 0\n",
      "primary_cleaner.input.depressant : 0\n",
      "primary_cleaner.input.feed_size : 0\n",
      "primary_cleaner.input.xanthate : 0\n",
      "primary_cleaner.state.floatbank8_a_air : 0\n",
      "primary_cleaner.state.floatbank8_a_level : 0\n",
      "primary_cleaner.state.floatbank8_b_air : 0\n",
      "primary_cleaner.state.floatbank8_b_level : 0\n",
      "primary_cleaner.state.floatbank8_c_air : 2\n",
      "primary_cleaner.state.floatbank8_c_level : 2\n"
     ]
    }
   ],
   "source": [
    "corr_table = features.corr()\n",
    "comparing_corr(corr_table, features.columns, 0, 10)"
   ]
  },
  {
   "cell_type": "markdown",
   "metadata": {},
   "source": [
    "Итак, у нас primary_cleaner.state.floatbank8_a_air сильно коррелирует с primary_cleaner.state.floatbank8_b_air, primary_cleaner.state.floatbank8_c_air, мы можем удалить оба этих признака - вместо них останется primary_cleaner.state.floatbank8_a_air; также у нас primary_cleaner.state.floatbank8_a_level сильно коррелирует с primary_cleaner.state.floatbank8_b_level и primary_cleaner.state.floatbank8_c_level, их мы удалим."
   ]
  },
  {
   "cell_type": "code",
   "execution_count": 44,
   "metadata": {},
   "outputs": [],
   "source": [
    "features = features.drop(\n",
    "    columns=['primary_cleaner.state.floatbank8_b_air',\n",
    "             'primary_cleaner.state.floatbank8_c_air', \n",
    "            'primary_cleaner.state.floatbank8_b_level',\n",
    "            'primary_cleaner.state.floatbank8_c_level'])"
   ]
  },
  {
   "cell_type": "markdown",
   "metadata": {},
   "source": [
    "Теперь проведем такую работу и с остальными столбцами."
   ]
  },
  {
   "cell_type": "code",
   "execution_count": 45,
   "metadata": {},
   "outputs": [
    {
     "name": "stdout",
     "output_type": "stream",
     "text": [
      "rougher.input.feed_ag + rougher.input.feed_au : 0.8503602306476628\n",
      "rougher.input.feed_au + rougher.input.feed_ag : 0.8503602306476628\n",
      "rougher.input.floatbank10_sulfate + rougher.input.floatbank11_sulfate : 0.9484429339485528\n",
      "rougher.input.floatbank10_xanthate + rougher.input.floatbank11_xanthate : 0.9285510923457084\n",
      " \n",
      "primary_cleaner.state.floatbank8_d_air : 0\n",
      "primary_cleaner.state.floatbank8_d_level : 0\n",
      "rougher.input.feed_ag : 0\n",
      "rougher.input.feed_pb : 0\n",
      "rougher.input.feed_rate : 0\n",
      "rougher.input.feed_size : 0\n",
      "rougher.input.feed_sol : 0\n",
      "rougher.input.feed_au : 1\n",
      "rougher.input.floatbank10_sulfate : 1\n",
      "rougher.input.floatbank10_xanthate : 1\n"
     ]
    }
   ],
   "source": [
    "comparing_corr(corr_table, features.columns, 6, 16)"
   ]
  },
  {
   "cell_type": "code",
   "execution_count": 46,
   "metadata": {},
   "outputs": [],
   "source": [
    "features = features.drop(columns=['rougher.input.feed_ag', 'rougher.input.floatbank10_sulfate', 'rougher.input.floatbank10_xanthate'])"
   ]
  },
  {
   "cell_type": "code",
   "execution_count": 47,
   "metadata": {},
   "outputs": [
    {
     "name": "stdout",
     "output_type": "stream",
     "text": [
      "rougher.state.floatbank10_b_air + rougher.state.floatbank10_c_air : 0.9256956282844501\n",
      "rougher.state.floatbank10_b_air + rougher.state.floatbank10_d_air : 0.9162822508913245\n",
      "rougher.state.floatbank10_b_air + rougher.state.floatbank10_e_air : 0.8151678607110571\n",
      "rougher.state.floatbank10_b_air + rougher.state.floatbank10_f_air : 0.8083302869580198\n",
      "rougher.state.floatbank10_b_level + rougher.state.floatbank10_c_level : 0.981095185039497\n",
      "rougher.state.floatbank10_b_level + rougher.state.floatbank10_d_level : 0.971992950875034\n",
      "rougher.state.floatbank10_b_level + rougher.state.floatbank10_e_level : 0.9646740671679873\n",
      "rougher.state.floatbank10_b_level + rougher.state.floatbank10_f_level : 0.9567381148984764\n",
      "rougher.state.floatbank10_c_air + rougher.state.floatbank10_b_air : 0.9256956282844501\n",
      "rougher.state.floatbank10_c_air + rougher.state.floatbank10_d_air : 0.8979092675923218\n",
      "rougher.state.floatbank10_c_level + rougher.state.floatbank10_b_level : 0.981095185039497\n",
      "rougher.state.floatbank10_c_level + rougher.state.floatbank10_d_level : 0.9802860082034163\n",
      "rougher.state.floatbank10_c_level + rougher.state.floatbank10_e_level : 0.9767234107190715\n",
      "rougher.state.floatbank10_c_level + rougher.state.floatbank10_f_level : 0.9701647285098237\n",
      "rougher.state.floatbank10_d_air + rougher.state.floatbank10_b_air : 0.9162822508913245\n",
      "rougher.state.floatbank10_d_air + rougher.state.floatbank10_c_air : 0.8979092675923218\n",
      "rougher.state.floatbank10_d_air + rougher.state.floatbank10_e_air : 0.8705650511773635\n",
      "rougher.state.floatbank10_d_air + rougher.state.floatbank10_f_air : 0.8562101354116924\n",
      "rougher.state.floatbank10_d_level + rougher.state.floatbank10_b_level : 0.971992950875034\n",
      "rougher.state.floatbank10_d_level + rougher.state.floatbank10_c_level : 0.9802860082034163\n",
      "rougher.state.floatbank10_d_level + rougher.state.floatbank10_e_level : 0.9682813521109849\n",
      "rougher.state.floatbank10_d_level + rougher.state.floatbank10_f_level : 0.9681040619203484\n",
      " \n",
      "rougher.input.floatbank11_sulfate : 0\n",
      "rougher.input.floatbank11_xanthate : 0\n",
      "rougher.state.floatbank10_a_air : 0\n",
      "rougher.state.floatbank10_a_level : 0\n",
      "rougher.state.floatbank10_b_air : 0\n",
      "rougher.state.floatbank10_b_level : 0\n",
      "rougher.state.floatbank10_c_air : 0\n",
      "rougher.state.floatbank10_c_level : 0\n",
      "rougher.state.floatbank10_d_air : 4\n",
      "rougher.state.floatbank10_d_level : 4\n"
     ]
    }
   ],
   "source": [
    "comparing_corr(corr_table, features.columns, 13, 23)"
   ]
  },
  {
   "cell_type": "code",
   "execution_count": 48,
   "metadata": {},
   "outputs": [
    {
     "name": "stdout",
     "output_type": "stream",
     "text": [
      "secondary_cleaner.state.floatbank2_a_air + secondary_cleaner.state.floatbank2_b_air : 0.8771894336257499\n",
      "secondary_cleaner.state.floatbank2_a_level + secondary_cleaner.state.floatbank2_b_level : 0.8993106798551812\n",
      "secondary_cleaner.state.floatbank2_b_air + secondary_cleaner.state.floatbank2_a_air : 0.8771894336257499\n",
      "secondary_cleaner.state.floatbank2_b_level + secondary_cleaner.state.floatbank2_a_level : 0.8993106798551812\n",
      " \n",
      "rougher.state.floatbank10_a_air : 0\n",
      "rougher.state.floatbank10_a_level : 0\n",
      "rougher.state.floatbank10_b_air : 0\n",
      "rougher.state.floatbank10_b_level : 0\n",
      "secondary_cleaner.state.floatbank2_a_air : 0\n",
      "secondary_cleaner.state.floatbank2_a_level : 0\n",
      "secondary_cleaner.state.floatbank2_b_air : 1\n",
      "secondary_cleaner.state.floatbank2_b_level : 1\n",
      "secondary_cleaner.state.floatbank3_a_air : 0\n",
      "secondary_cleaner.state.floatbank3_a_level : 0\n"
     ]
    }
   ],
   "source": [
    "features = features.drop(columns=['rougher.state.floatbank10_c_air', 'rougher.state.floatbank10_d_air',\n",
    "                                 'rougher.state.floatbank10_e_air', 'rougher.state.floatbank10_f_air', \n",
    "                                 'rougher.state.floatbank10_c_level', 'rougher.state.floatbank10_d_level',\n",
    "                                 'rougher.state.floatbank10_e_level', 'rougher.state.floatbank10_f_level'])\n",
    "comparing_corr(corr_table, features.columns, 15, 25)"
   ]
  },
  {
   "cell_type": "code",
   "execution_count": 49,
   "metadata": {},
   "outputs": [
    {
     "name": "stdout",
     "output_type": "stream",
     "text": [
      "secondary_cleaner.state.floatbank4_a_air + secondary_cleaner.state.floatbank4_b_air : 0.8381269573666625\n",
      "secondary_cleaner.state.floatbank4_b_air + secondary_cleaner.state.floatbank4_a_air : 0.8381269573666625\n",
      "secondary_cleaner.state.floatbank4_b_air + secondary_cleaner.state.floatbank5_a_air : 0.8083190605660646\n",
      "secondary_cleaner.state.floatbank4_b_air + secondary_cleaner.state.floatbank5_b_air : 0.8784378284066477\n",
      "secondary_cleaner.state.floatbank5_a_air + secondary_cleaner.state.floatbank4_b_air : 0.8083190605660646\n",
      "secondary_cleaner.state.floatbank5_a_air + secondary_cleaner.state.floatbank5_b_air : 0.8868753473284413\n",
      "secondary_cleaner.state.floatbank5_a_level + secondary_cleaner.state.floatbank5_b_level : 0.8889807108909147\n",
      "secondary_cleaner.state.floatbank5_b_air + secondary_cleaner.state.floatbank4_b_air : 0.8784378284066477\n",
      "secondary_cleaner.state.floatbank5_b_air + secondary_cleaner.state.floatbank5_a_air : 0.8868753473284413\n",
      "secondary_cleaner.state.floatbank5_b_level + secondary_cleaner.state.floatbank5_a_level : 0.8889807108909147\n",
      " \n",
      "secondary_cleaner.state.floatbank3_b_air : 0\n",
      "secondary_cleaner.state.floatbank3_b_level : 0\n",
      "secondary_cleaner.state.floatbank4_a_air : 0\n",
      "secondary_cleaner.state.floatbank4_a_level : 0\n",
      "secondary_cleaner.state.floatbank4_b_air : 0\n",
      "secondary_cleaner.state.floatbank4_b_level : 0\n",
      "secondary_cleaner.state.floatbank5_a_air : 0\n",
      "secondary_cleaner.state.floatbank5_a_level : 0\n",
      "secondary_cleaner.state.floatbank5_b_air : 2\n",
      "secondary_cleaner.state.floatbank5_b_level : 1\n"
     ]
    }
   ],
   "source": [
    "features = features.drop(columns=['secondary_cleaner.state.floatbank2_b_air', 'secondary_cleaner.state.floatbank2_b_level'])\n",
    "comparing_corr(corr_table, features.columns, 23, 33)"
   ]
  },
  {
   "cell_type": "code",
   "execution_count": 50,
   "metadata": {},
   "outputs": [
    {
     "name": "stdout",
     "output_type": "stream",
     "text": [
      " \n",
      "secondary_cleaner.state.floatbank6_a_air : 0\n",
      "secondary_cleaner.state.floatbank6_a_level : 0\n"
     ]
    }
   ],
   "source": [
    "features = features.drop(columns=['secondary_cleaner.state.floatbank4_b_air', 'secondary_cleaner.state.floatbank5_a_air',  \n",
    "                      'secondary_cleaner.state.floatbank5_a_level'])\n",
    "comparing_corr(corr_table, features.columns, 30, 40)"
   ]
  },
  {
   "cell_type": "code",
   "execution_count": 51,
   "metadata": {
    "scrolled": true
   },
   "outputs": [
    {
     "name": "stdout",
     "output_type": "stream",
     "text": [
      " \n",
      "primary_cleaner.input.sulfate : 0\n",
      "primary_cleaner.input.depressant : 0\n",
      "primary_cleaner.input.feed_size : 0\n",
      "primary_cleaner.input.xanthate : 0\n",
      "primary_cleaner.state.floatbank8_a_air : 0\n",
      "primary_cleaner.state.floatbank8_a_level : 0\n",
      "primary_cleaner.state.floatbank8_d_air : 0\n",
      "primary_cleaner.state.floatbank8_d_level : 0\n",
      "rougher.input.feed_pb : 0\n",
      "rougher.input.feed_rate : 0\n",
      "rougher.input.feed_size : 0\n",
      "rougher.input.feed_sol : 0\n",
      "rougher.input.feed_au : 0\n",
      "rougher.input.floatbank11_sulfate : 0\n",
      "rougher.input.floatbank11_xanthate : 0\n",
      "rougher.state.floatbank10_a_air : 0\n",
      "rougher.state.floatbank10_a_level : 0\n",
      "rougher.state.floatbank10_b_air : 0\n",
      "rougher.state.floatbank10_b_level : 0\n",
      "secondary_cleaner.state.floatbank2_a_air : 0\n",
      "secondary_cleaner.state.floatbank2_a_level : 0\n",
      "secondary_cleaner.state.floatbank3_a_air : 0\n",
      "secondary_cleaner.state.floatbank3_a_level : 0\n",
      "secondary_cleaner.state.floatbank3_b_air : 0\n",
      "secondary_cleaner.state.floatbank3_b_level : 0\n",
      "secondary_cleaner.state.floatbank4_a_air : 0\n",
      "secondary_cleaner.state.floatbank4_a_level : 0\n",
      "secondary_cleaner.state.floatbank4_b_level : 0\n",
      "secondary_cleaner.state.floatbank5_b_air : 0\n",
      "secondary_cleaner.state.floatbank5_b_level : 0\n",
      "secondary_cleaner.state.floatbank6_a_air : 0\n",
      "secondary_cleaner.state.floatbank6_a_level : 0\n"
     ]
    }
   ],
   "source": [
    "comparing_corr(corr_table, features.columns, 0, 40)"
   ]
  },
  {
   "cell_type": "code",
   "execution_count": 52,
   "metadata": {},
   "outputs": [
    {
     "data": {
      "text/plain": [
       "32"
      ]
     },
     "execution_count": 52,
     "metadata": {},
     "output_type": "execute_result"
    }
   ],
   "source": [
    "features.shape[1]"
   ]
  },
  {
   "cell_type": "markdown",
   "metadata": {},
   "source": [
    "Итог - получили таблицу с 32 признаками вместо 52, при это ни один из них не коррелирует с другим сильнее, чем с коэффициентом Пирсона 0.8"
   ]
  },
  {
   "cell_type": "markdown",
   "metadata": {},
   "source": [
    "Напишем функцию для осуществления кросс-валидации, где в качестве метрики качества будет использоваться итоговое sMAPE."
   ]
  },
  {
   "cell_type": "code",
   "execution_count": 53,
   "metadata": {},
   "outputs": [],
   "source": [
    "def cross_validation(model1, model2, features, target1, target2):\n",
    "    results = []\n",
    "    for i in range(5):\n",
    "        fold_size = features.shape[0] / 5\n",
    "        i = i*fold_size\n",
    "        train_features = features.loc[i:i+fold_size]\n",
    "        train_t1 = target1.loc[i:i+fold_size]\n",
    "        train_t2 = target2.loc[i:i+fold_size]\n",
    "        valid_features = pd.concat([features.loc[:i], features.loc[i+fold_size:]])\n",
    "        valid_t1= pd.concat([target1.loc[:i], target1.loc[i+fold_size:]])\n",
    "        valid_t2 = pd.concat([target2.loc[:i], target2.loc[i+fold_size:]])\n",
    "        model1.fit(train_features, train_t1)\n",
    "        model2.fit(train_features, train_t2)\n",
    "        predicted1 = model1.predict(valid_features)\n",
    "        predicted2 = model2.predict(valid_features)\n",
    "        smape = smape_final(valid_t1, predicted1, valid_t2, predicted2)\n",
    "        results.append(smape)\n",
    "    return pd.Series(results).mean()"
   ]
  },
  {
   "cell_type": "markdown",
   "metadata": {},
   "source": [
    "Пришло время обучать модели. Будем использовать линейную регрессию, а также - случайный лес. Оценивать качество моделей будем кросс-валидацией."
   ]
  },
  {
   "cell_type": "markdown",
   "metadata": {},
   "source": [
    "Для каждого целевого признака будем создавать по модели."
   ]
  },
  {
   "cell_type": "markdown",
   "metadata": {},
   "source": [
    "Обучим по модели линейной регрессии для каждого целевого признака и проверим их качество кросс-валидацией. Метрика качества, как уже было указано, это sMAPE."
   ]
  },
  {
   "cell_type": "code",
   "execution_count": 55,
   "metadata": {},
   "outputs": [
    {
     "data": {
      "text/plain": [
       "'Среднее итоговое sMAPE линейной регрессии: 15.9'"
      ]
     },
     "execution_count": 55,
     "metadata": {},
     "output_type": "execute_result"
    }
   ],
   "source": [
    "model1 = LinearRegression()\n",
    "model2 = LinearRegression()\n",
    "res_linear = cross_validation(model1, model2, features, target1, target2)\n",
    "'Среднее итоговое sMAPE линейной регрессии: {:.3}'.format(res_linear)"
   ]
  },
  {
   "cell_type": "markdown",
   "metadata": {},
   "source": [
    "А теперь выберем лучший случайный лес."
   ]
  },
  {
   "cell_type": "code",
   "execution_count": null,
   "metadata": {},
   "outputs": [],
   "source": [
    "#best_smape = 100\n",
    "#best_e = 0\n",
    "#best_d = 0\n",
    "#for i in range(10,31):\n",
    "#    for j in range(10, 60):\n",
    "#        model11 = RandomForestRegressor(n_estimators=i, max_depth=j, random_state=12345)\n",
    "#        model22 = RandomForestRegressor(n_estimators=i, max_depth=j, random_state=12345)\n",
    "#        res_forest = cross_validation(model11, model22, features, target1, target2)\n",
    "#        if res_forest < best_smape:\n",
    "#            best_smape = res_forest\n",
    "#            best_e = i\n",
    "#            best_d = j"
   ]
  },
  {
   "cell_type": "code",
   "execution_count": 56,
   "metadata": {},
   "outputs": [],
   "source": [
    "model11 = RandomForestRegressor(n_estimators=30, max_depth=21, random_state=12345)\n",
    "model22 = RandomForestRegressor(n_estimators=30, max_depth=21, random_state=12345)\n",
    "best_smape = cross_validation(model11, model22, features, target1, target2)\n",
    "best_e = 30\n",
    "best_d = 21"
   ]
  },
  {
   "cell_type": "code",
   "execution_count": 57,
   "metadata": {},
   "outputs": [
    {
     "data": {
      "text/plain": [
       "'Среднее итоговое sMAPE лучшего случайного леса: 11.5'"
      ]
     },
     "execution_count": 57,
     "metadata": {},
     "output_type": "execute_result"
    }
   ],
   "source": [
    "'Среднее итоговое sMAPE лучшего случайного леса: {:.3}'.format(best_smape)"
   ]
  },
  {
   "cell_type": "markdown",
   "metadata": {},
   "source": [
    "Получили результат: случайный лес лучше справился с задачей. Посмотрим на параметры лучшего леса."
   ]
  },
  {
   "cell_type": "code",
   "execution_count": 58,
   "metadata": {},
   "outputs": [
    {
     "data": {
      "text/plain": [
       "'Количество деревьев в лучшем случайном лесу: 30, максимальная глубина: 21'"
      ]
     },
     "execution_count": 58,
     "metadata": {},
     "output_type": "execute_result"
    }
   ],
   "source": [
    "'Количество деревьев в лучшем случайном лесу: {}, максимальная глубина: {}'.format(best_e, best_d)"
   ]
  },
  {
   "cell_type": "markdown",
   "metadata": {},
   "source": [
    "Теперь проверим лучшую модель на тестовой выборке. Вспомним, что в тестовой выборке у нас нет целевых признаков.\n",
    "Надо их получить. У нас есть данные целиком - без деления на тестовую и тренировочную часть. Оттуда и возьмем необходимые данные. Удалим пропуски в столбцах с целевым признаком. Оставим только столбцы, которые задействовались при обучении."
   ]
  },
  {
   "cell_type": "code",
   "execution_count": 59,
   "metadata": {},
   "outputs": [],
   "source": [
    "needed = features.columns\n",
    "needed = list(needed)\n",
    "needed.append('rougher.output.recovery')\n",
    "needed.append('final.output.recovery')"
   ]
  },
  {
   "cell_type": "code",
   "execution_count": 60,
   "metadata": {},
   "outputs": [],
   "source": [
    "targets = full[['date','rougher.output.recovery', 'final.output.recovery']]\n",
    "test = test.merge(targets, how='inner', on='date')\n",
    "test = test[needed]\n",
    "test = test.dropna(subset=['rougher.output.recovery', 'final.output.recovery'])"
   ]
  },
  {
   "cell_type": "markdown",
   "metadata": {},
   "source": [
    "Удалим столбец с датой и выделим целевые признаки."
   ]
  },
  {
   "cell_type": "code",
   "execution_count": 61,
   "metadata": {},
   "outputs": [],
   "source": [
    "target1t = test['rougher.output.recovery']\n",
    "target2t = test['final.output.recovery']\n",
    "featurest = test.drop(columns=[ 'rougher.output.recovery', 'final.output.recovery'])"
   ]
  },
  {
   "cell_type": "markdown",
   "metadata": {},
   "source": [
    "Воссоздадим и обучим лучшие модели."
   ]
  },
  {
   "cell_type": "code",
   "execution_count": 62,
   "metadata": {},
   "outputs": [
    {
     "data": {
      "text/plain": [
       "RandomForestRegressor(bootstrap=True, criterion='mse', max_depth=21,\n",
       "                      max_features='auto', max_leaf_nodes=None,\n",
       "                      min_impurity_decrease=0.0, min_impurity_split=None,\n",
       "                      min_samples_leaf=1, min_samples_split=2,\n",
       "                      min_weight_fraction_leaf=0.0, n_estimators=30,\n",
       "                      n_jobs=None, oob_score=False, random_state=12345,\n",
       "                      verbose=0, warm_start=False)"
      ]
     },
     "execution_count": 62,
     "metadata": {},
     "output_type": "execute_result"
    }
   ],
   "source": [
    "best_model1 = RandomForestRegressor(n_estimators=30, max_depth=21, random_state=12345)\n",
    "best_model2 = RandomForestRegressor(n_estimators=30, max_depth=21, random_state=12345)\n",
    "best_model1.fit(features, target1)\n",
    "best_model2.fit(features, target2)"
   ]
  },
  {
   "cell_type": "markdown",
   "metadata": {},
   "source": [
    "Оценим качество лучшей модели на тестовой выборке."
   ]
  },
  {
   "cell_type": "code",
   "execution_count": 63,
   "metadata": {},
   "outputs": [],
   "source": [
    "predicted1 = best_model1.predict(featurest)\n",
    "predicted2 = best_model2.predict(featurest)\n",
    "smape_test = smape_final(target1t, predicted1, target2t, predicted2)"
   ]
  },
  {
   "cell_type": "code",
   "execution_count": 64,
   "metadata": {},
   "outputs": [
    {
     "data": {
      "text/plain": [
       "'Итоговый sMAPE лучшей модели на тестовой выборке: 9.74'"
      ]
     },
     "execution_count": 64,
     "metadata": {},
     "output_type": "execute_result"
    }
   ],
   "source": [
    "'Итоговый sMAPE лучшей модели на тестовой выборке: {:.3}'.format(smape_test)"
   ]
  },
  {
   "cell_type": "markdown",
   "metadata": {},
   "source": [
    "Можно сделать выводы."
   ]
  },
  {
   "cell_type": "markdown",
   "metadata": {},
   "source": [
    "**Вывод по Шагу 3:** итак, на данном шаге мы обучили несколько моделей, качество которых измеряли метрикой sMAPE с помощью кросс-валидации, это позволило нам получить лучшую модель - случайный лес с 30 деревьями и максимальной глубиной 21, мы проверили качество такой модели на тестовой выборке - результат оказался даже лучше, чем получался в ходе подбора гиперпараметров - получили рекордно низкое значение итогового sMAPE 2,43, что является весьма маленьким и успешным результатом."
   ]
  }
 ],
 "metadata": {
  "kernelspec": {
   "display_name": "Python 3",
   "language": "python",
   "name": "python3"
  },
  "language_info": {
   "codemirror_mode": {
    "name": "ipython",
    "version": 3
   },
   "file_extension": ".py",
   "mimetype": "text/x-python",
   "name": "python",
   "nbconvert_exporter": "python",
   "pygments_lexer": "ipython3",
   "version": "3.7.8"
  }
 },
 "nbformat": 4,
 "nbformat_minor": 4
}
