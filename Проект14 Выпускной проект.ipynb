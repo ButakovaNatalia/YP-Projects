{
 "cells": [
  {
   "cell_type": "markdown",
   "metadata": {},
   "source": [
    "<h1>Выпускной проект</h1>"
   ]
  },
  {
   "cell_type": "markdown",
   "metadata": {},
   "source": [
    "Чтобы оптимизировать производственные расходы, металлургический комбинат ООО «Так закаляем сталь» решил уменьшить потребление электроэнергии на этапе обработки стали. Нам предстоит построить модель, которая предскажет температуру стали."
   ]
  },
  {
   "cell_type": "markdown",
   "metadata": {},
   "source": [
    "**Описание данных**"
   ]
  },
  {
   "cell_type": "markdown",
   "metadata": {},
   "source": [
    "    - `data_arc.csv` — данные об электродах;\n",
    "    - `data_bulk.csv` — данные о подаче сыпучих материалов (объём);\n",
    "    - `data_bulk_time.csv` *—* данные о подаче сыпучих материалов (время);\n",
    "    - `data_gas.csv` — данные о продувке сплава газом;\n",
    "    - `data_temp.csv` — результаты измерения температуры;\n",
    "    - `data_wire.csv` — данные о проволочных материалах (объём);\n",
    "    - `data_wire_time.csv` — данные о проволочных материалах (время)."
   ]
  },
  {
   "cell_type": "markdown",
   "metadata": {},
   "source": [
    "Во всех файлах столбец key содержит номер партии. В файлах может быть несколько строк с одинаковым значением key: они соответствуют разным итерациям обработки."
   ]
  },
  {
   "cell_type": "markdown",
   "metadata": {},
   "source": [
    "После уточнее у тимлида стали известные следующие моменты:"
   ]
  },
  {
   "cell_type": "markdown",
   "metadata": {},
   "source": [
    "    - предсказать необходимо конечную температуру по партии\n",
    "    - МАЕ должно быть меньше 6 (в идеале)"
   ]
  },
  {
   "cell_type": "markdown",
   "metadata": {},
   "source": [
    "**План работы**: проведем исследовательский анализ данных, затем - предподготовку данных, подготовку признаков для обучения, и наконец - обучим модель и сделаем выводы."
   ]
  },
  {
   "cell_type": "markdown",
   "metadata": {},
   "source": [
    "<h3>Шаг 1: Исследовательский анализ данных</h3>"
   ]
  },
  {
   "cell_type": "markdown",
   "metadata": {},
   "source": [
    "Импортируем необходимые библиотеки."
   ]
  },
  {
   "cell_type": "code",
   "execution_count": 1,
   "metadata": {},
   "outputs": [],
   "source": [
    "import pandas as pd\n",
    "import matplotlib.pyplot as plt\n",
    "import numpy as np\n",
    "from sklearn.preprocessing import StandardScaler\n",
    "from sklearn.model_selection import train_test_split, GridSearchCV\n",
    "from sklearn.ensemble import RandomForestRegressor\n",
    "from sklearn.linear_model import Ridge\n",
    "from lightgbm import LGBMRegressor\n",
    "from sklearn.svm import SVR\n",
    "from sklearn.metrics import mean_absolute_error"
   ]
  },
  {
   "cell_type": "markdown",
   "metadata": {},
   "source": [
    "Загрузим данные."
   ]
  },
  {
   "cell_type": "code",
   "execution_count": 2,
   "metadata": {},
   "outputs": [],
   "source": [
    "data_arc = pd.read_csv('/datasets/final_steel/data_arc.csv')\n",
    "data_bulk = pd.read_csv('/datasets/final_steel/data_bulk.csv')\n",
    "data_bulk_time = pd.read_csv('/datasets/final_steel/data_bulk_time.csv')\n",
    "data_gas = pd.read_csv('/datasets/final_steel/data_gas.csv')\n",
    "data_temp = pd.read_csv('/datasets/final_steel/data_temp.csv')\n",
    "data_wire = pd.read_csv('/datasets/final_steel/data_wire.csv')\n",
    "data_wire_time = pd.read_csv('/datasets/final_steel/data_wire_time.csv')"
   ]
  },
  {
   "cell_type": "markdown",
   "metadata": {},
   "source": [
    "Теперь рассмотрим таблицы по очереди."
   ]
  },
  {
   "cell_type": "markdown",
   "metadata": {},
   "source": [
    "**Данные об электродах**"
   ]
  },
  {
   "cell_type": "code",
   "execution_count": 3,
   "metadata": {},
   "outputs": [
    {
     "data": {
      "text/html": [
       "<div>\n",
       "<style scoped>\n",
       "    .dataframe tbody tr th:only-of-type {\n",
       "        vertical-align: middle;\n",
       "    }\n",
       "\n",
       "    .dataframe tbody tr th {\n",
       "        vertical-align: top;\n",
       "    }\n",
       "\n",
       "    .dataframe thead th {\n",
       "        text-align: right;\n",
       "    }\n",
       "</style>\n",
       "<table border=\"1\" class=\"dataframe\">\n",
       "  <thead>\n",
       "    <tr style=\"text-align: right;\">\n",
       "      <th></th>\n",
       "      <th>key</th>\n",
       "      <th>Начало нагрева дугой</th>\n",
       "      <th>Конец нагрева дугой</th>\n",
       "      <th>Активная мощность</th>\n",
       "      <th>Реактивная мощность</th>\n",
       "    </tr>\n",
       "  </thead>\n",
       "  <tbody>\n",
       "    <tr>\n",
       "      <td>0</td>\n",
       "      <td>1</td>\n",
       "      <td>2019-05-03 11:02:14</td>\n",
       "      <td>2019-05-03 11:06:02</td>\n",
       "      <td>0.976059</td>\n",
       "      <td>0.687084</td>\n",
       "    </tr>\n",
       "    <tr>\n",
       "      <td>1</td>\n",
       "      <td>1</td>\n",
       "      <td>2019-05-03 11:07:28</td>\n",
       "      <td>2019-05-03 11:10:33</td>\n",
       "      <td>0.805607</td>\n",
       "      <td>0.520285</td>\n",
       "    </tr>\n",
       "    <tr>\n",
       "      <td>2</td>\n",
       "      <td>1</td>\n",
       "      <td>2019-05-03 11:11:44</td>\n",
       "      <td>2019-05-03 11:14:36</td>\n",
       "      <td>0.744363</td>\n",
       "      <td>0.498805</td>\n",
       "    </tr>\n",
       "    <tr>\n",
       "      <td>3</td>\n",
       "      <td>1</td>\n",
       "      <td>2019-05-03 11:18:14</td>\n",
       "      <td>2019-05-03 11:24:19</td>\n",
       "      <td>1.659363</td>\n",
       "      <td>1.062669</td>\n",
       "    </tr>\n",
       "    <tr>\n",
       "      <td>4</td>\n",
       "      <td>1</td>\n",
       "      <td>2019-05-03 11:26:09</td>\n",
       "      <td>2019-05-03 11:28:37</td>\n",
       "      <td>0.692755</td>\n",
       "      <td>0.414397</td>\n",
       "    </tr>\n",
       "  </tbody>\n",
       "</table>\n",
       "</div>"
      ],
      "text/plain": [
       "   key Начало нагрева дугой  Конец нагрева дугой  Активная мощность  \\\n",
       "0    1  2019-05-03 11:02:14  2019-05-03 11:06:02           0.976059   \n",
       "1    1  2019-05-03 11:07:28  2019-05-03 11:10:33           0.805607   \n",
       "2    1  2019-05-03 11:11:44  2019-05-03 11:14:36           0.744363   \n",
       "3    1  2019-05-03 11:18:14  2019-05-03 11:24:19           1.659363   \n",
       "4    1  2019-05-03 11:26:09  2019-05-03 11:28:37           0.692755   \n",
       "\n",
       "   Реактивная мощность  \n",
       "0             0.687084  \n",
       "1             0.520285  \n",
       "2             0.498805  \n",
       "3             1.062669  \n",
       "4             0.414397  "
      ]
     },
     "execution_count": 3,
     "metadata": {},
     "output_type": "execute_result"
    }
   ],
   "source": [
    "data_arc.head()"
   ]
  },
  {
   "cell_type": "code",
   "execution_count": 4,
   "metadata": {},
   "outputs": [
    {
     "name": "stdout",
     "output_type": "stream",
     "text": [
      "<class 'pandas.core.frame.DataFrame'>\n",
      "RangeIndex: 14876 entries, 0 to 14875\n",
      "Data columns (total 5 columns):\n",
      "key                     14876 non-null int64\n",
      "Начало нагрева дугой    14876 non-null object\n",
      "Конец нагрева дугой     14876 non-null object\n",
      "Активная мощность       14876 non-null float64\n",
      "Реактивная мощность     14876 non-null float64\n",
      "dtypes: float64(2), int64(1), object(2)\n",
      "memory usage: 581.2+ KB\n"
     ]
    }
   ],
   "source": [
    "data_arc.info()"
   ]
  },
  {
   "cell_type": "markdown",
   "metadata": {},
   "source": [
    "Что можно сказать? Пропусков нет, но типы данных для столцов с датой некорректны. Посмотрим по этой таблице: распределения мощностей, времени нагрева, построим диаграммы размаха."
   ]
  },
  {
   "cell_type": "markdown",
   "metadata": {},
   "source": [
    "Чтобы получить время нагрева, надо преобразовать столбцы в столбцы с корректным типом данных."
   ]
  },
  {
   "cell_type": "code",
   "execution_count": 5,
   "metadata": {},
   "outputs": [],
   "source": [
    "data_arc['Начало нагрева дугой'] = pd.to_datetime(data_arc['Начало нагрева дугой'])\n",
    "data_arc['Конец нагрева дугой'] = pd.to_datetime(data_arc['Конец нагрева дугой'])"
   ]
  },
  {
   "cell_type": "markdown",
   "metadata": {},
   "source": [
    "Посчитаем время нагрева. Сразу переведем в секунды."
   ]
  },
  {
   "cell_type": "code",
   "execution_count": 6,
   "metadata": {},
   "outputs": [],
   "source": [
    "data_arc['Время нагрева'] = (data_arc['Конец нагрева дугой'] - data_arc['Начало нагрева дугой']).dt.total_seconds()"
   ]
  },
  {
   "cell_type": "code",
   "execution_count": 7,
   "metadata": {},
   "outputs": [
    {
     "data": {
      "text/html": [
       "<div>\n",
       "<style scoped>\n",
       "    .dataframe tbody tr th:only-of-type {\n",
       "        vertical-align: middle;\n",
       "    }\n",
       "\n",
       "    .dataframe tbody tr th {\n",
       "        vertical-align: top;\n",
       "    }\n",
       "\n",
       "    .dataframe thead th {\n",
       "        text-align: right;\n",
       "    }\n",
       "</style>\n",
       "<table border=\"1\" class=\"dataframe\">\n",
       "  <thead>\n",
       "    <tr style=\"text-align: right;\">\n",
       "      <th></th>\n",
       "      <th>key</th>\n",
       "      <th>Начало нагрева дугой</th>\n",
       "      <th>Конец нагрева дугой</th>\n",
       "      <th>Активная мощность</th>\n",
       "      <th>Реактивная мощность</th>\n",
       "      <th>Время нагрева</th>\n",
       "    </tr>\n",
       "  </thead>\n",
       "  <tbody>\n",
       "    <tr>\n",
       "      <td>0</td>\n",
       "      <td>1</td>\n",
       "      <td>2019-05-03 11:02:14</td>\n",
       "      <td>2019-05-03 11:06:02</td>\n",
       "      <td>0.976059</td>\n",
       "      <td>0.687084</td>\n",
       "      <td>228.0</td>\n",
       "    </tr>\n",
       "    <tr>\n",
       "      <td>1</td>\n",
       "      <td>1</td>\n",
       "      <td>2019-05-03 11:07:28</td>\n",
       "      <td>2019-05-03 11:10:33</td>\n",
       "      <td>0.805607</td>\n",
       "      <td>0.520285</td>\n",
       "      <td>185.0</td>\n",
       "    </tr>\n",
       "    <tr>\n",
       "      <td>2</td>\n",
       "      <td>1</td>\n",
       "      <td>2019-05-03 11:11:44</td>\n",
       "      <td>2019-05-03 11:14:36</td>\n",
       "      <td>0.744363</td>\n",
       "      <td>0.498805</td>\n",
       "      <td>172.0</td>\n",
       "    </tr>\n",
       "    <tr>\n",
       "      <td>3</td>\n",
       "      <td>1</td>\n",
       "      <td>2019-05-03 11:18:14</td>\n",
       "      <td>2019-05-03 11:24:19</td>\n",
       "      <td>1.659363</td>\n",
       "      <td>1.062669</td>\n",
       "      <td>365.0</td>\n",
       "    </tr>\n",
       "    <tr>\n",
       "      <td>4</td>\n",
       "      <td>1</td>\n",
       "      <td>2019-05-03 11:26:09</td>\n",
       "      <td>2019-05-03 11:28:37</td>\n",
       "      <td>0.692755</td>\n",
       "      <td>0.414397</td>\n",
       "      <td>148.0</td>\n",
       "    </tr>\n",
       "  </tbody>\n",
       "</table>\n",
       "</div>"
      ],
      "text/plain": [
       "   key Начало нагрева дугой Конец нагрева дугой  Активная мощность  \\\n",
       "0    1  2019-05-03 11:02:14 2019-05-03 11:06:02           0.976059   \n",
       "1    1  2019-05-03 11:07:28 2019-05-03 11:10:33           0.805607   \n",
       "2    1  2019-05-03 11:11:44 2019-05-03 11:14:36           0.744363   \n",
       "3    1  2019-05-03 11:18:14 2019-05-03 11:24:19           1.659363   \n",
       "4    1  2019-05-03 11:26:09 2019-05-03 11:28:37           0.692755   \n",
       "\n",
       "   Реактивная мощность  Время нагрева  \n",
       "0             0.687084          228.0  \n",
       "1             0.520285          185.0  \n",
       "2             0.498805          172.0  \n",
       "3             1.062669          365.0  \n",
       "4             0.414397          148.0  "
      ]
     },
     "execution_count": 7,
     "metadata": {},
     "output_type": "execute_result"
    }
   ],
   "source": [
    "data_arc.head()"
   ]
  },
  {
   "cell_type": "markdown",
   "metadata": {},
   "source": [
    "Столбцы с временем можно удалить."
   ]
  },
  {
   "cell_type": "code",
   "execution_count": 8,
   "metadata": {},
   "outputs": [],
   "source": [
    "data_arc = data_arc.drop(columns=['Начало нагрева дугой', 'Конец нагрева дугой'])"
   ]
  },
  {
   "cell_type": "markdown",
   "metadata": {},
   "source": [
    "Теперь изучим получившуюся таблицу. Получается, сейчас мы рассматриваем акты нагрева как самостоятельные, т.е. по партиям не группируем."
   ]
  },
  {
   "cell_type": "code",
   "execution_count": 9,
   "metadata": {},
   "outputs": [],
   "source": [
    "def bp(df, cname, ttle):\n",
    "    df.boxplot(cname)\n",
    "    plt.title(ttle)\n",
    "    plt.show()"
   ]
  },
  {
   "cell_type": "code",
   "execution_count": 10,
   "metadata": {},
   "outputs": [],
   "source": [
    "def hp(df, cname, xname, ttle):\n",
    "    df[cname].hist(density=True)\n",
    "    plt.xlabel(xname)\n",
    "    plt.ylabel('Частота')\n",
    "    plt.title(ttle)\n",
    "    plt.show()"
   ]
  },
  {
   "cell_type": "markdown",
   "metadata": {},
   "source": [
    "*Активная мощность*"
   ]
  },
  {
   "cell_type": "code",
   "execution_count": 11,
   "metadata": {
    "scrolled": false
   },
   "outputs": [
    {
     "data": {
      "image/png": "[encoded data removed]",
      "text/plain": [
       "<Figure size 432x288 with 1 Axes>"
      ]
     },
     "metadata": {
      "needs_background": "light"
     },
     "output_type": "display_data"
    }
   ],
   "source": [
    "bp(data_arc, 'Активная мощность', 'Диаграмма размаха активной мощности')"
   ]
  },
  {
   "cell_type": "markdown",
   "metadata": {},
   "source": [
    "Некоторые значения значатся как выбросы, но в целом - они не являются аномальными с точки зрения здравого смысла - на первый взгляд. Посмотрим на гистограмму."
   ]
  },
  {
   "cell_type": "code",
   "execution_count": 12,
   "metadata": {},
   "outputs": [
    {
     "data": {
      "image/png": "[encoded data removed]",
      "text/plain": [
       "<Figure size 432x288 with 1 Axes>"
      ]
     },
     "metadata": {
      "needs_background": "light"
     },
     "output_type": "display_data"
    }
   ],
   "source": [
    "hp(data_arc, 'Активная мощность', 'Активная мощность', 'Распределение активной мощности')"
   ]
  },
  {
   "cell_type": "markdown",
   "metadata": {},
   "source": [
    "Да, значений выше среднего совсем мало, но в рамках распределения они смотрятся гармонично."
   ]
  },
  {
   "cell_type": "markdown",
   "metadata": {},
   "source": [
    "*Реактивная мощность*"
   ]
  },
  {
   "cell_type": "code",
   "execution_count": 13,
   "metadata": {},
   "outputs": [
    {
     "data": {
      "image/png": "[encoded data removed]",
      "text/plain": [
       "<Figure size 432x288 with 1 Axes>"
      ]
     },
     "metadata": {
      "needs_background": "light"
     },
     "output_type": "display_data"
    }
   ],
   "source": [
    "bp(data_arc, 'Реактивная мощность', 'Диаграмма размаха реактивной мощности')"
   ]
  },
  {
   "cell_type": "markdown",
   "metadata": {},
   "source": [
    "Очевидно, выброс в районе -700. Удаляем и смотрим дальше."
   ]
  },
  {
   "cell_type": "code",
   "execution_count": 14,
   "metadata": {},
   "outputs": [
    {
     "data": {
      "text/html": [
       "<div>\n",
       "<style scoped>\n",
       "    .dataframe tbody tr th:only-of-type {\n",
       "        vertical-align: middle;\n",
       "    }\n",
       "\n",
       "    .dataframe tbody tr th {\n",
       "        vertical-align: top;\n",
       "    }\n",
       "\n",
       "    .dataframe thead th {\n",
       "        text-align: right;\n",
       "    }\n",
       "</style>\n",
       "<table border=\"1\" class=\"dataframe\">\n",
       "  <thead>\n",
       "    <tr style=\"text-align: right;\">\n",
       "      <th></th>\n",
       "      <th>key</th>\n",
       "      <th>Активная мощность</th>\n",
       "      <th>Реактивная мощность</th>\n",
       "      <th>Время нагрева</th>\n",
       "    </tr>\n",
       "  </thead>\n",
       "  <tbody>\n",
       "    <tr>\n",
       "      <td>9780</td>\n",
       "      <td>2116</td>\n",
       "      <td>0.495782</td>\n",
       "      <td>-715.504924</td>\n",
       "      <td>109.0</td>\n",
       "    </tr>\n",
       "  </tbody>\n",
       "</table>\n",
       "</div>"
      ],
      "text/plain": [
       "       key  Активная мощность  Реактивная мощность  Время нагрева\n",
       "9780  2116           0.495782          -715.504924          109.0"
      ]
     },
     "execution_count": 14,
     "metadata": {},
     "output_type": "execute_result"
    }
   ],
   "source": [
    "data_arc[data_arc['Реактивная мощность'] < -700]"
   ]
  },
  {
   "cell_type": "code",
   "execution_count": 15,
   "metadata": {},
   "outputs": [
    {
     "data": {
      "image/png": "[encoded data removed]",
      "text/plain": [
       "<Figure size 432x288 with 1 Axes>"
      ]
     },
     "metadata": {
      "needs_background": "light"
     },
     "output_type": "display_data"
    }
   ],
   "source": [
    "data_arc = data_arc.drop(index = data_arc[data_arc['Реактивная мощность'] < -700].index)\n",
    "bp(data_arc, 'Реактивная мощность', 'Диаграмма размаха реактивная мощность')"
   ]
  },
  {
   "cell_type": "markdown",
   "metadata": {},
   "source": [
    "Ситуация аналогичная ситуации с активной мощностью."
   ]
  },
  {
   "cell_type": "code",
   "execution_count": 16,
   "metadata": {},
   "outputs": [
    {
     "data": {
      "image/png": "[encoded data removed]",
      "text/plain": [
       "<Figure size 432x288 with 1 Axes>"
      ]
     },
     "metadata": {
      "needs_background": "light"
     },
     "output_type": "display_data"
    }
   ],
   "source": [
    "hp(data_arc, 'Реактивная мощность', 'Реактивная мощность', 'Распределение реактивной мощности')"
   ]
  },
  {
   "cell_type": "markdown",
   "metadata": {},
   "source": [
    "Опять же - выбросы выглядят гармонично."
   ]
  },
  {
   "cell_type": "markdown",
   "metadata": {},
   "source": [
    "*Время нагрева*"
   ]
  },
  {
   "cell_type": "code",
   "execution_count": 17,
   "metadata": {},
   "outputs": [
    {
     "data": {
      "image/png": "[encoded data removed]",
      "text/plain": [
       "<Figure size 432x288 with 1 Axes>"
      ]
     },
     "metadata": {
      "needs_background": "light"
     },
     "output_type": "display_data"
    }
   ],
   "source": [
    "bp(data_arc, 'Время нагрева', 'Диаграмма размаха времени нагрева')"
   ]
  },
  {
   "cell_type": "code",
   "execution_count": 18,
   "metadata": {},
   "outputs": [
    {
     "data": {
      "image/png": "[encoded data removed]",
      "text/plain": [
       "<Figure size 432x288 with 1 Axes>"
      ]
     },
     "metadata": {
      "needs_background": "light"
     },
     "output_type": "display_data"
    }
   ],
   "source": [
    "hp(data_arc, 'Время нагрева', 'Время нагрева', 'Распределение времени нагрева')"
   ]
  },
  {
   "cell_type": "markdown",
   "metadata": {},
   "source": [
    "Явных аномалий нет. "
   ]
  },
  {
   "cell_type": "markdown",
   "metadata": {},
   "source": [
    "Какой промежуточный вывод можно сделать? Таблица собрана хорошо. Пропусков нет, аномальное значение пока что выявлено всего одно. Все признаки являются потенциально полезными. Что можно с ними сделать? Можно попробовать использовать:"
   ]
  },
  {
   "cell_type": "markdown",
   "metadata": {},
   "source": [
    "    - общее время нагрева по партии,\n",
    "    - тепло, полученное при нагреве (можно получить по формуле - там как раз нужна мощность и время), этот признак может оказывать колоссальное влияние не температуру,\n",
    "    - средние мощности,\n",
    "    - посчитать полную мощность."
   ]
  },
  {
   "cell_type": "markdown",
   "metadata": {},
   "source": [
    "Следующая таблица."
   ]
  },
  {
   "cell_type": "markdown",
   "metadata": {},
   "source": [
    "**Данные о подаче сыпучих материалов (объем)**"
   ]
  },
  {
   "cell_type": "code",
   "execution_count": 19,
   "metadata": {},
   "outputs": [
    {
     "data": {
      "text/html": [
       "<div>\n",
       "<style scoped>\n",
       "    .dataframe tbody tr th:only-of-type {\n",
       "        vertical-align: middle;\n",
       "    }\n",
       "\n",
       "    .dataframe tbody tr th {\n",
       "        vertical-align: top;\n",
       "    }\n",
       "\n",
       "    .dataframe thead th {\n",
       "        text-align: right;\n",
       "    }\n",
       "</style>\n",
       "<table border=\"1\" class=\"dataframe\">\n",
       "  <thead>\n",
       "    <tr style=\"text-align: right;\">\n",
       "      <th></th>\n",
       "      <th>key</th>\n",
       "      <th>Bulk 1</th>\n",
       "      <th>Bulk 2</th>\n",
       "      <th>Bulk 3</th>\n",
       "      <th>Bulk 4</th>\n",
       "      <th>Bulk 5</th>\n",
       "      <th>Bulk 6</th>\n",
       "      <th>Bulk 7</th>\n",
       "      <th>Bulk 8</th>\n",
       "      <th>Bulk 9</th>\n",
       "      <th>Bulk 10</th>\n",
       "      <th>Bulk 11</th>\n",
       "      <th>Bulk 12</th>\n",
       "      <th>Bulk 13</th>\n",
       "      <th>Bulk 14</th>\n",
       "      <th>Bulk 15</th>\n",
       "    </tr>\n",
       "  </thead>\n",
       "  <tbody>\n",
       "    <tr>\n",
       "      <td>0</td>\n",
       "      <td>1</td>\n",
       "      <td>NaN</td>\n",
       "      <td>NaN</td>\n",
       "      <td>NaN</td>\n",
       "      <td>43.0</td>\n",
       "      <td>NaN</td>\n",
       "      <td>NaN</td>\n",
       "      <td>NaN</td>\n",
       "      <td>NaN</td>\n",
       "      <td>NaN</td>\n",
       "      <td>NaN</td>\n",
       "      <td>NaN</td>\n",
       "      <td>206.0</td>\n",
       "      <td>NaN</td>\n",
       "      <td>150.0</td>\n",
       "      <td>154.0</td>\n",
       "    </tr>\n",
       "    <tr>\n",
       "      <td>1</td>\n",
       "      <td>2</td>\n",
       "      <td>NaN</td>\n",
       "      <td>NaN</td>\n",
       "      <td>NaN</td>\n",
       "      <td>73.0</td>\n",
       "      <td>NaN</td>\n",
       "      <td>NaN</td>\n",
       "      <td>NaN</td>\n",
       "      <td>NaN</td>\n",
       "      <td>NaN</td>\n",
       "      <td>NaN</td>\n",
       "      <td>NaN</td>\n",
       "      <td>206.0</td>\n",
       "      <td>NaN</td>\n",
       "      <td>149.0</td>\n",
       "      <td>154.0</td>\n",
       "    </tr>\n",
       "    <tr>\n",
       "      <td>2</td>\n",
       "      <td>3</td>\n",
       "      <td>NaN</td>\n",
       "      <td>NaN</td>\n",
       "      <td>NaN</td>\n",
       "      <td>34.0</td>\n",
       "      <td>NaN</td>\n",
       "      <td>NaN</td>\n",
       "      <td>NaN</td>\n",
       "      <td>NaN</td>\n",
       "      <td>NaN</td>\n",
       "      <td>NaN</td>\n",
       "      <td>NaN</td>\n",
       "      <td>205.0</td>\n",
       "      <td>NaN</td>\n",
       "      <td>152.0</td>\n",
       "      <td>153.0</td>\n",
       "    </tr>\n",
       "    <tr>\n",
       "      <td>3</td>\n",
       "      <td>4</td>\n",
       "      <td>NaN</td>\n",
       "      <td>NaN</td>\n",
       "      <td>NaN</td>\n",
       "      <td>81.0</td>\n",
       "      <td>NaN</td>\n",
       "      <td>NaN</td>\n",
       "      <td>NaN</td>\n",
       "      <td>NaN</td>\n",
       "      <td>NaN</td>\n",
       "      <td>NaN</td>\n",
       "      <td>NaN</td>\n",
       "      <td>207.0</td>\n",
       "      <td>NaN</td>\n",
       "      <td>153.0</td>\n",
       "      <td>154.0</td>\n",
       "    </tr>\n",
       "    <tr>\n",
       "      <td>4</td>\n",
       "      <td>5</td>\n",
       "      <td>NaN</td>\n",
       "      <td>NaN</td>\n",
       "      <td>NaN</td>\n",
       "      <td>78.0</td>\n",
       "      <td>NaN</td>\n",
       "      <td>NaN</td>\n",
       "      <td>NaN</td>\n",
       "      <td>NaN</td>\n",
       "      <td>NaN</td>\n",
       "      <td>NaN</td>\n",
       "      <td>NaN</td>\n",
       "      <td>203.0</td>\n",
       "      <td>NaN</td>\n",
       "      <td>151.0</td>\n",
       "      <td>152.0</td>\n",
       "    </tr>\n",
       "  </tbody>\n",
       "</table>\n",
       "</div>"
      ],
      "text/plain": [
       "   key  Bulk 1  Bulk 2  Bulk 3  Bulk 4  Bulk 5  Bulk 6  Bulk 7  Bulk 8  \\\n",
       "0    1     NaN     NaN     NaN    43.0     NaN     NaN     NaN     NaN   \n",
       "1    2     NaN     NaN     NaN    73.0     NaN     NaN     NaN     NaN   \n",
       "2    3     NaN     NaN     NaN    34.0     NaN     NaN     NaN     NaN   \n",
       "3    4     NaN     NaN     NaN    81.0     NaN     NaN     NaN     NaN   \n",
       "4    5     NaN     NaN     NaN    78.0     NaN     NaN     NaN     NaN   \n",
       "\n",
       "   Bulk 9  Bulk 10  Bulk 11  Bulk 12  Bulk 13  Bulk 14  Bulk 15  \n",
       "0     NaN      NaN      NaN    206.0      NaN    150.0    154.0  \n",
       "1     NaN      NaN      NaN    206.0      NaN    149.0    154.0  \n",
       "2     NaN      NaN      NaN    205.0      NaN    152.0    153.0  \n",
       "3     NaN      NaN      NaN    207.0      NaN    153.0    154.0  \n",
       "4     NaN      NaN      NaN    203.0      NaN    151.0    152.0  "
      ]
     },
     "execution_count": 19,
     "metadata": {},
     "output_type": "execute_result"
    }
   ],
   "source": [
    "data_bulk.head()"
   ]
  },
  {
   "cell_type": "code",
   "execution_count": 20,
   "metadata": {},
   "outputs": [
    {
     "name": "stdout",
     "output_type": "stream",
     "text": [
      "<class 'pandas.core.frame.DataFrame'>\n",
      "RangeIndex: 3129 entries, 0 to 3128\n",
      "Data columns (total 16 columns):\n",
      "key        3129 non-null int64\n",
      "Bulk 1     252 non-null float64\n",
      "Bulk 2     22 non-null float64\n",
      "Bulk 3     1298 non-null float64\n",
      "Bulk 4     1014 non-null float64\n",
      "Bulk 5     77 non-null float64\n",
      "Bulk 6     576 non-null float64\n",
      "Bulk 7     25 non-null float64\n",
      "Bulk 8     1 non-null float64\n",
      "Bulk 9     19 non-null float64\n",
      "Bulk 10    176 non-null float64\n",
      "Bulk 11    177 non-null float64\n",
      "Bulk 12    2450 non-null float64\n",
      "Bulk 13    18 non-null float64\n",
      "Bulk 14    2806 non-null float64\n",
      "Bulk 15    2248 non-null float64\n",
      "dtypes: float64(15), int64(1)\n",
      "memory usage: 391.2 KB\n"
     ]
    }
   ],
   "source": [
    "data_bulk.info()"
   ]
  },
  {
   "cell_type": "markdown",
   "metadata": {},
   "source": [
    "Судя по всему, существует 15 вариантов сыпучих примесей. Если их добавляют, то пишут объем, если нет - то NaN. С такими пропусками будет легко справиться."
   ]
  },
  {
   "cell_type": "markdown",
   "metadata": {},
   "source": [
    "Вместо построения гистограмм воспользуемся методом describe. Это тоже позволить уловить явные недочеты данных, или приметить характерные черты."
   ]
  },
  {
   "cell_type": "code",
   "execution_count": 21,
   "metadata": {},
   "outputs": [
    {
     "data": {
      "text/html": [
       "<div>\n",
       "<style scoped>\n",
       "    .dataframe tbody tr th:only-of-type {\n",
       "        vertical-align: middle;\n",
       "    }\n",
       "\n",
       "    .dataframe tbody tr th {\n",
       "        vertical-align: top;\n",
       "    }\n",
       "\n",
       "    .dataframe thead th {\n",
       "        text-align: right;\n",
       "    }\n",
       "</style>\n",
       "<table border=\"1\" class=\"dataframe\">\n",
       "  <thead>\n",
       "    <tr style=\"text-align: right;\">\n",
       "      <th></th>\n",
       "      <th>key</th>\n",
       "      <th>Bulk 1</th>\n",
       "      <th>Bulk 2</th>\n",
       "      <th>Bulk 3</th>\n",
       "      <th>Bulk 4</th>\n",
       "      <th>Bulk 5</th>\n",
       "      <th>Bulk 6</th>\n",
       "      <th>Bulk 7</th>\n",
       "      <th>Bulk 8</th>\n",
       "      <th>Bulk 9</th>\n",
       "      <th>Bulk 10</th>\n",
       "      <th>Bulk 11</th>\n",
       "      <th>Bulk 12</th>\n",
       "      <th>Bulk 13</th>\n",
       "      <th>Bulk 14</th>\n",
       "      <th>Bulk 15</th>\n",
       "    </tr>\n",
       "  </thead>\n",
       "  <tbody>\n",
       "    <tr>\n",
       "      <td>count</td>\n",
       "      <td>3129.000000</td>\n",
       "      <td>252.000000</td>\n",
       "      <td>22.000000</td>\n",
       "      <td>1298.000000</td>\n",
       "      <td>1014.000000</td>\n",
       "      <td>77.000000</td>\n",
       "      <td>576.000000</td>\n",
       "      <td>25.000000</td>\n",
       "      <td>1.0</td>\n",
       "      <td>19.000000</td>\n",
       "      <td>176.000000</td>\n",
       "      <td>177.000000</td>\n",
       "      <td>2450.000000</td>\n",
       "      <td>18.000000</td>\n",
       "      <td>2806.000000</td>\n",
       "      <td>2248.000000</td>\n",
       "    </tr>\n",
       "    <tr>\n",
       "      <td>mean</td>\n",
       "      <td>1624.383509</td>\n",
       "      <td>39.242063</td>\n",
       "      <td>253.045455</td>\n",
       "      <td>113.879045</td>\n",
       "      <td>104.394477</td>\n",
       "      <td>107.025974</td>\n",
       "      <td>118.925347</td>\n",
       "      <td>305.600000</td>\n",
       "      <td>49.0</td>\n",
       "      <td>76.315789</td>\n",
       "      <td>83.284091</td>\n",
       "      <td>76.819209</td>\n",
       "      <td>260.471020</td>\n",
       "      <td>181.111111</td>\n",
       "      <td>170.284747</td>\n",
       "      <td>160.513345</td>\n",
       "    </tr>\n",
       "    <tr>\n",
       "      <td>std</td>\n",
       "      <td>933.337642</td>\n",
       "      <td>18.277654</td>\n",
       "      <td>21.180578</td>\n",
       "      <td>75.483494</td>\n",
       "      <td>48.184126</td>\n",
       "      <td>81.790646</td>\n",
       "      <td>72.057776</td>\n",
       "      <td>191.022904</td>\n",
       "      <td>NaN</td>\n",
       "      <td>21.720581</td>\n",
       "      <td>26.060347</td>\n",
       "      <td>59.655365</td>\n",
       "      <td>120.649269</td>\n",
       "      <td>46.088009</td>\n",
       "      <td>65.868652</td>\n",
       "      <td>51.765319</td>\n",
       "    </tr>\n",
       "    <tr>\n",
       "      <td>min</td>\n",
       "      <td>1.000000</td>\n",
       "      <td>10.000000</td>\n",
       "      <td>228.000000</td>\n",
       "      <td>6.000000</td>\n",
       "      <td>12.000000</td>\n",
       "      <td>11.000000</td>\n",
       "      <td>17.000000</td>\n",
       "      <td>47.000000</td>\n",
       "      <td>49.0</td>\n",
       "      <td>63.000000</td>\n",
       "      <td>24.000000</td>\n",
       "      <td>8.000000</td>\n",
       "      <td>53.000000</td>\n",
       "      <td>151.000000</td>\n",
       "      <td>16.000000</td>\n",
       "      <td>1.000000</td>\n",
       "    </tr>\n",
       "    <tr>\n",
       "      <td>25%</td>\n",
       "      <td>816.000000</td>\n",
       "      <td>27.000000</td>\n",
       "      <td>242.000000</td>\n",
       "      <td>58.000000</td>\n",
       "      <td>72.000000</td>\n",
       "      <td>70.000000</td>\n",
       "      <td>69.750000</td>\n",
       "      <td>155.000000</td>\n",
       "      <td>49.0</td>\n",
       "      <td>66.000000</td>\n",
       "      <td>64.000000</td>\n",
       "      <td>25.000000</td>\n",
       "      <td>204.000000</td>\n",
       "      <td>153.250000</td>\n",
       "      <td>119.000000</td>\n",
       "      <td>105.000000</td>\n",
       "    </tr>\n",
       "    <tr>\n",
       "      <td>50%</td>\n",
       "      <td>1622.000000</td>\n",
       "      <td>31.000000</td>\n",
       "      <td>251.500000</td>\n",
       "      <td>97.500000</td>\n",
       "      <td>102.000000</td>\n",
       "      <td>86.000000</td>\n",
       "      <td>100.000000</td>\n",
       "      <td>298.000000</td>\n",
       "      <td>49.0</td>\n",
       "      <td>68.000000</td>\n",
       "      <td>86.500000</td>\n",
       "      <td>64.000000</td>\n",
       "      <td>208.000000</td>\n",
       "      <td>155.500000</td>\n",
       "      <td>151.000000</td>\n",
       "      <td>160.000000</td>\n",
       "    </tr>\n",
       "    <tr>\n",
       "      <td>75%</td>\n",
       "      <td>2431.000000</td>\n",
       "      <td>46.000000</td>\n",
       "      <td>257.750000</td>\n",
       "      <td>152.000000</td>\n",
       "      <td>133.000000</td>\n",
       "      <td>132.000000</td>\n",
       "      <td>157.000000</td>\n",
       "      <td>406.000000</td>\n",
       "      <td>49.0</td>\n",
       "      <td>70.500000</td>\n",
       "      <td>102.000000</td>\n",
       "      <td>106.000000</td>\n",
       "      <td>316.000000</td>\n",
       "      <td>203.500000</td>\n",
       "      <td>205.750000</td>\n",
       "      <td>205.000000</td>\n",
       "    </tr>\n",
       "    <tr>\n",
       "      <td>max</td>\n",
       "      <td>3241.000000</td>\n",
       "      <td>185.000000</td>\n",
       "      <td>325.000000</td>\n",
       "      <td>454.000000</td>\n",
       "      <td>281.000000</td>\n",
       "      <td>603.000000</td>\n",
       "      <td>503.000000</td>\n",
       "      <td>772.000000</td>\n",
       "      <td>49.0</td>\n",
       "      <td>147.000000</td>\n",
       "      <td>159.000000</td>\n",
       "      <td>313.000000</td>\n",
       "      <td>1849.000000</td>\n",
       "      <td>305.000000</td>\n",
       "      <td>636.000000</td>\n",
       "      <td>405.000000</td>\n",
       "    </tr>\n",
       "  </tbody>\n",
       "</table>\n",
       "</div>"
      ],
      "text/plain": [
       "               key      Bulk 1      Bulk 2       Bulk 3       Bulk 4  \\\n",
       "count  3129.000000  252.000000   22.000000  1298.000000  1014.000000   \n",
       "mean   1624.383509   39.242063  253.045455   113.879045   104.394477   \n",
       "std     933.337642   18.277654   21.180578    75.483494    48.184126   \n",
       "min       1.000000   10.000000  228.000000     6.000000    12.000000   \n",
       "25%     816.000000   27.000000  242.000000    58.000000    72.000000   \n",
       "50%    1622.000000   31.000000  251.500000    97.500000   102.000000   \n",
       "75%    2431.000000   46.000000  257.750000   152.000000   133.000000   \n",
       "max    3241.000000  185.000000  325.000000   454.000000   281.000000   \n",
       "\n",
       "           Bulk 5      Bulk 6      Bulk 7  Bulk 8      Bulk 9     Bulk 10  \\\n",
       "count   77.000000  576.000000   25.000000     1.0   19.000000  176.000000   \n",
       "mean   107.025974  118.925347  305.600000    49.0   76.315789   83.284091   \n",
       "std     81.790646   72.057776  191.022904     NaN   21.720581   26.060347   \n",
       "min     11.000000   17.000000   47.000000    49.0   63.000000   24.000000   \n",
       "25%     70.000000   69.750000  155.000000    49.0   66.000000   64.000000   \n",
       "50%     86.000000  100.000000  298.000000    49.0   68.000000   86.500000   \n",
       "75%    132.000000  157.000000  406.000000    49.0   70.500000  102.000000   \n",
       "max    603.000000  503.000000  772.000000    49.0  147.000000  159.000000   \n",
       "\n",
       "          Bulk 11      Bulk 12     Bulk 13      Bulk 14      Bulk 15  \n",
       "count  177.000000  2450.000000   18.000000  2806.000000  2248.000000  \n",
       "mean    76.819209   260.471020  181.111111   170.284747   160.513345  \n",
       "std     59.655365   120.649269   46.088009    65.868652    51.765319  \n",
       "min      8.000000    53.000000  151.000000    16.000000     1.000000  \n",
       "25%     25.000000   204.000000  153.250000   119.000000   105.000000  \n",
       "50%     64.000000   208.000000  155.500000   151.000000   160.000000  \n",
       "75%    106.000000   316.000000  203.500000   205.750000   205.000000  \n",
       "max    313.000000  1849.000000  305.000000   636.000000   405.000000  "
      ]
     },
     "execution_count": 21,
     "metadata": {},
     "output_type": "execute_result"
    }
   ],
   "source": [
    "data_bulk.describe()"
   ]
  },
  {
   "cell_type": "markdown",
   "metadata": {},
   "source": [
    "Немного смущает максимальное значение в Bulk 12."
   ]
  },
  {
   "cell_type": "code",
   "execution_count": 22,
   "metadata": {},
   "outputs": [
    {
     "data": {
      "text/html": [
       "<div>\n",
       "<style scoped>\n",
       "    .dataframe tbody tr th:only-of-type {\n",
       "        vertical-align: middle;\n",
       "    }\n",
       "\n",
       "    .dataframe tbody tr th {\n",
       "        vertical-align: top;\n",
       "    }\n",
       "\n",
       "    .dataframe thead th {\n",
       "        text-align: right;\n",
       "    }\n",
       "</style>\n",
       "<table border=\"1\" class=\"dataframe\">\n",
       "  <thead>\n",
       "    <tr style=\"text-align: right;\">\n",
       "      <th></th>\n",
       "      <th>key</th>\n",
       "      <th>Bulk 1</th>\n",
       "      <th>Bulk 2</th>\n",
       "      <th>Bulk 3</th>\n",
       "      <th>Bulk 4</th>\n",
       "      <th>Bulk 5</th>\n",
       "      <th>Bulk 6</th>\n",
       "      <th>Bulk 7</th>\n",
       "      <th>Bulk 8</th>\n",
       "      <th>Bulk 9</th>\n",
       "      <th>Bulk 10</th>\n",
       "      <th>Bulk 11</th>\n",
       "      <th>Bulk 12</th>\n",
       "      <th>Bulk 13</th>\n",
       "      <th>Bulk 14</th>\n",
       "      <th>Bulk 15</th>\n",
       "    </tr>\n",
       "  </thead>\n",
       "  <tbody>\n",
       "    <tr>\n",
       "      <td>303</td>\n",
       "      <td>322</td>\n",
       "      <td>185.0</td>\n",
       "      <td>NaN</td>\n",
       "      <td>101.0</td>\n",
       "      <td>58.0</td>\n",
       "      <td>NaN</td>\n",
       "      <td>NaN</td>\n",
       "      <td>406.0</td>\n",
       "      <td>NaN</td>\n",
       "      <td>NaN</td>\n",
       "      <td>NaN</td>\n",
       "      <td>NaN</td>\n",
       "      <td>1849.0</td>\n",
       "      <td>NaN</td>\n",
       "      <td>636.0</td>\n",
       "      <td>NaN</td>\n",
       "    </tr>\n",
       "  </tbody>\n",
       "</table>\n",
       "</div>"
      ],
      "text/plain": [
       "     key  Bulk 1  Bulk 2  Bulk 3  Bulk 4  Bulk 5  Bulk 6  Bulk 7  Bulk 8  \\\n",
       "303  322   185.0     NaN   101.0    58.0     NaN     NaN   406.0     NaN   \n",
       "\n",
       "     Bulk 9  Bulk 10  Bulk 11  Bulk 12  Bulk 13  Bulk 14  Bulk 15  \n",
       "303     NaN      NaN      NaN   1849.0      NaN    636.0      NaN  "
      ]
     },
     "execution_count": 22,
     "metadata": {},
     "output_type": "execute_result"
    }
   ],
   "source": [
    "data_bulk[data_bulk['Bulk 12'] > 1000]"
   ]
  },
  {
   "cell_type": "markdown",
   "metadata": {},
   "source": [
    "Выглядит как аномалия. Возможно, при предобработке придется удалить такую строку."
   ]
  },
  {
   "cell_type": "markdown",
   "metadata": {},
   "source": [
    "Какой промежуточный вывод можно сделать? Таблица выглядит хорошо. Пропуски понятные и легко заполяемые. Потенциальная аномалия лишь одна. Можно попробовать использовать:"
   ]
  },
  {
   "cell_type": "markdown",
   "metadata": {},
   "source": [
    "    - признаки, отображающие сколько чего насыпали (т.е. столбцы в исходном виде + с заполненными пропусками),\n",
    "    - суммарное кол-во веществ (скорее всего, не поможет, но мало ли - вдруг примеси плюс минус эквивалентны между собой и собрав сумму, получится сильно сократить количество признаков)."
   ]
  },
  {
   "cell_type": "markdown",
   "metadata": {},
   "source": [
    "Следующая таблица."
   ]
  },
  {
   "cell_type": "markdown",
   "metadata": {},
   "source": [
    "**Данные о подаче сыпучих материалов (время)**"
   ]
  },
  {
   "cell_type": "code",
   "execution_count": 23,
   "metadata": {},
   "outputs": [
    {
     "data": {
      "text/html": [
       "<div>\n",
       "<style scoped>\n",
       "    .dataframe tbody tr th:only-of-type {\n",
       "        vertical-align: middle;\n",
       "    }\n",
       "\n",
       "    .dataframe tbody tr th {\n",
       "        vertical-align: top;\n",
       "    }\n",
       "\n",
       "    .dataframe thead th {\n",
       "        text-align: right;\n",
       "    }\n",
       "</style>\n",
       "<table border=\"1\" class=\"dataframe\">\n",
       "  <thead>\n",
       "    <tr style=\"text-align: right;\">\n",
       "      <th></th>\n",
       "      <th>key</th>\n",
       "      <th>Bulk 1</th>\n",
       "      <th>Bulk 2</th>\n",
       "      <th>Bulk 3</th>\n",
       "      <th>Bulk 4</th>\n",
       "      <th>Bulk 5</th>\n",
       "      <th>Bulk 6</th>\n",
       "      <th>Bulk 7</th>\n",
       "      <th>Bulk 8</th>\n",
       "      <th>Bulk 9</th>\n",
       "      <th>Bulk 10</th>\n",
       "      <th>Bulk 11</th>\n",
       "      <th>Bulk 12</th>\n",
       "      <th>Bulk 13</th>\n",
       "      <th>Bulk 14</th>\n",
       "      <th>Bulk 15</th>\n",
       "    </tr>\n",
       "  </thead>\n",
       "  <tbody>\n",
       "    <tr>\n",
       "      <td>0</td>\n",
       "      <td>1</td>\n",
       "      <td>NaN</td>\n",
       "      <td>NaN</td>\n",
       "      <td>NaN</td>\n",
       "      <td>2019-05-03 11:21:30</td>\n",
       "      <td>NaN</td>\n",
       "      <td>NaN</td>\n",
       "      <td>NaN</td>\n",
       "      <td>NaN</td>\n",
       "      <td>NaN</td>\n",
       "      <td>NaN</td>\n",
       "      <td>NaN</td>\n",
       "      <td>2019-05-03 11:03:52</td>\n",
       "      <td>NaN</td>\n",
       "      <td>2019-05-03 11:03:52</td>\n",
       "      <td>2019-05-03 11:03:52</td>\n",
       "    </tr>\n",
       "    <tr>\n",
       "      <td>1</td>\n",
       "      <td>2</td>\n",
       "      <td>NaN</td>\n",
       "      <td>NaN</td>\n",
       "      <td>NaN</td>\n",
       "      <td>2019-05-03 11:46:38</td>\n",
       "      <td>NaN</td>\n",
       "      <td>NaN</td>\n",
       "      <td>NaN</td>\n",
       "      <td>NaN</td>\n",
       "      <td>NaN</td>\n",
       "      <td>NaN</td>\n",
       "      <td>NaN</td>\n",
       "      <td>2019-05-03 11:40:20</td>\n",
       "      <td>NaN</td>\n",
       "      <td>2019-05-03 11:40:20</td>\n",
       "      <td>2019-05-03 11:40:20</td>\n",
       "    </tr>\n",
       "    <tr>\n",
       "      <td>2</td>\n",
       "      <td>3</td>\n",
       "      <td>NaN</td>\n",
       "      <td>NaN</td>\n",
       "      <td>NaN</td>\n",
       "      <td>2019-05-03 12:31:06</td>\n",
       "      <td>NaN</td>\n",
       "      <td>NaN</td>\n",
       "      <td>NaN</td>\n",
       "      <td>NaN</td>\n",
       "      <td>NaN</td>\n",
       "      <td>NaN</td>\n",
       "      <td>NaN</td>\n",
       "      <td>2019-05-03 12:09:40</td>\n",
       "      <td>NaN</td>\n",
       "      <td>2019-05-03 12:09:40</td>\n",
       "      <td>2019-05-03 12:09:40</td>\n",
       "    </tr>\n",
       "    <tr>\n",
       "      <td>3</td>\n",
       "      <td>4</td>\n",
       "      <td>NaN</td>\n",
       "      <td>NaN</td>\n",
       "      <td>NaN</td>\n",
       "      <td>2019-05-03 12:48:43</td>\n",
       "      <td>NaN</td>\n",
       "      <td>NaN</td>\n",
       "      <td>NaN</td>\n",
       "      <td>NaN</td>\n",
       "      <td>NaN</td>\n",
       "      <td>NaN</td>\n",
       "      <td>NaN</td>\n",
       "      <td>2019-05-03 12:41:24</td>\n",
       "      <td>NaN</td>\n",
       "      <td>2019-05-03 12:41:24</td>\n",
       "      <td>2019-05-03 12:41:24</td>\n",
       "    </tr>\n",
       "    <tr>\n",
       "      <td>4</td>\n",
       "      <td>5</td>\n",
       "      <td>NaN</td>\n",
       "      <td>NaN</td>\n",
       "      <td>NaN</td>\n",
       "      <td>2019-05-03 13:18:50</td>\n",
       "      <td>NaN</td>\n",
       "      <td>NaN</td>\n",
       "      <td>NaN</td>\n",
       "      <td>NaN</td>\n",
       "      <td>NaN</td>\n",
       "      <td>NaN</td>\n",
       "      <td>NaN</td>\n",
       "      <td>2019-05-03 13:12:56</td>\n",
       "      <td>NaN</td>\n",
       "      <td>2019-05-03 13:12:56</td>\n",
       "      <td>2019-05-03 13:12:56</td>\n",
       "    </tr>\n",
       "  </tbody>\n",
       "</table>\n",
       "</div>"
      ],
      "text/plain": [
       "   key Bulk 1 Bulk 2 Bulk 3               Bulk 4 Bulk 5 Bulk 6 Bulk 7 Bulk 8  \\\n",
       "0    1    NaN    NaN    NaN  2019-05-03 11:21:30    NaN    NaN    NaN    NaN   \n",
       "1    2    NaN    NaN    NaN  2019-05-03 11:46:38    NaN    NaN    NaN    NaN   \n",
       "2    3    NaN    NaN    NaN  2019-05-03 12:31:06    NaN    NaN    NaN    NaN   \n",
       "3    4    NaN    NaN    NaN  2019-05-03 12:48:43    NaN    NaN    NaN    NaN   \n",
       "4    5    NaN    NaN    NaN  2019-05-03 13:18:50    NaN    NaN    NaN    NaN   \n",
       "\n",
       "  Bulk 9 Bulk 10 Bulk 11              Bulk 12 Bulk 13              Bulk 14  \\\n",
       "0    NaN     NaN     NaN  2019-05-03 11:03:52     NaN  2019-05-03 11:03:52   \n",
       "1    NaN     NaN     NaN  2019-05-03 11:40:20     NaN  2019-05-03 11:40:20   \n",
       "2    NaN     NaN     NaN  2019-05-03 12:09:40     NaN  2019-05-03 12:09:40   \n",
       "3    NaN     NaN     NaN  2019-05-03 12:41:24     NaN  2019-05-03 12:41:24   \n",
       "4    NaN     NaN     NaN  2019-05-03 13:12:56     NaN  2019-05-03 13:12:56   \n",
       "\n",
       "               Bulk 15  \n",
       "0  2019-05-03 11:03:52  \n",
       "1  2019-05-03 11:40:20  \n",
       "2  2019-05-03 12:09:40  \n",
       "3  2019-05-03 12:41:24  \n",
       "4  2019-05-03 13:12:56  "
      ]
     },
     "execution_count": 23,
     "metadata": {},
     "output_type": "execute_result"
    }
   ],
   "source": [
    "data_bulk_time.head()"
   ]
  },
  {
   "cell_type": "code",
   "execution_count": 24,
   "metadata": {},
   "outputs": [
    {
     "name": "stdout",
     "output_type": "stream",
     "text": [
      "<class 'pandas.core.frame.DataFrame'>\n",
      "RangeIndex: 3129 entries, 0 to 3128\n",
      "Data columns (total 16 columns):\n",
      "key        3129 non-null int64\n",
      "Bulk 1     252 non-null object\n",
      "Bulk 2     22 non-null object\n",
      "Bulk 3     1298 non-null object\n",
      "Bulk 4     1014 non-null object\n",
      "Bulk 5     77 non-null object\n",
      "Bulk 6     576 non-null object\n",
      "Bulk 7     25 non-null object\n",
      "Bulk 8     1 non-null object\n",
      "Bulk 9     19 non-null object\n",
      "Bulk 10    176 non-null object\n",
      "Bulk 11    177 non-null object\n",
      "Bulk 12    2450 non-null object\n",
      "Bulk 13    18 non-null object\n",
      "Bulk 14    2806 non-null object\n",
      "Bulk 15    2248 non-null object\n",
      "dtypes: int64(1), object(15)\n",
      "memory usage: 391.2+ KB\n"
     ]
    }
   ],
   "source": [
    "data_bulk_time.info()"
   ]
  },
  {
   "cell_type": "markdown",
   "metadata": {},
   "source": [
    "По пропускам - аналогично предыдущей таблице. Также можно отметить не те типы данных. Таблица, на первый взгляд, выглядит невероятно бесполезной. Что можно попробовать вытащить:"
   ]
  },
  {
   "cell_type": "markdown",
   "metadata": {},
   "source": [
    "    - одинаковое время у нескольких примесей говорит о том, что их засыпали вместе: можно собрать как новые признаки такие комбинации примесей, почему это может помочь: химическая реакция в комбинации примесей может обуславливать перемены температуры, почему это скорее всего не поможет: сколько комбинаций можно собрать из 15 примесей? очень много, таблица разростется до огромных размеров, и польза таких признаков быстро перекроется."
   ]
  },
  {
   "cell_type": "markdown",
   "metadata": {},
   "source": [
    "Следующая таблица."
   ]
  },
  {
   "cell_type": "markdown",
   "metadata": {},
   "source": [
    "**Данные о продувке сплава газом**"
   ]
  },
  {
   "cell_type": "code",
   "execution_count": 25,
   "metadata": {},
   "outputs": [
    {
     "data": {
      "text/html": [
       "<div>\n",
       "<style scoped>\n",
       "    .dataframe tbody tr th:only-of-type {\n",
       "        vertical-align: middle;\n",
       "    }\n",
       "\n",
       "    .dataframe tbody tr th {\n",
       "        vertical-align: top;\n",
       "    }\n",
       "\n",
       "    .dataframe thead th {\n",
       "        text-align: right;\n",
       "    }\n",
       "</style>\n",
       "<table border=\"1\" class=\"dataframe\">\n",
       "  <thead>\n",
       "    <tr style=\"text-align: right;\">\n",
       "      <th></th>\n",
       "      <th>key</th>\n",
       "      <th>Газ 1</th>\n",
       "    </tr>\n",
       "  </thead>\n",
       "  <tbody>\n",
       "    <tr>\n",
       "      <td>0</td>\n",
       "      <td>1</td>\n",
       "      <td>29.749986</td>\n",
       "    </tr>\n",
       "    <tr>\n",
       "      <td>1</td>\n",
       "      <td>2</td>\n",
       "      <td>12.555561</td>\n",
       "    </tr>\n",
       "    <tr>\n",
       "      <td>2</td>\n",
       "      <td>3</td>\n",
       "      <td>28.554793</td>\n",
       "    </tr>\n",
       "    <tr>\n",
       "      <td>3</td>\n",
       "      <td>4</td>\n",
       "      <td>18.841219</td>\n",
       "    </tr>\n",
       "    <tr>\n",
       "      <td>4</td>\n",
       "      <td>5</td>\n",
       "      <td>5.413692</td>\n",
       "    </tr>\n",
       "  </tbody>\n",
       "</table>\n",
       "</div>"
      ],
      "text/plain": [
       "   key      Газ 1\n",
       "0    1  29.749986\n",
       "1    2  12.555561\n",
       "2    3  28.554793\n",
       "3    4  18.841219\n",
       "4    5   5.413692"
      ]
     },
     "execution_count": 25,
     "metadata": {},
     "output_type": "execute_result"
    }
   ],
   "source": [
    "data_gas.head()"
   ]
  },
  {
   "cell_type": "code",
   "execution_count": 26,
   "metadata": {},
   "outputs": [
    {
     "name": "stdout",
     "output_type": "stream",
     "text": [
      "<class 'pandas.core.frame.DataFrame'>\n",
      "RangeIndex: 3239 entries, 0 to 3238\n",
      "Data columns (total 2 columns):\n",
      "key      3239 non-null int64\n",
      "Газ 1    3239 non-null float64\n",
      "dtypes: float64(1), int64(1)\n",
      "memory usage: 50.7 KB\n"
     ]
    }
   ],
   "source": [
    "data_gas.info()"
   ]
  },
  {
   "cell_type": "markdown",
   "metadata": {},
   "source": [
    "Пропусков нет, столбец всего один. Построим гистограмму и диаграмму размаха."
   ]
  },
  {
   "cell_type": "code",
   "execution_count": 27,
   "metadata": {},
   "outputs": [
    {
     "data": {
      "image/png": "[encoded data removed]",
      "text/plain": [
       "<Figure size 432x288 with 1 Axes>"
      ]
     },
     "metadata": {
      "needs_background": "light"
     },
     "output_type": "display_data"
    }
   ],
   "source": [
    "bp(data_gas, 'Газ 1', 'Диаграмма размаха инертного газа')"
   ]
  },
  {
   "cell_type": "markdown",
   "metadata": {},
   "source": [
    "Есть пара потенциальных аномалий."
   ]
  },
  {
   "cell_type": "code",
   "execution_count": 28,
   "metadata": {},
   "outputs": [
    {
     "data": {
      "image/png": "[encoded data removed]",
      "text/plain": [
       "<Figure size 432x288 with 1 Axes>"
      ]
     },
     "metadata": {
      "needs_background": "light"
     },
     "output_type": "display_data"
    }
   ],
   "source": [
    "hp(data_gas, 'Газ 1', 'Кол-во газа', 'Распределение кол-ва газа')"
   ]
  },
  {
   "cell_type": "markdown",
   "metadata": {},
   "source": [
    "Что можно сказать? Тут всего 1 столбец и его необходимо использовать, т.к. газ меняет скорость остывания сплава. Есть слишком большие значения, но, скорее всего, предсказывать мы будем по партиям, а их всего около 3-х тысяч, так что удалять что-то нежелательно."
   ]
  },
  {
   "cell_type": "markdown",
   "metadata": {},
   "source": [
    "Следующая таблица."
   ]
  },
  {
   "cell_type": "markdown",
   "metadata": {},
   "source": [
    "**Данные о проволочных материалах (объем)**"
   ]
  },
  {
   "cell_type": "code",
   "execution_count": 29,
   "metadata": {},
   "outputs": [
    {
     "data": {
      "text/html": [
       "<div>\n",
       "<style scoped>\n",
       "    .dataframe tbody tr th:only-of-type {\n",
       "        vertical-align: middle;\n",
       "    }\n",
       "\n",
       "    .dataframe tbody tr th {\n",
       "        vertical-align: top;\n",
       "    }\n",
       "\n",
       "    .dataframe thead th {\n",
       "        text-align: right;\n",
       "    }\n",
       "</style>\n",
       "<table border=\"1\" class=\"dataframe\">\n",
       "  <thead>\n",
       "    <tr style=\"text-align: right;\">\n",
       "      <th></th>\n",
       "      <th>key</th>\n",
       "      <th>Wire 1</th>\n",
       "      <th>Wire 2</th>\n",
       "      <th>Wire 3</th>\n",
       "      <th>Wire 4</th>\n",
       "      <th>Wire 5</th>\n",
       "      <th>Wire 6</th>\n",
       "      <th>Wire 7</th>\n",
       "      <th>Wire 8</th>\n",
       "      <th>Wire 9</th>\n",
       "    </tr>\n",
       "  </thead>\n",
       "  <tbody>\n",
       "    <tr>\n",
       "      <td>0</td>\n",
       "      <td>1</td>\n",
       "      <td>60.059998</td>\n",
       "      <td>NaN</td>\n",
       "      <td>NaN</td>\n",
       "      <td>NaN</td>\n",
       "      <td>NaN</td>\n",
       "      <td>NaN</td>\n",
       "      <td>NaN</td>\n",
       "      <td>NaN</td>\n",
       "      <td>NaN</td>\n",
       "    </tr>\n",
       "    <tr>\n",
       "      <td>1</td>\n",
       "      <td>2</td>\n",
       "      <td>96.052315</td>\n",
       "      <td>NaN</td>\n",
       "      <td>NaN</td>\n",
       "      <td>NaN</td>\n",
       "      <td>NaN</td>\n",
       "      <td>NaN</td>\n",
       "      <td>NaN</td>\n",
       "      <td>NaN</td>\n",
       "      <td>NaN</td>\n",
       "    </tr>\n",
       "    <tr>\n",
       "      <td>2</td>\n",
       "      <td>3</td>\n",
       "      <td>91.160157</td>\n",
       "      <td>NaN</td>\n",
       "      <td>NaN</td>\n",
       "      <td>NaN</td>\n",
       "      <td>NaN</td>\n",
       "      <td>NaN</td>\n",
       "      <td>NaN</td>\n",
       "      <td>NaN</td>\n",
       "      <td>NaN</td>\n",
       "    </tr>\n",
       "    <tr>\n",
       "      <td>3</td>\n",
       "      <td>4</td>\n",
       "      <td>89.063515</td>\n",
       "      <td>NaN</td>\n",
       "      <td>NaN</td>\n",
       "      <td>NaN</td>\n",
       "      <td>NaN</td>\n",
       "      <td>NaN</td>\n",
       "      <td>NaN</td>\n",
       "      <td>NaN</td>\n",
       "      <td>NaN</td>\n",
       "    </tr>\n",
       "    <tr>\n",
       "      <td>4</td>\n",
       "      <td>5</td>\n",
       "      <td>89.238236</td>\n",
       "      <td>9.11456</td>\n",
       "      <td>NaN</td>\n",
       "      <td>NaN</td>\n",
       "      <td>NaN</td>\n",
       "      <td>NaN</td>\n",
       "      <td>NaN</td>\n",
       "      <td>NaN</td>\n",
       "      <td>NaN</td>\n",
       "    </tr>\n",
       "  </tbody>\n",
       "</table>\n",
       "</div>"
      ],
      "text/plain": [
       "   key     Wire 1   Wire 2  Wire 3  Wire 4  Wire 5  Wire 6  Wire 7  Wire 8  \\\n",
       "0    1  60.059998      NaN     NaN     NaN     NaN     NaN     NaN     NaN   \n",
       "1    2  96.052315      NaN     NaN     NaN     NaN     NaN     NaN     NaN   \n",
       "2    3  91.160157      NaN     NaN     NaN     NaN     NaN     NaN     NaN   \n",
       "3    4  89.063515      NaN     NaN     NaN     NaN     NaN     NaN     NaN   \n",
       "4    5  89.238236  9.11456     NaN     NaN     NaN     NaN     NaN     NaN   \n",
       "\n",
       "   Wire 9  \n",
       "0     NaN  \n",
       "1     NaN  \n",
       "2     NaN  \n",
       "3     NaN  \n",
       "4     NaN  "
      ]
     },
     "execution_count": 29,
     "metadata": {},
     "output_type": "execute_result"
    }
   ],
   "source": [
    "data_wire.head()"
   ]
  },
  {
   "cell_type": "code",
   "execution_count": 30,
   "metadata": {},
   "outputs": [
    {
     "name": "stdout",
     "output_type": "stream",
     "text": [
      "<class 'pandas.core.frame.DataFrame'>\n",
      "RangeIndex: 3081 entries, 0 to 3080\n",
      "Data columns (total 10 columns):\n",
      "key       3081 non-null int64\n",
      "Wire 1    3055 non-null float64\n",
      "Wire 2    1079 non-null float64\n",
      "Wire 3    63 non-null float64\n",
      "Wire 4    14 non-null float64\n",
      "Wire 5    1 non-null float64\n",
      "Wire 6    73 non-null float64\n",
      "Wire 7    11 non-null float64\n",
      "Wire 8    19 non-null float64\n",
      "Wire 9    29 non-null float64\n",
      "dtypes: float64(9), int64(1)\n",
      "memory usage: 240.8 KB\n"
     ]
    }
   ],
   "source": [
    "data_wire.info()"
   ]
  },
  {
   "cell_type": "markdown",
   "metadata": {},
   "source": [
    "Ситуация похожа на ситуацию с таблицей про сыпучие добавки. Всего 9 видов такого рода материалов. Когда добавлено - ставится объем, в противном случае - пропуск. Отсюда следует, что от пропусков избавиться будет легко. "
   ]
  },
  {
   "cell_type": "markdown",
   "metadata": {},
   "source": [
    "Опять же - вместо гистаграмм вызовем describe."
   ]
  },
  {
   "cell_type": "code",
   "execution_count": 31,
   "metadata": {},
   "outputs": [
    {
     "data": {
      "text/html": [
       "<div>\n",
       "<style scoped>\n",
       "    .dataframe tbody tr th:only-of-type {\n",
       "        vertical-align: middle;\n",
       "    }\n",
       "\n",
       "    .dataframe tbody tr th {\n",
       "        vertical-align: top;\n",
       "    }\n",
       "\n",
       "    .dataframe thead th {\n",
       "        text-align: right;\n",
       "    }\n",
       "</style>\n",
       "<table border=\"1\" class=\"dataframe\">\n",
       "  <thead>\n",
       "    <tr style=\"text-align: right;\">\n",
       "      <th></th>\n",
       "      <th>key</th>\n",
       "      <th>Wire 1</th>\n",
       "      <th>Wire 2</th>\n",
       "      <th>Wire 3</th>\n",
       "      <th>Wire 4</th>\n",
       "      <th>Wire 5</th>\n",
       "      <th>Wire 6</th>\n",
       "      <th>Wire 7</th>\n",
       "      <th>Wire 8</th>\n",
       "      <th>Wire 9</th>\n",
       "    </tr>\n",
       "  </thead>\n",
       "  <tbody>\n",
       "    <tr>\n",
       "      <td>count</td>\n",
       "      <td>3081.000000</td>\n",
       "      <td>3055.000000</td>\n",
       "      <td>1079.000000</td>\n",
       "      <td>63.000000</td>\n",
       "      <td>14.000000</td>\n",
       "      <td>1.000</td>\n",
       "      <td>73.000000</td>\n",
       "      <td>11.000000</td>\n",
       "      <td>19.000000</td>\n",
       "      <td>29.000000</td>\n",
       "    </tr>\n",
       "    <tr>\n",
       "      <td>mean</td>\n",
       "      <td>1623.426485</td>\n",
       "      <td>100.895853</td>\n",
       "      <td>50.577323</td>\n",
       "      <td>189.482681</td>\n",
       "      <td>57.442841</td>\n",
       "      <td>15.132</td>\n",
       "      <td>48.016974</td>\n",
       "      <td>10.039007</td>\n",
       "      <td>53.625193</td>\n",
       "      <td>34.155752</td>\n",
       "    </tr>\n",
       "    <tr>\n",
       "      <td>std</td>\n",
       "      <td>932.996726</td>\n",
       "      <td>42.012518</td>\n",
       "      <td>39.320216</td>\n",
       "      <td>99.513444</td>\n",
       "      <td>28.824667</td>\n",
       "      <td>NaN</td>\n",
       "      <td>33.919845</td>\n",
       "      <td>8.610584</td>\n",
       "      <td>16.881728</td>\n",
       "      <td>19.931616</td>\n",
       "    </tr>\n",
       "    <tr>\n",
       "      <td>min</td>\n",
       "      <td>1.000000</td>\n",
       "      <td>1.918800</td>\n",
       "      <td>0.030160</td>\n",
       "      <td>0.144144</td>\n",
       "      <td>24.148801</td>\n",
       "      <td>15.132</td>\n",
       "      <td>0.034320</td>\n",
       "      <td>0.234208</td>\n",
       "      <td>45.076721</td>\n",
       "      <td>4.622800</td>\n",
       "    </tr>\n",
       "    <tr>\n",
       "      <td>25%</td>\n",
       "      <td>823.000000</td>\n",
       "      <td>72.115684</td>\n",
       "      <td>20.193680</td>\n",
       "      <td>95.135044</td>\n",
       "      <td>40.807002</td>\n",
       "      <td>15.132</td>\n",
       "      <td>25.053600</td>\n",
       "      <td>6.762756</td>\n",
       "      <td>46.094879</td>\n",
       "      <td>22.058401</td>\n",
       "    </tr>\n",
       "    <tr>\n",
       "      <td>50%</td>\n",
       "      <td>1619.000000</td>\n",
       "      <td>100.158234</td>\n",
       "      <td>40.142956</td>\n",
       "      <td>235.194977</td>\n",
       "      <td>45.234282</td>\n",
       "      <td>15.132</td>\n",
       "      <td>42.076324</td>\n",
       "      <td>9.017009</td>\n",
       "      <td>46.279999</td>\n",
       "      <td>30.066399</td>\n",
       "    </tr>\n",
       "    <tr>\n",
       "      <td>75%</td>\n",
       "      <td>2434.000000</td>\n",
       "      <td>126.060484</td>\n",
       "      <td>70.227558</td>\n",
       "      <td>276.252014</td>\n",
       "      <td>76.124619</td>\n",
       "      <td>15.132</td>\n",
       "      <td>64.212723</td>\n",
       "      <td>11.886057</td>\n",
       "      <td>48.089603</td>\n",
       "      <td>43.862003</td>\n",
       "    </tr>\n",
       "    <tr>\n",
       "      <td>max</td>\n",
       "      <td>3241.000000</td>\n",
       "      <td>330.314424</td>\n",
       "      <td>282.780152</td>\n",
       "      <td>385.008668</td>\n",
       "      <td>113.231044</td>\n",
       "      <td>15.132</td>\n",
       "      <td>180.454575</td>\n",
       "      <td>32.847674</td>\n",
       "      <td>102.762401</td>\n",
       "      <td>90.053604</td>\n",
       "    </tr>\n",
       "  </tbody>\n",
       "</table>\n",
       "</div>"
      ],
      "text/plain": [
       "               key       Wire 1       Wire 2      Wire 3      Wire 4  Wire 5  \\\n",
       "count  3081.000000  3055.000000  1079.000000   63.000000   14.000000   1.000   \n",
       "mean   1623.426485   100.895853    50.577323  189.482681   57.442841  15.132   \n",
       "std     932.996726    42.012518    39.320216   99.513444   28.824667     NaN   \n",
       "min       1.000000     1.918800     0.030160    0.144144   24.148801  15.132   \n",
       "25%     823.000000    72.115684    20.193680   95.135044   40.807002  15.132   \n",
       "50%    1619.000000   100.158234    40.142956  235.194977   45.234282  15.132   \n",
       "75%    2434.000000   126.060484    70.227558  276.252014   76.124619  15.132   \n",
       "max    3241.000000   330.314424   282.780152  385.008668  113.231044  15.132   \n",
       "\n",
       "           Wire 6     Wire 7      Wire 8     Wire 9  \n",
       "count   73.000000  11.000000   19.000000  29.000000  \n",
       "mean    48.016974  10.039007   53.625193  34.155752  \n",
       "std     33.919845   8.610584   16.881728  19.931616  \n",
       "min      0.034320   0.234208   45.076721   4.622800  \n",
       "25%     25.053600   6.762756   46.094879  22.058401  \n",
       "50%     42.076324   9.017009   46.279999  30.066399  \n",
       "75%     64.212723  11.886057   48.089603  43.862003  \n",
       "max    180.454575  32.847674  102.762401  90.053604  "
      ]
     },
     "execution_count": 31,
     "metadata": {},
     "output_type": "execute_result"
    }
   ],
   "source": [
    "data_wire.describe()"
   ]
  },
  {
   "cell_type": "markdown",
   "metadata": {},
   "source": [
    "Ничего подозрительного."
   ]
  },
  {
   "cell_type": "markdown",
   "metadata": {},
   "source": [
    "Таблица полезная. Что можно попробовать использовать?"
   ]
  },
  {
   "cell_type": "markdown",
   "metadata": {},
   "source": [
    "    - признаки, отображающие сколько и чего добавили(т.е. столбцы в исходном виде + с заполненными пропусками),\n",
    "    - суммарное кол-во веществ - по аналогии с таблицей про сыпучие добавки."
   ]
  },
  {
   "cell_type": "markdown",
   "metadata": {},
   "source": [
    "Следующая таблица."
   ]
  },
  {
   "cell_type": "markdown",
   "metadata": {},
   "source": [
    "**Данные о проволочных материалах (время)**"
   ]
  },
  {
   "cell_type": "code",
   "execution_count": 32,
   "metadata": {},
   "outputs": [
    {
     "data": {
      "text/html": [
       "<div>\n",
       "<style scoped>\n",
       "    .dataframe tbody tr th:only-of-type {\n",
       "        vertical-align: middle;\n",
       "    }\n",
       "\n",
       "    .dataframe tbody tr th {\n",
       "        vertical-align: top;\n",
       "    }\n",
       "\n",
       "    .dataframe thead th {\n",
       "        text-align: right;\n",
       "    }\n",
       "</style>\n",
       "<table border=\"1\" class=\"dataframe\">\n",
       "  <thead>\n",
       "    <tr style=\"text-align: right;\">\n",
       "      <th></th>\n",
       "      <th>key</th>\n",
       "      <th>Wire 1</th>\n",
       "      <th>Wire 2</th>\n",
       "      <th>Wire 3</th>\n",
       "      <th>Wire 4</th>\n",
       "      <th>Wire 5</th>\n",
       "      <th>Wire 6</th>\n",
       "      <th>Wire 7</th>\n",
       "      <th>Wire 8</th>\n",
       "      <th>Wire 9</th>\n",
       "    </tr>\n",
       "  </thead>\n",
       "  <tbody>\n",
       "    <tr>\n",
       "      <td>0</td>\n",
       "      <td>1</td>\n",
       "      <td>2019-05-03 11:11:41</td>\n",
       "      <td>NaN</td>\n",
       "      <td>NaN</td>\n",
       "      <td>NaN</td>\n",
       "      <td>NaN</td>\n",
       "      <td>NaN</td>\n",
       "      <td>NaN</td>\n",
       "      <td>NaN</td>\n",
       "      <td>NaN</td>\n",
       "    </tr>\n",
       "    <tr>\n",
       "      <td>1</td>\n",
       "      <td>2</td>\n",
       "      <td>2019-05-03 11:46:10</td>\n",
       "      <td>NaN</td>\n",
       "      <td>NaN</td>\n",
       "      <td>NaN</td>\n",
       "      <td>NaN</td>\n",
       "      <td>NaN</td>\n",
       "      <td>NaN</td>\n",
       "      <td>NaN</td>\n",
       "      <td>NaN</td>\n",
       "    </tr>\n",
       "    <tr>\n",
       "      <td>2</td>\n",
       "      <td>3</td>\n",
       "      <td>2019-05-03 12:13:47</td>\n",
       "      <td>NaN</td>\n",
       "      <td>NaN</td>\n",
       "      <td>NaN</td>\n",
       "      <td>NaN</td>\n",
       "      <td>NaN</td>\n",
       "      <td>NaN</td>\n",
       "      <td>NaN</td>\n",
       "      <td>NaN</td>\n",
       "    </tr>\n",
       "    <tr>\n",
       "      <td>3</td>\n",
       "      <td>4</td>\n",
       "      <td>2019-05-03 12:48:05</td>\n",
       "      <td>NaN</td>\n",
       "      <td>NaN</td>\n",
       "      <td>NaN</td>\n",
       "      <td>NaN</td>\n",
       "      <td>NaN</td>\n",
       "      <td>NaN</td>\n",
       "      <td>NaN</td>\n",
       "      <td>NaN</td>\n",
       "    </tr>\n",
       "    <tr>\n",
       "      <td>4</td>\n",
       "      <td>5</td>\n",
       "      <td>2019-05-03 13:18:15</td>\n",
       "      <td>2019-05-03 13:32:06</td>\n",
       "      <td>NaN</td>\n",
       "      <td>NaN</td>\n",
       "      <td>NaN</td>\n",
       "      <td>NaN</td>\n",
       "      <td>NaN</td>\n",
       "      <td>NaN</td>\n",
       "      <td>NaN</td>\n",
       "    </tr>\n",
       "  </tbody>\n",
       "</table>\n",
       "</div>"
      ],
      "text/plain": [
       "   key               Wire 1               Wire 2 Wire 3 Wire 4 Wire 5 Wire 6  \\\n",
       "0    1  2019-05-03 11:11:41                  NaN    NaN    NaN    NaN    NaN   \n",
       "1    2  2019-05-03 11:46:10                  NaN    NaN    NaN    NaN    NaN   \n",
       "2    3  2019-05-03 12:13:47                  NaN    NaN    NaN    NaN    NaN   \n",
       "3    4  2019-05-03 12:48:05                  NaN    NaN    NaN    NaN    NaN   \n",
       "4    5  2019-05-03 13:18:15  2019-05-03 13:32:06    NaN    NaN    NaN    NaN   \n",
       "\n",
       "  Wire 7 Wire 8 Wire 9  \n",
       "0    NaN    NaN    NaN  \n",
       "1    NaN    NaN    NaN  \n",
       "2    NaN    NaN    NaN  \n",
       "3    NaN    NaN    NaN  \n",
       "4    NaN    NaN    NaN  "
      ]
     },
     "execution_count": 32,
     "metadata": {},
     "output_type": "execute_result"
    }
   ],
   "source": [
    "data_wire_time.head()"
   ]
  },
  {
   "cell_type": "code",
   "execution_count": 33,
   "metadata": {},
   "outputs": [
    {
     "name": "stdout",
     "output_type": "stream",
     "text": [
      "<class 'pandas.core.frame.DataFrame'>\n",
      "RangeIndex: 3081 entries, 0 to 3080\n",
      "Data columns (total 10 columns):\n",
      "key       3081 non-null int64\n",
      "Wire 1    3055 non-null object\n",
      "Wire 2    1079 non-null object\n",
      "Wire 3    63 non-null object\n",
      "Wire 4    14 non-null object\n",
      "Wire 5    1 non-null object\n",
      "Wire 6    73 non-null object\n",
      "Wire 7    11 non-null object\n",
      "Wire 8    19 non-null object\n",
      "Wire 9    29 non-null object\n",
      "dtypes: int64(1), object(9)\n",
      "memory usage: 240.8+ KB\n"
     ]
    }
   ],
   "source": [
    "data_wire_time.info()"
   ]
  },
  {
   "cell_type": "markdown",
   "metadata": {},
   "source": [
    "Опять же - таблица сильно похожа на такую же для сыпучих материалов. Из нее можно попытаться вытащить сочетания примесей, но в целом - особой пользы она не несет. С пропусками здесь справиться легко."
   ]
  },
  {
   "cell_type": "markdown",
   "metadata": {},
   "source": [
    "Следующая и последняя таблица."
   ]
  },
  {
   "cell_type": "markdown",
   "metadata": {},
   "source": [
    "**Результаты измерения температуры**"
   ]
  },
  {
   "cell_type": "code",
   "execution_count": 34,
   "metadata": {},
   "outputs": [
    {
     "name": "stdout",
     "output_type": "stream",
     "text": [
      "<class 'pandas.core.frame.DataFrame'>\n",
      "RangeIndex: 15907 entries, 0 to 15906\n",
      "Data columns (total 3 columns):\n",
      "key             15907 non-null int64\n",
      "Время замера    15907 non-null object\n",
      "Температура     13006 non-null float64\n",
      "dtypes: float64(1), int64(1), object(1)\n",
      "memory usage: 372.9+ KB\n"
     ]
    }
   ],
   "source": [
    "data_temp.info()"
   ]
  },
  {
   "cell_type": "code",
   "execution_count": 35,
   "metadata": {},
   "outputs": [
    {
     "data": {
      "text/html": [
       "<div>\n",
       "<style scoped>\n",
       "    .dataframe tbody tr th:only-of-type {\n",
       "        vertical-align: middle;\n",
       "    }\n",
       "\n",
       "    .dataframe tbody tr th {\n",
       "        vertical-align: top;\n",
       "    }\n",
       "\n",
       "    .dataframe thead th {\n",
       "        text-align: right;\n",
       "    }\n",
       "</style>\n",
       "<table border=\"1\" class=\"dataframe\">\n",
       "  <thead>\n",
       "    <tr style=\"text-align: right;\">\n",
       "      <th></th>\n",
       "      <th>key</th>\n",
       "      <th>Время замера</th>\n",
       "      <th>Температура</th>\n",
       "    </tr>\n",
       "  </thead>\n",
       "  <tbody>\n",
       "    <tr>\n",
       "      <td>0</td>\n",
       "      <td>1</td>\n",
       "      <td>2019-05-03 11:16:18</td>\n",
       "      <td>1571.0</td>\n",
       "    </tr>\n",
       "    <tr>\n",
       "      <td>1</td>\n",
       "      <td>1</td>\n",
       "      <td>2019-05-03 11:25:53</td>\n",
       "      <td>1604.0</td>\n",
       "    </tr>\n",
       "    <tr>\n",
       "      <td>2</td>\n",
       "      <td>1</td>\n",
       "      <td>2019-05-03 11:29:11</td>\n",
       "      <td>1618.0</td>\n",
       "    </tr>\n",
       "    <tr>\n",
       "      <td>3</td>\n",
       "      <td>1</td>\n",
       "      <td>2019-05-03 11:30:01</td>\n",
       "      <td>1601.0</td>\n",
       "    </tr>\n",
       "    <tr>\n",
       "      <td>4</td>\n",
       "      <td>1</td>\n",
       "      <td>2019-05-03 11:30:39</td>\n",
       "      <td>1613.0</td>\n",
       "    </tr>\n",
       "  </tbody>\n",
       "</table>\n",
       "</div>"
      ],
      "text/plain": [
       "   key         Время замера  Температура\n",
       "0    1  2019-05-03 11:16:18       1571.0\n",
       "1    1  2019-05-03 11:25:53       1604.0\n",
       "2    1  2019-05-03 11:29:11       1618.0\n",
       "3    1  2019-05-03 11:30:01       1601.0\n",
       "4    1  2019-05-03 11:30:39       1613.0"
      ]
     },
     "execution_count": 35,
     "metadata": {},
     "output_type": "execute_result"
    }
   ],
   "source": [
    "data_temp.head()"
   ]
  },
  {
   "cell_type": "markdown",
   "metadata": {},
   "source": [
    "В столбце с температурой есть пропуски. Но в любом случае - посмотрим на распределение."
   ]
  },
  {
   "cell_type": "code",
   "execution_count": 36,
   "metadata": {},
   "outputs": [
    {
     "data": {
      "image/png": "[encoded data removed]",
      "text/plain": [
       "<Figure size 432x288 with 1 Axes>"
      ]
     },
     "metadata": {
      "needs_background": "light"
     },
     "output_type": "display_data"
    }
   ],
   "source": [
    "bp(data_temp, 'Температура', 'Диаграмма размаха замеров температуры')"
   ]
  },
  {
   "cell_type": "code",
   "execution_count": 37,
   "metadata": {},
   "outputs": [
    {
     "data": {
      "image/png": "[encoded data removed]",
      "text/plain": [
       "<Figure size 432x288 with 1 Axes>"
      ]
     },
     "metadata": {
      "needs_background": "light"
     },
     "output_type": "display_data"
    }
   ],
   "source": [
    "hp(data_temp, 'Температура', 'Температура', 'Распределение температуры')"
   ]
  },
  {
   "cell_type": "markdown",
   "metadata": {},
   "source": [
    "Очень интересная ситуация с температурой - размах значений очень большой. Многие измерение помечены вообще как выбросы. Также - на каждую партию по несколько измерений, очевидно, на разных этапах."
   ]
  },
  {
   "cell_type": "markdown",
   "metadata": {},
   "source": [
    "Судьба этой таблицы зависит от того, какую же температуру требуется предсказывать в итоге. Если финальную, то многие значения будут удалены и, весьма вероятно, распределение сильно поправится + станет поменьше пропусков. "
   ]
  },
  {
   "cell_type": "markdown",
   "metadata": {},
   "source": [
    "Признак времени измерение потребуется лишь для того, чтобы оставить лишь последнее измерение (если нужно действительно лишь последнее измерение)."
   ]
  },
  {
   "cell_type": "markdown",
   "metadata": {},
   "source": [
    "Что можно сказать по исследовательскому анализу данных в целом?"
   ]
  },
  {
   "cell_type": "markdown",
   "metadata": {},
   "source": [
    "**Вывод по Шагу 1**: итак, мы изучили все 7 таблиц, построили графики, просмотрели общую информацию. В общем и целом данные выглядят пригодными для построения качественной модели - многие пропуски выглядят простыми для устранения, признаки - информативными, некоторые из них обладают потенциалом для генерации новых признаков. Но есть и бесполезные, но их куда меньше. Аномалии присутствуют, одна - совсем грубая (возможно, это даже просто некорректное значение) уже удалена. Траектория работы с остальными зависит от того, нужно ли работать с данными по партиями (в случае предсказания конечно температуры) или же нужно предсказывать температуру после некоторого набора операций (например, нагрели + насыпали bulk 12 => получили определенную температуру), потому что партий всего около трех тысяч (мало!). "
   ]
  },
  {
   "cell_type": "markdown",
   "metadata": {},
   "source": [
    "<h3>Шаг 2: Подготовка признаков</h3>"
   ]
  },
  {
   "cell_type": "markdown",
   "metadata": {},
   "source": [
    "Итак, теперь необходимо собрать таблицу для обучения. Она должна позволять построить качественную модель, а также не иметь пропусков."
   ]
  },
  {
   "cell_type": "markdown",
   "metadata": {},
   "source": [
    "Как известно, предсказывать мы будем по партиям."
   ]
  },
  {
   "cell_type": "markdown",
   "metadata": {},
   "source": [
    "Будем поддерживать массив с номерами партий, которые мы не будем использовать. Так, уже есть одна - в ней некорректно замерили мощность."
   ]
  },
  {
   "cell_type": "code",
   "execution_count": 38,
   "metadata": {},
   "outputs": [],
   "source": [
    "bad_samples = [2116]"
   ]
  },
  {
   "cell_type": "markdown",
   "metadata": {},
   "source": [
    "Начнем с таблицы с результатами измерений."
   ]
  },
  {
   "cell_type": "markdown",
   "metadata": {},
   "source": [
    "**Результаты измерения температуры**"
   ]
  },
  {
   "cell_type": "markdown",
   "metadata": {},
   "source": [
    "Итак, вспомним, там у нас время замера, результат и номер партии. Хотелось бы использовать первый замер температуры как признак - это стартовая точка, она оказывает влияние на результат. Отсюда вытекает - мы не можем использовать партии, в которых замер происходил 1 раз. "
   ]
  },
  {
   "cell_type": "markdown",
   "metadata": {},
   "source": [
    "Сгруппируем. Пропуски заполнять не будем - так мы отловим партии с одним замером."
   ]
  },
  {
   "cell_type": "code",
   "execution_count": 39,
   "metadata": {},
   "outputs": [],
   "source": [
    "num_of_meas = data_temp.groupby('key')['Температура'].count()"
   ]
  },
  {
   "cell_type": "code",
   "execution_count": 40,
   "metadata": {},
   "outputs": [
    {
     "data": {
      "text/plain": [
       "'Кол-во негодных партий: 741, это 23.04% от общего числа'"
      ]
     },
     "execution_count": 40,
     "metadata": {},
     "output_type": "execute_result"
    }
   ],
   "source": [
    "'Кол-во негодных партий: {}, это {:.2%} от общего числа'.format(len(num_of_meas[num_of_meas < 2]), len(num_of_meas[num_of_meas < 2]) / len(num_of_meas))"
   ]
  },
  {
   "cell_type": "markdown",
   "metadata": {},
   "source": [
    "Придется удалять большой процент данных. Как известно, сталь плавится при температуре от 1450 до 1520, то есть - она могла попасть в ковш обладая любой из этих температур + диапазон температур выше (мало ли, перегрели). Слишком большая неопределенность создается, если не брать начальную температуру."
   ]
  },
  {
   "cell_type": "code",
   "execution_count": 41,
   "metadata": {},
   "outputs": [],
   "source": [
    "one_meas = num_of_meas[num_of_meas<2].index\n",
    "bad_samples.extend(list(one_meas))"
   ]
  },
  {
   "cell_type": "markdown",
   "metadata": {},
   "source": [
    "Для каждой партии сохраним результаты первого и последнего измерения, а также даты этих замеров, чтоб исключить операции над субстанцией до первого замера и после последнего."
   ]
  },
  {
   "cell_type": "code",
   "execution_count": 42,
   "metadata": {},
   "outputs": [],
   "source": [
    "data = data_temp.groupby('key').agg({'Температура':['first', 'last'], 'Время замера':['first', 'last']})"
   ]
  },
  {
   "cell_type": "code",
   "execution_count": 43,
   "metadata": {},
   "outputs": [
    {
     "data": {
      "text/html": [
       "<div>\n",
       "<style scoped>\n",
       "    .dataframe tbody tr th:only-of-type {\n",
       "        vertical-align: middle;\n",
       "    }\n",
       "\n",
       "    .dataframe tbody tr th {\n",
       "        vertical-align: top;\n",
       "    }\n",
       "\n",
       "    .dataframe thead tr th {\n",
       "        text-align: left;\n",
       "    }\n",
       "\n",
       "    .dataframe thead tr:last-of-type th {\n",
       "        text-align: right;\n",
       "    }\n",
       "</style>\n",
       "<table border=\"1\" class=\"dataframe\">\n",
       "  <thead>\n",
       "    <tr>\n",
       "      <th></th>\n",
       "      <th colspan=\"2\" halign=\"left\">Температура</th>\n",
       "      <th colspan=\"2\" halign=\"left\">Время замера</th>\n",
       "    </tr>\n",
       "    <tr>\n",
       "      <th></th>\n",
       "      <th>first</th>\n",
       "      <th>last</th>\n",
       "      <th>first</th>\n",
       "      <th>last</th>\n",
       "    </tr>\n",
       "    <tr>\n",
       "      <th>key</th>\n",
       "      <th></th>\n",
       "      <th></th>\n",
       "      <th></th>\n",
       "      <th></th>\n",
       "    </tr>\n",
       "  </thead>\n",
       "  <tbody>\n",
       "    <tr>\n",
       "      <td>1</td>\n",
       "      <td>1571.0</td>\n",
       "      <td>1613.0</td>\n",
       "      <td>2019-05-03 11:16:18</td>\n",
       "      <td>2019-05-03 11:30:39</td>\n",
       "    </tr>\n",
       "    <tr>\n",
       "      <td>2</td>\n",
       "      <td>1581.0</td>\n",
       "      <td>1602.0</td>\n",
       "      <td>2019-05-03 11:37:27</td>\n",
       "      <td>2019-05-03 11:59:12</td>\n",
       "    </tr>\n",
       "    <tr>\n",
       "      <td>3</td>\n",
       "      <td>1596.0</td>\n",
       "      <td>1599.0</td>\n",
       "      <td>2019-05-03 12:13:17</td>\n",
       "      <td>2019-05-03 12:34:57</td>\n",
       "    </tr>\n",
       "    <tr>\n",
       "      <td>4</td>\n",
       "      <td>1601.0</td>\n",
       "      <td>1625.0</td>\n",
       "      <td>2019-05-03 12:52:57</td>\n",
       "      <td>2019-05-03 12:59:25</td>\n",
       "    </tr>\n",
       "    <tr>\n",
       "      <td>5</td>\n",
       "      <td>1576.0</td>\n",
       "      <td>1602.0</td>\n",
       "      <td>2019-05-03 13:23:19</td>\n",
       "      <td>2019-05-03 13:36:01</td>\n",
       "    </tr>\n",
       "  </tbody>\n",
       "</table>\n",
       "</div>"
      ],
      "text/plain": [
       "    Температура                 Время замера                     \n",
       "          first    last                first                 last\n",
       "key                                                              \n",
       "1        1571.0  1613.0  2019-05-03 11:16:18  2019-05-03 11:30:39\n",
       "2        1581.0  1602.0  2019-05-03 11:37:27  2019-05-03 11:59:12\n",
       "3        1596.0  1599.0  2019-05-03 12:13:17  2019-05-03 12:34:57\n",
       "4        1601.0  1625.0  2019-05-03 12:52:57  2019-05-03 12:59:25\n",
       "5        1576.0  1602.0  2019-05-03 13:23:19  2019-05-03 13:36:01"
      ]
     },
     "execution_count": 43,
     "metadata": {},
     "output_type": "execute_result"
    }
   ],
   "source": [
    "data.head()"
   ]
  },
  {
   "cell_type": "markdown",
   "metadata": {},
   "source": [
    "Удалим негодные партии."
   ]
  },
  {
   "cell_type": "code",
   "execution_count": 44,
   "metadata": {},
   "outputs": [],
   "source": [
    "data = data.drop(index=bad_samples)"
   ]
  },
  {
   "cell_type": "code",
   "execution_count": 45,
   "metadata": {},
   "outputs": [
    {
     "name": "stdout",
     "output_type": "stream",
     "text": [
      "<class 'pandas.core.frame.DataFrame'>\n",
      "Int64Index: 2474 entries, 1 to 2499\n",
      "Data columns (total 4 columns):\n",
      "(Температура, first)     2474 non-null float64\n",
      "(Температура, last)      2474 non-null float64\n",
      "(Время замера, first)    2474 non-null object\n",
      "(Время замера, last)     2474 non-null object\n",
      "dtypes: float64(2), object(2)\n",
      "memory usage: 96.6+ KB\n"
     ]
    }
   ],
   "source": [
    "data.info()"
   ]
  },
  {
   "cell_type": "markdown",
   "metadata": {},
   "source": [
    "Поменяем названия столбцов и поправим типы данных."
   ]
  },
  {
   "cell_type": "code",
   "execution_count": 46,
   "metadata": {},
   "outputs": [
    {
     "name": "stderr",
     "output_type": "stream",
     "text": [
      "C:\\Users\\Acer\\anaconda3\\envs\\practicum\\lib\\site-packages\\ipykernel_launcher.py:1: FutureWarning: set_axis currently defaults to operating inplace.\n",
      "This will change in a future version of pandas, use inplace=True to avoid this warning.\n",
      "  \"\"\"Entry point for launching an IPython kernel.\n"
     ]
    }
   ],
   "source": [
    "data.set_axis(['temp_before', 'temp_after', 'time_before', 'time_after'], axis='columns')"
   ]
  },
  {
   "cell_type": "code",
   "execution_count": 47,
   "metadata": {},
   "outputs": [],
   "source": [
    "data['time_before'] = pd.to_datetime(data['time_before'])\n",
    "data['time_after'] = pd.to_datetime(data['time_after'])"
   ]
  },
  {
   "cell_type": "code",
   "execution_count": 48,
   "metadata": {},
   "outputs": [
    {
     "data": {
      "text/html": [
       "<div>\n",
       "<style scoped>\n",
       "    .dataframe tbody tr th:only-of-type {\n",
       "        vertical-align: middle;\n",
       "    }\n",
       "\n",
       "    .dataframe tbody tr th {\n",
       "        vertical-align: top;\n",
       "    }\n",
       "\n",
       "    .dataframe thead th {\n",
       "        text-align: right;\n",
       "    }\n",
       "</style>\n",
       "<table border=\"1\" class=\"dataframe\">\n",
       "  <thead>\n",
       "    <tr style=\"text-align: right;\">\n",
       "      <th></th>\n",
       "      <th>temp_before</th>\n",
       "      <th>temp_after</th>\n",
       "      <th>time_before</th>\n",
       "      <th>time_after</th>\n",
       "    </tr>\n",
       "    <tr>\n",
       "      <th>key</th>\n",
       "      <th></th>\n",
       "      <th></th>\n",
       "      <th></th>\n",
       "      <th></th>\n",
       "    </tr>\n",
       "  </thead>\n",
       "  <tbody>\n",
       "    <tr>\n",
       "      <td>1</td>\n",
       "      <td>1571.0</td>\n",
       "      <td>1613.0</td>\n",
       "      <td>2019-05-03 11:16:18</td>\n",
       "      <td>2019-05-03 11:30:39</td>\n",
       "    </tr>\n",
       "    <tr>\n",
       "      <td>2</td>\n",
       "      <td>1581.0</td>\n",
       "      <td>1602.0</td>\n",
       "      <td>2019-05-03 11:37:27</td>\n",
       "      <td>2019-05-03 11:59:12</td>\n",
       "    </tr>\n",
       "    <tr>\n",
       "      <td>3</td>\n",
       "      <td>1596.0</td>\n",
       "      <td>1599.0</td>\n",
       "      <td>2019-05-03 12:13:17</td>\n",
       "      <td>2019-05-03 12:34:57</td>\n",
       "    </tr>\n",
       "    <tr>\n",
       "      <td>4</td>\n",
       "      <td>1601.0</td>\n",
       "      <td>1625.0</td>\n",
       "      <td>2019-05-03 12:52:57</td>\n",
       "      <td>2019-05-03 12:59:25</td>\n",
       "    </tr>\n",
       "    <tr>\n",
       "      <td>5</td>\n",
       "      <td>1576.0</td>\n",
       "      <td>1602.0</td>\n",
       "      <td>2019-05-03 13:23:19</td>\n",
       "      <td>2019-05-03 13:36:01</td>\n",
       "    </tr>\n",
       "  </tbody>\n",
       "</table>\n",
       "</div>"
      ],
      "text/plain": [
       "     temp_before  temp_after         time_before          time_after\n",
       "key                                                                 \n",
       "1         1571.0      1613.0 2019-05-03 11:16:18 2019-05-03 11:30:39\n",
       "2         1581.0      1602.0 2019-05-03 11:37:27 2019-05-03 11:59:12\n",
       "3         1596.0      1599.0 2019-05-03 12:13:17 2019-05-03 12:34:57\n",
       "4         1601.0      1625.0 2019-05-03 12:52:57 2019-05-03 12:59:25\n",
       "5         1576.0      1602.0 2019-05-03 13:23:19 2019-05-03 13:36:01"
      ]
     },
     "execution_count": 48,
     "metadata": {},
     "output_type": "execute_result"
    }
   ],
   "source": [
    "data.head()"
   ]
  },
  {
   "cell_type": "code",
   "execution_count": 49,
   "metadata": {},
   "outputs": [
    {
     "name": "stdout",
     "output_type": "stream",
     "text": [
      "<class 'pandas.core.frame.DataFrame'>\n",
      "Int64Index: 2474 entries, 1 to 2499\n",
      "Data columns (total 4 columns):\n",
      "temp_before    2474 non-null float64\n",
      "temp_after     2474 non-null float64\n",
      "time_before    2474 non-null datetime64[ns]\n",
      "time_after     2474 non-null datetime64[ns]\n",
      "dtypes: datetime64[ns](2), float64(2)\n",
      "memory usage: 96.6 KB\n"
     ]
    }
   ],
   "source": [
    "data.info()"
   ]
  },
  {
   "cell_type": "markdown",
   "metadata": {},
   "source": [
    "В индексе номер партии, это нас устроит."
   ]
  },
  {
   "cell_type": "markdown",
   "metadata": {},
   "source": [
    "Разберемся со следующими таблицами."
   ]
  },
  {
   "cell_type": "markdown",
   "metadata": {},
   "source": [
    "**Данные о подаче сыпучих материалов**"
   ]
  },
  {
   "cell_type": "markdown",
   "metadata": {},
   "source": [
    "У нас информация по количеству подачи и по времени подачи."
   ]
  },
  {
   "cell_type": "markdown",
   "metadata": {},
   "source": [
    "Сохраним только те добавки, которые были совершены между изначальным и конечным замером температуры."
   ]
  },
  {
   "cell_type": "code",
   "execution_count": 50,
   "metadata": {},
   "outputs": [],
   "source": [
    "bulks = data_bulk_time.columns[1:]"
   ]
  },
  {
   "cell_type": "code",
   "execution_count": 51,
   "metadata": {},
   "outputs": [],
   "source": [
    "for i in bulks:\n",
    "    data_bulk_time[i] = pd.to_datetime(data_bulk_time[i])"
   ]
  },
  {
   "cell_type": "code",
   "execution_count": 52,
   "metadata": {},
   "outputs": [],
   "source": [
    "for i in data.index:\n",
    "    start = data.loc[i, 'time_before']\n",
    "    end = data.loc[i, 'time_after']\n",
    "    str_to_w = data_bulk_time[data_bulk_time.key == i]\n",
    "    if len(str_to_w) == 0:\n",
    "        continue\n",
    "    else:\n",
    "        for j in bulks:\n",
    "            if (str_to_w[j] > end).reset_index(drop=True)[0] or (\n",
    "                str_to_w[j] < start).reset_index(drop=True)[0]:\n",
    "                ind = data_bulk[data_bulk.key == i].index\n",
    "                data_bulk.loc[ind, j] =  np.nan"
   ]
  },
  {
   "cell_type": "markdown",
   "metadata": {},
   "source": [
    "Таблица со временем больше не пригодится. А в таблице с количествои заменим пропуски на нули."
   ]
  },
  {
   "cell_type": "code",
   "execution_count": 53,
   "metadata": {},
   "outputs": [],
   "source": [
    "data_bulk = data_bulk.fillna(0)"
   ]
  },
  {
   "cell_type": "markdown",
   "metadata": {},
   "source": [
    "Соединим таблицы."
   ]
  },
  {
   "cell_type": "code",
   "execution_count": 54,
   "metadata": {
    "scrolled": true
   },
   "outputs": [
    {
     "data": {
      "text/html": [
       "<div>\n",
       "<style scoped>\n",
       "    .dataframe tbody tr th:only-of-type {\n",
       "        vertical-align: middle;\n",
       "    }\n",
       "\n",
       "    .dataframe tbody tr th {\n",
       "        vertical-align: top;\n",
       "    }\n",
       "\n",
       "    .dataframe thead th {\n",
       "        text-align: right;\n",
       "    }\n",
       "</style>\n",
       "<table border=\"1\" class=\"dataframe\">\n",
       "  <thead>\n",
       "    <tr style=\"text-align: right;\">\n",
       "      <th></th>\n",
       "      <th>temp_before</th>\n",
       "      <th>temp_after</th>\n",
       "      <th>time_before</th>\n",
       "      <th>time_after</th>\n",
       "      <th>Bulk 1</th>\n",
       "      <th>Bulk 2</th>\n",
       "      <th>Bulk 3</th>\n",
       "      <th>Bulk 4</th>\n",
       "      <th>Bulk 5</th>\n",
       "      <th>Bulk 6</th>\n",
       "      <th>Bulk 7</th>\n",
       "      <th>Bulk 8</th>\n",
       "      <th>Bulk 9</th>\n",
       "      <th>Bulk 10</th>\n",
       "      <th>Bulk 11</th>\n",
       "      <th>Bulk 12</th>\n",
       "      <th>Bulk 13</th>\n",
       "      <th>Bulk 14</th>\n",
       "      <th>Bulk 15</th>\n",
       "    </tr>\n",
       "    <tr>\n",
       "      <th>key</th>\n",
       "      <th></th>\n",
       "      <th></th>\n",
       "      <th></th>\n",
       "      <th></th>\n",
       "      <th></th>\n",
       "      <th></th>\n",
       "      <th></th>\n",
       "      <th></th>\n",
       "      <th></th>\n",
       "      <th></th>\n",
       "      <th></th>\n",
       "      <th></th>\n",
       "      <th></th>\n",
       "      <th></th>\n",
       "      <th></th>\n",
       "      <th></th>\n",
       "      <th></th>\n",
       "      <th></th>\n",
       "      <th></th>\n",
       "    </tr>\n",
       "  </thead>\n",
       "  <tbody>\n",
       "    <tr>\n",
       "      <td>1</td>\n",
       "      <td>1571.0</td>\n",
       "      <td>1613.0</td>\n",
       "      <td>2019-05-03 11:16:18</td>\n",
       "      <td>2019-05-03 11:30:39</td>\n",
       "      <td>0.0</td>\n",
       "      <td>0.0</td>\n",
       "      <td>0.0</td>\n",
       "      <td>43.0</td>\n",
       "      <td>0.0</td>\n",
       "      <td>0.0</td>\n",
       "      <td>0.0</td>\n",
       "      <td>0.0</td>\n",
       "      <td>0.0</td>\n",
       "      <td>0.0</td>\n",
       "      <td>0.0</td>\n",
       "      <td>0.0</td>\n",
       "      <td>0.0</td>\n",
       "      <td>0.0</td>\n",
       "      <td>0.0</td>\n",
       "    </tr>\n",
       "    <tr>\n",
       "      <td>2</td>\n",
       "      <td>1581.0</td>\n",
       "      <td>1602.0</td>\n",
       "      <td>2019-05-03 11:37:27</td>\n",
       "      <td>2019-05-03 11:59:12</td>\n",
       "      <td>0.0</td>\n",
       "      <td>0.0</td>\n",
       "      <td>0.0</td>\n",
       "      <td>73.0</td>\n",
       "      <td>0.0</td>\n",
       "      <td>0.0</td>\n",
       "      <td>0.0</td>\n",
       "      <td>0.0</td>\n",
       "      <td>0.0</td>\n",
       "      <td>0.0</td>\n",
       "      <td>0.0</td>\n",
       "      <td>206.0</td>\n",
       "      <td>0.0</td>\n",
       "      <td>149.0</td>\n",
       "      <td>154.0</td>\n",
       "    </tr>\n",
       "    <tr>\n",
       "      <td>3</td>\n",
       "      <td>1596.0</td>\n",
       "      <td>1599.0</td>\n",
       "      <td>2019-05-03 12:13:17</td>\n",
       "      <td>2019-05-03 12:34:57</td>\n",
       "      <td>0.0</td>\n",
       "      <td>0.0</td>\n",
       "      <td>0.0</td>\n",
       "      <td>34.0</td>\n",
       "      <td>0.0</td>\n",
       "      <td>0.0</td>\n",
       "      <td>0.0</td>\n",
       "      <td>0.0</td>\n",
       "      <td>0.0</td>\n",
       "      <td>0.0</td>\n",
       "      <td>0.0</td>\n",
       "      <td>0.0</td>\n",
       "      <td>0.0</td>\n",
       "      <td>0.0</td>\n",
       "      <td>0.0</td>\n",
       "    </tr>\n",
       "    <tr>\n",
       "      <td>4</td>\n",
       "      <td>1601.0</td>\n",
       "      <td>1625.0</td>\n",
       "      <td>2019-05-03 12:52:57</td>\n",
       "      <td>2019-05-03 12:59:25</td>\n",
       "      <td>0.0</td>\n",
       "      <td>0.0</td>\n",
       "      <td>0.0</td>\n",
       "      <td>0.0</td>\n",
       "      <td>0.0</td>\n",
       "      <td>0.0</td>\n",
       "      <td>0.0</td>\n",
       "      <td>0.0</td>\n",
       "      <td>0.0</td>\n",
       "      <td>0.0</td>\n",
       "      <td>0.0</td>\n",
       "      <td>0.0</td>\n",
       "      <td>0.0</td>\n",
       "      <td>0.0</td>\n",
       "      <td>0.0</td>\n",
       "    </tr>\n",
       "    <tr>\n",
       "      <td>5</td>\n",
       "      <td>1576.0</td>\n",
       "      <td>1602.0</td>\n",
       "      <td>2019-05-03 13:23:19</td>\n",
       "      <td>2019-05-03 13:36:01</td>\n",
       "      <td>0.0</td>\n",
       "      <td>0.0</td>\n",
       "      <td>0.0</td>\n",
       "      <td>0.0</td>\n",
       "      <td>0.0</td>\n",
       "      <td>0.0</td>\n",
       "      <td>0.0</td>\n",
       "      <td>0.0</td>\n",
       "      <td>0.0</td>\n",
       "      <td>0.0</td>\n",
       "      <td>0.0</td>\n",
       "      <td>0.0</td>\n",
       "      <td>0.0</td>\n",
       "      <td>0.0</td>\n",
       "      <td>0.0</td>\n",
       "    </tr>\n",
       "  </tbody>\n",
       "</table>\n",
       "</div>"
      ],
      "text/plain": [
       "     temp_before  temp_after         time_before          time_after  Bulk 1  \\\n",
       "key                                                                            \n",
       "1         1571.0      1613.0 2019-05-03 11:16:18 2019-05-03 11:30:39     0.0   \n",
       "2         1581.0      1602.0 2019-05-03 11:37:27 2019-05-03 11:59:12     0.0   \n",
       "3         1596.0      1599.0 2019-05-03 12:13:17 2019-05-03 12:34:57     0.0   \n",
       "4         1601.0      1625.0 2019-05-03 12:52:57 2019-05-03 12:59:25     0.0   \n",
       "5         1576.0      1602.0 2019-05-03 13:23:19 2019-05-03 13:36:01     0.0   \n",
       "\n",
       "     Bulk 2  Bulk 3  Bulk 4  Bulk 5  Bulk 6  Bulk 7  Bulk 8  Bulk 9  Bulk 10  \\\n",
       "key                                                                            \n",
       "1       0.0     0.0    43.0     0.0     0.0     0.0     0.0     0.0      0.0   \n",
       "2       0.0     0.0    73.0     0.0     0.0     0.0     0.0     0.0      0.0   \n",
       "3       0.0     0.0    34.0     0.0     0.0     0.0     0.0     0.0      0.0   \n",
       "4       0.0     0.0     0.0     0.0     0.0     0.0     0.0     0.0      0.0   \n",
       "5       0.0     0.0     0.0     0.0     0.0     0.0     0.0     0.0      0.0   \n",
       "\n",
       "     Bulk 11  Bulk 12  Bulk 13  Bulk 14  Bulk 15  \n",
       "key                                               \n",
       "1        0.0      0.0      0.0      0.0      0.0  \n",
       "2        0.0    206.0      0.0    149.0    154.0  \n",
       "3        0.0      0.0      0.0      0.0      0.0  \n",
       "4        0.0      0.0      0.0      0.0      0.0  \n",
       "5        0.0      0.0      0.0      0.0      0.0  "
      ]
     },
     "execution_count": 54,
     "metadata": {},
     "output_type": "execute_result"
    }
   ],
   "source": [
    "data = data.join(data_bulk.set_index('key'))\n",
    "data.head()"
   ]
  },
  {
   "cell_type": "code",
   "execution_count": 55,
   "metadata": {},
   "outputs": [
    {
     "name": "stdout",
     "output_type": "stream",
     "text": [
      "<class 'pandas.core.frame.DataFrame'>\n",
      "Int64Index: 2474 entries, 1 to 2499\n",
      "Data columns (total 19 columns):\n",
      "temp_before    2474 non-null float64\n",
      "temp_after     2474 non-null float64\n",
      "time_before    2474 non-null datetime64[ns]\n",
      "time_after     2474 non-null datetime64[ns]\n",
      "Bulk 1         2406 non-null float64\n",
      "Bulk 2         2406 non-null float64\n",
      "Bulk 3         2406 non-null float64\n",
      "Bulk 4         2406 non-null float64\n",
      "Bulk 5         2406 non-null float64\n",
      "Bulk 6         2406 non-null float64\n",
      "Bulk 7         2406 non-null float64\n",
      "Bulk 8         2406 non-null float64\n",
      "Bulk 9         2406 non-null float64\n",
      "Bulk 10        2406 non-null float64\n",
      "Bulk 11        2406 non-null float64\n",
      "Bulk 12        2406 non-null float64\n",
      "Bulk 13        2406 non-null float64\n",
      "Bulk 14        2406 non-null float64\n",
      "Bulk 15        2406 non-null float64\n",
      "dtypes: datetime64[ns](2), float64(17)\n",
      "memory usage: 466.6 KB\n"
     ]
    }
   ],
   "source": [
    "data.info()"
   ]
  },
  {
   "cell_type": "markdown",
   "metadata": {},
   "source": [
    "Партии, для которых нет информации о добавках, придется удалить."
   ]
  },
  {
   "cell_type": "code",
   "execution_count": 56,
   "metadata": {},
   "outputs": [],
   "source": [
    "data = data.dropna()"
   ]
  },
  {
   "cell_type": "markdown",
   "metadata": {},
   "source": [
    "Перейдем к следующей таблице."
   ]
  },
  {
   "cell_type": "markdown",
   "metadata": {},
   "source": [
    "**Данные о подаче материалов через проволоку**"
   ]
  },
  {
   "cell_type": "markdown",
   "metadata": {},
   "source": [
    "Проведем действия, аналогичные предыдущему этапу, только для другого рода материалов."
   ]
  },
  {
   "cell_type": "code",
   "execution_count": 57,
   "metadata": {},
   "outputs": [],
   "source": [
    "wires = data_wire_time.columns[1:]\n",
    "for i in wires:\n",
    "    data_wire_time[i] = pd.to_datetime(data_wire_time[i])"
   ]
  },
  {
   "cell_type": "code",
   "execution_count": 58,
   "metadata": {},
   "outputs": [],
   "source": [
    "for i in data.index:\n",
    "    start = data.loc[i, 'time_before']\n",
    "    end = data.loc[i, 'time_after']\n",
    "    str_to_w = data_wire_time[data_wire_time.key == i]\n",
    "    if len(str_to_w) == 0:\n",
    "        continue\n",
    "    else:\n",
    "        for j in wires:\n",
    "            if (str_to_w[j] > end).reset_index(drop=True)[0] or (\n",
    "                str_to_w[j] < start).reset_index(drop=True)[0]:\n",
    "                ind = data_wire[data_wire.key == i].index\n",
    "                data_wire.loc[ind, j] =  np.nan"
   ]
  },
  {
   "cell_type": "markdown",
   "metadata": {},
   "source": [
    "Заменяем пропуски, соединяем."
   ]
  },
  {
   "cell_type": "code",
   "execution_count": 59,
   "metadata": {},
   "outputs": [
    {
     "data": {
      "text/html": [
       "<div>\n",
       "<style scoped>\n",
       "    .dataframe tbody tr th:only-of-type {\n",
       "        vertical-align: middle;\n",
       "    }\n",
       "\n",
       "    .dataframe tbody tr th {\n",
       "        vertical-align: top;\n",
       "    }\n",
       "\n",
       "    .dataframe thead th {\n",
       "        text-align: right;\n",
       "    }\n",
       "</style>\n",
       "<table border=\"1\" class=\"dataframe\">\n",
       "  <thead>\n",
       "    <tr style=\"text-align: right;\">\n",
       "      <th></th>\n",
       "      <th>temp_before</th>\n",
       "      <th>temp_after</th>\n",
       "      <th>time_before</th>\n",
       "      <th>time_after</th>\n",
       "      <th>Bulk 1</th>\n",
       "      <th>Bulk 2</th>\n",
       "      <th>Bulk 3</th>\n",
       "      <th>Bulk 4</th>\n",
       "      <th>Bulk 5</th>\n",
       "      <th>Bulk 6</th>\n",
       "      <th>...</th>\n",
       "      <th>Bulk 15</th>\n",
       "      <th>Wire 1</th>\n",
       "      <th>Wire 2</th>\n",
       "      <th>Wire 3</th>\n",
       "      <th>Wire 4</th>\n",
       "      <th>Wire 5</th>\n",
       "      <th>Wire 6</th>\n",
       "      <th>Wire 7</th>\n",
       "      <th>Wire 8</th>\n",
       "      <th>Wire 9</th>\n",
       "    </tr>\n",
       "    <tr>\n",
       "      <th>key</th>\n",
       "      <th></th>\n",
       "      <th></th>\n",
       "      <th></th>\n",
       "      <th></th>\n",
       "      <th></th>\n",
       "      <th></th>\n",
       "      <th></th>\n",
       "      <th></th>\n",
       "      <th></th>\n",
       "      <th></th>\n",
       "      <th></th>\n",
       "      <th></th>\n",
       "      <th></th>\n",
       "      <th></th>\n",
       "      <th></th>\n",
       "      <th></th>\n",
       "      <th></th>\n",
       "      <th></th>\n",
       "      <th></th>\n",
       "      <th></th>\n",
       "      <th></th>\n",
       "    </tr>\n",
       "  </thead>\n",
       "  <tbody>\n",
       "    <tr>\n",
       "      <td>1</td>\n",
       "      <td>1571.0</td>\n",
       "      <td>1613.0</td>\n",
       "      <td>2019-05-03 11:16:18</td>\n",
       "      <td>2019-05-03 11:30:39</td>\n",
       "      <td>0.0</td>\n",
       "      <td>0.0</td>\n",
       "      <td>0.0</td>\n",
       "      <td>43.0</td>\n",
       "      <td>0.0</td>\n",
       "      <td>0.0</td>\n",
       "      <td>...</td>\n",
       "      <td>0.0</td>\n",
       "      <td>0.000000</td>\n",
       "      <td>0.00000</td>\n",
       "      <td>0.0</td>\n",
       "      <td>0.0</td>\n",
       "      <td>0.0</td>\n",
       "      <td>0.0</td>\n",
       "      <td>0.0</td>\n",
       "      <td>0.0</td>\n",
       "      <td>0.0</td>\n",
       "    </tr>\n",
       "    <tr>\n",
       "      <td>2</td>\n",
       "      <td>1581.0</td>\n",
       "      <td>1602.0</td>\n",
       "      <td>2019-05-03 11:37:27</td>\n",
       "      <td>2019-05-03 11:59:12</td>\n",
       "      <td>0.0</td>\n",
       "      <td>0.0</td>\n",
       "      <td>0.0</td>\n",
       "      <td>73.0</td>\n",
       "      <td>0.0</td>\n",
       "      <td>0.0</td>\n",
       "      <td>...</td>\n",
       "      <td>154.0</td>\n",
       "      <td>96.052315</td>\n",
       "      <td>0.00000</td>\n",
       "      <td>0.0</td>\n",
       "      <td>0.0</td>\n",
       "      <td>0.0</td>\n",
       "      <td>0.0</td>\n",
       "      <td>0.0</td>\n",
       "      <td>0.0</td>\n",
       "      <td>0.0</td>\n",
       "    </tr>\n",
       "    <tr>\n",
       "      <td>3</td>\n",
       "      <td>1596.0</td>\n",
       "      <td>1599.0</td>\n",
       "      <td>2019-05-03 12:13:17</td>\n",
       "      <td>2019-05-03 12:34:57</td>\n",
       "      <td>0.0</td>\n",
       "      <td>0.0</td>\n",
       "      <td>0.0</td>\n",
       "      <td>34.0</td>\n",
       "      <td>0.0</td>\n",
       "      <td>0.0</td>\n",
       "      <td>...</td>\n",
       "      <td>0.0</td>\n",
       "      <td>91.160157</td>\n",
       "      <td>0.00000</td>\n",
       "      <td>0.0</td>\n",
       "      <td>0.0</td>\n",
       "      <td>0.0</td>\n",
       "      <td>0.0</td>\n",
       "      <td>0.0</td>\n",
       "      <td>0.0</td>\n",
       "      <td>0.0</td>\n",
       "    </tr>\n",
       "    <tr>\n",
       "      <td>4</td>\n",
       "      <td>1601.0</td>\n",
       "      <td>1625.0</td>\n",
       "      <td>2019-05-03 12:52:57</td>\n",
       "      <td>2019-05-03 12:59:25</td>\n",
       "      <td>0.0</td>\n",
       "      <td>0.0</td>\n",
       "      <td>0.0</td>\n",
       "      <td>0.0</td>\n",
       "      <td>0.0</td>\n",
       "      <td>0.0</td>\n",
       "      <td>...</td>\n",
       "      <td>0.0</td>\n",
       "      <td>0.000000</td>\n",
       "      <td>0.00000</td>\n",
       "      <td>0.0</td>\n",
       "      <td>0.0</td>\n",
       "      <td>0.0</td>\n",
       "      <td>0.0</td>\n",
       "      <td>0.0</td>\n",
       "      <td>0.0</td>\n",
       "      <td>0.0</td>\n",
       "    </tr>\n",
       "    <tr>\n",
       "      <td>5</td>\n",
       "      <td>1576.0</td>\n",
       "      <td>1602.0</td>\n",
       "      <td>2019-05-03 13:23:19</td>\n",
       "      <td>2019-05-03 13:36:01</td>\n",
       "      <td>0.0</td>\n",
       "      <td>0.0</td>\n",
       "      <td>0.0</td>\n",
       "      <td>0.0</td>\n",
       "      <td>0.0</td>\n",
       "      <td>0.0</td>\n",
       "      <td>...</td>\n",
       "      <td>0.0</td>\n",
       "      <td>0.000000</td>\n",
       "      <td>9.11456</td>\n",
       "      <td>0.0</td>\n",
       "      <td>0.0</td>\n",
       "      <td>0.0</td>\n",
       "      <td>0.0</td>\n",
       "      <td>0.0</td>\n",
       "      <td>0.0</td>\n",
       "      <td>0.0</td>\n",
       "    </tr>\n",
       "  </tbody>\n",
       "</table>\n",
       "<p>5 rows × 28 columns</p>\n",
       "</div>"
      ],
      "text/plain": [
       "     temp_before  temp_after         time_before          time_after  Bulk 1  \\\n",
       "key                                                                            \n",
       "1         1571.0      1613.0 2019-05-03 11:16:18 2019-05-03 11:30:39     0.0   \n",
       "2         1581.0      1602.0 2019-05-03 11:37:27 2019-05-03 11:59:12     0.0   \n",
       "3         1596.0      1599.0 2019-05-03 12:13:17 2019-05-03 12:34:57     0.0   \n",
       "4         1601.0      1625.0 2019-05-03 12:52:57 2019-05-03 12:59:25     0.0   \n",
       "5         1576.0      1602.0 2019-05-03 13:23:19 2019-05-03 13:36:01     0.0   \n",
       "\n",
       "     Bulk 2  Bulk 3  Bulk 4  Bulk 5  Bulk 6  ...  Bulk 15     Wire 1   Wire 2  \\\n",
       "key                                          ...                                \n",
       "1       0.0     0.0    43.0     0.0     0.0  ...      0.0   0.000000  0.00000   \n",
       "2       0.0     0.0    73.0     0.0     0.0  ...    154.0  96.052315  0.00000   \n",
       "3       0.0     0.0    34.0     0.0     0.0  ...      0.0  91.160157  0.00000   \n",
       "4       0.0     0.0     0.0     0.0     0.0  ...      0.0   0.000000  0.00000   \n",
       "5       0.0     0.0     0.0     0.0     0.0  ...      0.0   0.000000  9.11456   \n",
       "\n",
       "     Wire 3  Wire 4  Wire 5  Wire 6  Wire 7  Wire 8  Wire 9  \n",
       "key                                                          \n",
       "1       0.0     0.0     0.0     0.0     0.0     0.0     0.0  \n",
       "2       0.0     0.0     0.0     0.0     0.0     0.0     0.0  \n",
       "3       0.0     0.0     0.0     0.0     0.0     0.0     0.0  \n",
       "4       0.0     0.0     0.0     0.0     0.0     0.0     0.0  \n",
       "5       0.0     0.0     0.0     0.0     0.0     0.0     0.0  \n",
       "\n",
       "[5 rows x 28 columns]"
      ]
     },
     "execution_count": 59,
     "metadata": {},
     "output_type": "execute_result"
    }
   ],
   "source": [
    "data_wire = data_wire.fillna(0)\n",
    "data = data.join(data_wire.set_index('key'))\n",
    "data.head()"
   ]
  },
  {
   "cell_type": "markdown",
   "metadata": {},
   "source": [
    "Посмотрим на пропуски."
   ]
  },
  {
   "cell_type": "code",
   "execution_count": 60,
   "metadata": {},
   "outputs": [
    {
     "name": "stdout",
     "output_type": "stream",
     "text": [
      "<class 'pandas.core.frame.DataFrame'>\n",
      "Int64Index: 2406 entries, 1 to 2499\n",
      "Data columns (total 28 columns):\n",
      "temp_before    2406 non-null float64\n",
      "temp_after     2406 non-null float64\n",
      "time_before    2406 non-null datetime64[ns]\n",
      "time_after     2406 non-null datetime64[ns]\n",
      "Bulk 1         2406 non-null float64\n",
      "Bulk 2         2406 non-null float64\n",
      "Bulk 3         2406 non-null float64\n",
      "Bulk 4         2406 non-null float64\n",
      "Bulk 5         2406 non-null float64\n",
      "Bulk 6         2406 non-null float64\n",
      "Bulk 7         2406 non-null float64\n",
      "Bulk 8         2406 non-null float64\n",
      "Bulk 9         2406 non-null float64\n",
      "Bulk 10        2406 non-null float64\n",
      "Bulk 11        2406 non-null float64\n",
      "Bulk 12        2406 non-null float64\n",
      "Bulk 13        2406 non-null float64\n",
      "Bulk 14        2406 non-null float64\n",
      "Bulk 15        2406 non-null float64\n",
      "Wire 1         2330 non-null float64\n",
      "Wire 2         2330 non-null float64\n",
      "Wire 3         2330 non-null float64\n",
      "Wire 4         2330 non-null float64\n",
      "Wire 5         2330 non-null float64\n",
      "Wire 6         2330 non-null float64\n",
      "Wire 7         2330 non-null float64\n",
      "Wire 8         2330 non-null float64\n",
      "Wire 9         2330 non-null float64\n",
      "dtypes: datetime64[ns](2), float64(26)\n",
      "memory usage: 625.1 KB\n"
     ]
    }
   ],
   "source": [
    "data.info()"
   ]
  },
  {
   "cell_type": "markdown",
   "metadata": {},
   "source": [
    "Опять немного удалим."
   ]
  },
  {
   "cell_type": "code",
   "execution_count": 61,
   "metadata": {},
   "outputs": [],
   "source": [
    "data = data.dropna()"
   ]
  },
  {
   "cell_type": "markdown",
   "metadata": {},
   "source": [
    "Заканчивая работать с примесями, добавим еще два столбца: суммарное кол-во примесей одного вида и суммарное кол-во примесей другого вида. На случай, если примеси плюс-минус эквивалентны, мы сможем использовать только эти столбцы."
   ]
  },
  {
   "cell_type": "code",
   "execution_count": 62,
   "metadata": {},
   "outputs": [],
   "source": [
    "data['bulk_sum'] = data[bulks].sum(axis=1)\n",
    "data['wire_sum'] = data[wires].sum(axis=1)"
   ]
  },
  {
   "cell_type": "markdown",
   "metadata": {},
   "source": [
    "Перейдем к следующим, последним двум таблицам."
   ]
  },
  {
   "cell_type": "markdown",
   "metadata": {},
   "source": [
    "**Данные о газе и электродах**"
   ]
  },
  {
   "cell_type": "markdown",
   "metadata": {},
   "source": [
    "Данные о газе просто соединим с текущей таблицей."
   ]
  },
  {
   "cell_type": "code",
   "execution_count": 63,
   "metadata": {},
   "outputs": [],
   "source": [
    "data = data.join(data_gas.set_index('key'))"
   ]
  },
  {
   "cell_type": "markdown",
   "metadata": {},
   "source": [
    "Теперь к таблице об электродах. Посчитаем для каждого акта нагрева полную мощность, а также - полученное сплавом кол-во тепла."
   ]
  },
  {
   "cell_type": "code",
   "execution_count": 64,
   "metadata": {},
   "outputs": [],
   "source": [
    "data_arc['full_power'] = (data_arc['Активная мощность'] ** 2 + data_arc['Реактивная мощность'] ** 2) ** 0.5"
   ]
  },
  {
   "cell_type": "code",
   "execution_count": 65,
   "metadata": {},
   "outputs": [],
   "source": [
    "data_arc['heat'] = data_arc['full_power'] * data_arc['Время нагрева']"
   ]
  },
  {
   "cell_type": "code",
   "execution_count": 66,
   "metadata": {},
   "outputs": [
    {
     "data": {
      "text/html": [
       "<div>\n",
       "<style scoped>\n",
       "    .dataframe tbody tr th:only-of-type {\n",
       "        vertical-align: middle;\n",
       "    }\n",
       "\n",
       "    .dataframe tbody tr th {\n",
       "        vertical-align: top;\n",
       "    }\n",
       "\n",
       "    .dataframe thead th {\n",
       "        text-align: right;\n",
       "    }\n",
       "</style>\n",
       "<table border=\"1\" class=\"dataframe\">\n",
       "  <thead>\n",
       "    <tr style=\"text-align: right;\">\n",
       "      <th></th>\n",
       "      <th>key</th>\n",
       "      <th>Активная мощность</th>\n",
       "      <th>Реактивная мощность</th>\n",
       "      <th>Время нагрева</th>\n",
       "      <th>full_power</th>\n",
       "      <th>heat</th>\n",
       "    </tr>\n",
       "  </thead>\n",
       "  <tbody>\n",
       "    <tr>\n",
       "      <td>0</td>\n",
       "      <td>1</td>\n",
       "      <td>0.976059</td>\n",
       "      <td>0.687084</td>\n",
       "      <td>228.0</td>\n",
       "      <td>1.193639</td>\n",
       "      <td>272.149755</td>\n",
       "    </tr>\n",
       "    <tr>\n",
       "      <td>1</td>\n",
       "      <td>1</td>\n",
       "      <td>0.805607</td>\n",
       "      <td>0.520285</td>\n",
       "      <td>185.0</td>\n",
       "      <td>0.959010</td>\n",
       "      <td>177.416785</td>\n",
       "    </tr>\n",
       "    <tr>\n",
       "      <td>2</td>\n",
       "      <td>1</td>\n",
       "      <td>0.744363</td>\n",
       "      <td>0.498805</td>\n",
       "      <td>172.0</td>\n",
       "      <td>0.896038</td>\n",
       "      <td>154.118502</td>\n",
       "    </tr>\n",
       "    <tr>\n",
       "      <td>3</td>\n",
       "      <td>1</td>\n",
       "      <td>1.659363</td>\n",
       "      <td>1.062669</td>\n",
       "      <td>365.0</td>\n",
       "      <td>1.970470</td>\n",
       "      <td>719.221394</td>\n",
       "    </tr>\n",
       "    <tr>\n",
       "      <td>4</td>\n",
       "      <td>1</td>\n",
       "      <td>0.692755</td>\n",
       "      <td>0.414397</td>\n",
       "      <td>148.0</td>\n",
       "      <td>0.807239</td>\n",
       "      <td>119.471318</td>\n",
       "    </tr>\n",
       "  </tbody>\n",
       "</table>\n",
       "</div>"
      ],
      "text/plain": [
       "   key  Активная мощность  Реактивная мощность  Время нагрева  full_power  \\\n",
       "0    1           0.976059             0.687084          228.0    1.193639   \n",
       "1    1           0.805607             0.520285          185.0    0.959010   \n",
       "2    1           0.744363             0.498805          172.0    0.896038   \n",
       "3    1           1.659363             1.062669          365.0    1.970470   \n",
       "4    1           0.692755             0.414397          148.0    0.807239   \n",
       "\n",
       "         heat  \n",
       "0  272.149755  \n",
       "1  177.416785  \n",
       "2  154.118502  \n",
       "3  719.221394  \n",
       "4  119.471318  "
      ]
     },
     "execution_count": 66,
     "metadata": {},
     "output_type": "execute_result"
    }
   ],
   "source": [
    "data_arc.head()"
   ]
  },
  {
   "cell_type": "markdown",
   "metadata": {},
   "source": [
    "Оставим пока что все столбцы. Переименуем те, что на русском и соединим с остальной таблицей."
   ]
  },
  {
   "cell_type": "code",
   "execution_count": 67,
   "metadata": {},
   "outputs": [],
   "source": [
    "data_arc = data_arc.rename(columns={'Активная мощность': 'active_power', 'Реактивная мощность' : 'reactive_power', \n",
    "                                   'Время нагрева' : 'heat_time'})"
   ]
  },
  {
   "cell_type": "code",
   "execution_count": 68,
   "metadata": {},
   "outputs": [],
   "source": [
    "data_arc = data_arc.groupby('key').sum()"
   ]
  },
  {
   "cell_type": "code",
   "execution_count": 69,
   "metadata": {},
   "outputs": [],
   "source": [
    "data = data.join(data_arc)"
   ]
  },
  {
   "cell_type": "markdown",
   "metadata": {},
   "source": [
    "Посмотрим, что получилось."
   ]
  },
  {
   "cell_type": "code",
   "execution_count": 70,
   "metadata": {},
   "outputs": [
    {
     "name": "stdout",
     "output_type": "stream",
     "text": [
      "<class 'pandas.core.frame.DataFrame'>\n",
      "Int64Index: 2330 entries, 1 to 2499\n",
      "Data columns (total 36 columns):\n",
      "temp_before       2330 non-null float64\n",
      "temp_after        2330 non-null float64\n",
      "time_before       2330 non-null datetime64[ns]\n",
      "time_after        2330 non-null datetime64[ns]\n",
      "Bulk 1            2330 non-null float64\n",
      "Bulk 2            2330 non-null float64\n",
      "Bulk 3            2330 non-null float64\n",
      "Bulk 4            2330 non-null float64\n",
      "Bulk 5            2330 non-null float64\n",
      "Bulk 6            2330 non-null float64\n",
      "Bulk 7            2330 non-null float64\n",
      "Bulk 8            2330 non-null float64\n",
      "Bulk 9            2330 non-null float64\n",
      "Bulk 10           2330 non-null float64\n",
      "Bulk 11           2330 non-null float64\n",
      "Bulk 12           2330 non-null float64\n",
      "Bulk 13           2330 non-null float64\n",
      "Bulk 14           2330 non-null float64\n",
      "Bulk 15           2330 non-null float64\n",
      "Wire 1            2330 non-null float64\n",
      "Wire 2            2330 non-null float64\n",
      "Wire 3            2330 non-null float64\n",
      "Wire 4            2330 non-null float64\n",
      "Wire 5            2330 non-null float64\n",
      "Wire 6            2330 non-null float64\n",
      "Wire 7            2330 non-null float64\n",
      "Wire 8            2330 non-null float64\n",
      "Wire 9            2330 non-null float64\n",
      "bulk_sum          2330 non-null float64\n",
      "wire_sum          2330 non-null float64\n",
      "Газ 1             2328 non-null float64\n",
      "active_power      2330 non-null float64\n",
      "reactive_power    2330 non-null float64\n",
      "heat_time         2330 non-null float64\n",
      "full_power        2330 non-null float64\n",
      "heat              2330 non-null float64\n",
      "dtypes: datetime64[ns](2), float64(34)\n",
      "memory usage: 753.5 KB\n"
     ]
    }
   ],
   "source": [
    "data.info()"
   ]
  },
  {
   "cell_type": "code",
   "execution_count": 71,
   "metadata": {},
   "outputs": [
    {
     "data": {
      "text/html": [
       "<div>\n",
       "<style scoped>\n",
       "    .dataframe tbody tr th:only-of-type {\n",
       "        vertical-align: middle;\n",
       "    }\n",
       "\n",
       "    .dataframe tbody tr th {\n",
       "        vertical-align: top;\n",
       "    }\n",
       "\n",
       "    .dataframe thead th {\n",
       "        text-align: right;\n",
       "    }\n",
       "</style>\n",
       "<table border=\"1\" class=\"dataframe\">\n",
       "  <thead>\n",
       "    <tr style=\"text-align: right;\">\n",
       "      <th></th>\n",
       "      <th>temp_before</th>\n",
       "      <th>temp_after</th>\n",
       "      <th>time_before</th>\n",
       "      <th>time_after</th>\n",
       "      <th>Bulk 1</th>\n",
       "      <th>Bulk 2</th>\n",
       "      <th>Bulk 3</th>\n",
       "      <th>Bulk 4</th>\n",
       "      <th>Bulk 5</th>\n",
       "      <th>Bulk 6</th>\n",
       "      <th>...</th>\n",
       "      <th>Wire 8</th>\n",
       "      <th>Wire 9</th>\n",
       "      <th>bulk_sum</th>\n",
       "      <th>wire_sum</th>\n",
       "      <th>Газ 1</th>\n",
       "      <th>active_power</th>\n",
       "      <th>reactive_power</th>\n",
       "      <th>heat_time</th>\n",
       "      <th>full_power</th>\n",
       "      <th>heat</th>\n",
       "    </tr>\n",
       "    <tr>\n",
       "      <th>key</th>\n",
       "      <th></th>\n",
       "      <th></th>\n",
       "      <th></th>\n",
       "      <th></th>\n",
       "      <th></th>\n",
       "      <th></th>\n",
       "      <th></th>\n",
       "      <th></th>\n",
       "      <th></th>\n",
       "      <th></th>\n",
       "      <th></th>\n",
       "      <th></th>\n",
       "      <th></th>\n",
       "      <th></th>\n",
       "      <th></th>\n",
       "      <th></th>\n",
       "      <th></th>\n",
       "      <th></th>\n",
       "      <th></th>\n",
       "      <th></th>\n",
       "      <th></th>\n",
       "    </tr>\n",
       "  </thead>\n",
       "  <tbody>\n",
       "    <tr>\n",
       "      <td>1</td>\n",
       "      <td>1571.0</td>\n",
       "      <td>1613.0</td>\n",
       "      <td>2019-05-03 11:16:18</td>\n",
       "      <td>2019-05-03 11:30:39</td>\n",
       "      <td>0.0</td>\n",
       "      <td>0.0</td>\n",
       "      <td>0.0</td>\n",
       "      <td>43.0</td>\n",
       "      <td>0.0</td>\n",
       "      <td>0.0</td>\n",
       "      <td>...</td>\n",
       "      <td>0.0</td>\n",
       "      <td>0.0</td>\n",
       "      <td>43.0</td>\n",
       "      <td>0.000000</td>\n",
       "      <td>29.749986</td>\n",
       "      <td>4.878147</td>\n",
       "      <td>3.183241</td>\n",
       "      <td>1098.0</td>\n",
       "      <td>5.826395</td>\n",
       "      <td>1442.377754</td>\n",
       "    </tr>\n",
       "    <tr>\n",
       "      <td>2</td>\n",
       "      <td>1581.0</td>\n",
       "      <td>1602.0</td>\n",
       "      <td>2019-05-03 11:37:27</td>\n",
       "      <td>2019-05-03 11:59:12</td>\n",
       "      <td>0.0</td>\n",
       "      <td>0.0</td>\n",
       "      <td>0.0</td>\n",
       "      <td>73.0</td>\n",
       "      <td>0.0</td>\n",
       "      <td>0.0</td>\n",
       "      <td>...</td>\n",
       "      <td>0.0</td>\n",
       "      <td>0.0</td>\n",
       "      <td>582.0</td>\n",
       "      <td>96.052315</td>\n",
       "      <td>12.555561</td>\n",
       "      <td>3.052598</td>\n",
       "      <td>1.998112</td>\n",
       "      <td>811.0</td>\n",
       "      <td>3.649216</td>\n",
       "      <td>881.233565</td>\n",
       "    </tr>\n",
       "    <tr>\n",
       "      <td>3</td>\n",
       "      <td>1596.0</td>\n",
       "      <td>1599.0</td>\n",
       "      <td>2019-05-03 12:13:17</td>\n",
       "      <td>2019-05-03 12:34:57</td>\n",
       "      <td>0.0</td>\n",
       "      <td>0.0</td>\n",
       "      <td>0.0</td>\n",
       "      <td>34.0</td>\n",
       "      <td>0.0</td>\n",
       "      <td>0.0</td>\n",
       "      <td>...</td>\n",
       "      <td>0.0</td>\n",
       "      <td>0.0</td>\n",
       "      <td>34.0</td>\n",
       "      <td>91.160157</td>\n",
       "      <td>28.554793</td>\n",
       "      <td>2.525882</td>\n",
       "      <td>1.599076</td>\n",
       "      <td>655.0</td>\n",
       "      <td>2.989534</td>\n",
       "      <td>525.066777</td>\n",
       "    </tr>\n",
       "    <tr>\n",
       "      <td>4</td>\n",
       "      <td>1601.0</td>\n",
       "      <td>1625.0</td>\n",
       "      <td>2019-05-03 12:52:57</td>\n",
       "      <td>2019-05-03 12:59:25</td>\n",
       "      <td>0.0</td>\n",
       "      <td>0.0</td>\n",
       "      <td>0.0</td>\n",
       "      <td>0.0</td>\n",
       "      <td>0.0</td>\n",
       "      <td>0.0</td>\n",
       "      <td>...</td>\n",
       "      <td>0.0</td>\n",
       "      <td>0.0</td>\n",
       "      <td>0.0</td>\n",
       "      <td>0.000000</td>\n",
       "      <td>18.841219</td>\n",
       "      <td>3.209250</td>\n",
       "      <td>2.060298</td>\n",
       "      <td>741.0</td>\n",
       "      <td>3.814962</td>\n",
       "      <td>796.911309</td>\n",
       "    </tr>\n",
       "    <tr>\n",
       "      <td>5</td>\n",
       "      <td>1576.0</td>\n",
       "      <td>1602.0</td>\n",
       "      <td>2019-05-03 13:23:19</td>\n",
       "      <td>2019-05-03 13:36:01</td>\n",
       "      <td>0.0</td>\n",
       "      <td>0.0</td>\n",
       "      <td>0.0</td>\n",
       "      <td>0.0</td>\n",
       "      <td>0.0</td>\n",
       "      <td>0.0</td>\n",
       "      <td>...</td>\n",
       "      <td>0.0</td>\n",
       "      <td>0.0</td>\n",
       "      <td>0.0</td>\n",
       "      <td>9.114560</td>\n",
       "      <td>5.413692</td>\n",
       "      <td>3.347173</td>\n",
       "      <td>2.252643</td>\n",
       "      <td>869.0</td>\n",
       "      <td>4.035758</td>\n",
       "      <td>1199.137958</td>\n",
       "    </tr>\n",
       "  </tbody>\n",
       "</table>\n",
       "<p>5 rows × 36 columns</p>\n",
       "</div>"
      ],
      "text/plain": [
       "     temp_before  temp_after         time_before          time_after  Bulk 1  \\\n",
       "key                                                                            \n",
       "1         1571.0      1613.0 2019-05-03 11:16:18 2019-05-03 11:30:39     0.0   \n",
       "2         1581.0      1602.0 2019-05-03 11:37:27 2019-05-03 11:59:12     0.0   \n",
       "3         1596.0      1599.0 2019-05-03 12:13:17 2019-05-03 12:34:57     0.0   \n",
       "4         1601.0      1625.0 2019-05-03 12:52:57 2019-05-03 12:59:25     0.0   \n",
       "5         1576.0      1602.0 2019-05-03 13:23:19 2019-05-03 13:36:01     0.0   \n",
       "\n",
       "     Bulk 2  Bulk 3  Bulk 4  Bulk 5  Bulk 6  ...  Wire 8  Wire 9  bulk_sum  \\\n",
       "key                                          ...                             \n",
       "1       0.0     0.0    43.0     0.0     0.0  ...     0.0     0.0      43.0   \n",
       "2       0.0     0.0    73.0     0.0     0.0  ...     0.0     0.0     582.0   \n",
       "3       0.0     0.0    34.0     0.0     0.0  ...     0.0     0.0      34.0   \n",
       "4       0.0     0.0     0.0     0.0     0.0  ...     0.0     0.0       0.0   \n",
       "5       0.0     0.0     0.0     0.0     0.0  ...     0.0     0.0       0.0   \n",
       "\n",
       "      wire_sum      Газ 1  active_power  reactive_power  heat_time  \\\n",
       "key                                                                  \n",
       "1     0.000000  29.749986      4.878147        3.183241     1098.0   \n",
       "2    96.052315  12.555561      3.052598        1.998112      811.0   \n",
       "3    91.160157  28.554793      2.525882        1.599076      655.0   \n",
       "4     0.000000  18.841219      3.209250        2.060298      741.0   \n",
       "5     9.114560   5.413692      3.347173        2.252643      869.0   \n",
       "\n",
       "     full_power         heat  \n",
       "key                           \n",
       "1      5.826395  1442.377754  \n",
       "2      3.649216   881.233565  \n",
       "3      2.989534   525.066777  \n",
       "4      3.814962   796.911309  \n",
       "5      4.035758  1199.137958  \n",
       "\n",
       "[5 rows x 36 columns]"
      ]
     },
     "execution_count": 71,
     "metadata": {},
     "output_type": "execute_result"
    }
   ],
   "source": [
    "data.head()"
   ]
  },
  {
   "cell_type": "markdown",
   "metadata": {},
   "source": [
    "Переименуем столбец с информацией о газе и удалим вспомогательные столбцы - с информацией о времени замеров температуры."
   ]
  },
  {
   "cell_type": "code",
   "execution_count": 72,
   "metadata": {},
   "outputs": [],
   "source": [
    "data = data.rename(columns={'Газ 1' : 'gas'})\n",
    "data = data.drop(columns=['time_before', 'time_after'])"
   ]
  },
  {
   "cell_type": "markdown",
   "metadata": {},
   "source": [
    "Теперь из всех этих признаков надо отобрать стоящие. Посмотрим на корреляции. Будем смотреть частями."
   ]
  },
  {
   "cell_type": "code",
   "execution_count": 73,
   "metadata": {},
   "outputs": [
    {
     "data": {
      "text/plain": [
       "Index(['temp_before', 'temp_after', 'Bulk 1', 'Bulk 2', 'Bulk 3', 'Bulk 4',\n",
       "       'Bulk 5', 'Bulk 6', 'Bulk 7', 'Bulk 8', 'Bulk 9', 'Bulk 10', 'Bulk 11',\n",
       "       'Bulk 12', 'Bulk 13', 'Bulk 14', 'Bulk 15', 'Wire 1', 'Wire 2',\n",
       "       'Wire 3', 'Wire 4', 'Wire 5', 'Wire 6', 'Wire 7', 'Wire 8', 'Wire 9',\n",
       "       'bulk_sum', 'wire_sum', 'gas', 'active_power', 'reactive_power',\n",
       "       'heat_time', 'full_power', 'heat'],\n",
       "      dtype='object')"
      ]
     },
     "execution_count": 73,
     "metadata": {},
     "output_type": "execute_result"
    }
   ],
   "source": [
    "data.columns"
   ]
  },
  {
   "cell_type": "code",
   "execution_count": 74,
   "metadata": {
    "scrolled": true
   },
   "outputs": [
    {
     "data": {
      "text/html": [
       "<div>\n",
       "<style scoped>\n",
       "    .dataframe tbody tr th:only-of-type {\n",
       "        vertical-align: middle;\n",
       "    }\n",
       "\n",
       "    .dataframe tbody tr th {\n",
       "        vertical-align: top;\n",
       "    }\n",
       "\n",
       "    .dataframe thead th {\n",
       "        text-align: right;\n",
       "    }\n",
       "</style>\n",
       "<table border=\"1\" class=\"dataframe\">\n",
       "  <thead>\n",
       "    <tr style=\"text-align: right;\">\n",
       "      <th></th>\n",
       "      <th>temp_before</th>\n",
       "      <th>temp_after</th>\n",
       "      <th>Bulk 1</th>\n",
       "      <th>Bulk 2</th>\n",
       "      <th>Bulk 3</th>\n",
       "      <th>Bulk 4</th>\n",
       "      <th>Bulk 5</th>\n",
       "      <th>Bulk 6</th>\n",
       "      <th>Bulk 7</th>\n",
       "      <th>Bulk 8</th>\n",
       "      <th>Bulk 9</th>\n",
       "      <th>Bulk 10</th>\n",
       "      <th>Bulk 11</th>\n",
       "      <th>Bulk 12</th>\n",
       "      <th>Bulk 13</th>\n",
       "      <th>Bulk 14</th>\n",
       "      <th>Bulk 15</th>\n",
       "      <th>bulk_sum</th>\n",
       "    </tr>\n",
       "  </thead>\n",
       "  <tbody>\n",
       "    <tr>\n",
       "      <td>temp_before</td>\n",
       "      <td>1.000000</td>\n",
       "      <td>0.252432</td>\n",
       "      <td>0.089355</td>\n",
       "      <td>0.119794</td>\n",
       "      <td>-0.095071</td>\n",
       "      <td>0.156542</td>\n",
       "      <td>0.068979</td>\n",
       "      <td>-0.090476</td>\n",
       "      <td>0.074723</td>\n",
       "      <td>-0.009321</td>\n",
       "      <td>-0.026220</td>\n",
       "      <td>0.040357</td>\n",
       "      <td>-0.086093</td>\n",
       "      <td>0.054777</td>\n",
       "      <td>0.017338</td>\n",
       "      <td>0.033862</td>\n",
       "      <td>0.079848</td>\n",
       "      <td>0.067821</td>\n",
       "    </tr>\n",
       "    <tr>\n",
       "      <td>temp_after</td>\n",
       "      <td>0.252432</td>\n",
       "      <td>1.000000</td>\n",
       "      <td>-0.068192</td>\n",
       "      <td>-0.082524</td>\n",
       "      <td>-0.030482</td>\n",
       "      <td>0.175854</td>\n",
       "      <td>-0.027212</td>\n",
       "      <td>-0.178496</td>\n",
       "      <td>-0.107350</td>\n",
       "      <td>-0.026608</td>\n",
       "      <td>-0.016119</td>\n",
       "      <td>0.061275</td>\n",
       "      <td>-0.111322</td>\n",
       "      <td>0.221361</td>\n",
       "      <td>-0.019724</td>\n",
       "      <td>0.112651</td>\n",
       "      <td>0.223408</td>\n",
       "      <td>0.172383</td>\n",
       "    </tr>\n",
       "    <tr>\n",
       "      <td>Bulk 1</td>\n",
       "      <td>0.089355</td>\n",
       "      <td>-0.068192</td>\n",
       "      <td>1.000000</td>\n",
       "      <td>0.235429</td>\n",
       "      <td>-0.007110</td>\n",
       "      <td>0.043202</td>\n",
       "      <td>0.066511</td>\n",
       "      <td>-0.003314</td>\n",
       "      <td>0.248147</td>\n",
       "      <td>-0.005336</td>\n",
       "      <td>-0.018413</td>\n",
       "      <td>-0.016708</td>\n",
       "      <td>-0.031907</td>\n",
       "      <td>0.349281</td>\n",
       "      <td>-0.007455</td>\n",
       "      <td>0.240331</td>\n",
       "      <td>0.062862</td>\n",
       "      <td>0.335673</td>\n",
       "    </tr>\n",
       "    <tr>\n",
       "      <td>Bulk 2</td>\n",
       "      <td>0.119794</td>\n",
       "      <td>-0.082524</td>\n",
       "      <td>0.235429</td>\n",
       "      <td>1.000000</td>\n",
       "      <td>-0.045684</td>\n",
       "      <td>0.043519</td>\n",
       "      <td>0.360565</td>\n",
       "      <td>-0.028805</td>\n",
       "      <td>0.679356</td>\n",
       "      <td>-0.001545</td>\n",
       "      <td>-0.005331</td>\n",
       "      <td>-0.017606</td>\n",
       "      <td>0.002309</td>\n",
       "      <td>-0.075264</td>\n",
       "      <td>-0.005378</td>\n",
       "      <td>-0.097296</td>\n",
       "      <td>-0.080037</td>\n",
       "      <td>0.056561</td>\n",
       "    </tr>\n",
       "    <tr>\n",
       "      <td>Bulk 3</td>\n",
       "      <td>-0.095071</td>\n",
       "      <td>-0.030482</td>\n",
       "      <td>-0.007110</td>\n",
       "      <td>-0.045684</td>\n",
       "      <td>1.000000</td>\n",
       "      <td>-0.277899</td>\n",
       "      <td>-0.003131</td>\n",
       "      <td>0.061327</td>\n",
       "      <td>-0.032285</td>\n",
       "      <td>0.021777</td>\n",
       "      <td>0.007507</td>\n",
       "      <td>-0.074380</td>\n",
       "      <td>-0.004785</td>\n",
       "      <td>0.052681</td>\n",
       "      <td>-0.008908</td>\n",
       "      <td>0.050390</td>\n",
       "      <td>0.033124</td>\n",
       "      <td>0.220278</td>\n",
       "    </tr>\n",
       "    <tr>\n",
       "      <td>Bulk 4</td>\n",
       "      <td>0.156542</td>\n",
       "      <td>0.175854</td>\n",
       "      <td>0.043202</td>\n",
       "      <td>0.043519</td>\n",
       "      <td>-0.277899</td>\n",
       "      <td>1.000000</td>\n",
       "      <td>0.032786</td>\n",
       "      <td>-0.234979</td>\n",
       "      <td>0.048456</td>\n",
       "      <td>-0.012845</td>\n",
       "      <td>-0.001039</td>\n",
       "      <td>-0.073794</td>\n",
       "      <td>-0.112676</td>\n",
       "      <td>0.115347</td>\n",
       "      <td>0.008444</td>\n",
       "      <td>-0.029510</td>\n",
       "      <td>0.105579</td>\n",
       "      <td>0.148778</td>\n",
       "    </tr>\n",
       "    <tr>\n",
       "      <td>Bulk 5</td>\n",
       "      <td>0.068979</td>\n",
       "      <td>-0.027212</td>\n",
       "      <td>0.066511</td>\n",
       "      <td>0.360565</td>\n",
       "      <td>-0.003131</td>\n",
       "      <td>0.032786</td>\n",
       "      <td>1.000000</td>\n",
       "      <td>-0.022277</td>\n",
       "      <td>0.288555</td>\n",
       "      <td>-0.002419</td>\n",
       "      <td>-0.008348</td>\n",
       "      <td>-0.027571</td>\n",
       "      <td>-0.014761</td>\n",
       "      <td>-0.051653</td>\n",
       "      <td>-0.008422</td>\n",
       "      <td>-0.061564</td>\n",
       "      <td>-0.044753</td>\n",
       "      <td>0.059048</td>\n",
       "    </tr>\n",
       "    <tr>\n",
       "      <td>Bulk 6</td>\n",
       "      <td>-0.090476</td>\n",
       "      <td>-0.178496</td>\n",
       "      <td>-0.003314</td>\n",
       "      <td>-0.028805</td>\n",
       "      <td>0.061327</td>\n",
       "      <td>-0.234979</td>\n",
       "      <td>-0.022277</td>\n",
       "      <td>1.000000</td>\n",
       "      <td>-0.024013</td>\n",
       "      <td>-0.008007</td>\n",
       "      <td>-0.027631</td>\n",
       "      <td>-0.091259</td>\n",
       "      <td>0.190039</td>\n",
       "      <td>-0.038427</td>\n",
       "      <td>0.039584</td>\n",
       "      <td>0.189001</td>\n",
       "      <td>-0.021457</td>\n",
       "      <td>0.163726</td>\n",
       "    </tr>\n",
       "    <tr>\n",
       "      <td>Bulk 7</td>\n",
       "      <td>0.074723</td>\n",
       "      <td>-0.107350</td>\n",
       "      <td>0.248147</td>\n",
       "      <td>0.679356</td>\n",
       "      <td>-0.032285</td>\n",
       "      <td>0.048456</td>\n",
       "      <td>0.288555</td>\n",
       "      <td>-0.024013</td>\n",
       "      <td>1.000000</td>\n",
       "      <td>-0.001354</td>\n",
       "      <td>-0.004673</td>\n",
       "      <td>-0.015434</td>\n",
       "      <td>-0.004332</td>\n",
       "      <td>-0.002915</td>\n",
       "      <td>-0.004714</td>\n",
       "      <td>-0.047524</td>\n",
       "      <td>-0.070165</td>\n",
       "      <td>0.120198</td>\n",
       "    </tr>\n",
       "    <tr>\n",
       "      <td>Bulk 8</td>\n",
       "      <td>-0.009321</td>\n",
       "      <td>-0.026608</td>\n",
       "      <td>-0.005336</td>\n",
       "      <td>-0.001545</td>\n",
       "      <td>0.021777</td>\n",
       "      <td>-0.012845</td>\n",
       "      <td>-0.002419</td>\n",
       "      <td>-0.008007</td>\n",
       "      <td>-0.001354</td>\n",
       "      <td>1.000000</td>\n",
       "      <td>0.488391</td>\n",
       "      <td>-0.004894</td>\n",
       "      <td>-0.003782</td>\n",
       "      <td>-0.020921</td>\n",
       "      <td>-0.001495</td>\n",
       "      <td>-0.027045</td>\n",
       "      <td>-0.022248</td>\n",
       "      <td>-0.011740</td>\n",
       "    </tr>\n",
       "    <tr>\n",
       "      <td>Bulk 9</td>\n",
       "      <td>-0.026220</td>\n",
       "      <td>-0.016119</td>\n",
       "      <td>-0.018413</td>\n",
       "      <td>-0.005331</td>\n",
       "      <td>0.007507</td>\n",
       "      <td>-0.001039</td>\n",
       "      <td>-0.008348</td>\n",
       "      <td>-0.027631</td>\n",
       "      <td>-0.004673</td>\n",
       "      <td>0.488391</td>\n",
       "      <td>1.000000</td>\n",
       "      <td>-0.016889</td>\n",
       "      <td>-0.013052</td>\n",
       "      <td>-0.051694</td>\n",
       "      <td>-0.005159</td>\n",
       "      <td>-0.007377</td>\n",
       "      <td>-0.069267</td>\n",
       "      <td>-0.032979</td>\n",
       "    </tr>\n",
       "    <tr>\n",
       "      <td>Bulk 10</td>\n",
       "      <td>0.040357</td>\n",
       "      <td>0.061275</td>\n",
       "      <td>-0.016708</td>\n",
       "      <td>-0.017606</td>\n",
       "      <td>-0.074380</td>\n",
       "      <td>-0.073794</td>\n",
       "      <td>-0.027571</td>\n",
       "      <td>-0.091259</td>\n",
       "      <td>-0.015434</td>\n",
       "      <td>-0.004894</td>\n",
       "      <td>-0.016889</td>\n",
       "      <td>1.000000</td>\n",
       "      <td>-0.043109</td>\n",
       "      <td>0.022312</td>\n",
       "      <td>-0.017038</td>\n",
       "      <td>-0.026411</td>\n",
       "      <td>0.030125</td>\n",
       "      <td>0.019393</td>\n",
       "    </tr>\n",
       "    <tr>\n",
       "      <td>Bulk 11</td>\n",
       "      <td>-0.086093</td>\n",
       "      <td>-0.111322</td>\n",
       "      <td>-0.031907</td>\n",
       "      <td>0.002309</td>\n",
       "      <td>-0.004785</td>\n",
       "      <td>-0.112676</td>\n",
       "      <td>-0.014761</td>\n",
       "      <td>0.190039</td>\n",
       "      <td>-0.004332</td>\n",
       "      <td>-0.003782</td>\n",
       "      <td>-0.013052</td>\n",
       "      <td>-0.043109</td>\n",
       "      <td>1.000000</td>\n",
       "      <td>-0.000807</td>\n",
       "      <td>-0.009072</td>\n",
       "      <td>0.081026</td>\n",
       "      <td>0.000750</td>\n",
       "      <td>0.092449</td>\n",
       "    </tr>\n",
       "    <tr>\n",
       "      <td>Bulk 12</td>\n",
       "      <td>0.054777</td>\n",
       "      <td>0.221361</td>\n",
       "      <td>0.349281</td>\n",
       "      <td>-0.075264</td>\n",
       "      <td>0.052681</td>\n",
       "      <td>0.115347</td>\n",
       "      <td>-0.051653</td>\n",
       "      <td>-0.038427</td>\n",
       "      <td>-0.002915</td>\n",
       "      <td>-0.020921</td>\n",
       "      <td>-0.051694</td>\n",
       "      <td>0.022312</td>\n",
       "      <td>-0.000807</td>\n",
       "      <td>1.000000</td>\n",
       "      <td>0.071238</td>\n",
       "      <td>0.627499</td>\n",
       "      <td>0.696306</td>\n",
       "      <td>0.891064</td>\n",
       "    </tr>\n",
       "    <tr>\n",
       "      <td>Bulk 13</td>\n",
       "      <td>0.017338</td>\n",
       "      <td>-0.019724</td>\n",
       "      <td>-0.007455</td>\n",
       "      <td>-0.005378</td>\n",
       "      <td>-0.008908</td>\n",
       "      <td>0.008444</td>\n",
       "      <td>-0.008422</td>\n",
       "      <td>0.039584</td>\n",
       "      <td>-0.004714</td>\n",
       "      <td>-0.001495</td>\n",
       "      <td>-0.005159</td>\n",
       "      <td>-0.017038</td>\n",
       "      <td>-0.009072</td>\n",
       "      <td>0.071238</td>\n",
       "      <td>1.000000</td>\n",
       "      <td>-0.036367</td>\n",
       "      <td>0.038769</td>\n",
       "      <td>0.078932</td>\n",
       "    </tr>\n",
       "    <tr>\n",
       "      <td>Bulk 14</td>\n",
       "      <td>0.033862</td>\n",
       "      <td>0.112651</td>\n",
       "      <td>0.240331</td>\n",
       "      <td>-0.097296</td>\n",
       "      <td>0.050390</td>\n",
       "      <td>-0.029510</td>\n",
       "      <td>-0.061564</td>\n",
       "      <td>0.189001</td>\n",
       "      <td>-0.047524</td>\n",
       "      <td>-0.027045</td>\n",
       "      <td>-0.007377</td>\n",
       "      <td>-0.026411</td>\n",
       "      <td>0.081026</td>\n",
       "      <td>0.627499</td>\n",
       "      <td>-0.036367</td>\n",
       "      <td>1.000000</td>\n",
       "      <td>0.502269</td>\n",
       "      <td>0.760940</td>\n",
       "    </tr>\n",
       "    <tr>\n",
       "      <td>Bulk 15</td>\n",
       "      <td>0.079848</td>\n",
       "      <td>0.223408</td>\n",
       "      <td>0.062862</td>\n",
       "      <td>-0.080037</td>\n",
       "      <td>0.033124</td>\n",
       "      <td>0.105579</td>\n",
       "      <td>-0.044753</td>\n",
       "      <td>-0.021457</td>\n",
       "      <td>-0.070165</td>\n",
       "      <td>-0.022248</td>\n",
       "      <td>-0.069267</td>\n",
       "      <td>0.030125</td>\n",
       "      <td>0.000750</td>\n",
       "      <td>0.696306</td>\n",
       "      <td>0.038769</td>\n",
       "      <td>0.502269</td>\n",
       "      <td>1.000000</td>\n",
       "      <td>0.764593</td>\n",
       "    </tr>\n",
       "    <tr>\n",
       "      <td>bulk_sum</td>\n",
       "      <td>0.067821</td>\n",
       "      <td>0.172383</td>\n",
       "      <td>0.335673</td>\n",
       "      <td>0.056561</td>\n",
       "      <td>0.220278</td>\n",
       "      <td>0.148778</td>\n",
       "      <td>0.059048</td>\n",
       "      <td>0.163726</td>\n",
       "      <td>0.120198</td>\n",
       "      <td>-0.011740</td>\n",
       "      <td>-0.032979</td>\n",
       "      <td>0.019393</td>\n",
       "      <td>0.092449</td>\n",
       "      <td>0.891064</td>\n",
       "      <td>0.078932</td>\n",
       "      <td>0.760940</td>\n",
       "      <td>0.764593</td>\n",
       "      <td>1.000000</td>\n",
       "    </tr>\n",
       "  </tbody>\n",
       "</table>\n",
       "</div>"
      ],
      "text/plain": [
       "             temp_before  temp_after    Bulk 1    Bulk 2    Bulk 3    Bulk 4  \\\n",
       "temp_before     1.000000    0.252432  0.089355  0.119794 -0.095071  0.156542   \n",
       "temp_after      0.252432    1.000000 -0.068192 -0.082524 -0.030482  0.175854   \n",
       "Bulk 1          0.089355   -0.068192  1.000000  0.235429 -0.007110  0.043202   \n",
       "Bulk 2          0.119794   -0.082524  0.235429  1.000000 -0.045684  0.043519   \n",
       "Bulk 3         -0.095071   -0.030482 -0.007110 -0.045684  1.000000 -0.277899   \n",
       "Bulk 4          0.156542    0.175854  0.043202  0.043519 -0.277899  1.000000   \n",
       "Bulk 5          0.068979   -0.027212  0.066511  0.360565 -0.003131  0.032786   \n",
       "Bulk 6         -0.090476   -0.178496 -0.003314 -0.028805  0.061327 -0.234979   \n",
       "Bulk 7          0.074723   -0.107350  0.248147  0.679356 -0.032285  0.048456   \n",
       "Bulk 8         -0.009321   -0.026608 -0.005336 -0.001545  0.021777 -0.012845   \n",
       "Bulk 9         -0.026220   -0.016119 -0.018413 -0.005331  0.007507 -0.001039   \n",
       "Bulk 10         0.040357    0.061275 -0.016708 -0.017606 -0.074380 -0.073794   \n",
       "Bulk 11        -0.086093   -0.111322 -0.031907  0.002309 -0.004785 -0.112676   \n",
       "Bulk 12         0.054777    0.221361  0.349281 -0.075264  0.052681  0.115347   \n",
       "Bulk 13         0.017338   -0.019724 -0.007455 -0.005378 -0.008908  0.008444   \n",
       "Bulk 14         0.033862    0.112651  0.240331 -0.097296  0.050390 -0.029510   \n",
       "Bulk 15         0.079848    0.223408  0.062862 -0.080037  0.033124  0.105579   \n",
       "bulk_sum        0.067821    0.172383  0.335673  0.056561  0.220278  0.148778   \n",
       "\n",
       "               Bulk 5    Bulk 6    Bulk 7    Bulk 8    Bulk 9   Bulk 10  \\\n",
       "temp_before  0.068979 -0.090476  0.074723 -0.009321 -0.026220  0.040357   \n",
       "temp_after  -0.027212 -0.178496 -0.107350 -0.026608 -0.016119  0.061275   \n",
       "Bulk 1       0.066511 -0.003314  0.248147 -0.005336 -0.018413 -0.016708   \n",
       "Bulk 2       0.360565 -0.028805  0.679356 -0.001545 -0.005331 -0.017606   \n",
       "Bulk 3      -0.003131  0.061327 -0.032285  0.021777  0.007507 -0.074380   \n",
       "Bulk 4       0.032786 -0.234979  0.048456 -0.012845 -0.001039 -0.073794   \n",
       "Bulk 5       1.000000 -0.022277  0.288555 -0.002419 -0.008348 -0.027571   \n",
       "Bulk 6      -0.022277  1.000000 -0.024013 -0.008007 -0.027631 -0.091259   \n",
       "Bulk 7       0.288555 -0.024013  1.000000 -0.001354 -0.004673 -0.015434   \n",
       "Bulk 8      -0.002419 -0.008007 -0.001354  1.000000  0.488391 -0.004894   \n",
       "Bulk 9      -0.008348 -0.027631 -0.004673  0.488391  1.000000 -0.016889   \n",
       "Bulk 10     -0.027571 -0.091259 -0.015434 -0.004894 -0.016889  1.000000   \n",
       "Bulk 11     -0.014761  0.190039 -0.004332 -0.003782 -0.013052 -0.043109   \n",
       "Bulk 12     -0.051653 -0.038427 -0.002915 -0.020921 -0.051694  0.022312   \n",
       "Bulk 13     -0.008422  0.039584 -0.004714 -0.001495 -0.005159 -0.017038   \n",
       "Bulk 14     -0.061564  0.189001 -0.047524 -0.027045 -0.007377 -0.026411   \n",
       "Bulk 15     -0.044753 -0.021457 -0.070165 -0.022248 -0.069267  0.030125   \n",
       "bulk_sum     0.059048  0.163726  0.120198 -0.011740 -0.032979  0.019393   \n",
       "\n",
       "              Bulk 11   Bulk 12   Bulk 13   Bulk 14   Bulk 15  bulk_sum  \n",
       "temp_before -0.086093  0.054777  0.017338  0.033862  0.079848  0.067821  \n",
       "temp_after  -0.111322  0.221361 -0.019724  0.112651  0.223408  0.172383  \n",
       "Bulk 1      -0.031907  0.349281 -0.007455  0.240331  0.062862  0.335673  \n",
       "Bulk 2       0.002309 -0.075264 -0.005378 -0.097296 -0.080037  0.056561  \n",
       "Bulk 3      -0.004785  0.052681 -0.008908  0.050390  0.033124  0.220278  \n",
       "Bulk 4      -0.112676  0.115347  0.008444 -0.029510  0.105579  0.148778  \n",
       "Bulk 5      -0.014761 -0.051653 -0.008422 -0.061564 -0.044753  0.059048  \n",
       "Bulk 6       0.190039 -0.038427  0.039584  0.189001 -0.021457  0.163726  \n",
       "Bulk 7      -0.004332 -0.002915 -0.004714 -0.047524 -0.070165  0.120198  \n",
       "Bulk 8      -0.003782 -0.020921 -0.001495 -0.027045 -0.022248 -0.011740  \n",
       "Bulk 9      -0.013052 -0.051694 -0.005159 -0.007377 -0.069267 -0.032979  \n",
       "Bulk 10     -0.043109  0.022312 -0.017038 -0.026411  0.030125  0.019393  \n",
       "Bulk 11      1.000000 -0.000807 -0.009072  0.081026  0.000750  0.092449  \n",
       "Bulk 12     -0.000807  1.000000  0.071238  0.627499  0.696306  0.891064  \n",
       "Bulk 13     -0.009072  0.071238  1.000000 -0.036367  0.038769  0.078932  \n",
       "Bulk 14      0.081026  0.627499 -0.036367  1.000000  0.502269  0.760940  \n",
       "Bulk 15      0.000750  0.696306  0.038769  0.502269  1.000000  0.764593  \n",
       "bulk_sum     0.092449  0.891064  0.078932  0.760940  0.764593  1.000000  "
      ]
     },
     "execution_count": 74,
     "metadata": {},
     "output_type": "execute_result"
    }
   ],
   "source": [
    "data[['temp_before', 'temp_after', 'Bulk 1', 'Bulk 2', 'Bulk 3', 'Bulk 4',\n",
    "       'Bulk 5', 'Bulk 6', 'Bulk 7', 'Bulk 8', 'Bulk 9', 'Bulk 10', 'Bulk 11',\n",
    "       'Bulk 12', 'Bulk 13', 'Bulk 14', 'Bulk 15', 'bulk_sum']].corr()"
   ]
  },
  {
   "cell_type": "code",
   "execution_count": 75,
   "metadata": {
    "scrolled": true
   },
   "outputs": [
    {
     "data": {
      "text/html": [
       "<div>\n",
       "<style scoped>\n",
       "    .dataframe tbody tr th:only-of-type {\n",
       "        vertical-align: middle;\n",
       "    }\n",
       "\n",
       "    .dataframe tbody tr th {\n",
       "        vertical-align: top;\n",
       "    }\n",
       "\n",
       "    .dataframe thead th {\n",
       "        text-align: right;\n",
       "    }\n",
       "</style>\n",
       "<table border=\"1\" class=\"dataframe\">\n",
       "  <thead>\n",
       "    <tr style=\"text-align: right;\">\n",
       "      <th></th>\n",
       "      <th>temp_after</th>\n",
       "      <th>Wire 1</th>\n",
       "      <th>Wire 2</th>\n",
       "      <th>Wire 3</th>\n",
       "      <th>Wire 4</th>\n",
       "      <th>Wire 5</th>\n",
       "      <th>Wire 6</th>\n",
       "      <th>Wire 7</th>\n",
       "      <th>Wire 8</th>\n",
       "      <th>Wire 9</th>\n",
       "      <th>wire_sum</th>\n",
       "      <th>gas</th>\n",
       "      <th>active_power</th>\n",
       "      <th>reactive_power</th>\n",
       "      <th>heat_time</th>\n",
       "      <th>full_power</th>\n",
       "      <th>heat</th>\n",
       "    </tr>\n",
       "  </thead>\n",
       "  <tbody>\n",
       "    <tr>\n",
       "      <td>temp_after</td>\n",
       "      <td>1.000000</td>\n",
       "      <td>0.265382</td>\n",
       "      <td>-0.188494</td>\n",
       "      <td>-0.047246</td>\n",
       "      <td>-0.163270</td>\n",
       "      <td>NaN</td>\n",
       "      <td>-0.081146</td>\n",
       "      <td>-0.137330</td>\n",
       "      <td>-0.010808</td>\n",
       "      <td>-0.031943</td>\n",
       "      <td>0.064921</td>\n",
       "      <td>0.059203</td>\n",
       "      <td>0.289950</td>\n",
       "      <td>0.240412</td>\n",
       "      <td>0.278151</td>\n",
       "      <td>0.273040</td>\n",
       "      <td>0.274605</td>\n",
       "    </tr>\n",
       "    <tr>\n",
       "      <td>Wire 1</td>\n",
       "      <td>0.265382</td>\n",
       "      <td>1.000000</td>\n",
       "      <td>-0.013477</td>\n",
       "      <td>0.039376</td>\n",
       "      <td>-0.107347</td>\n",
       "      <td>NaN</td>\n",
       "      <td>-0.107659</td>\n",
       "      <td>-0.053116</td>\n",
       "      <td>-0.018156</td>\n",
       "      <td>0.030874</td>\n",
       "      <td>0.725761</td>\n",
       "      <td>0.096838</td>\n",
       "      <td>0.020283</td>\n",
       "      <td>0.006854</td>\n",
       "      <td>0.045778</td>\n",
       "      <td>0.014514</td>\n",
       "      <td>-0.009984</td>\n",
       "    </tr>\n",
       "    <tr>\n",
       "      <td>Wire 2</td>\n",
       "      <td>-0.188494</td>\n",
       "      <td>-0.013477</td>\n",
       "      <td>1.000000</td>\n",
       "      <td>0.087904</td>\n",
       "      <td>-0.031278</td>\n",
       "      <td>NaN</td>\n",
       "      <td>-0.056243</td>\n",
       "      <td>-0.015580</td>\n",
       "      <td>0.020527</td>\n",
       "      <td>0.225878</td>\n",
       "      <td>0.497150</td>\n",
       "      <td>0.098221</td>\n",
       "      <td>0.043562</td>\n",
       "      <td>0.047190</td>\n",
       "      <td>0.051917</td>\n",
       "      <td>0.045254</td>\n",
       "      <td>0.009516</td>\n",
       "    </tr>\n",
       "    <tr>\n",
       "      <td>Wire 3</td>\n",
       "      <td>-0.047246</td>\n",
       "      <td>0.039376</td>\n",
       "      <td>0.087904</td>\n",
       "      <td>1.000000</td>\n",
       "      <td>0.164531</td>\n",
       "      <td>NaN</td>\n",
       "      <td>0.199899</td>\n",
       "      <td>0.102158</td>\n",
       "      <td>-0.008050</td>\n",
       "      <td>-0.010211</td>\n",
       "      <td>0.501833</td>\n",
       "      <td>0.100743</td>\n",
       "      <td>0.037458</td>\n",
       "      <td>0.032444</td>\n",
       "      <td>0.035566</td>\n",
       "      <td>0.035821</td>\n",
       "      <td>0.008003</td>\n",
       "    </tr>\n",
       "    <tr>\n",
       "      <td>Wire 4</td>\n",
       "      <td>-0.163270</td>\n",
       "      <td>-0.107347</td>\n",
       "      <td>-0.031278</td>\n",
       "      <td>0.164531</td>\n",
       "      <td>1.000000</td>\n",
       "      <td>NaN</td>\n",
       "      <td>0.458431</td>\n",
       "      <td>0.609340</td>\n",
       "      <td>-0.004389</td>\n",
       "      <td>-0.005568</td>\n",
       "      <td>0.095203</td>\n",
       "      <td>0.133855</td>\n",
       "      <td>0.044003</td>\n",
       "      <td>0.071799</td>\n",
       "      <td>0.050462</td>\n",
       "      <td>0.055490</td>\n",
       "      <td>0.024106</td>\n",
       "    </tr>\n",
       "    <tr>\n",
       "      <td>Wire 5</td>\n",
       "      <td>NaN</td>\n",
       "      <td>NaN</td>\n",
       "      <td>NaN</td>\n",
       "      <td>NaN</td>\n",
       "      <td>NaN</td>\n",
       "      <td>NaN</td>\n",
       "      <td>NaN</td>\n",
       "      <td>NaN</td>\n",
       "      <td>NaN</td>\n",
       "      <td>NaN</td>\n",
       "      <td>NaN</td>\n",
       "      <td>NaN</td>\n",
       "      <td>NaN</td>\n",
       "      <td>NaN</td>\n",
       "      <td>NaN</td>\n",
       "      <td>NaN</td>\n",
       "      <td>NaN</td>\n",
       "    </tr>\n",
       "    <tr>\n",
       "      <td>Wire 6</td>\n",
       "      <td>-0.081146</td>\n",
       "      <td>-0.107659</td>\n",
       "      <td>-0.056243</td>\n",
       "      <td>0.199899</td>\n",
       "      <td>0.458431</td>\n",
       "      <td>NaN</td>\n",
       "      <td>1.000000</td>\n",
       "      <td>0.322626</td>\n",
       "      <td>-0.007938</td>\n",
       "      <td>-0.010069</td>\n",
       "      <td>0.123096</td>\n",
       "      <td>0.116608</td>\n",
       "      <td>0.059079</td>\n",
       "      <td>0.061868</td>\n",
       "      <td>0.049058</td>\n",
       "      <td>0.060801</td>\n",
       "      <td>0.041166</td>\n",
       "    </tr>\n",
       "    <tr>\n",
       "      <td>Wire 7</td>\n",
       "      <td>-0.137330</td>\n",
       "      <td>-0.053116</td>\n",
       "      <td>-0.015580</td>\n",
       "      <td>0.102158</td>\n",
       "      <td>0.609340</td>\n",
       "      <td>NaN</td>\n",
       "      <td>0.322626</td>\n",
       "      <td>1.000000</td>\n",
       "      <td>-0.002186</td>\n",
       "      <td>-0.002773</td>\n",
       "      <td>0.076491</td>\n",
       "      <td>0.078953</td>\n",
       "      <td>0.019631</td>\n",
       "      <td>0.036887</td>\n",
       "      <td>0.027604</td>\n",
       "      <td>0.026552</td>\n",
       "      <td>0.006134</td>\n",
       "    </tr>\n",
       "    <tr>\n",
       "      <td>Wire 8</td>\n",
       "      <td>-0.010808</td>\n",
       "      <td>-0.018156</td>\n",
       "      <td>0.020527</td>\n",
       "      <td>-0.008050</td>\n",
       "      <td>-0.004389</td>\n",
       "      <td>NaN</td>\n",
       "      <td>-0.007938</td>\n",
       "      <td>-0.002186</td>\n",
       "      <td>1.000000</td>\n",
       "      <td>-0.006342</td>\n",
       "      <td>0.055162</td>\n",
       "      <td>0.118069</td>\n",
       "      <td>0.029452</td>\n",
       "      <td>0.016544</td>\n",
       "      <td>0.017831</td>\n",
       "      <td>0.025110</td>\n",
       "      <td>0.000979</td>\n",
       "    </tr>\n",
       "    <tr>\n",
       "      <td>Wire 9</td>\n",
       "      <td>-0.031943</td>\n",
       "      <td>0.030874</td>\n",
       "      <td>0.225878</td>\n",
       "      <td>-0.010211</td>\n",
       "      <td>-0.005568</td>\n",
       "      <td>NaN</td>\n",
       "      <td>-0.010069</td>\n",
       "      <td>-0.002773</td>\n",
       "      <td>-0.006342</td>\n",
       "      <td>1.000000</td>\n",
       "      <td>0.172003</td>\n",
       "      <td>0.012766</td>\n",
       "      <td>-0.019223</td>\n",
       "      <td>-0.014437</td>\n",
       "      <td>-0.013670</td>\n",
       "      <td>-0.017504</td>\n",
       "      <td>-0.014650</td>\n",
       "    </tr>\n",
       "    <tr>\n",
       "      <td>wire_sum</td>\n",
       "      <td>0.064921</td>\n",
       "      <td>0.725761</td>\n",
       "      <td>0.497150</td>\n",
       "      <td>0.501833</td>\n",
       "      <td>0.095203</td>\n",
       "      <td>NaN</td>\n",
       "      <td>0.123096</td>\n",
       "      <td>0.076491</td>\n",
       "      <td>0.055162</td>\n",
       "      <td>0.172003</td>\n",
       "      <td>1.000000</td>\n",
       "      <td>0.188638</td>\n",
       "      <td>0.061185</td>\n",
       "      <td>0.052693</td>\n",
       "      <td>0.081932</td>\n",
       "      <td>0.057894</td>\n",
       "      <td>0.006146</td>\n",
       "    </tr>\n",
       "    <tr>\n",
       "      <td>gas</td>\n",
       "      <td>0.059203</td>\n",
       "      <td>0.096838</td>\n",
       "      <td>0.098221</td>\n",
       "      <td>0.100743</td>\n",
       "      <td>0.133855</td>\n",
       "      <td>NaN</td>\n",
       "      <td>0.116608</td>\n",
       "      <td>0.078953</td>\n",
       "      <td>0.118069</td>\n",
       "      <td>0.012766</td>\n",
       "      <td>0.188638</td>\n",
       "      <td>1.000000</td>\n",
       "      <td>0.373912</td>\n",
       "      <td>0.356979</td>\n",
       "      <td>0.396497</td>\n",
       "      <td>0.370680</td>\n",
       "      <td>0.319284</td>\n",
       "    </tr>\n",
       "    <tr>\n",
       "      <td>active_power</td>\n",
       "      <td>0.289950</td>\n",
       "      <td>0.020283</td>\n",
       "      <td>0.043562</td>\n",
       "      <td>0.037458</td>\n",
       "      <td>0.044003</td>\n",
       "      <td>NaN</td>\n",
       "      <td>0.059079</td>\n",
       "      <td>0.019631</td>\n",
       "      <td>0.029452</td>\n",
       "      <td>-0.019223</td>\n",
       "      <td>0.061185</td>\n",
       "      <td>0.373912</td>\n",
       "      <td>1.000000</td>\n",
       "      <td>0.958454</td>\n",
       "      <td>0.978105</td>\n",
       "      <td>0.993435</td>\n",
       "      <td>0.911103</td>\n",
       "    </tr>\n",
       "    <tr>\n",
       "      <td>reactive_power</td>\n",
       "      <td>0.240412</td>\n",
       "      <td>0.006854</td>\n",
       "      <td>0.047190</td>\n",
       "      <td>0.032444</td>\n",
       "      <td>0.071799</td>\n",
       "      <td>NaN</td>\n",
       "      <td>0.061868</td>\n",
       "      <td>0.036887</td>\n",
       "      <td>0.016544</td>\n",
       "      <td>-0.014437</td>\n",
       "      <td>0.052693</td>\n",
       "      <td>0.356979</td>\n",
       "      <td>0.958454</td>\n",
       "      <td>1.000000</td>\n",
       "      <td>0.965449</td>\n",
       "      <td>0.984658</td>\n",
       "      <td>0.891155</td>\n",
       "    </tr>\n",
       "    <tr>\n",
       "      <td>heat_time</td>\n",
       "      <td>0.278151</td>\n",
       "      <td>0.045778</td>\n",
       "      <td>0.051917</td>\n",
       "      <td>0.035566</td>\n",
       "      <td>0.050462</td>\n",
       "      <td>NaN</td>\n",
       "      <td>0.049058</td>\n",
       "      <td>0.027604</td>\n",
       "      <td>0.017831</td>\n",
       "      <td>-0.013670</td>\n",
       "      <td>0.081932</td>\n",
       "      <td>0.396497</td>\n",
       "      <td>0.978105</td>\n",
       "      <td>0.965449</td>\n",
       "      <td>1.000000</td>\n",
       "      <td>0.982742</td>\n",
       "      <td>0.900081</td>\n",
       "    </tr>\n",
       "    <tr>\n",
       "      <td>full_power</td>\n",
       "      <td>0.273040</td>\n",
       "      <td>0.014514</td>\n",
       "      <td>0.045254</td>\n",
       "      <td>0.035821</td>\n",
       "      <td>0.055490</td>\n",
       "      <td>NaN</td>\n",
       "      <td>0.060801</td>\n",
       "      <td>0.026552</td>\n",
       "      <td>0.025110</td>\n",
       "      <td>-0.017504</td>\n",
       "      <td>0.057894</td>\n",
       "      <td>0.370680</td>\n",
       "      <td>0.993435</td>\n",
       "      <td>0.984658</td>\n",
       "      <td>0.982742</td>\n",
       "      <td>1.000000</td>\n",
       "      <td>0.912270</td>\n",
       "    </tr>\n",
       "    <tr>\n",
       "      <td>heat</td>\n",
       "      <td>0.274605</td>\n",
       "      <td>-0.009984</td>\n",
       "      <td>0.009516</td>\n",
       "      <td>0.008003</td>\n",
       "      <td>0.024106</td>\n",
       "      <td>NaN</td>\n",
       "      <td>0.041166</td>\n",
       "      <td>0.006134</td>\n",
       "      <td>0.000979</td>\n",
       "      <td>-0.014650</td>\n",
       "      <td>0.006146</td>\n",
       "      <td>0.319284</td>\n",
       "      <td>0.911103</td>\n",
       "      <td>0.891155</td>\n",
       "      <td>0.900081</td>\n",
       "      <td>0.912270</td>\n",
       "      <td>1.000000</td>\n",
       "    </tr>\n",
       "  </tbody>\n",
       "</table>\n",
       "</div>"
      ],
      "text/plain": [
       "                temp_after    Wire 1    Wire 2    Wire 3    Wire 4  Wire 5  \\\n",
       "temp_after        1.000000  0.265382 -0.188494 -0.047246 -0.163270     NaN   \n",
       "Wire 1            0.265382  1.000000 -0.013477  0.039376 -0.107347     NaN   \n",
       "Wire 2           -0.188494 -0.013477  1.000000  0.087904 -0.031278     NaN   \n",
       "Wire 3           -0.047246  0.039376  0.087904  1.000000  0.164531     NaN   \n",
       "Wire 4           -0.163270 -0.107347 -0.031278  0.164531  1.000000     NaN   \n",
       "Wire 5                 NaN       NaN       NaN       NaN       NaN     NaN   \n",
       "Wire 6           -0.081146 -0.107659 -0.056243  0.199899  0.458431     NaN   \n",
       "Wire 7           -0.137330 -0.053116 -0.015580  0.102158  0.609340     NaN   \n",
       "Wire 8           -0.010808 -0.018156  0.020527 -0.008050 -0.004389     NaN   \n",
       "Wire 9           -0.031943  0.030874  0.225878 -0.010211 -0.005568     NaN   \n",
       "wire_sum          0.064921  0.725761  0.497150  0.501833  0.095203     NaN   \n",
       "gas               0.059203  0.096838  0.098221  0.100743  0.133855     NaN   \n",
       "active_power      0.289950  0.020283  0.043562  0.037458  0.044003     NaN   \n",
       "reactive_power    0.240412  0.006854  0.047190  0.032444  0.071799     NaN   \n",
       "heat_time         0.278151  0.045778  0.051917  0.035566  0.050462     NaN   \n",
       "full_power        0.273040  0.014514  0.045254  0.035821  0.055490     NaN   \n",
       "heat              0.274605 -0.009984  0.009516  0.008003  0.024106     NaN   \n",
       "\n",
       "                  Wire 6    Wire 7    Wire 8    Wire 9  wire_sum       gas  \\\n",
       "temp_after     -0.081146 -0.137330 -0.010808 -0.031943  0.064921  0.059203   \n",
       "Wire 1         -0.107659 -0.053116 -0.018156  0.030874  0.725761  0.096838   \n",
       "Wire 2         -0.056243 -0.015580  0.020527  0.225878  0.497150  0.098221   \n",
       "Wire 3          0.199899  0.102158 -0.008050 -0.010211  0.501833  0.100743   \n",
       "Wire 4          0.458431  0.609340 -0.004389 -0.005568  0.095203  0.133855   \n",
       "Wire 5               NaN       NaN       NaN       NaN       NaN       NaN   \n",
       "Wire 6          1.000000  0.322626 -0.007938 -0.010069  0.123096  0.116608   \n",
       "Wire 7          0.322626  1.000000 -0.002186 -0.002773  0.076491  0.078953   \n",
       "Wire 8         -0.007938 -0.002186  1.000000 -0.006342  0.055162  0.118069   \n",
       "Wire 9         -0.010069 -0.002773 -0.006342  1.000000  0.172003  0.012766   \n",
       "wire_sum        0.123096  0.076491  0.055162  0.172003  1.000000  0.188638   \n",
       "gas             0.116608  0.078953  0.118069  0.012766  0.188638  1.000000   \n",
       "active_power    0.059079  0.019631  0.029452 -0.019223  0.061185  0.373912   \n",
       "reactive_power  0.061868  0.036887  0.016544 -0.014437  0.052693  0.356979   \n",
       "heat_time       0.049058  0.027604  0.017831 -0.013670  0.081932  0.396497   \n",
       "full_power      0.060801  0.026552  0.025110 -0.017504  0.057894  0.370680   \n",
       "heat            0.041166  0.006134  0.000979 -0.014650  0.006146  0.319284   \n",
       "\n",
       "                active_power  reactive_power  heat_time  full_power      heat  \n",
       "temp_after          0.289950        0.240412   0.278151    0.273040  0.274605  \n",
       "Wire 1              0.020283        0.006854   0.045778    0.014514 -0.009984  \n",
       "Wire 2              0.043562        0.047190   0.051917    0.045254  0.009516  \n",
       "Wire 3              0.037458        0.032444   0.035566    0.035821  0.008003  \n",
       "Wire 4              0.044003        0.071799   0.050462    0.055490  0.024106  \n",
       "Wire 5                   NaN             NaN        NaN         NaN       NaN  \n",
       "Wire 6              0.059079        0.061868   0.049058    0.060801  0.041166  \n",
       "Wire 7              0.019631        0.036887   0.027604    0.026552  0.006134  \n",
       "Wire 8              0.029452        0.016544   0.017831    0.025110  0.000979  \n",
       "Wire 9             -0.019223       -0.014437  -0.013670   -0.017504 -0.014650  \n",
       "wire_sum            0.061185        0.052693   0.081932    0.057894  0.006146  \n",
       "gas                 0.373912        0.356979   0.396497    0.370680  0.319284  \n",
       "active_power        1.000000        0.958454   0.978105    0.993435  0.911103  \n",
       "reactive_power      0.958454        1.000000   0.965449    0.984658  0.891155  \n",
       "heat_time           0.978105        0.965449   1.000000    0.982742  0.900081  \n",
       "full_power          0.993435        0.984658   0.982742    1.000000  0.912270  \n",
       "heat                0.911103        0.891155   0.900081    0.912270  1.000000  "
      ]
     },
     "execution_count": 75,
     "metadata": {},
     "output_type": "execute_result"
    }
   ],
   "source": [
    "data[['temp_after', 'Wire 1', 'Wire 2',\n",
    "       'Wire 3', 'Wire 4', 'Wire 5', 'Wire 6', 'Wire 7', 'Wire 8', 'Wire 9',\n",
    "        'wire_sum', 'gas', 'active_power', 'reactive_power',\n",
    "       'heat_time', 'full_power', 'heat']].corr()"
   ]
  },
  {
   "cell_type": "markdown",
   "metadata": {},
   "source": [
    "Что можно сказать?"
   ]
  },
  {
   "cell_type": "markdown",
   "metadata": {},
   "source": [
    "Точно удаляем:"
   ]
  },
  {
   "cell_type": "markdown",
   "metadata": {},
   "source": [
    "    - wire 5: пустой,\n",
    "    - reactive_power, heat_time, full_power, heat - они сильно коррелируют с active_power, а его мы решили оставить, поскольку он лучше всех похожих признаков коррелирует с таргетом,\n",
    "    - wire_sum и bulk_sum: агрегированные показатели показали себя не так хорошо, как некоторые столбцы с примесями отдельно."
   ]
  },
  {
   "cell_type": "code",
   "execution_count": 76,
   "metadata": {},
   "outputs": [],
   "source": [
    "data = data.drop(columns=['Wire 5', 'reactive_power', 'heat_time', 'full_power', 'heat', 'wire_sum', 'bulk_sum'])"
   ]
  },
  {
   "cell_type": "code",
   "execution_count": 77,
   "metadata": {},
   "outputs": [
    {
     "data": {
      "text/plain": [
       "Index(['temp_before', 'temp_after', 'Bulk 1', 'Bulk 2', 'Bulk 3', 'Bulk 4',\n",
       "       'Bulk 5', 'Bulk 6', 'Bulk 7', 'Bulk 8', 'Bulk 9', 'Bulk 10', 'Bulk 11',\n",
       "       'Bulk 12', 'Bulk 13', 'Bulk 14', 'Bulk 15', 'Wire 1', 'Wire 2',\n",
       "       'Wire 3', 'Wire 4', 'Wire 6', 'Wire 7', 'Wire 8', 'Wire 9', 'gas',\n",
       "       'active_power'],\n",
       "      dtype='object')"
      ]
     },
     "execution_count": 77,
     "metadata": {},
     "output_type": "execute_result"
    }
   ],
   "source": [
    "data.columns"
   ]
  },
  {
   "cell_type": "markdown",
   "metadata": {},
   "source": [
    "Точно остаются столбцы с начальной температурой, с информацией о газе и активной мощности. Теперь хотелось бы из столбцов с примесями выбрать самые полезные. Удалим:"
   ]
  },
  {
   "cell_type": "markdown",
   "metadata": {},
   "source": [
    "    - Bulk 8, Bulk 9, Bulk 13, Bulk 3, Bulk 5, \n",
    "    - Wire 3, Wire 8, Wire 9."
   ]
  },
  {
   "cell_type": "markdown",
   "metadata": {},
   "source": [
    "Столбцы выбирались из соображений: нам точно нужно меньше признаков, а все остальные лучше коррелируют с таргетом."
   ]
  },
  {
   "cell_type": "code",
   "execution_count": 78,
   "metadata": {},
   "outputs": [],
   "source": [
    "data = data.drop(columns=['Bulk 8', 'Bulk 9', 'Bulk 13', 'Bulk 3','Bulk 5', 'Wire 3', 'Wire 8', 'Wire 9'])"
   ]
  },
  {
   "cell_type": "code",
   "execution_count": 79,
   "metadata": {},
   "outputs": [
    {
     "name": "stdout",
     "output_type": "stream",
     "text": [
      "<class 'pandas.core.frame.DataFrame'>\n",
      "Int64Index: 2330 entries, 1 to 2499\n",
      "Data columns (total 19 columns):\n",
      "temp_before     2330 non-null float64\n",
      "temp_after      2330 non-null float64\n",
      "Bulk 1          2330 non-null float64\n",
      "Bulk 2          2330 non-null float64\n",
      "Bulk 4          2330 non-null float64\n",
      "Bulk 6          2330 non-null float64\n",
      "Bulk 7          2330 non-null float64\n",
      "Bulk 10         2330 non-null float64\n",
      "Bulk 11         2330 non-null float64\n",
      "Bulk 12         2330 non-null float64\n",
      "Bulk 14         2330 non-null float64\n",
      "Bulk 15         2330 non-null float64\n",
      "Wire 1          2330 non-null float64\n",
      "Wire 2          2330 non-null float64\n",
      "Wire 4          2330 non-null float64\n",
      "Wire 6          2330 non-null float64\n",
      "Wire 7          2330 non-null float64\n",
      "gas             2328 non-null float64\n",
      "active_power    2330 non-null float64\n",
      "dtypes: float64(19)\n",
      "memory usage: 364.1 KB\n"
     ]
    }
   ],
   "source": [
    "data.info()"
   ]
  },
  {
   "cell_type": "code",
   "execution_count": 80,
   "metadata": {},
   "outputs": [
    {
     "data": {
      "text/html": [
       "<div>\n",
       "<style scoped>\n",
       "    .dataframe tbody tr th:only-of-type {\n",
       "        vertical-align: middle;\n",
       "    }\n",
       "\n",
       "    .dataframe tbody tr th {\n",
       "        vertical-align: top;\n",
       "    }\n",
       "\n",
       "    .dataframe thead th {\n",
       "        text-align: right;\n",
       "    }\n",
       "</style>\n",
       "<table border=\"1\" class=\"dataframe\">\n",
       "  <thead>\n",
       "    <tr style=\"text-align: right;\">\n",
       "      <th></th>\n",
       "      <th>temp_before</th>\n",
       "      <th>temp_after</th>\n",
       "      <th>Bulk 1</th>\n",
       "      <th>Bulk 2</th>\n",
       "      <th>Bulk 4</th>\n",
       "      <th>Bulk 6</th>\n",
       "      <th>Bulk 7</th>\n",
       "      <th>Bulk 10</th>\n",
       "      <th>Bulk 11</th>\n",
       "      <th>Bulk 12</th>\n",
       "      <th>Bulk 14</th>\n",
       "      <th>Bulk 15</th>\n",
       "      <th>Wire 1</th>\n",
       "      <th>Wire 2</th>\n",
       "      <th>Wire 4</th>\n",
       "      <th>Wire 6</th>\n",
       "      <th>Wire 7</th>\n",
       "      <th>gas</th>\n",
       "      <th>active_power</th>\n",
       "    </tr>\n",
       "    <tr>\n",
       "      <th>key</th>\n",
       "      <th></th>\n",
       "      <th></th>\n",
       "      <th></th>\n",
       "      <th></th>\n",
       "      <th></th>\n",
       "      <th></th>\n",
       "      <th></th>\n",
       "      <th></th>\n",
       "      <th></th>\n",
       "      <th></th>\n",
       "      <th></th>\n",
       "      <th></th>\n",
       "      <th></th>\n",
       "      <th></th>\n",
       "      <th></th>\n",
       "      <th></th>\n",
       "      <th></th>\n",
       "      <th></th>\n",
       "      <th></th>\n",
       "    </tr>\n",
       "  </thead>\n",
       "  <tbody>\n",
       "    <tr>\n",
       "      <td>1</td>\n",
       "      <td>1571.0</td>\n",
       "      <td>1613.0</td>\n",
       "      <td>0.0</td>\n",
       "      <td>0.0</td>\n",
       "      <td>43.0</td>\n",
       "      <td>0.0</td>\n",
       "      <td>0.0</td>\n",
       "      <td>0.0</td>\n",
       "      <td>0.0</td>\n",
       "      <td>0.0</td>\n",
       "      <td>0.0</td>\n",
       "      <td>0.0</td>\n",
       "      <td>0.000000</td>\n",
       "      <td>0.00000</td>\n",
       "      <td>0.0</td>\n",
       "      <td>0.0</td>\n",
       "      <td>0.0</td>\n",
       "      <td>29.749986</td>\n",
       "      <td>4.878147</td>\n",
       "    </tr>\n",
       "    <tr>\n",
       "      <td>2</td>\n",
       "      <td>1581.0</td>\n",
       "      <td>1602.0</td>\n",
       "      <td>0.0</td>\n",
       "      <td>0.0</td>\n",
       "      <td>73.0</td>\n",
       "      <td>0.0</td>\n",
       "      <td>0.0</td>\n",
       "      <td>0.0</td>\n",
       "      <td>0.0</td>\n",
       "      <td>206.0</td>\n",
       "      <td>149.0</td>\n",
       "      <td>154.0</td>\n",
       "      <td>96.052315</td>\n",
       "      <td>0.00000</td>\n",
       "      <td>0.0</td>\n",
       "      <td>0.0</td>\n",
       "      <td>0.0</td>\n",
       "      <td>12.555561</td>\n",
       "      <td>3.052598</td>\n",
       "    </tr>\n",
       "    <tr>\n",
       "      <td>3</td>\n",
       "      <td>1596.0</td>\n",
       "      <td>1599.0</td>\n",
       "      <td>0.0</td>\n",
       "      <td>0.0</td>\n",
       "      <td>34.0</td>\n",
       "      <td>0.0</td>\n",
       "      <td>0.0</td>\n",
       "      <td>0.0</td>\n",
       "      <td>0.0</td>\n",
       "      <td>0.0</td>\n",
       "      <td>0.0</td>\n",
       "      <td>0.0</td>\n",
       "      <td>91.160157</td>\n",
       "      <td>0.00000</td>\n",
       "      <td>0.0</td>\n",
       "      <td>0.0</td>\n",
       "      <td>0.0</td>\n",
       "      <td>28.554793</td>\n",
       "      <td>2.525882</td>\n",
       "    </tr>\n",
       "    <tr>\n",
       "      <td>4</td>\n",
       "      <td>1601.0</td>\n",
       "      <td>1625.0</td>\n",
       "      <td>0.0</td>\n",
       "      <td>0.0</td>\n",
       "      <td>0.0</td>\n",
       "      <td>0.0</td>\n",
       "      <td>0.0</td>\n",
       "      <td>0.0</td>\n",
       "      <td>0.0</td>\n",
       "      <td>0.0</td>\n",
       "      <td>0.0</td>\n",
       "      <td>0.0</td>\n",
       "      <td>0.000000</td>\n",
       "      <td>0.00000</td>\n",
       "      <td>0.0</td>\n",
       "      <td>0.0</td>\n",
       "      <td>0.0</td>\n",
       "      <td>18.841219</td>\n",
       "      <td>3.209250</td>\n",
       "    </tr>\n",
       "    <tr>\n",
       "      <td>5</td>\n",
       "      <td>1576.0</td>\n",
       "      <td>1602.0</td>\n",
       "      <td>0.0</td>\n",
       "      <td>0.0</td>\n",
       "      <td>0.0</td>\n",
       "      <td>0.0</td>\n",
       "      <td>0.0</td>\n",
       "      <td>0.0</td>\n",
       "      <td>0.0</td>\n",
       "      <td>0.0</td>\n",
       "      <td>0.0</td>\n",
       "      <td>0.0</td>\n",
       "      <td>0.000000</td>\n",
       "      <td>9.11456</td>\n",
       "      <td>0.0</td>\n",
       "      <td>0.0</td>\n",
       "      <td>0.0</td>\n",
       "      <td>5.413692</td>\n",
       "      <td>3.347173</td>\n",
       "    </tr>\n",
       "  </tbody>\n",
       "</table>\n",
       "</div>"
      ],
      "text/plain": [
       "     temp_before  temp_after  Bulk 1  Bulk 2  Bulk 4  Bulk 6  Bulk 7  Bulk 10  \\\n",
       "key                                                                             \n",
       "1         1571.0      1613.0     0.0     0.0    43.0     0.0     0.0      0.0   \n",
       "2         1581.0      1602.0     0.0     0.0    73.0     0.0     0.0      0.0   \n",
       "3         1596.0      1599.0     0.0     0.0    34.0     0.0     0.0      0.0   \n",
       "4         1601.0      1625.0     0.0     0.0     0.0     0.0     0.0      0.0   \n",
       "5         1576.0      1602.0     0.0     0.0     0.0     0.0     0.0      0.0   \n",
       "\n",
       "     Bulk 11  Bulk 12  Bulk 14  Bulk 15     Wire 1   Wire 2  Wire 4  Wire 6  \\\n",
       "key                                                                           \n",
       "1        0.0      0.0      0.0      0.0   0.000000  0.00000     0.0     0.0   \n",
       "2        0.0    206.0    149.0    154.0  96.052315  0.00000     0.0     0.0   \n",
       "3        0.0      0.0      0.0      0.0  91.160157  0.00000     0.0     0.0   \n",
       "4        0.0      0.0      0.0      0.0   0.000000  0.00000     0.0     0.0   \n",
       "5        0.0      0.0      0.0      0.0   0.000000  9.11456     0.0     0.0   \n",
       "\n",
       "     Wire 7        gas  active_power  \n",
       "key                                   \n",
       "1       0.0  29.749986      4.878147  \n",
       "2       0.0  12.555561      3.052598  \n",
       "3       0.0  28.554793      2.525882  \n",
       "4       0.0  18.841219      3.209250  \n",
       "5       0.0   5.413692      3.347173  "
      ]
     },
     "execution_count": 80,
     "metadata": {},
     "output_type": "execute_result"
    }
   ],
   "source": [
    "data.head()"
   ]
  },
  {
   "cell_type": "markdown",
   "metadata": {},
   "source": [
    "Корреляция еще на раз."
   ]
  },
  {
   "cell_type": "code",
   "execution_count": 81,
   "metadata": {},
   "outputs": [
    {
     "data": {
      "text/html": [
       "<div>\n",
       "<style scoped>\n",
       "    .dataframe tbody tr th:only-of-type {\n",
       "        vertical-align: middle;\n",
       "    }\n",
       "\n",
       "    .dataframe tbody tr th {\n",
       "        vertical-align: top;\n",
       "    }\n",
       "\n",
       "    .dataframe thead th {\n",
       "        text-align: right;\n",
       "    }\n",
       "</style>\n",
       "<table border=\"1\" class=\"dataframe\">\n",
       "  <thead>\n",
       "    <tr style=\"text-align: right;\">\n",
       "      <th></th>\n",
       "      <th>temp_before</th>\n",
       "      <th>temp_after</th>\n",
       "      <th>Bulk 1</th>\n",
       "      <th>Bulk 2</th>\n",
       "      <th>Bulk 4</th>\n",
       "      <th>Bulk 6</th>\n",
       "      <th>Bulk 7</th>\n",
       "      <th>Bulk 10</th>\n",
       "      <th>Bulk 11</th>\n",
       "      <th>Bulk 12</th>\n",
       "      <th>Bulk 14</th>\n",
       "      <th>Bulk 15</th>\n",
       "      <th>Wire 1</th>\n",
       "      <th>Wire 2</th>\n",
       "      <th>Wire 4</th>\n",
       "      <th>Wire 6</th>\n",
       "      <th>Wire 7</th>\n",
       "      <th>gas</th>\n",
       "      <th>active_power</th>\n",
       "    </tr>\n",
       "  </thead>\n",
       "  <tbody>\n",
       "    <tr>\n",
       "      <td>temp_before</td>\n",
       "      <td>1.000000</td>\n",
       "      <td>0.252432</td>\n",
       "      <td>0.089355</td>\n",
       "      <td>0.119794</td>\n",
       "      <td>0.156542</td>\n",
       "      <td>-0.090476</td>\n",
       "      <td>0.074723</td>\n",
       "      <td>0.040357</td>\n",
       "      <td>-0.086093</td>\n",
       "      <td>0.054777</td>\n",
       "      <td>0.033862</td>\n",
       "      <td>0.079848</td>\n",
       "      <td>0.240211</td>\n",
       "      <td>-0.063947</td>\n",
       "      <td>0.058678</td>\n",
       "      <td>0.026490</td>\n",
       "      <td>0.044768</td>\n",
       "      <td>0.037345</td>\n",
       "      <td>-0.347726</td>\n",
       "    </tr>\n",
       "    <tr>\n",
       "      <td>temp_after</td>\n",
       "      <td>0.252432</td>\n",
       "      <td>1.000000</td>\n",
       "      <td>-0.068192</td>\n",
       "      <td>-0.082524</td>\n",
       "      <td>0.175854</td>\n",
       "      <td>-0.178496</td>\n",
       "      <td>-0.107350</td>\n",
       "      <td>0.061275</td>\n",
       "      <td>-0.111322</td>\n",
       "      <td>0.221361</td>\n",
       "      <td>0.112651</td>\n",
       "      <td>0.223408</td>\n",
       "      <td>0.265382</td>\n",
       "      <td>-0.188494</td>\n",
       "      <td>-0.163270</td>\n",
       "      <td>-0.081146</td>\n",
       "      <td>-0.137330</td>\n",
       "      <td>0.059203</td>\n",
       "      <td>0.289950</td>\n",
       "    </tr>\n",
       "    <tr>\n",
       "      <td>Bulk 1</td>\n",
       "      <td>0.089355</td>\n",
       "      <td>-0.068192</td>\n",
       "      <td>1.000000</td>\n",
       "      <td>0.235429</td>\n",
       "      <td>0.043202</td>\n",
       "      <td>-0.003314</td>\n",
       "      <td>0.248147</td>\n",
       "      <td>-0.016708</td>\n",
       "      <td>-0.031907</td>\n",
       "      <td>0.349281</td>\n",
       "      <td>0.240331</td>\n",
       "      <td>0.062862</td>\n",
       "      <td>0.056266</td>\n",
       "      <td>0.006367</td>\n",
       "      <td>0.138665</td>\n",
       "      <td>0.169695</td>\n",
       "      <td>0.087522</td>\n",
       "      <td>0.239380</td>\n",
       "      <td>0.083650</td>\n",
       "    </tr>\n",
       "    <tr>\n",
       "      <td>Bulk 2</td>\n",
       "      <td>0.119794</td>\n",
       "      <td>-0.082524</td>\n",
       "      <td>0.235429</td>\n",
       "      <td>1.000000</td>\n",
       "      <td>0.043519</td>\n",
       "      <td>-0.028805</td>\n",
       "      <td>0.679356</td>\n",
       "      <td>-0.017606</td>\n",
       "      <td>0.002309</td>\n",
       "      <td>-0.075264</td>\n",
       "      <td>-0.097296</td>\n",
       "      <td>-0.080037</td>\n",
       "      <td>-0.133805</td>\n",
       "      <td>-0.037561</td>\n",
       "      <td>0.666086</td>\n",
       "      <td>0.595730</td>\n",
       "      <td>0.431737</td>\n",
       "      <td>0.217417</td>\n",
       "      <td>0.031046</td>\n",
       "    </tr>\n",
       "    <tr>\n",
       "      <td>Bulk 4</td>\n",
       "      <td>0.156542</td>\n",
       "      <td>0.175854</td>\n",
       "      <td>0.043202</td>\n",
       "      <td>0.043519</td>\n",
       "      <td>1.000000</td>\n",
       "      <td>-0.234979</td>\n",
       "      <td>0.048456</td>\n",
       "      <td>-0.073794</td>\n",
       "      <td>-0.112676</td>\n",
       "      <td>0.115347</td>\n",
       "      <td>-0.029510</td>\n",
       "      <td>0.105579</td>\n",
       "      <td>0.295289</td>\n",
       "      <td>-0.250893</td>\n",
       "      <td>0.035454</td>\n",
       "      <td>-0.004360</td>\n",
       "      <td>0.035248</td>\n",
       "      <td>0.025516</td>\n",
       "      <td>-0.039871</td>\n",
       "    </tr>\n",
       "    <tr>\n",
       "      <td>Bulk 6</td>\n",
       "      <td>-0.090476</td>\n",
       "      <td>-0.178496</td>\n",
       "      <td>-0.003314</td>\n",
       "      <td>-0.028805</td>\n",
       "      <td>-0.234979</td>\n",
       "      <td>1.000000</td>\n",
       "      <td>-0.024013</td>\n",
       "      <td>-0.091259</td>\n",
       "      <td>0.190039</td>\n",
       "      <td>-0.038427</td>\n",
       "      <td>0.189001</td>\n",
       "      <td>-0.021457</td>\n",
       "      <td>-0.153760</td>\n",
       "      <td>0.204776</td>\n",
       "      <td>-0.023987</td>\n",
       "      <td>-0.015502</td>\n",
       "      <td>-0.011948</td>\n",
       "      <td>0.148010</td>\n",
       "      <td>0.146089</td>\n",
       "    </tr>\n",
       "    <tr>\n",
       "      <td>Bulk 7</td>\n",
       "      <td>0.074723</td>\n",
       "      <td>-0.107350</td>\n",
       "      <td>0.248147</td>\n",
       "      <td>0.679356</td>\n",
       "      <td>0.048456</td>\n",
       "      <td>-0.024013</td>\n",
       "      <td>1.000000</td>\n",
       "      <td>-0.015434</td>\n",
       "      <td>-0.004332</td>\n",
       "      <td>-0.002915</td>\n",
       "      <td>-0.047524</td>\n",
       "      <td>-0.070165</td>\n",
       "      <td>-0.112763</td>\n",
       "      <td>0.001960</td>\n",
       "      <td>0.748486</td>\n",
       "      <td>0.486201</td>\n",
       "      <td>0.372251</td>\n",
       "      <td>0.198312</td>\n",
       "      <td>0.074396</td>\n",
       "    </tr>\n",
       "    <tr>\n",
       "      <td>Bulk 10</td>\n",
       "      <td>0.040357</td>\n",
       "      <td>0.061275</td>\n",
       "      <td>-0.016708</td>\n",
       "      <td>-0.017606</td>\n",
       "      <td>-0.073794</td>\n",
       "      <td>-0.091259</td>\n",
       "      <td>-0.015434</td>\n",
       "      <td>1.000000</td>\n",
       "      <td>-0.043109</td>\n",
       "      <td>0.022312</td>\n",
       "      <td>-0.026411</td>\n",
       "      <td>0.030125</td>\n",
       "      <td>0.068384</td>\n",
       "      <td>-0.096571</td>\n",
       "      <td>-0.014661</td>\n",
       "      <td>-0.026515</td>\n",
       "      <td>-0.007303</td>\n",
       "      <td>-0.004783</td>\n",
       "      <td>0.005739</td>\n",
       "    </tr>\n",
       "    <tr>\n",
       "      <td>Bulk 11</td>\n",
       "      <td>-0.086093</td>\n",
       "      <td>-0.111322</td>\n",
       "      <td>-0.031907</td>\n",
       "      <td>0.002309</td>\n",
       "      <td>-0.112676</td>\n",
       "      <td>0.190039</td>\n",
       "      <td>-0.004332</td>\n",
       "      <td>-0.043109</td>\n",
       "      <td>1.000000</td>\n",
       "      <td>-0.000807</td>\n",
       "      <td>0.081026</td>\n",
       "      <td>0.000750</td>\n",
       "      <td>-0.076865</td>\n",
       "      <td>0.065184</td>\n",
       "      <td>-0.011331</td>\n",
       "      <td>0.012159</td>\n",
       "      <td>-0.005644</td>\n",
       "      <td>0.050428</td>\n",
       "      <td>0.068087</td>\n",
       "    </tr>\n",
       "    <tr>\n",
       "      <td>Bulk 12</td>\n",
       "      <td>0.054777</td>\n",
       "      <td>0.221361</td>\n",
       "      <td>0.349281</td>\n",
       "      <td>-0.075264</td>\n",
       "      <td>0.115347</td>\n",
       "      <td>-0.038427</td>\n",
       "      <td>-0.002915</td>\n",
       "      <td>0.022312</td>\n",
       "      <td>-0.000807</td>\n",
       "      <td>1.000000</td>\n",
       "      <td>0.627499</td>\n",
       "      <td>0.696306</td>\n",
       "      <td>0.316684</td>\n",
       "      <td>-0.044351</td>\n",
       "      <td>-0.062675</td>\n",
       "      <td>-0.047432</td>\n",
       "      <td>-0.031218</td>\n",
       "      <td>0.239066</td>\n",
       "      <td>0.373805</td>\n",
       "    </tr>\n",
       "    <tr>\n",
       "      <td>Bulk 14</td>\n",
       "      <td>0.033862</td>\n",
       "      <td>0.112651</td>\n",
       "      <td>0.240331</td>\n",
       "      <td>-0.097296</td>\n",
       "      <td>-0.029510</td>\n",
       "      <td>0.189001</td>\n",
       "      <td>-0.047524</td>\n",
       "      <td>-0.026411</td>\n",
       "      <td>0.081026</td>\n",
       "      <td>0.627499</td>\n",
       "      <td>1.000000</td>\n",
       "      <td>0.502269</td>\n",
       "      <td>0.209569</td>\n",
       "      <td>0.056517</td>\n",
       "      <td>-0.081022</td>\n",
       "      <td>-0.057358</td>\n",
       "      <td>-0.040357</td>\n",
       "      <td>0.242705</td>\n",
       "      <td>0.310237</td>\n",
       "    </tr>\n",
       "    <tr>\n",
       "      <td>Bulk 15</td>\n",
       "      <td>0.079848</td>\n",
       "      <td>0.223408</td>\n",
       "      <td>0.062862</td>\n",
       "      <td>-0.080037</td>\n",
       "      <td>0.105579</td>\n",
       "      <td>-0.021457</td>\n",
       "      <td>-0.070165</td>\n",
       "      <td>0.030125</td>\n",
       "      <td>0.000750</td>\n",
       "      <td>0.696306</td>\n",
       "      <td>0.502269</td>\n",
       "      <td>1.000000</td>\n",
       "      <td>0.291978</td>\n",
       "      <td>-0.042863</td>\n",
       "      <td>-0.066650</td>\n",
       "      <td>-0.039693</td>\n",
       "      <td>-0.033198</td>\n",
       "      <td>0.098608</td>\n",
       "      <td>0.263669</td>\n",
       "    </tr>\n",
       "    <tr>\n",
       "      <td>Wire 1</td>\n",
       "      <td>0.240211</td>\n",
       "      <td>0.265382</td>\n",
       "      <td>0.056266</td>\n",
       "      <td>-0.133805</td>\n",
       "      <td>0.295289</td>\n",
       "      <td>-0.153760</td>\n",
       "      <td>-0.112763</td>\n",
       "      <td>0.068384</td>\n",
       "      <td>-0.076865</td>\n",
       "      <td>0.316684</td>\n",
       "      <td>0.209569</td>\n",
       "      <td>0.291978</td>\n",
       "      <td>1.000000</td>\n",
       "      <td>-0.013477</td>\n",
       "      <td>-0.107347</td>\n",
       "      <td>-0.107659</td>\n",
       "      <td>-0.053116</td>\n",
       "      <td>0.096838</td>\n",
       "      <td>0.020283</td>\n",
       "    </tr>\n",
       "    <tr>\n",
       "      <td>Wire 2</td>\n",
       "      <td>-0.063947</td>\n",
       "      <td>-0.188494</td>\n",
       "      <td>0.006367</td>\n",
       "      <td>-0.037561</td>\n",
       "      <td>-0.250893</td>\n",
       "      <td>0.204776</td>\n",
       "      <td>0.001960</td>\n",
       "      <td>-0.096571</td>\n",
       "      <td>0.065184</td>\n",
       "      <td>-0.044351</td>\n",
       "      <td>0.056517</td>\n",
       "      <td>-0.042863</td>\n",
       "      <td>-0.013477</td>\n",
       "      <td>1.000000</td>\n",
       "      <td>-0.031278</td>\n",
       "      <td>-0.056243</td>\n",
       "      <td>-0.015580</td>\n",
       "      <td>0.098221</td>\n",
       "      <td>0.043562</td>\n",
       "    </tr>\n",
       "    <tr>\n",
       "      <td>Wire 4</td>\n",
       "      <td>0.058678</td>\n",
       "      <td>-0.163270</td>\n",
       "      <td>0.138665</td>\n",
       "      <td>0.666086</td>\n",
       "      <td>0.035454</td>\n",
       "      <td>-0.023987</td>\n",
       "      <td>0.748486</td>\n",
       "      <td>-0.014661</td>\n",
       "      <td>-0.011331</td>\n",
       "      <td>-0.062675</td>\n",
       "      <td>-0.081022</td>\n",
       "      <td>-0.066650</td>\n",
       "      <td>-0.107347</td>\n",
       "      <td>-0.031278</td>\n",
       "      <td>1.000000</td>\n",
       "      <td>0.458431</td>\n",
       "      <td>0.609340</td>\n",
       "      <td>0.133855</td>\n",
       "      <td>0.044003</td>\n",
       "    </tr>\n",
       "    <tr>\n",
       "      <td>Wire 6</td>\n",
       "      <td>0.026490</td>\n",
       "      <td>-0.081146</td>\n",
       "      <td>0.169695</td>\n",
       "      <td>0.595730</td>\n",
       "      <td>-0.004360</td>\n",
       "      <td>-0.015502</td>\n",
       "      <td>0.486201</td>\n",
       "      <td>-0.026515</td>\n",
       "      <td>0.012159</td>\n",
       "      <td>-0.047432</td>\n",
       "      <td>-0.057358</td>\n",
       "      <td>-0.039693</td>\n",
       "      <td>-0.107659</td>\n",
       "      <td>-0.056243</td>\n",
       "      <td>0.458431</td>\n",
       "      <td>1.000000</td>\n",
       "      <td>0.322626</td>\n",
       "      <td>0.116608</td>\n",
       "      <td>0.059079</td>\n",
       "    </tr>\n",
       "    <tr>\n",
       "      <td>Wire 7</td>\n",
       "      <td>0.044768</td>\n",
       "      <td>-0.137330</td>\n",
       "      <td>0.087522</td>\n",
       "      <td>0.431737</td>\n",
       "      <td>0.035248</td>\n",
       "      <td>-0.011948</td>\n",
       "      <td>0.372251</td>\n",
       "      <td>-0.007303</td>\n",
       "      <td>-0.005644</td>\n",
       "      <td>-0.031218</td>\n",
       "      <td>-0.040357</td>\n",
       "      <td>-0.033198</td>\n",
       "      <td>-0.053116</td>\n",
       "      <td>-0.015580</td>\n",
       "      <td>0.609340</td>\n",
       "      <td>0.322626</td>\n",
       "      <td>1.000000</td>\n",
       "      <td>0.078953</td>\n",
       "      <td>0.019631</td>\n",
       "    </tr>\n",
       "    <tr>\n",
       "      <td>gas</td>\n",
       "      <td>0.037345</td>\n",
       "      <td>0.059203</td>\n",
       "      <td>0.239380</td>\n",
       "      <td>0.217417</td>\n",
       "      <td>0.025516</td>\n",
       "      <td>0.148010</td>\n",
       "      <td>0.198312</td>\n",
       "      <td>-0.004783</td>\n",
       "      <td>0.050428</td>\n",
       "      <td>0.239066</td>\n",
       "      <td>0.242705</td>\n",
       "      <td>0.098608</td>\n",
       "      <td>0.096838</td>\n",
       "      <td>0.098221</td>\n",
       "      <td>0.133855</td>\n",
       "      <td>0.116608</td>\n",
       "      <td>0.078953</td>\n",
       "      <td>1.000000</td>\n",
       "      <td>0.373912</td>\n",
       "    </tr>\n",
       "    <tr>\n",
       "      <td>active_power</td>\n",
       "      <td>-0.347726</td>\n",
       "      <td>0.289950</td>\n",
       "      <td>0.083650</td>\n",
       "      <td>0.031046</td>\n",
       "      <td>-0.039871</td>\n",
       "      <td>0.146089</td>\n",
       "      <td>0.074396</td>\n",
       "      <td>0.005739</td>\n",
       "      <td>0.068087</td>\n",
       "      <td>0.373805</td>\n",
       "      <td>0.310237</td>\n",
       "      <td>0.263669</td>\n",
       "      <td>0.020283</td>\n",
       "      <td>0.043562</td>\n",
       "      <td>0.044003</td>\n",
       "      <td>0.059079</td>\n",
       "      <td>0.019631</td>\n",
       "      <td>0.373912</td>\n",
       "      <td>1.000000</td>\n",
       "    </tr>\n",
       "  </tbody>\n",
       "</table>\n",
       "</div>"
      ],
      "text/plain": [
       "              temp_before  temp_after    Bulk 1    Bulk 2    Bulk 4    Bulk 6  \\\n",
       "temp_before      1.000000    0.252432  0.089355  0.119794  0.156542 -0.090476   \n",
       "temp_after       0.252432    1.000000 -0.068192 -0.082524  0.175854 -0.178496   \n",
       "Bulk 1           0.089355   -0.068192  1.000000  0.235429  0.043202 -0.003314   \n",
       "Bulk 2           0.119794   -0.082524  0.235429  1.000000  0.043519 -0.028805   \n",
       "Bulk 4           0.156542    0.175854  0.043202  0.043519  1.000000 -0.234979   \n",
       "Bulk 6          -0.090476   -0.178496 -0.003314 -0.028805 -0.234979  1.000000   \n",
       "Bulk 7           0.074723   -0.107350  0.248147  0.679356  0.048456 -0.024013   \n",
       "Bulk 10          0.040357    0.061275 -0.016708 -0.017606 -0.073794 -0.091259   \n",
       "Bulk 11         -0.086093   -0.111322 -0.031907  0.002309 -0.112676  0.190039   \n",
       "Bulk 12          0.054777    0.221361  0.349281 -0.075264  0.115347 -0.038427   \n",
       "Bulk 14          0.033862    0.112651  0.240331 -0.097296 -0.029510  0.189001   \n",
       "Bulk 15          0.079848    0.223408  0.062862 -0.080037  0.105579 -0.021457   \n",
       "Wire 1           0.240211    0.265382  0.056266 -0.133805  0.295289 -0.153760   \n",
       "Wire 2          -0.063947   -0.188494  0.006367 -0.037561 -0.250893  0.204776   \n",
       "Wire 4           0.058678   -0.163270  0.138665  0.666086  0.035454 -0.023987   \n",
       "Wire 6           0.026490   -0.081146  0.169695  0.595730 -0.004360 -0.015502   \n",
       "Wire 7           0.044768   -0.137330  0.087522  0.431737  0.035248 -0.011948   \n",
       "gas              0.037345    0.059203  0.239380  0.217417  0.025516  0.148010   \n",
       "active_power    -0.347726    0.289950  0.083650  0.031046 -0.039871  0.146089   \n",
       "\n",
       "                Bulk 7   Bulk 10   Bulk 11   Bulk 12   Bulk 14   Bulk 15  \\\n",
       "temp_before   0.074723  0.040357 -0.086093  0.054777  0.033862  0.079848   \n",
       "temp_after   -0.107350  0.061275 -0.111322  0.221361  0.112651  0.223408   \n",
       "Bulk 1        0.248147 -0.016708 -0.031907  0.349281  0.240331  0.062862   \n",
       "Bulk 2        0.679356 -0.017606  0.002309 -0.075264 -0.097296 -0.080037   \n",
       "Bulk 4        0.048456 -0.073794 -0.112676  0.115347 -0.029510  0.105579   \n",
       "Bulk 6       -0.024013 -0.091259  0.190039 -0.038427  0.189001 -0.021457   \n",
       "Bulk 7        1.000000 -0.015434 -0.004332 -0.002915 -0.047524 -0.070165   \n",
       "Bulk 10      -0.015434  1.000000 -0.043109  0.022312 -0.026411  0.030125   \n",
       "Bulk 11      -0.004332 -0.043109  1.000000 -0.000807  0.081026  0.000750   \n",
       "Bulk 12      -0.002915  0.022312 -0.000807  1.000000  0.627499  0.696306   \n",
       "Bulk 14      -0.047524 -0.026411  0.081026  0.627499  1.000000  0.502269   \n",
       "Bulk 15      -0.070165  0.030125  0.000750  0.696306  0.502269  1.000000   \n",
       "Wire 1       -0.112763  0.068384 -0.076865  0.316684  0.209569  0.291978   \n",
       "Wire 2        0.001960 -0.096571  0.065184 -0.044351  0.056517 -0.042863   \n",
       "Wire 4        0.748486 -0.014661 -0.011331 -0.062675 -0.081022 -0.066650   \n",
       "Wire 6        0.486201 -0.026515  0.012159 -0.047432 -0.057358 -0.039693   \n",
       "Wire 7        0.372251 -0.007303 -0.005644 -0.031218 -0.040357 -0.033198   \n",
       "gas           0.198312 -0.004783  0.050428  0.239066  0.242705  0.098608   \n",
       "active_power  0.074396  0.005739  0.068087  0.373805  0.310237  0.263669   \n",
       "\n",
       "                Wire 1    Wire 2    Wire 4    Wire 6    Wire 7       gas  \\\n",
       "temp_before   0.240211 -0.063947  0.058678  0.026490  0.044768  0.037345   \n",
       "temp_after    0.265382 -0.188494 -0.163270 -0.081146 -0.137330  0.059203   \n",
       "Bulk 1        0.056266  0.006367  0.138665  0.169695  0.087522  0.239380   \n",
       "Bulk 2       -0.133805 -0.037561  0.666086  0.595730  0.431737  0.217417   \n",
       "Bulk 4        0.295289 -0.250893  0.035454 -0.004360  0.035248  0.025516   \n",
       "Bulk 6       -0.153760  0.204776 -0.023987 -0.015502 -0.011948  0.148010   \n",
       "Bulk 7       -0.112763  0.001960  0.748486  0.486201  0.372251  0.198312   \n",
       "Bulk 10       0.068384 -0.096571 -0.014661 -0.026515 -0.007303 -0.004783   \n",
       "Bulk 11      -0.076865  0.065184 -0.011331  0.012159 -0.005644  0.050428   \n",
       "Bulk 12       0.316684 -0.044351 -0.062675 -0.047432 -0.031218  0.239066   \n",
       "Bulk 14       0.209569  0.056517 -0.081022 -0.057358 -0.040357  0.242705   \n",
       "Bulk 15       0.291978 -0.042863 -0.066650 -0.039693 -0.033198  0.098608   \n",
       "Wire 1        1.000000 -0.013477 -0.107347 -0.107659 -0.053116  0.096838   \n",
       "Wire 2       -0.013477  1.000000 -0.031278 -0.056243 -0.015580  0.098221   \n",
       "Wire 4       -0.107347 -0.031278  1.000000  0.458431  0.609340  0.133855   \n",
       "Wire 6       -0.107659 -0.056243  0.458431  1.000000  0.322626  0.116608   \n",
       "Wire 7       -0.053116 -0.015580  0.609340  0.322626  1.000000  0.078953   \n",
       "gas           0.096838  0.098221  0.133855  0.116608  0.078953  1.000000   \n",
       "active_power  0.020283  0.043562  0.044003  0.059079  0.019631  0.373912   \n",
       "\n",
       "              active_power  \n",
       "temp_before      -0.347726  \n",
       "temp_after        0.289950  \n",
       "Bulk 1            0.083650  \n",
       "Bulk 2            0.031046  \n",
       "Bulk 4           -0.039871  \n",
       "Bulk 6            0.146089  \n",
       "Bulk 7            0.074396  \n",
       "Bulk 10           0.005739  \n",
       "Bulk 11           0.068087  \n",
       "Bulk 12           0.373805  \n",
       "Bulk 14           0.310237  \n",
       "Bulk 15           0.263669  \n",
       "Wire 1            0.020283  \n",
       "Wire 2            0.043562  \n",
       "Wire 4            0.044003  \n",
       "Wire 6            0.059079  \n",
       "Wire 7            0.019631  \n",
       "gas               0.373912  \n",
       "active_power      1.000000  "
      ]
     },
     "execution_count": 81,
     "metadata": {},
     "output_type": "execute_result"
    }
   ],
   "source": [
    "data.corr()"
   ]
  },
  {
   "cell_type": "markdown",
   "metadata": {},
   "source": [
    "Все признаки кажутся информативными. Никакие из них между собой сильно не коррелируют (настолько сильно, чтоб пришлось обратить на это внимание)."
   ]
  },
  {
   "cell_type": "markdown",
   "metadata": {},
   "source": [
    "Посмотрим распределения температур и газа. Были выбросы на предыдущем этапе."
   ]
  },
  {
   "cell_type": "code",
   "execution_count": 82,
   "metadata": {},
   "outputs": [
    {
     "data": {
      "image/png": "[encoded data removed]",
      "text/plain": [
       "<Figure size 432x288 with 1 Axes>"
      ]
     },
     "metadata": {
      "needs_background": "light"
     },
     "output_type": "display_data"
    }
   ],
   "source": [
    "hp(data, 'temp_before', 'Температура', 'Распределение температуры до операций')"
   ]
  },
  {
   "cell_type": "markdown",
   "metadata": {},
   "source": [
    "Температура плавления стали 1450. Удаляем все, что меньше и строим еще раз."
   ]
  },
  {
   "cell_type": "code",
   "execution_count": 83,
   "metadata": {},
   "outputs": [],
   "source": [
    "data = data.drop(index=data[data.temp_before < 1450].index)"
   ]
  },
  {
   "cell_type": "code",
   "execution_count": 84,
   "metadata": {},
   "outputs": [
    {
     "data": {
      "image/png": "[encoded data removed]",
      "text/plain": [
       "<Figure size 432x288 with 1 Axes>"
      ]
     },
     "metadata": {
      "needs_background": "light"
     },
     "output_type": "display_data"
    }
   ],
   "source": [
    "hp(data, 'temp_before', 'Температура', 'Распределение температуры до операций')"
   ]
  },
  {
   "cell_type": "markdown",
   "metadata": {},
   "source": [
    "Все в порядке. Другая температура."
   ]
  },
  {
   "cell_type": "code",
   "execution_count": 85,
   "metadata": {},
   "outputs": [
    {
     "data": {
      "image/png": "[encoded data removed]",
      "text/plain": [
       "<Figure size 432x288 with 1 Axes>"
      ]
     },
     "metadata": {
      "needs_background": "light"
     },
     "output_type": "display_data"
    }
   ],
   "source": [
    "hp(data, 'temp_after', 'Температура', 'Распределение температуры после операций')"
   ]
  },
  {
   "cell_type": "markdown",
   "metadata": {},
   "source": [
    "Все хорошо. И наконец, газ."
   ]
  },
  {
   "cell_type": "code",
   "execution_count": 86,
   "metadata": {},
   "outputs": [
    {
     "data": {
      "image/png": "[encoded data removed]",
      "text/plain": [
       "<Figure size 432x288 with 1 Axes>"
      ]
     },
     "metadata": {
      "needs_background": "light"
     },
     "output_type": "display_data"
    }
   ],
   "source": [
    "hp(data, 'gas', 'Кол-во газа', 'Распределение кол-ва газа')"
   ]
  },
  {
   "cell_type": "code",
   "execution_count": 87,
   "metadata": {},
   "outputs": [
    {
     "data": {
      "image/png": "[encoded data removed]",
      "text/plain": [
       "<Figure size 432x288 with 1 Axes>"
      ]
     },
     "metadata": {
      "needs_background": "light"
     },
     "output_type": "display_data"
    }
   ],
   "source": [
    "bp(data, 'gas', 'Диаграмма размаха кол-ва газа')"
   ]
  },
  {
   "cell_type": "markdown",
   "metadata": {},
   "source": [
    "Удалим значения выше 48."
   ]
  },
  {
   "cell_type": "code",
   "execution_count": 88,
   "metadata": {},
   "outputs": [
    {
     "data": {
      "image/png": "[encoded data removed]",
      "text/plain": [
       "<Figure size 432x288 with 1 Axes>"
      ]
     },
     "metadata": {
      "needs_background": "light"
     },
     "output_type": "display_data"
    }
   ],
   "source": [
    "data = data.drop(index=data[data.gas > 48].index)\n",
    "hp(data, 'gas', 'Кол-во газа', 'Распределение кол-ва газа')"
   ]
  },
  {
   "cell_type": "markdown",
   "metadata": {},
   "source": [
    "Другое дело."
   ]
  },
  {
   "cell_type": "code",
   "execution_count": 89,
   "metadata": {},
   "outputs": [],
   "source": [
    "data = data.dropna()"
   ]
  },
  {
   "cell_type": "code",
   "execution_count": 90,
   "metadata": {},
   "outputs": [
    {
     "name": "stdout",
     "output_type": "stream",
     "text": [
      "<class 'pandas.core.frame.DataFrame'>\n",
      "Int64Index: 2320 entries, 1 to 2499\n",
      "Data columns (total 19 columns):\n",
      "temp_before     2320 non-null float64\n",
      "temp_after      2320 non-null float64\n",
      "Bulk 1          2320 non-null float64\n",
      "Bulk 2          2320 non-null float64\n",
      "Bulk 4          2320 non-null float64\n",
      "Bulk 6          2320 non-null float64\n",
      "Bulk 7          2320 non-null float64\n",
      "Bulk 10         2320 non-null float64\n",
      "Bulk 11         2320 non-null float64\n",
      "Bulk 12         2320 non-null float64\n",
      "Bulk 14         2320 non-null float64\n",
      "Bulk 15         2320 non-null float64\n",
      "Wire 1          2320 non-null float64\n",
      "Wire 2          2320 non-null float64\n",
      "Wire 4          2320 non-null float64\n",
      "Wire 6          2320 non-null float64\n",
      "Wire 7          2320 non-null float64\n",
      "gas             2320 non-null float64\n",
      "active_power    2320 non-null float64\n",
      "dtypes: float64(19)\n",
      "memory usage: 362.5 KB\n"
     ]
    }
   ],
   "source": [
    "data.info()"
   ]
  },
  {
   "cell_type": "markdown",
   "metadata": {},
   "source": [
    "**Вывод по Шагу 2**: итак, на данном шаге мы произвели предобработку данных, отобрали признаки, которые будем использовать в модели, собрали все в одну таблицу и удалили аномалии. Получилось 17 признаков, 2320 объектов. До обучения осталась лишь стандартизация данных, которую необходимо будет произвести лишь после деления на выборки."
   ]
  },
  {
   "cell_type": "markdown",
   "metadata": {},
   "source": [
    "<h3>Шаг 3: Обучение модели</h3>"
   ]
  },
  {
   "cell_type": "markdown",
   "metadata": {},
   "source": [
    "Теперь - сама модель. Поделим на выборки. Пропорции: 4:1 (валидационная и обучающая вместе для кросс-валидации)."
   ]
  },
  {
   "cell_type": "markdown",
   "metadata": {},
   "source": [
    "Отделим перед этим целевой признак."
   ]
  },
  {
   "cell_type": "code",
   "execution_count": 91,
   "metadata": {},
   "outputs": [],
   "source": [
    "target = data['temp_after']\n",
    "features = data.drop(columns=['temp_after'])"
   ]
  },
  {
   "cell_type": "code",
   "execution_count": 92,
   "metadata": {},
   "outputs": [],
   "source": [
    "features_train, features_test, target_train, target_test = train_test_split(features, target, test_size=0.2, random_state=12345)"
   ]
  },
  {
   "cell_type": "code",
   "execution_count": 93,
   "metadata": {},
   "outputs": [],
   "source": [
    "features = features.columns"
   ]
  },
  {
   "cell_type": "markdown",
   "metadata": {},
   "source": [
    "Стандартизируем данные. "
   ]
  },
  {
   "cell_type": "code",
   "execution_count": 94,
   "metadata": {},
   "outputs": [],
   "source": [
    "scaler = StandardScaler()\n",
    "scaler.fit(features_train)\n",
    "features_train = pd.DataFrame(columns=features, data=scaler.transform(features_train))\n",
    "features_test = pd.DataFrame(columns=features, data=scaler.transform(features_test))"
   ]
  },
  {
   "cell_type": "markdown",
   "metadata": {},
   "source": [
    "Из моделей попробуем: гребневую регрессию, случайный лес, градиентный бустинг и метод опорных векторов. Будем также подбирать гиперпараметры."
   ]
  },
  {
   "cell_type": "markdown",
   "metadata": {},
   "source": [
    "**Гребневая регрессия**"
   ]
  },
  {
   "cell_type": "code",
   "execution_count": 95,
   "metadata": {},
   "outputs": [],
   "source": [
    "model1gs = Ridge()\n",
    "params1 = {'alpha': [0.1, 0.25, 0.5, 0.75, 1, 2, 5, 10]}\n",
    "gs1 = GridSearchCV(model1gs, params1, cv=5, n_jobs=-1, scoring='neg_mean_absolute_error')"
   ]
  },
  {
   "cell_type": "code",
   "execution_count": 96,
   "metadata": {},
   "outputs": [
    {
     "data": {
      "text/plain": [
       "GridSearchCV(cv=5, error_score='raise-deprecating',\n",
       "             estimator=Ridge(alpha=1.0, copy_X=True, fit_intercept=True,\n",
       "                             max_iter=None, normalize=False, random_state=None,\n",
       "                             solver='auto', tol=0.001),\n",
       "             iid='warn', n_jobs=-1,\n",
       "             param_grid={'alpha': [0.1, 0.25, 0.5, 0.75, 1, 2, 5, 10]},\n",
       "             pre_dispatch='2*n_jobs', refit=True, return_train_score=False,\n",
       "             scoring='neg_mean_absolute_error', verbose=0)"
      ]
     },
     "execution_count": 96,
     "metadata": {},
     "output_type": "execute_result"
    }
   ],
   "source": [
    "gs1.fit(features_train, target_train)"
   ]
  },
  {
   "cell_type": "markdown",
   "metadata": {},
   "source": [
    "Лучшие гиперпараметры."
   ]
  },
  {
   "cell_type": "code",
   "execution_count": 97,
   "metadata": {},
   "outputs": [
    {
     "data": {
      "text/plain": [
       "{'alpha': 10}"
      ]
     },
     "execution_count": 97,
     "metadata": {},
     "output_type": "execute_result"
    }
   ],
   "source": [
    "gs1.best_params_"
   ]
  },
  {
   "cell_type": "markdown",
   "metadata": {},
   "source": [
    "Лучшее МАЕ по результатам кросс валидации у лучшей модели такого вида."
   ]
  },
  {
   "cell_type": "code",
   "execution_count": 98,
   "metadata": {},
   "outputs": [
    {
     "data": {
      "text/plain": [
       "'Лучшее МАЕ: 6.29'"
      ]
     },
     "execution_count": 98,
     "metadata": {},
     "output_type": "execute_result"
    }
   ],
   "source": [
    "'Лучшее МАЕ: {:.3}'.format(gs1.best_score_ * (-1))"
   ]
  },
  {
   "cell_type": "markdown",
   "metadata": {},
   "source": [
    "Неплохо, идем дальше."
   ]
  },
  {
   "cell_type": "markdown",
   "metadata": {},
   "source": [
    "**Метод опорных векторов**"
   ]
  },
  {
   "cell_type": "code",
   "execution_count": 99,
   "metadata": {},
   "outputs": [],
   "source": [
    "model2gs = SVR()\n",
    "params2 = {'C': [0.1, 0.25, 0.5, 0.75, 1, 2, 5, 10, 20], 'kernel' : ['linear', 'poly', 'rbf']}\n",
    "gs2 = GridSearchCV(model2gs, params2, cv=5, n_jobs=-1, scoring='neg_mean_absolute_error')"
   ]
  },
  {
   "cell_type": "code",
   "execution_count": 100,
   "metadata": {},
   "outputs": [
    {
     "name": "stderr",
     "output_type": "stream",
     "text": [
      "C:\\Users\\Acer\\anaconda3\\envs\\practicum\\lib\\site-packages\\sklearn\\model_selection\\_search.py:813: DeprecationWarning: The default of the `iid` parameter will change from True to False in version 0.22 and will be removed in 0.24. This will change numeric results when test-set sizes are unequal.\n",
      "  DeprecationWarning)\n"
     ]
    },
    {
     "data": {
      "text/plain": [
       "GridSearchCV(cv=5, error_score='raise-deprecating',\n",
       "             estimator=SVR(C=1.0, cache_size=200, coef0=0.0, degree=3,\n",
       "                           epsilon=0.1, gamma='auto_deprecated', kernel='rbf',\n",
       "                           max_iter=-1, shrinking=True, tol=0.001,\n",
       "                           verbose=False),\n",
       "             iid='warn', n_jobs=-1,\n",
       "             param_grid={'C': [0.1, 0.25, 0.5, 0.75, 1, 2, 5, 10, 20],\n",
       "                         'kernel': ['linear', 'poly', 'rbf']},\n",
       "             pre_dispatch='2*n_jobs', refit=True, return_train_score=False,\n",
       "             scoring='neg_mean_absolute_error', verbose=0)"
      ]
     },
     "execution_count": 100,
     "metadata": {},
     "output_type": "execute_result"
    }
   ],
   "source": [
    "gs2.fit(features_train, target_train)"
   ]
  },
  {
   "cell_type": "markdown",
   "metadata": {},
   "source": [
    "Лучшие параметры."
   ]
  },
  {
   "cell_type": "code",
   "execution_count": 101,
   "metadata": {},
   "outputs": [
    {
     "data": {
      "text/plain": [
       "{'C': 10, 'kernel': 'rbf'}"
      ]
     },
     "execution_count": 101,
     "metadata": {},
     "output_type": "execute_result"
    }
   ],
   "source": [
    "gs2.best_params_"
   ]
  },
  {
   "cell_type": "markdown",
   "metadata": {},
   "source": [
    "МАЕ."
   ]
  },
  {
   "cell_type": "code",
   "execution_count": 102,
   "metadata": {},
   "outputs": [
    {
     "data": {
      "text/plain": [
       "'Лучшее МАЕ: 6.12'"
      ]
     },
     "execution_count": 102,
     "metadata": {},
     "output_type": "execute_result"
    }
   ],
   "source": [
    "'Лучшее МАЕ: {:.3}'.format(gs2.best_score_ * (-1))"
   ]
  },
  {
   "cell_type": "markdown",
   "metadata": {},
   "source": [
    "Лучше гребневой регрессии, но все еще больше 6."
   ]
  },
  {
   "cell_type": "markdown",
   "metadata": {},
   "source": [
    "**Случайный лес**"
   ]
  },
  {
   "cell_type": "code",
   "execution_count": 103,
   "metadata": {},
   "outputs": [],
   "source": [
    "model3gs = RandomForestRegressor()\n",
    "params3 = {'max_depth' : [3, 5, 7, 10, 15, 20, 30, 40],\n",
    "          'n_estimators' : [200, 300],\n",
    "          'random_state': [12345]}\n",
    "gs3 = GridSearchCV(model3gs, params3, cv=5, n_jobs=-1, scoring='neg_mean_absolute_error')"
   ]
  },
  {
   "cell_type": "code",
   "execution_count": 104,
   "metadata": {},
   "outputs": [
    {
     "data": {
      "text/plain": [
       "GridSearchCV(cv=5, error_score='raise-deprecating',\n",
       "             estimator=RandomForestRegressor(bootstrap=True, criterion='mse',\n",
       "                                             max_depth=None,\n",
       "                                             max_features='auto',\n",
       "                                             max_leaf_nodes=None,\n",
       "                                             min_impurity_decrease=0.0,\n",
       "                                             min_impurity_split=None,\n",
       "                                             min_samples_leaf=1,\n",
       "                                             min_samples_split=2,\n",
       "                                             min_weight_fraction_leaf=0.0,\n",
       "                                             n_estimators='warn', n_jobs=None,\n",
       "                                             oob_score=False, random_state=None,\n",
       "                                             verbose=0, warm_start=False),\n",
       "             iid='warn', n_jobs=-1,\n",
       "             param_grid={'max_depth': [3, 5, 7, 10, 15, 20, 30, 40],\n",
       "                         'n_estimators': [200, 300], 'random_state': [12345]},\n",
       "             pre_dispatch='2*n_jobs', refit=True, return_train_score=False,\n",
       "             scoring='neg_mean_absolute_error', verbose=0)"
      ]
     },
     "execution_count": 104,
     "metadata": {},
     "output_type": "execute_result"
    }
   ],
   "source": [
    "gs3.fit(features_train, target_train)"
   ]
  },
  {
   "cell_type": "markdown",
   "metadata": {},
   "source": [
    "Лучшие параметры."
   ]
  },
  {
   "cell_type": "code",
   "execution_count": 105,
   "metadata": {},
   "outputs": [
    {
     "data": {
      "text/plain": [
       "{'max_depth': 10, 'n_estimators': 300, 'random_state': 12345}"
      ]
     },
     "execution_count": 105,
     "metadata": {},
     "output_type": "execute_result"
    }
   ],
   "source": [
    "gs3.best_params_"
   ]
  },
  {
   "cell_type": "markdown",
   "metadata": {},
   "source": [
    "МАЕ."
   ]
  },
  {
   "cell_type": "code",
   "execution_count": 106,
   "metadata": {},
   "outputs": [
    {
     "data": {
      "text/plain": [
       "'Лучшее МАЕ: 6.07'"
      ]
     },
     "execution_count": 106,
     "metadata": {},
     "output_type": "execute_result"
    }
   ],
   "source": [
    "'Лучшее МАЕ: {:.3}'.format(gs3.best_score_ * (-1))"
   ]
  },
  {
   "cell_type": "markdown",
   "metadata": {},
   "source": [
    "Качество чуть лучше, чем у метода опорных векторов, но все равно - больше 6."
   ]
  },
  {
   "cell_type": "markdown",
   "metadata": {},
   "source": [
    "Теперь посмотрим на важность признаков."
   ]
  },
  {
   "cell_type": "code",
   "execution_count": 107,
   "metadata": {},
   "outputs": [],
   "source": [
    "fi = pd.DataFrame()\n",
    "fi['features'] = features\n",
    "fi['importance'] = gs3.best_estimator_.feature_importances_"
   ]
  },
  {
   "cell_type": "code",
   "execution_count": 108,
   "metadata": {},
   "outputs": [
    {
     "data": {
      "text/plain": [
       "Text(0.5, 0, 'Признаки')"
      ]
     },
     "execution_count": 108,
     "metadata": {},
     "output_type": "execute_result"
    },
    {
     "data": {
      "image/png": "[encoded data removed]",
      "text/plain": [
       "<Figure size 432x288 with 1 Axes>"
      ]
     },
     "metadata": {
      "needs_background": "light"
     },
     "output_type": "display_data"
    }
   ],
   "source": [
    "fi.set_index('features').sort_values(by='importance', ascending=False).plot(kind='bar')\n",
    "plt.title('Важность признаков в случайном лесе')\n",
    "plt.xlabel('Признаки')"
   ]
  },
  {
   "cell_type": "markdown",
   "metadata": {},
   "source": [
    "Попробуем убрать признаки с важностью меньше 0.015. Посмотрим на качество такой модели."
   ]
  },
  {
   "cell_type": "code",
   "execution_count": 109,
   "metadata": {
    "scrolled": false
   },
   "outputs": [
    {
     "data": {
      "text/plain": [
       "GridSearchCV(cv=5, error_score='raise-deprecating',\n",
       "             estimator=RandomForestRegressor(bootstrap=True, criterion='mse',\n",
       "                                             max_depth=None,\n",
       "                                             max_features='auto',\n",
       "                                             max_leaf_nodes=None,\n",
       "                                             min_impurity_decrease=0.0,\n",
       "                                             min_impurity_split=None,\n",
       "                                             min_samples_leaf=1,\n",
       "                                             min_samples_split=2,\n",
       "                                             min_weight_fraction_leaf=0.0,\n",
       "                                             n_estimators='warn', n_jobs=None,\n",
       "                                             oob_score=False, random_state=None,\n",
       "                                             verbose=0, warm_start=False),\n",
       "             iid='warn', n_jobs=-1,\n",
       "             param_grid={'max_depth': [3, 5, 7, 10, 15, 20, 30, 40],\n",
       "                         'n_estimators': [200, 300], 'random_state': [12345]},\n",
       "             pre_dispatch='2*n_jobs', refit=True, return_train_score=False,\n",
       "             scoring='neg_mean_absolute_error', verbose=0)"
      ]
     },
     "execution_count": 109,
     "metadata": {},
     "output_type": "execute_result"
    }
   ],
   "source": [
    "gs3.fit(features_train[list(fi[fi['importance'] >= 0.015]['features'].values)], target_train)"
   ]
  },
  {
   "cell_type": "code",
   "execution_count": 110,
   "metadata": {},
   "outputs": [
    {
     "data": {
      "text/plain": [
       "'Лучшее МАЕ: 6.06'"
      ]
     },
     "execution_count": 110,
     "metadata": {},
     "output_type": "execute_result"
    }
   ],
   "source": [
    "'Лучшее МАЕ: {:.3}'.format(gs3.best_score_ * (-1))"
   ]
  },
  {
   "cell_type": "markdown",
   "metadata": {},
   "source": [
    "Хорошо подобрали границу ограничения по важности. Теперь случайный лес будет таким - обученным на признаках с важностью выше 0.15."
   ]
  },
  {
   "cell_type": "markdown",
   "metadata": {},
   "source": [
    "**Градиентный бустинг**"
   ]
  },
  {
   "cell_type": "code",
   "execution_count": 111,
   "metadata": {},
   "outputs": [],
   "source": [
    "model4gs = LGBMRegressor()\n",
    "params4 = {'max_depth' : [3, 5, 7, 10, 15, 20, 30, 40],\n",
    "          'n_estimators' : [100, 200, 300]}\n",
    "gs4 = GridSearchCV(model4gs, params4, cv=5, n_jobs=-1, scoring='neg_mean_absolute_error')"
   ]
  },
  {
   "cell_type": "code",
   "execution_count": 112,
   "metadata": {},
   "outputs": [
    {
     "data": {
      "text/plain": [
       "GridSearchCV(cv=5, error_score='raise-deprecating',\n",
       "             estimator=LGBMRegressor(boosting_type='gbdt', class_weight=None,\n",
       "                                     colsample_bytree=1.0,\n",
       "                                     importance_type='split', learning_rate=0.1,\n",
       "                                     max_depth=-1, min_child_samples=20,\n",
       "                                     min_child_weight=0.001, min_split_gain=0.0,\n",
       "                                     n_estimators=100, n_jobs=-1, num_leaves=31,\n",
       "                                     objective=None, random_state=None,\n",
       "                                     reg_alpha=0.0, reg_lambda=0.0, silent=True,\n",
       "                                     subsample=1.0, subsample_for_bin=200000,\n",
       "                                     subsample_freq=0),\n",
       "             iid='warn', n_jobs=-1,\n",
       "             param_grid={'max_depth': [3, 5, 7, 10, 15, 20, 30, 40],\n",
       "                         'n_estimators': [100, 200, 300]},\n",
       "             pre_dispatch='2*n_jobs', refit=True, return_train_score=False,\n",
       "             scoring='neg_mean_absolute_error', verbose=0)"
      ]
     },
     "execution_count": 112,
     "metadata": {},
     "output_type": "execute_result"
    }
   ],
   "source": [
    "gs4.fit(features_train, target_train)"
   ]
  },
  {
   "cell_type": "markdown",
   "metadata": {},
   "source": [
    "Лучшие параметры."
   ]
  },
  {
   "cell_type": "code",
   "execution_count": 113,
   "metadata": {},
   "outputs": [
    {
     "data": {
      "text/plain": [
       "{'max_depth': 3, 'n_estimators': 100}"
      ]
     },
     "execution_count": 113,
     "metadata": {},
     "output_type": "execute_result"
    }
   ],
   "source": [
    "gs4.best_params_"
   ]
  },
  {
   "cell_type": "markdown",
   "metadata": {},
   "source": [
    "МАЕ."
   ]
  },
  {
   "cell_type": "code",
   "execution_count": 114,
   "metadata": {},
   "outputs": [
    {
     "data": {
      "text/plain": [
       "'Лучшее МАЕ: 6.06'"
      ]
     },
     "execution_count": 114,
     "metadata": {},
     "output_type": "execute_result"
    }
   ],
   "source": [
    "'Лучшее МАЕ: {:.3}'.format(gs4.best_score_ * (-1))"
   ]
  },
  {
   "cell_type": "markdown",
   "metadata": {},
   "source": [
    "Важность признаков."
   ]
  },
  {
   "cell_type": "markdown",
   "metadata": {},
   "source": [
    "Сравним со случайным лесом."
   ]
  },
  {
   "cell_type": "code",
   "execution_count": 115,
   "metadata": {
    "scrolled": true
   },
   "outputs": [],
   "source": [
    "fi['importance2'] = gs4.best_estimator_.feature_importances_\n",
    "fi['importance2'] = fi['importance2'] / fi['importance2'].sum()"
   ]
  },
  {
   "cell_type": "code",
   "execution_count": 116,
   "metadata": {},
   "outputs": [
    {
     "data": {
      "text/plain": [
       "Text(0.5, 0, 'Признаки')"
      ]
     },
     "execution_count": 116,
     "metadata": {},
     "output_type": "execute_result"
    },
    {
     "data": {
      "image/png": "[encoded data removed]",
      "text/plain": [
       "<Figure size 432x288 with 1 Axes>"
      ]
     },
     "metadata": {
      "needs_background": "light"
     },
     "output_type": "display_data"
    }
   ],
   "source": [
    "fi.set_index('features').sort_values(by='importance2', ascending=False).plot(kind='bar')\n",
    "plt.title('Важность признаков в градиентном бустинге и случайном лесе')\n",
    "plt.xlabel('Признаки')"
   ]
  },
  {
   "cell_type": "markdown",
   "metadata": {},
   "source": [
    "Два наиболее важных признака также выделены как важные. В остальном - отличия незначительные, но они есть - признаки, которым бустинг присвоил 0, таки больше ценятся в лесу. Также некоторые признаки оценены как важные в бустинге, но имеют не такую важность в лесу."
   ]
  },
  {
   "cell_type": "markdown",
   "metadata": {},
   "source": [
    "В любом случае - сильнее всего на температуру после влияют (в порядке убывания важности):"
   ]
  },
  {
   "cell_type": "markdown",
   "metadata": {},
   "source": [
    "    - температура до,\n",
    "    - суммарная активная мощность нагрева,\n",
    "    - количество затраченного газа,\n",
    "    - примеси: Wire 1, Wire 2, Bulk 12, Bulk 14, Bulk 6."
   ]
  },
  {
   "cell_type": "code",
   "execution_count": 117,
   "metadata": {},
   "outputs": [],
   "source": [
    "fi = fi.drop(columns=['importance'])"
   ]
  },
  {
   "cell_type": "markdown",
   "metadata": {},
   "source": [
    "Теперь график только по бустингу."
   ]
  },
  {
   "cell_type": "code",
   "execution_count": 118,
   "metadata": {},
   "outputs": [
    {
     "data": {
      "text/plain": [
       "Text(0.5, 0, 'Признаки')"
      ]
     },
     "execution_count": 118,
     "metadata": {},
     "output_type": "execute_result"
    },
    {
     "data": {
      "image/png": "[encoded data removed]",
      "text/plain": [
       "<Figure size 432x288 with 1 Axes>"
      ]
     },
     "metadata": {
      "needs_background": "light"
     },
     "output_type": "display_data"
    }
   ],
   "source": [
    "fi.set_index('features').sort_values(by='importance2', ascending=False).plot(kind='bar')\n",
    "plt.title('Важность признаков в градиентном бустинге')\n",
    "plt.xlabel('Признаки')"
   ]
  },
  {
   "cell_type": "markdown",
   "metadata": {},
   "source": [
    "Уберем признаки с важностью 0."
   ]
  },
  {
   "cell_type": "code",
   "execution_count": 119,
   "metadata": {},
   "outputs": [
    {
     "data": {
      "text/plain": [
       "GridSearchCV(cv=5, error_score='raise-deprecating',\n",
       "             estimator=LGBMRegressor(boosting_type='gbdt', class_weight=None,\n",
       "                                     colsample_bytree=1.0,\n",
       "                                     importance_type='split', learning_rate=0.1,\n",
       "                                     max_depth=-1, min_child_samples=20,\n",
       "                                     min_child_weight=0.001, min_split_gain=0.0,\n",
       "                                     n_estimators=100, n_jobs=-1, num_leaves=31,\n",
       "                                     objective=None, random_state=None,\n",
       "                                     reg_alpha=0.0, reg_lambda=0.0, silent=True,\n",
       "                                     subsample=1.0, subsample_for_bin=200000,\n",
       "                                     subsample_freq=0),\n",
       "             iid='warn', n_jobs=-1,\n",
       "             param_grid={'max_depth': [3, 5, 7, 10, 15, 20, 30, 40],\n",
       "                         'n_estimators': [100, 200, 300]},\n",
       "             pre_dispatch='2*n_jobs', refit=True, return_train_score=False,\n",
       "             scoring='neg_mean_absolute_error', verbose=0)"
      ]
     },
     "execution_count": 119,
     "metadata": {},
     "output_type": "execute_result"
    }
   ],
   "source": [
    "gs4.fit(features_train[list(fi[fi['importance2'] > 0]['features'].values)], target_train)"
   ]
  },
  {
   "cell_type": "code",
   "execution_count": 120,
   "metadata": {},
   "outputs": [
    {
     "data": {
      "text/plain": [
       "'Лучшее МАЕ: 6.06'"
      ]
     },
     "execution_count": 120,
     "metadata": {},
     "output_type": "execute_result"
    }
   ],
   "source": [
    "'Лучшее МАЕ: {:.3}'.format(gs4.best_score_ * (-1))"
   ]
  },
  {
   "cell_type": "markdown",
   "metadata": {},
   "source": [
    "Качество не поменялось, но все равно уберем эти признаки."
   ]
  },
  {
   "cell_type": "markdown",
   "metadata": {},
   "source": [
    "**Выводы по Шагу 3**: итак, на данном шаге мы обучили четыре модели, подобрали для них гиперпараметры, а также посмотрели качество их предсказания с помощью кросс-валидации; все четыре модели показали себя хорошо, итоговые МАЕ по моделям:"
   ]
  },
  {
   "cell_type": "markdown",
   "metadata": {},
   "source": [
    "    - гребневая регрессия: 6.29,\n",
    "    - SVM: 6.12,\n",
    "    - случайный лес: 6.06,\n",
    "    - градиентный бустинг: 6.06."
   ]
  },
  {
   "cell_type": "markdown",
   "metadata": {},
   "source": [
    "Лучше всего себя показали градиентный бустинг и случайный лес. Бустинг будет конечной моделью - результатом всей проделанной выше работы."
   ]
  },
  {
   "cell_type": "markdown",
   "metadata": {},
   "source": [
    "<h3>Шаг 4: Выводы и финальное тестирование</h3>"
   ]
  },
  {
   "cell_type": "markdown",
   "metadata": {},
   "source": [
    "Итак - в качестве конечной модели был выбран градиентный бустинг."
   ]
  },
  {
   "cell_type": "code",
   "execution_count": 121,
   "metadata": {},
   "outputs": [],
   "source": [
    "final_model = gs4.best_estimator_"
   ]
  },
  {
   "cell_type": "markdown",
   "metadata": {},
   "source": [
    "Посмотрим качество модели на тестовой выборке."
   ]
  },
  {
   "cell_type": "code",
   "execution_count": 122,
   "metadata": {},
   "outputs": [
    {
     "data": {
      "text/plain": [
       "'МАЕ лучшей модели на тестовой выборке: 5.75 '"
      ]
     },
     "execution_count": 122,
     "metadata": {},
     "output_type": "execute_result"
    }
   ],
   "source": [
    "predictions = final_model.predict(features_test[list(fi[fi['importance2'] > 0]['features'].values)])\n",
    "mae = mean_absolute_error(predictions, target_test)\n",
    "'МАЕ лучшей модели на тестовой выборке: {:.3} '.format(mae)"
   ]
  },
  {
   "cell_type": "markdown",
   "metadata": {},
   "source": [
    "Получили желаемый показатель - МАЕ меньше 6."
   ]
  },
  {
   "cell_type": "markdown",
   "metadata": {},
   "source": [
    "**Вывод по Шагу 4**: на данном шаге была протестирована лучшая модель, получили MAE на тестовой выборке меньше 6 - 5.75."
   ]
  },
  {
   "cell_type": "markdown",
   "metadata": {},
   "source": [
    "<h3>ОТЧЕТ</h3>"
   ]
  },
  {
   "cell_type": "markdown",
   "metadata": {},
   "source": [
    "В плане работы были следующие вещи:"
   ]
  },
  {
   "cell_type": "markdown",
   "metadata": {},
   "source": [
    "    - предобработка:\n",
    "           + обработка пропусков,\n",
    "           + удаление аномалий и пропущенных значений,\n",
    "    - подготовка данных для обучения:\n",
    "           + генерация новых признаков,\n",
    "           + соединение таблиц и группировка, если потребуется,\n",
    "           + стандартизация, ohe, \n",
    "    - выбор различных моделей, обучение, валидация + подбор гиперпараметров, \n",
    "    - выводы + отчет."
   ]
  },
  {
   "cell_type": "markdown",
   "metadata": {},
   "source": [
    "Было сделано все, кроме One Hot Encoding - это просто не потребовалось. "
   ]
  },
  {
   "cell_type": "markdown",
   "metadata": {},
   "source": [
    "Из ключевых шагов работы можно выделить предобработку данных, генерацию новых признаков и обучение моделей (и подбор гиперпараметров)."
   ]
  },
  {
   "cell_type": "markdown",
   "metadata": {},
   "source": [
    "Из трудностей встретилось: неясная задача, непонимание происходящих физических процессов. Помогли ответы тимлида, консультация и поисковик."
   ]
  },
  {
   "cell_type": "markdown",
   "metadata": {},
   "source": [
    "Итоговой моделью выл выбран градиентный бустинг. МАЕ на тестовой выборке: 5.75."
   ]
  }
 ],
 "metadata": {
  "kernelspec": {
   "display_name": "Python 3",
   "language": "python",
   "name": "python3"
  },
  "language_info": {
   "codemirror_mode": {
    "name": "ipython",
    "version": 3
   },
   "file_extension": ".py",
   "mimetype": "text/x-python",
   "name": "python",
   "nbconvert_exporter": "python",
   "pygments_lexer": "ipython3",
   "version": "3.7.8"
  },
  "toc": {
   "base_numbering": 1,
   "nav_menu": {},
   "number_sections": true,
   "sideBar": true,
   "skip_h1_title": true,
   "title_cell": "Table of Contents",
   "title_sidebar": "Contents",
   "toc_cell": false,
   "toc_position": {},
   "toc_section_display": true,
   "toc_window_display": false
  }
 },
 "nbformat": 4,
 "nbformat_minor": 4
}
