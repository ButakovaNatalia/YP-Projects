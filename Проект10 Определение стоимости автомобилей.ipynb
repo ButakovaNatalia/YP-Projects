{
 "cells": [
  {
   "cell_type": "markdown",
   "metadata": {},
   "source": [
    "<h1>Определение стоимости автомобилей</h1>"
   ]
  },
  {
   "cell_type": "markdown",
   "metadata": {},
   "source": [
    "Сервис по продаже автомобилей с пробегом «Не бит, не крашен» разрабатывает приложение для привлечения новых клиентов. В нём можно быстро узнать рыночную стоимость своего автомобиля. В нашем распоряжении исторические данные: технические характеристики, комплектации и цены автомобилей. Нам нужно построить модель для определения стоимости.\n",
    "Заказчику важны: качество предсказания; скорость предсказания; время обучения."
   ]
  },
  {
   "cell_type": "markdown",
   "metadata": {},
   "source": [
    "**Описание данных**"
   ]
  },
  {
   "cell_type": "markdown",
   "metadata": {},
   "source": [
    "*Признаки*:"
   ]
  },
  {
   "cell_type": "markdown",
   "metadata": {},
   "source": [
    "    - DateCrawled — дата скачивания анкеты из базы\n",
    "    - VehicleType — тип автомобильного кузова\n",
    "    - RegistrationYear — год регистрации автомобиля\n",
    "    - Gearbox — тип коробки передач\n",
    "    - Power — мощность (л. с.)\n",
    "    - Model — модель автомобиля\n",
    "    - Kilometer — пробег (км)\n",
    "    - RegistrationMonth — месяц регистрации автомобиля\n",
    "    - FuelType — тип топлива\n",
    "    - Brand — марка автомобиля\n",
    "    - NotRepaired — была машина в ремонте или нет\n",
    "    - DateCreated — дата создания анкеты\n",
    "    - NumberOfPictures — количество фотографий автомобиля\n",
    "    - PostalCode — почтовый индекс владельца анкеты (пользователя)\n",
    "    - LastSeen — дата последней активности пользователя"
   ]
  },
  {
   "cell_type": "markdown",
   "metadata": {},
   "source": [
    "*Целевой признак*:"
   ]
  },
  {
   "cell_type": "markdown",
   "metadata": {},
   "source": [
    "    - Price - цена"
   ]
  },
  {
   "cell_type": "markdown",
   "metadata": {},
   "source": [
    "**План работы**: первым делом мы загрузим и изучим данные, проведем предобработку; затем - обучим разные модели, и наконец, оценим их качество и скорость работы."
   ]
  },
  {
   "cell_type": "markdown",
   "metadata": {},
   "source": [
    "<h3>Оглавление</h3>"
   ]
  },
  {
   "cell_type": "markdown",
   "metadata": {},
   "source": [
    "1. [Шаг 1: Знакомство с данными](#samples)\n",
    "2. [Шаг 2: Исследовательский анализ](#res)\n",
    "3. [Шаг 3: Предобработка данных](#preproc)\n",
    "4. [Шаг 4: Обучение моделей](#models)\n",
    "5. [Шаг 5: Выводы и выбор лучшией модели](#test_sanity)"
   ]
  },
  {
   "cell_type": "markdown",
   "metadata": {},
   "source": [
    "<h3>Шаг 1: Знакомство с данными</h3>\n",
    "<a id='samples'></a>"
   ]
  },
  {
   "cell_type": "markdown",
   "metadata": {},
   "source": [
    "Первым делом импортируем необходимые библиотеки."
   ]
  },
  {
   "cell_type": "code",
   "execution_count": 1,
   "metadata": {},
   "outputs": [],
   "source": [
    "import pandas as pd\n",
    "import numpy as np\n",
    "import matplotlib.pyplot as plt\n",
    "from sklearn.metrics import mean_squared_error, accuracy_score\n",
    "from sklearn.model_selection import train_test_split, GridSearchCV, cross_val_score, RandomizedSearchCV\n",
    "from sklearn.preprocessing import StandardScaler, OrdinalEncoder\n",
    "from sklearn.ensemble import RandomForestRegressor\n",
    "from sklearn.linear_model import LinearRegression, Ridge, SGDRegressor\n",
    "from sklearn.neighbors import KNeighborsRegressor\n",
    "from lightgbm import LGBMRegressor\n",
    "from copy import deepcopy\n",
    "import warnings\n",
    "warnings.filterwarnings(action='ignore')"
   ]
  },
  {
   "cell_type": "markdown",
   "metadata": {},
   "source": [
    "Загрузим и изучим данные."
   ]
  },
  {
   "cell_type": "code",
   "execution_count": 2,
   "metadata": {},
   "outputs": [],
   "source": [
    "data = pd.read_csv('/datasets/autos.csv')"
   ]
  },
  {
   "cell_type": "code",
   "execution_count": 3,
   "metadata": {},
   "outputs": [
    {
     "data": {
      "text/html": [
       "<div>\n",
       "<style scoped>\n",
       "    .dataframe tbody tr th:only-of-type {\n",
       "        vertical-align: middle;\n",
       "    }\n",
       "\n",
       "    .dataframe tbody tr th {\n",
       "        vertical-align: top;\n",
       "    }\n",
       "\n",
       "    .dataframe thead th {\n",
       "        text-align: right;\n",
       "    }\n",
       "</style>\n",
       "<table border=\"1\" class=\"dataframe\">\n",
       "  <thead>\n",
       "    <tr style=\"text-align: right;\">\n",
       "      <th></th>\n",
       "      <th>DateCrawled</th>\n",
       "      <th>Price</th>\n",
       "      <th>VehicleType</th>\n",
       "      <th>RegistrationYear</th>\n",
       "      <th>Gearbox</th>\n",
       "      <th>Power</th>\n",
       "      <th>Model</th>\n",
       "      <th>Kilometer</th>\n",
       "      <th>RegistrationMonth</th>\n",
       "      <th>FuelType</th>\n",
       "      <th>Brand</th>\n",
       "      <th>NotRepaired</th>\n",
       "      <th>DateCreated</th>\n",
       "      <th>NumberOfPictures</th>\n",
       "      <th>PostalCode</th>\n",
       "      <th>LastSeen</th>\n",
       "    </tr>\n",
       "  </thead>\n",
       "  <tbody>\n",
       "    <tr>\n",
       "      <td>0</td>\n",
       "      <td>2016-03-24 11:52:17</td>\n",
       "      <td>480</td>\n",
       "      <td>NaN</td>\n",
       "      <td>1993</td>\n",
       "      <td>manual</td>\n",
       "      <td>0</td>\n",
       "      <td>golf</td>\n",
       "      <td>150000</td>\n",
       "      <td>0</td>\n",
       "      <td>petrol</td>\n",
       "      <td>volkswagen</td>\n",
       "      <td>NaN</td>\n",
       "      <td>2016-03-24 00:00:00</td>\n",
       "      <td>0</td>\n",
       "      <td>70435</td>\n",
       "      <td>2016-04-07 03:16:57</td>\n",
       "    </tr>\n",
       "    <tr>\n",
       "      <td>1</td>\n",
       "      <td>2016-03-24 10:58:45</td>\n",
       "      <td>18300</td>\n",
       "      <td>coupe</td>\n",
       "      <td>2011</td>\n",
       "      <td>manual</td>\n",
       "      <td>190</td>\n",
       "      <td>NaN</td>\n",
       "      <td>125000</td>\n",
       "      <td>5</td>\n",
       "      <td>gasoline</td>\n",
       "      <td>audi</td>\n",
       "      <td>yes</td>\n",
       "      <td>2016-03-24 00:00:00</td>\n",
       "      <td>0</td>\n",
       "      <td>66954</td>\n",
       "      <td>2016-04-07 01:46:50</td>\n",
       "    </tr>\n",
       "    <tr>\n",
       "      <td>2</td>\n",
       "      <td>2016-03-14 12:52:21</td>\n",
       "      <td>9800</td>\n",
       "      <td>suv</td>\n",
       "      <td>2004</td>\n",
       "      <td>auto</td>\n",
       "      <td>163</td>\n",
       "      <td>grand</td>\n",
       "      <td>125000</td>\n",
       "      <td>8</td>\n",
       "      <td>gasoline</td>\n",
       "      <td>jeep</td>\n",
       "      <td>NaN</td>\n",
       "      <td>2016-03-14 00:00:00</td>\n",
       "      <td>0</td>\n",
       "      <td>90480</td>\n",
       "      <td>2016-04-05 12:47:46</td>\n",
       "    </tr>\n",
       "    <tr>\n",
       "      <td>3</td>\n",
       "      <td>2016-03-17 16:54:04</td>\n",
       "      <td>1500</td>\n",
       "      <td>small</td>\n",
       "      <td>2001</td>\n",
       "      <td>manual</td>\n",
       "      <td>75</td>\n",
       "      <td>golf</td>\n",
       "      <td>150000</td>\n",
       "      <td>6</td>\n",
       "      <td>petrol</td>\n",
       "      <td>volkswagen</td>\n",
       "      <td>no</td>\n",
       "      <td>2016-03-17 00:00:00</td>\n",
       "      <td>0</td>\n",
       "      <td>91074</td>\n",
       "      <td>2016-03-17 17:40:17</td>\n",
       "    </tr>\n",
       "    <tr>\n",
       "      <td>4</td>\n",
       "      <td>2016-03-31 17:25:20</td>\n",
       "      <td>3600</td>\n",
       "      <td>small</td>\n",
       "      <td>2008</td>\n",
       "      <td>manual</td>\n",
       "      <td>69</td>\n",
       "      <td>fabia</td>\n",
       "      <td>90000</td>\n",
       "      <td>7</td>\n",
       "      <td>gasoline</td>\n",
       "      <td>skoda</td>\n",
       "      <td>no</td>\n",
       "      <td>2016-03-31 00:00:00</td>\n",
       "      <td>0</td>\n",
       "      <td>60437</td>\n",
       "      <td>2016-04-06 10:17:21</td>\n",
       "    </tr>\n",
       "  </tbody>\n",
       "</table>\n",
       "</div>"
      ],
      "text/plain": [
       "           DateCrawled  Price VehicleType  RegistrationYear Gearbox  Power  \\\n",
       "0  2016-03-24 11:52:17    480         NaN              1993  manual      0   \n",
       "1  2016-03-24 10:58:45  18300       coupe              2011  manual    190   \n",
       "2  2016-03-14 12:52:21   9800         suv              2004    auto    163   \n",
       "3  2016-03-17 16:54:04   1500       small              2001  manual     75   \n",
       "4  2016-03-31 17:25:20   3600       small              2008  manual     69   \n",
       "\n",
       "   Model  Kilometer  RegistrationMonth  FuelType       Brand NotRepaired  \\\n",
       "0   golf     150000                  0    petrol  volkswagen         NaN   \n",
       "1    NaN     125000                  5  gasoline        audi         yes   \n",
       "2  grand     125000                  8  gasoline        jeep         NaN   \n",
       "3   golf     150000                  6    petrol  volkswagen          no   \n",
       "4  fabia      90000                  7  gasoline       skoda          no   \n",
       "\n",
       "           DateCreated  NumberOfPictures  PostalCode             LastSeen  \n",
       "0  2016-03-24 00:00:00                 0       70435  2016-04-07 03:16:57  \n",
       "1  2016-03-24 00:00:00                 0       66954  2016-04-07 01:46:50  \n",
       "2  2016-03-14 00:00:00                 0       90480  2016-04-05 12:47:46  \n",
       "3  2016-03-17 00:00:00                 0       91074  2016-03-17 17:40:17  \n",
       "4  2016-03-31 00:00:00                 0       60437  2016-04-06 10:17:21  "
      ]
     },
     "execution_count": 3,
     "metadata": {},
     "output_type": "execute_result"
    }
   ],
   "source": [
    "data.head()"
   ]
  },
  {
   "cell_type": "code",
   "execution_count": 4,
   "metadata": {},
   "outputs": [
    {
     "name": "stdout",
     "output_type": "stream",
     "text": [
      "<class 'pandas.core.frame.DataFrame'>\n",
      "RangeIndex: 354369 entries, 0 to 354368\n",
      "Data columns (total 16 columns):\n",
      "DateCrawled          354369 non-null object\n",
      "Price                354369 non-null int64\n",
      "VehicleType          316879 non-null object\n",
      "RegistrationYear     354369 non-null int64\n",
      "Gearbox              334536 non-null object\n",
      "Power                354369 non-null int64\n",
      "Model                334664 non-null object\n",
      "Kilometer            354369 non-null int64\n",
      "RegistrationMonth    354369 non-null int64\n",
      "FuelType             321474 non-null object\n",
      "Brand                354369 non-null object\n",
      "NotRepaired          283215 non-null object\n",
      "DateCreated          354369 non-null object\n",
      "NumberOfPictures     354369 non-null int64\n",
      "PostalCode           354369 non-null int64\n",
      "LastSeen             354369 non-null object\n",
      "dtypes: int64(7), object(9)\n",
      "memory usage: 43.3+ MB\n"
     ]
    }
   ],
   "source": [
    "data.info()"
   ]
  },
  {
   "cell_type": "markdown",
   "metadata": {},
   "source": [
    "**Вывод по Шагу 1**: данных много - это плюс, а теперь к минусам - во-первых, пропуски, во-вторых, некорректные и аномальные значения, которые видно уже с первых пяти строк - 0 лошадиных сил, 0 месяц регистрации, в-третьих, типы данных дат - object, а не типы данных, предназначенные для дат."
   ]
  },
  {
   "cell_type": "markdown",
   "metadata": {},
   "source": [
    "<h3>Шаг 2: Исследовательский анализ</h3>\n",
    "<a id='res'></a>"
   ]
  },
  {
   "cell_type": "markdown",
   "metadata": {},
   "source": [
    "Рассмотрим данные поближе. Начнем с дат."
   ]
  },
  {
   "cell_type": "markdown",
   "metadata": {},
   "source": [
    "**DateCrawled**"
   ]
  },
  {
   "cell_type": "markdown",
   "metadata": {},
   "source": [
    "Данный столбец содержит дату скачивания анкеты из базы. Нетрудно убедиться, что диапазон месяцов в данном столбце 3-4 (анкеты скачивались в марте и апреле), а год везде один - 2016. "
   ]
  },
  {
   "cell_type": "markdown",
   "metadata": {},
   "source": [
    "Перед этим превратим столбец в тип datetime."
   ]
  },
  {
   "cell_type": "code",
   "execution_count": 5,
   "metadata": {},
   "outputs": [],
   "source": [
    "data['DateCrawled'] = pd.to_datetime(data['DateCrawled'])"
   ]
  },
  {
   "cell_type": "markdown",
   "metadata": {},
   "source": [
    "Минимум."
   ]
  },
  {
   "cell_type": "code",
   "execution_count": 6,
   "metadata": {},
   "outputs": [
    {
     "data": {
      "text/plain": [
       "datetime.date(2016, 3, 5)"
      ]
     },
     "execution_count": 6,
     "metadata": {},
     "output_type": "execute_result"
    }
   ],
   "source": [
    "data.DateCrawled.dt.date.min()"
   ]
  },
  {
   "cell_type": "markdown",
   "metadata": {},
   "source": [
    "Максимум."
   ]
  },
  {
   "cell_type": "code",
   "execution_count": 7,
   "metadata": {},
   "outputs": [
    {
     "data": {
      "text/plain": [
       "datetime.date(2016, 4, 7)"
      ]
     },
     "execution_count": 7,
     "metadata": {},
     "output_type": "execute_result"
    }
   ],
   "source": [
    "data.DateCrawled.dt.date.max()"
   ]
  },
  {
   "cell_type": "markdown",
   "metadata": {},
   "source": [
    "Можно сделать вывод, что данный столбец не несет в себе ценной информации. Кандидат на удаление."
   ]
  },
  {
   "cell_type": "markdown",
   "metadata": {},
   "source": [
    "**LastSeen**"
   ]
  },
  {
   "cell_type": "markdown",
   "metadata": {},
   "source": [
    "Данный столбец содержит даты последней активности пользователя."
   ]
  },
  {
   "cell_type": "code",
   "execution_count": 8,
   "metadata": {},
   "outputs": [],
   "source": [
    "data['LastSeen'] = pd.to_datetime(data['LastSeen'])"
   ]
  },
  {
   "cell_type": "markdown",
   "metadata": {},
   "source": [
    "Также оценим минимум и максимум."
   ]
  },
  {
   "cell_type": "code",
   "execution_count": 9,
   "metadata": {},
   "outputs": [
    {
     "data": {
      "text/plain": [
       "datetime.date(2016, 3, 5)"
      ]
     },
     "execution_count": 9,
     "metadata": {},
     "output_type": "execute_result"
    }
   ],
   "source": [
    "data.LastSeen.dt.date.min()"
   ]
  },
  {
   "cell_type": "code",
   "execution_count": 10,
   "metadata": {},
   "outputs": [
    {
     "data": {
      "text/plain": [
       "datetime.date(2016, 4, 7)"
      ]
     },
     "execution_count": 10,
     "metadata": {},
     "output_type": "execute_result"
    }
   ],
   "source": [
    "data.LastSeen.dt.date.max()"
   ]
  },
  {
   "cell_type": "markdown",
   "metadata": {},
   "source": [
    "Опять же - значения близки, помимо этого - совпадают с теми, что получены при исследовании столбца, содержащего даты скачивания анкет."
   ]
  },
  {
   "cell_type": "markdown",
   "metadata": {},
   "source": [
    "Посмотрим на последний столбец с датой."
   ]
  },
  {
   "cell_type": "markdown",
   "metadata": {},
   "source": [
    "**DateCreated**"
   ]
  },
  {
   "cell_type": "code",
   "execution_count": 11,
   "metadata": {},
   "outputs": [],
   "source": [
    "data['DateCreated'] = pd.to_datetime(data['DateCreated'])"
   ]
  },
  {
   "cell_type": "code",
   "execution_count": 12,
   "metadata": {},
   "outputs": [
    {
     "data": {
      "text/plain": [
       "datetime.date(2014, 3, 10)"
      ]
     },
     "execution_count": 12,
     "metadata": {},
     "output_type": "execute_result"
    }
   ],
   "source": [
    "data.DateCreated.dt.date.min()"
   ]
  },
  {
   "cell_type": "code",
   "execution_count": 13,
   "metadata": {},
   "outputs": [
    {
     "data": {
      "text/plain": [
       "datetime.date(2016, 4, 7)"
      ]
     },
     "execution_count": 13,
     "metadata": {},
     "output_type": "execute_result"
    }
   ],
   "source": [
    "data.DateCreated.dt.date.max()"
   ]
  },
  {
   "cell_type": "markdown",
   "metadata": {},
   "source": [
    "Здесь ситуация уже интереснее - некоторые анкеты создавались достаточно давно."
   ]
  },
  {
   "cell_type": "markdown",
   "metadata": {},
   "source": [
    "Какой вывод можно сделать по всем трем столбцам? По сути, они не особо полезны. Дата скачивания анкеты, создания анкеты и дата последней активности пользователя не оказывают очевидного влияния на цену авто. Как можно поступить в данной ситуации? Извлечь из этих признаков новый - количество дней пользователя на сайте. Чем больше это число, тем дольше продается автомобиль. Но здесь есть некоторые нюансы:"
   ]
  },
  {
   "cell_type": "markdown",
   "metadata": {},
   "source": [
    "    - некоторые анкеты совсем новые, и даже если они совсем неудачные, то не будут обнаружены как выделяющиеся => получим равенство пользователей, которые продали машину за 15 дней, и тех, что просто зарегистрировались 15 дней назад (очевидно, данные о последней активности снимались примерно в то же время, что и загружались анкеты), \n",
    "    - автомобили могут быть просто весьма на любителя, это не значит, что тут что-то не так (читайте: слишком высокая цена)"
   ]
  },
  {
   "cell_type": "markdown",
   "metadata": {},
   "source": [
    "Оптимальный вариант здесь: создать такой признак, опираясь на него удалить аномалии, а затем - не использовать его."
   ]
  },
  {
   "cell_type": "markdown",
   "metadata": {},
   "source": [
    "Посмотрим на категориальные признаки."
   ]
  },
  {
   "cell_type": "markdown",
   "metadata": {},
   "source": [
    "**VehicleType**"
   ]
  },
  {
   "cell_type": "markdown",
   "metadata": {},
   "source": [
    "Посмотрим, какие типы автомобильного кузова бывают в наших данных."
   ]
  },
  {
   "cell_type": "code",
   "execution_count": 14,
   "metadata": {
    "scrolled": true
   },
   "outputs": [
    {
     "data": {
      "text/plain": [
       "sedan          91457\n",
       "small          79831\n",
       "wagon          65166\n",
       "bus            28775\n",
       "convertible    20203\n",
       "coupe          16163\n",
       "suv            11996\n",
       "other           3288\n",
       "Name: VehicleType, dtype: int64"
      ]
     },
     "execution_count": 14,
     "metadata": {},
     "output_type": "execute_result"
    }
   ],
   "source": [
    "data['VehicleType'].value_counts()"
   ]
  },
  {
   "cell_type": "markdown",
   "metadata": {},
   "source": [
    "Все выглядит хорошо. Но вообще - если заглянуть, что за объявления лежат под other, можно заметить весьма стандартные модели машин. Непонятно - то ли это действительно какие-то новинки, то ли некорректные значения. Попытка выяснить этот вопрос привела к тому, что у некоторых машин вообще написано везде по-разному."
   ]
  },
  {
   "cell_type": "code",
   "execution_count": 15,
   "metadata": {},
   "outputs": [
    {
     "data": {
      "text/plain": [
       "array([nan, 'small', 'sedan', 'bus', 'other', 'wagon', 'convertible',\n",
       "       'coupe', 'suv'], dtype=object)"
      ]
     },
     "execution_count": 15,
     "metadata": {},
     "output_type": "execute_result"
    }
   ],
   "source": [
    "data[(data.Model == 'golf') & (data.Brand == 'volkswagen')].VehicleType.unique()"
   ]
  },
  {
   "cell_type": "markdown",
   "metadata": {},
   "source": [
    "Вот такой вот фольксваген."
   ]
  },
  {
   "cell_type": "markdown",
   "metadata": {},
   "source": [
    "Пока непонятно, что с этим делать."
   ]
  },
  {
   "cell_type": "markdown",
   "metadata": {},
   "source": [
    "**GearBox**"
   ]
  },
  {
   "cell_type": "code",
   "execution_count": 16,
   "metadata": {},
   "outputs": [
    {
     "data": {
      "text/plain": [
       "manual    268251\n",
       "auto       66285\n",
       "Name: Gearbox, dtype: int64"
      ]
     },
     "execution_count": 16,
     "metadata": {},
     "output_type": "execute_result"
    }
   ],
   "source": [
    "data.Gearbox.value_counts()"
   ]
  },
  {
   "cell_type": "markdown",
   "metadata": {},
   "source": [
    "Все супер."
   ]
  },
  {
   "cell_type": "markdown",
   "metadata": {},
   "source": [
    "**Model**"
   ]
  },
  {
   "cell_type": "code",
   "execution_count": 17,
   "metadata": {},
   "outputs": [
    {
     "data": {
      "text/plain": [
       "250"
      ]
     },
     "execution_count": 17,
     "metadata": {},
     "output_type": "execute_result"
    }
   ],
   "source": [
    "data.Model.nunique()"
   ]
  },
  {
   "cell_type": "code",
   "execution_count": 18,
   "metadata": {},
   "outputs": [
    {
     "data": {
      "text/plain": [
       "golf        29232\n",
       "other       24421\n",
       "3er         19761\n",
       "polo        13066\n",
       "corsa       12570\n",
       "astra       10809\n",
       "passat      10146\n",
       "a4           9900\n",
       "c_klasse     8312\n",
       "5er          7868\n",
       "Name: Model, dtype: int64"
      ]
     },
     "execution_count": 18,
     "metadata": {},
     "output_type": "execute_result"
    }
   ],
   "source": [
    "data.Model.value_counts().head(10)"
   ]
  },
  {
   "cell_type": "markdown",
   "metadata": {},
   "source": [
    "На 350000 тысяч объявлений всего 250 моделей (большее разнообразие, по всей видимости, под категорией other), очевидно, есть наиболее часто встречающиеся - и на них мы тоже глянули. "
   ]
  },
  {
   "cell_type": "markdown",
   "metadata": {},
   "source": [
    "**FuelType**"
   ]
  },
  {
   "cell_type": "code",
   "execution_count": 19,
   "metadata": {},
   "outputs": [
    {
     "data": {
      "text/plain": [
       "petrol      216352\n",
       "gasoline     98720\n",
       "lpg           5310\n",
       "cng            565\n",
       "hybrid         233\n",
       "other          204\n",
       "electric        90\n",
       "Name: FuelType, dtype: int64"
      ]
     },
     "execution_count": 19,
     "metadata": {},
     "output_type": "execute_result"
    }
   ],
   "source": [
    "data.FuelType.value_counts()"
   ]
  },
  {
   "cell_type": "markdown",
   "metadata": {},
   "source": [
    "Очень интересно, что скрывается под other. Среди объявлений, машины в которых ездят на ОСОБОМ топливе, можно найти и ауди а3 и форд фокус, интересно."
   ]
  },
  {
   "cell_type": "markdown",
   "metadata": {},
   "source": [
    "Данная ситуация ставит в такой же ступор, как и фольксваген двумя пунктами выше."
   ]
  },
  {
   "cell_type": "markdown",
   "metadata": {},
   "source": [
    "**Brand**"
   ]
  },
  {
   "cell_type": "code",
   "execution_count": 20,
   "metadata": {},
   "outputs": [
    {
     "data": {
      "text/plain": [
       "volkswagen        77013\n",
       "opel              39931\n",
       "bmw               36914\n",
       "mercedes_benz     32046\n",
       "audi              29456\n",
       "ford              25179\n",
       "renault           17927\n",
       "peugeot           10998\n",
       "fiat               9643\n",
       "seat               6907\n",
       "mazda              5615\n",
       "skoda              5500\n",
       "smart              5246\n",
       "citroen            5148\n",
       "nissan             4941\n",
       "toyota             4606\n",
       "hyundai            3587\n",
       "sonstige_autos     3374\n",
       "volvo              3210\n",
       "mini               3202\n",
       "mitsubishi         3022\n",
       "honda              2817\n",
       "kia                2465\n",
       "suzuki             2323\n",
       "alfa_romeo         2314\n",
       "chevrolet          1754\n",
       "chrysler           1439\n",
       "dacia               900\n",
       "daihatsu            806\n",
       "subaru              762\n",
       "porsche             758\n",
       "jeep                677\n",
       "trabant             589\n",
       "land_rover          545\n",
       "daewoo              542\n",
       "saab                526\n",
       "jaguar              505\n",
       "rover               486\n",
       "lancia              471\n",
       "lada                225\n",
       "Name: Brand, dtype: int64"
      ]
     },
     "execution_count": 20,
     "metadata": {},
     "output_type": "execute_result"
    }
   ],
   "source": [
    "data.Brand.value_counts()"
   ]
  },
  {
   "cell_type": "markdown",
   "metadata": {},
   "source": [
    "Все супер, даже Лада есть!"
   ]
  },
  {
   "cell_type": "markdown",
   "metadata": {},
   "source": [
    "**NotRepaired**"
   ]
  },
  {
   "cell_type": "code",
   "execution_count": 21,
   "metadata": {
    "scrolled": true
   },
   "outputs": [
    {
     "data": {
      "text/plain": [
       "no     247161\n",
       "yes     36054\n",
       "Name: NotRepaired, dtype: int64"
      ]
     },
     "execution_count": 21,
     "metadata": {},
     "output_type": "execute_result"
    }
   ],
   "source": [
    "data.NotRepaired.value_counts()"
   ]
  },
  {
   "cell_type": "markdown",
   "metadata": {},
   "source": [
    "Порядок."
   ]
  },
  {
   "cell_type": "markdown",
   "metadata": {},
   "source": [
    "А теперь - численные признаки."
   ]
  },
  {
   "cell_type": "markdown",
   "metadata": {},
   "source": [
    "**NumberOfPictures**"
   ]
  },
  {
   "cell_type": "code",
   "execution_count": 22,
   "metadata": {},
   "outputs": [
    {
     "data": {
      "text/plain": [
       "0    354369\n",
       "Name: NumberOfPictures, dtype: int64"
      ]
     },
     "execution_count": 22,
     "metadata": {},
     "output_type": "execute_result"
    }
   ],
   "source": [
    "data.NumberOfPictures.value_counts()"
   ]
  },
  {
   "cell_type": "markdown",
   "metadata": {},
   "source": [
    "Удивительно. Данный столбец точно будет удален."
   ]
  },
  {
   "cell_type": "markdown",
   "metadata": {},
   "source": [
    "**RegistrationYear и RegistrationMonth**"
   ]
  },
  {
   "cell_type": "markdown",
   "metadata": {},
   "source": [
    "Напишем функцию для более удобного построения диаграммы размаха."
   ]
  },
  {
   "cell_type": "code",
   "execution_count": 23,
   "metadata": {},
   "outputs": [],
   "source": [
    "def boxplot_auto(col, name):\n",
    "    data.boxplot(column=col)\n",
    "    plt.xlabel(name)\n",
    "    title = 'Диаграмма размаха признака \"{}\" продающихся автомобилей'.format(name)\n",
    "    plt.title(title)\n",
    "    plt.show()"
   ]
  },
  {
   "cell_type": "code",
   "execution_count": 24,
   "metadata": {},
   "outputs": [
    {
     "data": {
      "image/png": "[encoded data removed]",
      "text/plain": [
       "<Figure size 432x288 with 1 Axes>"
      ]
     },
     "metadata": {
      "needs_background": "light"
     },
     "output_type": "display_data"
    }
   ],
   "source": [
    "boxplot_auto('RegistrationYear', 'Год регистрации')"
   ]
  },
  {
   "cell_type": "markdown",
   "metadata": {},
   "source": [
    "Очень интересно. Аномалии придется удалять."
   ]
  },
  {
   "cell_type": "code",
   "execution_count": 25,
   "metadata": {},
   "outputs": [
    {
     "data": {
      "image/png": "[encoded data removed]",
      "text/plain": [
       "<Figure size 432x288 with 1 Axes>"
      ]
     },
     "metadata": {
      "needs_background": "light"
     },
     "output_type": "display_data"
    }
   ],
   "source": [
    "data.RegistrationYear.hist(range=(1970, 2020), bins=20, density=True)\n",
    "plt.xlabel('Год регистрации')\n",
    "plt.ylabel('Частота')\n",
    "plt.title('График распределения признака \"Год регистрации\" продаваемых автомобилей')\n",
    "plt.show()"
   ]
  },
  {
   "cell_type": "markdown",
   "metadata": {},
   "source": [
    "Кто-то и в будущем машину зарегистрировал."
   ]
  },
  {
   "cell_type": "code",
   "execution_count": 26,
   "metadata": {},
   "outputs": [
    {
     "data": {
      "text/plain": [
       "0     37352\n",
       "3     34373\n",
       "6     31508\n",
       "4     29270\n",
       "5     29153\n",
       "7     27213\n",
       "10    26099\n",
       "12    24289\n",
       "11    24186\n",
       "9     23813\n",
       "1     23219\n",
       "8     22627\n",
       "2     21267\n",
       "Name: RegistrationMonth, dtype: int64"
      ]
     },
     "execution_count": 26,
     "metadata": {},
     "output_type": "execute_result"
    }
   ],
   "source": [
    "data.RegistrationMonth.value_counts()"
   ]
  },
  {
   "cell_type": "markdown",
   "metadata": {},
   "source": [
    "Нулевой месяц радует. Ну судя по всему - это значение ставили автовладельцы, которые не знают месяц регистрации. Столбец не сильно много информации несет - вероятно, он будет удален. И нулевой месяц вместе с ним."
   ]
  },
  {
   "cell_type": "markdown",
   "metadata": {},
   "source": [
    "**Power**"
   ]
  },
  {
   "cell_type": "code",
   "execution_count": 27,
   "metadata": {},
   "outputs": [
    {
     "data": {
      "image/png": "[encoded data removed]",
      "text/plain": [
       "<Figure size 432x288 with 1 Axes>"
      ]
     },
     "metadata": {
      "needs_background": "light"
     },
     "output_type": "display_data"
    }
   ],
   "source": [
    "boxplot_auto('Power', 'Мощность (л.с.)')"
   ]
  },
  {
   "cell_type": "markdown",
   "metadata": {},
   "source": [
    "Казалось бы, ничего необычного, если не узнать по первой ссылке в поисковике, что больше тысячи л.с. не бывает."
   ]
  },
  {
   "cell_type": "markdown",
   "metadata": {},
   "source": [
    "Аномалии будем удалять."
   ]
  },
  {
   "cell_type": "markdown",
   "metadata": {},
   "source": [
    "**Kilometer**"
   ]
  },
  {
   "cell_type": "code",
   "execution_count": 28,
   "metadata": {},
   "outputs": [
    {
     "data": {
      "image/png": "[encoded data removed]",
      "text/plain": [
       "<Figure size 432x288 with 1 Axes>"
      ]
     },
     "metadata": {
      "needs_background": "light"
     },
     "output_type": "display_data"
    }
   ],
   "source": [
    "boxplot_auto('Kilometer', 'Пробег')"
   ]
  },
  {
   "cell_type": "markdown",
   "metadata": {},
   "source": [
    "Вроде, неплохо."
   ]
  },
  {
   "cell_type": "markdown",
   "metadata": {},
   "source": [
    "**PostalCode**"
   ]
  },
  {
   "cell_type": "code",
   "execution_count": 29,
   "metadata": {},
   "outputs": [
    {
     "data": {
      "text/plain": [
       "8143"
      ]
     },
     "execution_count": 29,
     "metadata": {},
     "output_type": "execute_result"
    }
   ],
   "source": [
    "data.PostalCode.nunique()"
   ]
  },
  {
   "cell_type": "markdown",
   "metadata": {},
   "source": [
    "Итак, у нас 8143 уникальных почтовых индекса. Что они дают? При желании можно вытащить из них город, если брать в пример Россию - тут цена в Екатеринбурге и Москве на машины, вероятно, разная. Но, неизвестно, что это за страна (вообще, скорее всего - Германия), ну и непонятно - стоит ли оно того, признак подает совсем мало надежд на помощь в качественном предсказании. Здравый смысл говорит о том, что его стоит удалить."
   ]
  },
  {
   "cell_type": "markdown",
   "metadata": {},
   "source": [
    "**Price**"
   ]
  },
  {
   "cell_type": "code",
   "execution_count": 30,
   "metadata": {},
   "outputs": [
    {
     "data": {
      "image/png": "[encoded data removed]",
      "text/plain": [
       "<Figure size 432x288 with 1 Axes>"
      ]
     },
     "metadata": {
      "needs_background": "light"
     },
     "output_type": "display_data"
    }
   ],
   "source": [
    "boxplot_auto('Price', 'Цена')"
   ]
  },
  {
   "cell_type": "markdown",
   "metadata": {},
   "source": [
    "Ну вообще, 20 тыс. евро не так много, больше смущают нули. Попробуем без них."
   ]
  },
  {
   "cell_type": "code",
   "execution_count": 31,
   "metadata": {},
   "outputs": [
    {
     "data": {
      "text/plain": [
       "<matplotlib.axes._subplots.AxesSubplot at 0x1abf4c31d48>"
      ]
     },
     "execution_count": 31,
     "metadata": {},
     "output_type": "execute_result"
    },
    {
     "data": {
      "image/png": "[encoded data removed]",
      "text/plain": [
       "<Figure size 432x288 with 1 Axes>"
      ]
     },
     "metadata": {
      "needs_background": "light"
     },
     "output_type": "display_data"
    }
   ],
   "source": [
    "data[data.Price != 0].boxplot(column='Price')"
   ]
  },
  {
   "cell_type": "markdown",
   "metadata": {},
   "source": [
    "Уже лучше, но все равно средняя цена смущает. Слишком мало. Разберемся позднее подробнее, это целевой признак, как никак."
   ]
  },
  {
   "cell_type": "markdown",
   "metadata": {},
   "source": [
    "**Вывод по Шагу 2**: итак, на данном шаге мы провели небольшой исследовательский анализ наших данных, что можно сказать - часть столбцов точно пойдет на удаление, почти все остальные столбцы содержат аномомалии или некорректные значения.Будем удалять, разбираться."
   ]
  },
  {
   "cell_type": "markdown",
   "metadata": {},
   "source": [
    "<h3>Шаг 3:Предобработка данных</h3>\n",
    "<a id='preproc'></a>"
   ]
  },
  {
   "cell_type": "code",
   "execution_count": 32,
   "metadata": {},
   "outputs": [
    {
     "data": {
      "text/plain": [
       "'Размер датасета: 354369'"
      ]
     },
     "execution_count": 32,
     "metadata": {},
     "output_type": "execute_result"
    }
   ],
   "source": [
    "'Размер датасета: {}'.format(data.shape[0])"
   ]
  },
  {
   "cell_type": "code",
   "execution_count": 33,
   "metadata": {},
   "outputs": [
    {
     "data": {
      "text/plain": [
       "'Десять процентов от него : 35436'"
      ]
     },
     "execution_count": 33,
     "metadata": {},
     "output_type": "execute_result"
    }
   ],
   "source": [
    "'Десять процентов от него : {}'.format(data.shape[0] // 10)"
   ]
  },
  {
   "cell_type": "markdown",
   "metadata": {},
   "source": [
    "Попробуем удалить не больше десяти процентов. Конечно, данных у нас достаточно, но все равно - чем больше, тем ведь лучше."
   ]
  },
  {
   "cell_type": "markdown",
   "metadata": {},
   "source": [
    "**Работа с признаками, несущими мало информации**"
   ]
  },
  {
   "cell_type": "markdown",
   "metadata": {},
   "source": [
    "Начнем с удаления бесполезных столбцов, но перед этим - как и было написано выше, попробуем извлечь пользу из полей с датой."
   ]
  },
  {
   "cell_type": "markdown",
   "metadata": {},
   "source": [
    "Создадим новый признак и удалим аномалии по нему."
   ]
  },
  {
   "cell_type": "code",
   "execution_count": 34,
   "metadata": {},
   "outputs": [],
   "source": [
    "data['daysReg'] = (data.LastSeen - data.DateCreated).dt.days"
   ]
  },
  {
   "cell_type": "code",
   "execution_count": 35,
   "metadata": {},
   "outputs": [
    {
     "data": {
      "image/png": "[encoded data removed]",
      "text/plain": [
       "<Figure size 432x288 with 1 Axes>"
      ]
     },
     "metadata": {
      "needs_background": "light"
     },
     "output_type": "display_data"
    }
   ],
   "source": [
    "boxplot_auto('daysReg', 'Дни, проведенные на сайте')"
   ]
  },
  {
   "cell_type": "code",
   "execution_count": 36,
   "metadata": {},
   "outputs": [
    {
     "data": {
      "text/plain": [
       "count    354369.000000\n",
       "mean          8.677974\n",
       "std           8.639404\n",
       "min           0.000000\n",
       "25%           2.000000\n",
       "50%           6.000000\n",
       "75%          13.000000\n",
       "max         759.000000\n",
       "Name: daysReg, dtype: float64"
      ]
     },
     "execution_count": 36,
     "metadata": {},
     "output_type": "execute_result"
    }
   ],
   "source": [
    "data.daysReg.describe()"
   ]
  },
  {
   "cell_type": "code",
   "execution_count": 37,
   "metadata": {},
   "outputs": [],
   "source": [
    "def hist_auto(col, r1, r2, bins, name):\n",
    "    data[col].hist(bins=bins, density=True, range=(r1,r2))\n",
    "    plt.xlabel(name)\n",
    "    plt.ylabel('Частота')\n",
    "    plt.title('Распределение частот значений признака \"{}\" продающихся автомобилей'.format(name))\n",
    "    plt.show()"
   ]
  },
  {
   "cell_type": "code",
   "execution_count": 38,
   "metadata": {
    "scrolled": true
   },
   "outputs": [
    {
     "data": {
      "image/png": "[encoded data removed]",
      "text/plain": [
       "<Figure size 432x288 with 1 Axes>"
      ]
     },
     "metadata": {
      "needs_background": "light"
     },
     "output_type": "display_data"
    }
   ],
   "source": [
    "hist_auto('daysReg', 0, 60, 10, 'Дни, проведенные на сайте')"
   ]
  },
  {
   "cell_type": "markdown",
   "metadata": {},
   "source": [
    "Ограничимся 40 днями. Хотя по диаграмме размаха, можно было удалить все объявления, где признак принимает значения от, примерно, 30. Но объективно - 40 дней продавать авто - это не страшно."
   ]
  },
  {
   "cell_type": "code",
   "execution_count": 39,
   "metadata": {},
   "outputs": [],
   "source": [
    "data = data.drop(index=data[data.daysReg > 40].index)"
   ]
  },
  {
   "cell_type": "markdown",
   "metadata": {},
   "source": [
    "Теперь удалим остальные признаки, ожидаемая польза от которых либо равно нулю, либо совсем мала. Мы отмечали их выше."
   ]
  },
  {
   "cell_type": "code",
   "execution_count": 40,
   "metadata": {},
   "outputs": [
    {
     "data": {
      "text/plain": [
       "Index(['DateCrawled', 'Price', 'VehicleType', 'RegistrationYear', 'Gearbox',\n",
       "       'Power', 'Model', 'Kilometer', 'RegistrationMonth', 'FuelType', 'Brand',\n",
       "       'NotRepaired', 'DateCreated', 'NumberOfPictures', 'PostalCode',\n",
       "       'LastSeen', 'daysReg'],\n",
       "      dtype='object')"
      ]
     },
     "execution_count": 40,
     "metadata": {},
     "output_type": "execute_result"
    }
   ],
   "source": [
    "data.columns"
   ]
  },
  {
   "cell_type": "code",
   "execution_count": 41,
   "metadata": {},
   "outputs": [],
   "source": [
    "data = data.drop(\n",
    "    columns=['DateCrawled', 'RegistrationMonth', 'DateCreated', 'NumberOfPictures', 'PostalCode', 'LastSeen', 'daysReg'])"
   ]
  },
  {
   "cell_type": "code",
   "execution_count": 42,
   "metadata": {},
   "outputs": [
    {
     "name": "stdout",
     "output_type": "stream",
     "text": [
      "<class 'pandas.core.frame.DataFrame'>\n",
      "Int64Index: 354120 entries, 0 to 354368\n",
      "Data columns (total 10 columns):\n",
      "Price               354120 non-null int64\n",
      "VehicleType         316655 non-null object\n",
      "RegistrationYear    354120 non-null int64\n",
      "Gearbox             334298 non-null object\n",
      "Power               354120 non-null int64\n",
      "Model               334431 non-null object\n",
      "Kilometer           354120 non-null int64\n",
      "FuelType            321246 non-null object\n",
      "Brand               354120 non-null object\n",
      "NotRepaired         283007 non-null object\n",
      "dtypes: int64(4), object(6)\n",
      "memory usage: 29.7+ MB\n"
     ]
    }
   ],
   "source": [
    "data.info()"
   ]
  },
  {
   "cell_type": "markdown",
   "metadata": {},
   "source": [
    "Теперь столбцы отдельно."
   ]
  },
  {
   "cell_type": "markdown",
   "metadata": {},
   "source": [
    "**RegistrationYear**"
   ]
  },
  {
   "cell_type": "code",
   "execution_count": 43,
   "metadata": {},
   "outputs": [
    {
     "data": {
      "text/plain": [
       "14525"
      ]
     },
     "execution_count": 43,
     "metadata": {},
     "output_type": "execute_result"
    }
   ],
   "source": [
    "data[data.RegistrationYear > 2016].shape[0]"
   ]
  },
  {
   "cell_type": "markdown",
   "metadata": {},
   "source": [
    "14 тысяч объявлений из будущего. Ну, это точно следует удалить. Данные значения некорректны."
   ]
  },
  {
   "cell_type": "code",
   "execution_count": 44,
   "metadata": {},
   "outputs": [],
   "source": [
    "data = data.drop(index=data[data.RegistrationYear > 2016].index)"
   ]
  },
  {
   "cell_type": "markdown",
   "metadata": {},
   "source": [
    "Удалим другие очевидные ошибочные значения - ниже 1900 года."
   ]
  },
  {
   "cell_type": "code",
   "execution_count": 45,
   "metadata": {},
   "outputs": [
    {
     "data": {
      "text/plain": [
       "66"
      ]
     },
     "execution_count": 45,
     "metadata": {},
     "output_type": "execute_result"
    }
   ],
   "source": [
    "data[data.RegistrationYear < 1900].shape[0]"
   ]
  },
  {
   "cell_type": "code",
   "execution_count": 46,
   "metadata": {},
   "outputs": [],
   "source": [
    "data = data.drop(index=data[data.RegistrationYear < 1900].index)"
   ]
  },
  {
   "cell_type": "markdown",
   "metadata": {},
   "source": [
    "Посмотрим, что с остальными раритетными объявлениями."
   ]
  },
  {
   "cell_type": "code",
   "execution_count": 47,
   "metadata": {},
   "outputs": [
    {
     "data": {
      "text/plain": [
       "count    339529.000000\n",
       "mean       2002.481408\n",
       "std           7.090568\n",
       "min        1910.000000\n",
       "25%        1999.000000\n",
       "50%        2003.000000\n",
       "75%        2007.000000\n",
       "max        2016.000000\n",
       "Name: RegistrationYear, dtype: float64"
      ]
     },
     "execution_count": 47,
     "metadata": {},
     "output_type": "execute_result"
    }
   ],
   "source": [
    "data.RegistrationYear.describe()"
   ]
  },
  {
   "cell_type": "code",
   "execution_count": 48,
   "metadata": {
    "scrolled": true
   },
   "outputs": [
    {
     "data": {
      "image/png": "[encoded data removed]",
      "text/plain": [
       "<Figure size 432x288 with 1 Axes>"
      ]
     },
     "metadata": {
      "needs_background": "light"
     },
     "output_type": "display_data"
    }
   ],
   "source": [
    "boxplot_auto('RegistrationYear', 'Год регистрации')"
   ]
  },
  {
   "cell_type": "markdown",
   "metadata": {},
   "source": [
    "Ситуация спорная в том смысле, что мы не можем утверждать, что данные значения (с 1910 по 1980, например) ошибочны. 1910 год был не так давно! Но, даже если это не ошибки, то это аномалии в контексте построения модели для определения цены современного (а таких продается подавляющее большинство, очевидно) автомобиля. Ну и определение нижней границы, по которой аномалии стоит удалять, тоже спорный вопрос. Удалим пока до 1970. Дальше посмотрим на процент раритетных автомобилей."
   ]
  },
  {
   "cell_type": "code",
   "execution_count": 49,
   "metadata": {},
   "outputs": [
    {
     "data": {
      "text/plain": [
       "1272"
      ]
     },
     "execution_count": 49,
     "metadata": {},
     "output_type": "execute_result"
    }
   ],
   "source": [
    "data[data.RegistrationYear < 1970].shape[0] "
   ]
  },
  {
   "cell_type": "code",
   "execution_count": 50,
   "metadata": {},
   "outputs": [],
   "source": [
    "data = data.drop(index=data[data.RegistrationYear < 1970].index)"
   ]
  },
  {
   "cell_type": "code",
   "execution_count": 51,
   "metadata": {},
   "outputs": [],
   "source": [
    "def proc_check(year1, year2):\n",
    "    res = 'Процент автомобилей, которые были зарегистрированы c {} до {} : {:.2%}'.format(year1, year2, \n",
    "    data[(data.RegistrationYear >= year1) & (data.RegistrationYear < year2)].shape[0] / data.shape[0])\n",
    "    print(res)"
   ]
  },
  {
   "cell_type": "code",
   "execution_count": 52,
   "metadata": {},
   "outputs": [
    {
     "name": "stdout",
     "output_type": "stream",
     "text": [
      "Процент автомобилей, которые были зарегистрированы c 1910 до 1980 : 0.62%\n",
      "Процент автомобилей, которые были зарегистрированы c 1980 до 1990 : 1.83%\n",
      "Процент автомобилей, которые были зарегистрированы c 1990 до 2000 : 27.36%\n"
     ]
    }
   ],
   "source": [
    "proc_check(1910, 1980)\n",
    "proc_check(1980, 1990)\n",
    "proc_check(1990, 2000)"
   ]
  },
  {
   "cell_type": "markdown",
   "metadata": {},
   "source": [
    "Ощутимый процент в объявлениях имеют лишь автомобили, зарегистрированные после 1990 года. Все, что было ДО, удалим тоже."
   ]
  },
  {
   "cell_type": "code",
   "execution_count": 53,
   "metadata": {},
   "outputs": [],
   "source": [
    "data = data.drop(index=data[data.RegistrationYear < 1990].index)"
   ]
  },
  {
   "cell_type": "markdown",
   "metadata": {},
   "source": [
    "Посмотрим теперь на распределение признака."
   ]
  },
  {
   "cell_type": "markdown",
   "metadata": {},
   "source": [
    "Год регистрации автомобиля имеет существенное значение на цену автомобиля - это диктуется характером самой проблемы, это очевидно. Поэтому все аномальные и некорректные значения стоит удалять, этот признак очень важен."
   ]
  },
  {
   "cell_type": "code",
   "execution_count": 54,
   "metadata": {},
   "outputs": [
    {
     "data": {
      "image/png": "[encoded data removed]",
      "text/plain": [
       "<Figure size 432x288 with 1 Axes>"
      ]
     },
     "metadata": {
      "needs_background": "light"
     },
     "output_type": "display_data"
    }
   ],
   "source": [
    "hist_auto('RegistrationYear', 1990, 2016, 27, 'Год регистрации')"
   ]
  },
  {
   "cell_type": "markdown",
   "metadata": {},
   "source": [
    "Очень интересно, о чем повествует пик около 2016 года? Ведь в 2016 году только собирали эти данные. Причем в первый месяц весны - третий месяц (!) года. Как за два месяца столько машин уже прошло регистрацию, и одновременно понадобилось их столько продать. К тому же - у нас распределение почти нормальное (корзины взять пошире и вообще супер будет), так что этот пик выглядит сильно подозрительно. Глянем ближе."
   ]
  },
  {
   "cell_type": "code",
   "execution_count": 55,
   "metadata": {},
   "outputs": [
    {
     "data": {
      "text/html": [
       "<div>\n",
       "<style scoped>\n",
       "    .dataframe tbody tr th:only-of-type {\n",
       "        vertical-align: middle;\n",
       "    }\n",
       "\n",
       "    .dataframe tbody tr th {\n",
       "        vertical-align: top;\n",
       "    }\n",
       "\n",
       "    .dataframe thead th {\n",
       "        text-align: right;\n",
       "    }\n",
       "</style>\n",
       "<table border=\"1\" class=\"dataframe\">\n",
       "  <thead>\n",
       "    <tr style=\"text-align: right;\">\n",
       "      <th></th>\n",
       "      <th>Price</th>\n",
       "      <th>VehicleType</th>\n",
       "      <th>RegistrationYear</th>\n",
       "      <th>Gearbox</th>\n",
       "      <th>Power</th>\n",
       "      <th>Model</th>\n",
       "      <th>Kilometer</th>\n",
       "      <th>FuelType</th>\n",
       "      <th>Brand</th>\n",
       "      <th>NotRepaired</th>\n",
       "    </tr>\n",
       "  </thead>\n",
       "  <tbody>\n",
       "    <tr>\n",
       "      <td>16</td>\n",
       "      <td>300</td>\n",
       "      <td>NaN</td>\n",
       "      <td>2016</td>\n",
       "      <td>NaN</td>\n",
       "      <td>60</td>\n",
       "      <td>polo</td>\n",
       "      <td>150000</td>\n",
       "      <td>petrol</td>\n",
       "      <td>volkswagen</td>\n",
       "      <td>NaN</td>\n",
       "    </tr>\n",
       "    <tr>\n",
       "      <td>31</td>\n",
       "      <td>899</td>\n",
       "      <td>NaN</td>\n",
       "      <td>2016</td>\n",
       "      <td>manual</td>\n",
       "      <td>60</td>\n",
       "      <td>clio</td>\n",
       "      <td>150000</td>\n",
       "      <td>petrol</td>\n",
       "      <td>renault</td>\n",
       "      <td>NaN</td>\n",
       "    </tr>\n",
       "    <tr>\n",
       "      <td>35</td>\n",
       "      <td>350</td>\n",
       "      <td>NaN</td>\n",
       "      <td>2016</td>\n",
       "      <td>manual</td>\n",
       "      <td>75</td>\n",
       "      <td>golf</td>\n",
       "      <td>150000</td>\n",
       "      <td>petrol</td>\n",
       "      <td>volkswagen</td>\n",
       "      <td>no</td>\n",
       "    </tr>\n",
       "    <tr>\n",
       "      <td>37</td>\n",
       "      <td>1500</td>\n",
       "      <td>NaN</td>\n",
       "      <td>2016</td>\n",
       "      <td>NaN</td>\n",
       "      <td>0</td>\n",
       "      <td>kangoo</td>\n",
       "      <td>150000</td>\n",
       "      <td>gasoline</td>\n",
       "      <td>renault</td>\n",
       "      <td>no</td>\n",
       "    </tr>\n",
       "    <tr>\n",
       "      <td>52</td>\n",
       "      <td>1400</td>\n",
       "      <td>NaN</td>\n",
       "      <td>2016</td>\n",
       "      <td>manual</td>\n",
       "      <td>55</td>\n",
       "      <td>other</td>\n",
       "      <td>5000</td>\n",
       "      <td>NaN</td>\n",
       "      <td>hyundai</td>\n",
       "      <td>NaN</td>\n",
       "    </tr>\n",
       "  </tbody>\n",
       "</table>\n",
       "</div>"
      ],
      "text/plain": [
       "    Price VehicleType  RegistrationYear Gearbox  Power   Model  Kilometer  \\\n",
       "16    300         NaN              2016     NaN     60    polo     150000   \n",
       "31    899         NaN              2016  manual     60    clio     150000   \n",
       "35    350         NaN              2016  manual     75    golf     150000   \n",
       "37   1500         NaN              2016     NaN      0  kangoo     150000   \n",
       "52   1400         NaN              2016  manual     55   other       5000   \n",
       "\n",
       "    FuelType       Brand NotRepaired  \n",
       "16    petrol  volkswagen         NaN  \n",
       "31    petrol     renault         NaN  \n",
       "35    petrol  volkswagen          no  \n",
       "37  gasoline     renault          no  \n",
       "52       NaN     hyundai         NaN  "
      ]
     },
     "execution_count": 55,
     "metadata": {},
     "output_type": "execute_result"
    }
   ],
   "source": [
    "data[data.RegistrationYear == 2016].head(5)"
   ]
  },
  {
   "cell_type": "markdown",
   "metadata": {},
   "source": [
    "Пробег 150000 км как бы намекает. Если зарегистрировать машину в 2016 году, 1 января, и разместить объявление 1 апреля, то для пробега в 150к км надо 20 раз в день объезжать ЕКАД. Естественно, каждый день."
   ]
  },
  {
   "cell_type": "code",
   "execution_count": 56,
   "metadata": {},
   "outputs": [
    {
     "data": {
      "text/plain": [
       "133784.64263388206"
      ]
     },
     "execution_count": 56,
     "metadata": {},
     "output_type": "execute_result"
    }
   ],
   "source": [
    "data[data.RegistrationYear == 2016].Kilometer.mean()"
   ]
  },
  {
   "cell_type": "markdown",
   "metadata": {},
   "source": [
    "Мы явно имеем дело с некорректными значениями. Посмотрим, сколько таких строк."
   ]
  },
  {
   "cell_type": "code",
   "execution_count": 57,
   "metadata": {},
   "outputs": [
    {
     "data": {
      "text/plain": [
       "9598"
      ]
     },
     "execution_count": 57,
     "metadata": {},
     "output_type": "execute_result"
    }
   ],
   "source": [
    "data[data.RegistrationYear == 2016].shape[0]"
   ]
  },
  {
   "cell_type": "markdown",
   "metadata": {},
   "source": [
    "Много. Посмотрим, получше."
   ]
  },
  {
   "cell_type": "code",
   "execution_count": 58,
   "metadata": {},
   "outputs": [
    {
     "data": {
      "text/plain": [
       "150000    7414\n",
       "125000     738\n",
       "5000       395\n",
       "100000     282\n",
       "90000      192\n",
       "80000      145\n",
       "70000      107\n",
       "60000       92\n",
       "20000       69\n",
       "30000       55\n",
       "50000       53\n",
       "40000       47\n",
       "10000        9\n",
       "Name: Kilometer, dtype: int64"
      ]
     },
     "execution_count": 58,
     "metadata": {},
     "output_type": "execute_result"
    }
   ],
   "source": [
    "data[data.RegistrationYear == 2016].Kilometer.value_counts()"
   ]
  },
  {
   "cell_type": "markdown",
   "metadata": {},
   "source": [
    "Очень интересно. Итак, для машин зарегистрированных в 2016 мы имеем массу автомобилей с завышенным пробегом: даже зарегистрировав авто 1 января 2016, сложно было бы столько проехать. Оставим только объявления, где пробег не превышает 10000 км. Хотя это тоже много, конечно, но уже более реально."
   ]
  },
  {
   "cell_type": "code",
   "execution_count": 59,
   "metadata": {},
   "outputs": [],
   "source": [
    "data = data.drop(index=data[(data.RegistrationYear == 2016) & (data.Kilometer > 10000)].index)"
   ]
  },
  {
   "cell_type": "markdown",
   "metadata": {},
   "source": [
    "Проверим распределение."
   ]
  },
  {
   "cell_type": "code",
   "execution_count": 60,
   "metadata": {},
   "outputs": [
    {
     "data": {
      "image/png": "[encoded data removed]",
      "text/plain": [
       "<Figure size 432x288 with 1 Axes>"
      ]
     },
     "metadata": {
      "needs_background": "light"
     },
     "output_type": "display_data"
    }
   ],
   "source": [
    "hist_auto('RegistrationYear', 1990, 2016, 27, 'Год регистрации')"
   ]
  },
  {
   "cell_type": "markdown",
   "metadata": {},
   "source": [
    "Получилось как надо. "
   ]
  },
  {
   "cell_type": "markdown",
   "metadata": {},
   "source": [
    "**Power**"
   ]
  },
  {
   "cell_type": "markdown",
   "metadata": {},
   "source": [
    "Уже ранее отмечалось, что в этом столбце ТОЧНО есть аномалии и некорректные значения. Разберемся."
   ]
  },
  {
   "cell_type": "code",
   "execution_count": 61,
   "metadata": {},
   "outputs": [
    {
     "data": {
      "image/png": "[encoded data removed]",
      "text/plain": [
       "<Figure size 432x288 with 1 Axes>"
      ]
     },
     "metadata": {
      "needs_background": "light"
     },
     "output_type": "display_data"
    }
   ],
   "source": [
    "boxplot_auto('Power', 'Мощность')"
   ]
  },
  {
   "cell_type": "markdown",
   "metadata": {},
   "source": [
    "Сразу удалим значения равные 0 и выше 1000 - они точно ошибочны. Дальше будем разбираться. "
   ]
  },
  {
   "cell_type": "code",
   "execution_count": 62,
   "metadata": {},
   "outputs": [],
   "source": [
    "data = data.drop(index=data[(data.Power >=1000) | (data.Power == 0)].index)"
   ]
  },
  {
   "cell_type": "markdown",
   "metadata": {},
   "source": [
    "Посмотрим."
   ]
  },
  {
   "cell_type": "code",
   "execution_count": 63,
   "metadata": {},
   "outputs": [
    {
     "data": {
      "text/plain": [
       "count    289056.000000\n",
       "mean        121.468996\n",
       "std          54.630514\n",
       "min           1.000000\n",
       "25%          79.000000\n",
       "50%         114.000000\n",
       "75%         150.000000\n",
       "max         999.000000\n",
       "Name: Power, dtype: float64"
      ]
     },
     "execution_count": 63,
     "metadata": {},
     "output_type": "execute_result"
    }
   ],
   "source": [
    "data.Power.describe()"
   ]
  },
  {
   "cell_type": "markdown",
   "metadata": {},
   "source": [
    "Итак, небольшое расследование по поводу лошадиных сил у машины дало: машины с л.с. в диапазоне от 20 до 50 встречаются, но ощутимо реже, ниже 20 не удалось найти ничего практически; выше 700 л.с. тоже не было обнаружено ничего, а машины, л.с. которых лежат в диапазоне от 500 до 700 являются существенно дорогими и также редкими."
   ]
  },
  {
   "cell_type": "markdown",
   "metadata": {},
   "source": [
    "Удалим объявления с Power меньше 20 и выше 500 - как аномальные. Посмотрим еще раз на диаграмму размаха, также построим гистаграмму."
   ]
  },
  {
   "cell_type": "code",
   "execution_count": 64,
   "metadata": {},
   "outputs": [],
   "source": [
    "data = data.drop(index=data[(data.Power >= 500) | (data.Power <= 20)].index)"
   ]
  },
  {
   "cell_type": "code",
   "execution_count": 65,
   "metadata": {
    "scrolled": true
   },
   "outputs": [
    {
     "data": {
      "image/png": "[encoded data removed]",
      "text/plain": [
       "<Figure size 432x288 with 1 Axes>"
      ]
     },
     "metadata": {
      "needs_background": "light"
     },
     "output_type": "display_data"
    }
   ],
   "source": [
    "boxplot_auto('Power', 'Иощность')"
   ]
  },
  {
   "cell_type": "code",
   "execution_count": 66,
   "metadata": {
    "scrolled": true
   },
   "outputs": [
    {
     "data": {
      "image/png": "[encoded data removed]",
      "text/plain": [
       "<Figure size 432x288 with 1 Axes>"
      ]
     },
     "metadata": {
      "needs_background": "light"
     },
     "output_type": "display_data"
    }
   ],
   "source": [
    "hist_auto('Power', 0,  500, 20, 'Мощность')"
   ]
  },
  {
   "cell_type": "markdown",
   "metadata": {},
   "source": [
    "'Хвост' после 250 также можно убрать - аномалии."
   ]
  },
  {
   "cell_type": "code",
   "execution_count": 67,
   "metadata": {},
   "outputs": [],
   "source": [
    "data = data.drop(index=data[data.Power >= 250].index)"
   ]
  },
  {
   "cell_type": "code",
   "execution_count": 68,
   "metadata": {},
   "outputs": [
    {
     "data": {
      "image/png": "[encoded data removed]",
      "text/plain": [
       "<Figure size 432x288 with 1 Axes>"
      ]
     },
     "metadata": {
      "needs_background": "light"
     },
     "output_type": "display_data"
    }
   ],
   "source": [
    "boxplot_auto('Power', 'Мощность')"
   ]
  },
  {
   "cell_type": "code",
   "execution_count": 69,
   "metadata": {},
   "outputs": [
    {
     "data": {
      "image/png": "[encoded data removed]",
      "text/plain": [
       "<Figure size 432x288 with 1 Axes>"
      ]
     },
     "metadata": {
      "needs_background": "light"
     },
     "output_type": "display_data"
    }
   ],
   "source": [
    "hist_auto('Power', 0,  250, 10, 'Мощность')"
   ]
  },
  {
   "cell_type": "markdown",
   "metadata": {},
   "source": [
    "Все выглядит замечательно."
   ]
  },
  {
   "cell_type": "markdown",
   "metadata": {},
   "source": [
    "**Price**"
   ]
  },
  {
   "cell_type": "markdown",
   "metadata": {},
   "source": [
    "Мы отмечали, что здесь есть объекты с ценой, равной нулю. Это нам не подходит, как и другие символические цены. Надо найти границу, по которой цена уже не считается таковой."
   ]
  },
  {
   "cell_type": "markdown",
   "metadata": {},
   "source": [
    "Построим гистограмму для цен - от 0 до 200."
   ]
  },
  {
   "cell_type": "code",
   "execution_count": 70,
   "metadata": {},
   "outputs": [
    {
     "data": {
      "image/png": "[encoded data removed]",
      "text/plain": [
       "<Figure size 432x288 with 1 Axes>"
      ]
     },
     "metadata": {
      "needs_background": "light"
     },
     "output_type": "display_data"
    }
   ],
   "source": [
    "hist_auto('Price', 0,  200, 20, 'Цена')"
   ]
  },
  {
   "cell_type": "markdown",
   "metadata": {},
   "source": [
    "Можно прикинуть, что около нуля - символические цены, а затем - с 50 евро, начинаются реальные цены, поскольку с данного значения наблюдается некоторая тенденция - рост пиков около 'круглых' значений и рост кол-ва объектов с ценами, значения которых между ними - 'круглыми'."
   ]
  },
  {
   "cell_type": "markdown",
   "metadata": {},
   "source": [
    "Определим символические цены как цены, значения которых ниже 50 евро. Удалим такие объекты."
   ]
  },
  {
   "cell_type": "code",
   "execution_count": 71,
   "metadata": {},
   "outputs": [],
   "source": [
    "data = data.drop(index=data[data.Price < 50].index).reset_index(drop=True)"
   ]
  },
  {
   "cell_type": "markdown",
   "metadata": {},
   "source": [
    "Теперь посмотрим на завышенные значения. Имеются ли таковые вообще?"
   ]
  },
  {
   "cell_type": "code",
   "execution_count": 72,
   "metadata": {},
   "outputs": [
    {
     "data": {
      "image/png": "[encoded data removed]",
      "text/plain": [
       "<Figure size 432x288 with 1 Axes>"
      ]
     },
     "metadata": {
      "needs_background": "light"
     },
     "output_type": "display_data"
    }
   ],
   "source": [
    "hist_auto('Price', 0,  20000, 20, 'Цена')"
   ]
  },
  {
   "cell_type": "code",
   "execution_count": 73,
   "metadata": {},
   "outputs": [
    {
     "data": {
      "image/png": "[encoded data removed]",
      "text/plain": [
       "<Figure size 432x288 with 1 Axes>"
      ]
     },
     "metadata": {
      "needs_background": "light"
     },
     "output_type": "display_data"
    }
   ],
   "source": [
    "boxplot_auto('Price', 'Цена')"
   ]
  },
  {
   "cell_type": "markdown",
   "metadata": {},
   "source": [
    "Диаграмма размаха говорит, что аномальные значения существуют, но гистограмма выглядит хорошо - явного 'хвоста' нет, а учитывая, сколько объектов мы уже удалили, точно стоит принять решение оставить все здесь как есть."
   ]
  },
  {
   "cell_type": "markdown",
   "metadata": {},
   "source": [
    "**Kilometer**"
   ]
  },
  {
   "cell_type": "markdown",
   "metadata": {},
   "source": [
    "Мы уже встречались со значениями данного столбца, когда разбирались с годом регистрации. "
   ]
  },
  {
   "cell_type": "markdown",
   "metadata": {},
   "source": [
    "Построим гистаграмму."
   ]
  },
  {
   "cell_type": "code",
   "execution_count": 74,
   "metadata": {},
   "outputs": [
    {
     "data": {
      "image/png": "[encoded data removed]",
      "text/plain": [
       "<Figure size 432x288 with 1 Axes>"
      ]
     },
     "metadata": {
      "needs_background": "light"
     },
     "output_type": "display_data"
    }
   ],
   "source": [
    "hist_auto('Kilometer', 0,  150000, 10, 'Пробег')"
   ]
  },
  {
   "cell_type": "markdown",
   "metadata": {},
   "source": [
    "Видим тоже самое - много значений около максимума. Возможно, большее количество нельзя было указывать при заполнении анкеты, поэтому у всех машин, у которых пробег выше 150 тыс. км стоит такой. Если машина не была куплена (зарегистрирована) совсем недавно, то такое значение совсем не вызывает подозрений, так что в целом - аномалий здесь не наблюдается."
   ]
  },
  {
   "cell_type": "markdown",
   "metadata": {},
   "source": [
    "*Промежуточный вывод*: итак, мы удалили аномалии и некорректные значения в столбцах с численными признаками. В столбцах с категориальными признаками не было замечено ничего необычного на этапе исследовательского анализа, так что переходим к другим проблемам."
   ]
  },
  {
   "cell_type": "markdown",
   "metadata": {},
   "source": [
    "**Пропущенные значения**"
   ]
  },
  {
   "cell_type": "markdown",
   "metadata": {},
   "source": [
    "Посмотрим на пропуски получше."
   ]
  },
  {
   "cell_type": "code",
   "execution_count": 75,
   "metadata": {},
   "outputs": [
    {
     "data": {
      "text/plain": [
       "Price                   0\n",
       "VehicleType          4499\n",
       "RegistrationYear        0\n",
       "Gearbox              4556\n",
       "Power                   0\n",
       "Model                8878\n",
       "Kilometer               0\n",
       "FuelType            12156\n",
       "Brand                   0\n",
       "NotRepaired         37798\n",
       "dtype: int64"
      ]
     },
     "execution_count": 75,
     "metadata": {},
     "output_type": "execute_result"
    }
   ],
   "source": [
    "data.isnull().sum()"
   ]
  },
  {
   "cell_type": "markdown",
   "metadata": {},
   "source": [
    "Итак, у нас пять столбцов с пропусками. "
   ]
  },
  {
   "cell_type": "markdown",
   "metadata": {},
   "source": [
    "Начнем с NotRepaired. Здесь у нас два варианта ответов:"
   ]
  },
  {
   "cell_type": "code",
   "execution_count": 76,
   "metadata": {},
   "outputs": [
    {
     "data": {
      "text/plain": [
       "no     210791\n",
       "yes     26610\n",
       "Name: NotRepaired, dtype: int64"
      ]
     },
     "execution_count": 76,
     "metadata": {},
     "output_type": "execute_result"
    }
   ],
   "source": [
    "data.NotRepaired.value_counts()"
   ]
  },
  {
   "cell_type": "markdown",
   "metadata": {},
   "source": [
    "Если не указано, была ли машина в ремонте, более логично считать это как ответ 'Нет'. Заменим."
   ]
  },
  {
   "cell_type": "code",
   "execution_count": 77,
   "metadata": {},
   "outputs": [],
   "source": [
    "data = data.fillna({'NotRepaired':'no'})"
   ]
  },
  {
   "cell_type": "markdown",
   "metadata": {},
   "source": [
    "Значения в Gearbox, VehicleType и FuelType можно восстановить, опираясь на значения в столбцах Brand и Model или на значения и в других столбцах, в общем - можно воспользоваться тем, что в базе могут быть идентичные автомобили. "
   ]
  },
  {
   "cell_type": "markdown",
   "metadata": {},
   "source": [
    "Для этого можно было бы построить отдельные модели, но мы не будем этого делать. "
   ]
  },
  {
   "cell_type": "markdown",
   "metadata": {},
   "source": [
    "Удалим строки, в которых отсутствуют значения и в Model и в VehicleType, поскольку первое можно примерно определить по второму, а второе точно узнать по первому, а вот объявление, в котором отсутствуют оба значения представляет собой мало ценности."
   ]
  },
  {
   "cell_type": "code",
   "execution_count": 78,
   "metadata": {},
   "outputs": [],
   "source": [
    "data = data.drop(index=data[(data['VehicleType'].isna() & (data['Model'].isna()))].index)"
   ]
  },
  {
   "cell_type": "markdown",
   "metadata": {},
   "source": [
    "Напишем функцию для более удобного заполнения пропусков."
   ]
  },
  {
   "cell_type": "code",
   "execution_count": 79,
   "metadata": {},
   "outputs": [],
   "source": [
    "def filler(data, col_tof, col_touse1, col_touse2):\n",
    "    fill_indx = data[data[col_tof].isna()].index\n",
    "    for i in fill_indx:\n",
    "        current1 = data.loc[i][col_touse1]\n",
    "        current2 = data.loc[i][col_touse2]\n",
    "        current_list = data[(data[col_touse1] == current1) & (\n",
    "            data[col_touse2] == current2)][col_tof].value_counts()\n",
    "        if len(current_list) != 0:\n",
    "            filler = current_list.index[0]\n",
    "        else:\n",
    "            filler = np.nan\n",
    "        data.loc[i, col_tof] = filler"
   ]
  },
  {
   "cell_type": "markdown",
   "metadata": {},
   "source": [
    "Поверим работу функции."
   ]
  },
  {
   "cell_type": "code",
   "execution_count": 80,
   "metadata": {},
   "outputs": [],
   "source": [
    "data_test = data.loc[:500]"
   ]
  },
  {
   "cell_type": "code",
   "execution_count": 81,
   "metadata": {},
   "outputs": [
    {
     "data": {
      "text/html": [
       "<div>\n",
       "<style scoped>\n",
       "    .dataframe tbody tr th:only-of-type {\n",
       "        vertical-align: middle;\n",
       "    }\n",
       "\n",
       "    .dataframe tbody tr th {\n",
       "        vertical-align: top;\n",
       "    }\n",
       "\n",
       "    .dataframe thead th {\n",
       "        text-align: right;\n",
       "    }\n",
       "</style>\n",
       "<table border=\"1\" class=\"dataframe\">\n",
       "  <thead>\n",
       "    <tr style=\"text-align: right;\">\n",
       "      <th></th>\n",
       "      <th>Price</th>\n",
       "      <th>VehicleType</th>\n",
       "      <th>RegistrationYear</th>\n",
       "      <th>Gearbox</th>\n",
       "      <th>Power</th>\n",
       "      <th>Model</th>\n",
       "      <th>Kilometer</th>\n",
       "      <th>FuelType</th>\n",
       "      <th>Brand</th>\n",
       "      <th>NotRepaired</th>\n",
       "    </tr>\n",
       "  </thead>\n",
       "  <tbody>\n",
       "    <tr>\n",
       "      <td>36</td>\n",
       "      <td>1400</td>\n",
       "      <td>NaN</td>\n",
       "      <td>2016</td>\n",
       "      <td>manual</td>\n",
       "      <td>55</td>\n",
       "      <td>other</td>\n",
       "      <td>5000</td>\n",
       "      <td>NaN</td>\n",
       "      <td>hyundai</td>\n",
       "      <td>no</td>\n",
       "    </tr>\n",
       "    <tr>\n",
       "      <td>47</td>\n",
       "      <td>2300</td>\n",
       "      <td>NaN</td>\n",
       "      <td>1997</td>\n",
       "      <td>manual</td>\n",
       "      <td>150</td>\n",
       "      <td>5er</td>\n",
       "      <td>150000</td>\n",
       "      <td>NaN</td>\n",
       "      <td>bmw</td>\n",
       "      <td>no</td>\n",
       "    </tr>\n",
       "    <tr>\n",
       "      <td>53</td>\n",
       "      <td>800</td>\n",
       "      <td>NaN</td>\n",
       "      <td>2000</td>\n",
       "      <td>manual</td>\n",
       "      <td>90</td>\n",
       "      <td>golf</td>\n",
       "      <td>150000</td>\n",
       "      <td>gasoline</td>\n",
       "      <td>volkswagen</td>\n",
       "      <td>no</td>\n",
       "    </tr>\n",
       "    <tr>\n",
       "      <td>64</td>\n",
       "      <td>250</td>\n",
       "      <td>NaN</td>\n",
       "      <td>2000</td>\n",
       "      <td>NaN</td>\n",
       "      <td>60</td>\n",
       "      <td>ka</td>\n",
       "      <td>150000</td>\n",
       "      <td>NaN</td>\n",
       "      <td>ford</td>\n",
       "      <td>no</td>\n",
       "    </tr>\n",
       "    <tr>\n",
       "      <td>77</td>\n",
       "      <td>900</td>\n",
       "      <td>NaN</td>\n",
       "      <td>1995</td>\n",
       "      <td>manual</td>\n",
       "      <td>90</td>\n",
       "      <td>civic</td>\n",
       "      <td>150000</td>\n",
       "      <td>petrol</td>\n",
       "      <td>honda</td>\n",
       "      <td>no</td>\n",
       "    </tr>\n",
       "    <tr>\n",
       "      <td>168</td>\n",
       "      <td>3750</td>\n",
       "      <td>NaN</td>\n",
       "      <td>2005</td>\n",
       "      <td>NaN</td>\n",
       "      <td>75</td>\n",
       "      <td>golf</td>\n",
       "      <td>150000</td>\n",
       "      <td>NaN</td>\n",
       "      <td>volkswagen</td>\n",
       "      <td>no</td>\n",
       "    </tr>\n",
       "    <tr>\n",
       "      <td>415</td>\n",
       "      <td>200</td>\n",
       "      <td>NaN</td>\n",
       "      <td>1995</td>\n",
       "      <td>manual</td>\n",
       "      <td>55</td>\n",
       "      <td>golf</td>\n",
       "      <td>150000</td>\n",
       "      <td>petrol</td>\n",
       "      <td>volkswagen</td>\n",
       "      <td>no</td>\n",
       "    </tr>\n",
       "    <tr>\n",
       "      <td>484</td>\n",
       "      <td>10100</td>\n",
       "      <td>NaN</td>\n",
       "      <td>2009</td>\n",
       "      <td>auto</td>\n",
       "      <td>143</td>\n",
       "      <td>1er</td>\n",
       "      <td>150000</td>\n",
       "      <td>NaN</td>\n",
       "      <td>bmw</td>\n",
       "      <td>no</td>\n",
       "    </tr>\n",
       "  </tbody>\n",
       "</table>\n",
       "</div>"
      ],
      "text/plain": [
       "     Price VehicleType  RegistrationYear Gearbox  Power  Model  Kilometer  \\\n",
       "36    1400         NaN              2016  manual     55  other       5000   \n",
       "47    2300         NaN              1997  manual    150    5er     150000   \n",
       "53     800         NaN              2000  manual     90   golf     150000   \n",
       "64     250         NaN              2000     NaN     60     ka     150000   \n",
       "77     900         NaN              1995  manual     90  civic     150000   \n",
       "168   3750         NaN              2005     NaN     75   golf     150000   \n",
       "415    200         NaN              1995  manual     55   golf     150000   \n",
       "484  10100         NaN              2009    auto    143    1er     150000   \n",
       "\n",
       "     FuelType       Brand NotRepaired  \n",
       "36        NaN     hyundai          no  \n",
       "47        NaN         bmw          no  \n",
       "53   gasoline  volkswagen          no  \n",
       "64        NaN        ford          no  \n",
       "77     petrol       honda          no  \n",
       "168       NaN  volkswagen          no  \n",
       "415    petrol  volkswagen          no  \n",
       "484       NaN         bmw          no  "
      ]
     },
     "execution_count": 81,
     "metadata": {},
     "output_type": "execute_result"
    }
   ],
   "source": [
    "data_test[data_test['VehicleType'].isna()]"
   ]
  },
  {
   "cell_type": "code",
   "execution_count": 82,
   "metadata": {},
   "outputs": [],
   "source": [
    "filler(data_test, 'VehicleType', 'Model', 'Brand')"
   ]
  },
  {
   "cell_type": "code",
   "execution_count": 83,
   "metadata": {},
   "outputs": [
    {
     "data": {
      "text/html": [
       "<div>\n",
       "<style scoped>\n",
       "    .dataframe tbody tr th:only-of-type {\n",
       "        vertical-align: middle;\n",
       "    }\n",
       "\n",
       "    .dataframe tbody tr th {\n",
       "        vertical-align: top;\n",
       "    }\n",
       "\n",
       "    .dataframe thead th {\n",
       "        text-align: right;\n",
       "    }\n",
       "</style>\n",
       "<table border=\"1\" class=\"dataframe\">\n",
       "  <thead>\n",
       "    <tr style=\"text-align: right;\">\n",
       "      <th></th>\n",
       "      <th>Price</th>\n",
       "      <th>VehicleType</th>\n",
       "      <th>RegistrationYear</th>\n",
       "      <th>Gearbox</th>\n",
       "      <th>Power</th>\n",
       "      <th>Model</th>\n",
       "      <th>Kilometer</th>\n",
       "      <th>FuelType</th>\n",
       "      <th>Brand</th>\n",
       "      <th>NotRepaired</th>\n",
       "    </tr>\n",
       "  </thead>\n",
       "  <tbody>\n",
       "    <tr>\n",
       "      <td>36</td>\n",
       "      <td>1400</td>\n",
       "      <td>NaN</td>\n",
       "      <td>2016</td>\n",
       "      <td>manual</td>\n",
       "      <td>55</td>\n",
       "      <td>other</td>\n",
       "      <td>5000</td>\n",
       "      <td>NaN</td>\n",
       "      <td>hyundai</td>\n",
       "      <td>no</td>\n",
       "    </tr>\n",
       "  </tbody>\n",
       "</table>\n",
       "</div>"
      ],
      "text/plain": [
       "    Price VehicleType  RegistrationYear Gearbox  Power  Model  Kilometer  \\\n",
       "36   1400         NaN              2016  manual     55  other       5000   \n",
       "\n",
       "   FuelType    Brand NotRepaired  \n",
       "36      NaN  hyundai          no  "
      ]
     },
     "execution_count": 83,
     "metadata": {},
     "output_type": "execute_result"
    }
   ],
   "source": [
    "data_test[data_test['VehicleType'].isna()]"
   ]
  },
  {
   "cell_type": "markdown",
   "metadata": {},
   "source": [
    "Заполним пропуски во всех трех столбцах."
   ]
  },
  {
   "cell_type": "code",
   "execution_count": 84,
   "metadata": {},
   "outputs": [],
   "source": [
    "filler(data, 'VehicleType', 'Model', 'Brand')"
   ]
  },
  {
   "cell_type": "code",
   "execution_count": 85,
   "metadata": {},
   "outputs": [],
   "source": [
    "filler(data, 'Model', 'VehicleType', 'Brand')"
   ]
  },
  {
   "cell_type": "code",
   "execution_count": 86,
   "metadata": {},
   "outputs": [],
   "source": [
    "filler(data, 'Gearbox', 'Model', 'Brand')"
   ]
  },
  {
   "cell_type": "code",
   "execution_count": 87,
   "metadata": {},
   "outputs": [],
   "source": [
    "filler(data, 'FuelType', 'Model', 'Brand')"
   ]
  },
  {
   "cell_type": "markdown",
   "metadata": {},
   "source": [
    "Посмотрим, сколько пропусков осталось теперь."
   ]
  },
  {
   "cell_type": "code",
   "execution_count": 88,
   "metadata": {},
   "outputs": [
    {
     "data": {
      "text/plain": [
       "Price                 0\n",
       "VehicleType           0\n",
       "RegistrationYear      0\n",
       "Gearbox              19\n",
       "Power                 0\n",
       "Model               865\n",
       "Kilometer             0\n",
       "FuelType             36\n",
       "Brand                 0\n",
       "NotRepaired           0\n",
       "dtype: int64"
      ]
     },
     "execution_count": 88,
     "metadata": {},
     "output_type": "execute_result"
    }
   ],
   "source": [
    "data.isnull().sum()"
   ]
  },
  {
   "cell_type": "markdown",
   "metadata": {},
   "source": [
    "Оставшиеся пропуски это то, что не удалось заполнить. Удалим их."
   ]
  },
  {
   "cell_type": "code",
   "execution_count": 89,
   "metadata": {},
   "outputs": [],
   "source": [
    "data = data.dropna().reset_index(drop=True)"
   ]
  },
  {
   "cell_type": "markdown",
   "metadata": {},
   "source": [
    "Посмотрим общую информацию о наших данных после процедур удаления аномалий и пропусков."
   ]
  },
  {
   "cell_type": "code",
   "execution_count": 90,
   "metadata": {},
   "outputs": [
    {
     "name": "stdout",
     "output_type": "stream",
     "text": [
      "<class 'pandas.core.frame.DataFrame'>\n",
      "RangeIndex: 273625 entries, 0 to 273624\n",
      "Data columns (total 10 columns):\n",
      "Price               273625 non-null int64\n",
      "VehicleType         273625 non-null object\n",
      "RegistrationYear    273625 non-null int64\n",
      "Gearbox             273625 non-null object\n",
      "Power               273625 non-null int64\n",
      "Model               273625 non-null object\n",
      "Kilometer           273625 non-null int64\n",
      "FuelType            273625 non-null object\n",
      "Brand               273625 non-null object\n",
      "NotRepaired         273625 non-null object\n",
      "dtypes: int64(4), object(6)\n",
      "memory usage: 20.9+ MB\n"
     ]
    }
   ],
   "source": [
    "data.info()"
   ]
  },
  {
   "cell_type": "markdown",
   "metadata": {},
   "source": [
    "Итак, это то, что мы будем использовать для обучения наших моделей."
   ]
  },
  {
   "cell_type": "markdown",
   "metadata": {},
   "source": [
    "**Вывод по Шагу 3**: итак, на данном шаге мы проделали коллосальную работу - мы удалили аномалии во всех столбцах с численными признаками, удалили те признаки, что несут в себе мало информации; также мы заполнили пропуски - в целом, мы провели предобработку данных, которая позволит нам построить более качественную модель."
   ]
  },
  {
   "cell_type": "markdown",
   "metadata": {},
   "source": [
    "<h3>Шаг 4: Обучение моделей</h3>\n",
    "<a id='models'></a>"
   ]
  },
  {
   "cell_type": "markdown",
   "metadata": {},
   "source": [
    "Переходим к основной части. К моделям. Определим алгоритмы, с которыми будем экспериментировать."
   ]
  },
  {
   "cell_type": "markdown",
   "metadata": {},
   "source": [
    "Это: случайный лес, обычная линейная регрессия, гребневая регрессия, регрессия со стохастическим градиентным спуском, k ближайших соседей, а также - алгоритм градиентного бустинга."
   ]
  },
  {
   "cell_type": "markdown",
   "metadata": {},
   "source": [
    "Метрика качества - rmse, также нам надо будет замерять время обучения моделей и время предсказания."
   ]
  },
  {
   "cell_type": "markdown",
   "metadata": {},
   "source": [
    "**Подготовка признаков**"
   ]
  },
  {
   "cell_type": "markdown",
   "metadata": {},
   "source": [
    "По поводу признаков. Очевидно - необходимо их подготовить, избавиться от столбцов типа object как минимум. Но, подготовим данные для деревянных моделей - случайного леса и градиентного бустинга из LightGBM и остальных - трех видов регрессий и ближайших соседей по-разному. Общий план такой:"
   ]
  },
  {
   "cell_type": "markdown",
   "metadata": {},
   "source": [
    "    - численные признаки стандартизировать для обоих вариантов; \n",
    "    - категориальные признаки: \n",
    "            + для деревянных моделей - использовать Ordinal Encoder, \n",
    "            + для регрессий и knn - использовать One Hot Encoding. "
   ]
  },
  {
   "cell_type": "markdown",
   "metadata": {},
   "source": [
    "Мы начнем с OHE и Ordinal Encoder, поскольку для этого необходим весь датасет, а дня стандартизации - уже требуется деление на тестовую и обучающую выборки."
   ]
  },
  {
   "cell_type": "markdown",
   "metadata": {},
   "source": [
    "Перед этим - копируем датасет. Нам необходимо два его варианта по очевидным причинам. Также - отделим целевой признак."
   ]
  },
  {
   "cell_type": "code",
   "execution_count": 91,
   "metadata": {},
   "outputs": [],
   "source": [
    "target = data['Price']\n",
    "features = data.drop(columns=['Price'])\n",
    "features_tree = deepcopy(features)"
   ]
  },
  {
   "cell_type": "markdown",
   "metadata": {},
   "source": [
    "*One Hot Encoding*"
   ]
  },
  {
   "cell_type": "markdown",
   "metadata": {},
   "source": [
    "Приступим к OHE."
   ]
  },
  {
   "cell_type": "code",
   "execution_count": 92,
   "metadata": {},
   "outputs": [],
   "source": [
    "features = pd.get_dummies(features, drop_first=True)"
   ]
  },
  {
   "cell_type": "code",
   "execution_count": 93,
   "metadata": {},
   "outputs": [
    {
     "data": {
      "text/plain": [
       "(273625, 301)"
      ]
     },
     "execution_count": 93,
     "metadata": {},
     "output_type": "execute_result"
    }
   ],
   "source": [
    "features.shape"
   ]
  },
  {
   "cell_type": "markdown",
   "metadata": {},
   "source": [
    "Готово."
   ]
  },
  {
   "cell_type": "markdown",
   "metadata": {},
   "source": [
    "*Ordinal Encoder*"
   ]
  },
  {
   "cell_type": "markdown",
   "metadata": {},
   "source": [
    "Теперь поменяем данные для деревянных моделей."
   ]
  },
  {
   "cell_type": "code",
   "execution_count": 94,
   "metadata": {
    "scrolled": true
   },
   "outputs": [
    {
     "data": {
      "text/plain": [
       "Index(['VehicleType', 'RegistrationYear', 'Gearbox', 'Power', 'Model',\n",
       "       'Kilometer', 'FuelType', 'Brand', 'NotRepaired'],\n",
       "      dtype='object')"
      ]
     },
     "execution_count": 94,
     "metadata": {},
     "output_type": "execute_result"
    }
   ],
   "source": [
    "features_tree.columns"
   ]
  },
  {
   "cell_type": "code",
   "execution_count": 95,
   "metadata": {},
   "outputs": [],
   "source": [
    "objs = ['VehicleType', 'Gearbox', 'Model', 'FuelType', 'Brand', 'NotRepaired']"
   ]
  },
  {
   "cell_type": "code",
   "execution_count": 96,
   "metadata": {},
   "outputs": [],
   "source": [
    "enc = OrdinalEncoder()\n",
    "features_tree[objs] = enc.fit_transform(features_tree[objs])"
   ]
  },
  {
   "cell_type": "code",
   "execution_count": 97,
   "metadata": {},
   "outputs": [
    {
     "name": "stdout",
     "output_type": "stream",
     "text": [
      "<class 'pandas.core.frame.DataFrame'>\n",
      "RangeIndex: 273625 entries, 0 to 273624\n",
      "Data columns (total 9 columns):\n",
      "VehicleType         273625 non-null float64\n",
      "RegistrationYear    273625 non-null int64\n",
      "Gearbox             273625 non-null float64\n",
      "Power               273625 non-null int64\n",
      "Model               273625 non-null float64\n",
      "Kilometer           273625 non-null int64\n",
      "FuelType            273625 non-null float64\n",
      "Brand               273625 non-null float64\n",
      "NotRepaired         273625 non-null float64\n",
      "dtypes: float64(6), int64(3)\n",
      "memory usage: 18.8 MB\n"
     ]
    }
   ],
   "source": [
    "features_tree.info()"
   ]
  },
  {
   "cell_type": "markdown",
   "metadata": {},
   "source": [
    "Готово."
   ]
  },
  {
   "cell_type": "markdown",
   "metadata": {},
   "source": [
    "Продолжим делением на выборки - оно будет общим для всех моделей. Разобьем данные на обучающую, валидационную и тестовую выборки - в соотношении 6:2:2."
   ]
  },
  {
   "cell_type": "markdown",
   "metadata": {},
   "source": [
    "*Деление на выборки*"
   ]
  },
  {
   "cell_type": "code",
   "execution_count": 98,
   "metadata": {},
   "outputs": [],
   "source": [
    "target_train, target_test, features_train, features_test, features_tree_train, features_tree_test = train_test_split(\n",
    "    target, features, features_tree, test_size=0.2, random_state=12345)"
   ]
  },
  {
   "cell_type": "code",
   "execution_count": 99,
   "metadata": {},
   "outputs": [],
   "source": [
    "target_train, target_valid, features_train, features_valid, features_tree_train, features_tree_valid = train_test_split(\n",
    "    target_train, features_train, features_tree_train, test_size=0.25, random_state=12345)"
   ]
  },
  {
   "cell_type": "markdown",
   "metadata": {},
   "source": [
    "*Стандартизируем численные признаки.*"
   ]
  },
  {
   "cell_type": "markdown",
   "metadata": {},
   "source": [
    "Вспоминаем - StandardScaler учится на обучающей выборке, а применяется и к обучающей, и к валидационной и к тестовой."
   ]
  },
  {
   "cell_type": "markdown",
   "metadata": {},
   "source": [
    "Создадим список столбцов с численными признаками."
   ]
  },
  {
   "cell_type": "code",
   "execution_count": 100,
   "metadata": {},
   "outputs": [],
   "source": [
    "numbers = ['RegistrationYear', 'Power', 'Kilometer']"
   ]
  },
  {
   "cell_type": "markdown",
   "metadata": {},
   "source": [
    "Обучим и трансформируем."
   ]
  },
  {
   "cell_type": "code",
   "execution_count": 101,
   "metadata": {},
   "outputs": [
    {
     "data": {
      "text/plain": [
       "StandardScaler(copy=True, with_mean=True, with_std=True)"
      ]
     },
     "execution_count": 101,
     "metadata": {},
     "output_type": "execute_result"
    }
   ],
   "source": [
    "scaler = StandardScaler()\n",
    "scaler.fit(features_train[numbers])"
   ]
  },
  {
   "cell_type": "code",
   "execution_count": 102,
   "metadata": {},
   "outputs": [],
   "source": [
    "features_train[numbers] = scaler.transform(features_train[numbers])\n",
    "features_test[numbers] = scaler.transform(features_test[numbers])\n",
    "features_tree_train[numbers] = scaler.transform(features_tree_train[numbers])\n",
    "features_tree_test[numbers] = scaler.transform(features_tree_test[numbers])\n",
    "features_valid[numbers] = scaler.transform(features_valid[numbers])\n",
    "features_tree_valid[numbers] = scaler.transform(features_tree_valid[numbers])"
   ]
  },
  {
   "cell_type": "markdown",
   "metadata": {},
   "source": [
    "На данный момент в наших руках 8 различных выборок:"
   ]
  },
  {
   "cell_type": "markdown",
   "metadata": {},
   "source": [
    "    - с целевым признаком: \n",
    "        + target_train - обучающая\n",
    "        + target_test - тестовая\n",
    "    - с признаками: \n",
    "        + features_tree_train \n",
    "        + features_train - обучающие\n",
    "        + features_tree_test\n",
    "        + features_test - тестовые\n",
    "        + features_tree_valid\n",
    "        + features_valid - валидационные"
   ]
  },
  {
   "cell_type": "markdown",
   "metadata": {},
   "source": [
    "Приступим к обучению."
   ]
  },
  {
   "cell_type": "markdown",
   "metadata": {},
   "source": [
    "Время обучения, предсказания и RMSE на валидационной выборке будем записывать в датафрейм."
   ]
  },
  {
   "cell_type": "code",
   "execution_count": 103,
   "metadata": {},
   "outputs": [],
   "source": [
    "conclusion = pd.DataFrame(columns=['name', 'fit_time (s)', 'predict_time(s)', 'rmse'])"
   ]
  },
  {
   "cell_type": "markdown",
   "metadata": {},
   "source": [
    "**Линейная регрессия**"
   ]
  },
  {
   "cell_type": "markdown",
   "metadata": {},
   "source": [
    "Начнем с самого простого - обычной линейной регрессии. Обучим модель, проверим качество и время обучения."
   ]
  },
  {
   "cell_type": "code",
   "execution_count": 104,
   "metadata": {},
   "outputs": [
    {
     "name": "stdout",
     "output_type": "stream",
     "text": [
      "Wall time: 4.82 s\n"
     ]
    },
    {
     "data": {
      "text/plain": [
       "LinearRegression(copy_X=True, fit_intercept=True, n_jobs=None, normalize=False)"
      ]
     },
     "execution_count": 104,
     "metadata": {},
     "output_type": "execute_result"
    }
   ],
   "source": [
    "%%time\n",
    "model1 = LinearRegression()\n",
    "model1.fit(features_train, target_train)"
   ]
  },
  {
   "cell_type": "markdown",
   "metadata": {},
   "source": [
    "*Время обучения: 3,5 с.* Теперь посмотрим на качество."
   ]
  },
  {
   "cell_type": "code",
   "execution_count": 105,
   "metadata": {},
   "outputs": [],
   "source": [
    "def metr(model):\n",
    "    predicted_tr = model.predict(features_train)\n",
    "    predicted_v = model.predict(features_valid)\n",
    "    rmse_tr = round(mean_squared_error(predicted_tr, target_train) ** 0.5,0)\n",
    "    rmse_v = round(mean_squared_error(predicted_v, target_valid) ** 0.5,0)\n",
    "    print('RMSE на тренировочной выборке: {}'.format(rmse_tr))\n",
    "    print('RMSE на валидационной выборке: {}'.format(rmse_v))\n",
    "    print('R2 на тренировочной выборке: {:.2}'.format(model.score(features_train, target_train)))\n",
    "    print('R2 на валидационной выборке: {:.2}'.format(model.score(features_valid, target_valid)))"
   ]
  },
  {
   "cell_type": "code",
   "execution_count": 106,
   "metadata": {
    "scrolled": false
   },
   "outputs": [
    {
     "name": "stdout",
     "output_type": "stream",
     "text": [
      "RMSE на тренировочной выборке: 2145.0\n",
      "RMSE на валидационной выборке: 2164.0\n",
      "R2 на тренировочной выборке: 0.77\n",
      "R2 на валидационной выборке: 0.77\n"
     ]
    }
   ],
   "source": [
    "metr(model1)"
   ]
  },
  {
   "cell_type": "markdown",
   "metadata": {},
   "source": [
    "Время предсказания."
   ]
  },
  {
   "cell_type": "code",
   "execution_count": 107,
   "metadata": {},
   "outputs": [
    {
     "name": "stdout",
     "output_type": "stream",
     "text": [
      "Wall time: 2.99 ms\n"
     ]
    },
    {
     "data": {
      "text/plain": [
       "array([4262.62434999])"
      ]
     },
     "execution_count": 107,
     "metadata": {},
     "output_type": "execute_result"
    }
   ],
   "source": [
    "%%time\n",
    "model1.predict(features_valid.iloc[0:1])"
   ]
  },
  {
   "cell_type": "markdown",
   "metadata": {},
   "source": [
    "997 микросекунд, это 1 миллисекунда или 0,001 секунды."
   ]
  },
  {
   "cell_type": "code",
   "execution_count": 108,
   "metadata": {},
   "outputs": [],
   "source": [
    "conclusion.loc[0] = ['linear regression', 3.5, 0.001, 2164]"
   ]
  },
  {
   "cell_type": "markdown",
   "metadata": {},
   "source": [
    "Неплохо, идем дальше - на очереди гребневая регрессия - Ridge."
   ]
  },
  {
   "cell_type": "markdown",
   "metadata": {},
   "source": [
    "**Гребневая регрессия**"
   ]
  },
  {
   "cell_type": "markdown",
   "metadata": {},
   "source": [
    "Здесь мы будем подбирать параметры, поэтому воспользуемся GridSearchCV, соберем в обучающую выборку обучающую и валидационную выборки."
   ]
  },
  {
   "cell_type": "code",
   "execution_count": 109,
   "metadata": {},
   "outputs": [],
   "source": [
    "features_train1 = pd.concat([features_train, features_valid])\n",
    "target_train1 = pd.concat([target_train, target_valid])"
   ]
  },
  {
   "cell_type": "markdown",
   "metadata": {},
   "source": [
    "Посмотрим, какие результаты показывает модель при разном значении параметра регуляризации альфа."
   ]
  },
  {
   "cell_type": "code",
   "execution_count": 110,
   "metadata": {},
   "outputs": [],
   "source": [
    "model2gs = Ridge()\n",
    "params2 = {'alpha': [0.1, 0.5, 0.75, 1, 2, 5, 10, 15]}\n",
    "gs2 = GridSearchCV(model2gs, params2, cv=5, n_jobs=-1)"
   ]
  },
  {
   "cell_type": "code",
   "execution_count": 111,
   "metadata": {},
   "outputs": [
    {
     "data": {
      "text/plain": [
       "GridSearchCV(cv=5, error_score='raise-deprecating',\n",
       "             estimator=Ridge(alpha=1.0, copy_X=True, fit_intercept=True,\n",
       "                             max_iter=None, normalize=False, random_state=None,\n",
       "                             solver='auto', tol=0.001),\n",
       "             iid='warn', n_jobs=-1,\n",
       "             param_grid={'alpha': [0.1, 0.5, 0.75, 1, 2, 5, 10, 15]},\n",
       "             pre_dispatch='2*n_jobs', refit=True, return_train_score=False,\n",
       "             scoring=None, verbose=0)"
      ]
     },
     "execution_count": 111,
     "metadata": {},
     "output_type": "execute_result"
    }
   ],
   "source": [
    "gs2.fit(features_train1, target_train1)"
   ]
  },
  {
   "cell_type": "code",
   "execution_count": 112,
   "metadata": {},
   "outputs": [
    {
     "data": {
      "text/plain": [
       "{'alpha': 0.5}"
      ]
     },
     "execution_count": 112,
     "metadata": {},
     "output_type": "execute_result"
    }
   ],
   "source": [
    "gs2.best_params_"
   ]
  },
  {
   "cell_type": "markdown",
   "metadata": {},
   "source": [
    "Получили альфа 0.5. Теперь обучим модель."
   ]
  },
  {
   "cell_type": "code",
   "execution_count": 113,
   "metadata": {},
   "outputs": [
    {
     "name": "stdout",
     "output_type": "stream",
     "text": [
      "Wall time: 1.19 s\n"
     ]
    },
    {
     "data": {
      "text/plain": [
       "Ridge(alpha=0.5, copy_X=True, fit_intercept=True, max_iter=None,\n",
       "      normalize=False, random_state=12345, solver='auto', tol=0.001)"
      ]
     },
     "execution_count": 113,
     "metadata": {},
     "output_type": "execute_result"
    }
   ],
   "source": [
    "%%time\n",
    "model2 = Ridge(alpha=0.5, random_state=12345)\n",
    "model2.fit(features_train, target_train)"
   ]
  },
  {
   "cell_type": "markdown",
   "metadata": {},
   "source": [
    "*Время обучения: 0.86 c.*"
   ]
  },
  {
   "cell_type": "code",
   "execution_count": 114,
   "metadata": {},
   "outputs": [
    {
     "name": "stdout",
     "output_type": "stream",
     "text": [
      "RMSE на тренировочной выборке: 2145.0\n",
      "RMSE на валидационной выборке: 2164.0\n",
      "R2 на тренировочной выборке: 0.77\n",
      "R2 на валидационной выборке: 0.77\n"
     ]
    }
   ],
   "source": [
    "metr(model2)"
   ]
  },
  {
   "cell_type": "markdown",
   "metadata": {},
   "source": [
    "Получили такое же качество, зато выиграли во времени обучения."
   ]
  },
  {
   "cell_type": "code",
   "execution_count": 115,
   "metadata": {},
   "outputs": [
    {
     "name": "stdout",
     "output_type": "stream",
     "text": [
      "Wall time: 3.99 ms\n"
     ]
    },
    {
     "data": {
      "text/plain": [
       "array([4262.23133559])"
      ]
     },
     "execution_count": 115,
     "metadata": {},
     "output_type": "execute_result"
    }
   ],
   "source": [
    "%%time\n",
    "model2.predict(features_valid.iloc[0:1])"
   ]
  },
  {
   "cell_type": "markdown",
   "metadata": {},
   "source": [
    "Время предсказания 0,001 cекунда."
   ]
  },
  {
   "cell_type": "code",
   "execution_count": 116,
   "metadata": {},
   "outputs": [],
   "source": [
    "conclusion.loc[1] = ['ridge regression', 0.86 , 0.001, 2164]"
   ]
  },
  {
   "cell_type": "markdown",
   "metadata": {},
   "source": [
    "Теперь линейная регрессия со стохастическим градиентным спуском."
   ]
  },
  {
   "cell_type": "markdown",
   "metadata": {},
   "source": [
    "**SGD regression**"
   ]
  },
  {
   "cell_type": "markdown",
   "metadata": {},
   "source": [
    "Здесь будем также менять альфа."
   ]
  },
  {
   "cell_type": "code",
   "execution_count": 117,
   "metadata": {},
   "outputs": [],
   "source": [
    "model3gs = SGDRegressor()\n",
    "params3 = {'alpha': [0.0001, 0.001, 0.1, 0.5, 0.75, 1, 2]}\n",
    "gs3 = GridSearchCV(model3gs, params3, cv=5, n_jobs=-1)"
   ]
  },
  {
   "cell_type": "code",
   "execution_count": 118,
   "metadata": {},
   "outputs": [
    {
     "data": {
      "text/plain": [
       "GridSearchCV(cv=5, error_score='raise-deprecating',\n",
       "             estimator=SGDRegressor(alpha=0.0001, average=False,\n",
       "                                    early_stopping=False, epsilon=0.1,\n",
       "                                    eta0=0.01, fit_intercept=True,\n",
       "                                    l1_ratio=0.15, learning_rate='invscaling',\n",
       "                                    loss='squared_loss', max_iter=1000,\n",
       "                                    n_iter_no_change=5, penalty='l2',\n",
       "                                    power_t=0.25, random_state=None,\n",
       "                                    shuffle=True, tol=0.001,\n",
       "                                    validation_fraction=0.1, verbose=0,\n",
       "                                    warm_start=False),\n",
       "             iid='warn', n_jobs=-1,\n",
       "             param_grid={'alpha': [0.0001, 0.001, 0.1, 0.5, 0.75, 1, 2]},\n",
       "             pre_dispatch='2*n_jobs', refit=True, return_train_score=False,\n",
       "             scoring=None, verbose=0)"
      ]
     },
     "execution_count": 118,
     "metadata": {},
     "output_type": "execute_result"
    }
   ],
   "source": [
    "gs3.fit(features_train1, target_train1)"
   ]
  },
  {
   "cell_type": "code",
   "execution_count": 119,
   "metadata": {},
   "outputs": [
    {
     "data": {
      "text/plain": [
       "{'alpha': 0.0001}"
      ]
     },
     "execution_count": 119,
     "metadata": {},
     "output_type": "execute_result"
    }
   ],
   "source": [
    "gs3.best_params_"
   ]
  },
  {
   "cell_type": "markdown",
   "metadata": {},
   "source": [
    "Получили альфа. Теперь обучим модель."
   ]
  },
  {
   "cell_type": "code",
   "execution_count": 120,
   "metadata": {},
   "outputs": [
    {
     "name": "stdout",
     "output_type": "stream",
     "text": [
      "Wall time: 51.2 s\n"
     ]
    },
    {
     "data": {
      "text/plain": [
       "SGDRegressor(alpha=0.0001, average=False, early_stopping=False, epsilon=0.1,\n",
       "             eta0=0.01, fit_intercept=True, l1_ratio=0.15,\n",
       "             learning_rate='invscaling', loss='squared_loss', max_iter=1000,\n",
       "             n_iter_no_change=5, penalty='l2', power_t=0.25, random_state=12345,\n",
       "             shuffle=True, tol=0.001, validation_fraction=0.1, verbose=0,\n",
       "             warm_start=False)"
      ]
     },
     "execution_count": 120,
     "metadata": {},
     "output_type": "execute_result"
    }
   ],
   "source": [
    "%%time\n",
    "model3 = SGDRegressor(alpha=0.0001, random_state=12345)\n",
    "model3.fit(features_train, target_train)"
   ]
  },
  {
   "cell_type": "markdown",
   "metadata": {},
   "source": [
    "*Время обучения: 24,6 секунд* "
   ]
  },
  {
   "cell_type": "code",
   "execution_count": 121,
   "metadata": {},
   "outputs": [
    {
     "name": "stdout",
     "output_type": "stream",
     "text": [
      "RMSE на тренировочной выборке: 2154.0\n",
      "RMSE на валидационной выборке: 2172.0\n",
      "R2 на тренировочной выборке: 0.77\n",
      "R2 на валидационной выборке: 0.77\n"
     ]
    }
   ],
   "source": [
    "metr(model3)"
   ]
  },
  {
   "cell_type": "markdown",
   "metadata": {},
   "source": [
    "Качество модели не улучшилось, зато время обучения сильно выросло. Врядли мы будем использовать эту модель."
   ]
  },
  {
   "cell_type": "code",
   "execution_count": 122,
   "metadata": {},
   "outputs": [
    {
     "name": "stdout",
     "output_type": "stream",
     "text": [
      "Wall time: 1.99 ms\n"
     ]
    },
    {
     "data": {
      "text/plain": [
       "array([4227.59238577])"
      ]
     },
     "execution_count": 122,
     "metadata": {},
     "output_type": "execute_result"
    }
   ],
   "source": [
    "%%time\n",
    "model3.predict(features_valid.iloc[0:1])"
   ]
  },
  {
   "cell_type": "markdown",
   "metadata": {},
   "source": [
    "Время предсказания: 2 мс, это 0,002 секунды."
   ]
  },
  {
   "cell_type": "code",
   "execution_count": 123,
   "metadata": {},
   "outputs": [],
   "source": [
    "conclusion.loc[2] = ['sgd regression', 24.6, 0.002, 2172]"
   ]
  },
  {
   "cell_type": "markdown",
   "metadata": {},
   "source": [
    "На этом с регрессиями все. Переходим к алгоритму k ближайших соседей."
   ]
  },
  {
   "cell_type": "markdown",
   "metadata": {},
   "source": [
    "**K ближайших соседей**"
   ]
  },
  {
   "cell_type": "markdown",
   "metadata": {},
   "source": [
    "Обучим модель."
   ]
  },
  {
   "cell_type": "code",
   "execution_count": 124,
   "metadata": {},
   "outputs": [
    {
     "name": "stdout",
     "output_type": "stream",
     "text": [
      "Wall time: 25.3 s\n"
     ]
    },
    {
     "data": {
      "text/plain": [
       "KNeighborsRegressor(algorithm='auto', leaf_size=30, metric='minkowski',\n",
       "                    metric_params=None, n_jobs=None, n_neighbors=9, p=2,\n",
       "                    weights='distance')"
      ]
     },
     "execution_count": 124,
     "metadata": {},
     "output_type": "execute_result"
    }
   ],
   "source": [
    "%%time\n",
    "model4 = KNeighborsRegressor(weights='distance', n_neighbors=9)\n",
    "model4.fit(features_train, target_train)"
   ]
  },
  {
   "cell_type": "markdown",
   "metadata": {},
   "source": [
    "*Время обучения: 12, 7 с.* Теперь качество."
   ]
  },
  {
   "cell_type": "code",
   "execution_count": 125,
   "metadata": {},
   "outputs": [
    {
     "name": "stdout",
     "output_type": "stream",
     "text": [
      "RMSE на тренировочной выборке: 873.0\n",
      "RMSE на валидационной выборке: 1526.0\n",
      "R2 на тренировочной выборке: 0.96\n",
      "R2 на валидационной выборке: 0.88\n"
     ]
    }
   ],
   "source": [
    "metr(model4)"
   ]
  },
  {
   "cell_type": "markdown",
   "metadata": {},
   "source": [
    "Время предсказания."
   ]
  },
  {
   "cell_type": "code",
   "execution_count": 126,
   "metadata": {},
   "outputs": [
    {
     "name": "stdout",
     "output_type": "stream",
     "text": [
      "Wall time: 8.94 ms\n"
     ]
    },
    {
     "data": {
      "text/plain": [
       "array([2216.01452726])"
      ]
     },
     "execution_count": 126,
     "metadata": {},
     "output_type": "execute_result"
    }
   ],
   "source": [
    "%%time\n",
    "model4.predict(features_valid.iloc[0:1])"
   ]
  },
  {
   "cell_type": "markdown",
   "metadata": {},
   "source": [
    "Время предсказания 0,006 секунд."
   ]
  },
  {
   "cell_type": "code",
   "execution_count": 127,
   "metadata": {},
   "outputs": [],
   "source": [
    "conclusion.loc[3] = ['knn', 12.7, 0.006, 1526]"
   ]
  },
  {
   "cell_type": "markdown",
   "metadata": {},
   "source": [
    "Качество у этой модели куда лучше, чем у регрессий, но время обучения и предсказания немалое."
   ]
  },
  {
   "cell_type": "markdown",
   "metadata": {},
   "source": [
    "На очереди случайный лес."
   ]
  },
  {
   "cell_type": "markdown",
   "metadata": {},
   "source": [
    "**Случайный лес**"
   ]
  },
  {
   "cell_type": "markdown",
   "metadata": {},
   "source": [
    "Здесь и далее мы уже будем работать с другими выборками - теми, в названии которых есть слово 'tree'. Также будем использовать кросс-валидацию, поэтому - соединим выборку обратно."
   ]
  },
  {
   "cell_type": "code",
   "execution_count": 128,
   "metadata": {},
   "outputs": [],
   "source": [
    "features_tree_train1 = pd.concat([features_tree_train, features_tree_valid])\n",
    "target_tree_train1 = pd.concat([target_train, target_valid])"
   ]
  },
  {
   "cell_type": "markdown",
   "metadata": {},
   "source": [
    "Будем менять параметры: количество деревьев, максмальная глубина. "
   ]
  },
  {
   "cell_type": "code",
   "execution_count": 129,
   "metadata": {},
   "outputs": [],
   "source": [
    "model5gs = RandomForestRegressor()\n",
    "params5 = {'max_depth' : [5, 10, 15, 20, 30, 40],\n",
    "          'n_estimators' : [100, 200]}\n",
    "gs5 = GridSearchCV(model5gs, params5, cv=4, n_jobs=-1)"
   ]
  },
  {
   "cell_type": "code",
   "execution_count": 130,
   "metadata": {},
   "outputs": [
    {
     "data": {
      "text/plain": [
       "GridSearchCV(cv=4, error_score='raise-deprecating',\n",
       "             estimator=RandomForestRegressor(bootstrap=True, criterion='mse',\n",
       "                                             max_depth=None,\n",
       "                                             max_features='auto',\n",
       "                                             max_leaf_nodes=None,\n",
       "                                             min_impurity_decrease=0.0,\n",
       "                                             min_impurity_split=None,\n",
       "                                             min_samples_leaf=1,\n",
       "                                             min_samples_split=2,\n",
       "                                             min_weight_fraction_leaf=0.0,\n",
       "                                             n_estimators='warn', n_jobs=None,\n",
       "                                             oob_score=False, random_state=None,\n",
       "                                             verbose=0, warm_start=False),\n",
       "             iid='warn', n_jobs=-1,\n",
       "             param_grid={'max_depth': [5, 10, 15, 20, 30, 40],\n",
       "                         'n_estimators': [100, 200]},\n",
       "             pre_dispatch='2*n_jobs', refit=True, return_train_score=False,\n",
       "             scoring=None, verbose=0)"
      ]
     },
     "execution_count": 130,
     "metadata": {},
     "output_type": "execute_result"
    }
   ],
   "source": [
    "gs5.fit(features_tree_train1, target_tree_train1)"
   ]
  },
  {
   "cell_type": "code",
   "execution_count": 131,
   "metadata": {},
   "outputs": [
    {
     "data": {
      "text/plain": [
       "RandomForestRegressor(bootstrap=True, criterion='mse', max_depth=20,\n",
       "                      max_features='auto', max_leaf_nodes=None,\n",
       "                      min_impurity_decrease=0.0, min_impurity_split=None,\n",
       "                      min_samples_leaf=1, min_samples_split=2,\n",
       "                      min_weight_fraction_leaf=0.0, n_estimators=200,\n",
       "                      n_jobs=None, oob_score=False, random_state=None,\n",
       "                      verbose=0, warm_start=False)"
      ]
     },
     "execution_count": 131,
     "metadata": {},
     "output_type": "execute_result"
    }
   ],
   "source": [
    "gs5.best_estimator_"
   ]
  },
  {
   "cell_type": "markdown",
   "metadata": {},
   "source": [
    "Нашли лучшие параметры: "
   ]
  },
  {
   "cell_type": "code",
   "execution_count": 132,
   "metadata": {},
   "outputs": [
    {
     "name": "stdout",
     "output_type": "stream",
     "text": [
      "Wall time: 1min 3s\n"
     ]
    },
    {
     "data": {
      "text/plain": [
       "RandomForestRegressor(bootstrap=True, criterion='mse', max_depth=20,\n",
       "                      max_features='auto', max_leaf_nodes=None,\n",
       "                      min_impurity_decrease=0.0, min_impurity_split=None,\n",
       "                      min_samples_leaf=1, min_samples_split=2,\n",
       "                      min_weight_fraction_leaf=0.0, n_estimators=200,\n",
       "                      n_jobs=None, oob_score=False, random_state=12345,\n",
       "                      verbose=0, warm_start=False)"
      ]
     },
     "execution_count": 132,
     "metadata": {},
     "output_type": "execute_result"
    }
   ],
   "source": [
    "%%time\n",
    "model5 = RandomForestRegressor(max_depth=20, n_estimators=200, random_state=12345)\n",
    "model5.fit(features_tree_train, target_train)"
   ]
  },
  {
   "cell_type": "markdown",
   "metadata": {},
   "source": [
    "*Время обучения модели:* 2 минуты и 9 секунд это 129 секунд."
   ]
  },
  {
   "cell_type": "code",
   "execution_count": 133,
   "metadata": {},
   "outputs": [
    {
     "name": "stdout",
     "output_type": "stream",
     "text": [
      "Wall time: 49.7 ms\n"
     ]
    },
    {
     "data": {
      "text/plain": [
       "array([1582.02060128])"
      ]
     },
     "execution_count": 133,
     "metadata": {},
     "output_type": "execute_result"
    }
   ],
   "source": [
    "%%time\n",
    "model5.predict(features_tree_valid.iloc[0:1])"
   ]
  },
  {
   "cell_type": "markdown",
   "metadata": {},
   "source": [
    "*Время предсказания модели:* 26 секунд."
   ]
  },
  {
   "cell_type": "markdown",
   "metadata": {},
   "source": [
    "Посмотрим качество."
   ]
  },
  {
   "cell_type": "code",
   "execution_count": 134,
   "metadata": {},
   "outputs": [],
   "source": [
    "def metr_tree(model):\n",
    "    predicted_tr = model.predict(features_tree_train)\n",
    "    predicted_v = model.predict(features_tree_valid)\n",
    "    rmse_tr = round(mean_squared_error(predicted_tr, target_train) ** 0.5,0)\n",
    "    rmse_v = round(mean_squared_error(predicted_v, target_valid) ** 0.5,0)\n",
    "    print('RMSE на тренировочной выборке: {}'.format(rmse_tr))\n",
    "    print('RMSE на валидационной выборке: {}'.format(rmse_v))\n",
    "    print('R2 на тренировочной выборке: {:.2}'.format(model.score(features_tree_train, target_train)))\n",
    "    print('R2 на валидационной выборке: {:.2}'.format(model.score(features_tree_valid, target_valid)))"
   ]
  },
  {
   "cell_type": "code",
   "execution_count": 135,
   "metadata": {},
   "outputs": [
    {
     "name": "stdout",
     "output_type": "stream",
     "text": [
      "RMSE на тренировочной выборке: 967.0\n",
      "RMSE на валидационной выборке: 1433.0\n",
      "R2 на тренировочной выборке: 0.95\n",
      "R2 на валидационной выборке: 0.9\n"
     ]
    }
   ],
   "source": [
    "metr_tree(model5)"
   ]
  },
  {
   "cell_type": "code",
   "execution_count": 136,
   "metadata": {},
   "outputs": [],
   "source": [
    "conclusion.loc[4] = ['random forest', 129, 26, 1433]"
   ]
  },
  {
   "cell_type": "markdown",
   "metadata": {},
   "source": [
    "Качество еще лучше, чем у алгоритма k ближайших соседей, зато время обучения и предсказания в несколько раз больше."
   ]
  },
  {
   "cell_type": "markdown",
   "metadata": {},
   "source": [
    "И наконец - градиентный бустинг."
   ]
  },
  {
   "cell_type": "markdown",
   "metadata": {},
   "source": [
    "**Градиентный бустинг**"
   ]
  },
  {
   "cell_type": "markdown",
   "metadata": {},
   "source": [
    "Будем менять те же параметры, что и для случайного леса - максимальную глубину и количество деревьев."
   ]
  },
  {
   "cell_type": "code",
   "execution_count": 137,
   "metadata": {},
   "outputs": [],
   "source": [
    "model6gs = LGBMRegressor()\n",
    "params6 = {'max_depth' : [5, 10, 15, 20, 30, 40],\n",
    "          'n_estimators' : [100, 200]}\n",
    "gs6 = GridSearchCV(model6gs, params6, cv=4, n_jobs=-1)"
   ]
  },
  {
   "cell_type": "code",
   "execution_count": 138,
   "metadata": {},
   "outputs": [
    {
     "name": "stdout",
     "output_type": "stream",
     "text": [
      "[LightGBM] [Warning] Accuracy may be bad since you didn't explicitly set num_leaves OR 2^max_depth > num_leaves. (num_leaves=31).\n"
     ]
    },
    {
     "data": {
      "text/plain": [
       "GridSearchCV(cv=4, error_score='raise-deprecating',\n",
       "             estimator=LGBMRegressor(boosting_type='gbdt', class_weight=None,\n",
       "                                     colsample_bytree=1.0,\n",
       "                                     importance_type='split', learning_rate=0.1,\n",
       "                                     max_depth=-1, min_child_samples=20,\n",
       "                                     min_child_weight=0.001, min_split_gain=0.0,\n",
       "                                     n_estimators=100, n_jobs=-1, num_leaves=31,\n",
       "                                     objective=None, random_state=None,\n",
       "                                     reg_alpha=0.0, reg_lambda=0.0, silent=True,\n",
       "                                     subsample=1.0, subsample_for_bin=200000,\n",
       "                                     subsample_freq=0),\n",
       "             iid='warn', n_jobs=-1,\n",
       "             param_grid={'max_depth': [5, 10, 15, 20, 30, 40],\n",
       "                         'n_estimators': [100, 200]},\n",
       "             pre_dispatch='2*n_jobs', refit=True, return_train_score=False,\n",
       "             scoring=None, verbose=0)"
      ]
     },
     "execution_count": 138,
     "metadata": {},
     "output_type": "execute_result"
    }
   ],
   "source": [
    "gs6.fit(features_tree_train1, target_tree_train1)"
   ]
  },
  {
   "cell_type": "code",
   "execution_count": 139,
   "metadata": {},
   "outputs": [
    {
     "data": {
      "text/plain": [
       "LGBMRegressor(boosting_type='gbdt', class_weight=None, colsample_bytree=1.0,\n",
       "              importance_type='split', learning_rate=0.1, max_depth=20,\n",
       "              min_child_samples=20, min_child_weight=0.001, min_split_gain=0.0,\n",
       "              n_estimators=200, n_jobs=-1, num_leaves=31, objective=None,\n",
       "              random_state=None, reg_alpha=0.0, reg_lambda=0.0, silent=True,\n",
       "              subsample=1.0, subsample_for_bin=200000, subsample_freq=0)"
      ]
     },
     "execution_count": 139,
     "metadata": {},
     "output_type": "execute_result"
    }
   ],
   "source": [
    "gs6.best_estimator_"
   ]
  },
  {
   "cell_type": "markdown",
   "metadata": {},
   "source": [
    "Лучшие параметры совпадают с теми, что были указаны для случайного леса."
   ]
  },
  {
   "cell_type": "code",
   "execution_count": 140,
   "metadata": {},
   "outputs": [
    {
     "name": "stdout",
     "output_type": "stream",
     "text": [
      "Wall time: 1.48 s\n"
     ]
    },
    {
     "data": {
      "text/plain": [
       "LGBMRegressor(boosting_type='gbdt', class_weight=None, colsample_bytree=1.0,\n",
       "              importance_type='split', learning_rate=0.1, max_depth=20,\n",
       "              min_child_samples=20, min_child_weight=0.001, min_split_gain=0.0,\n",
       "              n_estimators=200, n_jobs=-1, num_leaves=31, objective=None,\n",
       "              random_state=12345, reg_alpha=0.0, reg_lambda=0.0, silent=True,\n",
       "              subsample=1.0, subsample_for_bin=200000, subsample_freq=0)"
      ]
     },
     "execution_count": 140,
     "metadata": {},
     "output_type": "execute_result"
    }
   ],
   "source": [
    "%%time\n",
    "model6 = LGBMRegressor(max_depth=20, n_estimators=200, random_state=12345)\n",
    "model6.fit(features_tree_train, target_train)"
   ]
  },
  {
   "cell_type": "markdown",
   "metadata": {},
   "source": [
    "*Время обучения: 813 мс*. Это 0,8 cекунд. Качество и скорость предсказания."
   ]
  },
  {
   "cell_type": "code",
   "execution_count": 141,
   "metadata": {},
   "outputs": [
    {
     "name": "stdout",
     "output_type": "stream",
     "text": [
      "Wall time: 8.98 ms\n"
     ]
    },
    {
     "data": {
      "text/plain": [
       "array([2133.3700475])"
      ]
     },
     "execution_count": 141,
     "metadata": {},
     "output_type": "execute_result"
    }
   ],
   "source": [
    "%%time\n",
    "model6.predict(features_tree_valid.iloc[0:1])"
   ]
  },
  {
   "cell_type": "markdown",
   "metadata": {},
   "source": [
    "Время предсказания 0, 003 секунд."
   ]
  },
  {
   "cell_type": "code",
   "execution_count": 142,
   "metadata": {},
   "outputs": [
    {
     "name": "stdout",
     "output_type": "stream",
     "text": [
      "RMSE на тренировочной выборке: 1420.0\n",
      "RMSE на валидационной выборке: 1458.0\n",
      "R2 на тренировочной выборке: 0.9\n",
      "R2 на валидационной выборке: 0.89\n"
     ]
    }
   ],
   "source": [
    "metr_tree(model6)"
   ]
  },
  {
   "cell_type": "markdown",
   "metadata": {},
   "source": [
    "Качество хорошее. С таким временем обучения - вообще сказка."
   ]
  },
  {
   "cell_type": "code",
   "execution_count": 143,
   "metadata": {},
   "outputs": [],
   "source": [
    "conclusion.loc[5] = ['gbm', 0.813, 0.003, 1462]"
   ]
  },
  {
   "cell_type": "markdown",
   "metadata": {},
   "source": [
    "**Выводы по Шагу 4**: итак, на данном шаге мы обучили 6 различных моделей, перед этим подготовили признаки - привели их в тот вид, что могут принять модели; для каждой модели мы измерили время обучения, время предсказания и rmse на валидационной выборке, также для некоторых алгоритмов подбирали оптимальные гиперпараметры, что позволило получить еще лучшее качество."
   ]
  },
  {
   "cell_type": "markdown",
   "metadata": {},
   "source": [
    "<h3>Шаг 5: Выводы и выбор лучшией модели</h3>\n",
    "<a id='test_sanity'></a>"
   ]
  },
  {
   "cell_type": "markdown",
   "metadata": {},
   "source": [
    "Итак, в предыдущих четырех шагах данной работы мы проделали колоссальную работу. Осталось - сделать выводы, прокомментировать результаты и выбрать лучшую модель."
   ]
  },
  {
   "cell_type": "markdown",
   "metadata": {},
   "source": [
    "Посмотрим на показатели наших моделей."
   ]
  },
  {
   "cell_type": "code",
   "execution_count": 144,
   "metadata": {},
   "outputs": [
    {
     "data": {
      "text/html": [
       "<div>\n",
       "<style scoped>\n",
       "    .dataframe tbody tr th:only-of-type {\n",
       "        vertical-align: middle;\n",
       "    }\n",
       "\n",
       "    .dataframe tbody tr th {\n",
       "        vertical-align: top;\n",
       "    }\n",
       "\n",
       "    .dataframe thead th {\n",
       "        text-align: right;\n",
       "    }\n",
       "</style>\n",
       "<table border=\"1\" class=\"dataframe\">\n",
       "  <thead>\n",
       "    <tr style=\"text-align: right;\">\n",
       "      <th></th>\n",
       "      <th>name</th>\n",
       "      <th>fit_time (s)</th>\n",
       "      <th>predict_time(s)</th>\n",
       "      <th>rmse</th>\n",
       "    </tr>\n",
       "  </thead>\n",
       "  <tbody>\n",
       "    <tr>\n",
       "      <td>0</td>\n",
       "      <td>linear regression</td>\n",
       "      <td>3.500</td>\n",
       "      <td>0.001</td>\n",
       "      <td>2164</td>\n",
       "    </tr>\n",
       "    <tr>\n",
       "      <td>1</td>\n",
       "      <td>ridge regression</td>\n",
       "      <td>0.860</td>\n",
       "      <td>0.001</td>\n",
       "      <td>2164</td>\n",
       "    </tr>\n",
       "    <tr>\n",
       "      <td>2</td>\n",
       "      <td>sgd regression</td>\n",
       "      <td>24.600</td>\n",
       "      <td>0.002</td>\n",
       "      <td>2172</td>\n",
       "    </tr>\n",
       "    <tr>\n",
       "      <td>3</td>\n",
       "      <td>knn</td>\n",
       "      <td>12.700</td>\n",
       "      <td>0.006</td>\n",
       "      <td>1526</td>\n",
       "    </tr>\n",
       "    <tr>\n",
       "      <td>4</td>\n",
       "      <td>random forest</td>\n",
       "      <td>129.000</td>\n",
       "      <td>26.000</td>\n",
       "      <td>1433</td>\n",
       "    </tr>\n",
       "    <tr>\n",
       "      <td>5</td>\n",
       "      <td>gbm</td>\n",
       "      <td>0.813</td>\n",
       "      <td>0.003</td>\n",
       "      <td>1462</td>\n",
       "    </tr>\n",
       "  </tbody>\n",
       "</table>\n",
       "</div>"
      ],
      "text/plain": [
       "                name  fit_time (s)  predict_time(s)  rmse\n",
       "0  linear regression         3.500            0.001  2164\n",
       "1   ridge regression         0.860            0.001  2164\n",
       "2     sgd regression        24.600            0.002  2172\n",
       "3                knn        12.700            0.006  1526\n",
       "4      random forest       129.000           26.000  1433\n",
       "5                gbm         0.813            0.003  1462"
      ]
     },
     "execution_count": 144,
     "metadata": {},
     "output_type": "execute_result"
    }
   ],
   "source": [
    "conclusion"
   ]
  },
  {
   "cell_type": "markdown",
   "metadata": {},
   "source": [
    "Итак, что мы видим:"
   ]
  },
  {
   "cell_type": "markdown",
   "metadata": {},
   "source": [
    "    - самая быстрая модель по обучению- градиентный бустинг и гребневая регрессия (как никак, она не сильно дальше ушла), \n",
    "    - самая качественная модель - случайный лес (плюс градиентный бустинг дышит в спину лидеру), \n",
    "    - самая быстрая модель по предсказанию - линейная и гребневая регрессии\n",
    "    - самая неудачная модель - регрессия со стохастическим градиентным спуском - качество хуже, чем на двух других регрессиях, зато время обучения - в несколько раз выше"
   ]
  },
  {
   "cell_type": "markdown",
   "metadata": {},
   "source": [
    "Очевидно, наша лучшая модель здесь - градиентный бустинг; Один из двух лидеров по качеству, а также самый быстрый алгоритм. Посмотрим на качество модели на тестовой выборке."
   ]
  },
  {
   "cell_type": "code",
   "execution_count": 145,
   "metadata": {},
   "outputs": [],
   "source": [
    "predicted_best = model5.predict(features_tree_test)"
   ]
  },
  {
   "cell_type": "code",
   "execution_count": 146,
   "metadata": {},
   "outputs": [
    {
     "name": "stdout",
     "output_type": "stream",
     "text": [
      "RMSE на тестовой выборке: 1428.0\n",
      "R2 на тестовой выборке: 0.89\n"
     ]
    }
   ],
   "source": [
    "rmse = round(mean_squared_error(predicted_best, target_test) ** 0.5,0)\n",
    "print('RMSE на тестовой выборке: {}'.format(rmse))\n",
    "print('R2 на тестовой выборке: {:.2}'.format(model6.score(features_tree_test, target_test)))"
   ]
  },
  {
   "cell_type": "markdown",
   "metadata": {},
   "source": [
    "Результат такой же хороший!"
   ]
  },
  {
   "cell_type": "markdown",
   "metadata": {},
   "source": [
    "Давайте еще немного поговорим про остальные модели."
   ]
  },
  {
   "cell_type": "code",
   "execution_count": 147,
   "metadata": {},
   "outputs": [
    {
     "data": {
      "text/html": [
       "<div>\n",
       "<style scoped>\n",
       "    .dataframe tbody tr th:only-of-type {\n",
       "        vertical-align: middle;\n",
       "    }\n",
       "\n",
       "    .dataframe tbody tr th {\n",
       "        vertical-align: top;\n",
       "    }\n",
       "\n",
       "    .dataframe thead th {\n",
       "        text-align: right;\n",
       "    }\n",
       "</style>\n",
       "<table border=\"1\" class=\"dataframe\">\n",
       "  <thead>\n",
       "    <tr style=\"text-align: right;\">\n",
       "      <th></th>\n",
       "      <th>name</th>\n",
       "      <th>fit_time (s)</th>\n",
       "      <th>predict_time(s)</th>\n",
       "      <th>rmse</th>\n",
       "    </tr>\n",
       "  </thead>\n",
       "  <tbody>\n",
       "    <tr>\n",
       "      <td>0</td>\n",
       "      <td>linear regression</td>\n",
       "      <td>3.50</td>\n",
       "      <td>0.001</td>\n",
       "      <td>2164</td>\n",
       "    </tr>\n",
       "    <tr>\n",
       "      <td>1</td>\n",
       "      <td>ridge regression</td>\n",
       "      <td>0.86</td>\n",
       "      <td>0.001</td>\n",
       "      <td>2164</td>\n",
       "    </tr>\n",
       "    <tr>\n",
       "      <td>2</td>\n",
       "      <td>sgd regression</td>\n",
       "      <td>24.60</td>\n",
       "      <td>0.002</td>\n",
       "      <td>2172</td>\n",
       "    </tr>\n",
       "    <tr>\n",
       "      <td>3</td>\n",
       "      <td>knn</td>\n",
       "      <td>12.70</td>\n",
       "      <td>0.006</td>\n",
       "      <td>1526</td>\n",
       "    </tr>\n",
       "    <tr>\n",
       "      <td>4</td>\n",
       "      <td>random forest</td>\n",
       "      <td>129.00</td>\n",
       "      <td>26.000</td>\n",
       "      <td>1433</td>\n",
       "    </tr>\n",
       "  </tbody>\n",
       "</table>\n",
       "</div>"
      ],
      "text/plain": [
       "                name  fit_time (s)  predict_time(s)  rmse\n",
       "0  linear regression          3.50            0.001  2164\n",
       "1   ridge regression          0.86            0.001  2164\n",
       "2     sgd regression         24.60            0.002  2172\n",
       "3                knn         12.70            0.006  1526\n",
       "4      random forest        129.00           26.000  1433"
      ]
     },
     "execution_count": 147,
     "metadata": {},
     "output_type": "execute_result"
    }
   ],
   "source": [
    "conclusion[:5]"
   ]
  },
  {
   "cell_type": "markdown",
   "metadata": {},
   "source": [
    "Очевидную неудачу мы уже отметили - sgd больше не рассматриваем. Что с остальными? Будем ориентироваться на время обучения и rmse, отбросим время предсказания. Наши 4 модели условно поделились на два лагеря: быстро обучаются + качество среднее; дольше обучаются + качество хорошее. Если бы не было бустинга - нашего победителя, можно было бы дать такую рекомендацию: если в приоритете время обучения - надо брать гребневую регрессию, если качество - случайный лес, а если требуется оптимальное решение - компромисс - то knn: данная модель имеет качество почти как у леса, но обучается в несколько раз быстрее."
   ]
  },
  {
   "cell_type": "markdown",
   "metadata": {},
   "source": [
    "**Выводы по Шагу 5**: итак, на данном шаге мы прокомментировали результаты работы наших моделей - выбрали одну как лучшую, посмотрели на ее качество на тестовой выборке. Также посмотрели на остальные."
   ]
  }
 ],
 "metadata": {
  "kernelspec": {
   "display_name": "Python 3",
   "language": "python",
   "name": "python3"
  },
  "language_info": {
   "codemirror_mode": {
    "name": "ipython",
    "version": 3
   },
   "file_extension": ".py",
   "mimetype": "text/x-python",
   "name": "python",
   "nbconvert_exporter": "python",
   "pygments_lexer": "ipython3",
   "version": "3.7.8"
  }
 },
 "nbformat": 4,
 "nbformat_minor": 4
}
