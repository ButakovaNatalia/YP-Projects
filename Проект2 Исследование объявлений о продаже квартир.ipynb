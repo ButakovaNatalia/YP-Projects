{
 "cells": [
  {
   "cell_type": "markdown",
   "metadata": {},
   "source": [
    "<h1>Исследование объявлений о продаже квартир</h1>"
   ]
  },
  {
   "cell_type": "markdown",
   "metadata": {},
   "source": [
    "В нашем распоряжении данные сервиса Яндекс.Недвижимость — архив объявлений о продаже квартир в Санкт-Петербурге и соседних населённых пунктах за несколько лет. Нужно научиться определять рыночную стоимость объектов недвижимости. Наша задача — установить параметры. Это позволит построить автоматизированную систему: она отследит аномалии и мошенническую деятельность.\n",
    "По каждой квартире на продажу доступны два вида данных. Первые вписаны пользователем, вторые — получены автоматически на основе картографических данных. Например, расстояние до центра, аэропорта, ближайшего парка и водоёма."
   ]
  },
  {
   "cell_type": "markdown",
   "metadata": {},
   "source": [
    "**Описание данных**: "
   ]
  },
  {
   "cell_type": "markdown",
   "metadata": {},
   "source": [
    "    - airports_nearest — расстояние до ближайшего аэропорта в метрах (м)\n",
    "    - balcony — число балконов\n",
    "    - ceiling_height — высота потолков (м)\n",
    "    - cityCenters_nearest — расстояние до центра города (м)\n",
    "    - days_exposition — сколько дней было размещено объявление (от публикации до снятия)\n",
    "    - first_day_exposition — дата публикации\n",
    "    - floor — этаж\n",
    "    - floors_total — всего этажей в доме\n",
    "    - is_apartment — апартаменты (булев тип)\n",
    "    - kitchen_area — площадь кухни в квадратных метрах (м²)\n",
    "    - last_price — цена на момент снятия с публикации\n",
    "    - living_area — жилая площадь в квадратных метрах(м²)\n",
    "    - locality_name — название населённого пункта\n",
    "    - open_plan — свободная планировка (булев тип)\n",
    "    - parks_around3000 — число парков в радиусе 3 км\n",
    "    - parks_nearest — расстояние до ближайшего парка (м)\n",
    "    - ponds_around3000 — число водоёмов в радиусе 3 км\n",
    "    - ponds_nearest — расстояние до ближайшего водоёма (м)\n",
    "    - rooms — число комнат\n",
    "    - studio — квартира-студия (булев тип)\n",
    "    - total_area — площадь квартиры в квадратных метрах (м²)\n",
    "    - total_images — число фотографий квартиры в объявлении"
   ]
  },
  {
   "cell_type": "markdown",
   "metadata": {},
   "source": [
    "**План работы**: начнем со знакомства с данными, далее проведем предобработку: разребемся с пропущенными значениями и поменяем типы данных, отдельно - добавим новые столбцы в таблицу, затем приступим к самому объемному и важному пункту - исследовательскому анализу данных, в рамках которого мы ответим на многие вопросы: какие значения выбиваются из таблицы, что влияет на цену квартиры сильнее всего, где самое дорогое жилье и где кончается центр Петербурга, закончим работу общими выводами. "
   ]
  },
  {
   "cell_type": "markdown",
   "metadata": {},
   "source": [
    "<h3>Оглавление</h3>\n"
   ]
  },
  {
   "cell_type": "markdown",
   "metadata": {},
   "source": [
    "1. [Шаг 1: Первичный обзор данных, получение общей информации о данных](#start)   \n",
    "2. [Шаг 2: Предобработка данных](#preproc)   \n",
    "    * [Работа с пропущенными значениями](#skipped)   \n",
    "    * [Изменение типов данных](#changed)     \n",
    "3. [Шаг 3: Добавление новых столбцов](#adding)\n",
    "4. [Шаг 4: Исследовательский анализ данных](#research)\n",
    "    * [Удаление редких и выбивающихся значений: изучение параметров](#delete)\n",
    "    * [Изучение влияния различных факторов на цену квартиры](#factors)\n",
    "    * [Поиск населенного пункта с самой высокой и низкой стоимостью жилья](#locality_search)\n",
    "    * [Определение центральной зоны Петербурга ](#center)\n",
    "    * [Сравнение параметров центральной зоны Петербурга и параметров всего города ](#spb)\n",
    "5. [Шаг 5: Общие выводы](#conq)"
   ]
  },
  {
   "cell_type": "markdown",
   "metadata": {},
   "source": [
    "<h3> Шаг 1: Первичный обзор данных, получение общей информации о данных </h3>\n",
    "<a id='start'></a>"
   ]
  },
  {
   "cell_type": "markdown",
   "metadata": {},
   "source": [
    "Импортируем необходимые нам библиотеки, сохраним таблицу в переменную и вызовем к ней метод info() для получения общей информации о таблице."
   ]
  },
  {
   "cell_type": "code",
   "execution_count": 1,
   "metadata": {},
   "outputs": [],
   "source": [
    "import pandas as pd\n",
    "import matplotlib.pyplot as plt\n",
    "import numpy as np"
   ]
  },
  {
   "cell_type": "code",
   "execution_count": 2,
   "metadata": {},
   "outputs": [
    {
     "name": "stdout",
     "output_type": "stream",
     "text": [
      "<class 'pandas.core.frame.DataFrame'>\n",
      "RangeIndex: 23699 entries, 0 to 23698\n",
      "Data columns (total 1 columns):\n",
      "total_images\tlast_price\ttotal_area\tfirst_day_exposition\trooms\tceiling_height\tfloors_total\tliving_area\tfloor\tis_apartment\tstudio\topen_plan\tkitchen_area\tbalcony\tlocality_name\tairports_nearest\tcityCenters_nearest\tparks_around3000\tparks_nearest\tponds_around3000\tponds_nearest\tdays_exposition    23699 non-null object\n",
      "dtypes: object(1)\n",
      "memory usage: 185.3+ KB\n"
     ]
    }
   ],
   "source": [
    "estate = pd.read_csv('/datasets/real_estate_data.csv')\n",
    "estate.info()"
   ]
  },
  {
   "cell_type": "markdown",
   "metadata": {},
   "source": [
    "Как видно по результату работы метода info() полученная нами таблица содержит всего 1 столбец с очень длинным названием, это говорит о том, что строки 'склеились': метод read_csv неверно распознал разделитель столбцов, значит - он в данном файле не стандартный. Посмотрим на первые 5 строк этой таблицы и посмотрим, какой разделитель используется в данном документе."
   ]
  },
  {
   "cell_type": "code",
   "execution_count": 3,
   "metadata": {},
   "outputs": [
    {
     "data": {
      "text/html": [
       "<div>\n",
       "<style scoped>\n",
       "    .dataframe tbody tr th:only-of-type {\n",
       "        vertical-align: middle;\n",
       "    }\n",
       "\n",
       "    .dataframe tbody tr th {\n",
       "        vertical-align: top;\n",
       "    }\n",
       "\n",
       "    .dataframe thead th {\n",
       "        text-align: right;\n",
       "    }\n",
       "</style>\n",
       "<table border=\"1\" class=\"dataframe\">\n",
       "  <thead>\n",
       "    <tr style=\"text-align: right;\">\n",
       "      <th></th>\n",
       "      <th>total_images\\tlast_price\\ttotal_area\\tfirst_day_exposition\\trooms\\tceiling_height\\tfloors_total\\tliving_area\\tfloor\\tis_apartment\\tstudio\\topen_plan\\tkitchen_area\\tbalcony\\tlocality_name\\tairports_nearest\\tcityCenters_nearest\\tparks_around3000\\tparks_nearest\\tponds_around3000\\tponds_nearest\\tdays_exposition</th>\n",
       "    </tr>\n",
       "  </thead>\n",
       "  <tbody>\n",
       "    <tr>\n",
       "      <td>0</td>\n",
       "      <td>20\\t13000000.0\\t108.0\\t2019-03-07T00:00:00\\t3\\...</td>\n",
       "    </tr>\n",
       "    <tr>\n",
       "      <td>1</td>\n",
       "      <td>7\\t3350000.0\\t40.4\\t2018-12-04T00:00:00\\t1\\t\\t...</td>\n",
       "    </tr>\n",
       "    <tr>\n",
       "      <td>2</td>\n",
       "      <td>10\\t5196000.0\\t56.0\\t2015-08-20T00:00:00\\t2\\t\\...</td>\n",
       "    </tr>\n",
       "    <tr>\n",
       "      <td>3</td>\n",
       "      <td>0\\t64900000.0\\t159.0\\t2015-07-24T00:00:00\\t3\\t...</td>\n",
       "    </tr>\n",
       "    <tr>\n",
       "      <td>4</td>\n",
       "      <td>2\\t10000000.0\\t100.0\\t2018-06-19T00:00:00\\t2\\t...</td>\n",
       "    </tr>\n",
       "  </tbody>\n",
       "</table>\n",
       "</div>"
      ],
      "text/plain": [
       "  total_images\\tlast_price\\ttotal_area\\tfirst_day_exposition\\trooms\\tceiling_height\\tfloors_total\\tliving_area\\tfloor\\tis_apartment\\tstudio\\topen_plan\\tkitchen_area\\tbalcony\\tlocality_name\\tairports_nearest\\tcityCenters_nearest\\tparks_around3000\\tparks_nearest\\tponds_around3000\\tponds_nearest\\tdays_exposition\n",
       "0  20\\t13000000.0\\t108.0\\t2019-03-07T00:00:00\\t3\\...                                                                                                                                                                                                                                                                  \n",
       "1  7\\t3350000.0\\t40.4\\t2018-12-04T00:00:00\\t1\\t\\t...                                                                                                                                                                                                                                                                  \n",
       "2  10\\t5196000.0\\t56.0\\t2015-08-20T00:00:00\\t2\\t\\...                                                                                                                                                                                                                                                                  \n",
       "3  0\\t64900000.0\\t159.0\\t2015-07-24T00:00:00\\t3\\t...                                                                                                                                                                                                                                                                  \n",
       "4  2\\t10000000.0\\t100.0\\t2018-06-19T00:00:00\\t2\\t...                                                                                                                                                                                                                                                                  "
      ]
     },
     "execution_count": 3,
     "metadata": {},
     "output_type": "execute_result"
    }
   ],
   "source": [
    "estate.head()"
   ]
  },
  {
   "cell_type": "markdown",
   "metadata": {},
   "source": [
    "Итак, в качестве разделителя используется сочетание '\\t'. Вызовем метод read_csv еще раз, пересохраним таблицу в переменную, но передав это значение в качестве аргумента. "
   ]
  },
  {
   "cell_type": "code",
   "execution_count": 4,
   "metadata": {},
   "outputs": [],
   "source": [
    "estate = pd.read_csv('real_estate_data.csv', sep='\\t')"
   ]
  },
  {
   "cell_type": "markdown",
   "metadata": {},
   "source": [
    "Вызовем метод info к новой таблице."
   ]
  },
  {
   "cell_type": "code",
   "execution_count": 5,
   "metadata": {},
   "outputs": [
    {
     "name": "stdout",
     "output_type": "stream",
     "text": [
      "<class 'pandas.core.frame.DataFrame'>\n",
      "RangeIndex: 23699 entries, 0 to 23698\n",
      "Data columns (total 22 columns):\n",
      "total_images            23699 non-null int64\n",
      "last_price              23699 non-null float64\n",
      "total_area              23699 non-null float64\n",
      "first_day_exposition    23699 non-null object\n",
      "rooms                   23699 non-null int64\n",
      "ceiling_height          14504 non-null float64\n",
      "floors_total            23613 non-null float64\n",
      "living_area             21796 non-null float64\n",
      "floor                   23699 non-null int64\n",
      "is_apartment            2775 non-null object\n",
      "studio                  23699 non-null bool\n",
      "open_plan               23699 non-null bool\n",
      "kitchen_area            21421 non-null float64\n",
      "balcony                 12180 non-null float64\n",
      "locality_name           23650 non-null object\n",
      "airports_nearest        18157 non-null float64\n",
      "cityCenters_nearest     18180 non-null float64\n",
      "parks_around3000        18181 non-null float64\n",
      "parks_nearest           8079 non-null float64\n",
      "ponds_around3000        18181 non-null float64\n",
      "ponds_nearest           9110 non-null float64\n",
      "days_exposition         20518 non-null float64\n",
      "dtypes: bool(2), float64(14), int64(3), object(3)\n",
      "memory usage: 3.7+ MB\n"
     ]
    }
   ],
   "source": [
    "estate.info()"
   ]
  },
  {
   "cell_type": "markdown",
   "metadata": {},
   "source": [
    "Итак, все получилось. Посмотрим также на первые 10 строк новой таблицы."
   ]
  },
  {
   "cell_type": "code",
   "execution_count": 6,
   "metadata": {},
   "outputs": [
    {
     "data": {
      "text/html": [
       "<div>\n",
       "<style scoped>\n",
       "    .dataframe tbody tr th:only-of-type {\n",
       "        vertical-align: middle;\n",
       "    }\n",
       "\n",
       "    .dataframe tbody tr th {\n",
       "        vertical-align: top;\n",
       "    }\n",
       "\n",
       "    .dataframe thead th {\n",
       "        text-align: right;\n",
       "    }\n",
       "</style>\n",
       "<table border=\"1\" class=\"dataframe\">\n",
       "  <thead>\n",
       "    <tr style=\"text-align: right;\">\n",
       "      <th></th>\n",
       "      <th>total_images</th>\n",
       "      <th>last_price</th>\n",
       "      <th>total_area</th>\n",
       "      <th>first_day_exposition</th>\n",
       "      <th>rooms</th>\n",
       "      <th>ceiling_height</th>\n",
       "      <th>floors_total</th>\n",
       "      <th>living_area</th>\n",
       "      <th>floor</th>\n",
       "      <th>is_apartment</th>\n",
       "      <th>...</th>\n",
       "      <th>kitchen_area</th>\n",
       "      <th>balcony</th>\n",
       "      <th>locality_name</th>\n",
       "      <th>airports_nearest</th>\n",
       "      <th>cityCenters_nearest</th>\n",
       "      <th>parks_around3000</th>\n",
       "      <th>parks_nearest</th>\n",
       "      <th>ponds_around3000</th>\n",
       "      <th>ponds_nearest</th>\n",
       "      <th>days_exposition</th>\n",
       "    </tr>\n",
       "  </thead>\n",
       "  <tbody>\n",
       "    <tr>\n",
       "      <td>0</td>\n",
       "      <td>20</td>\n",
       "      <td>13000000.0</td>\n",
       "      <td>108.00</td>\n",
       "      <td>2019-03-07T00:00:00</td>\n",
       "      <td>3</td>\n",
       "      <td>2.70</td>\n",
       "      <td>16.0</td>\n",
       "      <td>51.00</td>\n",
       "      <td>8</td>\n",
       "      <td>NaN</td>\n",
       "      <td>...</td>\n",
       "      <td>25.00</td>\n",
       "      <td>NaN</td>\n",
       "      <td>Санкт-Петербург</td>\n",
       "      <td>18863.0</td>\n",
       "      <td>16028.0</td>\n",
       "      <td>1.0</td>\n",
       "      <td>482.0</td>\n",
       "      <td>2.0</td>\n",
       "      <td>755.0</td>\n",
       "      <td>NaN</td>\n",
       "    </tr>\n",
       "    <tr>\n",
       "      <td>1</td>\n",
       "      <td>7</td>\n",
       "      <td>3350000.0</td>\n",
       "      <td>40.40</td>\n",
       "      <td>2018-12-04T00:00:00</td>\n",
       "      <td>1</td>\n",
       "      <td>NaN</td>\n",
       "      <td>11.0</td>\n",
       "      <td>18.60</td>\n",
       "      <td>1</td>\n",
       "      <td>NaN</td>\n",
       "      <td>...</td>\n",
       "      <td>11.00</td>\n",
       "      <td>2.0</td>\n",
       "      <td>посёлок Шушары</td>\n",
       "      <td>12817.0</td>\n",
       "      <td>18603.0</td>\n",
       "      <td>0.0</td>\n",
       "      <td>NaN</td>\n",
       "      <td>0.0</td>\n",
       "      <td>NaN</td>\n",
       "      <td>81.0</td>\n",
       "    </tr>\n",
       "    <tr>\n",
       "      <td>2</td>\n",
       "      <td>10</td>\n",
       "      <td>5196000.0</td>\n",
       "      <td>56.00</td>\n",
       "      <td>2015-08-20T00:00:00</td>\n",
       "      <td>2</td>\n",
       "      <td>NaN</td>\n",
       "      <td>5.0</td>\n",
       "      <td>34.30</td>\n",
       "      <td>4</td>\n",
       "      <td>NaN</td>\n",
       "      <td>...</td>\n",
       "      <td>8.30</td>\n",
       "      <td>0.0</td>\n",
       "      <td>Санкт-Петербург</td>\n",
       "      <td>21741.0</td>\n",
       "      <td>13933.0</td>\n",
       "      <td>1.0</td>\n",
       "      <td>90.0</td>\n",
       "      <td>2.0</td>\n",
       "      <td>574.0</td>\n",
       "      <td>558.0</td>\n",
       "    </tr>\n",
       "    <tr>\n",
       "      <td>3</td>\n",
       "      <td>0</td>\n",
       "      <td>64900000.0</td>\n",
       "      <td>159.00</td>\n",
       "      <td>2015-07-24T00:00:00</td>\n",
       "      <td>3</td>\n",
       "      <td>NaN</td>\n",
       "      <td>14.0</td>\n",
       "      <td>NaN</td>\n",
       "      <td>9</td>\n",
       "      <td>NaN</td>\n",
       "      <td>...</td>\n",
       "      <td>NaN</td>\n",
       "      <td>0.0</td>\n",
       "      <td>Санкт-Петербург</td>\n",
       "      <td>28098.0</td>\n",
       "      <td>6800.0</td>\n",
       "      <td>2.0</td>\n",
       "      <td>84.0</td>\n",
       "      <td>3.0</td>\n",
       "      <td>234.0</td>\n",
       "      <td>424.0</td>\n",
       "    </tr>\n",
       "    <tr>\n",
       "      <td>4</td>\n",
       "      <td>2</td>\n",
       "      <td>10000000.0</td>\n",
       "      <td>100.00</td>\n",
       "      <td>2018-06-19T00:00:00</td>\n",
       "      <td>2</td>\n",
       "      <td>3.03</td>\n",
       "      <td>14.0</td>\n",
       "      <td>32.00</td>\n",
       "      <td>13</td>\n",
       "      <td>NaN</td>\n",
       "      <td>...</td>\n",
       "      <td>41.00</td>\n",
       "      <td>NaN</td>\n",
       "      <td>Санкт-Петербург</td>\n",
       "      <td>31856.0</td>\n",
       "      <td>8098.0</td>\n",
       "      <td>2.0</td>\n",
       "      <td>112.0</td>\n",
       "      <td>1.0</td>\n",
       "      <td>48.0</td>\n",
       "      <td>121.0</td>\n",
       "    </tr>\n",
       "    <tr>\n",
       "      <td>5</td>\n",
       "      <td>10</td>\n",
       "      <td>2890000.0</td>\n",
       "      <td>30.40</td>\n",
       "      <td>2018-09-10T00:00:00</td>\n",
       "      <td>1</td>\n",
       "      <td>NaN</td>\n",
       "      <td>12.0</td>\n",
       "      <td>14.40</td>\n",
       "      <td>5</td>\n",
       "      <td>NaN</td>\n",
       "      <td>...</td>\n",
       "      <td>9.10</td>\n",
       "      <td>NaN</td>\n",
       "      <td>городской посёлок Янино-1</td>\n",
       "      <td>NaN</td>\n",
       "      <td>NaN</td>\n",
       "      <td>NaN</td>\n",
       "      <td>NaN</td>\n",
       "      <td>NaN</td>\n",
       "      <td>NaN</td>\n",
       "      <td>55.0</td>\n",
       "    </tr>\n",
       "    <tr>\n",
       "      <td>6</td>\n",
       "      <td>6</td>\n",
       "      <td>3700000.0</td>\n",
       "      <td>37.30</td>\n",
       "      <td>2017-11-02T00:00:00</td>\n",
       "      <td>1</td>\n",
       "      <td>NaN</td>\n",
       "      <td>26.0</td>\n",
       "      <td>10.60</td>\n",
       "      <td>6</td>\n",
       "      <td>NaN</td>\n",
       "      <td>...</td>\n",
       "      <td>14.40</td>\n",
       "      <td>1.0</td>\n",
       "      <td>посёлок Парголово</td>\n",
       "      <td>52996.0</td>\n",
       "      <td>19143.0</td>\n",
       "      <td>0.0</td>\n",
       "      <td>NaN</td>\n",
       "      <td>0.0</td>\n",
       "      <td>NaN</td>\n",
       "      <td>155.0</td>\n",
       "    </tr>\n",
       "    <tr>\n",
       "      <td>7</td>\n",
       "      <td>5</td>\n",
       "      <td>7915000.0</td>\n",
       "      <td>71.60</td>\n",
       "      <td>2019-04-18T00:00:00</td>\n",
       "      <td>2</td>\n",
       "      <td>NaN</td>\n",
       "      <td>24.0</td>\n",
       "      <td>NaN</td>\n",
       "      <td>22</td>\n",
       "      <td>NaN</td>\n",
       "      <td>...</td>\n",
       "      <td>18.90</td>\n",
       "      <td>2.0</td>\n",
       "      <td>Санкт-Петербург</td>\n",
       "      <td>23982.0</td>\n",
       "      <td>11634.0</td>\n",
       "      <td>0.0</td>\n",
       "      <td>NaN</td>\n",
       "      <td>0.0</td>\n",
       "      <td>NaN</td>\n",
       "      <td>NaN</td>\n",
       "    </tr>\n",
       "    <tr>\n",
       "      <td>8</td>\n",
       "      <td>20</td>\n",
       "      <td>2900000.0</td>\n",
       "      <td>33.16</td>\n",
       "      <td>2018-05-23T00:00:00</td>\n",
       "      <td>1</td>\n",
       "      <td>NaN</td>\n",
       "      <td>27.0</td>\n",
       "      <td>15.43</td>\n",
       "      <td>26</td>\n",
       "      <td>NaN</td>\n",
       "      <td>...</td>\n",
       "      <td>8.81</td>\n",
       "      <td>NaN</td>\n",
       "      <td>посёлок Мурино</td>\n",
       "      <td>NaN</td>\n",
       "      <td>NaN</td>\n",
       "      <td>NaN</td>\n",
       "      <td>NaN</td>\n",
       "      <td>NaN</td>\n",
       "      <td>NaN</td>\n",
       "      <td>189.0</td>\n",
       "    </tr>\n",
       "    <tr>\n",
       "      <td>9</td>\n",
       "      <td>18</td>\n",
       "      <td>5400000.0</td>\n",
       "      <td>61.00</td>\n",
       "      <td>2017-02-26T00:00:00</td>\n",
       "      <td>3</td>\n",
       "      <td>2.50</td>\n",
       "      <td>9.0</td>\n",
       "      <td>43.60</td>\n",
       "      <td>7</td>\n",
       "      <td>NaN</td>\n",
       "      <td>...</td>\n",
       "      <td>6.50</td>\n",
       "      <td>2.0</td>\n",
       "      <td>Санкт-Петербург</td>\n",
       "      <td>50898.0</td>\n",
       "      <td>15008.0</td>\n",
       "      <td>0.0</td>\n",
       "      <td>NaN</td>\n",
       "      <td>0.0</td>\n",
       "      <td>NaN</td>\n",
       "      <td>289.0</td>\n",
       "    </tr>\n",
       "  </tbody>\n",
       "</table>\n",
       "<p>10 rows × 22 columns</p>\n",
       "</div>"
      ],
      "text/plain": [
       "   total_images  last_price  total_area first_day_exposition  rooms  \\\n",
       "0            20  13000000.0      108.00  2019-03-07T00:00:00      3   \n",
       "1             7   3350000.0       40.40  2018-12-04T00:00:00      1   \n",
       "2            10   5196000.0       56.00  2015-08-20T00:00:00      2   \n",
       "3             0  64900000.0      159.00  2015-07-24T00:00:00      3   \n",
       "4             2  10000000.0      100.00  2018-06-19T00:00:00      2   \n",
       "5            10   2890000.0       30.40  2018-09-10T00:00:00      1   \n",
       "6             6   3700000.0       37.30  2017-11-02T00:00:00      1   \n",
       "7             5   7915000.0       71.60  2019-04-18T00:00:00      2   \n",
       "8            20   2900000.0       33.16  2018-05-23T00:00:00      1   \n",
       "9            18   5400000.0       61.00  2017-02-26T00:00:00      3   \n",
       "\n",
       "   ceiling_height  floors_total  living_area  floor is_apartment  ...  \\\n",
       "0            2.70          16.0        51.00      8          NaN  ...   \n",
       "1             NaN          11.0        18.60      1          NaN  ...   \n",
       "2             NaN           5.0        34.30      4          NaN  ...   \n",
       "3             NaN          14.0          NaN      9          NaN  ...   \n",
       "4            3.03          14.0        32.00     13          NaN  ...   \n",
       "5             NaN          12.0        14.40      5          NaN  ...   \n",
       "6             NaN          26.0        10.60      6          NaN  ...   \n",
       "7             NaN          24.0          NaN     22          NaN  ...   \n",
       "8             NaN          27.0        15.43     26          NaN  ...   \n",
       "9            2.50           9.0        43.60      7          NaN  ...   \n",
       "\n",
       "   kitchen_area  balcony              locality_name  airports_nearest  \\\n",
       "0         25.00      NaN            Санкт-Петербург           18863.0   \n",
       "1         11.00      2.0             посёлок Шушары           12817.0   \n",
       "2          8.30      0.0            Санкт-Петербург           21741.0   \n",
       "3           NaN      0.0            Санкт-Петербург           28098.0   \n",
       "4         41.00      NaN            Санкт-Петербург           31856.0   \n",
       "5          9.10      NaN  городской посёлок Янино-1               NaN   \n",
       "6         14.40      1.0          посёлок Парголово           52996.0   \n",
       "7         18.90      2.0            Санкт-Петербург           23982.0   \n",
       "8          8.81      NaN             посёлок Мурино               NaN   \n",
       "9          6.50      2.0            Санкт-Петербург           50898.0   \n",
       "\n",
       "  cityCenters_nearest  parks_around3000  parks_nearest  ponds_around3000  \\\n",
       "0             16028.0               1.0          482.0               2.0   \n",
       "1             18603.0               0.0            NaN               0.0   \n",
       "2             13933.0               1.0           90.0               2.0   \n",
       "3              6800.0               2.0           84.0               3.0   \n",
       "4              8098.0               2.0          112.0               1.0   \n",
       "5                 NaN               NaN            NaN               NaN   \n",
       "6             19143.0               0.0            NaN               0.0   \n",
       "7             11634.0               0.0            NaN               0.0   \n",
       "8                 NaN               NaN            NaN               NaN   \n",
       "9             15008.0               0.0            NaN               0.0   \n",
       "\n",
       "   ponds_nearest  days_exposition  \n",
       "0          755.0              NaN  \n",
       "1            NaN             81.0  \n",
       "2          574.0            558.0  \n",
       "3          234.0            424.0  \n",
       "4           48.0            121.0  \n",
       "5            NaN             55.0  \n",
       "6            NaN            155.0  \n",
       "7            NaN              NaN  \n",
       "8            NaN            189.0  \n",
       "9            NaN            289.0  \n",
       "\n",
       "[10 rows x 22 columns]"
      ]
     },
     "execution_count": 6,
     "metadata": {},
     "output_type": "execute_result"
    }
   ],
   "source": [
    "estate.head(10)"
   ]
  },
  {
   "cell_type": "markdown",
   "metadata": {},
   "source": [
    "**Выводы по Шагу 1**: на данном шаге мы просмотрели общую информацию о нашей таблице и посмотрели ее первые строки, можем сделать первые выводы о проблемах в данных по увиденному: в таблице присутствуют пропущенные значения, причем в большом количестве, типы данных некоторых столбцов не соответствуют семантике вопроса, так, например, столбец, содержащий дату публикации объявления, имеет тип данных object. Все это мы исправим на следующем шаге. "
   ]
  },
  {
   "cell_type": "markdown",
   "metadata": {},
   "source": [
    "<h3> Шаг 2: Предобработка данных </h3>\n",
    "<a id='preproc'></a>"
   ]
  },
  {
   "cell_type": "markdown",
   "metadata": {},
   "source": [
    "<h3> Работа с пропущенными значениями </h3>\n",
    "<a id='skipped'></a>"
   ]
  },
  {
   "cell_type": "markdown",
   "metadata": {},
   "source": [
    "Итак, как было установлено на предыдущем шаге, наши данные содержат в себе много пропусков. Всего в датасете 22 колонки, из них 14 имеют пропуски. "
   ]
  },
  {
   "cell_type": "markdown",
   "metadata": {},
   "source": [
    "Поделим наши пустые ячейки условно на 4 типа и займемся каждым по очереди. Во-первых, разделим колонки, содержащие пропуски, по признаку 'Как заполнялись значения в данной колонке? (автоматически/пользователем)', во-вторых, разделим столбцы с пропусками по свойству 'Сигнализируют ли пропущенные в данном поле значения об отсутствии данных или о нулевом значении параметра?'."
   ]
  },
  {
   "cell_type": "markdown",
   "metadata": {},
   "source": [
    "Определим и рассмотрим подробнее пропуски в колонках, которые можно отнести к типу 'заполняемые пользователем + сигнализируют об отсутствии данных', такие как, например, высота потолка, ведь очевидно, не все владельцы квартиры знают высоту потолоков и/или считают нужным, указать эти сведения, НО высота потолка не равна нулю. Отнесем к колонкам, содержащим такие значения, следующие: ceiling_height, floors_total (хотя конкретно в этом столбце возможно автозаполнение по адресу дома, но мы будем придерживаться обозначенной выше точки зрения, другой), living_area, kitchen area, locality_name."
   ]
  },
  {
   "cell_type": "markdown",
   "metadata": {},
   "source": [
    "Как было обозначено выше, причины пропусков в этих пяти колонках - отсутствие информации по причине того, что ее не предоставили пользователи. Тактика по работе с пропущенными значениями в данных столбцах: строки, где пропущено значение в поле locality_name, мы удалим, потому что, расположение квартиры сильно влияет на ее цену, а наша задача - научиться определять рыночную стоимость недвижимости, да и процент таких записей - небольшой; значения в living_area и kitchen_area - заполним средними значениями по общей площади (потому что :а) мы можем, так как значения в данных колонках зависят от значений в другой, б) нам эти столбцы еще пригодятся и поэтому, лучше бы им не иметь пропуски); строки с пропуском в floors_total мы тоже удалим: нам потребуется этот столбец в дальнейшим и, как и в ситуации с locality_name, процент таких записей мал; ceiling_height мы трогать не будем - в данной таблице нет информации, на основании которой мы можем заполнить ячейки."
   ]
  },
  {
   "cell_type": "markdown",
   "metadata": {},
   "source": [
    "Начнем с удаления строк."
   ]
  },
  {
   "cell_type": "code",
   "execution_count": 7,
   "metadata": {},
   "outputs": [],
   "source": [
    "estate = estate.dropna(subset = ['locality_name', 'floors_total']).reset_index(drop=True)"
   ]
  },
  {
   "cell_type": "markdown",
   "metadata": {},
   "source": [
    "Для заполнения ячеек в living_area и kitchen_area нам необходимо категоризировать квартиры по площади.  Результат категоризации занесем в отдельный столбец, который потом удалим. "
   ]
  },
  {
   "cell_type": "code",
   "execution_count": 8,
   "metadata": {},
   "outputs": [],
   "source": [
    "estate['helper'] = pd.qcut(estate['total_area'], 10, labels = [1,2,3,4,5,6,7,8,9,10])"
   ]
  },
  {
   "cell_type": "markdown",
   "metadata": {},
   "source": [
    "Посчитаем среднюю площадь кухни и жилого помещения для каждой группы, полученные значения занесем в пустые ячейки."
   ]
  },
  {
   "cell_type": "code",
   "execution_count": 9,
   "metadata": {},
   "outputs": [],
   "source": [
    "estategrouped = estate.groupby('helper').agg({'kitchen_area': 'mean' , 'living_area': 'mean'})"
   ]
  },
  {
   "cell_type": "code",
   "execution_count": 10,
   "metadata": {},
   "outputs": [],
   "source": [
    "for i in range(1,11):\n",
    "    estate[estate['helper'] == i ] = estate[estate['helper'] == i ].fillna(value={'kitchen_area': round(estategrouped.loc[i-1, 'kitchen_area'],2),\n",
    "                                                                                  'living_area': round(estategrouped.loc[i-1, 'living_area'],2)})"
   ]
  },
  {
   "cell_type": "markdown",
   "metadata": {},
   "source": [
    "Удалим вспомогательный столбец."
   ]
  },
  {
   "cell_type": "code",
   "execution_count": 11,
   "metadata": {},
   "outputs": [],
   "source": [
    "estate = estate.drop(columns=['helper'])"
   ]
  },
  {
   "cell_type": "markdown",
   "metadata": {},
   "source": [
    "Следующая группа полей с пустыми ячейками это 'заполняемые пользователем + сигнализируют о нулевом значении'. В контексте данного деления будем рассматривать не только арифметический ноль, но и логический - 'ложь'. Эта оговорка позволит нам очень удобно поделить все столбцы с пропущенными значениями. Отнесем к этому типу: is_apartment (если продаются апартаменты, хозяин обязательно должен был бы это указать, поскольку разница между таким видом жилья и квартирой очень существенная, так что делаем вывод - отсутствие пометки о том, что на продаже именно апартаменты, сигнализирует о том, что это не они), balcony (логически размышляя, можно прийти к выводу, что отсутствие данных  о количестве балконов говорит об их отсутствии, хотя данный столбец и можно отнести к предыдущему типу, но мы оставим его здесь). "
   ]
  },
  {
   "cell_type": "markdown",
   "metadata": {},
   "source": [
    "Итак, причины пропусков в этих двух колонках - попытка сигнализировать о нуле, но вот в таком, своеобразном виде. Поменяем NaN в is_apartment на False, а в balcony на 0. "
   ]
  },
  {
   "cell_type": "code",
   "execution_count": 12,
   "metadata": {},
   "outputs": [],
   "source": [
    "estate = estate.fillna(value={'is_apartment':'False', 'balcony': 0})\n"
   ]
  },
  {
   "cell_type": "markdown",
   "metadata": {},
   "source": [
    "Чтобы проверить, все ли получилось, вызовем метод info к таблице."
   ]
  },
  {
   "cell_type": "code",
   "execution_count": 13,
   "metadata": {},
   "outputs": [
    {
     "name": "stdout",
     "output_type": "stream",
     "text": [
      "<class 'pandas.core.frame.DataFrame'>\n",
      "RangeIndex: 23565 entries, 0 to 23564\n",
      "Data columns (total 22 columns):\n",
      "total_images            23565 non-null int64\n",
      "last_price              23565 non-null float64\n",
      "total_area              23565 non-null float64\n",
      "first_day_exposition    23565 non-null object\n",
      "rooms                   23565 non-null int64\n",
      "ceiling_height          14481 non-null float64\n",
      "floors_total            23565 non-null float64\n",
      "living_area             23565 non-null float64\n",
      "floor                   23565 non-null int64\n",
      "is_apartment            23565 non-null object\n",
      "studio                  23565 non-null bool\n",
      "open_plan               23565 non-null bool\n",
      "kitchen_area            23565 non-null float64\n",
      "balcony                 23565 non-null float64\n",
      "locality_name           23565 non-null object\n",
      "airports_nearest        18041 non-null float64\n",
      "cityCenters_nearest     18064 non-null float64\n",
      "parks_around3000        18065 non-null float64\n",
      "parks_nearest           8030 non-null float64\n",
      "ponds_around3000        18065 non-null float64\n",
      "ponds_nearest           9036 non-null float64\n",
      "days_exposition         20394 non-null float64\n",
      "dtypes: bool(2), float64(14), int64(3), object(3)\n",
      "memory usage: 3.6+ MB\n"
     ]
    }
   ],
   "source": [
    "estate.info()"
   ]
  },
  {
   "cell_type": "markdown",
   "metadata": {},
   "source": [
    "Все в порядке, идем дальше. Пора переходит к столбцам, значения которых заполнялись автоматически. Их 7. Обратим внимание на одну особенность - в столбцах airports_nearest, cityCenters_nearest, parks_around3000 и ponds_around3000 практически одинаковое количество ненулевых значений (значит и пропущенных тоже). Это вполне может обозначать, что большая часть пустых ячеек в одних и тех же строках, т.е. если значения пропускаются, то во всех столбцах, данные в которых определяются автоматически по картографическим данным. Проверим это. "
   ]
  },
  {
   "cell_type": "markdown",
   "metadata": {},
   "source": [
    "Чтобы посмотреть, правдиво ли данное убеждение, найдем соотношение количества строк, в которых значения пропущены в каждом из четырех полей, к количеству строк, в которых пропущены значения в колонке airports_nearest. "
   ]
  },
  {
   "cell_type": "code",
   "execution_count": 14,
   "metadata": {},
   "outputs": [
    {
     "data": {
      "text/plain": [
       "'99.6%'"
      ]
     },
     "execution_count": 14,
     "metadata": {},
     "output_type": "execute_result"
    }
   ],
   "source": [
    "all_skipped = estate[(estate['airports_nearest'].isna()) & (estate['cityCenters_nearest'].isna()) & \n",
    "                     (estate['parks_around3000'].isna()) & (estate['ponds_around3000'].isna())].shape[0]\n",
    "'{:.1%}'.format(all_skipped / estate[estate['airports_nearest'].isna()].shape[0])"
   ]
  },
  {
   "cell_type": "markdown",
   "metadata": {},
   "source": [
    "Итак, почти во всех строках, где пропущено значение в airports_nearest, также пропущены и значения в других трех полях: cityCenter_nearest, parks_around3000 и ponds_around3000. "
   ]
  },
  {
   "cell_type": "markdown",
   "metadata": {},
   "source": [
    "Другое количество пропущенных значений (большее) в столбцах parks_nearest и ponds_nearest можно объяснить тем, что допустимое значение данного поля еще сверху ограничено какой-то цифрой. Проверим и это тоже. (days_exposition пока не рассматриваем)\n",
    "Посмотрим, какими цифрами ограничены сверху значения полей parks_nearest и ponds_nearest, для этого отсортируем датафрейм по очереди по этим столбцам по убыванию и посмотрим на первые строки."
   ]
  },
  {
   "cell_type": "code",
   "execution_count": 15,
   "metadata": {},
   "outputs": [
    {
     "data": {
      "text/html": [
       "<div>\n",
       "<style scoped>\n",
       "    .dataframe tbody tr th:only-of-type {\n",
       "        vertical-align: middle;\n",
       "    }\n",
       "\n",
       "    .dataframe tbody tr th {\n",
       "        vertical-align: top;\n",
       "    }\n",
       "\n",
       "    .dataframe thead th {\n",
       "        text-align: right;\n",
       "    }\n",
       "</style>\n",
       "<table border=\"1\" class=\"dataframe\">\n",
       "  <thead>\n",
       "    <tr style=\"text-align: right;\">\n",
       "      <th></th>\n",
       "      <th>total_images</th>\n",
       "      <th>last_price</th>\n",
       "      <th>total_area</th>\n",
       "      <th>first_day_exposition</th>\n",
       "      <th>rooms</th>\n",
       "      <th>ceiling_height</th>\n",
       "      <th>floors_total</th>\n",
       "      <th>living_area</th>\n",
       "      <th>floor</th>\n",
       "      <th>is_apartment</th>\n",
       "      <th>...</th>\n",
       "      <th>kitchen_area</th>\n",
       "      <th>balcony</th>\n",
       "      <th>locality_name</th>\n",
       "      <th>airports_nearest</th>\n",
       "      <th>cityCenters_nearest</th>\n",
       "      <th>parks_around3000</th>\n",
       "      <th>parks_nearest</th>\n",
       "      <th>ponds_around3000</th>\n",
       "      <th>ponds_nearest</th>\n",
       "      <th>days_exposition</th>\n",
       "    </tr>\n",
       "  </thead>\n",
       "  <tbody>\n",
       "    <tr>\n",
       "      <td>10898</td>\n",
       "      <td>9</td>\n",
       "      <td>3000000.0</td>\n",
       "      <td>31.1</td>\n",
       "      <td>2017-03-21T00:00:00</td>\n",
       "      <td>1</td>\n",
       "      <td>NaN</td>\n",
       "      <td>5.0</td>\n",
       "      <td>17.7</td>\n",
       "      <td>2</td>\n",
       "      <td>False</td>\n",
       "      <td>...</td>\n",
       "      <td>5.5</td>\n",
       "      <td>0.0</td>\n",
       "      <td>Санкт-Петербург</td>\n",
       "      <td>14821.0</td>\n",
       "      <td>9734.0</td>\n",
       "      <td>0.0</td>\n",
       "      <td>3190.0</td>\n",
       "      <td>1.0</td>\n",
       "      <td>431.0</td>\n",
       "      <td>234.0</td>\n",
       "    </tr>\n",
       "  </tbody>\n",
       "</table>\n",
       "<p>1 rows × 22 columns</p>\n",
       "</div>"
      ],
      "text/plain": [
       "       total_images  last_price  total_area first_day_exposition  rooms  \\\n",
       "10898             9   3000000.0        31.1  2017-03-21T00:00:00      1   \n",
       "\n",
       "       ceiling_height  floors_total  living_area  floor is_apartment  ...  \\\n",
       "10898             NaN           5.0         17.7      2        False  ...   \n",
       "\n",
       "       kitchen_area  balcony    locality_name  airports_nearest  \\\n",
       "10898           5.5      0.0  Санкт-Петербург           14821.0   \n",
       "\n",
       "      cityCenters_nearest  parks_around3000  parks_nearest  ponds_around3000  \\\n",
       "10898              9734.0               0.0         3190.0               1.0   \n",
       "\n",
       "       ponds_nearest  days_exposition  \n",
       "10898          431.0            234.0  \n",
       "\n",
       "[1 rows x 22 columns]"
      ]
     },
     "execution_count": 15,
     "metadata": {},
     "output_type": "execute_result"
    }
   ],
   "source": [
    "estate.sort_values(by='parks_nearest', ascending=False).head(1)"
   ]
  },
  {
   "cell_type": "code",
   "execution_count": 16,
   "metadata": {},
   "outputs": [
    {
     "data": {
      "text/html": [
       "<div>\n",
       "<style scoped>\n",
       "    .dataframe tbody tr th:only-of-type {\n",
       "        vertical-align: middle;\n",
       "    }\n",
       "\n",
       "    .dataframe tbody tr th {\n",
       "        vertical-align: top;\n",
       "    }\n",
       "\n",
       "    .dataframe thead th {\n",
       "        text-align: right;\n",
       "    }\n",
       "</style>\n",
       "<table border=\"1\" class=\"dataframe\">\n",
       "  <thead>\n",
       "    <tr style=\"text-align: right;\">\n",
       "      <th></th>\n",
       "      <th>total_images</th>\n",
       "      <th>last_price</th>\n",
       "      <th>total_area</th>\n",
       "      <th>first_day_exposition</th>\n",
       "      <th>rooms</th>\n",
       "      <th>ceiling_height</th>\n",
       "      <th>floors_total</th>\n",
       "      <th>living_area</th>\n",
       "      <th>floor</th>\n",
       "      <th>is_apartment</th>\n",
       "      <th>...</th>\n",
       "      <th>kitchen_area</th>\n",
       "      <th>balcony</th>\n",
       "      <th>locality_name</th>\n",
       "      <th>airports_nearest</th>\n",
       "      <th>cityCenters_nearest</th>\n",
       "      <th>parks_around3000</th>\n",
       "      <th>parks_nearest</th>\n",
       "      <th>ponds_around3000</th>\n",
       "      <th>ponds_nearest</th>\n",
       "      <th>days_exposition</th>\n",
       "    </tr>\n",
       "  </thead>\n",
       "  <tbody>\n",
       "    <tr>\n",
       "      <td>20610</td>\n",
       "      <td>7</td>\n",
       "      <td>3250000.0</td>\n",
       "      <td>35.0</td>\n",
       "      <td>2018-08-30T00:00:00</td>\n",
       "      <td>1</td>\n",
       "      <td>2.55</td>\n",
       "      <td>7.0</td>\n",
       "      <td>16.4</td>\n",
       "      <td>1</td>\n",
       "      <td>False</td>\n",
       "      <td>...</td>\n",
       "      <td>7.8</td>\n",
       "      <td>0.0</td>\n",
       "      <td>посёлок Стрельна</td>\n",
       "      <td>28377.0</td>\n",
       "      <td>23562.0</td>\n",
       "      <td>1.0</td>\n",
       "      <td>1073.0</td>\n",
       "      <td>1.0</td>\n",
       "      <td>1344.0</td>\n",
       "      <td>81.0</td>\n",
       "    </tr>\n",
       "  </tbody>\n",
       "</table>\n",
       "<p>1 rows × 22 columns</p>\n",
       "</div>"
      ],
      "text/plain": [
       "       total_images  last_price  total_area first_day_exposition  rooms  \\\n",
       "20610             7   3250000.0        35.0  2018-08-30T00:00:00      1   \n",
       "\n",
       "       ceiling_height  floors_total  living_area  floor is_apartment  ...  \\\n",
       "20610            2.55           7.0         16.4      1        False  ...   \n",
       "\n",
       "       kitchen_area  balcony     locality_name  airports_nearest  \\\n",
       "20610           7.8      0.0  посёлок Стрельна           28377.0   \n",
       "\n",
       "      cityCenters_nearest  parks_around3000  parks_nearest  ponds_around3000  \\\n",
       "20610             23562.0               1.0         1073.0               1.0   \n",
       "\n",
       "       ponds_nearest  days_exposition  \n",
       "20610         1344.0             81.0  \n",
       "\n",
       "[1 rows x 22 columns]"
      ]
     },
     "execution_count": 16,
     "metadata": {},
     "output_type": "execute_result"
    }
   ],
   "source": [
    "estate.sort_values(by='ponds_nearest', ascending=False).head(1)"
   ]
  },
  {
   "cell_type": "markdown",
   "metadata": {},
   "source": [
    "Итак, получаем, что значение поля parks_nearest ограничено сверху значением 3190 метров, а ponds_nearest - 1344 м. Не сильно много: 3,2 и 1,3 км соответственно. Полученные значения вполне согласуются с нашей теорией. "
   ]
  },
  {
   "cell_type": "markdown",
   "metadata": {},
   "source": [
    "Резюмируя полученную информацию, можно сделать один вывод и одно предположение. Во-первых, имеем факт: для каких-то объявлений (адресов) не сработало автозаполнение по картографическим данным, во-вторых, для колонок ponds_nearest и parks_nearest можно предположить что, часть пропущенных значений в них - также результат несработавшего автоопределения по карт. данным, а другая часть это результат того, что если пруд находится дальше 1344 метров, а парк - дальше 3190 метров, то в эту ячейку ставится значение NaN, при этом в колонку-сосед (parks_around3000 или ponds_around3000) попадает значение 0.0. То есть, расстояния до ближайшего пруда/парка не существует, поэтому количество прудов/парков в радиусе 3 километров равно 0. Давайте докажем это, так мы получим более полную картину о наших пустых ячейках."
   ]
  },
  {
   "cell_type": "markdown",
   "metadata": {},
   "source": [
    "Если наше предположение верно, то, если в поле ponds_nearest стоит NaN, то в ponds_around3000 стоит либо значение 0.0, либо NaN, аналогично и для второй пары. Убедимся в этом."
   ]
  },
  {
   "cell_type": "code",
   "execution_count": 17,
   "metadata": {},
   "outputs": [
    {
     "data": {
      "text/plain": [
       "array([ 0., nan])"
      ]
     },
     "execution_count": 17,
     "metadata": {},
     "output_type": "execute_result"
    }
   ],
   "source": [
    "estate[estate['ponds_nearest'].isna()]['ponds_around3000'].unique()"
   ]
  },
  {
   "cell_type": "code",
   "execution_count": 18,
   "metadata": {},
   "outputs": [
    {
     "data": {
      "text/plain": [
       "array([ 0., nan])"
      ]
     },
     "execution_count": 18,
     "metadata": {},
     "output_type": "execute_result"
    }
   ],
   "source": [
    "estate[estate['parks_nearest'].isna()]['parks_around3000'].unique()"
   ]
  },
  {
   "cell_type": "markdown",
   "metadata": {},
   "source": [
    "Итак, наше предположение верно. Приступим к следующему шагу. "
   ]
  },
  {
   "cell_type": "markdown",
   "metadata": {},
   "source": [
    "Посмотрим, для каких населенных пунктов автоопределение по картографическим данным не срабатывает чаще. "
   ]
  },
  {
   "cell_type": "code",
   "execution_count": 19,
   "metadata": {},
   "outputs": [],
   "source": [
    "no_map_estate = estate[(estate['airports_nearest'].isna()) &\n",
    "       (estate['cityCenters_nearest'].isna()) & \n",
    "       (estate['parks_around3000'].isna()) & \n",
    "       (estate['ponds_around3000'].isna())]['locality_name'].value_counts().head(15)"
   ]
  },
  {
   "cell_type": "code",
   "execution_count": 20,
   "metadata": {},
   "outputs": [
    {
     "data": {
      "text/plain": [
       "посёлок Мурино             520\n",
       "Всеволожск                 398\n",
       "Гатчина                    307\n",
       "деревня Кудрово            299\n",
       "Выборг                     237\n",
       "Кудрово                    171\n",
       "деревня Новое Девяткино    143\n",
       "Сертолово                  142\n",
       "Кириши                     125\n",
       "Сланцы                     112\n",
       "Волхов                     111\n",
       "Кингисепп                  104\n",
       "Тосно                      104\n",
       "Никольское                  93\n",
       "Коммунар                    89\n",
       "Name: locality_name, dtype: int64"
      ]
     },
     "execution_count": 20,
     "metadata": {},
     "output_type": "execute_result"
    }
   ],
   "source": [
    "no_map_estate"
   ]
  },
  {
   "cell_type": "markdown",
   "metadata": {},
   "source": [
    "Какие могут быть причины именно такого списка? Обратившись к карте, было выяснено, что Мурино это в черте Петербурга, а Выборг - очень далеко. Что же объединяет все это пункты? Увы и ах, занимательный вечер за географией Ленинградской области ответа не дал, примем факт - для некоторых населенных пунктов автозаполнение не срабатывает. Необходимо передать информацию в сервис Яндекс.Недвижимость, а нам - принять отсутствие данных значений. Но перед этим сделаем еще одну вещь - посмотрим, для всех ли объявлений из i-того населенного пункта не определились параметры, может быть, на 522 неполных записей о квартирах из Мурино у нас 5220 заполненных. После этого наш вердикт будет четок. "
   ]
  },
  {
   "cell_type": "markdown",
   "metadata": {},
   "source": [
    "Поскольку количество пропущенных значений в столбцах airports_nearest, cityCenter_nearest, parks_around3000 и ponds_around3000 примерно одинаковое, будем в дальнейшем ориентироваться на один из них - airports_nearest. "
   ]
  },
  {
   "cell_type": "markdown",
   "metadata": {},
   "source": [
    "Посчитаем количество объявлений о квартирах, расположенных в населенных пунктах из нашего списка no_map_estate, где значение в столбце airports_nearest не пропущено.Также посчитаем, какой процент пропущенных значений в столбце содержат именно строки со значениями locality_name из нашего списка."
   ]
  },
  {
   "cell_type": "code",
   "execution_count": 21,
   "metadata": {},
   "outputs": [
    {
     "name": "stdout",
     "output_type": "stream",
     "text": [
      "посёлок Мурино : 0 без пропущенных значений и 520 с пропущенными\n",
      "Всеволожск : 0 без пропущенных значений и 398 с пропущенными\n",
      "Гатчина : 0 без пропущенных значений и 307 с пропущенными\n",
      "деревня Кудрово : 0 без пропущенных значений и 299 с пропущенными\n",
      "Выборг : 0 без пропущенных значений и 237 с пропущенными\n",
      "Кудрово : 0 без пропущенных значений и 171 с пропущенными\n",
      "деревня Новое Девяткино : 0 без пропущенных значений и 143 с пропущенными\n",
      "Сертолово : 0 без пропущенных значений и 142 с пропущенными\n",
      "Кириши : 0 без пропущенных значений и 125 с пропущенными\n",
      "Сланцы : 0 без пропущенных значений и 112 с пропущенными\n",
      "Волхов : 0 без пропущенных значений и 111 с пропущенными\n",
      "Кингисепп : 0 без пропущенных значений и 104 с пропущенными\n",
      "Тосно : 0 без пропущенных значений и 104 с пропущенными\n",
      "Никольское : 0 без пропущенных значений и 93 с пропущенными\n",
      "Коммунар : 0 без пропущенных значений и 89 с пропущенными\n",
      "53.5%\n"
     ]
    }
   ],
   "source": [
    "sum = 0\n",
    "for i in range(len(no_map_estate)):\n",
    "    print(no_map_estate.index[i] \n",
    "         + ' : '\n",
    "         + str(estate[(estate['locality_name'] == no_map_estate.index[i]) & (estate['airports_nearest'].notna())].shape[0])\n",
    "         + ' без пропущенных значений и '\n",
    "         + str(no_map_estate[i])\n",
    "         + ' с пропущенными')\n",
    "    sum+=no_map_estate[i]\n",
    "print('{:.1%}'.format(sum / estate[estate['airports_nearest'].isna()].shape[0]))"
   ]
  },
  {
   "cell_type": "markdown",
   "metadata": {},
   "source": [
    "Итак, мы убедились, что данные населенные пункты действительно проблемые: для всех из них не существует объявлений, в которых бы сработало автозаполнение по карт. данным. А также мы узнали, что объявления о квартирах, расположенных в этих пятнадцати населенных пунктах, составляют больше половины всех объявлений, в которых не определены значения в данных полях. Как было написано ранее, стоит передать информацию об это в сервис Яндекс.Недвижимость. Но что нам делать с такими строками?"
   ]
  },
  {
   "cell_type": "markdown",
   "metadata": {},
   "source": [
    "Удалить данные строки было не совсем разумно, невооруженным взглядом видно - процент таких объявлений большой, поэтому стоит принять этот факт, ничего не делая с пропущенными значениями. Мы могли бы часть из них заполнить, например, выяснив как далеко аэропорт Пулково находится от Мурино, но данная работа - весьма объемна, да и сможем мы заполнить только поле про аэропорты, поскольку остальные столбцы зависят от конкретного адреса. Так что, оставляем как есть."
   ]
  },
  {
   "cell_type": "markdown",
   "metadata": {},
   "source": [
    "Последняя колонка, которой мы еще не уделили внимания в данном вопросе, это days_exposition. Можно выдвинуть две теории по поводу отсутствия данных в ячейках: во-первых, вдруг объявления еще не сняты, написано, конечно, архив, но может, в него входят и текущие объявления, во-вторых, причиной пропусков может быть технический сбой - просто по каким-то причинам нет доступа к информации о днях, которые висело объявление. Какой бы ни была причина, у нас нет данных, на основании которых мы можем заполнить пропущенные значения в данной колонке. Поэтому их мы тоже просто оставим."
   ]
  },
  {
   "cell_type": "markdown",
   "metadata": {},
   "source": [
    "**Вывод по подпункту 'Работа с пропущенными значениями'**: итак, в данном пункте мы работали с пропущенными значениями, а именно: классифицировали их, выдвинули ряд теорий о том, откуда они появились, что-то удалили, что-то заполнили и что-то оставили, а также нашли очень интересную проблему с автоопределением по картографическим данным, которую необходимо передать в сервис. Теперь наши данные выглядят куда симпатичнее, мы осведомлены подробно обо всех оставшихся пустых ячейках, а Яндекс.Недвижимость получила уникальную возможность - доработать автоопределение. Можно приступать к следующему подпункту."
   ]
  },
  {
   "cell_type": "markdown",
   "metadata": {},
   "source": [
    "<h3> Замена типов данных </h3>\n",
    "<a id='changed'></a>"
   ]
  },
  {
   "cell_type": "markdown",
   "metadata": {},
   "source": [
    "Вызовем метод info к нашей таблице и обратим внимание на типы данных полей. Как было обозначено ранее, не все типы соответствуют семантике столбца. Определим такие. "
   ]
  },
  {
   "cell_type": "code",
   "execution_count": 22,
   "metadata": {},
   "outputs": [
    {
     "name": "stdout",
     "output_type": "stream",
     "text": [
      "<class 'pandas.core.frame.DataFrame'>\n",
      "RangeIndex: 23565 entries, 0 to 23564\n",
      "Data columns (total 22 columns):\n",
      "total_images            23565 non-null int64\n",
      "last_price              23565 non-null float64\n",
      "total_area              23565 non-null float64\n",
      "first_day_exposition    23565 non-null object\n",
      "rooms                   23565 non-null int64\n",
      "ceiling_height          14481 non-null float64\n",
      "floors_total            23565 non-null float64\n",
      "living_area             23565 non-null float64\n",
      "floor                   23565 non-null int64\n",
      "is_apartment            23565 non-null object\n",
      "studio                  23565 non-null bool\n",
      "open_plan               23565 non-null bool\n",
      "kitchen_area            23565 non-null float64\n",
      "balcony                 23565 non-null float64\n",
      "locality_name           23565 non-null object\n",
      "airports_nearest        18041 non-null float64\n",
      "cityCenters_nearest     18064 non-null float64\n",
      "parks_around3000        18065 non-null float64\n",
      "parks_nearest           8030 non-null float64\n",
      "ponds_around3000        18065 non-null float64\n",
      "ponds_nearest           9036 non-null float64\n",
      "days_exposition         20394 non-null float64\n",
      "dtypes: bool(2), float64(14), int64(3), object(3)\n",
      "memory usage: 3.6+ MB\n"
     ]
    }
   ],
   "source": [
    "estate.info()"
   ]
  },
  {
   "cell_type": "markdown",
   "metadata": {},
   "source": [
    "Итак, поля с которыми необходимо провести замену типов данных: first_day_exposition: object -> datetime; floors_total: float -> int; is_apartment: object -> bool; balcony: float -> int. Мы могли бы поменять типы данных столбцов parks_around3000, ponds_around3000, days_exposition, но данные поля содержат NaN'ы, так что мы не можем произвести замену. Довольствуемся тем, что имеем: произведем замену."
   ]
  },
  {
   "cell_type": "code",
   "execution_count": 23,
   "metadata": {},
   "outputs": [],
   "source": [
    "estate['floors_total'] = estate['floors_total'].astype('int64')\n",
    "estate['is_apartment'] = estate['is_apartment'].astype('bool')\n",
    "estate['balcony'] = estate['balcony'].astype('int64')\n",
    "estate['first_day_exposition'] = pd.to_datetime(estate['first_day_exposition'], format='%Y-%m-%dT%H:%M:%S')"
   ]
  },
  {
   "cell_type": "markdown",
   "metadata": {},
   "source": [
    "Вызовем метод info еще раз, проверим, все ли получилось."
   ]
  },
  {
   "cell_type": "code",
   "execution_count": 24,
   "metadata": {},
   "outputs": [
    {
     "name": "stdout",
     "output_type": "stream",
     "text": [
      "<class 'pandas.core.frame.DataFrame'>\n",
      "RangeIndex: 23565 entries, 0 to 23564\n",
      "Data columns (total 22 columns):\n",
      "total_images            23565 non-null int64\n",
      "last_price              23565 non-null float64\n",
      "total_area              23565 non-null float64\n",
      "first_day_exposition    23565 non-null datetime64[ns]\n",
      "rooms                   23565 non-null int64\n",
      "ceiling_height          14481 non-null float64\n",
      "floors_total            23565 non-null int64\n",
      "living_area             23565 non-null float64\n",
      "floor                   23565 non-null int64\n",
      "is_apartment            23565 non-null bool\n",
      "studio                  23565 non-null bool\n",
      "open_plan               23565 non-null bool\n",
      "kitchen_area            23565 non-null float64\n",
      "balcony                 23565 non-null int64\n",
      "locality_name           23565 non-null object\n",
      "airports_nearest        18041 non-null float64\n",
      "cityCenters_nearest     18064 non-null float64\n",
      "parks_around3000        18065 non-null float64\n",
      "parks_nearest           8030 non-null float64\n",
      "ponds_around3000        18065 non-null float64\n",
      "ponds_nearest           9036 non-null float64\n",
      "days_exposition         20394 non-null float64\n",
      "dtypes: bool(3), datetime64[ns](1), float64(12), int64(5), object(1)\n",
      "memory usage: 3.5+ MB\n"
     ]
    }
   ],
   "source": [
    "estate.info()"
   ]
  },
  {
   "cell_type": "markdown",
   "metadata": {},
   "source": [
    "**Вывод по подпункту 'Замена типов данных'**: итак, в данном подпункте мы заменили типы данных некоторых полей на более им подходящие."
   ]
  },
  {
   "cell_type": "markdown",
   "metadata": {},
   "source": [
    "**Вывод по Шагу 2 'Предобработка данных'**: на данном шаге мы провели этап предобработки данных: обработали пропущенные значения и изменили типы данных, теперь с нашими данными будет удобнее работать, а результат этой работы будет более качественным. "
   ]
  },
  {
   "cell_type": "markdown",
   "metadata": {},
   "source": [
    "<h3> Шаг 3: Добавление новых столбцов </h3>\n",
    "<a id='adding'></a>"
   ]
  },
  {
   "cell_type": "markdown",
   "metadata": {},
   "source": [
    "На данном шаге мы добавим в нашу таблицу новые столбцы, которые потребуются нам для дальнейшнего исследования. Они будут содержать: 1) Цену квадратного метра, 2)День недели, месяц и год публикации, 3)Этаж квартиры: первый, последний, другой, 4)Соотношение жилой и общей площади, а также отношение площади кухни к общей. "
   ]
  },
  {
   "cell_type": "markdown",
   "metadata": {},
   "source": [
    "Добавим цену квадратного метра, это частное от деления цены на площадь. "
   ]
  },
  {
   "cell_type": "code",
   "execution_count": 25,
   "metadata": {},
   "outputs": [],
   "source": [
    "estate['meter_price'] = round(estate['last_price'] / estate['total_area'], 2)"
   ]
  },
  {
   "cell_type": "markdown",
   "metadata": {},
   "source": [
    "Добавим день недели, месяц и год публикации. "
   ]
  },
  {
   "cell_type": "code",
   "execution_count": 26,
   "metadata": {},
   "outputs": [],
   "source": [
    "estate['day_exposition'] = estate['first_day_exposition'].dt.weekday\n",
    "estate['month_exposition'] = estate['first_day_exposition'].dt.month\n",
    "estate['year_exposition'] = estate['first_day_exposition'].dt.year"
   ]
  },
  {
   "cell_type": "markdown",
   "metadata": {},
   "source": [
    "Добавим этаж квартиры, для этого напишем функцию, которая принимает на вход строку датафрейма и возвращает какой этаж: первый, последний или другой, а конкретнее: цифру 1, если этаж первый, 2, если другой, и 3, если последний. Функцию предварительно проверим."
   ]
  },
  {
   "cell_type": "code",
   "execution_count": 27,
   "metadata": {},
   "outputs": [],
   "source": [
    "def floor_determiner(row):\n",
    "    floor = row['floor']\n",
    "    floors_total = row['floors_total']\n",
    "    if floor == 1:\n",
    "        return 1\n",
    "    elif floor == floors_total:\n",
    "        return 3\n",
    "    else:\n",
    "        return 2"
   ]
  },
  {
   "cell_type": "code",
   "execution_count": 28,
   "metadata": {},
   "outputs": [
    {
     "data": {
      "text/plain": [
       "0    1\n",
       "1    3\n",
       "2    2\n",
       "dtype: int64"
      ]
     },
     "execution_count": 28,
     "metadata": {},
     "output_type": "execute_result"
    }
   ],
   "source": [
    "estate_check = pd.DataFrame(columns=['floor', 'floors_total'], data=\n",
    "                           [[1, 12], [13,13], [7, 10]])\n",
    "estate_check.apply(floor_determiner, axis=1)"
   ]
  },
  {
   "cell_type": "code",
   "execution_count": 29,
   "metadata": {},
   "outputs": [],
   "source": [
    "estate['floor_cat'] = estate.apply(floor_determiner, axis=1)"
   ]
  },
  {
   "cell_type": "markdown",
   "metadata": {},
   "source": [
    "Добавим соотношение жилой и общей площади и отношение площади кухни к общей."
   ]
  },
  {
   "cell_type": "code",
   "execution_count": 30,
   "metadata": {},
   "outputs": [],
   "source": [
    "estate['kitchen_relation'] = round(estate['kitchen_area'] / estate['total_area'], 2)\n",
    "estate['living_relation'] = round(estate['living_area'] / estate['total_area'], 2)"
   ]
  },
  {
   "cell_type": "markdown",
   "metadata": {},
   "source": [
    "Посмотрим на первые пять строк нашей таблицы и убедимся, что значения в новых столбцах выглядят так, как мы ожидали."
   ]
  },
  {
   "cell_type": "code",
   "execution_count": 31,
   "metadata": {},
   "outputs": [
    {
     "data": {
      "text/html": [
       "<div>\n",
       "<style scoped>\n",
       "    .dataframe tbody tr th:only-of-type {\n",
       "        vertical-align: middle;\n",
       "    }\n",
       "\n",
       "    .dataframe tbody tr th {\n",
       "        vertical-align: top;\n",
       "    }\n",
       "\n",
       "    .dataframe thead th {\n",
       "        text-align: right;\n",
       "    }\n",
       "</style>\n",
       "<table border=\"1\" class=\"dataframe\">\n",
       "  <thead>\n",
       "    <tr style=\"text-align: right;\">\n",
       "      <th></th>\n",
       "      <th>total_images</th>\n",
       "      <th>last_price</th>\n",
       "      <th>total_area</th>\n",
       "      <th>first_day_exposition</th>\n",
       "      <th>rooms</th>\n",
       "      <th>ceiling_height</th>\n",
       "      <th>floors_total</th>\n",
       "      <th>living_area</th>\n",
       "      <th>floor</th>\n",
       "      <th>is_apartment</th>\n",
       "      <th>...</th>\n",
       "      <th>ponds_around3000</th>\n",
       "      <th>ponds_nearest</th>\n",
       "      <th>days_exposition</th>\n",
       "      <th>meter_price</th>\n",
       "      <th>day_exposition</th>\n",
       "      <th>month_exposition</th>\n",
       "      <th>year_exposition</th>\n",
       "      <th>floor_cat</th>\n",
       "      <th>kitchen_relation</th>\n",
       "      <th>living_relation</th>\n",
       "    </tr>\n",
       "  </thead>\n",
       "  <tbody>\n",
       "    <tr>\n",
       "      <td>0</td>\n",
       "      <td>20</td>\n",
       "      <td>13000000.0</td>\n",
       "      <td>108.0</td>\n",
       "      <td>2019-03-07</td>\n",
       "      <td>3</td>\n",
       "      <td>2.70</td>\n",
       "      <td>16</td>\n",
       "      <td>51.00</td>\n",
       "      <td>8</td>\n",
       "      <td>True</td>\n",
       "      <td>...</td>\n",
       "      <td>2.0</td>\n",
       "      <td>755.0</td>\n",
       "      <td>NaN</td>\n",
       "      <td>120370.37</td>\n",
       "      <td>3</td>\n",
       "      <td>3</td>\n",
       "      <td>2019</td>\n",
       "      <td>2</td>\n",
       "      <td>0.23</td>\n",
       "      <td>0.47</td>\n",
       "    </tr>\n",
       "    <tr>\n",
       "      <td>1</td>\n",
       "      <td>7</td>\n",
       "      <td>3350000.0</td>\n",
       "      <td>40.4</td>\n",
       "      <td>2018-12-04</td>\n",
       "      <td>1</td>\n",
       "      <td>NaN</td>\n",
       "      <td>11</td>\n",
       "      <td>18.60</td>\n",
       "      <td>1</td>\n",
       "      <td>True</td>\n",
       "      <td>...</td>\n",
       "      <td>0.0</td>\n",
       "      <td>NaN</td>\n",
       "      <td>81.0</td>\n",
       "      <td>82920.79</td>\n",
       "      <td>1</td>\n",
       "      <td>12</td>\n",
       "      <td>2018</td>\n",
       "      <td>1</td>\n",
       "      <td>0.27</td>\n",
       "      <td>0.46</td>\n",
       "    </tr>\n",
       "    <tr>\n",
       "      <td>2</td>\n",
       "      <td>10</td>\n",
       "      <td>5196000.0</td>\n",
       "      <td>56.0</td>\n",
       "      <td>2015-08-20</td>\n",
       "      <td>2</td>\n",
       "      <td>NaN</td>\n",
       "      <td>5</td>\n",
       "      <td>34.30</td>\n",
       "      <td>4</td>\n",
       "      <td>True</td>\n",
       "      <td>...</td>\n",
       "      <td>2.0</td>\n",
       "      <td>574.0</td>\n",
       "      <td>558.0</td>\n",
       "      <td>92785.71</td>\n",
       "      <td>3</td>\n",
       "      <td>8</td>\n",
       "      <td>2015</td>\n",
       "      <td>2</td>\n",
       "      <td>0.15</td>\n",
       "      <td>0.61</td>\n",
       "    </tr>\n",
       "    <tr>\n",
       "      <td>3</td>\n",
       "      <td>0</td>\n",
       "      <td>64900000.0</td>\n",
       "      <td>159.0</td>\n",
       "      <td>2015-07-24</td>\n",
       "      <td>3</td>\n",
       "      <td>NaN</td>\n",
       "      <td>14</td>\n",
       "      <td>79.24</td>\n",
       "      <td>9</td>\n",
       "      <td>True</td>\n",
       "      <td>...</td>\n",
       "      <td>3.0</td>\n",
       "      <td>234.0</td>\n",
       "      <td>424.0</td>\n",
       "      <td>408176.10</td>\n",
       "      <td>4</td>\n",
       "      <td>7</td>\n",
       "      <td>2015</td>\n",
       "      <td>2</td>\n",
       "      <td>0.12</td>\n",
       "      <td>0.50</td>\n",
       "    </tr>\n",
       "    <tr>\n",
       "      <td>4</td>\n",
       "      <td>2</td>\n",
       "      <td>10000000.0</td>\n",
       "      <td>100.0</td>\n",
       "      <td>2018-06-19</td>\n",
       "      <td>2</td>\n",
       "      <td>3.03</td>\n",
       "      <td>14</td>\n",
       "      <td>32.00</td>\n",
       "      <td>13</td>\n",
       "      <td>True</td>\n",
       "      <td>...</td>\n",
       "      <td>1.0</td>\n",
       "      <td>48.0</td>\n",
       "      <td>121.0</td>\n",
       "      <td>100000.00</td>\n",
       "      <td>1</td>\n",
       "      <td>6</td>\n",
       "      <td>2018</td>\n",
       "      <td>2</td>\n",
       "      <td>0.41</td>\n",
       "      <td>0.32</td>\n",
       "    </tr>\n",
       "  </tbody>\n",
       "</table>\n",
       "<p>5 rows × 29 columns</p>\n",
       "</div>"
      ],
      "text/plain": [
       "   total_images  last_price  total_area first_day_exposition  rooms  \\\n",
       "0            20  13000000.0       108.0           2019-03-07      3   \n",
       "1             7   3350000.0        40.4           2018-12-04      1   \n",
       "2            10   5196000.0        56.0           2015-08-20      2   \n",
       "3             0  64900000.0       159.0           2015-07-24      3   \n",
       "4             2  10000000.0       100.0           2018-06-19      2   \n",
       "\n",
       "   ceiling_height  floors_total  living_area  floor  is_apartment  ...  \\\n",
       "0            2.70            16        51.00      8          True  ...   \n",
       "1             NaN            11        18.60      1          True  ...   \n",
       "2             NaN             5        34.30      4          True  ...   \n",
       "3             NaN            14        79.24      9          True  ...   \n",
       "4            3.03            14        32.00     13          True  ...   \n",
       "\n",
       "   ponds_around3000  ponds_nearest  days_exposition  meter_price  \\\n",
       "0               2.0          755.0              NaN    120370.37   \n",
       "1               0.0            NaN             81.0     82920.79   \n",
       "2               2.0          574.0            558.0     92785.71   \n",
       "3               3.0          234.0            424.0    408176.10   \n",
       "4               1.0           48.0            121.0    100000.00   \n",
       "\n",
       "  day_exposition  month_exposition  year_exposition  floor_cat  \\\n",
       "0              3                 3             2019          2   \n",
       "1              1                12             2018          1   \n",
       "2              3                 8             2015          2   \n",
       "3              4                 7             2015          2   \n",
       "4              1                 6             2018          2   \n",
       "\n",
       "   kitchen_relation  living_relation  \n",
       "0              0.23             0.47  \n",
       "1              0.27             0.46  \n",
       "2              0.15             0.61  \n",
       "3              0.12             0.50  \n",
       "4              0.41             0.32  \n",
       "\n",
       "[5 rows x 29 columns]"
      ]
     },
     "execution_count": 31,
     "metadata": {},
     "output_type": "execute_result"
    }
   ],
   "source": [
    "estate.head()"
   ]
  },
  {
   "cell_type": "markdown",
   "metadata": {},
   "source": [
    "Итак, все в порядке."
   ]
  },
  {
   "cell_type": "markdown",
   "metadata": {},
   "source": [
    "**Вывод по Шагу 3 'Добавление новых столбцов'**: таким образом, на данном Шаге мы добавили 7 новых столбцов, которые потребуются нам для дальнейшнего исследования, при добавлении мы использовали различные методы: арифметические операции со столбцами, использование метода apply и функции, а также методы работы с датой."
   ]
  },
  {
   "cell_type": "markdown",
   "metadata": {},
   "source": [
    "<h3> Шаг 4: Исследовательский анализ данных </h3>\n",
    "<a id='research'></a>"
   ]
  },
  {
   "cell_type": "markdown",
   "metadata": {},
   "source": [
    "Вот, наши данные наконец готовы для их использования в решении нашей задачи: они предобработаны и содержат в себе всю необходимую информацию. Вернемся к основной цели данного проекта, для этого выполним несколько пунктов исследовательского анализа на этом Шаге. "
   ]
  },
  {
   "cell_type": "markdown",
   "metadata": {},
   "source": [
    "<h3> Удаление редких и выбивающихся значений: изучение параметров</h3>\n",
    "<a id='delete'></a>"
   ]
  },
  {
   "cell_type": "markdown",
   "metadata": {},
   "source": [
    "Начнем с изучения следующих параметров: площадь, цена, число комнат, высота потолков и время продажи квартиры. Построим гистограммы для каждого параметра, сделаем выводы из увиденного, а после - удалим редкие и выбивающиеся значения."
   ]
  },
  {
   "cell_type": "markdown",
   "metadata": {},
   "source": [
    "Первым столбцом для анализа будет rooms. Построим гистограмму."
   ]
  },
  {
   "cell_type": "code",
   "execution_count": 32,
   "metadata": {},
   "outputs": [
    {
     "data": {
      "text/plain": [
       "<matplotlib.axes._subplots.AxesSubplot at 0x14541526d88>"
      ]
     },
     "execution_count": 32,
     "metadata": {},
     "output_type": "execute_result"
    },
    {
     "data": {
      "image/png": "[encoded data removed]",
      "text/plain": [
       "<Figure size 432x288 with 1 Axes>"
      ]
     },
     "metadata": {
      "needs_background": "light"
     },
     "output_type": "display_data"
    }
   ],
   "source": [
    "estate.plot(kind='hist', y='rooms', bins=20, grid=True, label='Rooms')"
   ]
  },
  {
   "cell_type": "markdown",
   "metadata": {},
   "source": [
    "Итак, как видно из полученного графика, большая часть квартир имеет 1 или 2 комнаты, также много трехкомнатных квартир. Можно заметить, что есть выделяющиеся значения, в поиске которых мы и находимся, как минимум - у нас есть одна квартира с 19 комнатами. Чтобы лучше разобраться с такими необычными объявлениями, построим диаграмму размаха для rooms."
   ]
  },
  {
   "cell_type": "code",
   "execution_count": 33,
   "metadata": {},
   "outputs": [
    {
     "data": {
      "text/plain": [
       "<matplotlib.axes._subplots.AxesSubplot at 0x145427f60c8>"
      ]
     },
     "execution_count": 33,
     "metadata": {},
     "output_type": "execute_result"
    },
    {
     "data": {
      "image/png": "[encoded data removed]",
      "text/plain": [
       "<Figure size 432x288 with 1 Axes>"
      ]
     },
     "metadata": {
      "needs_background": "light"
     },
     "output_type": "display_data"
    }
   ],
   "source": [
    "estate.boxplot('rooms')"
   ]
  },
  {
   "cell_type": "markdown",
   "metadata": {},
   "source": [
    "По диаграмме размаха видно, что колонка содержит в себе необычные значения, которые на графике лежат за пределами 'уса', который лежит в большей части. Нормальные значения же ограничены значением 6. Удалим все записи, в которых количество комнат больше 6. "
   ]
  },
  {
   "cell_type": "code",
   "execution_count": 34,
   "metadata": {},
   "outputs": [],
   "source": [
    "estate = estate.drop(estate.query('rooms > 6').index).reset_index(drop=True)"
   ]
  },
  {
   "cell_type": "markdown",
   "metadata": {},
   "source": [
    "Поработаем над столбцом total_area, построим гистограмму."
   ]
  },
  {
   "cell_type": "code",
   "execution_count": 35,
   "metadata": {},
   "outputs": [
    {
     "data": {
      "text/plain": [
       "507.0"
      ]
     },
     "execution_count": 35,
     "metadata": {},
     "output_type": "execute_result"
    }
   ],
   "source": [
    "estate['total_area'].max()"
   ]
  },
  {
   "cell_type": "code",
   "execution_count": 36,
   "metadata": {},
   "outputs": [
    {
     "data": {
      "text/plain": [
       "array([[<matplotlib.axes._subplots.AxesSubplot object at 0x0000014542BC3448>]],\n",
       "      dtype=object)"
      ]
     },
     "execution_count": 36,
     "metadata": {},
     "output_type": "execute_result"
    },
    {
     "data": {
      "image/png": "[encoded data removed]",
      "text/plain": [
       "<Figure size 432x288 with 1 Axes>"
      ]
     },
     "metadata": {
      "needs_background": "light"
     },
     "output_type": "display_data"
    }
   ],
   "source": [
    "estate.hist('total_area', bins=20, range=(0,500))"
   ]
  },
  {
   "cell_type": "markdown",
   "metadata": {},
   "source": [
    "По гистограмме, построенной по параметру total_area (площадь квартиры), заметно, что большая часть квартир, выставленных на продажу, имеет площадь от 25 до 50 квадратных метров, ощутимая часть имеет площадь между 50 и 75 квадратными метрами и между 75 и 100 кв. метрами, совсем немного квартир имеет площадь свыше 100 кв. метров. Также интересная особенность - существуют квартиры с площадью меньше 25 квадратных метров. Построим для данного столбца диаграмму размаха для поиска аномалий, но перед этим займемся маленькими квартирами, ведь такая небольшая площадь тоже может быть выбивающимся значением. "
   ]
  },
  {
   "cell_type": "markdown",
   "metadata": {},
   "source": [
    "Первым делом, найдем ошибки, сразу бросающиеся в глаз: рассмотрим строки, для которых площадь квартиры меньше площади кухни сложенной с жилой."
   ]
  },
  {
   "cell_type": "code",
   "execution_count": 37,
   "metadata": {},
   "outputs": [
    {
     "data": {
      "text/html": [
       "<div>\n",
       "<style scoped>\n",
       "    .dataframe tbody tr th:only-of-type {\n",
       "        vertical-align: middle;\n",
       "    }\n",
       "\n",
       "    .dataframe tbody tr th {\n",
       "        vertical-align: top;\n",
       "    }\n",
       "\n",
       "    .dataframe thead th {\n",
       "        text-align: right;\n",
       "    }\n",
       "</style>\n",
       "<table border=\"1\" class=\"dataframe\">\n",
       "  <thead>\n",
       "    <tr style=\"text-align: right;\">\n",
       "      <th></th>\n",
       "      <th>kitchen_area</th>\n",
       "      <th>living_area</th>\n",
       "      <th>total_area</th>\n",
       "    </tr>\n",
       "  </thead>\n",
       "  <tbody>\n",
       "    <tr>\n",
       "      <td>116</td>\n",
       "      <td>18.30</td>\n",
       "      <td>79.24</td>\n",
       "      <td>97.20</td>\n",
       "    </tr>\n",
       "    <tr>\n",
       "      <td>184</td>\n",
       "      <td>6.20</td>\n",
       "      <td>26.10</td>\n",
       "      <td>30.20</td>\n",
       "    </tr>\n",
       "    <tr>\n",
       "      <td>422</td>\n",
       "      <td>19.56</td>\n",
       "      <td>88.00</td>\n",
       "      <td>98.00</td>\n",
       "    </tr>\n",
       "    <tr>\n",
       "      <td>438</td>\n",
       "      <td>6.77</td>\n",
       "      <td>24.75</td>\n",
       "      <td>27.11</td>\n",
       "    </tr>\n",
       "    <tr>\n",
       "      <td>542</td>\n",
       "      <td>5.00</td>\n",
       "      <td>20.00</td>\n",
       "      <td>23.80</td>\n",
       "    </tr>\n",
       "    <tr>\n",
       "      <td>548</td>\n",
       "      <td>9.28</td>\n",
       "      <td>30.55</td>\n",
       "      <td>31.59</td>\n",
       "    </tr>\n",
       "    <tr>\n",
       "      <td>597</td>\n",
       "      <td>7.00</td>\n",
       "      <td>48.30</td>\n",
       "      <td>53.70</td>\n",
       "    </tr>\n",
       "    <tr>\n",
       "      <td>688</td>\n",
       "      <td>23.43</td>\n",
       "      <td>23.43</td>\n",
       "      <td>34.69</td>\n",
       "    </tr>\n",
       "    <tr>\n",
       "      <td>689</td>\n",
       "      <td>6.77</td>\n",
       "      <td>17.50</td>\n",
       "      <td>24.10</td>\n",
       "    </tr>\n",
       "    <tr>\n",
       "      <td>708</td>\n",
       "      <td>6.77</td>\n",
       "      <td>12.00</td>\n",
       "      <td>17.00</td>\n",
       "    </tr>\n",
       "  </tbody>\n",
       "</table>\n",
       "</div>"
      ],
      "text/plain": [
       "     kitchen_area  living_area  total_area\n",
       "116         18.30        79.24       97.20\n",
       "184          6.20        26.10       30.20\n",
       "422         19.56        88.00       98.00\n",
       "438          6.77        24.75       27.11\n",
       "542          5.00        20.00       23.80\n",
       "548          9.28        30.55       31.59\n",
       "597          7.00        48.30       53.70\n",
       "688         23.43        23.43       34.69\n",
       "689          6.77        17.50       24.10\n",
       "708          6.77        12.00       17.00"
      ]
     },
     "execution_count": 37,
     "metadata": {},
     "output_type": "execute_result"
    }
   ],
   "source": [
    "estate.query('total_area < (living_area + kitchen_area)')[['kitchen_area', 'living_area', 'total_area']].head(10)"
   ]
  },
  {
   "cell_type": "markdown",
   "metadata": {},
   "source": [
    "Интересная вещь бросается в глаза - для некоторых квартир одинаковая площадь кухни. Кажется, это наше заполнение пропущенных значений. Ну да ладно, случается. Ошибки в остальных объявлениях вполне могут быть результатами неправильно введенных пользователями данных. Посмотрим, сколько таких строк."
   ]
  },
  {
   "cell_type": "code",
   "execution_count": 38,
   "metadata": {},
   "outputs": [
    {
     "data": {
      "text/plain": [
       "233"
      ]
     },
     "execution_count": 38,
     "metadata": {},
     "output_type": "execute_result"
    }
   ],
   "source": [
    "estate.query('total_area < (living_area + kitchen_area)').shape[0]"
   ]
  },
  {
   "cell_type": "markdown",
   "metadata": {},
   "source": [
    "Не так уж и много, удалим записи."
   ]
  },
  {
   "cell_type": "code",
   "execution_count": 39,
   "metadata": {},
   "outputs": [],
   "source": [
    "estate = estate.drop(estate.query('total_area < (living_area + kitchen_area)').index).reset_index(drop=True)"
   ]
  },
  {
   "cell_type": "markdown",
   "metadata": {},
   "source": [
    "Вернемся к диаграмме размаха."
   ]
  },
  {
   "cell_type": "code",
   "execution_count": 40,
   "metadata": {},
   "outputs": [
    {
     "data": {
      "text/plain": [
       "<matplotlib.axes._subplots.AxesSubplot at 0x14542bcf588>"
      ]
     },
     "execution_count": 40,
     "metadata": {},
     "output_type": "execute_result"
    },
    {
     "data": {
      "image/png": "[encoded data removed]",
      "text/plain": [
       "<Figure size 432x288 with 1 Axes>"
      ]
     },
     "metadata": {
      "needs_background": "light"
     },
     "output_type": "display_data"
    }
   ],
   "source": [
    "estate.boxplot('total_area')"
   ]
  },
  {
   "cell_type": "markdown",
   "metadata": {},
   "source": [
    "Диаграмма размаха информирует нас о том, что аномальные значения находятся только в большей части - где-то за 110-115 кв. метрами. Данное число не является особо большим - средняя площадь 3-х комнатной квартиры, поэтому для большей уверенности, мы посмотрим, какая часть квартир в наших объявлениях имеет такую площадь."
   ]
  },
  {
   "cell_type": "code",
   "execution_count": 41,
   "metadata": {},
   "outputs": [
    {
     "data": {
      "text/plain": [
       "'4.81%'"
      ]
     },
     "execution_count": 41,
     "metadata": {},
     "output_type": "execute_result"
    }
   ],
   "source": [
    "str(round(estate.query('total_area > 115').shape[0] / estate.shape[0] * 100, 2)) + '%'"
   ]
  },
  {
   "cell_type": "markdown",
   "metadata": {},
   "source": [
    "4,81 процент это достаточно много. Построим гистограмму для значений свыше 100 кв. метров и посмотрим, может быть существует более подходящее место для проведения границы."
   ]
  },
  {
   "cell_type": "code",
   "execution_count": 42,
   "metadata": {},
   "outputs": [
    {
     "data": {
      "text/plain": [
       "array([[<matplotlib.axes._subplots.AxesSubplot object at 0x0000014542CFAD48>]],\n",
       "      dtype=object)"
      ]
     },
     "execution_count": 42,
     "metadata": {},
     "output_type": "execute_result"
    },
    {
     "data": {
      "image/png": "[encoded data removed]",
      "text/plain": [
       "<Figure size 432x288 with 1 Axes>"
      ]
     },
     "metadata": {
      "needs_background": "light"
     },
     "output_type": "display_data"
    }
   ],
   "source": [
    "estate.hist('total_area', range=(100,500), bins=16)"
   ]
  },
  {
   "cell_type": "markdown",
   "metadata": {},
   "source": [
    "Попробуем ограничиться 175 кв. метрами. Посмотрим, какой процент от таблицы составляют значения, не входящие в эту границу."
   ]
  },
  {
   "cell_type": "code",
   "execution_count": 43,
   "metadata": {},
   "outputs": [
    {
     "data": {
      "text/plain": [
       "'1.13%'"
      ]
     },
     "execution_count": 43,
     "metadata": {},
     "output_type": "execute_result"
    }
   ],
   "source": [
    "str(round(estate.query('total_area > 175').shape[0] / estate.shape[0] * 100, 2)) + '%'"
   ]
  },
  {
   "cell_type": "markdown",
   "metadata": {},
   "source": [
    "Уже гораздо лучше, так и оставим. Удалим объявления о квартирах с площадью свыше 175 кв. метров."
   ]
  },
  {
   "cell_type": "code",
   "execution_count": 44,
   "metadata": {},
   "outputs": [],
   "source": [
    "estate = estate.drop(estate[estate['total_area'] > 175].index).reset_index(drop=True)"
   ]
  },
  {
   "cell_type": "markdown",
   "metadata": {},
   "source": [
    "Приступим к работе со столбцом last_price, построим гистограмму. "
   ]
  },
  {
   "cell_type": "code",
   "execution_count": 45,
   "metadata": {},
   "outputs": [
    {
     "data": {
      "text/plain": [
       "135000000.0"
      ]
     },
     "execution_count": 45,
     "metadata": {},
     "output_type": "execute_result"
    }
   ],
   "source": [
    "estate['last_price'].max()"
   ]
  },
  {
   "cell_type": "code",
   "execution_count": 46,
   "metadata": {},
   "outputs": [
    {
     "data": {
      "text/plain": [
       "array([[<matplotlib.axes._subplots.AxesSubplot object at 0x0000014542DD8C48>]],\n",
       "      dtype=object)"
      ]
     },
     "execution_count": 46,
     "metadata": {},
     "output_type": "execute_result"
    },
    {
     "data": {
      "image/png": "[encoded data removed]",
      "text/plain": [
       "<Figure size 432x288 with 1 Axes>"
      ]
     },
     "metadata": {
      "needs_background": "light"
     },
     "output_type": "display_data"
    }
   ],
   "source": [
    "estate.hist('last_price', bins=15)"
   ]
  },
  {
   "cell_type": "markdown",
   "metadata": {},
   "source": [
    "По гистограмме, построенной по параметру last_price (крайняя цена квартиры), можно сделать вывод: большая часть квартир имеет цену до 9 млн. рублей, небольшая часть имеет цену от 9 до 18 млн.рублей, остальные же значения встречаются редко. Построим диаграмму размаха для столбца, для большей наглядности ограничим ось ординат до 20 млн. рублей, а также более удобную для исследования гистограмму - со значениями от 0 до 18 млн. рублей."
   ]
  },
  {
   "cell_type": "code",
   "execution_count": 47,
   "metadata": {},
   "outputs": [
    {
     "data": {
      "text/plain": [
       "<matplotlib.axes._subplots.AxesSubplot at 0x14542cbfb08>"
      ]
     },
     "execution_count": 47,
     "metadata": {},
     "output_type": "execute_result"
    },
    {
     "data": {
      "image/png": "[encoded data removed]",
      "text/plain": [
       "<Figure size 432x288 with 1 Axes>"
      ]
     },
     "metadata": {
      "needs_background": "light"
     },
     "output_type": "display_data"
    }
   ],
   "source": [
    "plt.ylim(0, 20000000)\n",
    "estate.boxplot('last_price')"
   ]
  },
  {
   "cell_type": "code",
   "execution_count": 48,
   "metadata": {},
   "outputs": [
    {
     "data": {
      "text/plain": [
       "array([[<matplotlib.axes._subplots.AxesSubplot object at 0x0000014543376D08>]],\n",
       "      dtype=object)"
      ]
     },
     "execution_count": 48,
     "metadata": {},
     "output_type": "execute_result"
    },
    {
     "data": {
      "image/png": "[encoded data removed]",
      "text/plain": [
       "<Figure size 432x288 with 1 Axes>"
      ]
     },
     "metadata": {
      "needs_background": "light"
     },
     "output_type": "display_data"
    }
   ],
   "source": [
    "estate.hist('last_price', range=(0,18000000), bins=18)"
   ]
  },
  {
   "cell_type": "markdown",
   "metadata": {},
   "source": [
    "По двум полученным графикам можно сделать вывод - значения свыше 12,5 млн. рублей выбивающиеся. Удалим строки, содержащие их."
   ]
  },
  {
   "cell_type": "code",
   "execution_count": 49,
   "metadata": {},
   "outputs": [],
   "source": [
    "estate = estate.drop(estate.query('last_price > 12500000').index).reset_index(drop=True)"
   ]
  },
  {
   "cell_type": "markdown",
   "metadata": {},
   "source": [
    "Обратимся к столбцу ceiling_height. Построим гистограмму."
   ]
  },
  {
   "cell_type": "code",
   "execution_count": 50,
   "metadata": {},
   "outputs": [
    {
     "data": {
      "text/plain": [
       "32.0"
      ]
     },
     "execution_count": 50,
     "metadata": {},
     "output_type": "execute_result"
    }
   ],
   "source": [
    "estate['ceiling_height'].max()"
   ]
  },
  {
   "cell_type": "markdown",
   "metadata": {},
   "source": [
    "Уже на этапе подготовки к построению гистограммы обнаруживаем очень странное число - высота потолка 32 метра, поэтому ограничим нашу гистограмму по оси ординат для наглядности."
   ]
  },
  {
   "cell_type": "code",
   "execution_count": 51,
   "metadata": {},
   "outputs": [
    {
     "data": {
      "text/plain": [
       "array([[<matplotlib.axes._subplots.AxesSubplot object at 0x000001454345BDC8>]],\n",
       "      dtype=object)"
      ]
     },
     "execution_count": 51,
     "metadata": {},
     "output_type": "execute_result"
    },
    {
     "data": {
      "image/png": "[encoded data removed]",
      "text/plain": [
       "<Figure size 432x288 with 1 Axes>"
      ]
     },
     "metadata": {
      "needs_background": "light"
     },
     "output_type": "display_data"
    }
   ],
   "source": [
    "estate.hist('ceiling_height', bins=10, range=(0,10))"
   ]
  },
  {
   "cell_type": "markdown",
   "metadata": {},
   "source": [
    "По гистограмме, построенной по столбцу ceiling_height (высота потолков), можно сделать следующий вывод: высота потолков большинства квартир от 2 до 3 метров (что, к слову, вполне соответствует реальности), также некоторый ощутимый процент имеет высоту от 3 до 4 метров. Построим диаграмму размаха для поиска аномальных значений."
   ]
  },
  {
   "cell_type": "code",
   "execution_count": 52,
   "metadata": {},
   "outputs": [
    {
     "data": {
      "text/plain": [
       "<matplotlib.axes._subplots.AxesSubplot at 0x145434628c8>"
      ]
     },
     "execution_count": 52,
     "metadata": {},
     "output_type": "execute_result"
    },
    {
     "data": {
      "image/png": "[encoded data removed]",
      "text/plain": [
       "<Figure size 432x288 with 1 Axes>"
      ]
     },
     "metadata": {
      "needs_background": "light"
     },
     "output_type": "display_data"
    }
   ],
   "source": [
    "estate.boxplot('ceiling_height')"
   ]
  },
  {
   "cell_type": "markdown",
   "metadata": {},
   "source": [
    "График не сильно наглядный, но мы уже видим особенности, требущие внимания - значения свыше 7 метров, они, конечно, должны быть удалены в дальнейшем. Ограничим ось ординат для более подробного исследования."
   ]
  },
  {
   "cell_type": "code",
   "execution_count": 53,
   "metadata": {},
   "outputs": [
    {
     "data": {
      "text/plain": [
       "<matplotlib.axes._subplots.AxesSubplot at 0x14543544e08>"
      ]
     },
     "execution_count": 53,
     "metadata": {},
     "output_type": "execute_result"
    },
    {
     "data": {
      "image/png": "[encoded data removed]",
      "text/plain": [
       "<Figure size 432x288 with 1 Axes>"
      ]
     },
     "metadata": {
      "needs_background": "light"
     },
     "output_type": "display_data"
    }
   ],
   "source": [
    "plt.ylim(0, 7)\n",
    "estate.boxplot('ceiling_height')"
   ]
  },
  {
   "cell_type": "markdown",
   "metadata": {},
   "source": [
    "Сделаем вывод: у нас есть аномальные значения в нижней части, от них мы избавимся, высота потолка должна составлять не менее 2,1 метров для прихожих; с аномальными значениями в верхней части уже сложнее: наша диаграмма записала туда все числа больше 3, что не совсем корректно, потому что, как минимум, по гистограмме видно, что процент квартир с такими потолками большой, а также, известен факт - для элитного жилья высота потолка свыше 3 метров это нормально. Доверимся нашей гистограмме, а не диаграмме размаха и ограничим высоту потолка сверху значением 4 метра."
   ]
  },
  {
   "cell_type": "code",
   "execution_count": 54,
   "metadata": {},
   "outputs": [],
   "source": [
    "estate = estate.drop(estate.query('ceiling_height > 4 or ceiling_height < 2.1').index).reset_index(drop=True)"
   ]
  },
  {
   "cell_type": "markdown",
   "metadata": {},
   "source": [
    "Изучим время продажи квартиры, построим гистограмму по столбцу days_exposition, а также посчитаем среднее и медиану для этой колонки. "
   ]
  },
  {
   "cell_type": "code",
   "execution_count": 55,
   "metadata": {},
   "outputs": [
    {
     "data": {
      "text/plain": [
       "1580.0"
      ]
     },
     "execution_count": 55,
     "metadata": {},
     "output_type": "execute_result"
    }
   ],
   "source": [
    "estate['days_exposition'].max()"
   ]
  },
  {
   "cell_type": "code",
   "execution_count": 56,
   "metadata": {},
   "outputs": [
    {
     "data": {
      "text/plain": [
       "array([[<matplotlib.axes._subplots.AxesSubplot object at 0x00000145435B3E48>]],\n",
       "      dtype=object)"
      ]
     },
     "execution_count": 56,
     "metadata": {},
     "output_type": "execute_result"
    },
    {
     "data": {
      "image/png": "[encoded data removed]",
      "text/plain": [
       "<Figure size 432x288 with 1 Axes>"
      ]
     },
     "metadata": {
      "needs_background": "light"
     },
     "output_type": "display_data"
    }
   ],
   "source": [
    "estate.hist('days_exposition', bins=16)"
   ]
  },
  {
   "cell_type": "code",
   "execution_count": 57,
   "metadata": {},
   "outputs": [
    {
     "data": {
      "text/plain": [
       "174.18563764805864"
      ]
     },
     "execution_count": 57,
     "metadata": {},
     "output_type": "execute_result"
    }
   ],
   "source": [
    "estate['days_exposition'].mean()"
   ]
  },
  {
   "cell_type": "code",
   "execution_count": 58,
   "metadata": {},
   "outputs": [
    {
     "data": {
      "text/plain": [
       "92.0"
      ]
     },
     "execution_count": 58,
     "metadata": {},
     "output_type": "execute_result"
    }
   ],
   "source": [
    "estate['days_exposition'].median()"
   ]
  },
  {
   "cell_type": "markdown",
   "metadata": {},
   "source": [
    "Делаем выводы: большая часть квартир продается в течение ста дней, это видно по гистограмме, а также свидетельствует об этом медиана, равная 92, т.е. половина квартир продается именно за это время; также ощутимый процент жилья находит своего покупателя в период от 100 до 200 дней со дня появления объявления и в период от 200 до 400 дней. Наша задача определить, когда считается, что квартира продалась слишком быстро, а когда - слишком медленно. Сначала мы удалим редкие и выбивающиеся значения, а после - примем как слишком быстрые - меньшие 10 процентов значений, а как слишком долгие - большие 10 процентов. Построим диаграмму размаха для колонки."
   ]
  },
  {
   "cell_type": "code",
   "execution_count": 59,
   "metadata": {},
   "outputs": [
    {
     "data": {
      "text/plain": [
       "<matplotlib.axes._subplots.AxesSubplot at 0x145435bdc48>"
      ]
     },
     "execution_count": 59,
     "metadata": {},
     "output_type": "execute_result"
    },
    {
     "data": {
      "image/png": "[encoded data removed]",
      "text/plain": [
       "<Figure size 432x288 with 1 Axes>"
      ]
     },
     "metadata": {
      "needs_background": "light"
     },
     "output_type": "display_data"
    }
   ],
   "source": [
    "estate.boxplot('days_exposition')"
   ]
  },
  {
   "cell_type": "markdown",
   "metadata": {},
   "source": [
    "Диаграмма сообщает нам, что в нижней части аномальных значений нет, а вот в верхней - весьма много. Примем редкими значения больше 550 дней - полутора лет, это соответствует информации с диаграммы, а по гистограмме можно убедиться - процент таких записей не критичный. Удалим выбивающиеся значения. "
   ]
  },
  {
   "cell_type": "code",
   "execution_count": 60,
   "metadata": {},
   "outputs": [],
   "source": [
    "estate = estate.drop(estate.query('days_exposition > 550').index).reset_index(drop=True)"
   ]
  },
  {
   "cell_type": "markdown",
   "metadata": {},
   "source": [
    "Посчитаем медиану и среднее заново, но уже методом describe."
   ]
  },
  {
   "cell_type": "code",
   "execution_count": 61,
   "metadata": {},
   "outputs": [
    {
     "data": {
      "text/plain": [
       "count    17574.000000\n",
       "mean       129.976272\n",
       "std        125.859565\n",
       "min          1.000000\n",
       "25%         41.000000\n",
       "50%         83.000000\n",
       "75%        183.000000\n",
       "max        550.000000\n",
       "Name: days_exposition, dtype: float64"
      ]
     },
     "execution_count": 61,
     "metadata": {},
     "output_type": "execute_result"
    }
   ],
   "source": [
    "estate['days_exposition'].describe()"
   ]
  },
  {
   "cell_type": "markdown",
   "metadata": {},
   "source": [
    "А сейчас приступим к поиску границ. Для определения нижних и верхних 10 процентов используем метод qcut."
   ]
  },
  {
   "cell_type": "code",
   "execution_count": 62,
   "metadata": {},
   "outputs": [
    {
     "data": {
      "text/plain": [
       "Interval(0.999, 15.0, closed='right')"
      ]
     },
     "execution_count": 62,
     "metadata": {},
     "output_type": "execute_result"
    }
   ],
   "source": [
    "pd.qcut(estate['days_exposition'], 10).unique().sort_values()[0]"
   ]
  },
  {
   "cell_type": "code",
   "execution_count": 63,
   "metadata": {},
   "outputs": [
    {
     "data": {
      "text/plain": [
       "Interval(331.0, 550.0, closed='right')"
      ]
     },
     "execution_count": 63,
     "metadata": {},
     "output_type": "execute_result"
    }
   ],
   "source": [
    "pd.qcut(estate['days_exposition'], 10).unique().sort_values()[9]"
   ]
  },
  {
   "cell_type": "markdown",
   "metadata": {},
   "source": [
    "Итак, будем считать, что квартиры, проданные меньше, чем за 15 дней - проданы слишком быстро, а квартиры, которые продавались больше 330 дней (около 11 месяцев) - продавались слишком долго."
   ]
  },
  {
   "cell_type": "markdown",
   "metadata": {},
   "source": [
    "**Вывод по подпункту**: вот, мы удалили редкие и выбивающиеся значения, а помогли нам с этом гистограммы и диаграммы размаха. Это позволит нам получить более корректные результаты: лучше применимые для часто встречающихся случаев реальной жизни. "
   ]
  },
  {
   "cell_type": "markdown",
   "metadata": {},
   "source": [
    "<h3>Изучение влияния различных факторов на цену квартиры</h3>\n",
    "<a id='factors'></a>"
   ]
  },
  {
   "cell_type": "markdown",
   "metadata": {},
   "source": [
    "Настало время самого интересного: определим, какие факторы больше всего влияют на стоимость квартиры. Изучим зависимость цены от площади, числа комнат, удалённости от центра, от того, на каком этаже расположена квартира: первом, последнем или другом, от даты размещения: дня недели, месяца и года."
   ]
  },
  {
   "cell_type": "markdown",
   "metadata": {},
   "source": [
    "Для почти каждого фактора построим график, разделенный на шестиугольные области, такой, что по оси ординат всегда будет располагаться столбец last_price - цена квартиры, а по оси абсцисс - исследуемый фактор. Также посчитаем коэффициент корреляции для параметра и last_price."
   ]
  },
  {
   "cell_type": "markdown",
   "metadata": {},
   "source": [
    "Создадим также на данном шаге новый датафрейм для более удобного вывода на Шаге 5. В него будем вносить название терриории, название фактора и коэф. его влияния: там где возможно, это будет коэф. корреляции, а в остальном - специальный коэффициент, удельный вес сотой которого будет рассчитан далее. "
   ]
  },
  {
   "cell_type": "code",
   "execution_count": 64,
   "metadata": {},
   "outputs": [],
   "source": [
    "estate_conq = pd.DataFrame(columns=['area', 'factor', 'coef'], data=[])\n",
    "estate_conq_len = 0"
   ]
  },
  {
   "cell_type": "markdown",
   "metadata": {},
   "source": [
    "Напишем функцию, которая строит график hexbin и считает коэф. корреляции для фактора и last_price. Данная функция подойдет не только для таблицы estate, но и для любого ее среза с условием сохранения названия столбца last_price. Также эта функция корректирует наш итоговый датафрейм."
   ]
  },
  {
   "cell_type": "code",
   "execution_count": 65,
   "metadata": {},
   "outputs": [],
   "source": [
    "def last_price(data, factor):\n",
    "    global estate_conq_len\n",
    "    data.plot(x=factor, y='last_price', kind='hexbin', gridsize=20, sharex=False, grid=True)\n",
    "    corrcoef = abs(round(data['last_price'].corr(data[factor]),2))\n",
    "    if data.shape[0] >= 19000:\n",
    "        area = 'Санкт-Петербург+'\n",
    "    elif data.shape[0] >= 10000:\n",
    "        area = 'Санкт-Петербург'\n",
    "    else:\n",
    "        area = 'Санкт-Петербург-'\n",
    "    estate_conq.loc[estate_conq_len] = [area, factor, corrcoef]\n",
    "    estate_conq_len += 1\n",
    "    return 'Коэф. корреляции: ' + str(corrcoef)"
   ]
  },
  {
   "cell_type": "markdown",
   "metadata": {},
   "source": [
    "Начнем с зависимости цены от площади. Строим график и считаем коэффициент Пирсона. "
   ]
  },
  {
   "cell_type": "code",
   "execution_count": 66,
   "metadata": {},
   "outputs": [
    {
     "data": {
      "text/plain": [
       "'Коэф. корреляции: 0.71'"
      ]
     },
     "execution_count": 66,
     "metadata": {},
     "output_type": "execute_result"
    },
    {
     "data": {
      "image/png": "[encoded data removed]",
      "text/plain": [
       "<Figure size 432x288 with 2 Axes>"
      ]
     },
     "metadata": {
      "needs_background": "light"
     },
     "output_type": "display_data"
    }
   ],
   "source": [
    "last_price(estate, 'total_area')"
   ]
  },
  {
   "cell_type": "markdown",
   "metadata": {},
   "source": [
    "Полученный график уже свидетельствует о том, что зависимость между площадью квартиры и ее ценой существует: при определенных значениях total_area параметр last_price принимает некоторые значения куда чаще, чем остальные - об этом говорит нам цвет шестиугольников  - это означает, что есть определенная закономерность, и, как можно заметить, если приглядеться - линейная зависимость; этот факт подтвержает и коэффициент корреляции - он весьма высокий. Делаем вывод - цена квартиры ощутимо зависит от ее площади. "
   ]
  },
  {
   "cell_type": "markdown",
   "metadata": {},
   "source": [
    "Посмотрим, что с числом комнат."
   ]
  },
  {
   "cell_type": "code",
   "execution_count": 67,
   "metadata": {},
   "outputs": [
    {
     "data": {
      "text/plain": [
       "'Коэф. корреляции: 0.45'"
      ]
     },
     "execution_count": 67,
     "metadata": {},
     "output_type": "execute_result"
    },
    {
     "data": {
      "image/png": "[encoded data removed]",
      "text/plain": [
       "<Figure size 432x288 with 2 Axes>"
      ]
     },
     "metadata": {
      "needs_background": "light"
     },
     "output_type": "display_data"
    }
   ],
   "source": [
    "last_price(estate, 'rooms')"
   ]
  },
  {
   "cell_type": "markdown",
   "metadata": {},
   "source": [
    "График выглядит весьма необычно, но если включить фантазию и провести связь между самыми яркими точками на каждой из линиий, параллельных оси ординат, то можно увидеть что-то вроде прямой, идущей вверх. Это признак линейной зависимости между величинами. Что и подтвержает коэффициент Пирсона - положительный, не маленький. Но все же при рассмотрении данного фактора коэффициент корреляции получился меньше, чем в предыдущем случае. Делаем вывод: цена зависит от количества комнат, но не так сильно, как от площади квартиры. "
   ]
  },
  {
   "cell_type": "markdown",
   "metadata": {},
   "source": [
    "Сейчас мы проделаем еще одну вещь - посчитаем среднюю разницу в цене между квартирами с разным кол-вом комнат и поделим на коэф. корреляции. Так мы получим удельный вес сотой коэффициента корреляции и сможем оценивать параметры, для которых он не вычисляется, более справедливо. Логика данного решения следующая: коэффициент Пирсона подходит для линейной зависимости, а нам надо каким-то образом сравнить влияние факторов, не все из которых влияют  именно так; для таких параметров мы и будем использоваться наш аналог коэффицента корреляции. Если полученные значения не будут согласовываться с выводами, которые мы получим из графиков, мы не будем их (взвешенные коэффициенты) учитывать. "
   ]
  },
  {
   "cell_type": "code",
   "execution_count": 68,
   "metadata": {},
   "outputs": [],
   "source": [
    "differences = []\n",
    "for i in range(1, 5):\n",
    "    differences.append(abs(estate.query('rooms == @i')['last_price'].mean() - \n",
    "    estate.query('rooms == (@i + 1)')['last_price'].mean()))"
   ]
  },
  {
   "cell_type": "code",
   "execution_count": 69,
   "metadata": {},
   "outputs": [],
   "source": [
    "mean_diff = pd.Series(data = differences).mean()\n",
    "weight = round(mean_diff / 45, 0)"
   ]
  },
  {
   "cell_type": "markdown",
   "metadata": {},
   "source": [
    "Изучим зависимость цены от удаленности от центра. "
   ]
  },
  {
   "cell_type": "code",
   "execution_count": 70,
   "metadata": {},
   "outputs": [
    {
     "data": {
      "text/plain": [
       "'Коэф. корреляции: 0.35'"
      ]
     },
     "execution_count": 70,
     "metadata": {},
     "output_type": "execute_result"
    },
    {
     "data": {
      "image/png": "[encoded data removed]",
      "text/plain": [
       "<Figure size 432x288 with 2 Axes>"
      ]
     },
     "metadata": {
      "needs_background": "light"
     },
     "output_type": "display_data"
    }
   ],
   "source": [
    "last_price(estate, 'cityCenters_nearest')"
   ]
  },
  {
   "cell_type": "markdown",
   "metadata": {},
   "source": [
    "Итак, видно, что между величинами отрицательная корреляция. По графику это не так заметно, но все же: большие цены немного чаще встречаются при меньшем расстоянии от центра, кривая уходит вверх при приближении к оси ординат. Значит, цена квартиры зависит от расстояния до центра."
   ]
  },
  {
   "cell_type": "markdown",
   "metadata": {},
   "source": [
    "Посмотрим, зависит ли цена квартиры от категории этажа. Вспомним, цифрой 1 мы обозначали первый этаж, цифрой 2 - другой этаж и цифрой 3 - последний."
   ]
  },
  {
   "cell_type": "code",
   "execution_count": 71,
   "metadata": {},
   "outputs": [
    {
     "data": {
      "text/plain": [
       "'Коэф. корреляции: 0.03'"
      ]
     },
     "execution_count": 71,
     "metadata": {},
     "output_type": "execute_result"
    },
    {
     "data": {
      "image/png": "[encoded data removed]",
      "text/plain": [
       "<Figure size 432x288 with 2 Axes>"
      ]
     },
     "metadata": {
      "needs_background": "light"
     },
     "output_type": "display_data"
    }
   ],
   "source": [
    "last_price(estate, 'floor_cat')"
   ]
  },
  {
   "cell_type": "markdown",
   "metadata": {},
   "source": [
    "По графику ничего особо не скажешь, коэффициент корреляции очень маленький. Вывод: цена квартиры не зависит от этажа? Звучит сомнительно, квартира на первом этаже с видом на скамейки у подъезда, очевидно, менее привлекательна, чем квартира с видом на ночной Петербург с 13 этажа. Посчитаем среднюю цену на квартиру для каждой этажной категории и медиану отдельно и занесем в новую таблицу, построим по ней график. Напишем функцию для таких манипуляций, в дальнейшем пригодится. Опять же, она применима для срезов estate с условием сохранения названия столбца last_price. "
   ]
  },
  {
   "cell_type": "markdown",
   "metadata": {},
   "source": [
    "Подробнее о функции: как параметры она принимает не только название датасета и фактора, но и список marker - это те значения, которые не надо учитывать при рассчете коэффициента и построении графика, здесь это нужно из-за специфики рассматриваемого вопроса - исследования факторов, кои являются категориальными переменными. В теле функции считается разница между максимальными и минимальными медианными и средними значениями, затем их среднее делится на удельный вес сотой нашего 'коэффициента' - мы получаем аналог коэффициента корреляции. "
   ]
  },
  {
   "cell_type": "code",
   "execution_count": 72,
   "metadata": {},
   "outputs": [],
   "source": [
    "def newdf_maker(data, factor, marker=[]):\n",
    "    global estate_conq_len\n",
    "    if data.shape[0] >= 19000:\n",
    "        area = 'Санкт-Петербург+'\n",
    "    elif data.shape[0] >= 10000:\n",
    "        area = 'Санкт-Петербург'\n",
    "    else:\n",
    "        area = 'Санкт-Петербург-'\n",
    "    if len(marker)!= 0:\n",
    "        data = data[~ data[factor].isin(marker)]\n",
    "    newdf = data.groupby(factor).agg({'last_price': ['mean', 'median']})\n",
    "    mean_diff = newdf[('last_price', 'mean')].max() - newdf[('last_price', 'mean')].min() \n",
    "    median_diff = newdf[('last_price', 'median')].max() - newdf[('last_price', 'median')].min()\n",
    "    mean_diff_weighted = round(mean_diff / weight, 2)\n",
    "    median_diff_weighted = round(median_diff / weight, 2)\n",
    "    estate_conq.loc[estate_conq_len] = [area, factor , round((mean_diff_weighted + median_diff_weighted) / 200, 2)]\n",
    "    estate_conq_len += 1\n",
    "    ax = newdf.plot( y=('last_price', 'mean'), label = 'mean_price')\n",
    "    newdf.plot(y=('last_price', 'median'), ax=ax, grid=True, label = 'median_price')"
   ]
  },
  {
   "cell_type": "code",
   "execution_count": 73,
   "metadata": {},
   "outputs": [
    {
     "data": {
      "image/png": "[encoded data removed]",
      "text/plain": [
       "<Figure size 432x288 with 1 Axes>"
      ]
     },
     "metadata": {
      "needs_background": "light"
     },
     "output_type": "display_data"
    }
   ],
   "source": [
    "newdf_maker(estate, 'floor_cat')"
   ]
  },
  {
   "cell_type": "markdown",
   "metadata": {},
   "source": [
    "Получившийся график напоминает квадратичную функцию, поэтому коэффициент Пирсона и 'не взял' эту зависимость - она просто не линейная, но факт ее существования налицо: квартира на первом этаже стоит в среднем почти на миллион (!!!) рублей меньше, чем на этаже, который не является ни первым, ни последним,  квартиры на последних этажах тоже стоят меньше, чем на 'серединочных', но не настолько, как на первых. Вывод: категория этажа, на котором расположена квартира, влияет на ее цену."
   ]
  },
  {
   "cell_type": "markdown",
   "metadata": {},
   "source": [
    "Рассмотрим зависимость цены квартиры от дня публикации объявления: от дня недели, месяца и года. Начнем с дня недели."
   ]
  },
  {
   "cell_type": "code",
   "execution_count": 74,
   "metadata": {},
   "outputs": [
    {
     "data": {
      "text/plain": [
       "'Коэф. корреляции: 0.02'"
      ]
     },
     "execution_count": 74,
     "metadata": {},
     "output_type": "execute_result"
    },
    {
     "data": {
      "image/png": "[encoded data removed]",
      "text/plain": [
       "<Figure size 432x288 with 2 Axes>"
      ]
     },
     "metadata": {
      "needs_background": "light"
     },
     "output_type": "display_data"
    }
   ],
   "source": [
    "last_price(estate, 'day_exposition')"
   ]
  },
  {
   "cell_type": "markdown",
   "metadata": {},
   "source": [
    "Как видно по графику, в выходные появляется меньше объявлений, но в остальном - он там не сильно поможет, так что по аналогии с категориями этажей - создадим новую таблицу со средними и медианными ценами и построим график по ней. Также поступим и дня определения зависимости цены квартиры от месяца и года, помимо этого посчитаем коэффициенты корреляции, а вот графики с 'сотами' больше пока строить не будем. "
   ]
  },
  {
   "cell_type": "code",
   "execution_count": 75,
   "metadata": {},
   "outputs": [
    {
     "data": {
      "image/png": "[encoded data removed]",
      "text/plain": [
       "<Figure size 432x288 with 1 Axes>"
      ]
     },
     "metadata": {
      "needs_background": "light"
     },
     "output_type": "display_data"
    }
   ],
   "source": [
    "newdf_maker(estate, 'day_exposition')"
   ]
  },
  {
   "cell_type": "markdown",
   "metadata": {},
   "source": [
    "Коэффициент корреляции для дня недели и цены мы уже считали - он равен '-0.02', т.е. существует небольшая отрицательная зависимость: ближе к концу недели цена квартир в новых объявлениях ниже. Собственно, примерно то же самое мы видим и на нашем графике: медианная цена, начиная с четверга, падает на 100 т.р., средняя - падает с пятницы. "
   ]
  },
  {
   "cell_type": "markdown",
   "metadata": {},
   "source": [
    "Посмотрим на зависимость от месяца размещения объявления. "
   ]
  },
  {
   "cell_type": "code",
   "execution_count": 76,
   "metadata": {},
   "outputs": [
    {
     "data": {
      "text/plain": [
       "0.0"
      ]
     },
     "execution_count": 76,
     "metadata": {},
     "output_type": "execute_result"
    }
   ],
   "source": [
    "round(estate['last_price'].corr(estate['month_exposition']),2)"
   ]
  },
  {
   "cell_type": "code",
   "execution_count": 77,
   "metadata": {},
   "outputs": [
    {
     "data": {
      "image/png": "[encoded data removed]",
      "text/plain": [
       "<Figure size 432x288 with 1 Axes>"
      ]
     },
     "metadata": {
      "needs_background": "light"
     },
     "output_type": "display_data"
    }
   ],
   "source": [
    "newdf_maker(estate, 'month_exposition')"
   ]
  },
  {
   "cell_type": "markdown",
   "metadata": {},
   "source": [
    "В общем, в большинстве месяцев цены средние и медианные выравниваются около постоянного значения, но выделяются два месяца: апрель и июнь, в первом цена ощутимо выше медианы, во втором - ниже. Коэффициент корреляции для данных величин равен 0. Зависит ли цена квартиры от месяца, в который появилось объявление об ее продаже? Скорее да, чем нет. Так, в июне можно хорошо сэкономить на покупке. "
   ]
  },
  {
   "cell_type": "markdown",
   "metadata": {},
   "source": [
    "И последнее, что осталось рассмотреть - зависимость цены квартиры от года публикации. Действует по тому же механизму. Также проверим, одинаково ли бы было количество объявлений во все года: поскольку сервис развивается, очевидно, что сейчас там ежегодно публикуется больше объявлений, чем раньше. А большая разность между количеством объявлений может влиять на корректность определения закономерности."
   ]
  },
  {
   "cell_type": "code",
   "execution_count": 78,
   "metadata": {},
   "outputs": [
    {
     "data": {
      "text/plain": [
       "0.03"
      ]
     },
     "execution_count": 78,
     "metadata": {},
     "output_type": "execute_result"
    }
   ],
   "source": [
    "round(estate['last_price'].corr(estate['year_exposition']), 2)"
   ]
  },
  {
   "cell_type": "code",
   "execution_count": 79,
   "metadata": {},
   "outputs": [
    {
     "data": {
      "text/plain": [
       "2018    7838\n",
       "2017    7268\n",
       "2019    2603\n",
       "2016    2014\n",
       "2015     490\n",
       "2014       7\n",
       "Name: year_exposition, dtype: int64"
      ]
     },
     "execution_count": 79,
     "metadata": {},
     "output_type": "execute_result"
    }
   ],
   "source": [
    "estate['year_exposition'].value_counts()"
   ]
  },
  {
   "cell_type": "markdown",
   "metadata": {},
   "source": [
    "У нас всего 7 объявлений в 2014 году. Не будем его учитывать."
   ]
  },
  {
   "cell_type": "code",
   "execution_count": 80,
   "metadata": {},
   "outputs": [
    {
     "data": {
      "image/png": "[encoded data removed]",
      "text/plain": [
       "<Figure size 432x288 with 1 Axes>"
      ]
     },
     "metadata": {
      "needs_background": "light"
     },
     "output_type": "display_data"
    }
   ],
   "source": [
    "newdf_maker(estate, 'year_exposition', [2014])"
   ]
  },
  {
   "cell_type": "markdown",
   "metadata": {},
   "source": [
    "Посмотрим, что получилось в нашей итоговой таблице на данный момент - после рассмотрения всего датафрейма. "
   ]
  },
  {
   "cell_type": "markdown",
   "metadata": {},
   "source": [
    "Выводы можно сделать весь интересные. Коэффициент корреляции, к слову, опять совсем небольшой. Цены на квартиры упали в 2015 году примерно на 200 т.р, затем оставались постоянными пару лет, а вот к 2019 году произоешл ощутимый рост, так, промедлив год с жильем, за квартиру пришлось бы заплатить на 400 тысяч рублей больше. Цена квартиры зависит от года публикации объявления. "
   ]
  },
  {
   "cell_type": "code",
   "execution_count": 81,
   "metadata": {},
   "outputs": [
    {
     "data": {
      "text/html": [
       "<div>\n",
       "<style scoped>\n",
       "    .dataframe tbody tr th:only-of-type {\n",
       "        vertical-align: middle;\n",
       "    }\n",
       "\n",
       "    .dataframe tbody tr th {\n",
       "        vertical-align: top;\n",
       "    }\n",
       "\n",
       "    .dataframe thead th {\n",
       "        text-align: right;\n",
       "    }\n",
       "</style>\n",
       "<table border=\"1\" class=\"dataframe\">\n",
       "  <thead>\n",
       "    <tr style=\"text-align: right;\">\n",
       "      <th></th>\n",
       "      <th>area</th>\n",
       "      <th>factor</th>\n",
       "      <th>coef</th>\n",
       "    </tr>\n",
       "  </thead>\n",
       "  <tbody>\n",
       "    <tr>\n",
       "      <td>0</td>\n",
       "      <td>Санкт-Петербург+</td>\n",
       "      <td>total_area</td>\n",
       "      <td>0.71</td>\n",
       "    </tr>\n",
       "    <tr>\n",
       "      <td>1</td>\n",
       "      <td>Санкт-Петербург+</td>\n",
       "      <td>rooms</td>\n",
       "      <td>0.45</td>\n",
       "    </tr>\n",
       "    <tr>\n",
       "      <td>2</td>\n",
       "      <td>Санкт-Петербург+</td>\n",
       "      <td>cityCenters_nearest</td>\n",
       "      <td>0.35</td>\n",
       "    </tr>\n",
       "    <tr>\n",
       "      <td>3</td>\n",
       "      <td>Санкт-Петербург+</td>\n",
       "      <td>floor_cat</td>\n",
       "      <td>0.03</td>\n",
       "    </tr>\n",
       "    <tr>\n",
       "      <td>4</td>\n",
       "      <td>Санкт-Петербург+</td>\n",
       "      <td>floor_cat</td>\n",
       "      <td>0.31</td>\n",
       "    </tr>\n",
       "    <tr>\n",
       "      <td>5</td>\n",
       "      <td>Санкт-Петербург+</td>\n",
       "      <td>day_exposition</td>\n",
       "      <td>0.02</td>\n",
       "    </tr>\n",
       "    <tr>\n",
       "      <td>6</td>\n",
       "      <td>Санкт-Петербург+</td>\n",
       "      <td>day_exposition</td>\n",
       "      <td>0.05</td>\n",
       "    </tr>\n",
       "    <tr>\n",
       "      <td>7</td>\n",
       "      <td>Санкт-Петербург+</td>\n",
       "      <td>month_exposition</td>\n",
       "      <td>0.12</td>\n",
       "    </tr>\n",
       "    <tr>\n",
       "      <td>8</td>\n",
       "      <td>Санкт-Петербург+</td>\n",
       "      <td>year_exposition</td>\n",
       "      <td>0.17</td>\n",
       "    </tr>\n",
       "  </tbody>\n",
       "</table>\n",
       "</div>"
      ],
      "text/plain": [
       "               area               factor  coef\n",
       "0  Санкт-Петербург+           total_area  0.71\n",
       "1  Санкт-Петербург+                rooms  0.45\n",
       "2  Санкт-Петербург+  cityCenters_nearest  0.35\n",
       "3  Санкт-Петербург+            floor_cat  0.03\n",
       "4  Санкт-Петербург+            floor_cat  0.31\n",
       "5  Санкт-Петербург+       day_exposition  0.02\n",
       "6  Санкт-Петербург+       day_exposition  0.05\n",
       "7  Санкт-Петербург+     month_exposition  0.12\n",
       "8  Санкт-Петербург+      year_exposition  0.17"
      ]
     },
     "execution_count": 81,
     "metadata": {},
     "output_type": "execute_result"
    }
   ],
   "source": [
    "estate_conq"
   ]
  },
  {
   "cell_type": "markdown",
   "metadata": {},
   "source": [
    "Параметры floor_cat и day_exposition дважды появились в таблице. Удалим некорректные строки."
   ]
  },
  {
   "cell_type": "code",
   "execution_count": 82,
   "metadata": {},
   "outputs": [],
   "source": [
    "estate_conq = estate_conq.drop([3, 5]).reset_index(drop=True)\n",
    "estate_conq_len -= 2"
   ]
  },
  {
   "cell_type": "code",
   "execution_count": 83,
   "metadata": {},
   "outputs": [
    {
     "data": {
      "text/html": [
       "<div>\n",
       "<style scoped>\n",
       "    .dataframe tbody tr th:only-of-type {\n",
       "        vertical-align: middle;\n",
       "    }\n",
       "\n",
       "    .dataframe tbody tr th {\n",
       "        vertical-align: top;\n",
       "    }\n",
       "\n",
       "    .dataframe thead th {\n",
       "        text-align: right;\n",
       "    }\n",
       "</style>\n",
       "<table border=\"1\" class=\"dataframe\">\n",
       "  <thead>\n",
       "    <tr style=\"text-align: right;\">\n",
       "      <th></th>\n",
       "      <th>area</th>\n",
       "      <th>factor</th>\n",
       "      <th>coef</th>\n",
       "    </tr>\n",
       "  </thead>\n",
       "  <tbody>\n",
       "    <tr>\n",
       "      <td>0</td>\n",
       "      <td>Санкт-Петербург+</td>\n",
       "      <td>total_area</td>\n",
       "      <td>0.71</td>\n",
       "    </tr>\n",
       "    <tr>\n",
       "      <td>1</td>\n",
       "      <td>Санкт-Петербург+</td>\n",
       "      <td>rooms</td>\n",
       "      <td>0.45</td>\n",
       "    </tr>\n",
       "    <tr>\n",
       "      <td>2</td>\n",
       "      <td>Санкт-Петербург+</td>\n",
       "      <td>cityCenters_nearest</td>\n",
       "      <td>0.35</td>\n",
       "    </tr>\n",
       "    <tr>\n",
       "      <td>3</td>\n",
       "      <td>Санкт-Петербург+</td>\n",
       "      <td>floor_cat</td>\n",
       "      <td>0.31</td>\n",
       "    </tr>\n",
       "    <tr>\n",
       "      <td>4</td>\n",
       "      <td>Санкт-Петербург+</td>\n",
       "      <td>day_exposition</td>\n",
       "      <td>0.05</td>\n",
       "    </tr>\n",
       "    <tr>\n",
       "      <td>5</td>\n",
       "      <td>Санкт-Петербург+</td>\n",
       "      <td>month_exposition</td>\n",
       "      <td>0.12</td>\n",
       "    </tr>\n",
       "    <tr>\n",
       "      <td>6</td>\n",
       "      <td>Санкт-Петербург+</td>\n",
       "      <td>year_exposition</td>\n",
       "      <td>0.17</td>\n",
       "    </tr>\n",
       "  </tbody>\n",
       "</table>\n",
       "</div>"
      ],
      "text/plain": [
       "               area               factor  coef\n",
       "0  Санкт-Петербург+           total_area  0.71\n",
       "1  Санкт-Петербург+                rooms  0.45\n",
       "2  Санкт-Петербург+  cityCenters_nearest  0.35\n",
       "3  Санкт-Петербург+            floor_cat  0.31\n",
       "4  Санкт-Петербург+       day_exposition  0.05\n",
       "5  Санкт-Петербург+     month_exposition  0.12\n",
       "6  Санкт-Петербург+      year_exposition  0.17"
      ]
     },
     "execution_count": 83,
     "metadata": {},
     "output_type": "execute_result"
    }
   ],
   "source": [
    "estate_conq"
   ]
  },
  {
   "cell_type": "markdown",
   "metadata": {},
   "source": [
    "**Какие факторы влияют на цену квартиры больше всего?** Итак, в данном подпункте мы рассмотрели 7 факторов. Для трех из них мы посчитали коэффициент корреляции, а еще для четырех - его аналог. Настало время сделать выводы. Располагая наши факторы, опираясь на значение фактора, по убыванию значимости, мы получим: площадь квартиры, количество комнат, расстояние до центра, категория этажа, год публикации, месяц публикации и день публикации. Полученный результат согласуется с реальностью: действительно, площадь квартиры обычно оказывает большее влияние на ее цену, чем то, в какой день недели было опубликовано объявление.  "
   ]
  },
  {
   "cell_type": "markdown",
   "metadata": {},
   "source": [
    "Наш аналог коэффициента корреляции был рассчитан с учетом разницы между ценами квартир, принадлежащих к различным категориям. Поэтому числа, полученные в таблице, и согласуются со следующим обоснованием: площадь квартиры, количество комнат в ней, расстояние до центра и категория этажа имеют большее влияние на цену, чем остальные три фактора, потому что, разница между квартирами разной площади, например, может исчисляться миллионами рублей, а разница между ценами одинаковых по всем параметрам квартир, но опубликованных в разные дни недели - сотнями тысяч рублей. "
   ]
  },
  {
   "cell_type": "markdown",
   "metadata": {},
   "source": [
    "**Вывод по подпункту**: расположим факторы по степени влияния так: 1) площадь квартиры, 2) число комнат, 3) удаленность от центра, этаж, 4) год публикации. Это параметры, которые влияют сильнее всего на цену квартиры, по порядку."
   ]
  },
  {
   "cell_type": "markdown",
   "metadata": {},
   "source": [
    "<h3> Поиск населенного пункта с самой высокой и низкой стоимостью жилья</h3>\n",
    "<a id='locality_search'></a>"
   ]
  },
  {
   "cell_type": "markdown",
   "metadata": {},
   "source": [
    "Наша задача в этом подпункте: выбрать 10 населённых пунктов с наибольшим числом объявлений, посчитать среднюю цену квадратного метра в этих населённых пунктах, выделить среди них населённые пункты с самой высокой и низкой стоимостью жилья."
   ]
  },
  {
   "cell_type": "markdown",
   "metadata": {},
   "source": [
    "Под нашу задачу создадим новый датафрейм: каждая строка будет содержать название того самого населенного пункта и среднюю цену квадратного метра в нем. "
   ]
  },
  {
   "cell_type": "code",
   "execution_count": 84,
   "metadata": {},
   "outputs": [],
   "source": [
    "estate_sqmet = pd.DataFrame(columns=['name', 'sqmeter_price'], data=[])"
   ]
  },
  {
   "cell_type": "markdown",
   "metadata": {},
   "source": [
    "Найдем такие населенные пункты и их названия занесем в нашу таблицу. Для каждой локации посчитаем среднюю цену квадратного метра и тоже занесем в датафрейм. Посмотрим, что получилось."
   ]
  },
  {
   "cell_type": "code",
   "execution_count": 85,
   "metadata": {},
   "outputs": [],
   "source": [
    "temporary = estate['locality_name'].value_counts().head(10).index"
   ]
  },
  {
   "cell_type": "code",
   "execution_count": 86,
   "metadata": {},
   "outputs": [],
   "source": [
    "for i in range(10):\n",
    "    village = temporary[i]\n",
    "    estate_sqmet.loc[i] = [village, \n",
    "                          round(estate[estate['locality_name'] == village]['meter_price'].mean(),2)]"
   ]
  },
  {
   "cell_type": "code",
   "execution_count": 87,
   "metadata": {},
   "outputs": [
    {
     "data": {
      "text/html": [
       "<div>\n",
       "<style scoped>\n",
       "    .dataframe tbody tr th:only-of-type {\n",
       "        vertical-align: middle;\n",
       "    }\n",
       "\n",
       "    .dataframe tbody tr th {\n",
       "        vertical-align: top;\n",
       "    }\n",
       "\n",
       "    .dataframe thead th {\n",
       "        text-align: right;\n",
       "    }\n",
       "</style>\n",
       "<table border=\"1\" class=\"dataframe\">\n",
       "  <thead>\n",
       "    <tr style=\"text-align: right;\">\n",
       "      <th></th>\n",
       "      <th>name</th>\n",
       "      <th>sqmeter_price</th>\n",
       "    </tr>\n",
       "  </thead>\n",
       "  <tbody>\n",
       "    <tr>\n",
       "      <td>0</td>\n",
       "      <td>Санкт-Петербург</td>\n",
       "      <td>105819.29</td>\n",
       "    </tr>\n",
       "    <tr>\n",
       "      <td>1</td>\n",
       "      <td>посёлок Мурино</td>\n",
       "      <td>85492.08</td>\n",
       "    </tr>\n",
       "    <tr>\n",
       "      <td>2</td>\n",
       "      <td>посёлок Шушары</td>\n",
       "      <td>78348.53</td>\n",
       "    </tr>\n",
       "    <tr>\n",
       "      <td>3</td>\n",
       "      <td>Всеволожск</td>\n",
       "      <td>67081.61</td>\n",
       "    </tr>\n",
       "    <tr>\n",
       "      <td>4</td>\n",
       "      <td>Колпино</td>\n",
       "      <td>75170.82</td>\n",
       "    </tr>\n",
       "    <tr>\n",
       "      <td>5</td>\n",
       "      <td>Пушкин</td>\n",
       "      <td>100133.28</td>\n",
       "    </tr>\n",
       "    <tr>\n",
       "      <td>6</td>\n",
       "      <td>посёлок Парголово</td>\n",
       "      <td>90081.73</td>\n",
       "    </tr>\n",
       "    <tr>\n",
       "      <td>7</td>\n",
       "      <td>Гатчина</td>\n",
       "      <td>68509.08</td>\n",
       "    </tr>\n",
       "    <tr>\n",
       "      <td>8</td>\n",
       "      <td>деревня Кудрово</td>\n",
       "      <td>92503.25</td>\n",
       "    </tr>\n",
       "    <tr>\n",
       "      <td>9</td>\n",
       "      <td>Выборг</td>\n",
       "      <td>57949.05</td>\n",
       "    </tr>\n",
       "  </tbody>\n",
       "</table>\n",
       "</div>"
      ],
      "text/plain": [
       "                name  sqmeter_price\n",
       "0    Санкт-Петербург      105819.29\n",
       "1     посёлок Мурино       85492.08\n",
       "2     посёлок Шушары       78348.53\n",
       "3         Всеволожск       67081.61\n",
       "4            Колпино       75170.82\n",
       "5             Пушкин      100133.28\n",
       "6  посёлок Парголово       90081.73\n",
       "7            Гатчина       68509.08\n",
       "8    деревня Кудрово       92503.25\n",
       "9             Выборг       57949.05"
      ]
     },
     "execution_count": 87,
     "metadata": {},
     "output_type": "execute_result"
    }
   ],
   "source": [
    "estate_sqmet"
   ]
  },
  {
   "cell_type": "markdown",
   "metadata": {},
   "source": [
    "Найдем в таблице интересующую нас информацию, для этого просто отсортируем ее."
   ]
  },
  {
   "cell_type": "code",
   "execution_count": 88,
   "metadata": {},
   "outputs": [
    {
     "data": {
      "text/html": [
       "<div>\n",
       "<style scoped>\n",
       "    .dataframe tbody tr th:only-of-type {\n",
       "        vertical-align: middle;\n",
       "    }\n",
       "\n",
       "    .dataframe tbody tr th {\n",
       "        vertical-align: top;\n",
       "    }\n",
       "\n",
       "    .dataframe thead th {\n",
       "        text-align: right;\n",
       "    }\n",
       "</style>\n",
       "<table border=\"1\" class=\"dataframe\">\n",
       "  <thead>\n",
       "    <tr style=\"text-align: right;\">\n",
       "      <th></th>\n",
       "      <th>name</th>\n",
       "      <th>sqmeter_price</th>\n",
       "    </tr>\n",
       "  </thead>\n",
       "  <tbody>\n",
       "    <tr>\n",
       "      <td>0</td>\n",
       "      <td>Санкт-Петербург</td>\n",
       "      <td>105819.29</td>\n",
       "    </tr>\n",
       "    <tr>\n",
       "      <td>5</td>\n",
       "      <td>Пушкин</td>\n",
       "      <td>100133.28</td>\n",
       "    </tr>\n",
       "    <tr>\n",
       "      <td>8</td>\n",
       "      <td>деревня Кудрово</td>\n",
       "      <td>92503.25</td>\n",
       "    </tr>\n",
       "    <tr>\n",
       "      <td>6</td>\n",
       "      <td>посёлок Парголово</td>\n",
       "      <td>90081.73</td>\n",
       "    </tr>\n",
       "    <tr>\n",
       "      <td>1</td>\n",
       "      <td>посёлок Мурино</td>\n",
       "      <td>85492.08</td>\n",
       "    </tr>\n",
       "    <tr>\n",
       "      <td>2</td>\n",
       "      <td>посёлок Шушары</td>\n",
       "      <td>78348.53</td>\n",
       "    </tr>\n",
       "    <tr>\n",
       "      <td>4</td>\n",
       "      <td>Колпино</td>\n",
       "      <td>75170.82</td>\n",
       "    </tr>\n",
       "    <tr>\n",
       "      <td>7</td>\n",
       "      <td>Гатчина</td>\n",
       "      <td>68509.08</td>\n",
       "    </tr>\n",
       "    <tr>\n",
       "      <td>3</td>\n",
       "      <td>Всеволожск</td>\n",
       "      <td>67081.61</td>\n",
       "    </tr>\n",
       "    <tr>\n",
       "      <td>9</td>\n",
       "      <td>Выборг</td>\n",
       "      <td>57949.05</td>\n",
       "    </tr>\n",
       "  </tbody>\n",
       "</table>\n",
       "</div>"
      ],
      "text/plain": [
       "                name  sqmeter_price\n",
       "0    Санкт-Петербург      105819.29\n",
       "5             Пушкин      100133.28\n",
       "8    деревня Кудрово       92503.25\n",
       "6  посёлок Парголово       90081.73\n",
       "1     посёлок Мурино       85492.08\n",
       "2     посёлок Шушары       78348.53\n",
       "4            Колпино       75170.82\n",
       "7            Гатчина       68509.08\n",
       "3         Всеволожск       67081.61\n",
       "9             Выборг       57949.05"
      ]
     },
     "execution_count": 88,
     "metadata": {},
     "output_type": "execute_result"
    }
   ],
   "source": [
    "estate_sqmet.sort_values(by='sqmeter_price', ascending=False)"
   ]
  },
  {
   "cell_type": "markdown",
   "metadata": {},
   "source": [
    "Итак, среди населенных пунктов с наибольшим числом объявлений самая высокая цена за квадратный метр в Санкт-Петербурге, а самая маленькая - в Выборге."
   ]
  },
  {
   "cell_type": "markdown",
   "metadata": {},
   "source": [
    "**Вывод по подпункту**: итак, в данном разделе мы нашли населенный пункт с самой большой стоимостью квадратного метра и населенный пункт с самой маленькой ценой за квадратный метр; лидер рейтинга никого не удивит - квартира в культурной столице вряд ли может стоить сильно дешево, а вот факт того, что кв. метр в Выборге стоит почти в два раза меньше, немного поражает. Неужели это настолько далеко? ... "
   ]
  },
  {
   "cell_type": "markdown",
   "metadata": {},
   "source": [
    "<h3>Определение центральной зоны Петербурга</h3>\n",
    "<a id='center'> </a>"
   ]
  },
  {
   "cell_type": "markdown",
   "metadata": {},
   "source": [
    "Итак, наша следующая задача в рамках этого проекта: выделить квартиры в Санкт-Петербурге, выяснить, какая область входит в центр. "
   ]
  },
  {
   "cell_type": "markdown",
   "metadata": {},
   "source": [
    "Мы создадим столбец с расстоянием до центра в километрах, после этого посчитаем среднюю цену для каждого километра, построим график: он должен показывать, как цена зависит от удалённости от центра. Определим границу, где график сильно меняется — это и будет центральная зона."
   ]
  },
  {
   "cell_type": "markdown",
   "metadata": {},
   "source": [
    "Для начала сделаем срез квартир в Петербурге, далее будем работать только с ним. Сохраним его в отдельную переменную."
   ]
  },
  {
   "cell_type": "code",
   "execution_count": 89,
   "metadata": {},
   "outputs": [],
   "source": [
    "estate_sp = estate[estate['locality_name'] == 'Санкт-Петербург'].reset_index(drop=True)"
   ]
  },
  {
   "cell_type": "markdown",
   "metadata": {},
   "source": [
    "Создадим новый столбец с целочисленными значениями километров до центра. Напишем функцию для этого."
   ]
  },
  {
   "cell_type": "code",
   "execution_count": 90,
   "metadata": {},
   "outputs": [],
   "source": [
    "def rounder(kilom):\n",
    "    return round(kilom/1000,0)"
   ]
  },
  {
   "cell_type": "code",
   "execution_count": 91,
   "metadata": {},
   "outputs": [
    {
     "data": {
      "text/plain": [
       "1.0"
      ]
     },
     "execution_count": 91,
     "metadata": {},
     "output_type": "execute_result"
    }
   ],
   "source": [
    "rounder(1002)"
   ]
  },
  {
   "cell_type": "code",
   "execution_count": 92,
   "metadata": {},
   "outputs": [],
   "source": [
    "estate_sp['kilo_center'] = estate_sp['cityCenters_nearest'].apply(rounder)"
   ]
  },
  {
   "cell_type": "markdown",
   "metadata": {},
   "source": [
    "Сгруппируем таблицу по столбцу kilo_center, посчитаем среднюю цену для каждого километра и построим график."
   ]
  },
  {
   "cell_type": "code",
   "execution_count": 93,
   "metadata": {},
   "outputs": [
    {
     "data": {
      "image/png": "[encoded data removed]",
      "text/plain": [
       "<Figure size 432x288 with 1 Axes>"
      ]
     },
     "metadata": {
      "needs_background": "light"
     },
     "output_type": "display_data"
    }
   ],
   "source": [
    "newdf_maker(estate_sp, 'kilo_center')"
   ]
  },
  {
   "cell_type": "markdown",
   "metadata": {},
   "source": [
    "Сделаем вывод: график сильно меняется 7-8 километре, значит, центр ограничен значением 8 км."
   ]
  },
  {
   "cell_type": "markdown",
   "metadata": {},
   "source": [
    "**Вывод по подпункту**: итак, в данном подпункте мы определили центральную зону Петербурга, не обращаясь к картам: центр ограничен радиусом 8 километров, невероятно!"
   ]
  },
  {
   "cell_type": "markdown",
   "metadata": {},
   "source": [
    "<h3>Сравнение параметров центральной зоны Петербурга и параметров всего города</h3>\n",
    "<a id='spb'></a>"
   ]
  },
  {
   "cell_type": "markdown",
   "metadata": {},
   "source": [
    "Итак, в прошлом пункте мы выделили центральную зону города. Нам необходимо проанализировать эту территорию и изучить следующие параметры: площадь, цена, число комнат, высота потолков; выделить факторы, которые влияют на стоимость квартиры (число комнат, этаж, удалённость от центра, дата размещения объявления), сделать выводы и сравнить их с общими выводами по всему городу."
   ]
  },
  {
   "cell_type": "markdown",
   "metadata": {},
   "source": [
    "Первым делом - сделаем срез квартир, расположенных в центре и изучим его."
   ]
  },
  {
   "cell_type": "code",
   "execution_count": 94,
   "metadata": {},
   "outputs": [],
   "source": [
    "estate_spc = estate_sp.query('kilo_center <=8').reset_index(drop=True)"
   ]
  },
  {
   "cell_type": "markdown",
   "metadata": {},
   "source": [
    "Построим гистограммы для столбцов total_area, last_price, rooms, ceiling_height и сделаем по ним выводы."
   ]
  },
  {
   "cell_type": "code",
   "execution_count": 95,
   "metadata": {},
   "outputs": [
    {
     "data": {
      "text/plain": [
       "167.0"
      ]
     },
     "execution_count": 95,
     "metadata": {},
     "output_type": "execute_result"
    }
   ],
   "source": [
    "estate_spc['total_area'].max()"
   ]
  },
  {
   "cell_type": "code",
   "execution_count": 96,
   "metadata": {},
   "outputs": [
    {
     "data": {
      "text/plain": [
       "array([[<matplotlib.axes._subplots.AxesSubplot object at 0x00000145453634C8>]],\n",
       "      dtype=object)"
      ]
     },
     "execution_count": 96,
     "metadata": {},
     "output_type": "execute_result"
    },
    {
     "data": {
      "image/png": "[encoded data removed]",
      "text/plain": [
       "<Figure size 432x288 with 1 Axes>"
      ]
     },
     "metadata": {
      "needs_background": "light"
     },
     "output_type": "display_data"
    }
   ],
   "source": [
    "estate_spc.hist('total_area', range=(0,180), bins=9)"
   ]
  },
  {
   "cell_type": "markdown",
   "metadata": {},
   "source": [
    "Итак, большая часть квартир в центре имеет площадь от 40 до 60 кв. метров, почти столько же квартир с площадью от 60 до 80 кв. метров, также существенное количество квартир с площадью от 80 до 100 кв. метров."
   ]
  },
  {
   "cell_type": "code",
   "execution_count": 97,
   "metadata": {},
   "outputs": [
    {
     "data": {
      "text/plain": [
       "6"
      ]
     },
     "execution_count": 97,
     "metadata": {},
     "output_type": "execute_result"
    }
   ],
   "source": [
    "estate_spc['rooms'].max()"
   ]
  },
  {
   "cell_type": "code",
   "execution_count": 98,
   "metadata": {},
   "outputs": [
    {
     "data": {
      "text/plain": [
       "array([[<matplotlib.axes._subplots.AxesSubplot object at 0x000001454276D788>]],\n",
       "      dtype=object)"
      ]
     },
     "execution_count": 98,
     "metadata": {},
     "output_type": "execute_result"
    },
    {
     "data": {
      "image/png": "[encoded data removed]",
      "text/plain": [
       "<Figure size 432x288 with 1 Axes>"
      ]
     },
     "metadata": {
      "needs_background": "light"
     },
     "output_type": "display_data"
    }
   ],
   "source": [
    "estate_spc.hist('rooms', bins=7)"
   ]
  },
  {
   "cell_type": "markdown",
   "metadata": {},
   "source": [
    "Итак, в центре больше всего двухкомнатных квартир, также много и трехкомнатных, при этом, их, на удивление, больше, чем однокомнатных. Вспомним, что по всей выборке однокомнатных почти столько же сколько и двухкомнатных."
   ]
  },
  {
   "cell_type": "code",
   "execution_count": 99,
   "metadata": {},
   "outputs": [
    {
     "data": {
      "text/plain": [
       "12500000.0"
      ]
     },
     "execution_count": 99,
     "metadata": {},
     "output_type": "execute_result"
    }
   ],
   "source": [
    "estate_spc['last_price'].max()"
   ]
  },
  {
   "cell_type": "code",
   "execution_count": 100,
   "metadata": {},
   "outputs": [
    {
     "data": {
      "text/plain": [
       "array([[<matplotlib.axes._subplots.AxesSubplot object at 0x0000014544D9C4C8>]],\n",
       "      dtype=object)"
      ]
     },
     "execution_count": 100,
     "metadata": {},
     "output_type": "execute_result"
    },
    {
     "data": {
      "image/png": "[encoded data removed]",
      "text/plain": [
       "<Figure size 432x288 with 1 Axes>"
      ]
     },
     "metadata": {
      "needs_background": "light"
     },
     "output_type": "display_data"
    }
   ],
   "source": [
    "estate_spc.hist('last_price', bins = 13, range=(0,13000000))"
   ]
  },
  {
   "cell_type": "markdown",
   "metadata": {},
   "source": [
    "Итак, большая часть квартир имеет цену от 6 до 7 млн. рублей, также много квартир с ценами от 5 до 6 млн. рублей и от 7 до 9 млн. рублей. "
   ]
  },
  {
   "cell_type": "code",
   "execution_count": 101,
   "metadata": {},
   "outputs": [
    {
     "data": {
      "text/plain": [
       "4.0"
      ]
     },
     "execution_count": 101,
     "metadata": {},
     "output_type": "execute_result"
    }
   ],
   "source": [
    "estate_spc['ceiling_height'].max()"
   ]
  },
  {
   "cell_type": "code",
   "execution_count": 102,
   "metadata": {},
   "outputs": [
    {
     "data": {
      "text/plain": [
       "array([[<matplotlib.axes._subplots.AxesSubplot object at 0x0000014542DC43C8>]],\n",
       "      dtype=object)"
      ]
     },
     "execution_count": 102,
     "metadata": {},
     "output_type": "execute_result"
    },
    {
     "data": {
      "image/png": "[encoded data removed]",
      "text/plain": [
       "<Figure size 432x288 with 1 Axes>"
      ]
     },
     "metadata": {
      "needs_background": "light"
     },
     "output_type": "display_data"
    }
   ],
   "source": [
    "estate_spc.hist('ceiling_height', bins = 4)"
   ]
  },
  {
   "cell_type": "markdown",
   "metadata": {},
   "source": [
    "Большая часть квартир в центре имеет высоту потолков от 2.8 метров до 3.2 метров. "
   ]
  },
  {
   "cell_type": "markdown",
   "metadata": {},
   "source": [
    "Выделим факторы, которые влияют на стоимость квартиры, отдельно для квартир в Петербурге и центре этого города. Сравним полученные значения. "
   ]
  },
  {
   "cell_type": "markdown",
   "metadata": {},
   "source": [
    "Сейчас нам необходимо провести ту же работу, что мы делали в параграфе, посвященному определению факторов, влияющих на цену квартиры, но не для всей выборки, а для центра Петербурга (estate_spc) и для Петербурга (estate_sp) в сравнении. Вспомним названия исследуемых параметров: total_area, rooms, cityCenters_nearest, floor_cat, day_exposition, month_exposition и year_exposition. Также вспомним, что у нас есть две функции: первая рисует hexbin и считает коэф. корреляции (подойдет для анализа первых трех факторов), а вторая группирует срез по выбранному параметру и строит график зависимости средней/медианной цены от параметра (здесь коэф. Пирсона надо считать отдельно, но как показал опыт - для некоторых параметров он вовсе не показателен, подойдет для крайних четырех факторов). Приступаем."
   ]
  },
  {
   "cell_type": "markdown",
   "metadata": {},
   "source": [
    "Начнем с total_area."
   ]
  },
  {
   "cell_type": "code",
   "execution_count": 103,
   "metadata": {},
   "outputs": [
    {
     "data": {
      "text/plain": [
       "'Коэф. корреляции: 0.8'"
      ]
     },
     "execution_count": 103,
     "metadata": {},
     "output_type": "execute_result"
    },
    {
     "data": {
      "image/png": "[encoded data removed]",
      "text/plain": [
       "<Figure size 432x288 with 2 Axes>"
      ]
     },
     "metadata": {
      "needs_background": "light"
     },
     "output_type": "display_data"
    }
   ],
   "source": [
    "last_price(estate_sp, 'total_area')"
   ]
  },
  {
   "cell_type": "code",
   "execution_count": 104,
   "metadata": {},
   "outputs": [
    {
     "data": {
      "text/plain": [
       "'Коэф. корреляции: 0.71'"
      ]
     },
     "execution_count": 104,
     "metadata": {},
     "output_type": "execute_result"
    },
    {
     "data": {
      "image/png": "[encoded data removed]",
      "text/plain": [
       "<Figure size 432x288 with 2 Axes>"
      ]
     },
     "metadata": {
      "needs_background": "light"
     },
     "output_type": "display_data"
    }
   ],
   "source": [
    "last_price(estate_spc, 'total_area')"
   ]
  },
  {
   "cell_type": "markdown",
   "metadata": {},
   "source": [
    "Итак, что мы видим? Зависимость цены от площадь квартиры для центральной зоны меньше, чем для всего Петербурга; коэффициент корреляции меньше примерно на 10 процентов. Как это можно трактовать? Можно предположить: цену квартиры в центре Петербурга составляет не только площадь квартиры, но и факт того, что она в центре; для квартир вне центра это не актуально, поэтому для них площадь квартиры имеет большее значение."
   ]
  },
  {
   "cell_type": "markdown",
   "metadata": {},
   "source": [
    "Что же с rooms?"
   ]
  },
  {
   "cell_type": "code",
   "execution_count": 105,
   "metadata": {},
   "outputs": [
    {
     "data": {
      "text/plain": [
       "'Коэф. корреляции: 0.52'"
      ]
     },
     "execution_count": 105,
     "metadata": {},
     "output_type": "execute_result"
    },
    {
     "data": {
      "image/png": "[encoded data removed]",
      "text/plain": [
       "<Figure size 432x288 with 2 Axes>"
      ]
     },
     "metadata": {
      "needs_background": "light"
     },
     "output_type": "display_data"
    }
   ],
   "source": [
    "last_price(estate_sp, 'rooms')"
   ]
  },
  {
   "cell_type": "code",
   "execution_count": 106,
   "metadata": {},
   "outputs": [
    {
     "data": {
      "text/plain": [
       "'Коэф. корреляции: 0.49'"
      ]
     },
     "execution_count": 106,
     "metadata": {},
     "output_type": "execute_result"
    },
    {
     "data": {
      "image/png": "[encoded data removed]",
      "text/plain": [
       "<Figure size 432x288 with 2 Axes>"
      ]
     },
     "metadata": {
      "needs_background": "light"
     },
     "output_type": "display_data"
    }
   ],
   "source": [
    "last_price(estate_spc, 'rooms')"
   ]
  },
  {
   "cell_type": "markdown",
   "metadata": {},
   "source": [
    "Интересно, а вот зависимость от количества комнат примерно одинаковая и для центрального района, и для всего города. Видимо вопрос 'спальней большей, спальней меньше' имеет значение даже для жителей центра культурной столицы, но общая динамика та же - для центра коэффициент корреляции меньше."
   ]
  },
  {
   "cell_type": "markdown",
   "metadata": {},
   "source": [
    "Обратимся к столбцу, содержащему расстояние до центра."
   ]
  },
  {
   "cell_type": "code",
   "execution_count": 107,
   "metadata": {},
   "outputs": [
    {
     "data": {
      "text/plain": [
       "'Коэф. корреляции: 0.36'"
      ]
     },
     "execution_count": 107,
     "metadata": {},
     "output_type": "execute_result"
    },
    {
     "data": {
      "image/png": "[encoded data removed]",
      "text/plain": [
       "<Figure size 432x288 with 2 Axes>"
      ]
     },
     "metadata": {
      "needs_background": "light"
     },
     "output_type": "display_data"
    }
   ],
   "source": [
    "last_price(estate_sp, 'cityCenters_nearest')"
   ]
  },
  {
   "cell_type": "code",
   "execution_count": 108,
   "metadata": {},
   "outputs": [
    {
     "data": {
      "text/plain": [
       "'Коэф. корреляции: 0.21'"
      ]
     },
     "execution_count": 108,
     "metadata": {},
     "output_type": "execute_result"
    },
    {
     "data": {
      "image/png": "[encoded data removed]",
      "text/plain": [
       "<Figure size 432x288 with 2 Axes>"
      ]
     },
     "metadata": {
      "needs_background": "light"
     },
     "output_type": "display_data"
    }
   ],
   "source": [
    "last_price(estate_spc, 'cityCenters_nearest')"
   ]
  },
  {
   "cell_type": "markdown",
   "metadata": {},
   "source": [
    "А вот и очень интересный вывод: коэффициент корреляции для данного параметра на треть меньше для центральной зоны относительно всего города. Трактуем: когда квартира просто в Петербурге, расстояние до центра имеет некоторое значение, а вот когда она уже в центральной зоне города - этот параметр обесценивается, потому что в центре - значит в центре, и уже не имеет значение расстояние до какой-то конкретной более центральной точки. "
   ]
  },
  {
   "cell_type": "markdown",
   "metadata": {},
   "source": [
    "Исследуем зависимость от категории этажа."
   ]
  },
  {
   "cell_type": "code",
   "execution_count": 109,
   "metadata": {},
   "outputs": [
    {
     "data": {
      "image/png": "[encoded data removed]",
      "text/plain": [
       "<Figure size 432x288 with 1 Axes>"
      ]
     },
     "metadata": {
      "needs_background": "light"
     },
     "output_type": "display_data"
    }
   ],
   "source": [
    "newdf_maker(estate_sp, 'floor_cat')"
   ]
  },
  {
   "cell_type": "code",
   "execution_count": 110,
   "metadata": {},
   "outputs": [
    {
     "data": {
      "image/png": "[encoded data removed]",
      "text/plain": [
       "<Figure size 432x288 with 1 Axes>"
      ]
     },
     "metadata": {
      "needs_background": "light"
     },
     "output_type": "display_data"
    }
   ],
   "source": [
    "newdf_maker(estate_spc, 'floor_cat')"
   ]
  },
  {
   "cell_type": "markdown",
   "metadata": {},
   "source": [
    "Первое, на что обратим внимание: если сравнивать эти графики с тем, что мы получили на пару параграфов выше - для floor_cat для всей таблицы, можно сделать очень необычные заключения, но это останется не озвученным до Шага 5; второе - в центре города квартиры на первом этаже стоят сильно дешевле квартир на других этажах (даже на последнем): на 1 - 1,5 млн. (!!!) рублей, чем может быть это вызвано? ну, выдвинем теорию: в центре такого города как Питер шумно и много людей, и до первого этажа этот шум и хаос доносится куда легче, чем до пятого, например, в общем, жить на первом этажа в центре Петербурга - не очень приятно, а вот для всего города - разница уже не такая большая; если исключить влияние такого 'перекоса' в центральной зоне на данные по всему городу, то, возможно, мы бы обнаружили, что для окраин это и вовсе значение не имеет; третье - разницы в цене между квартирами на других этажах и последних особо нет."
   ]
  },
  {
   "cell_type": "code",
   "execution_count": 111,
   "metadata": {},
   "outputs": [
    {
     "data": {
      "image/png": "[encoded data removed]",
      "text/plain": [
       "<Figure size 432x288 with 1 Axes>"
      ]
     },
     "metadata": {
      "needs_background": "light"
     },
     "output_type": "display_data"
    }
   ],
   "source": [
    "newdf_maker(estate_sp, 'day_exposition')"
   ]
  },
  {
   "cell_type": "code",
   "execution_count": 112,
   "metadata": {},
   "outputs": [
    {
     "data": {
      "image/png": "[encoded data removed]",
      "text/plain": [
       "<Figure size 432x288 with 1 Axes>"
      ]
     },
     "metadata": {
      "needs_background": "light"
     },
     "output_type": "display_data"
    }
   ],
   "source": [
    "newdf_maker(estate_spc, 'day_exposition', [5,6])"
   ]
  },
  {
   "cell_type": "markdown",
   "metadata": {},
   "source": [
    "Коэффициент корреляции для этого и последующих параметров (как и для floor_cat, кстати) мы считать не будем. Исследование выше дало нам понять, что для этих четырех факторов он не является показательным. "
   ]
  },
  {
   "cell_type": "markdown",
   "metadata": {},
   "source": [
    "Обратимся к графикам. Первое, что бросается в глаза - для всего города зависимость цены от дня публикации объявления плавная, а для центра скачкообразная и ломанная. Убедимся, что в срезе для estate_spc достаточно данных для опредения такого рода закономерностей."
   ]
  },
  {
   "cell_type": "code",
   "execution_count": 113,
   "metadata": {},
   "outputs": [
    {
     "data": {
      "text/plain": [
       "3    503\n",
       "4    460\n",
       "1    434\n",
       "2    428\n",
       "0    374\n",
       "5    205\n",
       "6    148\n",
       "Name: day_exposition, dtype: int64"
      ]
     },
     "execution_count": 113,
     "metadata": {},
     "output_type": "execute_result"
    }
   ],
   "source": [
    "estate_spc['day_exposition'].value_counts()"
   ]
  },
  {
   "cell_type": "markdown",
   "metadata": {},
   "source": [
    "Как и ожидалось, в субботу и воскресенье меньше всего объявлений, не будем учитывать эти два дня (для estate_spc) при анализе. Посмотрим на зависимость цены от дня недели для дней от понедельника до пятницы: в целом, для центра Питера и для всего город динамика одинаковая: средние значения колеблются около одних значений; и медианные, и средние значения для обоих срезов становятся меньше к концу недели; выбивается только медиана цены для объявлений о квартирах в центре - цена сильно падает в четверг. С чем это связано - непонятно. Может у жителей центра Петербурга к четвергу не выдерживают нервы от туристов во дворах и они решают продать квартиру как можно скорее (поэтому цена низкая) и уехать? "
   ]
  },
  {
   "cell_type": "markdown",
   "metadata": {},
   "source": [
    "Посмотрим на зависимость от месяца."
   ]
  },
  {
   "cell_type": "code",
   "execution_count": 114,
   "metadata": {},
   "outputs": [
    {
     "data": {
      "image/png": "[encoded data removed]",
      "text/plain": [
       "<Figure size 432x288 with 1 Axes>"
      ]
     },
     "metadata": {
      "needs_background": "light"
     },
     "output_type": "display_data"
    }
   ],
   "source": [
    "newdf_maker(estate_sp, 'month_exposition')"
   ]
  },
  {
   "cell_type": "code",
   "execution_count": 115,
   "metadata": {},
   "outputs": [
    {
     "data": {
      "image/png": "[encoded data removed]",
      "text/plain": [
       "<Figure size 432x288 with 1 Axes>"
      ]
     },
     "metadata": {
      "needs_background": "light"
     },
     "output_type": "display_data"
    }
   ],
   "source": [
    "newdf_maker(estate_spc, 'month_exposition')"
   ]
  },
  {
   "cell_type": "markdown",
   "metadata": {},
   "source": [
    "В целом, полученные графики похожи: минимальные значения в 5,6 и 10 месяцах (пока не смотрим на декабрь), максимальные в 3 и 9 месяц. Немного не совпадают данные по апрелю (4), так - в центральном районе квартиры стоят дешевле в этом месяце, чем в марте, а вот по всему городу цена остается прежней, но самое большое несовпадение - это декабрь. Невооруженным взглядом видно, что для графика об объявлениях в центре - это минимум, в то время как для графика по всему городу - максимум. Как такое может быть? Квартиры в городе растут в цене, а в центре сильно обесцениваются. Разгадка может быть в количестве объявлений, ведь известный факт - чем меньше значений, тем хуже проявляется закономерность. Проверим."
   ]
  },
  {
   "cell_type": "code",
   "execution_count": 116,
   "metadata": {},
   "outputs": [
    {
     "data": {
      "text/plain": [
       "2     271\n",
       "3     257\n",
       "4     250\n",
       "11    246\n",
       "9     236\n",
       "10    222\n",
       "8     202\n",
       "6     201\n",
       "7     199\n",
       "12    172\n",
       "5     149\n",
       "1     147\n",
       "Name: month_exposition, dtype: int64"
      ]
     },
     "execution_count": 116,
     "metadata": {},
     "output_type": "execute_result"
    }
   ],
   "source": [
    "estate_spc['month_exposition'].value_counts()"
   ]
  },
  {
   "cell_type": "markdown",
   "metadata": {},
   "source": [
    "С этим все в порядке. В чем же дело? Как и в деле с загадочным четвергом, ответа нет. Но в общем: цена квартиры в центре и во всем Петербурге зависит от месяца, для всех объявлений актуально то, что, квартиры, размещенные в мае, июне и октябре стоят дешевле всего, а объявления, сделанные в марте и сентября, продают квартиры подороже, и еще - в декабре продаются относительно более дешевые квартиры в центре и относительно менее дорогие во всем Питере."
   ]
  },
  {
   "cell_type": "markdown",
   "metadata": {},
   "source": [
    "Рассмотрим последний параметр - зависимость от года публикации объявления."
   ]
  },
  {
   "cell_type": "code",
   "execution_count": 117,
   "metadata": {},
   "outputs": [
    {
     "data": {
      "image/png": "[encoded data removed]",
      "text/plain": [
       "<Figure size 432x288 with 1 Axes>"
      ]
     },
     "metadata": {
      "needs_background": "light"
     },
     "output_type": "display_data"
    }
   ],
   "source": [
    "newdf_maker(estate_sp, 'year_exposition', [2014])"
   ]
  },
  {
   "cell_type": "code",
   "execution_count": 118,
   "metadata": {},
   "outputs": [
    {
     "data": {
      "image/png": "[encoded data removed]",
      "text/plain": [
       "<Figure size 432x288 with 1 Axes>"
      ]
     },
     "metadata": {
      "needs_background": "light"
     },
     "output_type": "display_data"
    }
   ],
   "source": [
    "newdf_maker(estate_spc, 'year_exposition', [2014])"
   ]
  },
  {
   "cell_type": "markdown",
   "metadata": {},
   "source": [
    "Напоминание: 2014 год мы не учитываем, да и на втором графике его вообще нет. Делаем вывод о зависимости цены квартиры от года публикации объявления для квартиры в Петербурге и для квартиры в его центре: рост цены начинается с 2017 года, так, в объявлениях 2018 года квартиры дороже, а в объявлениях от 2019 - еще дороже - это актуально для всех объявлений; различие в том, что цены на квартиру во всем городе в 2015-2017 одинаковые, а вот для квартир в центре - нет: в 2016 цена растет, а в 2017 падает. "
   ]
  },
  {
   "cell_type": "markdown",
   "metadata": {},
   "source": [
    "Чтобы сделать вывод по данному подпункту, посмотрим на нашу итоговую таблицу. Получим ее срез для Петербурга и его центральной части. "
   ]
  },
  {
   "cell_type": "code",
   "execution_count": 119,
   "metadata": {},
   "outputs": [
    {
     "data": {
      "text/html": [
       "<div>\n",
       "<style scoped>\n",
       "    .dataframe tbody tr th:only-of-type {\n",
       "        vertical-align: middle;\n",
       "    }\n",
       "\n",
       "    .dataframe tbody tr th {\n",
       "        vertical-align: top;\n",
       "    }\n",
       "\n",
       "    .dataframe thead th {\n",
       "        text-align: right;\n",
       "    }\n",
       "</style>\n",
       "<table border=\"1\" class=\"dataframe\">\n",
       "  <thead>\n",
       "    <tr style=\"text-align: right;\">\n",
       "      <th></th>\n",
       "      <th>area</th>\n",
       "      <th>factor</th>\n",
       "      <th>coef</th>\n",
       "    </tr>\n",
       "  </thead>\n",
       "  <tbody>\n",
       "    <tr>\n",
       "      <td>7</td>\n",
       "      <td>Санкт-Петербург</td>\n",
       "      <td>kilo_center</td>\n",
       "      <td>2.33</td>\n",
       "    </tr>\n",
       "    <tr>\n",
       "      <td>8</td>\n",
       "      <td>Санкт-Петербург</td>\n",
       "      <td>total_area</td>\n",
       "      <td>0.80</td>\n",
       "    </tr>\n",
       "    <tr>\n",
       "      <td>9</td>\n",
       "      <td>Санкт-Петербург-</td>\n",
       "      <td>total_area</td>\n",
       "      <td>0.71</td>\n",
       "    </tr>\n",
       "    <tr>\n",
       "      <td>10</td>\n",
       "      <td>Санкт-Петербург</td>\n",
       "      <td>rooms</td>\n",
       "      <td>0.52</td>\n",
       "    </tr>\n",
       "    <tr>\n",
       "      <td>11</td>\n",
       "      <td>Санкт-Петербург-</td>\n",
       "      <td>rooms</td>\n",
       "      <td>0.49</td>\n",
       "    </tr>\n",
       "    <tr>\n",
       "      <td>12</td>\n",
       "      <td>Санкт-Петербург</td>\n",
       "      <td>cityCenters_nearest</td>\n",
       "      <td>0.36</td>\n",
       "    </tr>\n",
       "    <tr>\n",
       "      <td>13</td>\n",
       "      <td>Санкт-Петербург-</td>\n",
       "      <td>cityCenters_nearest</td>\n",
       "      <td>0.21</td>\n",
       "    </tr>\n",
       "    <tr>\n",
       "      <td>14</td>\n",
       "      <td>Санкт-Петербург</td>\n",
       "      <td>floor_cat</td>\n",
       "      <td>0.21</td>\n",
       "    </tr>\n",
       "    <tr>\n",
       "      <td>15</td>\n",
       "      <td>Санкт-Петербург-</td>\n",
       "      <td>floor_cat</td>\n",
       "      <td>0.50</td>\n",
       "    </tr>\n",
       "    <tr>\n",
       "      <td>16</td>\n",
       "      <td>Санкт-Петербург</td>\n",
       "      <td>day_exposition</td>\n",
       "      <td>0.04</td>\n",
       "    </tr>\n",
       "    <tr>\n",
       "      <td>17</td>\n",
       "      <td>Санкт-Петербург-</td>\n",
       "      <td>day_exposition</td>\n",
       "      <td>0.09</td>\n",
       "    </tr>\n",
       "    <tr>\n",
       "      <td>18</td>\n",
       "      <td>Санкт-Петербург</td>\n",
       "      <td>month_exposition</td>\n",
       "      <td>0.10</td>\n",
       "    </tr>\n",
       "    <tr>\n",
       "      <td>19</td>\n",
       "      <td>Санкт-Петербург-</td>\n",
       "      <td>month_exposition</td>\n",
       "      <td>0.28</td>\n",
       "    </tr>\n",
       "    <tr>\n",
       "      <td>20</td>\n",
       "      <td>Санкт-Петербург</td>\n",
       "      <td>year_exposition</td>\n",
       "      <td>0.18</td>\n",
       "    </tr>\n",
       "    <tr>\n",
       "      <td>21</td>\n",
       "      <td>Санкт-Петербург-</td>\n",
       "      <td>year_exposition</td>\n",
       "      <td>0.22</td>\n",
       "    </tr>\n",
       "  </tbody>\n",
       "</table>\n",
       "</div>"
      ],
      "text/plain": [
       "                area               factor  coef\n",
       "7    Санкт-Петербург          kilo_center  2.33\n",
       "8    Санкт-Петербург           total_area  0.80\n",
       "9   Санкт-Петербург-           total_area  0.71\n",
       "10   Санкт-Петербург                rooms  0.52\n",
       "11  Санкт-Петербург-                rooms  0.49\n",
       "12   Санкт-Петербург  cityCenters_nearest  0.36\n",
       "13  Санкт-Петербург-  cityCenters_nearest  0.21\n",
       "14   Санкт-Петербург            floor_cat  0.21\n",
       "15  Санкт-Петербург-            floor_cat  0.50\n",
       "16   Санкт-Петербург       day_exposition  0.04\n",
       "17  Санкт-Петербург-       day_exposition  0.09\n",
       "18   Санкт-Петербург     month_exposition  0.10\n",
       "19  Санкт-Петербург-     month_exposition  0.28\n",
       "20   Санкт-Петербург      year_exposition  0.18\n",
       "21  Санкт-Петербург-      year_exposition  0.22"
      ]
     },
     "execution_count": 119,
     "metadata": {},
     "output_type": "execute_result"
    }
   ],
   "source": [
    "estate_conq.query('area == \"Санкт-Петербург\" or area == \"Санкт-Петербург-\"')"
   ]
  },
  {
   "cell_type": "markdown",
   "metadata": {},
   "source": [
    "Удалим лишние строки - мы вызывали метод, корректирующий таблицу, только для построения графиков в некоторых случаях."
   ]
  },
  {
   "cell_type": "code",
   "execution_count": 120,
   "metadata": {},
   "outputs": [],
   "source": [
    "estate_conq = estate_conq.drop([7]).reset_index(drop=True)"
   ]
  },
  {
   "cell_type": "code",
   "execution_count": 121,
   "metadata": {},
   "outputs": [
    {
     "data": {
      "text/html": [
       "<div>\n",
       "<style scoped>\n",
       "    .dataframe tbody tr th:only-of-type {\n",
       "        vertical-align: middle;\n",
       "    }\n",
       "\n",
       "    .dataframe tbody tr th {\n",
       "        vertical-align: top;\n",
       "    }\n",
       "\n",
       "    .dataframe thead th {\n",
       "        text-align: right;\n",
       "    }\n",
       "</style>\n",
       "<table border=\"1\" class=\"dataframe\">\n",
       "  <thead>\n",
       "    <tr style=\"text-align: right;\">\n",
       "      <th>area</th>\n",
       "      <th>Санкт-Петербург</th>\n",
       "      <th>Санкт-Петербург-</th>\n",
       "    </tr>\n",
       "    <tr>\n",
       "      <th>factor</th>\n",
       "      <th></th>\n",
       "      <th></th>\n",
       "    </tr>\n",
       "  </thead>\n",
       "  <tbody>\n",
       "    <tr>\n",
       "      <td>total_area</td>\n",
       "      <td>0.80</td>\n",
       "      <td>0.71</td>\n",
       "    </tr>\n",
       "    <tr>\n",
       "      <td>rooms</td>\n",
       "      <td>0.52</td>\n",
       "      <td>0.49</td>\n",
       "    </tr>\n",
       "    <tr>\n",
       "      <td>cityCenters_nearest</td>\n",
       "      <td>0.36</td>\n",
       "      <td>0.21</td>\n",
       "    </tr>\n",
       "    <tr>\n",
       "      <td>floor_cat</td>\n",
       "      <td>0.21</td>\n",
       "      <td>0.50</td>\n",
       "    </tr>\n",
       "    <tr>\n",
       "      <td>year_exposition</td>\n",
       "      <td>0.18</td>\n",
       "      <td>0.22</td>\n",
       "    </tr>\n",
       "    <tr>\n",
       "      <td>month_exposition</td>\n",
       "      <td>0.10</td>\n",
       "      <td>0.28</td>\n",
       "    </tr>\n",
       "    <tr>\n",
       "      <td>day_exposition</td>\n",
       "      <td>0.04</td>\n",
       "      <td>0.09</td>\n",
       "    </tr>\n",
       "  </tbody>\n",
       "</table>\n",
       "</div>"
      ],
      "text/plain": [
       "area                 Санкт-Петербург  Санкт-Петербург-\n",
       "factor                                                \n",
       "total_area                      0.80              0.71\n",
       "rooms                           0.52              0.49\n",
       "cityCenters_nearest             0.36              0.21\n",
       "floor_cat                       0.21              0.50\n",
       "year_exposition                 0.18              0.22\n",
       "month_exposition                0.10              0.28\n",
       "day_exposition                  0.04              0.09"
      ]
     },
     "execution_count": 121,
     "metadata": {},
     "output_type": "execute_result"
    }
   ],
   "source": [
    "estate_conq.query('area == \"Санкт-Петербург\" or area == \"Санкт-Петербург-\"').pivot_table(\n",
    "index='factor', columns='area', values='coef', aggfunc='last'\n",
    ").sort_values(by='Санкт-Петербург', ascending=False)"
   ]
  },
  {
   "cell_type": "markdown",
   "metadata": {},
   "source": [
    "**Вывод по подпункту**: мы проделали обширную работу в данном подшаге, посмотрели, что влияет на цену квартиры в центре Санкт-Петербурга и на цену квартиры в Петербурге вообще, сравнили, теперь можем рассказать: и на то, и на другое сильнее всего влияют три фактора: площадь квартиры, количество комнат и... для квартиры в городе - удаленность от центра, а для квартиры в центре - этаж дома. Также интересно: на стоимость квартиры в центре Петербурга, если верить нашему исследованию, сильно влияет месяц публикации объявления. Остальные факторы не так существенны в данном вопросе."
   ]
  },
  {
   "cell_type": "markdown",
   "metadata": {},
   "source": [
    "**Вывод по Шагу 4'Исследовательский анализ данных'**: как видно, это самый объемный Шаг, здесь мы проделали самую важную работу: мы изучили параметры и удалили редкие и выбивающиеся значения, в этом вопросе мы применили навыки работы с диаграммами размаха и гистограммами; мы выделили, какие параметры сильнее всего влияют на цену квартиры для Петербурга и ближних населенных пунктов, а также для Петербурга только отдельно и его центра отдельно; мы определили населенный пункт с самой высокой ценой за квадратный метр и с самой низкой; мы также определили центр города, не опираясь на карту. Теперь мы можем сделать общий вывод по работе, хотя ключевые моменты прояснились уже на этом шаге."
   ]
  },
  {
   "cell_type": "markdown",
   "metadata": {},
   "source": [
    "<h3> Шаг 5: Общие выводы</h3>\n",
    "<a id='conq'></a>"
   ]
  },
  {
   "cell_type": "markdown",
   "metadata": {},
   "source": [
    "Итак, настало время сформулировать общий вывод по проделанной работе. Нашей первоочередной задачей было - определить, какие факторы сильнее всего влияют на стоимость квартиры. Мы исследовали, что это за факторы, для Санкт-Петербурга и ближайших населенных пунктов, просто для Петербурга отдельно и для его центра отдельно. В ходе работы собрали таблицу с названиями факторов, которые могут иметь влияние, и коэффициентами их влияния. Сравним их для трех категорий объявлений, указанных выше. Сделаем сводную таблицу."
   ]
  },
  {
   "cell_type": "code",
   "execution_count": 122,
   "metadata": {},
   "outputs": [],
   "source": [
    "estate_pivot = estate_conq.pivot_table(\n",
    "index='factor', columns='area', values='coef', aggfunc='last'\n",
    ")"
   ]
  },
  {
   "cell_type": "markdown",
   "metadata": {},
   "source": [
    "Добавим в сводную таблицу новый столбец - средний коэффициент для каждого фактора. Напишем для этого функцию."
   ]
  },
  {
   "cell_type": "code",
   "execution_count": 123,
   "metadata": {},
   "outputs": [],
   "source": [
    "areas = estate_conq['area'].unique()\n",
    "def mean_coef(row):\n",
    "    mean_coef = 0\n",
    "    for i in range(3): \n",
    "        mean_coef += row[areas[i]]\n",
    "    return round(mean_coef/3, 2)"
   ]
  },
  {
   "cell_type": "code",
   "execution_count": 124,
   "metadata": {},
   "outputs": [],
   "source": [
    " estate_pivot['mean'] = estate_pivot.apply(mean_coef, axis=1)"
   ]
  },
  {
   "cell_type": "code",
   "execution_count": 125,
   "metadata": {},
   "outputs": [
    {
     "data": {
      "text/html": [
       "<div>\n",
       "<style scoped>\n",
       "    .dataframe tbody tr th:only-of-type {\n",
       "        vertical-align: middle;\n",
       "    }\n",
       "\n",
       "    .dataframe tbody tr th {\n",
       "        vertical-align: top;\n",
       "    }\n",
       "\n",
       "    .dataframe thead th {\n",
       "        text-align: right;\n",
       "    }\n",
       "</style>\n",
       "<table border=\"1\" class=\"dataframe\">\n",
       "  <thead>\n",
       "    <tr style=\"text-align: right;\">\n",
       "      <th>area</th>\n",
       "      <th>Санкт-Петербург</th>\n",
       "      <th>Санкт-Петербург+</th>\n",
       "      <th>Санкт-Петербург-</th>\n",
       "      <th>mean</th>\n",
       "    </tr>\n",
       "    <tr>\n",
       "      <th>factor</th>\n",
       "      <th></th>\n",
       "      <th></th>\n",
       "      <th></th>\n",
       "      <th></th>\n",
       "    </tr>\n",
       "  </thead>\n",
       "  <tbody>\n",
       "    <tr>\n",
       "      <td>total_area</td>\n",
       "      <td>0.80</td>\n",
       "      <td>0.71</td>\n",
       "      <td>0.71</td>\n",
       "      <td>0.74</td>\n",
       "    </tr>\n",
       "    <tr>\n",
       "      <td>rooms</td>\n",
       "      <td>0.52</td>\n",
       "      <td>0.45</td>\n",
       "      <td>0.49</td>\n",
       "      <td>0.49</td>\n",
       "    </tr>\n",
       "    <tr>\n",
       "      <td>floor_cat</td>\n",
       "      <td>0.21</td>\n",
       "      <td>0.31</td>\n",
       "      <td>0.50</td>\n",
       "      <td>0.34</td>\n",
       "    </tr>\n",
       "    <tr>\n",
       "      <td>cityCenters_nearest</td>\n",
       "      <td>0.36</td>\n",
       "      <td>0.35</td>\n",
       "      <td>0.21</td>\n",
       "      <td>0.31</td>\n",
       "    </tr>\n",
       "    <tr>\n",
       "      <td>year_exposition</td>\n",
       "      <td>0.18</td>\n",
       "      <td>0.17</td>\n",
       "      <td>0.22</td>\n",
       "      <td>0.19</td>\n",
       "    </tr>\n",
       "    <tr>\n",
       "      <td>month_exposition</td>\n",
       "      <td>0.10</td>\n",
       "      <td>0.12</td>\n",
       "      <td>0.28</td>\n",
       "      <td>0.17</td>\n",
       "    </tr>\n",
       "    <tr>\n",
       "      <td>day_exposition</td>\n",
       "      <td>0.04</td>\n",
       "      <td>0.05</td>\n",
       "      <td>0.09</td>\n",
       "      <td>0.06</td>\n",
       "    </tr>\n",
       "  </tbody>\n",
       "</table>\n",
       "</div>"
      ],
      "text/plain": [
       "area                 Санкт-Петербург  Санкт-Петербург+  Санкт-Петербург-  mean\n",
       "factor                                                                        \n",
       "total_area                      0.80              0.71              0.71  0.74\n",
       "rooms                           0.52              0.45              0.49  0.49\n",
       "floor_cat                       0.21              0.31              0.50  0.34\n",
       "cityCenters_nearest             0.36              0.35              0.21  0.31\n",
       "year_exposition                 0.18              0.17              0.22  0.19\n",
       "month_exposition                0.10              0.12              0.28  0.17\n",
       "day_exposition                  0.04              0.05              0.09  0.06"
      ]
     },
     "execution_count": 125,
     "metadata": {},
     "output_type": "execute_result"
    }
   ],
   "source": [
    "estate_pivot.sort_values(by='mean', ascending=False)"
   ]
  },
  {
   "cell_type": "markdown",
   "metadata": {},
   "source": [
    "Все, мы получили итоговую таблицу по проекту. То, что нужно было выяснить - как влияют различные факторы на цену квартиры. Сделаем вывод."
   ]
  },
  {
   "cell_type": "markdown",
   "metadata": {},
   "source": [
    "**Вывод по Шагу 5: Общие выводы**: сильнее всего на цену квартиры влияют следующие четыре фактора: площадь квартиры, количество комнат в ней, категория этажа: первый, другой, последний и расстояние до центра города. Если рассматривать более подробно: первый фактор - площадь, имеет одинаково большое влияние для всех местностей (чуть сильнее для Петербурга); второй - количество комнат, занимает почетное второе место в списке влияния с почти одинаковым коэффициентом также для всех типов местности; третий - категория этажа, особое, сильное влияние имеет для квартир в центре Петербурга, вспоминаем, там жить на первом этаже никто не любит (для сравнения, этот фактор имеет в два раза (!) большее влияние для центра, чем для всей таблицы (Питер и ближайшие населенные пункты)); четвертый - расстояние до центра, меньше всего влият на цену жилья в центре Петербурга (центр - есть центр). Также можно выделить дополнительно параметр 'год публикации', что весьма естественно - цены на недвижимость имеют особые тенденции в разные года."
   ]
  }
 ],
 "metadata": {
  "kernelspec": {
   "display_name": "Python 3",
   "language": "python",
   "name": "python3"
  },
  "language_info": {
   "codemirror_mode": {
    "name": "ipython",
    "version": 3
   },
   "file_extension": ".py",
   "mimetype": "text/x-python",
   "name": "python",
   "nbconvert_exporter": "python",
   "pygments_lexer": "ipython3",
   "version": "3.7.8"
  }
 },
 "nbformat": 4,
 "nbformat_minor": 4
}
