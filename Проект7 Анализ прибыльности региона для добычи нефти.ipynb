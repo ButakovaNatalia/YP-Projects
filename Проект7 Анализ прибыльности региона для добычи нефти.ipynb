{
 "cells": [
  {
   "cell_type": "markdown",
   "metadata": {},
   "source": [
    "<h1>Анализ прибыльности региона для добычи нефти</h1>"
   ]
  },
  {
   "cell_type": "markdown",
   "metadata": {},
   "source": [
    "Допустим, мы работаем в добывающей компании «ГлавРосГосНефть». Нужно решить, где бурить новую скважину.\n",
    "Шаги для выбора локации обычно такие:"
   ]
  },
  {
   "cell_type": "markdown",
   "metadata": {},
   "source": [
    "    В избранном регионе собирают характеристики для скважин: качество нефти и объём её запасов;\n",
    "    Строят модель для предсказания объёма запасов в новых скважинах;\n",
    "    Выбирают скважины с самыми высокими оценками значений;\n",
    "    Определяют регион с максимальной суммарной прибылью отобранных скважин."
   ]
  },
  {
   "cell_type": "markdown",
   "metadata": {},
   "source": [
    "Нам предоставлены пробы нефти в трёх регионах. Характеристики для каждой скважины в регионе уже известны. Необходимо построить модель для определения региона, где добыча принесёт наибольшую прибыль, и проанализировать возможную прибыль и риски техникой Bootstrap."
   ]
  },
  {
   "cell_type": "markdown",
   "metadata": {},
   "source": [
    "**Условия задачи:**"
   ]
  },
  {
   "cell_type": "markdown",
   "metadata": {},
   "source": [
    "    Для обучения модели подходит только линейная регрессия (остальные — недостаточно предсказуемые).\n",
    "    При разведке региона исследуют 500 точек, из которых с помощью машинного обучения выбирают 200 лучших для разработки.\n",
    "    Бюджет на разработку скважин в регионе — 10 млрд рублей.\n",
    "    При нынешних ценах один баррель сырья приносит 450 рублей дохода. Доход с каждой единицы продукта составляет 450 тыс. рублей, поскольку объём указан в тысячах баррелей.\n",
    "    После оценки рисков нужно оставить лишь те регионы, в которых вероятность убытков меньше 2.5%. Среди них выбирают регион с наибольшей средней прибылью."
   ]
  },
  {
   "cell_type": "markdown",
   "metadata": {},
   "source": [
    "**Описание данных:**"
   ]
  },
  {
   "cell_type": "markdown",
   "metadata": {},
   "source": [
    "Данные геологоразведки трёх регионов находятся в файлах: geo_data_0.csv, geo_data_1.csv, geo_data_2.csv."
   ]
  },
  {
   "cell_type": "markdown",
   "metadata": {},
   "source": [
    "    id — уникальный идентификатор скважины;\n",
    "    f0, f1, f2 — три признака точек;\n",
    "    product — объём запасов в скважине (тыс. баррелей)."
   ]
  },
  {
   "cell_type": "markdown",
   "metadata": {},
   "source": [
    "**План работы**: первым делом мы ознакомимся с полученными данными, проведем подготовку признаков, если потребуется, затем - обучим по модели, предсказывающей объем запасов в скважине, для каждого региона, проверим качество и сделаем предсказание, после этого мы используем bootstrap для оценки прибыли и рисков в каждом регионе, сделаем выводы."
   ]
  },
  {
   "cell_type": "markdown",
   "metadata": {},
   "source": [
    "<h3>Оглавление</h3>"
   ]
  },
  {
   "cell_type": "markdown",
   "metadata": {},
   "source": [
    "1. [Шаг 1: Знакомство с данными и подготовка признаков](#start)\n",
    "2. [Шаг 2: Обучение и проверка моделей](#model)\n",
    "3. [Шаг 3: Подготовка к расчету прибыли и рисков](#prepare)\n",
    "4. [Шаг 4: Расчет прибыли и рисков: выводы](#risks)"
   ]
  },
  {
   "cell_type": "markdown",
   "metadata": {},
   "source": [
    "<h3>Шаг 1: Знакомство с данными и подготовка признаков</h3>\n",
    "<a id='start'></a>"
   ]
  },
  {
   "cell_type": "markdown",
   "metadata": {},
   "source": [
    "Первым делом импортируем нужные нам библиотеки."
   ]
  },
  {
   "cell_type": "code",
   "execution_count": 1,
   "metadata": {},
   "outputs": [],
   "source": [
    "import pandas as pd\n",
    "from sklearn.linear_model import LinearRegression\n",
    "from sklearn.model_selection import train_test_split\n",
    "from sklearn.metrics import mean_squared_error, r2_score\n",
    "from numpy.random import RandomState"
   ]
  },
  {
   "cell_type": "markdown",
   "metadata": {},
   "source": [
    "Загрузим данные."
   ]
  },
  {
   "cell_type": "code",
   "execution_count": 2,
   "metadata": {},
   "outputs": [],
   "source": [
    "data1 = pd.read_csv('/datasets/geo_data_0.csv')\n",
    "data2 = pd.read_csv('/datasets/geo_data_1.csv')\n",
    "data3 = pd.read_csv('/datasets/geo_data_2.csv')"
   ]
  },
  {
   "cell_type": "markdown",
   "metadata": {},
   "source": [
    "Итак, у нас по датасету на регион. Познакомимся с ними поближе - для каждого датасета посмотрим его первые пять строк, общую информацию, а также - на статистики столбцов."
   ]
  },
  {
   "cell_type": "code",
   "execution_count": 3,
   "metadata": {},
   "outputs": [],
   "source": [
    "def meeting(data):\n",
    "    print(data.head())\n",
    "    print(' ')\n",
    "    print(data.info())\n",
    "    print(' ')\n",
    "    print(data.describe())"
   ]
  },
  {
   "cell_type": "markdown",
   "metadata": {},
   "source": [
    "Первый."
   ]
  },
  {
   "cell_type": "code",
   "execution_count": 4,
   "metadata": {
    "scrolled": true
   },
   "outputs": [
    {
     "name": "stdout",
     "output_type": "stream",
     "text": [
      "      id        f0        f1        f2     product\n",
      "0  txEyH  0.705745 -0.497823  1.221170  105.280062\n",
      "1  2acmU  1.334711 -0.340164  4.365080   73.037750\n",
      "2  409Wp  1.022732  0.151990  1.419926   85.265647\n",
      "3  iJLyR -0.032172  0.139033  2.978566  168.620776\n",
      "4  Xdl7t  1.988431  0.155413  4.751769  154.036647\n",
      " \n",
      "<class 'pandas.core.frame.DataFrame'>\n",
      "RangeIndex: 100000 entries, 0 to 99999\n",
      "Data columns (total 5 columns):\n",
      "id         100000 non-null object\n",
      "f0         100000 non-null float64\n",
      "f1         100000 non-null float64\n",
      "f2         100000 non-null float64\n",
      "product    100000 non-null float64\n",
      "dtypes: float64(4), object(1)\n",
      "memory usage: 3.8+ MB\n",
      "None\n",
      " \n",
      "                  f0             f1             f2        product\n",
      "count  100000.000000  100000.000000  100000.000000  100000.000000\n",
      "mean        0.500419       0.250143       2.502647      92.500000\n",
      "std         0.871832       0.504433       3.248248      44.288691\n",
      "min        -1.408605      -0.848218     -12.088328       0.000000\n",
      "25%        -0.072580      -0.200881       0.287748      56.497507\n",
      "50%         0.502360       0.250252       2.515969      91.849972\n",
      "75%         1.073581       0.700646       4.715088     128.564089\n",
      "max         2.362331       1.343769      16.003790     185.364347\n"
     ]
    }
   ],
   "source": [
    "meeting(data1)"
   ]
  },
  {
   "cell_type": "markdown",
   "metadata": {},
   "source": [
    "Второй."
   ]
  },
  {
   "cell_type": "code",
   "execution_count": 5,
   "metadata": {},
   "outputs": [
    {
     "name": "stdout",
     "output_type": "stream",
     "text": [
      "      id         f0         f1        f2     product\n",
      "0  kBEdx -15.001348  -8.276000 -0.005876    3.179103\n",
      "1  62mP7  14.272088  -3.475083  0.999183   26.953261\n",
      "2  vyE1P   6.263187  -5.948386  5.001160  134.766305\n",
      "3  KcrkZ -13.081196 -11.506057  4.999415  137.945408\n",
      "4  AHL4O  12.702195  -8.147433  5.004363  134.766305\n",
      " \n",
      "<class 'pandas.core.frame.DataFrame'>\n",
      "RangeIndex: 100000 entries, 0 to 99999\n",
      "Data columns (total 5 columns):\n",
      "id         100000 non-null object\n",
      "f0         100000 non-null float64\n",
      "f1         100000 non-null float64\n",
      "f2         100000 non-null float64\n",
      "product    100000 non-null float64\n",
      "dtypes: float64(4), object(1)\n",
      "memory usage: 3.8+ MB\n",
      "None\n",
      " \n",
      "                  f0             f1             f2        product\n",
      "count  100000.000000  100000.000000  100000.000000  100000.000000\n",
      "mean        1.141296      -4.796579       2.494541      68.825000\n",
      "std         8.965932       5.119872       1.703572      45.944423\n",
      "min       -31.609576     -26.358598      -0.018144       0.000000\n",
      "25%        -6.298551      -8.267985       1.000021      26.953261\n",
      "50%         1.153055      -4.813172       2.011479      57.085625\n",
      "75%         8.621015      -1.332816       3.999904     107.813044\n",
      "max        29.421755      18.734063       5.019721     137.945408\n"
     ]
    }
   ],
   "source": [
    "meeting(data2)"
   ]
  },
  {
   "cell_type": "markdown",
   "metadata": {},
   "source": [
    "Третий."
   ]
  },
  {
   "cell_type": "code",
   "execution_count": 6,
   "metadata": {},
   "outputs": [
    {
     "name": "stdout",
     "output_type": "stream",
     "text": [
      "      id        f0        f1        f2     product\n",
      "0  fwXo0 -1.146987  0.963328 -0.828965   27.758673\n",
      "1  WJtFt  0.262778  0.269839 -2.530187   56.069697\n",
      "2  ovLUW  0.194587  0.289035 -5.586433   62.871910\n",
      "3  q6cA6  2.236060 -0.553760  0.930038  114.572842\n",
      "4  WPMUX -0.515993  1.716266  5.899011  149.600746\n",
      " \n",
      "<class 'pandas.core.frame.DataFrame'>\n",
      "RangeIndex: 100000 entries, 0 to 99999\n",
      "Data columns (total 5 columns):\n",
      "id         100000 non-null object\n",
      "f0         100000 non-null float64\n",
      "f1         100000 non-null float64\n",
      "f2         100000 non-null float64\n",
      "product    100000 non-null float64\n",
      "dtypes: float64(4), object(1)\n",
      "memory usage: 3.8+ MB\n",
      "None\n",
      " \n",
      "                  f0             f1             f2        product\n",
      "count  100000.000000  100000.000000  100000.000000  100000.000000\n",
      "mean        0.002023      -0.002081       2.495128      95.000000\n",
      "std         1.732045       1.730417       3.473445      44.749921\n",
      "min        -8.760004      -7.084020     -11.970335       0.000000\n",
      "25%        -1.162288      -1.174820       0.130359      59.450441\n",
      "50%         0.009424      -0.009482       2.484236      94.925613\n",
      "75%         1.158535       1.163678       4.858794     130.595027\n",
      "max         7.238262       7.844801      16.739402     190.029838\n"
     ]
    }
   ],
   "source": [
    "meeting(data3)"
   ]
  },
  {
   "cell_type": "markdown",
   "metadata": {},
   "source": [
    "Что можно сказать? "
   ]
  },
  {
   "cell_type": "markdown",
   "metadata": {},
   "source": [
    "    - в данных отсутствуют пропуски в явном виде; \n",
    "    - типы столбцов во всех трех датасетах (кроме id) соответствуют требуемым; \n",
    "    - отсутствуют явные маркеры наличия выбросов, то есть, такие величины как: mean, min, max и std согласуются между собой; \n",
    "    - признаки в рамках датасета, а также - один и тот же признак в разных датасетах не имеют сильных различий в диапазонах значений, которые они принимают; "
   ]
  },
  {
   "cell_type": "markdown",
   "metadata": {},
   "source": [
    "Мы ознакомились с данными. В рамках подготовки признаков следует лишь удалить столбец с id. А также - отделить целевой признак."
   ]
  },
  {
   "cell_type": "code",
   "execution_count": 7,
   "metadata": {},
   "outputs": [],
   "source": [
    "data1 = data1.drop('id', axis=1)\n",
    "data2 = data2.drop('id', axis=1)\n",
    "data3 = data3.drop('id', axis=1)"
   ]
  },
  {
   "cell_type": "code",
   "execution_count": 8,
   "metadata": {},
   "outputs": [],
   "source": [
    "data1_target = data1['product']\n",
    "data2_target = data2['product']\n",
    "data3_target = data3['product']\n",
    "data1_features = data1.drop('product', axis=1)\n",
    "data2_features = data2.drop('product', axis=1)\n",
    "data3_features = data3.drop('product', axis=1)"
   ]
  },
  {
   "cell_type": "markdown",
   "metadata": {},
   "source": [
    "Получили 6 датафреймов: по 2 на каждый регион - признаки и целевой признак."
   ]
  },
  {
   "cell_type": "markdown",
   "metadata": {},
   "source": [
    "Дальнейшая подготовка признаков не требуется."
   ]
  },
  {
   "cell_type": "markdown",
   "metadata": {},
   "source": [
    "**Вывод по Шагу 1**: на данном шаге мы познакомились с поступившими данными, не выявили в них ничего, что требует дополнительного внимания; в рамках подготовки признаков мы удалили id-столбец, а также отделили целевой признак в отдельный датафрейм."
   ]
  },
  {
   "cell_type": "markdown",
   "metadata": {},
   "source": [
    "<h3>Шаг 2: Обучение и проверка моделей</h3>\n",
    "<a id='model'></a>"
   ]
  },
  {
   "cell_type": "markdown",
   "metadata": {},
   "source": [
    "На данном этапе нам предстоит обучить 3 модели методом линейной регрессии: по одной модели на регион. Для каждой модели у нас своя таблица с признаками и целевым признаком. После обучения необходимо будет совершить некоторые предсказания, а также - измерить качество моделей."
   ]
  },
  {
   "cell_type": "markdown",
   "metadata": {},
   "source": [
    "**Модель предсказания объемов скважины для первого региона**"
   ]
  },
  {
   "cell_type": "markdown",
   "metadata": {},
   "source": [
    "Итак, признаки хранятся в data1_features, целевой признак - в data1_target. Поделим данные наборы на тренировочную и валидационную выборки в пропорции 3:1.Создадим и обучим модель. Для этих действий напишем функцию, которая будет возвращать нам предсказания модели и валидационную часть целевого признака - тоже потребуется."
   ]
  },
  {
   "cell_type": "code",
   "execution_count": 9,
   "metadata": {},
   "outputs": [],
   "source": [
    "def split_train(features, target):\n",
    "    feat_train, feat_valid, target_train, target_valid = train_test_split(features, target, test_size=0.25,\n",
    "                                                                                           random_state=12345)\n",
    "    model = LinearRegression()\n",
    "    model.fit(feat_train, target_train)\n",
    "    predictions = model.predict(feat_valid)\n",
    "    return target_valid, predictions"
   ]
  },
  {
   "cell_type": "code",
   "execution_count": 10,
   "metadata": {},
   "outputs": [],
   "source": [
    "data1_target_valid, predictions1 = split_train(data1_features, data1_target)"
   ]
  },
  {
   "cell_type": "markdown",
   "metadata": {},
   "source": [
    "Совершим предсказания. Сохраним их вместе с индексами признаков, для которых предсказывали."
   ]
  },
  {
   "cell_type": "code",
   "execution_count": 11,
   "metadata": {},
   "outputs": [],
   "source": [
    "predicted1 = pd.DataFrame()\n",
    "predicted1['index'] = data1_target_valid.index\n",
    "predicted1['pred'] = predictions1"
   ]
  },
  {
   "cell_type": "markdown",
   "metadata": {},
   "source": [
    "Посмотрим на средний запас предсказанного сырья, на реальный средний запас, а также на RMSE и R2 модели."
   ]
  },
  {
   "cell_type": "code",
   "execution_count": 12,
   "metadata": {},
   "outputs": [],
   "source": [
    "def model_info(target_valid, predicted):\n",
    "    print('Средний запас реального сырья: {:.4} тыс. баррелей'.format(target_valid.mean()))\n",
    "    print('Средний запас предсказанного сырья: {:.4} тыс. баррелей'.format(predicted['pred'].mean()))\n",
    "    mse1 = mean_squared_error(target_valid, predicted['pred'])\n",
    "    rmse1 = mse1 ** 0.5\n",
    "    print('RMSE данной модели: {:.4} тыс. баррелей'.format(rmse1))\n",
    "    r2 = r2_score(target_valid, predicted['pred'])\n",
    "    print('R2 данной модели: {:.4}'.format(r2))"
   ]
  },
  {
   "cell_type": "code",
   "execution_count": 13,
   "metadata": {},
   "outputs": [
    {
     "name": "stdout",
     "output_type": "stream",
     "text": [
      "Средний запас реального сырья: 92.08 тыс. баррелей\n",
      "Средний запас предсказанного сырья: 92.59 тыс. баррелей\n",
      "RMSE данной модели: 37.58 тыс. баррелей\n",
      "R2 данной модели: 0.2799\n"
     ]
    }
   ],
   "source": [
    "model_info(data1_target_valid, predicted1)"
   ]
  },
  {
   "cell_type": "markdown",
   "metadata": {},
   "source": [
    "Какой можно сделать вывод? "
   ]
  },
  {
   "cell_type": "markdown",
   "metadata": {},
   "source": [
    "Итак, средние предсказанных значений и реальных значений почти совпадают. Корень среднего квадратичного отклонения составляет около 38 тыс. баррелей, что весьма немало на фоне среднего значения предсказанного набора, но не так это и много, как могло бы быть - доказательство тому - значение метрики r2. R2 положительно, более того - это почти треть от единицы, то есть модель работает лучше случайной."
   ]
  },
  {
   "cell_type": "markdown",
   "metadata": {},
   "source": [
    "Построим еще две модели - для двух оставшихся регионов. Рассмотрим те же их характеристики, что и для этой модели."
   ]
  },
  {
   "cell_type": "markdown",
   "metadata": {},
   "source": [
    "**Модель предсказания объемов скважины для второго региона**"
   ]
  },
  {
   "cell_type": "markdown",
   "metadata": {},
   "source": [
    "Поделим выборки. Создадим и обучим модель."
   ]
  },
  {
   "cell_type": "code",
   "execution_count": 14,
   "metadata": {},
   "outputs": [],
   "source": [
    "data2_target_valid, predictions2 = split_train(data2_features, data2_target)"
   ]
  },
  {
   "cell_type": "markdown",
   "metadata": {},
   "source": [
    "Совершим предсказания."
   ]
  },
  {
   "cell_type": "code",
   "execution_count": 15,
   "metadata": {},
   "outputs": [],
   "source": [
    "predicted2 = pd.DataFrame()\n",
    "predicted2['index'] = data2_target_valid.index\n",
    "predicted2['pred'] = predictions2"
   ]
  },
  {
   "cell_type": "markdown",
   "metadata": {},
   "source": [
    "Теперь качество."
   ]
  },
  {
   "cell_type": "code",
   "execution_count": 16,
   "metadata": {},
   "outputs": [
    {
     "name": "stdout",
     "output_type": "stream",
     "text": [
      "Средний запас реального сырья: 68.72 тыс. баррелей\n",
      "Средний запас предсказанного сырья: 68.73 тыс. баррелей\n",
      "RMSE данной модели: 0.8931 тыс. баррелей\n",
      "R2 данной модели: 0.9996\n"
     ]
    }
   ],
   "source": [
    "model_info(data2_target_valid, predicted2)"
   ]
  },
  {
   "cell_type": "markdown",
   "metadata": {},
   "source": [
    "Сделаем вывод: получилась почти идеальная модель - средние предсказанных значений и истинных почти совпадают; значение RMSE очень мало, что особенно важно выглядит при взгляде на R2 - значение метрики практически равно единице. Чтобы выяснить, с чем это может быть связано - посмотрим на коэффициенты корреляции между признаками и целевым признаком."
   ]
  },
  {
   "cell_type": "code",
   "execution_count": 17,
   "metadata": {
    "scrolled": true
   },
   "outputs": [
    {
     "data": {
      "text/html": [
       "<div>\n",
       "<style scoped>\n",
       "    .dataframe tbody tr th:only-of-type {\n",
       "        vertical-align: middle;\n",
       "    }\n",
       "\n",
       "    .dataframe tbody tr th {\n",
       "        vertical-align: top;\n",
       "    }\n",
       "\n",
       "    .dataframe thead th {\n",
       "        text-align: right;\n",
       "    }\n",
       "</style>\n",
       "<table border=\"1\" class=\"dataframe\">\n",
       "  <thead>\n",
       "    <tr style=\"text-align: right;\">\n",
       "      <th></th>\n",
       "      <th>f0</th>\n",
       "      <th>f1</th>\n",
       "      <th>f2</th>\n",
       "      <th>product</th>\n",
       "    </tr>\n",
       "  </thead>\n",
       "  <tbody>\n",
       "    <tr>\n",
       "      <td>f0</td>\n",
       "      <td>1.000000</td>\n",
       "      <td>0.182287</td>\n",
       "      <td>-0.001777</td>\n",
       "      <td>-0.030491</td>\n",
       "    </tr>\n",
       "    <tr>\n",
       "      <td>f1</td>\n",
       "      <td>0.182287</td>\n",
       "      <td>1.000000</td>\n",
       "      <td>-0.002595</td>\n",
       "      <td>-0.010155</td>\n",
       "    </tr>\n",
       "    <tr>\n",
       "      <td>f2</td>\n",
       "      <td>-0.001777</td>\n",
       "      <td>-0.002595</td>\n",
       "      <td>1.000000</td>\n",
       "      <td>0.999397</td>\n",
       "    </tr>\n",
       "    <tr>\n",
       "      <td>product</td>\n",
       "      <td>-0.030491</td>\n",
       "      <td>-0.010155</td>\n",
       "      <td>0.999397</td>\n",
       "      <td>1.000000</td>\n",
       "    </tr>\n",
       "  </tbody>\n",
       "</table>\n",
       "</div>"
      ],
      "text/plain": [
       "               f0        f1        f2   product\n",
       "f0       1.000000  0.182287 -0.001777 -0.030491\n",
       "f1       0.182287  1.000000 -0.002595 -0.010155\n",
       "f2      -0.001777 -0.002595  1.000000  0.999397\n",
       "product -0.030491 -0.010155  0.999397  1.000000"
      ]
     },
     "execution_count": 17,
     "metadata": {},
     "output_type": "execute_result"
    }
   ],
   "source": [
    "data2.corr()"
   ]
  },
  {
   "cell_type": "markdown",
   "metadata": {},
   "source": [
    "Получили интересный результат - коэффициент корреляции между признаком f2 и целевым признаком практически равен единице, это значит, что существует сильная линейная зависимость, которую было относительно легко распознать, поэтому модель и получилась такой хорошей."
   ]
  },
  {
   "cell_type": "markdown",
   "metadata": {},
   "source": [
    "**Модель предсказания объемов скважины для третьего региона**"
   ]
  },
  {
   "cell_type": "markdown",
   "metadata": {},
   "source": [
    "Делим выборки.Создадим и обучим модель. Сделаем предсказание."
   ]
  },
  {
   "cell_type": "code",
   "execution_count": 18,
   "metadata": {},
   "outputs": [],
   "source": [
    "data3_target_valid, predictions3 = split_train(data3_features, data3_target)\n",
    "predicted3 = pd.DataFrame()\n",
    "predicted3['index'] = data3_target_valid.index\n",
    "predicted3['pred'] = predictions3"
   ]
  },
  {
   "cell_type": "markdown",
   "metadata": {},
   "source": [
    "Посмотрим на качество."
   ]
  },
  {
   "cell_type": "code",
   "execution_count": 19,
   "metadata": {},
   "outputs": [
    {
     "name": "stdout",
     "output_type": "stream",
     "text": [
      "Средний запас реального сырья: 94.88 тыс. баррелей\n",
      "Средний запас предсказанного сырья: 94.97 тыс. баррелей\n",
      "RMSE данной модели: 40.03 тыс. баррелей\n",
      "R2 данной модели: 0.2052\n"
     ]
    }
   ],
   "source": [
    "model_info(data3_target_valid, predicted3)"
   ]
  },
  {
   "cell_type": "markdown",
   "metadata": {},
   "source": [
    "Сделаем вывод. Как и в ситуации с двумя предыдущими моделями - средние почти совпадают. Особенность данной модели: наибольшее значение RMSE - очень большие отклонения у предсказаний от истинных значений. R2 сообщает то же самое - ее значение не велико, но есть и позитивная сторона - r2 вообще больше нуля, причем на 0.2 - это неплохо. Хотя на фоне предыдущей - невероятно удачной модели - выглядит грустно."
   ]
  },
  {
   "cell_type": "markdown",
   "metadata": {},
   "source": [
    "**Вывод по Шагу 2**: на данном Шаге мы создали и обучили 3 модели - по модели на регион. Также мы посмотрели на качество этих моделей: получили две средних и одну очень удачную. Сохранили предсказания моделей в отдельных переменные, с которыми мы потом будем работать для оценки рисков и прибыли."
   ]
  },
  {
   "cell_type": "markdown",
   "metadata": {},
   "source": [
    "<h3>Шаг 3: Подготовка к расчету прибыли и рисков</h3>\n",
    "<a id='prepare'></a>"
   ]
  },
  {
   "cell_type": "markdown",
   "metadata": {},
   "source": [
    "Итак. У нас есть предсказания по объему нефти в скважинах. У нас также есть знания о: стоимости каждой тысячи баррелей из этих скважин (450 тыс. рублей), о бюджете на разработку скважин в одном регионе. Также мы знаем, сколько скважин разрабатывается в каждом выбранном регионе - 200 лучших из 500 рассмотренных. "
   ]
  },
  {
   "cell_type": "markdown",
   "metadata": {},
   "source": [
    "Посчитаем, во сколько в среднем обходится одна скважина в выбранном регионе."
   ]
  },
  {
   "cell_type": "markdown",
   "metadata": {},
   "source": [
    "Занесем значение 10 млрд. рублей в переменную - все вычисления далее будут вестись в тыс. рублей."
   ]
  },
  {
   "cell_type": "code",
   "execution_count": 20,
   "metadata": {},
   "outputs": [
    {
     "data": {
      "text/plain": [
       "50000.0"
      ]
     },
     "execution_count": 20,
     "metadata": {},
     "output_type": "execute_result"
    }
   ],
   "source": [
    "BUDGET = 10000000\n",
    "BEST_HOLES = 200\n",
    "HOLES = 500\n",
    "budget_per_sq = BUDGET / 200\n",
    "budget_per_sq"
   ]
  },
  {
   "cell_type": "markdown",
   "metadata": {},
   "source": [
    "Сколько тыс. баррелей должна принести эта скважина, чтобы окупить вложенные в нее деньги и начать приносить доход? "
   ]
  },
  {
   "cell_type": "code",
   "execution_count": 21,
   "metadata": {},
   "outputs": [
    {
     "data": {
      "text/plain": [
       "111.0"
      ]
     },
     "execution_count": 21,
     "metadata": {},
     "output_type": "execute_result"
    }
   ],
   "source": [
    "DOH = 450 \n",
    "barrels = budget_per_sq / DOH\n",
    "round(barrels,0)"
   ]
  },
  {
   "cell_type": "markdown",
   "metadata": {},
   "source": [
    "Получили 111 тыс.баррелей. Вспомним наши средние значения содержания продукта в скважине для каждого региона. "
   ]
  },
  {
   "cell_type": "code",
   "execution_count": 22,
   "metadata": {},
   "outputs": [
    {
     "name": "stdout",
     "output_type": "stream",
     "text": [
      "Среднее содержание в скважине в регионе 1: 92.1\n",
      "Среднее содержание в скважине в регионе 2: 68.7\n",
      "Среднее содержание в скважине в регионе 3: 94.9\n"
     ]
    }
   ],
   "source": [
    "print('Среднее содержание в скважине в регионе 1: {:.3}'.format(data1_target_valid.mean()))\n",
    "print('Среднее содержание в скважине в регионе 2: {:.3}'.format(data2_target_valid.mean()))\n",
    "print('Среднее содержание в скважине в регионе 3: {:.3}'.format(data3_target_valid.mean()))"
   ]
  },
  {
   "cell_type": "markdown",
   "metadata": {},
   "source": [
    "Какой можно сделать вывод? Ни в одном регионе среднее значение не дотягивает до требуемого. Особенно по втором регионе. Но, как мы знаем, из 500 исследуемых скважин берется в работу только 200 лучших. Возможно, данный факт спасет ситуацию."
   ]
  },
  {
   "cell_type": "markdown",
   "metadata": {},
   "source": [
    "**Выводу по Шагу 3**: итак, на данном шаге мы рассмотрели вопрос - сколько тыс. баррелей должна выдать скважина, чтобы окупиться, результат получили весьма печальный - значение высокое. "
   ]
  },
  {
   "cell_type": "markdown",
   "metadata": {},
   "source": [
    "<h3>Шаг 4: Расчет прибыли и рисков: выводы</h3>\n",
    "<a id='risks'></a>"
   ]
  },
  {
   "cell_type": "markdown",
   "metadata": {},
   "source": [
    "Итак, нам осталось посчитать риски и прибыль для каждого региона с помощью техники Bootstrap: мы будем брать 1000 выборок по 500 скважин из предсказанного набора, считать прибыль с этой выборки (а точнее - с ее лучших двухсот скважин) путем суммирования соответствующих значений из валидационной выборки, так мы получим распределение прибыли. "
   ]
  },
  {
   "cell_type": "markdown",
   "metadata": {},
   "source": [
    "Получив распределение, найдем среднюю прибыль, 95%-й доверительный интервал. Также оценим риски."
   ]
  },
  {
   "cell_type": "markdown",
   "metadata": {},
   "source": [
    "Напишем функцию, которая считает прибыль с выборки из пятисот скважин. Функция выбирает лучшие 200 скважин и считает, сколько тыс. баррелей соответствующие скважины из валидационного набора принесут суммарно, сколько это стоит денег и сколько это прибыли."
   ]
  },
  {
   "cell_type": "code",
   "execution_count": 23,
   "metadata": {},
   "outputs": [],
   "source": [
    "def revenue(sq_list, real): \n",
    "    global DOH, BUDGET\n",
    "    best = sq_list.sort_values(by='pred', ascending=False)[:BEST_HOLES]\n",
    "    best_sum = 0\n",
    "    for i in best['index']:\n",
    "        best_sum += real[i]\n",
    "    oborot = best_sum *  DOH\n",
    "    return oborot - BUDGET"
   ]
  },
  {
   "cell_type": "markdown",
   "metadata": {},
   "source": [
    "Приступим к бутстрепу и дальнейшему анализу."
   ]
  },
  {
   "cell_type": "markdown",
   "metadata": {},
   "source": [
    "**Первый регион**"
   ]
  },
  {
   "cell_type": "markdown",
   "metadata": {},
   "source": [
    "Будем сохранять прибыль по каждой выборке в списке profit."
   ]
  },
  {
   "cell_type": "code",
   "execution_count": 24,
   "metadata": {},
   "outputs": [],
   "source": [
    "state = RandomState(12345)\n",
    "def bootstrap(predicted, real):\n",
    "    profit = []\n",
    "    for i in range(1000):\n",
    "        samp = predicted.sample(n=HOLES, random_state=state, replace=True)\n",
    "        profit_1 = revenue(samp, real)\n",
    "        profit.append(profit_1)\n",
    "    return profit"
   ]
  },
  {
   "cell_type": "code",
   "execution_count": 25,
   "metadata": {},
   "outputs": [],
   "source": [
    "profit1 = bootstrap(predicted1, data1_target_valid)"
   ]
  },
  {
   "cell_type": "markdown",
   "metadata": {},
   "source": [
    "Посмотрим на среднее значение, на 95-процентный доверительный интервал. Также - оценим риски. Для этого нам надо найти на каком квантиле заканчиваются отрицательные значения. "
   ]
  },
  {
   "cell_type": "code",
   "execution_count": 26,
   "metadata": {},
   "outputs": [],
   "source": [
    "def profit_desc(data):\n",
    "    new_data = pd.Series(data)\n",
    "    print('Среднее значение прибыли: {:.2f} тыс.рублей'.format(new_data.mean()))\n",
    "    print('95-процентный доверительный интервал: от {:.2f} тыс. рублей до {:.2f} тыс. рублей'.format(\n",
    "        new_data.quantile(0.025), new_data.quantile(0.975)))\n",
    "    less_then_0_proc = round(len(new_data[new_data<0])/len(new_data), 3) * 100\n",
    "    print('Вероятность убытков: {:.3f} %'.format(less_then_0_proc))"
   ]
  },
  {
   "cell_type": "code",
   "execution_count": 27,
   "metadata": {},
   "outputs": [
    {
     "name": "stdout",
     "output_type": "stream",
     "text": [
      "Среднее значение прибыли: 396164.98 тыс.рублей\n",
      "95-процентный доверительный интервал: от -111215.55 тыс. рублей до 909766.94 тыс. рублей\n",
      "Вероятность убытков: 6.900 %\n"
     ]
    }
   ],
   "source": [
    "profit_desc(profit1)"
   ]
  },
  {
   "cell_type": "markdown",
   "metadata": {},
   "source": [
    "Что можно сказать по полученному результату?"
   ]
  },
  {
   "cell_type": "markdown",
   "metadata": {},
   "source": [
    "Первое, что бросается в глаза - высокий уровень рисков. Он выше допустимого (2,5 %), поэтому данный регион не может быть выбран как регион для развития в нем скважин. Хотя среднее значение достаточно высоко - 396 млн рублей. "
   ]
  },
  {
   "cell_type": "markdown",
   "metadata": {},
   "source": [
    "**Второй регион**"
   ]
  },
  {
   "cell_type": "code",
   "execution_count": 28,
   "metadata": {},
   "outputs": [
    {
     "name": "stdout",
     "output_type": "stream",
     "text": [
      "Среднее значение прибыли: 461155.82 тыс.рублей\n",
      "95-процентный доверительный интервал: от 78050.81 тыс. рублей до 862952.06 тыс. рублей\n",
      "Вероятность убытков: 0.700 %\n"
     ]
    }
   ],
   "source": [
    "profit2 = bootstrap(predicted2, data2_target_valid)\n",
    "profit_desc(profit2)"
   ]
  },
  {
   "cell_type": "markdown",
   "metadata": {},
   "source": [
    "По второму региону вывод более утешительный - вероятность убытков в пределах нормы. Среднее значение выше, чем в первом регионе, и составляет 461 млн рублей. "
   ]
  },
  {
   "cell_type": "markdown",
   "metadata": {},
   "source": [
    "**Третий регион**"
   ]
  },
  {
   "cell_type": "code",
   "execution_count": 29,
   "metadata": {},
   "outputs": [
    {
     "name": "stdout",
     "output_type": "stream",
     "text": [
      "Среднее значение прибыли: 392950.48 тыс.рублей\n",
      "95-процентный доверительный интервал: от -112227.63 тыс. рублей до 934562.91 тыс. рублей\n",
      "Вероятность убытков: 6.500 %\n"
     ]
    }
   ],
   "source": [
    "profit3 = bootstrap(predicted3, data3_target_valid)\n",
    "profit_desc(profit3)"
   ]
  },
  {
   "cell_type": "markdown",
   "metadata": {},
   "source": [
    "Опять получили высокую вероятность убытков. Этот регион тоже выбывает из голосования. Хотя прибыль в таком случае может достигать аж 0,93 млрд рублей. "
   ]
  },
  {
   "cell_type": "markdown",
   "metadata": {},
   "source": [
    "**Вывод по Шагу 4:** итак, на данном Шаге мы построили распределение прибыли для каждого из трех регионов с помощью техники bootstrap. Посчитали средние значения прибыли, построили доверительные интервалы и оценили риски. Ответ на вопрос \"Какой же регион выбрать в итоге?\" получился сам: по двум из трех мы просто получили неудовлетворительные результаты по рискам, поэтому мы можем взять только оставшийся - регион 2. При этом его показатели - среднее значение прибыли и доверительные интервал обнадеживают, прибыль может достигать 863 млн рублей. И вероятность рисков небольшая - всего 1.5 %. Выбор однозначно падает на этого кандидата."
   ]
  }
 ],
 "metadata": {
  "kernelspec": {
   "display_name": "Python 3",
   "language": "python",
   "name": "python3"
  },
  "language_info": {
   "codemirror_mode": {
    "name": "ipython",
    "version": 3
   },
   "file_extension": ".py",
   "mimetype": "text/x-python",
   "name": "python",
   "nbconvert_exporter": "python",
   "pygments_lexer": "ipython3",
   "version": "3.7.8"
  }
 },
 "nbformat": 4,
 "nbformat_minor": 4
}
