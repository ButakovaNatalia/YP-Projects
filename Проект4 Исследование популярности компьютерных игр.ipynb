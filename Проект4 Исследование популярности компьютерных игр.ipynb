{
 "cells": [
  {
   "cell_type": "markdown",
   "metadata": {},
   "source": [
    "<h1>Исследование популярности компьютерных игр</h1>"
   ]
  },
  {
   "cell_type": "markdown",
   "metadata": {},
   "source": [
    "Мы работаем в интернет-магазине «Стримчик», который продаёт по всему миру компьютерные игры. Из открытых источников доступны исторические данные о продажах игр, оценки пользователей и экспертов, жанры и платформы (например, Xbox или PlayStation). Нам нужно выявить определяющие успешность игры закономерности. Это позволит сделать ставку на потенциально популярный продукт и спланировать рекламные кампании."
   ]
  },
  {
   "cell_type": "markdown",
   "metadata": {},
   "source": [
    "Перед нами данные до 2016 года. Представим, что сейчас декабрь 2016 г., и мы планируем кампанию на 2017-й."
   ]
  },
  {
   "cell_type": "markdown",
   "metadata": {},
   "source": [
    "**Описание данных:**"
   ]
  },
  {
   "cell_type": "markdown",
   "metadata": {},
   "source": [
    "    - Name — название игры\n",
    "    - Platform — платформа\n",
    "    - Year_of_Release — год выпуска\n",
    "    - Genre — жанр игры\n",
    "    - NA_sales — продажи в Северной Америке (миллионы проданных копий)\n",
    "    - EU_sales — продажи в Европе (миллионы проданных копий)\n",
    "    - JP_sales — продажи в Японии (миллионы проданных копий)\n",
    "    - Other_sales — продажи в других странах (миллионы проданных копий)\n",
    "    - Critic_Score — оценка критиков (максимум 100)\n",
    "    - User_Score — оценка пользователей (максимум 10)\n",
    "    - Rating — рейтинг от организации ESRB (англ. Entertainment Software Rating Board). Эта ассоциация определяет рейтинг компьютерных игр и присваивает им подходящую возрастную категорию."
   ]
  },
  {
   "cell_type": "markdown",
   "metadata": {},
   "source": [
    "Данные за 2016 год могут быть неполными."
   ]
  },
  {
   "cell_type": "markdown",
   "metadata": {},
   "source": [
    "**План работы:** первым делм мы ознакомимся с данными, подготовим их: предобработаем и добавим еще один столбец, затем мы проведем исследовательский анализ данных: определим актуальный период для дальнейшего исследования, ответим на вопросы, далее мы составим портреты пользователей различных регионов, проверим пару гипотез и завершим работу написанием общих выводов."
   ]
  },
  {
   "cell_type": "markdown",
   "metadata": {},
   "source": [
    "<h3>Оглавление</h3>"
   ]
  },
  {
   "cell_type": "markdown",
   "metadata": {},
   "source": [
    "1. [Шаг 1: Первичный обзор данных, получение общей информации о данных](#start)   \n",
    "2. [Шаг 2: Подготовка данных](#prepare)   \n",
    "    * [Предобработка данных: изменение типов данных и работа с ошибками](#preproc)   \n",
    "    * [Добавление новой информации](#adding)     \n",
    "3. [Шаг 3: Исследовательский анализ данных](#research)\n",
    "    * [Определение актуального периода](#actual)\n",
    "    * [Ответы на вопросы](#quest) \n",
    "4. [Шаг 4: Составление портретов пользователей различных регионов](#port)\n",
    "4. [Шаг 5: Проверка гипотез](#hypo)\n",
    "5. [Шаг 6: Общие выводы](#conq)"
   ]
  },
  {
   "cell_type": "markdown",
   "metadata": {},
   "source": [
    "<h3> Шаг 1: Первичный обзор данных, получение общей информации о данных </h3>\n",
    "<a id='start'></a>"
   ]
  },
  {
   "cell_type": "markdown",
   "metadata": {},
   "source": [
    "Первым делом импортируем библиотеки, которые нам потребуются."
   ]
  },
  {
   "cell_type": "code",
   "execution_count": 1,
   "metadata": {},
   "outputs": [],
   "source": [
    "import pandas as pd\n",
    "import numpy as np\n",
    "import scipy.stats as st\n",
    "import matplotlib.pyplot as plt"
   ]
  },
  {
   "cell_type": "markdown",
   "metadata": {},
   "source": [
    "Сохраним наш датасет в переменную."
   ]
  },
  {
   "cell_type": "code",
   "execution_count": 2,
   "metadata": {},
   "outputs": [],
   "source": [
    "games = pd.read_csv('/datasets/games.csv')"
   ]
  },
  {
   "cell_type": "markdown",
   "metadata": {},
   "source": [
    "Вызовем метод info, чтобы просмотреть общую информацию о таблице, а также взглянем на первый десять строк нашего датафрейма."
   ]
  },
  {
   "cell_type": "code",
   "execution_count": 3,
   "metadata": {},
   "outputs": [
    {
     "name": "stdout",
     "output_type": "stream",
     "text": [
      "<class 'pandas.core.frame.DataFrame'>\n",
      "RangeIndex: 16715 entries, 0 to 16714\n",
      "Data columns (total 11 columns):\n",
      "Name               16713 non-null object\n",
      "Platform           16715 non-null object\n",
      "Year_of_Release    16446 non-null float64\n",
      "Genre              16713 non-null object\n",
      "NA_sales           16715 non-null float64\n",
      "EU_sales           16715 non-null float64\n",
      "JP_sales           16715 non-null float64\n",
      "Other_sales        16715 non-null float64\n",
      "Critic_Score       8137 non-null float64\n",
      "User_Score         10014 non-null object\n",
      "Rating             9949 non-null object\n",
      "dtypes: float64(6), object(5)\n",
      "memory usage: 1.4+ MB\n"
     ]
    }
   ],
   "source": [
    "games.info()"
   ]
  },
  {
   "cell_type": "code",
   "execution_count": 4,
   "metadata": {},
   "outputs": [
    {
     "data": {
      "text/html": [
       "<div>\n",
       "<style scoped>\n",
       "    .dataframe tbody tr th:only-of-type {\n",
       "        vertical-align: middle;\n",
       "    }\n",
       "\n",
       "    .dataframe tbody tr th {\n",
       "        vertical-align: top;\n",
       "    }\n",
       "\n",
       "    .dataframe thead th {\n",
       "        text-align: right;\n",
       "    }\n",
       "</style>\n",
       "<table border=\"1\" class=\"dataframe\">\n",
       "  <thead>\n",
       "    <tr style=\"text-align: right;\">\n",
       "      <th></th>\n",
       "      <th>Name</th>\n",
       "      <th>Platform</th>\n",
       "      <th>Year_of_Release</th>\n",
       "      <th>Genre</th>\n",
       "      <th>NA_sales</th>\n",
       "      <th>EU_sales</th>\n",
       "      <th>JP_sales</th>\n",
       "      <th>Other_sales</th>\n",
       "      <th>Critic_Score</th>\n",
       "      <th>User_Score</th>\n",
       "      <th>Rating</th>\n",
       "    </tr>\n",
       "  </thead>\n",
       "  <tbody>\n",
       "    <tr>\n",
       "      <td>0</td>\n",
       "      <td>Wii Sports</td>\n",
       "      <td>Wii</td>\n",
       "      <td>2006.0</td>\n",
       "      <td>Sports</td>\n",
       "      <td>41.36</td>\n",
       "      <td>28.96</td>\n",
       "      <td>3.77</td>\n",
       "      <td>8.45</td>\n",
       "      <td>76.0</td>\n",
       "      <td>8</td>\n",
       "      <td>E</td>\n",
       "    </tr>\n",
       "    <tr>\n",
       "      <td>1</td>\n",
       "      <td>Super Mario Bros.</td>\n",
       "      <td>NES</td>\n",
       "      <td>1985.0</td>\n",
       "      <td>Platform</td>\n",
       "      <td>29.08</td>\n",
       "      <td>3.58</td>\n",
       "      <td>6.81</td>\n",
       "      <td>0.77</td>\n",
       "      <td>NaN</td>\n",
       "      <td>NaN</td>\n",
       "      <td>NaN</td>\n",
       "    </tr>\n",
       "    <tr>\n",
       "      <td>2</td>\n",
       "      <td>Mario Kart Wii</td>\n",
       "      <td>Wii</td>\n",
       "      <td>2008.0</td>\n",
       "      <td>Racing</td>\n",
       "      <td>15.68</td>\n",
       "      <td>12.76</td>\n",
       "      <td>3.79</td>\n",
       "      <td>3.29</td>\n",
       "      <td>82.0</td>\n",
       "      <td>8.3</td>\n",
       "      <td>E</td>\n",
       "    </tr>\n",
       "    <tr>\n",
       "      <td>3</td>\n",
       "      <td>Wii Sports Resort</td>\n",
       "      <td>Wii</td>\n",
       "      <td>2009.0</td>\n",
       "      <td>Sports</td>\n",
       "      <td>15.61</td>\n",
       "      <td>10.93</td>\n",
       "      <td>3.28</td>\n",
       "      <td>2.95</td>\n",
       "      <td>80.0</td>\n",
       "      <td>8</td>\n",
       "      <td>E</td>\n",
       "    </tr>\n",
       "    <tr>\n",
       "      <td>4</td>\n",
       "      <td>Pokemon Red/Pokemon Blue</td>\n",
       "      <td>GB</td>\n",
       "      <td>1996.0</td>\n",
       "      <td>Role-Playing</td>\n",
       "      <td>11.27</td>\n",
       "      <td>8.89</td>\n",
       "      <td>10.22</td>\n",
       "      <td>1.00</td>\n",
       "      <td>NaN</td>\n",
       "      <td>NaN</td>\n",
       "      <td>NaN</td>\n",
       "    </tr>\n",
       "    <tr>\n",
       "      <td>5</td>\n",
       "      <td>Tetris</td>\n",
       "      <td>GB</td>\n",
       "      <td>1989.0</td>\n",
       "      <td>Puzzle</td>\n",
       "      <td>23.20</td>\n",
       "      <td>2.26</td>\n",
       "      <td>4.22</td>\n",
       "      <td>0.58</td>\n",
       "      <td>NaN</td>\n",
       "      <td>NaN</td>\n",
       "      <td>NaN</td>\n",
       "    </tr>\n",
       "    <tr>\n",
       "      <td>6</td>\n",
       "      <td>New Super Mario Bros.</td>\n",
       "      <td>DS</td>\n",
       "      <td>2006.0</td>\n",
       "      <td>Platform</td>\n",
       "      <td>11.28</td>\n",
       "      <td>9.14</td>\n",
       "      <td>6.50</td>\n",
       "      <td>2.88</td>\n",
       "      <td>89.0</td>\n",
       "      <td>8.5</td>\n",
       "      <td>E</td>\n",
       "    </tr>\n",
       "    <tr>\n",
       "      <td>7</td>\n",
       "      <td>Wii Play</td>\n",
       "      <td>Wii</td>\n",
       "      <td>2006.0</td>\n",
       "      <td>Misc</td>\n",
       "      <td>13.96</td>\n",
       "      <td>9.18</td>\n",
       "      <td>2.93</td>\n",
       "      <td>2.84</td>\n",
       "      <td>58.0</td>\n",
       "      <td>6.6</td>\n",
       "      <td>E</td>\n",
       "    </tr>\n",
       "    <tr>\n",
       "      <td>8</td>\n",
       "      <td>New Super Mario Bros. Wii</td>\n",
       "      <td>Wii</td>\n",
       "      <td>2009.0</td>\n",
       "      <td>Platform</td>\n",
       "      <td>14.44</td>\n",
       "      <td>6.94</td>\n",
       "      <td>4.70</td>\n",
       "      <td>2.24</td>\n",
       "      <td>87.0</td>\n",
       "      <td>8.4</td>\n",
       "      <td>E</td>\n",
       "    </tr>\n",
       "    <tr>\n",
       "      <td>9</td>\n",
       "      <td>Duck Hunt</td>\n",
       "      <td>NES</td>\n",
       "      <td>1984.0</td>\n",
       "      <td>Shooter</td>\n",
       "      <td>26.93</td>\n",
       "      <td>0.63</td>\n",
       "      <td>0.28</td>\n",
       "      <td>0.47</td>\n",
       "      <td>NaN</td>\n",
       "      <td>NaN</td>\n",
       "      <td>NaN</td>\n",
       "    </tr>\n",
       "  </tbody>\n",
       "</table>\n",
       "</div>"
      ],
      "text/plain": [
       "                        Name Platform  Year_of_Release         Genre  \\\n",
       "0                 Wii Sports      Wii           2006.0        Sports   \n",
       "1          Super Mario Bros.      NES           1985.0      Platform   \n",
       "2             Mario Kart Wii      Wii           2008.0        Racing   \n",
       "3          Wii Sports Resort      Wii           2009.0        Sports   \n",
       "4   Pokemon Red/Pokemon Blue       GB           1996.0  Role-Playing   \n",
       "5                     Tetris       GB           1989.0        Puzzle   \n",
       "6      New Super Mario Bros.       DS           2006.0      Platform   \n",
       "7                   Wii Play      Wii           2006.0          Misc   \n",
       "8  New Super Mario Bros. Wii      Wii           2009.0      Platform   \n",
       "9                  Duck Hunt      NES           1984.0       Shooter   \n",
       "\n",
       "   NA_sales  EU_sales  JP_sales  Other_sales  Critic_Score User_Score Rating  \n",
       "0     41.36     28.96      3.77         8.45          76.0          8      E  \n",
       "1     29.08      3.58      6.81         0.77           NaN        NaN    NaN  \n",
       "2     15.68     12.76      3.79         3.29          82.0        8.3      E  \n",
       "3     15.61     10.93      3.28         2.95          80.0          8      E  \n",
       "4     11.27      8.89     10.22         1.00           NaN        NaN    NaN  \n",
       "5     23.20      2.26      4.22         0.58           NaN        NaN    NaN  \n",
       "6     11.28      9.14      6.50         2.88          89.0        8.5      E  \n",
       "7     13.96      9.18      2.93         2.84          58.0        6.6      E  \n",
       "8     14.44      6.94      4.70         2.24          87.0        8.4      E  \n",
       "9     26.93      0.63      0.28         0.47           NaN        NaN    NaN  "
      ]
     },
     "execution_count": 4,
     "metadata": {},
     "output_type": "execute_result"
    }
   ],
   "source": [
    "games.head(10)"
   ]
  },
  {
   "cell_type": "markdown",
   "metadata": {},
   "source": [
    "Сделаем выводы по увиденному."
   ]
  },
  {
   "cell_type": "markdown",
   "metadata": {},
   "source": [
    "Наша таблица состоит из 11 столбцов, содержит в себе 16715 строк. В 6 столбцах из 11 у нас есть пропущенные значения в явном виде - NaN'ы. При этом в 3 столбцах таких значений специального типа не так много, а вот в оставшихся - они составляют больше трети от всех значений поля. Также в глаза бросается неудобное наименование столбцов - названия начинаются с большой буквы. Можно заметить несоответствие типов данных столбцов семантике вопросов, на которые они отвечают: так, колонка Year_of_Release, хранящая информацию о годе релиза игры, имеет тип данных float, а столбец с, казалось бы, численной оценкой игры от пользователей - тип object. "
   ]
  },
  {
   "cell_type": "markdown",
   "metadata": {},
   "source": [
    "**Вывод по Шагу 1:** итак, на данном шаге мы ознакомились с полученными нами данными - таблицей, просмотрели общую информацию о ней и взглянули на первые строки, в процессе уже были выявлены первые проблемы в данных, самые очевидные. На следующем шаге мы исправим их, а также копнем глубже для поиска неявных недостатков."
   ]
  },
  {
   "cell_type": "markdown",
   "metadata": {},
   "source": [
    "<h3>Шаг 2: Подготовка данных</h3>\n",
    "<a id='prepare'></a>"
   ]
  },
  {
   "cell_type": "markdown",
   "metadata": {},
   "source": [
    "На данном этапе наша работа состоит в двух пунктах: предобработке данных и добавлении новой информации, необходимой для дальнейшего исследования. Начнем с первого."
   ]
  },
  {
   "cell_type": "markdown",
   "metadata": {},
   "source": [
    "<h3>Предобработка данных</h3>\n",
    "<a id='preproc'></a>"
   ]
  },
  {
   "cell_type": "markdown",
   "metadata": {},
   "source": [
    "На данном этапе нам предстоит привести нашу таблицу к должному виду: разобраться со всеми проблемами в данных. Это необходимо, поскольку, только обрабатывая корректные данные, мы можем получить корректный результат."
   ]
  },
  {
   "cell_type": "markdown",
   "metadata": {},
   "source": [
    "На предыдущем Шаге мы уже обратили наше внимание на моменты, которые необходимо исправить. Также в процессе работы мы рассмотрим таблицу на предмет наличия других ошибок. Начнем нашу работу с исправления названий столбцов, затем займемся пропусками, а после - заменой типов данных."
   ]
  },
  {
   "cell_type": "markdown",
   "metadata": {},
   "source": [
    "**Замена названий столбцов**"
   ]
  },
  {
   "cell_type": "markdown",
   "metadata": {},
   "source": [
    "Посмотрим еще раз на названия наших полей."
   ]
  },
  {
   "cell_type": "code",
   "execution_count": 5,
   "metadata": {},
   "outputs": [
    {
     "data": {
      "text/plain": [
       "Index(['Name', 'Platform', 'Year_of_Release', 'Genre', 'NA_sales', 'EU_sales',\n",
       "       'JP_sales', 'Other_sales', 'Critic_Score', 'User_Score', 'Rating'],\n",
       "      dtype='object')"
      ]
     },
     "execution_count": 5,
     "metadata": {},
     "output_type": "execute_result"
    }
   ],
   "source": [
    "games.columns"
   ]
  },
  {
   "cell_type": "markdown",
   "metadata": {},
   "source": [
    "Объективно, с такими названиями не очень удобно работать. Создадим список с новыми и поменяем имена столбцов."
   ]
  },
  {
   "cell_type": "code",
   "execution_count": 6,
   "metadata": {},
   "outputs": [
    {
     "name": "stderr",
     "output_type": "stream",
     "text": [
      "C:\\Users\\Acer\\anaconda3\\envs\\practicum\\lib\\site-packages\\ipykernel_launcher.py:4: FutureWarning: set_axis currently defaults to operating inplace.\n",
      "This will change in a future version of pandas, use inplace=True to avoid this warning.\n",
      "  after removing the cwd from sys.path.\n"
     ]
    }
   ],
   "source": [
    "new_names = []\n",
    "for i in games.columns:\n",
    "    new_names.append(i.lower())\n",
    "games.set_axis(new_names, axis='columns')"
   ]
  },
  {
   "cell_type": "markdown",
   "metadata": {},
   "source": [
    "Проверим, что получилось."
   ]
  },
  {
   "cell_type": "code",
   "execution_count": 7,
   "metadata": {},
   "outputs": [
    {
     "data": {
      "text/plain": [
       "Index(['name', 'platform', 'year_of_release', 'genre', 'na_sales', 'eu_sales',\n",
       "       'jp_sales', 'other_sales', 'critic_score', 'user_score', 'rating'],\n",
       "      dtype='object')"
      ]
     },
     "execution_count": 7,
     "metadata": {},
     "output_type": "execute_result"
    }
   ],
   "source": [
    "games.columns"
   ]
  },
  {
   "cell_type": "markdown",
   "metadata": {},
   "source": [
    "Все отлично, можем переходить к следующему вопросу."
   ]
  },
  {
   "cell_type": "markdown",
   "metadata": {},
   "source": [
    "**Обработка пропусков**"
   ]
  },
  {
   "cell_type": "markdown",
   "metadata": {},
   "source": [
    "Как было выяснено ранее - у нас присутствуют пропуски в явном виде. Разберемся с ними в первую очередь."
   ]
  },
  {
   "cell_type": "code",
   "execution_count": 8,
   "metadata": {},
   "outputs": [
    {
     "name": "stdout",
     "output_type": "stream",
     "text": [
      "<class 'pandas.core.frame.DataFrame'>\n",
      "RangeIndex: 16715 entries, 0 to 16714\n",
      "Data columns (total 11 columns):\n",
      "name               16713 non-null object\n",
      "platform           16715 non-null object\n",
      "year_of_release    16446 non-null float64\n",
      "genre              16713 non-null object\n",
      "na_sales           16715 non-null float64\n",
      "eu_sales           16715 non-null float64\n",
      "jp_sales           16715 non-null float64\n",
      "other_sales        16715 non-null float64\n",
      "critic_score       8137 non-null float64\n",
      "user_score         10014 non-null object\n",
      "rating             9949 non-null object\n",
      "dtypes: float64(6), object(5)\n",
      "memory usage: 1.4+ MB\n"
     ]
    }
   ],
   "source": [
    "games.info()"
   ]
  },
  {
   "cell_type": "markdown",
   "metadata": {},
   "source": [
    "Посмотрим на строки с пропусков в столбце name."
   ]
  },
  {
   "cell_type": "code",
   "execution_count": 9,
   "metadata": {},
   "outputs": [
    {
     "data": {
      "text/html": [
       "<div>\n",
       "<style scoped>\n",
       "    .dataframe tbody tr th:only-of-type {\n",
       "        vertical-align: middle;\n",
       "    }\n",
       "\n",
       "    .dataframe tbody tr th {\n",
       "        vertical-align: top;\n",
       "    }\n",
       "\n",
       "    .dataframe thead th {\n",
       "        text-align: right;\n",
       "    }\n",
       "</style>\n",
       "<table border=\"1\" class=\"dataframe\">\n",
       "  <thead>\n",
       "    <tr style=\"text-align: right;\">\n",
       "      <th></th>\n",
       "      <th>name</th>\n",
       "      <th>platform</th>\n",
       "      <th>year_of_release</th>\n",
       "      <th>genre</th>\n",
       "      <th>na_sales</th>\n",
       "      <th>eu_sales</th>\n",
       "      <th>jp_sales</th>\n",
       "      <th>other_sales</th>\n",
       "      <th>critic_score</th>\n",
       "      <th>user_score</th>\n",
       "      <th>rating</th>\n",
       "    </tr>\n",
       "  </thead>\n",
       "  <tbody>\n",
       "    <tr>\n",
       "      <td>659</td>\n",
       "      <td>NaN</td>\n",
       "      <td>GEN</td>\n",
       "      <td>1993.0</td>\n",
       "      <td>NaN</td>\n",
       "      <td>1.78</td>\n",
       "      <td>0.53</td>\n",
       "      <td>0.00</td>\n",
       "      <td>0.08</td>\n",
       "      <td>NaN</td>\n",
       "      <td>NaN</td>\n",
       "      <td>NaN</td>\n",
       "    </tr>\n",
       "    <tr>\n",
       "      <td>14244</td>\n",
       "      <td>NaN</td>\n",
       "      <td>GEN</td>\n",
       "      <td>1993.0</td>\n",
       "      <td>NaN</td>\n",
       "      <td>0.00</td>\n",
       "      <td>0.00</td>\n",
       "      <td>0.03</td>\n",
       "      <td>0.00</td>\n",
       "      <td>NaN</td>\n",
       "      <td>NaN</td>\n",
       "      <td>NaN</td>\n",
       "    </tr>\n",
       "  </tbody>\n",
       "</table>\n",
       "</div>"
      ],
      "text/plain": [
       "      name platform  year_of_release genre  na_sales  eu_sales  jp_sales  \\\n",
       "659    NaN      GEN           1993.0   NaN      1.78      0.53      0.00   \n",
       "14244  NaN      GEN           1993.0   NaN      0.00      0.00      0.03   \n",
       "\n",
       "       other_sales  critic_score user_score rating  \n",
       "659           0.08           NaN        NaN    NaN  \n",
       "14244         0.00           NaN        NaN    NaN  "
      ]
     },
     "execution_count": 9,
     "metadata": {},
     "output_type": "execute_result"
    }
   ],
   "source": [
    "games[games['name'].isna()]"
   ]
  },
  {
   "cell_type": "code",
   "execution_count": 10,
   "metadata": {},
   "outputs": [],
   "source": [
    "games = games.drop(games[games['name'].isna()].index).reset_index(drop=True)"
   ]
  },
  {
   "cell_type": "markdown",
   "metadata": {},
   "source": [
    "Таких строки у нас две. Эти же строки имеют и пропуски в genre  и трех других столбцах. Очевидно, такие данные непригодны для дальнейшей работы. Удалим строки. Пропущенные значения в столбце name могли появиться из-за некорректного распознания символов наименования и жанра - допустим, было указано на другом языке. "
   ]
  },
  {
   "cell_type": "markdown",
   "metadata": {},
   "source": [
    "Далее будем пользоваться интересным свойством компьютерных игр: одну и ту же игру выпускают на разные платформы. Так, зная год выпуска игры X на одну платформу (или несколько платформ), мы можем предположить, что игра X на другую платформу была выпущена в тот же год. Даже если года не совпадают, вероятность большой разницы между ними мала."
   ]
  },
  {
   "cell_type": "markdown",
   "metadata": {},
   "source": [
    "Пользуясь обозначенным выше свойством, заполним пропуски в столбце year_of_release везде, где это возможно. Зафиксируем количество пропусков ДО и ПОСЛЕ."
   ]
  },
  {
   "cell_type": "code",
   "execution_count": 11,
   "metadata": {},
   "outputs": [
    {
     "data": {
      "text/plain": [
       "269"
      ]
     },
     "execution_count": 11,
     "metadata": {},
     "output_type": "execute_result"
    }
   ],
   "source": [
    "games[games['year_of_release'].isna()].shape[0]"
   ]
  },
  {
   "cell_type": "code",
   "execution_count": 12,
   "metadata": {},
   "outputs": [],
   "source": [
    "target_index_1 = games[games['year_of_release'].isna()].index\n",
    "for i in target_index_1:\n",
    "    target_name_1 = games.loc[i, 'name']\n",
    "    target_frame_1 = games[(games['name'] == target_name_1) & (~ games['year_of_release'].isna())].reset_index(drop=True)\n",
    "    if target_frame_1.shape[0] != 0: \n",
    "        games.loc[i, 'year_of_release'] = target_frame_1.loc[0, 'year_of_release']"
   ]
  },
  {
   "cell_type": "code",
   "execution_count": 13,
   "metadata": {},
   "outputs": [
    {
     "data": {
      "text/plain": [
       "146"
      ]
     },
     "execution_count": 13,
     "metadata": {},
     "output_type": "execute_result"
    }
   ],
   "source": [
    "games[games['year_of_release'].isna()].shape[0]"
   ]
  },
  {
   "cell_type": "markdown",
   "metadata": {},
   "source": [
    "Итак, пропущенных значений стало меньше."
   ]
  },
  {
   "cell_type": "markdown",
   "metadata": {},
   "source": [
    "Посмотрим, какой процент от всего датафрейма составляют строки с пропусками в этом поле."
   ]
  },
  {
   "cell_type": "code",
   "execution_count": 14,
   "metadata": {},
   "outputs": [
    {
     "data": {
      "text/plain": [
       "'0.87%'"
      ]
     },
     "execution_count": 14,
     "metadata": {},
     "output_type": "execute_result"
    }
   ],
   "source": [
    "str(round(games[games['year_of_release'].isna()].shape[0] / games.shape[0] * 100, 2)) + '%'"
   ]
  },
  {
   "cell_type": "markdown",
   "metadata": {},
   "source": [
    "Меньше одного процента. Учитывая этот факт и факт того, что, год выпуска игры играет ощутимую роль в нашем исследовании, мы примем решение удалить такие строки. Откуда могли взяться эти пропущенные значения? Как вариант, данные собирались с разных источников, и один из них не предоставлял по каким-то причинам год выпуска игры, или технические проблемы. Интерпретировать отсутствие информации в данной колонке как значение 'ноль' или факт того, что данных не существует, мы не можем."
   ]
  },
  {
   "cell_type": "code",
   "execution_count": 15,
   "metadata": {},
   "outputs": [],
   "source": [
    "games = games.dropna(subset = ['year_of_release']).reset_index(drop=True)"
   ]
  },
  {
   "cell_type": "markdown",
   "metadata": {},
   "source": [
    "Итак, у нас остались пропущенные значения в крайних трех столбцах. Все, что мы знаем - их много. "
   ]
  },
  {
   "cell_type": "markdown",
   "metadata": {},
   "source": [
    "Разберемся с природой этих пропусков. Если приложить немного усилий и поискать, откуда можно взять рейтинги, можно наткнуться на сайт, содержащий массу оценок - и критиков и пользователей, а  также рейтинг esrb. Выберем строки с отсутствующими значениями и посмотрим, что мы там найдем. Есть ли оценки? Есть, к слову, тенденция у наших пропусков появляться сразу втроем, что слегка заметно по просмотру первых 10 строк. Поэтому будем ориентироваться по столбцу user_score."
   ]
  },
  {
   "cell_type": "code",
   "execution_count": 16,
   "metadata": {},
   "outputs": [
    {
     "data": {
      "text/html": [
       "<div>\n",
       "<style scoped>\n",
       "    .dataframe tbody tr th:only-of-type {\n",
       "        vertical-align: middle;\n",
       "    }\n",
       "\n",
       "    .dataframe tbody tr th {\n",
       "        vertical-align: top;\n",
       "    }\n",
       "\n",
       "    .dataframe thead th {\n",
       "        text-align: right;\n",
       "    }\n",
       "</style>\n",
       "<table border=\"1\" class=\"dataframe\">\n",
       "  <thead>\n",
       "    <tr style=\"text-align: right;\">\n",
       "      <th></th>\n",
       "      <th>name</th>\n",
       "      <th>platform</th>\n",
       "      <th>year_of_release</th>\n",
       "      <th>genre</th>\n",
       "      <th>na_sales</th>\n",
       "      <th>eu_sales</th>\n",
       "      <th>jp_sales</th>\n",
       "      <th>other_sales</th>\n",
       "      <th>critic_score</th>\n",
       "      <th>user_score</th>\n",
       "      <th>rating</th>\n",
       "    </tr>\n",
       "  </thead>\n",
       "  <tbody>\n",
       "    <tr>\n",
       "      <td>1</td>\n",
       "      <td>Super Mario Bros.</td>\n",
       "      <td>NES</td>\n",
       "      <td>1985.0</td>\n",
       "      <td>Platform</td>\n",
       "      <td>29.08</td>\n",
       "      <td>3.58</td>\n",
       "      <td>6.81</td>\n",
       "      <td>0.77</td>\n",
       "      <td>NaN</td>\n",
       "      <td>NaN</td>\n",
       "      <td>NaN</td>\n",
       "    </tr>\n",
       "    <tr>\n",
       "      <td>4</td>\n",
       "      <td>Pokemon Red/Pokemon Blue</td>\n",
       "      <td>GB</td>\n",
       "      <td>1996.0</td>\n",
       "      <td>Role-Playing</td>\n",
       "      <td>11.27</td>\n",
       "      <td>8.89</td>\n",
       "      <td>10.22</td>\n",
       "      <td>1.00</td>\n",
       "      <td>NaN</td>\n",
       "      <td>NaN</td>\n",
       "      <td>NaN</td>\n",
       "    </tr>\n",
       "    <tr>\n",
       "      <td>5</td>\n",
       "      <td>Tetris</td>\n",
       "      <td>GB</td>\n",
       "      <td>1989.0</td>\n",
       "      <td>Puzzle</td>\n",
       "      <td>23.20</td>\n",
       "      <td>2.26</td>\n",
       "      <td>4.22</td>\n",
       "      <td>0.58</td>\n",
       "      <td>NaN</td>\n",
       "      <td>NaN</td>\n",
       "      <td>NaN</td>\n",
       "    </tr>\n",
       "    <tr>\n",
       "      <td>9</td>\n",
       "      <td>Duck Hunt</td>\n",
       "      <td>NES</td>\n",
       "      <td>1984.0</td>\n",
       "      <td>Shooter</td>\n",
       "      <td>26.93</td>\n",
       "      <td>0.63</td>\n",
       "      <td>0.28</td>\n",
       "      <td>0.47</td>\n",
       "      <td>NaN</td>\n",
       "      <td>NaN</td>\n",
       "      <td>NaN</td>\n",
       "    </tr>\n",
       "    <tr>\n",
       "      <td>10</td>\n",
       "      <td>Nintendogs</td>\n",
       "      <td>DS</td>\n",
       "      <td>2005.0</td>\n",
       "      <td>Simulation</td>\n",
       "      <td>9.05</td>\n",
       "      <td>10.95</td>\n",
       "      <td>1.93</td>\n",
       "      <td>2.74</td>\n",
       "      <td>NaN</td>\n",
       "      <td>NaN</td>\n",
       "      <td>NaN</td>\n",
       "    </tr>\n",
       "    <tr>\n",
       "      <td>12</td>\n",
       "      <td>Pokemon Gold/Pokemon Silver</td>\n",
       "      <td>GB</td>\n",
       "      <td>1999.0</td>\n",
       "      <td>Role-Playing</td>\n",
       "      <td>9.00</td>\n",
       "      <td>6.18</td>\n",
       "      <td>7.20</td>\n",
       "      <td>0.71</td>\n",
       "      <td>NaN</td>\n",
       "      <td>NaN</td>\n",
       "      <td>NaN</td>\n",
       "    </tr>\n",
       "    <tr>\n",
       "      <td>18</td>\n",
       "      <td>Super Mario World</td>\n",
       "      <td>SNES</td>\n",
       "      <td>1990.0</td>\n",
       "      <td>Platform</td>\n",
       "      <td>12.78</td>\n",
       "      <td>3.75</td>\n",
       "      <td>3.54</td>\n",
       "      <td>0.55</td>\n",
       "      <td>NaN</td>\n",
       "      <td>NaN</td>\n",
       "      <td>NaN</td>\n",
       "    </tr>\n",
       "    <tr>\n",
       "      <td>20</td>\n",
       "      <td>Pokemon Diamond/Pokemon Pearl</td>\n",
       "      <td>DS</td>\n",
       "      <td>2006.0</td>\n",
       "      <td>Role-Playing</td>\n",
       "      <td>6.38</td>\n",
       "      <td>4.46</td>\n",
       "      <td>6.04</td>\n",
       "      <td>1.36</td>\n",
       "      <td>NaN</td>\n",
       "      <td>NaN</td>\n",
       "      <td>NaN</td>\n",
       "    </tr>\n",
       "    <tr>\n",
       "      <td>21</td>\n",
       "      <td>Super Mario Land</td>\n",
       "      <td>GB</td>\n",
       "      <td>1989.0</td>\n",
       "      <td>Platform</td>\n",
       "      <td>10.83</td>\n",
       "      <td>2.71</td>\n",
       "      <td>4.18</td>\n",
       "      <td>0.42</td>\n",
       "      <td>NaN</td>\n",
       "      <td>NaN</td>\n",
       "      <td>NaN</td>\n",
       "    </tr>\n",
       "    <tr>\n",
       "      <td>22</td>\n",
       "      <td>Super Mario Bros. 3</td>\n",
       "      <td>NES</td>\n",
       "      <td>1988.0</td>\n",
       "      <td>Platform</td>\n",
       "      <td>9.54</td>\n",
       "      <td>3.44</td>\n",
       "      <td>3.84</td>\n",
       "      <td>0.46</td>\n",
       "      <td>NaN</td>\n",
       "      <td>NaN</td>\n",
       "      <td>NaN</td>\n",
       "    </tr>\n",
       "  </tbody>\n",
       "</table>\n",
       "</div>"
      ],
      "text/plain": [
       "                             name platform  year_of_release         genre  \\\n",
       "1               Super Mario Bros.      NES           1985.0      Platform   \n",
       "4        Pokemon Red/Pokemon Blue       GB           1996.0  Role-Playing   \n",
       "5                          Tetris       GB           1989.0        Puzzle   \n",
       "9                       Duck Hunt      NES           1984.0       Shooter   \n",
       "10                     Nintendogs       DS           2005.0    Simulation   \n",
       "12    Pokemon Gold/Pokemon Silver       GB           1999.0  Role-Playing   \n",
       "18              Super Mario World     SNES           1990.0      Platform   \n",
       "20  Pokemon Diamond/Pokemon Pearl       DS           2006.0  Role-Playing   \n",
       "21               Super Mario Land       GB           1989.0      Platform   \n",
       "22            Super Mario Bros. 3      NES           1988.0      Platform   \n",
       "\n",
       "    na_sales  eu_sales  jp_sales  other_sales  critic_score user_score rating  \n",
       "1      29.08      3.58      6.81         0.77           NaN        NaN    NaN  \n",
       "4      11.27      8.89     10.22         1.00           NaN        NaN    NaN  \n",
       "5      23.20      2.26      4.22         0.58           NaN        NaN    NaN  \n",
       "9      26.93      0.63      0.28         0.47           NaN        NaN    NaN  \n",
       "10      9.05     10.95      1.93         2.74           NaN        NaN    NaN  \n",
       "12      9.00      6.18      7.20         0.71           NaN        NaN    NaN  \n",
       "18     12.78      3.75      3.54         0.55           NaN        NaN    NaN  \n",
       "20      6.38      4.46      6.04         1.36           NaN        NaN    NaN  \n",
       "21     10.83      2.71      4.18         0.42           NaN        NaN    NaN  \n",
       "22      9.54      3.44      3.84         0.46           NaN        NaN    NaN  "
      ]
     },
     "execution_count": 16,
     "metadata": {},
     "output_type": "execute_result"
    }
   ],
   "source": [
    "games[games['user_score'].isna()].head(10)"
   ]
  },
  {
   "cell_type": "markdown",
   "metadata": {},
   "source": [
    "Первое, что видим - подавляющая часть игр из этих десяти были выпущены относительно давно. Посмотрим отдельно на строки с year_of_release до 2005 и после."
   ]
  },
  {
   "cell_type": "code",
   "execution_count": 17,
   "metadata": {},
   "outputs": [
    {
     "data": {
      "text/html": [
       "<div>\n",
       "<style scoped>\n",
       "    .dataframe tbody tr th:only-of-type {\n",
       "        vertical-align: middle;\n",
       "    }\n",
       "\n",
       "    .dataframe tbody tr th {\n",
       "        vertical-align: top;\n",
       "    }\n",
       "\n",
       "    .dataframe thead th {\n",
       "        text-align: right;\n",
       "    }\n",
       "</style>\n",
       "<table border=\"1\" class=\"dataframe\">\n",
       "  <thead>\n",
       "    <tr style=\"text-align: right;\">\n",
       "      <th></th>\n",
       "      <th>name</th>\n",
       "      <th>platform</th>\n",
       "      <th>year_of_release</th>\n",
       "      <th>genre</th>\n",
       "      <th>na_sales</th>\n",
       "      <th>eu_sales</th>\n",
       "      <th>jp_sales</th>\n",
       "      <th>other_sales</th>\n",
       "      <th>critic_score</th>\n",
       "      <th>user_score</th>\n",
       "      <th>rating</th>\n",
       "    </tr>\n",
       "  </thead>\n",
       "  <tbody>\n",
       "    <tr>\n",
       "      <td>20</td>\n",
       "      <td>Pokemon Diamond/Pokemon Pearl</td>\n",
       "      <td>DS</td>\n",
       "      <td>2006.0</td>\n",
       "      <td>Role-Playing</td>\n",
       "      <td>6.38</td>\n",
       "      <td>4.46</td>\n",
       "      <td>6.04</td>\n",
       "      <td>1.36</td>\n",
       "      <td>NaN</td>\n",
       "      <td>NaN</td>\n",
       "      <td>NaN</td>\n",
       "    </tr>\n",
       "    <tr>\n",
       "      <td>27</td>\n",
       "      <td>Pokemon Black/Pokemon White</td>\n",
       "      <td>DS</td>\n",
       "      <td>2010.0</td>\n",
       "      <td>Role-Playing</td>\n",
       "      <td>5.51</td>\n",
       "      <td>3.17</td>\n",
       "      <td>5.65</td>\n",
       "      <td>0.80</td>\n",
       "      <td>NaN</td>\n",
       "      <td>NaN</td>\n",
       "      <td>NaN</td>\n",
       "    </tr>\n",
       "    <tr>\n",
       "      <td>31</td>\n",
       "      <td>Call of Duty: Black Ops 3</td>\n",
       "      <td>PS4</td>\n",
       "      <td>2015.0</td>\n",
       "      <td>Shooter</td>\n",
       "      <td>6.03</td>\n",
       "      <td>5.86</td>\n",
       "      <td>0.36</td>\n",
       "      <td>2.38</td>\n",
       "      <td>NaN</td>\n",
       "      <td>NaN</td>\n",
       "      <td>NaN</td>\n",
       "    </tr>\n",
       "    <tr>\n",
       "      <td>33</td>\n",
       "      <td>Pokemon X/Pokemon Y</td>\n",
       "      <td>3DS</td>\n",
       "      <td>2013.0</td>\n",
       "      <td>Role-Playing</td>\n",
       "      <td>5.28</td>\n",
       "      <td>4.19</td>\n",
       "      <td>4.35</td>\n",
       "      <td>0.78</td>\n",
       "      <td>NaN</td>\n",
       "      <td>NaN</td>\n",
       "      <td>NaN</td>\n",
       "    </tr>\n",
       "    <tr>\n",
       "      <td>46</td>\n",
       "      <td>Pokemon HeartGold/Pokemon SoulSilver</td>\n",
       "      <td>DS</td>\n",
       "      <td>2009.0</td>\n",
       "      <td>Action</td>\n",
       "      <td>4.34</td>\n",
       "      <td>2.71</td>\n",
       "      <td>3.96</td>\n",
       "      <td>0.76</td>\n",
       "      <td>NaN</td>\n",
       "      <td>NaN</td>\n",
       "      <td>NaN</td>\n",
       "    </tr>\n",
       "    <tr>\n",
       "      <td>47</td>\n",
       "      <td>Pokemon Omega Ruby/Pokemon Alpha Sapphire</td>\n",
       "      <td>3DS</td>\n",
       "      <td>2014.0</td>\n",
       "      <td>Role-Playing</td>\n",
       "      <td>4.35</td>\n",
       "      <td>3.49</td>\n",
       "      <td>3.10</td>\n",
       "      <td>0.74</td>\n",
       "      <td>NaN</td>\n",
       "      <td>NaN</td>\n",
       "      <td>NaN</td>\n",
       "    </tr>\n",
       "    <tr>\n",
       "      <td>72</td>\n",
       "      <td>Minecraft</td>\n",
       "      <td>X360</td>\n",
       "      <td>2013.0</td>\n",
       "      <td>Misc</td>\n",
       "      <td>5.70</td>\n",
       "      <td>2.65</td>\n",
       "      <td>0.02</td>\n",
       "      <td>0.81</td>\n",
       "      <td>NaN</td>\n",
       "      <td>NaN</td>\n",
       "      <td>NaN</td>\n",
       "    </tr>\n",
       "    <tr>\n",
       "      <td>83</td>\n",
       "      <td>Pokemon Black 2/Pokemon White 2</td>\n",
       "      <td>DS</td>\n",
       "      <td>2012.0</td>\n",
       "      <td>Role-Playing</td>\n",
       "      <td>2.79</td>\n",
       "      <td>1.72</td>\n",
       "      <td>3.14</td>\n",
       "      <td>0.41</td>\n",
       "      <td>NaN</td>\n",
       "      <td>NaN</td>\n",
       "      <td>NaN</td>\n",
       "    </tr>\n",
       "    <tr>\n",
       "      <td>86</td>\n",
       "      <td>Mario &amp; Sonic at the Olympic Games</td>\n",
       "      <td>Wii</td>\n",
       "      <td>2007.0</td>\n",
       "      <td>Sports</td>\n",
       "      <td>2.57</td>\n",
       "      <td>3.86</td>\n",
       "      <td>0.66</td>\n",
       "      <td>0.91</td>\n",
       "      <td>NaN</td>\n",
       "      <td>NaN</td>\n",
       "      <td>NaN</td>\n",
       "    </tr>\n",
       "    <tr>\n",
       "      <td>87</td>\n",
       "      <td>Star Wars Battlefront (2015)</td>\n",
       "      <td>PS4</td>\n",
       "      <td>2015.0</td>\n",
       "      <td>Shooter</td>\n",
       "      <td>2.99</td>\n",
       "      <td>3.49</td>\n",
       "      <td>0.22</td>\n",
       "      <td>1.28</td>\n",
       "      <td>NaN</td>\n",
       "      <td>NaN</td>\n",
       "      <td>NaN</td>\n",
       "    </tr>\n",
       "  </tbody>\n",
       "</table>\n",
       "</div>"
      ],
      "text/plain": [
       "                                         name platform  year_of_release  \\\n",
       "20              Pokemon Diamond/Pokemon Pearl       DS           2006.0   \n",
       "27                Pokemon Black/Pokemon White       DS           2010.0   \n",
       "31                  Call of Duty: Black Ops 3      PS4           2015.0   \n",
       "33                        Pokemon X/Pokemon Y      3DS           2013.0   \n",
       "46       Pokemon HeartGold/Pokemon SoulSilver       DS           2009.0   \n",
       "47  Pokemon Omega Ruby/Pokemon Alpha Sapphire      3DS           2014.0   \n",
       "72                                  Minecraft     X360           2013.0   \n",
       "83            Pokemon Black 2/Pokemon White 2       DS           2012.0   \n",
       "86         Mario & Sonic at the Olympic Games      Wii           2007.0   \n",
       "87               Star Wars Battlefront (2015)      PS4           2015.0   \n",
       "\n",
       "           genre  na_sales  eu_sales  jp_sales  other_sales  critic_score  \\\n",
       "20  Role-Playing      6.38      4.46      6.04         1.36           NaN   \n",
       "27  Role-Playing      5.51      3.17      5.65         0.80           NaN   \n",
       "31       Shooter      6.03      5.86      0.36         2.38           NaN   \n",
       "33  Role-Playing      5.28      4.19      4.35         0.78           NaN   \n",
       "46        Action      4.34      2.71      3.96         0.76           NaN   \n",
       "47  Role-Playing      4.35      3.49      3.10         0.74           NaN   \n",
       "72          Misc      5.70      2.65      0.02         0.81           NaN   \n",
       "83  Role-Playing      2.79      1.72      3.14         0.41           NaN   \n",
       "86        Sports      2.57      3.86      0.66         0.91           NaN   \n",
       "87       Shooter      2.99      3.49      0.22         1.28           NaN   \n",
       "\n",
       "   user_score rating  \n",
       "20        NaN    NaN  \n",
       "27        NaN    NaN  \n",
       "31        NaN    NaN  \n",
       "33        NaN    NaN  \n",
       "46        NaN    NaN  \n",
       "47        NaN    NaN  \n",
       "72        NaN    NaN  \n",
       "83        NaN    NaN  \n",
       "86        NaN    NaN  \n",
       "87        NaN    NaN  "
      ]
     },
     "execution_count": 17,
     "metadata": {},
     "output_type": "execute_result"
    }
   ],
   "source": [
    "games[(games['user_score'].isna()) & (games['year_of_release'] >2005)].head(10)"
   ]
  },
  {
   "cell_type": "markdown",
   "metadata": {},
   "source": [
    "Мини-исследование показало очень интересный момент: итак, игра с индексом 31 в нашей таблице именуется как Call of Duty: Black Ops 3, в то время как на сайте с оценками она называется Call of Duty: Black Ops III. Получаем первую причину пропусков - вероятно, данные о названиях игр, платформах, жанрах, годах выпуска и продажах собирались в одном (или тоже нескольких, но более согласованных) источнике, а информация о рейтингах - в другом, и получилась ситуация: названия игр не сошлись, поэтому системой, cобиравшей информацию, было принято, что данные о рейтингах игры отсутствуют. Посмотрим, что там с покемонами."
   ]
  },
  {
   "cell_type": "markdown",
   "metadata": {},
   "source": [
    "У нас много названий игр про покемонов, содержащих в себе символ '/', например \"Pokemon X/Pokemon Y\", так вот - на сайте игры Pokemon X и Pokemon Y находятся на разных страницах. Опять же - несоответствие названий. Аналогичное подтвердилось и для других игр из наших 10, что мы увидели в результате работы метода."
   ]
  },
  {
   "cell_type": "markdown",
   "metadata": {},
   "source": [
    "Посмотрим на игры, выпущенные давно. "
   ]
  },
  {
   "cell_type": "code",
   "execution_count": 18,
   "metadata": {},
   "outputs": [
    {
     "data": {
      "text/html": [
       "<div>\n",
       "<style scoped>\n",
       "    .dataframe tbody tr th:only-of-type {\n",
       "        vertical-align: middle;\n",
       "    }\n",
       "\n",
       "    .dataframe tbody tr th {\n",
       "        vertical-align: top;\n",
       "    }\n",
       "\n",
       "    .dataframe thead th {\n",
       "        text-align: right;\n",
       "    }\n",
       "</style>\n",
       "<table border=\"1\" class=\"dataframe\">\n",
       "  <thead>\n",
       "    <tr style=\"text-align: right;\">\n",
       "      <th></th>\n",
       "      <th>name</th>\n",
       "      <th>platform</th>\n",
       "      <th>year_of_release</th>\n",
       "      <th>genre</th>\n",
       "      <th>na_sales</th>\n",
       "      <th>eu_sales</th>\n",
       "      <th>jp_sales</th>\n",
       "      <th>other_sales</th>\n",
       "      <th>critic_score</th>\n",
       "      <th>user_score</th>\n",
       "      <th>rating</th>\n",
       "    </tr>\n",
       "  </thead>\n",
       "  <tbody>\n",
       "    <tr>\n",
       "      <td>1</td>\n",
       "      <td>Super Mario Bros.</td>\n",
       "      <td>NES</td>\n",
       "      <td>1985.0</td>\n",
       "      <td>Platform</td>\n",
       "      <td>29.08</td>\n",
       "      <td>3.58</td>\n",
       "      <td>6.81</td>\n",
       "      <td>0.77</td>\n",
       "      <td>NaN</td>\n",
       "      <td>NaN</td>\n",
       "      <td>NaN</td>\n",
       "    </tr>\n",
       "    <tr>\n",
       "      <td>4</td>\n",
       "      <td>Pokemon Red/Pokemon Blue</td>\n",
       "      <td>GB</td>\n",
       "      <td>1996.0</td>\n",
       "      <td>Role-Playing</td>\n",
       "      <td>11.27</td>\n",
       "      <td>8.89</td>\n",
       "      <td>10.22</td>\n",
       "      <td>1.00</td>\n",
       "      <td>NaN</td>\n",
       "      <td>NaN</td>\n",
       "      <td>NaN</td>\n",
       "    </tr>\n",
       "    <tr>\n",
       "      <td>5</td>\n",
       "      <td>Tetris</td>\n",
       "      <td>GB</td>\n",
       "      <td>1989.0</td>\n",
       "      <td>Puzzle</td>\n",
       "      <td>23.20</td>\n",
       "      <td>2.26</td>\n",
       "      <td>4.22</td>\n",
       "      <td>0.58</td>\n",
       "      <td>NaN</td>\n",
       "      <td>NaN</td>\n",
       "      <td>NaN</td>\n",
       "    </tr>\n",
       "    <tr>\n",
       "      <td>9</td>\n",
       "      <td>Duck Hunt</td>\n",
       "      <td>NES</td>\n",
       "      <td>1984.0</td>\n",
       "      <td>Shooter</td>\n",
       "      <td>26.93</td>\n",
       "      <td>0.63</td>\n",
       "      <td>0.28</td>\n",
       "      <td>0.47</td>\n",
       "      <td>NaN</td>\n",
       "      <td>NaN</td>\n",
       "      <td>NaN</td>\n",
       "    </tr>\n",
       "    <tr>\n",
       "      <td>12</td>\n",
       "      <td>Pokemon Gold/Pokemon Silver</td>\n",
       "      <td>GB</td>\n",
       "      <td>1999.0</td>\n",
       "      <td>Role-Playing</td>\n",
       "      <td>9.00</td>\n",
       "      <td>6.18</td>\n",
       "      <td>7.20</td>\n",
       "      <td>0.71</td>\n",
       "      <td>NaN</td>\n",
       "      <td>NaN</td>\n",
       "      <td>NaN</td>\n",
       "    </tr>\n",
       "  </tbody>\n",
       "</table>\n",
       "</div>"
      ],
      "text/plain": [
       "                           name platform  year_of_release         genre  \\\n",
       "1             Super Mario Bros.      NES           1985.0      Platform   \n",
       "4      Pokemon Red/Pokemon Blue       GB           1996.0  Role-Playing   \n",
       "5                        Tetris       GB           1989.0        Puzzle   \n",
       "9                     Duck Hunt      NES           1984.0       Shooter   \n",
       "12  Pokemon Gold/Pokemon Silver       GB           1999.0  Role-Playing   \n",
       "\n",
       "    na_sales  eu_sales  jp_sales  other_sales  critic_score user_score rating  \n",
       "1      29.08      3.58      6.81         0.77           NaN        NaN    NaN  \n",
       "4      11.27      8.89     10.22         1.00           NaN        NaN    NaN  \n",
       "5      23.20      2.26      4.22         0.58           NaN        NaN    NaN  \n",
       "9      26.93      0.63      0.28         0.47           NaN        NaN    NaN  \n",
       "12      9.00      6.18      7.20         0.71           NaN        NaN    NaN  "
      ]
     },
     "execution_count": 18,
     "metadata": {},
     "output_type": "execute_result"
    }
   ],
   "source": [
    "games[(games['user_score'].isna()) & (games['year_of_release'] < 2005)].head()"
   ]
  },
  {
   "cell_type": "markdown",
   "metadata": {},
   "source": [
    "Для некоторых из этих игр просто нет странички - т.е. выпущены настолько давно, что сейчас уровень внимания к ним настолько низок, что для них нет надобности, по мнению людей, ведущих такого рода учет, оценивать их."
   ]
  },
  {
   "cell_type": "markdown",
   "metadata": {},
   "source": [
    "Сделаем промежуточный вывод: мы нашли объяснения отсутствию в некоторых строках одновременно значений в этих трех полях - это неудачные попытки взять информацию с сайта с оценками, неудачные - потому что имена игр написаны были по-разному, или игры не имели своей странички. Теперь вопрос - как получились строки, где отсутствует значение только в одном из этих трех столбцов? Посмотрим на них."
   ]
  },
  {
   "cell_type": "code",
   "execution_count": 19,
   "metadata": {},
   "outputs": [
    {
     "data": {
      "text/html": [
       "<div>\n",
       "<style scoped>\n",
       "    .dataframe tbody tr th:only-of-type {\n",
       "        vertical-align: middle;\n",
       "    }\n",
       "\n",
       "    .dataframe tbody tr th {\n",
       "        vertical-align: top;\n",
       "    }\n",
       "\n",
       "    .dataframe thead th {\n",
       "        text-align: right;\n",
       "    }\n",
       "</style>\n",
       "<table border=\"1\" class=\"dataframe\">\n",
       "  <thead>\n",
       "    <tr style=\"text-align: right;\">\n",
       "      <th></th>\n",
       "      <th>name</th>\n",
       "      <th>platform</th>\n",
       "      <th>year_of_release</th>\n",
       "      <th>genre</th>\n",
       "      <th>na_sales</th>\n",
       "      <th>eu_sales</th>\n",
       "      <th>jp_sales</th>\n",
       "      <th>other_sales</th>\n",
       "      <th>critic_score</th>\n",
       "      <th>user_score</th>\n",
       "      <th>rating</th>\n",
       "    </tr>\n",
       "  </thead>\n",
       "  <tbody>\n",
       "    <tr>\n",
       "      <td>182</td>\n",
       "      <td>Tomb Raider II</td>\n",
       "      <td>PS</td>\n",
       "      <td>1997.0</td>\n",
       "      <td>Action</td>\n",
       "      <td>2.30</td>\n",
       "      <td>2.46</td>\n",
       "      <td>0.20</td>\n",
       "      <td>0.28</td>\n",
       "      <td>85.0</td>\n",
       "      <td>NaN</td>\n",
       "      <td>T</td>\n",
       "    </tr>\n",
       "    <tr>\n",
       "      <td>440</td>\n",
       "      <td>Need for Speed III: Hot Pursuit</td>\n",
       "      <td>PS</td>\n",
       "      <td>1998.0</td>\n",
       "      <td>Racing</td>\n",
       "      <td>2.14</td>\n",
       "      <td>0.86</td>\n",
       "      <td>0.00</td>\n",
       "      <td>0.13</td>\n",
       "      <td>88.0</td>\n",
       "      <td>NaN</td>\n",
       "      <td>E</td>\n",
       "    </tr>\n",
       "    <tr>\n",
       "      <td>635</td>\n",
       "      <td>Riven: The Sequel to Myst</td>\n",
       "      <td>PC</td>\n",
       "      <td>1997.0</td>\n",
       "      <td>Adventure</td>\n",
       "      <td>1.52</td>\n",
       "      <td>0.82</td>\n",
       "      <td>0.00</td>\n",
       "      <td>0.10</td>\n",
       "      <td>83.0</td>\n",
       "      <td>NaN</td>\n",
       "      <td>E</td>\n",
       "    </tr>\n",
       "    <tr>\n",
       "      <td>1971</td>\n",
       "      <td>Monster Rancher 2</td>\n",
       "      <td>PS</td>\n",
       "      <td>1998.0</td>\n",
       "      <td>Simulation</td>\n",
       "      <td>0.19</td>\n",
       "      <td>0.13</td>\n",
       "      <td>0.66</td>\n",
       "      <td>0.07</td>\n",
       "      <td>83.0</td>\n",
       "      <td>NaN</td>\n",
       "      <td>E</td>\n",
       "    </tr>\n",
       "    <tr>\n",
       "      <td>3796</td>\n",
       "      <td>The Grinch</td>\n",
       "      <td>PS</td>\n",
       "      <td>1999.0</td>\n",
       "      <td>Adventure</td>\n",
       "      <td>0.29</td>\n",
       "      <td>0.20</td>\n",
       "      <td>0.00</td>\n",
       "      <td>0.03</td>\n",
       "      <td>55.0</td>\n",
       "      <td>NaN</td>\n",
       "      <td>E</td>\n",
       "    </tr>\n",
       "  </tbody>\n",
       "</table>\n",
       "</div>"
      ],
      "text/plain": [
       "                                 name platform  year_of_release       genre  \\\n",
       "182                    Tomb Raider II       PS           1997.0      Action   \n",
       "440   Need for Speed III: Hot Pursuit       PS           1998.0      Racing   \n",
       "635         Riven: The Sequel to Myst       PC           1997.0   Adventure   \n",
       "1971                Monster Rancher 2       PS           1998.0  Simulation   \n",
       "3796                       The Grinch       PS           1999.0   Adventure   \n",
       "\n",
       "      na_sales  eu_sales  jp_sales  other_sales  critic_score user_score  \\\n",
       "182       2.30      2.46      0.20         0.28          85.0        NaN   \n",
       "440       2.14      0.86      0.00         0.13          88.0        NaN   \n",
       "635       1.52      0.82      0.00         0.10          83.0        NaN   \n",
       "1971      0.19      0.13      0.66         0.07          83.0        NaN   \n",
       "3796      0.29      0.20      0.00         0.03          55.0        NaN   \n",
       "\n",
       "     rating  \n",
       "182       T  \n",
       "440       E  \n",
       "635       E  \n",
       "1971      E  \n",
       "3796      E  "
      ]
     },
     "execution_count": 19,
     "metadata": {},
     "output_type": "execute_result"
    }
   ],
   "source": [
    "games[(games['user_score'].isna()) & (\n",
    "    ~games['critic_score'].isna()) & (\n",
    "    ~games['rating'].isna())].head()"
   ]
  },
  {
   "cell_type": "markdown",
   "metadata": {},
   "source": [
    "Обращение к источнику с запросами об этих играх показало, что страницы данных игр существуют и, очевидно, их названия в таблице и на сайте совпадают, но значение user_score (оценка пользователей) там отсутствует."
   ]
  },
  {
   "cell_type": "code",
   "execution_count": 20,
   "metadata": {},
   "outputs": [
    {
     "data": {
      "text/html": [
       "<div>\n",
       "<style scoped>\n",
       "    .dataframe tbody tr th:only-of-type {\n",
       "        vertical-align: middle;\n",
       "    }\n",
       "\n",
       "    .dataframe tbody tr th {\n",
       "        vertical-align: top;\n",
       "    }\n",
       "\n",
       "    .dataframe thead th {\n",
       "        text-align: right;\n",
       "    }\n",
       "</style>\n",
       "<table border=\"1\" class=\"dataframe\">\n",
       "  <thead>\n",
       "    <tr style=\"text-align: right;\">\n",
       "      <th></th>\n",
       "      <th>name</th>\n",
       "      <th>platform</th>\n",
       "      <th>year_of_release</th>\n",
       "      <th>genre</th>\n",
       "      <th>na_sales</th>\n",
       "      <th>eu_sales</th>\n",
       "      <th>jp_sales</th>\n",
       "      <th>other_sales</th>\n",
       "      <th>critic_score</th>\n",
       "      <th>user_score</th>\n",
       "      <th>rating</th>\n",
       "    </tr>\n",
       "  </thead>\n",
       "  <tbody>\n",
       "    <tr>\n",
       "      <td>119</td>\n",
       "      <td>Zumba Fitness</td>\n",
       "      <td>Wii</td>\n",
       "      <td>2010.0</td>\n",
       "      <td>Sports</td>\n",
       "      <td>3.45</td>\n",
       "      <td>2.59</td>\n",
       "      <td>0.00</td>\n",
       "      <td>0.66</td>\n",
       "      <td>NaN</td>\n",
       "      <td>tbd</td>\n",
       "      <td>E</td>\n",
       "    </tr>\n",
       "    <tr>\n",
       "      <td>255</td>\n",
       "      <td>Call of Duty: Advanced Warfare</td>\n",
       "      <td>PS3</td>\n",
       "      <td>2014.0</td>\n",
       "      <td>Shooter</td>\n",
       "      <td>1.56</td>\n",
       "      <td>1.93</td>\n",
       "      <td>0.19</td>\n",
       "      <td>0.68</td>\n",
       "      <td>NaN</td>\n",
       "      <td>4.8</td>\n",
       "      <td>M</td>\n",
       "    </tr>\n",
       "    <tr>\n",
       "      <td>263</td>\n",
       "      <td>Call of Duty: Advanced Warfare</td>\n",
       "      <td>X360</td>\n",
       "      <td>2014.0</td>\n",
       "      <td>Shooter</td>\n",
       "      <td>2.77</td>\n",
       "      <td>1.11</td>\n",
       "      <td>0.00</td>\n",
       "      <td>0.40</td>\n",
       "      <td>NaN</td>\n",
       "      <td>4.9</td>\n",
       "      <td>M</td>\n",
       "    </tr>\n",
       "    <tr>\n",
       "      <td>264</td>\n",
       "      <td>FIFA 15</td>\n",
       "      <td>PS3</td>\n",
       "      <td>2014.0</td>\n",
       "      <td>Sports</td>\n",
       "      <td>0.58</td>\n",
       "      <td>3.02</td>\n",
       "      <td>0.04</td>\n",
       "      <td>0.64</td>\n",
       "      <td>NaN</td>\n",
       "      <td>4.5</td>\n",
       "      <td>E</td>\n",
       "    </tr>\n",
       "    <tr>\n",
       "      <td>291</td>\n",
       "      <td>World Soccer Winning Eleven 9</td>\n",
       "      <td>PS2</td>\n",
       "      <td>2005.0</td>\n",
       "      <td>Sports</td>\n",
       "      <td>0.12</td>\n",
       "      <td>2.26</td>\n",
       "      <td>0.90</td>\n",
       "      <td>0.77</td>\n",
       "      <td>NaN</td>\n",
       "      <td>8.2</td>\n",
       "      <td>E</td>\n",
       "    </tr>\n",
       "  </tbody>\n",
       "</table>\n",
       "</div>"
      ],
      "text/plain": [
       "                               name platform  year_of_release    genre  \\\n",
       "119                   Zumba Fitness      Wii           2010.0   Sports   \n",
       "255  Call of Duty: Advanced Warfare      PS3           2014.0  Shooter   \n",
       "263  Call of Duty: Advanced Warfare     X360           2014.0  Shooter   \n",
       "264                         FIFA 15      PS3           2014.0   Sports   \n",
       "291   World Soccer Winning Eleven 9      PS2           2005.0   Sports   \n",
       "\n",
       "     na_sales  eu_sales  jp_sales  other_sales  critic_score user_score rating  \n",
       "119      3.45      2.59      0.00         0.66           NaN        tbd      E  \n",
       "255      1.56      1.93      0.19         0.68           NaN        4.8      M  \n",
       "263      2.77      1.11      0.00         0.40           NaN        4.9      M  \n",
       "264      0.58      3.02      0.04         0.64           NaN        4.5      E  \n",
       "291      0.12      2.26      0.90         0.77           NaN        8.2      E  "
      ]
     },
     "execution_count": 20,
     "metadata": {},
     "output_type": "execute_result"
    }
   ],
   "source": [
    "games[(~games['user_score'].isna()) & (\n",
    "    games['critic_score'].isna()) & (\n",
    "    ~games['rating'].isna())].head()"
   ]
  },
  {
   "cell_type": "markdown",
   "metadata": {},
   "source": [
    "Аналогично предыдущему случаю. Видимо, эти игры совсем непопулярные, поэтому и отзывов критиков нет."
   ]
  },
  {
   "cell_type": "code",
   "execution_count": 21,
   "metadata": {},
   "outputs": [
    {
     "data": {
      "text/html": [
       "<div>\n",
       "<style scoped>\n",
       "    .dataframe tbody tr th:only-of-type {\n",
       "        vertical-align: middle;\n",
       "    }\n",
       "\n",
       "    .dataframe tbody tr th {\n",
       "        vertical-align: top;\n",
       "    }\n",
       "\n",
       "    .dataframe thead th {\n",
       "        text-align: right;\n",
       "    }\n",
       "</style>\n",
       "<table border=\"1\" class=\"dataframe\">\n",
       "  <thead>\n",
       "    <tr style=\"text-align: right;\">\n",
       "      <th></th>\n",
       "      <th>name</th>\n",
       "      <th>platform</th>\n",
       "      <th>year_of_release</th>\n",
       "      <th>genre</th>\n",
       "      <th>na_sales</th>\n",
       "      <th>eu_sales</th>\n",
       "      <th>jp_sales</th>\n",
       "      <th>other_sales</th>\n",
       "      <th>critic_score</th>\n",
       "      <th>user_score</th>\n",
       "      <th>rating</th>\n",
       "    </tr>\n",
       "  </thead>\n",
       "  <tbody>\n",
       "    <tr>\n",
       "      <td>817</td>\n",
       "      <td>R4: Ridge Racer Type 4</td>\n",
       "      <td>PS</td>\n",
       "      <td>1998.0</td>\n",
       "      <td>Racing</td>\n",
       "      <td>0.68</td>\n",
       "      <td>0.46</td>\n",
       "      <td>0.79</td>\n",
       "      <td>0.13</td>\n",
       "      <td>88.0</td>\n",
       "      <td>9.2</td>\n",
       "      <td>NaN</td>\n",
       "    </tr>\n",
       "    <tr>\n",
       "      <td>1754</td>\n",
       "      <td>Football Manager 2013</td>\n",
       "      <td>PC</td>\n",
       "      <td>2012.0</td>\n",
       "      <td>Sports</td>\n",
       "      <td>0.00</td>\n",
       "      <td>0.95</td>\n",
       "      <td>0.00</td>\n",
       "      <td>0.21</td>\n",
       "      <td>86.0</td>\n",
       "      <td>6.7</td>\n",
       "      <td>NaN</td>\n",
       "    </tr>\n",
       "    <tr>\n",
       "      <td>2042</td>\n",
       "      <td>Monster Rancher</td>\n",
       "      <td>PS</td>\n",
       "      <td>1997.0</td>\n",
       "      <td>Simulation</td>\n",
       "      <td>0.12</td>\n",
       "      <td>0.08</td>\n",
       "      <td>0.74</td>\n",
       "      <td>0.07</td>\n",
       "      <td>86.0</td>\n",
       "      <td>8.3</td>\n",
       "      <td>NaN</td>\n",
       "    </tr>\n",
       "    <tr>\n",
       "      <td>3037</td>\n",
       "      <td>100 Classic Books</td>\n",
       "      <td>DS</td>\n",
       "      <td>2008.0</td>\n",
       "      <td>Misc</td>\n",
       "      <td>0.12</td>\n",
       "      <td>0.52</td>\n",
       "      <td>0.00</td>\n",
       "      <td>0.02</td>\n",
       "      <td>70.0</td>\n",
       "      <td>6</td>\n",
       "      <td>NaN</td>\n",
       "    </tr>\n",
       "    <tr>\n",
       "      <td>4192</td>\n",
       "      <td>Football Manager 2015</td>\n",
       "      <td>PC</td>\n",
       "      <td>2014.0</td>\n",
       "      <td>Simulation</td>\n",
       "      <td>0.00</td>\n",
       "      <td>0.44</td>\n",
       "      <td>0.00</td>\n",
       "      <td>0.03</td>\n",
       "      <td>80.0</td>\n",
       "      <td>6</td>\n",
       "      <td>NaN</td>\n",
       "    </tr>\n",
       "  </tbody>\n",
       "</table>\n",
       "</div>"
      ],
      "text/plain": [
       "                        name platform  year_of_release       genre  na_sales  \\\n",
       "817   R4: Ridge Racer Type 4       PS           1998.0      Racing      0.68   \n",
       "1754   Football Manager 2013       PC           2012.0      Sports      0.00   \n",
       "2042         Monster Rancher       PS           1997.0  Simulation      0.12   \n",
       "3037       100 Classic Books       DS           2008.0        Misc      0.12   \n",
       "4192   Football Manager 2015       PC           2014.0  Simulation      0.00   \n",
       "\n",
       "      eu_sales  jp_sales  other_sales  critic_score user_score rating  \n",
       "817       0.46      0.79         0.13          88.0        9.2    NaN  \n",
       "1754      0.95      0.00         0.21          86.0        6.7    NaN  \n",
       "2042      0.08      0.74         0.07          86.0        8.3    NaN  \n",
       "3037      0.52      0.00         0.02          70.0          6    NaN  \n",
       "4192      0.44      0.00         0.03          80.0          6    NaN  "
      ]
     },
     "execution_count": 21,
     "metadata": {},
     "output_type": "execute_result"
    }
   ],
   "source": [
    "games[(~games['user_score'].isna()) & (\n",
    "    ~games['critic_score'].isna()) & (\n",
    "    games['rating'].isna())].head()"
   ]
  },
  {
   "cell_type": "markdown",
   "metadata": {},
   "source": [
    "Опять же, странички есть - рейтинг не указан. Но тут возможен еще такой вариант - получать оценку от esrb игры не обязаны, так что возможно, что ее просто не существует. "
   ]
  },
  {
   "cell_type": "markdown",
   "metadata": {},
   "source": [
    "Также в столбце user_score у нас есть значение tbd, что можно расшифровать как to be determined - т.е., не установлен, по факту - отсутствует. Такие значения ставят, если отзывов недостаточно для корректной оценки. Посмотрим на строки с такими значениями."
   ]
  },
  {
   "cell_type": "code",
   "execution_count": 22,
   "metadata": {},
   "outputs": [
    {
     "data": {
      "text/html": [
       "<div>\n",
       "<style scoped>\n",
       "    .dataframe tbody tr th:only-of-type {\n",
       "        vertical-align: middle;\n",
       "    }\n",
       "\n",
       "    .dataframe tbody tr th {\n",
       "        vertical-align: top;\n",
       "    }\n",
       "\n",
       "    .dataframe thead th {\n",
       "        text-align: right;\n",
       "    }\n",
       "</style>\n",
       "<table border=\"1\" class=\"dataframe\">\n",
       "  <thead>\n",
       "    <tr style=\"text-align: right;\">\n",
       "      <th></th>\n",
       "      <th>name</th>\n",
       "      <th>platform</th>\n",
       "      <th>year_of_release</th>\n",
       "      <th>genre</th>\n",
       "      <th>na_sales</th>\n",
       "      <th>eu_sales</th>\n",
       "      <th>jp_sales</th>\n",
       "      <th>other_sales</th>\n",
       "      <th>critic_score</th>\n",
       "      <th>user_score</th>\n",
       "      <th>rating</th>\n",
       "    </tr>\n",
       "  </thead>\n",
       "  <tbody>\n",
       "    <tr>\n",
       "      <td>119</td>\n",
       "      <td>Zumba Fitness</td>\n",
       "      <td>Wii</td>\n",
       "      <td>2010.0</td>\n",
       "      <td>Sports</td>\n",
       "      <td>3.45</td>\n",
       "      <td>2.59</td>\n",
       "      <td>0.0</td>\n",
       "      <td>0.66</td>\n",
       "      <td>NaN</td>\n",
       "      <td>tbd</td>\n",
       "      <td>E</td>\n",
       "    </tr>\n",
       "    <tr>\n",
       "      <td>301</td>\n",
       "      <td>Namco Museum: 50th Anniversary</td>\n",
       "      <td>PS2</td>\n",
       "      <td>2005.0</td>\n",
       "      <td>Misc</td>\n",
       "      <td>2.08</td>\n",
       "      <td>1.35</td>\n",
       "      <td>0.0</td>\n",
       "      <td>0.54</td>\n",
       "      <td>61.0</td>\n",
       "      <td>tbd</td>\n",
       "      <td>E10+</td>\n",
       "    </tr>\n",
       "    <tr>\n",
       "      <td>519</td>\n",
       "      <td>Zumba Fitness 2</td>\n",
       "      <td>Wii</td>\n",
       "      <td>2011.0</td>\n",
       "      <td>Sports</td>\n",
       "      <td>1.51</td>\n",
       "      <td>1.03</td>\n",
       "      <td>0.0</td>\n",
       "      <td>0.27</td>\n",
       "      <td>NaN</td>\n",
       "      <td>tbd</td>\n",
       "      <td>T</td>\n",
       "    </tr>\n",
       "    <tr>\n",
       "      <td>643</td>\n",
       "      <td>uDraw Studio</td>\n",
       "      <td>Wii</td>\n",
       "      <td>2010.0</td>\n",
       "      <td>Misc</td>\n",
       "      <td>1.65</td>\n",
       "      <td>0.57</td>\n",
       "      <td>0.0</td>\n",
       "      <td>0.20</td>\n",
       "      <td>71.0</td>\n",
       "      <td>tbd</td>\n",
       "      <td>E</td>\n",
       "    </tr>\n",
       "    <tr>\n",
       "      <td>714</td>\n",
       "      <td>Just Dance Kids</td>\n",
       "      <td>Wii</td>\n",
       "      <td>2010.0</td>\n",
       "      <td>Misc</td>\n",
       "      <td>1.52</td>\n",
       "      <td>0.54</td>\n",
       "      <td>0.0</td>\n",
       "      <td>0.18</td>\n",
       "      <td>NaN</td>\n",
       "      <td>tbd</td>\n",
       "      <td>E</td>\n",
       "    </tr>\n",
       "  </tbody>\n",
       "</table>\n",
       "</div>"
      ],
      "text/plain": [
       "                               name platform  year_of_release   genre  \\\n",
       "119                   Zumba Fitness      Wii           2010.0  Sports   \n",
       "301  Namco Museum: 50th Anniversary      PS2           2005.0    Misc   \n",
       "519                 Zumba Fitness 2      Wii           2011.0  Sports   \n",
       "643                    uDraw Studio      Wii           2010.0    Misc   \n",
       "714                 Just Dance Kids      Wii           2010.0    Misc   \n",
       "\n",
       "     na_sales  eu_sales  jp_sales  other_sales  critic_score user_score rating  \n",
       "119      3.45      2.59       0.0         0.66           NaN        tbd      E  \n",
       "301      2.08      1.35       0.0         0.54          61.0        tbd   E10+  \n",
       "519      1.51      1.03       0.0         0.27           NaN        tbd      T  \n",
       "643      1.65      0.57       0.0         0.20          71.0        tbd      E  \n",
       "714      1.52      0.54       0.0         0.18           NaN        tbd      E  "
      ]
     },
     "execution_count": 22,
     "metadata": {},
     "output_type": "execute_result"
    }
   ],
   "source": [
    "games.query('user_score == \"tbd\"').head()"
   ]
  },
  {
   "cell_type": "markdown",
   "metadata": {},
   "source": [
    "Оценки пользователей для таких значений действительно нет. По факту - это те же пропуски, но в виде последовательности символов, а не специального значения NaN."
   ]
  },
  {
   "cell_type": "markdown",
   "metadata": {},
   "source": [
    "Более важный вопрос - что нам с этим всем делать? Будем думать о NaN'ах и tbd-значениях как об одной субстанции. Рассмотрим варианты. Первый - удалить. Тут сразу нет, очевидно, так нам придется избавиться от половины наших записей (вспоминаем результаты работы метода info); Второй - заметить правильными, фактическими значениями. Ну тут два момента: во-первых, заполнить мы сможем не все, а только сгладить там, где произошла ошибка из-за разных наименований, во-вторых, делать это придется вручную; Третий - заменить средними/медианами. Рассмотрим подробнее такой вариант. Для замены, нам необходим фактор, определенный для всех строк, и от которого напрямую зависят оценки и рейтинг. Год выпуска, платформа и продажи - сразу мимо. Что с жанром? Мы можем сгруппировать таблицу и посмотреть среднюю, например, оценку для каждого жанра и заполнить этим значением. Если мы выясним, что в среднем игры одного жанра получают оценку выше, это вовсе не значит, что мы можем брать игры этого жанра и присваивать им оценку выше. Игра может быть совсем никудышной или легендарной. Понятие жанр игры слишком обобщающее для таких вычислений. Нам бы подошло в качестве такого параметра сочетание, например, жанр игры + компания-производитель; Четвертый - заменить нулями (условными - для rating), но так у нас будут некорректные медианы и средние для столбцов с очками, а вот для rating такой вариант может вполне подойти; Пятый - оставить как есть. Вот так мы и поступим относительно critic_score и user_score, ибо все остальные варианты, как показано, дадут нежелательный эффект. Tbd мы заменим на NaN, чтобы получить возможность поменять тип данных столбца. "
   ]
  },
  {
   "cell_type": "code",
   "execution_count": 23,
   "metadata": {},
   "outputs": [],
   "source": [
    "games['rating'] = games['rating'].fillna('undefined')"
   ]
  },
  {
   "cell_type": "code",
   "execution_count": 24,
   "metadata": {},
   "outputs": [],
   "source": [
    "target_index_1 = games[games['user_score'] == \"tbd\"].index\n",
    "for i in target_index_1:\n",
    "    games.loc[i, 'user_score'] = np.nan"
   ]
  },
  {
   "cell_type": "markdown",
   "metadata": {},
   "source": [
    "Итак, отсутствующие значения в данных столбцах сигнализируют в части случаев о действительном отсутствии информации и еще в части - являются результатом некорректного сбора информации. "
   ]
  },
  {
   "cell_type": "markdown",
   "metadata": {},
   "source": [
    "Перейдем к следующему вопросу."
   ]
  },
  {
   "cell_type": "markdown",
   "metadata": {},
   "source": [
    "**Замена типов данных**"
   ]
  },
  {
   "cell_type": "markdown",
   "metadata": {},
   "source": [
    "Вызовем еще раз метод info."
   ]
  },
  {
   "cell_type": "code",
   "execution_count": 25,
   "metadata": {},
   "outputs": [
    {
     "name": "stdout",
     "output_type": "stream",
     "text": [
      "<class 'pandas.core.frame.DataFrame'>\n",
      "RangeIndex: 16567 entries, 0 to 16566\n",
      "Data columns (total 11 columns):\n",
      "name               16567 non-null object\n",
      "platform           16567 non-null object\n",
      "year_of_release    16567 non-null float64\n",
      "genre              16567 non-null object\n",
      "na_sales           16567 non-null float64\n",
      "eu_sales           16567 non-null float64\n",
      "jp_sales           16567 non-null float64\n",
      "other_sales        16567 non-null float64\n",
      "critic_score       8075 non-null float64\n",
      "user_score         7540 non-null object\n",
      "rating             16567 non-null object\n",
      "dtypes: float64(6), object(5)\n",
      "memory usage: 1.4+ MB\n"
     ]
    }
   ],
   "source": [
    "games.info()"
   ]
  },
  {
   "cell_type": "markdown",
   "metadata": {},
   "source": [
    "Поменяем типы данных столбцов: year_of_release: float -> int; user_score: object -> int."
   ]
  },
  {
   "cell_type": "code",
   "execution_count": 26,
   "metadata": {},
   "outputs": [],
   "source": [
    "games['year_of_release'] = games['year_of_release'].astype('int64')\n",
    "games['user_score'] = games['user_score'].astype('float64')"
   ]
  },
  {
   "cell_type": "markdown",
   "metadata": {},
   "source": [
    "<h3>Добавление новой информации</h3>\n",
    "<a id='adding'></a>"
   ]
  },
  {
   "cell_type": "markdown",
   "metadata": {},
   "source": [
    "В данном пункте нам необходимо для дальнейшего исследования добавить в нашу таблицу столбец с суммарными продажами по всем регионам. Сделаем это."
   ]
  },
  {
   "cell_type": "code",
   "execution_count": 27,
   "metadata": {},
   "outputs": [],
   "source": [
    "games['all_sales'] = games['na_sales'] + games['eu_sales'] + games['jp_sales']"
   ]
  },
  {
   "cell_type": "markdown",
   "metadata": {},
   "source": [
    "**Вывод по Шагу 2**: мы привели наши данные к лучшему виду: поменяли названия столбцов, удалили часть пропущенных значений, разобрались с природой остальных - тех, что не удалили, поменяли типы данных, а также добавили столбец с дополнительной информацией. Теперь может приступать к основной работе."
   ]
  },
  {
   "cell_type": "markdown",
   "metadata": {},
   "source": [
    "<h3>Шаг 3: Исследовательский анализ данных</h3>\n",
    "<a id='research'></a>"
   ]
  },
  {
   "cell_type": "markdown",
   "metadata": {},
   "source": [
    "На данном шаге необходимо провести весьма объемную работу: ответить на ряд вопросов. Начнем с определения актуального периода (а точнее, с ответов на вопросы, которые помогут его установить) для дальнейшей работы с ним, затем будем заниматься непосредственным предметом нашего исследования: дадим некоторые ответы."
   ]
  },
  {
   "cell_type": "markdown",
   "metadata": {},
   "source": [
    "<h3>Определение актуального периода</h3>\n",
    "<a id='actual'></a>"
   ]
  },
  {
   "cell_type": "markdown",
   "metadata": {},
   "source": [
    "Для обозначения актуального периода первым делом посмотрим, сколько игр выпускалось в разные годы. Важны ли данные за все годы?"
   ]
  },
  {
   "cell_type": "code",
   "execution_count": 28,
   "metadata": {},
   "outputs": [
    {
     "data": {
      "image/png": "[encoded data removed]",
      "text/plain": [
       "<Figure size 432x288 with 1 Axes>"
      ]
     },
     "metadata": {
      "needs_background": "light"
     },
     "output_type": "display_data"
    }
   ],
   "source": [
    "games.plot(kind='hist', y='year_of_release', grid=True, label = '', bins=37)\n",
    "plt.title('Гистограмма количества выпущенных игр по годам')\n",
    "plt.xlabel('Год')\n",
    "plt.ylabel('Количество выпущенных игр')\n",
    "plt.show()"
   ]
  },
  {
   "cell_type": "markdown",
   "metadata": {},
   "source": [
    "Итак, как мы видим, пик графика приходится на 2008-2009 годы, видимо, игровая индустрия находилась в своем расцвете  в это время. Казалось бы, с прогрессом средств по созданию игр и компьютерных программ вообще, должно было выпускаться больше игр, но это не так - с 2012 года их выпускается меньше, чем было в года, начиная с 2002. Подумаем, как можно это объяснить. Как вариант - игры обрели популярность в 2005-2011 годы - стали распространены среди средних потребителей, затем, общий ажиотаж спал, и порождать спрос на игры стали только истинные ценители. Если это верно, получаем следствие - игры стали более направленными на кого-то конкретного, более специфичными, даже если и нет, факт того, что именно в 2012 год индустрия приняла вид такой, какой имеет и сейчас, дает право отсечь границу актуального периода по 2012 или выше. "
   ]
  },
  {
   "cell_type": "markdown",
   "metadata": {},
   "source": [
    "Также важный параметр в вопросе определения актуального периода - здравый смысл. Если бы мы увидели, что спад - переход на более специфичный и малый выпуск - начинается с 1989 года, мы бы не смогли написать 'дает право отсечь актуальный период по 1989 году' (могли бы в случае, если бы индустрия была более стабильной). Но 2012 - не так давно. Но у свежести есть и минус - нам придется не рассматривать большую часть нашего датафрейма - данные за 2005-2011, кои составляют основной объем. Чем более узкий и недавний период мы берем, тем больше данных мы теряем. Но, естественно, важны данные не за все периоды. Разберемся получше, как стоит поступить."
   ]
  },
  {
   "cell_type": "markdown",
   "metadata": {},
   "source": [
    "Посмотрим, как менялись продажи по платформам. Выберем несколько (7) с наибольшими продажами и построим распределение продаж по годам для каждой платформы. Рассмотрим вопрос - за какой характерный срок появляются новые и исчезают старые платформы, это поможет определить актуальный период."
   ]
  },
  {
   "cell_type": "code",
   "execution_count": 29,
   "metadata": {},
   "outputs": [],
   "source": [
    "platforms = games.groupby('platform')['all_sales'].sum().sort_values(ascending=False).head(7)"
   ]
  },
  {
   "cell_type": "markdown",
   "metadata": {},
   "source": [
    "Напишем функцию, чтобы автоматизировать построение графиков."
   ]
  },
  {
   "cell_type": "code",
   "execution_count": 30,
   "metadata": {},
   "outputs": [],
   "source": [
    "def platform_plot(data, name):\n",
    "    target = data.query('platform == @name').groupby('year_of_release')['all_sales'].sum()\n",
    "    target.plot(y= 'all_sales', x='year_of_release', grid=True, label = '',\n",
    "                style='o-')\n",
    "    plt.title('График распределения общих продаж по годам для платформы: ' + name)\n",
    "    plt.xlabel('Год')\n",
    "    plt.ylabel('Продажи (млн)')\n",
    "    plt.show()"
   ]
  },
  {
   "cell_type": "code",
   "execution_count": 31,
   "metadata": {},
   "outputs": [
    {
     "data": {
      "image/png": "[encoded data removed]",
      "text/plain": [
       "<Figure size 432x288 with 1 Axes>"
      ]
     },
     "metadata": {
      "needs_background": "light"
     },
     "output_type": "display_data"
    },
    {
     "data": {
      "image/png": "[encoded data removed]",
      "text/plain": [
       "<Figure size 432x288 with 1 Axes>"
      ]
     },
     "metadata": {
      "needs_background": "light"
     },
     "output_type": "display_data"
    },
    {
     "data": {
      "image/png": "[encoded data removed]",
      "text/plain": [
       "<Figure size 432x288 with 1 Axes>"
      ]
     },
     "metadata": {
      "needs_background": "light"
     },
     "output_type": "display_data"
    },
    {
     "data": {
      "image/png": "[encoded data removed]",
      "text/plain": [
       "<Figure size 432x288 with 1 Axes>"
      ]
     },
     "metadata": {
      "needs_background": "light"
     },
     "output_type": "display_data"
    },
    {
     "data": {
      "image/png": "[encoded data removed]",
      "text/plain": [
       "<Figure size 432x288 with 1 Axes>"
      ]
     },
     "metadata": {
      "needs_background": "light"
     },
     "output_type": "display_data"
    },
    {
     "data": {
      "image/png": "[encoded data removed]",
      "text/plain": [
       "<Figure size 432x288 with 1 Axes>"
      ]
     },
     "metadata": {
      "needs_background": "light"
     },
     "output_type": "display_data"
    },
    {
     "data": {
      "image/png": "[encoded data removed]",
      "text/plain": [
       "<Figure size 432x288 with 1 Axes>"
      ]
     },
     "metadata": {
      "needs_background": "light"
     },
     "output_type": "display_data"
    }
   ],
   "source": [
    "for i in platforms.index:\n",
    "    platform_plot(games, i)"
   ]
  },
  {
   "cell_type": "markdown",
   "metadata": {},
   "source": [
    "Так, мы построили графики для семи платформ. По графикам можно сказать: в среднем за пару лет платформы начинают набирать за год минимум половину от своих максимальных годовых продаж. То есть: период становления актуальной для платформы можно назвать именно таким. Теряет же свою популярность платформа в среднем не так быстро: это занимает около трех лет. Все остальное время (около 5-6 лет) платформа является актуальной. "
   ]
  },
  {
   "cell_type": "markdown",
   "metadata": {},
   "source": [
    "Мы не можем рассматривать период актуальности более семи лет, так как платформы, использованные 7 лет назад (2 года на становление плюс 5 на существование), уже не актуальны точно. А вот с платформами, которые фигурировали 6 лет назад (а лучше 5) , есть шанс попасть туда, куда надо."
   ]
  },
  {
   "cell_type": "markdown",
   "metadata": {},
   "source": [
    "**Промежуточный вывод**: на данном подпункте мы посмотрели общее распределение выпуска игр по годам, а также распределение продаж по годам для некоторых платформ. Возьмем период актуальности с 2012 по 2016 год. "
   ]
  },
  {
   "cell_type": "markdown",
   "metadata": {},
   "source": [
    "Создадим новый датафрейм для работы с актуальными данными."
   ]
  },
  {
   "cell_type": "code",
   "execution_count": 32,
   "metadata": {},
   "outputs": [],
   "source": [
    "games_actual = games.query('year_of_release >= 2012')"
   ]
  },
  {
   "cell_type": "markdown",
   "metadata": {},
   "source": [
    "<h3>Ответы на вопросы</h3>\n",
    "<a id='quest'></a>"
   ]
  },
  {
   "cell_type": "markdown",
   "metadata": {},
   "source": [
    "Вопрос 1: какие платформы лидируют по продажам, растут или падают? Необходимо выбрать потенциально прибыльные платформы. "
   ]
  },
  {
   "cell_type": "markdown",
   "metadata": {},
   "source": [
    "Первым делом посмотрим, сколько у нас вообще платформ в таблице. После отбора актуальной информации, многие из них должны были отсеяться."
   ]
  },
  {
   "cell_type": "code",
   "execution_count": 33,
   "metadata": {},
   "outputs": [],
   "source": [
    "platforms_act = games_actual['platform'].unique()"
   ]
  },
  {
   "cell_type": "code",
   "execution_count": 34,
   "metadata": {},
   "outputs": [
    {
     "data": {
      "text/plain": [
       "11"
      ]
     },
     "execution_count": 34,
     "metadata": {},
     "output_type": "execute_result"
    }
   ],
   "source": [
    "len(platforms_act)"
   ]
  },
  {
   "cell_type": "markdown",
   "metadata": {},
   "source": [
    "Одиннадцать. Не мало. Построим для каждой распределение продаж по годам. По графику можно будет определить: актуальна платформа/неактуальна; растет/падает. "
   ]
  },
  {
   "cell_type": "code",
   "execution_count": 35,
   "metadata": {},
   "outputs": [
    {
     "data": {
      "image/png": "[encoded data removed]",
      "text/plain": [
       "<Figure size 432x288 with 1 Axes>"
      ]
     },
     "metadata": {
      "needs_background": "light"
     },
     "output_type": "display_data"
    },
    {
     "data": {
      "image/png": "[encoded data removed]",
      "text/plain": [
       "<Figure size 432x288 with 1 Axes>"
      ]
     },
     "metadata": {
      "needs_background": "light"
     },
     "output_type": "display_data"
    },
    {
     "data": {
      "image/png": "[encoded data removed]",
      "text/plain": [
       "<Figure size 432x288 with 1 Axes>"
      ]
     },
     "metadata": {
      "needs_background": "light"
     },
     "output_type": "display_data"
    },
    {
     "data": {
      "image/png": "[encoded data removed]",
      "text/plain": [
       "<Figure size 432x288 with 1 Axes>"
      ]
     },
     "metadata": {
      "needs_background": "light"
     },
     "output_type": "display_data"
    },
    {
     "data": {
      "image/png": "[encoded data removed]",
      "text/plain": [
       "<Figure size 432x288 with 1 Axes>"
      ]
     },
     "metadata": {
      "needs_background": "light"
     },
     "output_type": "display_data"
    },
    {
     "data": {
      "image/png": "[encoded data removed]",
      "text/plain": [
       "<Figure size 432x288 with 1 Axes>"
      ]
     },
     "metadata": {
      "needs_background": "light"
     },
     "output_type": "display_data"
    },
    {
     "data": {
      "image/png": "[encoded data removed]",
      "text/plain": [
       "<Figure size 432x288 with 1 Axes>"
      ]
     },
     "metadata": {
      "needs_background": "light"
     },
     "output_type": "display_data"
    },
    {
     "data": {
      "image/png": "[encoded data removed]",
      "text/plain": [
       "<Figure size 432x288 with 1 Axes>"
      ]
     },
     "metadata": {
      "needs_background": "light"
     },
     "output_type": "display_data"
    },
    {
     "data": {
      "image/png": "[encoded data removed]",
      "text/plain": [
       "<Figure size 432x288 with 1 Axes>"
      ]
     },
     "metadata": {
      "needs_background": "light"
     },
     "output_type": "display_data"
    },
    {
     "data": {
      "image/png": "[encoded data removed]",
      "text/plain": [
       "<Figure size 432x288 with 1 Axes>"
      ]
     },
     "metadata": {
      "needs_background": "light"
     },
     "output_type": "display_data"
    },
    {
     "data": {
      "image/png": "[encoded data removed]",
      "text/plain": [
       "<Figure size 432x288 with 1 Axes>"
      ]
     },
     "metadata": {
      "needs_background": "light"
     },
     "output_type": "display_data"
    }
   ],
   "source": [
    "for i in platforms_act:\n",
    "    platform_plot(games_actual,i)"
   ]
  },
  {
   "cell_type": "markdown",
   "metadata": {},
   "source": [
    "Как видно на первый взгляд - продажи падают для всех платформ, хотя количество выпускаемых игр в эти года не менялось. Значит, падает спрос на игры. Но в этих условиях в любом случае есть свои лидеры. Охарактеризуем платформы поподробнее, не будем более упоминать DS (последние продажи - 2013 год), PSP (последние продажи - 2015 год) - то есть, уже точно неактуально. Осталось 9."
   ]
  },
  {
   "cell_type": "markdown",
   "metadata": {},
   "source": [
    "Соберем в отдельный объект Series данные по платформам за 2016 год: получим рейтинг по количеству продаж для 9 платформ. Это нужно для более показательного вывода по платформам."
   ]
  },
  {
   "cell_type": "code",
   "execution_count": 36,
   "metadata": {},
   "outputs": [],
   "source": [
    "sales_2016 = games_actual.query('year_of_release == 2016'\n",
    "                               ).groupby('platform')['all_sales'].sum()"
   ]
  },
  {
   "cell_type": "code",
   "execution_count": 37,
   "metadata": {},
   "outputs": [
    {
     "data": {
      "text/plain": [
       "platform\n",
       "PS4     59.01\n",
       "XOne    23.91\n",
       "3DS     14.50\n",
       "PC       4.89\n",
       "WiiU     4.25\n",
       "PSV      4.10\n",
       "PS3      3.23\n",
       "X360     1.40\n",
       "Wii      0.17\n",
       "Name: all_sales, dtype: float64"
      ]
     },
     "execution_count": 37,
     "metadata": {},
     "output_type": "execute_result"
    }
   ],
   "source": [
    "sales_2016.sort_values(ascending=False)"
   ]
  },
  {
   "cell_type": "markdown",
   "metadata": {},
   "source": [
    "    - PS3: продажи падают уже три года, за 2016 год они составили 3.23 млн. копий, что является 7 из 9 показателем в рейтинге по продажам за 2016 год по платформам, эта платформа явно не является потенциально прибыльной;\n",
    "    - X360: продажи падают уже 4 года, вообще данная платформа особенна тем, что, она стартовала с больших продаж и с тех пор не может достичь своих же показателей, за 2016 год было продано всего 1.40 млн. копий: 8 из 9 - аналогично PS3 - не является лидером и не обладает потенциалом;\n",
    "    - PS4: особенность этой платформы  в том, что продажи по ней начались лишь с 2013: из 4 лет ее продажи падают всего год, хотя слово \"падают\" здесь отображает относительность - в 2015 году было продано больше, а по факту - в 2016 году было продано 59.01 млн копий игр, предназначенных для этой платформы, что больше, чем для всех остальных платформ за этот год. PS4 - лидер по продажам, это потенциально прибыльная платформа, хотя ее продажи и на условном спаде, как минимум на 2017 год можно и нужно делать на нее ставку;\n",
    "    - 3DS: продажи данной платформы падают уже три года, за 2016 было продано 14.5 млн копий, по количеству распространенных копий за 2016 данная платформа занимает третье место в рейтинге, но настораживает другой факт - среднее время становления платформы неактуальной как раз три года, поэтому велика вероятность, что в следующем году 3DS придет в окончательный упадок, об этом же сигнализирует ярко выраженный линейный характер графика падения продаж игр для данной платформы (после пика), мы не можем считать эту платформу потенциально прибыльной, хотя шансы у нее, безусловно, куда выше, чем у X360 или PS3 в этом вопросе;\n",
    "    - XOne: также как и PS4 продается с 2013 и в упадке лишь год, за 2016 было продано 23.91 млн копий игр, что занимает второе место в рейтинге, несмотря на сильный упадок продаж за 2016, молодость платформы и численные показатели за 2016 позволяют принять ее, как потенциально прибыльную на 2017 год; \n",
    "    - WiiU: платформа в упадке два года, за 2016 было продано 4.25 млн копий - в рейтинге занимает серединное положение, неплохие показатели, но считать платформу потенциально прибыльной было бы опрометчиво; \n",
    "    - Wii: продажи падают уже 4 года, а за 2016 они составили всего 0.17 млн копий, точно не наш кандидат; \n",
    "    - PC: вот тут уже очень интересная ситуация на графике  - в 2012 пик, затем падение в 2013, прирост в 2014 и опять падение, за 2016 было продано 4.89 млн копий - 4 место из 9, сложно назвать платформу потенциально прибыльной, но опять же, как и с 3DS - это неплохой кандидат с неплохими шансами; \n",
    "    - PSV: поведение на графике аналогично PC, за 2016 продано 4.10 млн, ситуация аналогичная PC и 3DS. "
   ]
  },
  {
   "cell_type": "markdown",
   "metadata": {},
   "source": [
    "А теперь совсем кратко: точно потенциально прибыльные платформы это PS4 и XOne (собственно, это и есть ответ на вопрос), кандидаты в потенциально прибыльные платформы - те, на которые стоит сделать небольшую ставку (закупить небольшой процент игр и на эти платформы, например) : 3DS, PC, PSV. "
   ]
  },
  {
   "cell_type": "markdown",
   "metadata": {},
   "source": [
    "Вопрос 2: описать результат построения графика \"ящик с усами\" по глобальным продажам в разбивке по платформам. "
   ]
  },
  {
   "cell_type": "markdown",
   "metadata": {},
   "source": [
    "Итак, на предыдущем вопросе мы определили две потенциально прибыльных платформы. Построим для них диаграмму размаха, чтобы лучше рассмотреть природу продаж игр, написанных под эти платформы. Опишем диаграммы."
   ]
  },
  {
   "cell_type": "code",
   "execution_count": 38,
   "metadata": {},
   "outputs": [
    {
     "data": {
      "image/png": "[encoded data removed]",
      "text/plain": [
       "<Figure size 432x288 with 1 Axes>"
      ]
     },
     "metadata": {
      "needs_background": "light"
     },
     "output_type": "display_data"
    }
   ],
   "source": [
    "games_actual.query('platform == \"PS4\"').boxplot('all_sales', showfliers=False)\n",
    "plt.title('Диаграмма размаха продаж игр, выпущенных на платформу PS4')\n",
    "plt.ylabel('Продажи (млн. копий)')\n",
    "plt.show()"
   ]
  },
  {
   "cell_type": "code",
   "execution_count": 39,
   "metadata": {},
   "outputs": [
    {
     "data": {
      "text/plain": [
       "count    392.000000\n",
       "mean       0.678036\n",
       "std        1.355221\n",
       "min        0.010000\n",
       "25%        0.050000\n",
       "50%        0.170000\n",
       "75%        0.612500\n",
       "max       12.250000\n",
       "Name: all_sales, dtype: float64"
      ]
     },
     "execution_count": 39,
     "metadata": {},
     "output_type": "execute_result"
    }
   ],
   "source": [
    "games_actual.query('platform == \"PS4\"')['all_sales'].describe()"
   ]
  },
  {
   "cell_type": "markdown",
   "metadata": {},
   "source": [
    "Что можно сказать? Медиана сильно далека от максимума (видно по результату работы метода describe и по диаграмме). Половина игр для данной платформы имеет суммарные продажи не более 0.17 млн копий, при этом абсолютный лидер на платформе имеет аж 12.25 млн копий продаж. Разница между средним и медианой 0.51 млн копий (0.17 и 0.68 млн копий), что также объясняется наличием лидеров с большим количеством продаж, так, на диаграмме мы видим две точки после отметки в 10 млн. копий - бестселлеры на платформе. В общем, большая часть игр имеет весьма скромные продажи (относительно), грандиозный успех платформы обеспечивается двумя факторами: 1) небольшим количеством очень успешных игр, 2) большим количеством (у нас 392 игры на платформе - это за 4 года, как помним) весьма стандартных, но не провальных."
   ]
  },
  {
   "cell_type": "code",
   "execution_count": 40,
   "metadata": {},
   "outputs": [
    {
     "data": {
      "image/png": "[encoded data removed]",
      "text/plain": [
       "<Figure size 432x288 with 1 Axes>"
      ]
     },
     "metadata": {
      "needs_background": "light"
     },
     "output_type": "display_data"
    }
   ],
   "source": [
    "games_actual.query('platform == \"XOne\"').boxplot('all_sales', showfliers=False)\n",
    "plt.title('Диаграмма размаха продаж игр, выпущенных на платформу XOne')\n",
    "plt.ylabel('Продажи (млн. копий)')\n",
    "plt.show()"
   ]
  },
  {
   "cell_type": "code",
   "execution_count": 41,
   "metadata": {},
   "outputs": [
    {
     "data": {
      "text/plain": [
       "count    247.000000\n",
       "mean       0.587247\n",
       "std        0.942412\n",
       "min        0.010000\n",
       "25%        0.050000\n",
       "50%        0.200000\n",
       "75%        0.625000\n",
       "max        6.710000\n",
       "Name: all_sales, dtype: float64"
      ]
     },
     "execution_count": 41,
     "metadata": {},
     "output_type": "execute_result"
    }
   ],
   "source": [
    "games_actual.query('platform == \"XOne\"')['all_sales'].describe()"
   ]
  },
  {
   "cell_type": "markdown",
   "metadata": {},
   "source": [
    "Сделаем выводы по диаграмме размаха и для XOne. Первое - медиана и максимальное значение имеют куда меньшую разницу на этой платформе, чем на предыдущей, аналогично и среднее с медианой, соответственно - для данной платформы характерно отсутствие таких масштабных по популярности и продажам игр, как для PS4, но здесь есть свои относительные 'звездочки', которые как и в том случае, тянут среднее вверх. Судя по количеству значений отмеченных над 'ящиком', 'усы' собрали больше значений, чем в аналогичной диаграмме для PS4: здесь меньше выделяющихся значений, все числа более приближенны к средним значениям. Это можно заметить и по размеру четвертого квартиля. "
   ]
  },
  {
   "cell_type": "markdown",
   "metadata": {},
   "source": [
    "Вопрос 3: как влияют на продажи внутри популярной платформы отзывы пользователей и критиков."
   ]
  },
  {
   "cell_type": "markdown",
   "metadata": {},
   "source": [
    "Популярных платформы у нас две, для каждой посмотрим, как вляют отзывы на продажи. Построим диаграммы рассеяния, посчитаем коэффициенты корреляции, сделаем выводы и сравним. Начнем с PS4."
   ]
  },
  {
   "cell_type": "markdown",
   "metadata": {},
   "source": [
    "Посмотрим на взаимосвязь с user_score - оценками зрителей."
   ]
  },
  {
   "cell_type": "code",
   "execution_count": 42,
   "metadata": {},
   "outputs": [
    {
     "data": {
      "text/plain": [
       "-0.03"
      ]
     },
     "execution_count": 42,
     "metadata": {},
     "output_type": "execute_result"
    }
   ],
   "source": [
    "round(games_actual.query('platform == \"PS4\"')['user_score'].corr(games_actual.query('platform == \"PS4\"')['all_sales']),2)"
   ]
  },
  {
   "cell_type": "code",
   "execution_count": 43,
   "metadata": {},
   "outputs": [
    {
     "data": {
      "image/png": "[encoded data removed]",
      "text/plain": [
       "<Figure size 432x288 with 1 Axes>"
      ]
     },
     "metadata": {
      "needs_background": "light"
     },
     "output_type": "display_data"
    }
   ],
   "source": [
    "games_actual.query('platform == \"PS4\"').plot( kind='scatter', x='user_score', y='all_sales'\n",
    "                                           , alpha=.5)\n",
    "plt.xlabel('Оценка пользователей')\n",
    "plt.ylabel('Продажи')\n",
    "plt.title('График зависимости продаж игр от оценки пользователей для PS4')\n",
    "plt.show()"
   ]
  },
  {
   "cell_type": "markdown",
   "metadata": {},
   "source": [
    "Коэффициент корреляции практически нулевой, отсуствие зависимости можно заметить и по графику."
   ]
  },
  {
   "cell_type": "markdown",
   "metadata": {},
   "source": [
    "Посмотрим на взаимосвязь с оценками критиков."
   ]
  },
  {
   "cell_type": "code",
   "execution_count": 44,
   "metadata": {},
   "outputs": [
    {
     "data": {
      "text/plain": [
       "0.41"
      ]
     },
     "execution_count": 44,
     "metadata": {},
     "output_type": "execute_result"
    }
   ],
   "source": [
    "round(games_actual.query('platform == \"PS4\"')['critic_score'].corr(games_actual.query('platform == \"PS4\"')['all_sales']),2)"
   ]
  },
  {
   "cell_type": "code",
   "execution_count": 45,
   "metadata": {},
   "outputs": [
    {
     "data": {
      "image/png": "[encoded data removed]",
      "text/plain": [
       "<Figure size 432x288 with 1 Axes>"
      ]
     },
     "metadata": {
      "needs_background": "light"
     },
     "output_type": "display_data"
    }
   ],
   "source": [
    "games_actual.query('platform == \"PS4\"').plot( kind='scatter', x='critic_score', y='all_sales'\n",
    "                                           , alpha=.5)\n",
    "plt.xlabel('Оценка критиков')\n",
    "plt.ylabel('Продажи')\n",
    "plt.title('График зависимости продаж игр от оценки критиков для PS4')\n",
    "plt.show()"
   ]
  },
  {
   "cell_type": "markdown",
   "metadata": {},
   "source": [
    "А вот зависимость продаж от оценок критиков уже есть: коэффициент корреляции немаленький плюс по графику заметно, как все игры  с продажами выше среднего кучкуются в области с оценками критиков от 70 и выше."
   ]
  },
  {
   "cell_type": "markdown",
   "metadata": {},
   "source": [
    "Итак, вывод по данной платформе: продажи игр, предназначенных для PS4, коррелируют с отзывами критиков и не зависят от оценок пользователей. Как можно это объяснить? Критики оценивают игры более справедливо, более 'правильно', собственно, они и являются профессионалами в этой области, поэтому их оценки так хорошо характеризуют реальное положение вещей, реальный фактор успеха - продажи; пользователи целенаправленно прислушиваются к критикам, поэтому обзоры их в прямом смысле порождают продажи и зависимость."
   ]
  },
  {
   "cell_type": "markdown",
   "metadata": {},
   "source": [
    "Посмотрим для XOne."
   ]
  },
  {
   "cell_type": "markdown",
   "metadata": {},
   "source": [
    "Начнем с оценок зрителей."
   ]
  },
  {
   "cell_type": "code",
   "execution_count": 46,
   "metadata": {},
   "outputs": [
    {
     "data": {
      "text/plain": [
       "-0.07"
      ]
     },
     "execution_count": 46,
     "metadata": {},
     "output_type": "execute_result"
    }
   ],
   "source": [
    "round(games_actual.query('platform == \"XOne\"')['user_score'].corr(games_actual.query('platform == \"XOne\"')['all_sales']),2)"
   ]
  },
  {
   "cell_type": "code",
   "execution_count": 47,
   "metadata": {},
   "outputs": [
    {
     "data": {
      "image/png": "[encoded data removed]",
      "text/plain": [
       "<Figure size 432x288 with 1 Axes>"
      ]
     },
     "metadata": {
      "needs_background": "light"
     },
     "output_type": "display_data"
    }
   ],
   "source": [
    "games_actual.query('platform == \"XOne\"').plot( kind='scatter', x='user_score', y='all_sales'\n",
    "                                           , alpha=.5)\n",
    "plt.xlabel('Оценка пользователей')\n",
    "plt.ylabel('Продажи')\n",
    "plt.title('График зависимости продаж игр от оценки пользователей для XOne')\n",
    "plt.show()"
   ]
  },
  {
   "cell_type": "markdown",
   "metadata": {},
   "source": [
    "Первое, что отметим по коэффициенту корреляции - по модулю он больше, чем для другой платформы. На графике тоже можно приглядеться и заметить с усилием, крайне слабо прослеживаемую, отрицательную корреляцию. Возникает вопрос: почему так? Разве с ростом оценки в положительную сторону не должны расти и продажи? Посмотрим, что там с оценками критиков."
   ]
  },
  {
   "cell_type": "code",
   "execution_count": 48,
   "metadata": {},
   "outputs": [
    {
     "data": {
      "text/plain": [
       "0.42"
      ]
     },
     "execution_count": 48,
     "metadata": {},
     "output_type": "execute_result"
    }
   ],
   "source": [
    "round(games_actual.query('platform == \"XOne\"')['critic_score'].corr(games_actual.query('platform == \"XOne\"')['all_sales']),2)"
   ]
  },
  {
   "cell_type": "code",
   "execution_count": 49,
   "metadata": {},
   "outputs": [
    {
     "data": {
      "image/png": "[encoded data removed]",
      "text/plain": [
       "<Figure size 432x288 with 1 Axes>"
      ]
     },
     "metadata": {
      "needs_background": "light"
     },
     "output_type": "display_data"
    }
   ],
   "source": [
    "games_actual.query('platform == \"XOne\"').plot( kind='scatter', x='critic_score', y='all_sales'\n",
    "                                           , alpha=.5)\n",
    "plt.xlabel('Оценка критиков')\n",
    "plt.ylabel('Продажи')\n",
    "plt.title('График зависимости продаж игр от оценки критиков для XOne')\n",
    "plt.show()"
   ]
  },
  {
   "cell_type": "markdown",
   "metadata": {},
   "source": [
    "Коэффицент корреляции почти идентичен аналогичному показателю по предыдущей платформе: игры оцененные более высоко имеют большие продажи. Собственно, объяснить это можно также, как и для PS4. "
   ]
  },
  {
   "cell_type": "markdown",
   "metadata": {},
   "source": [
    "Сделаем мини-вывод по платформе: он, к слову, практически идентичен выводу по предыдущей платформе (это как факт тоже представляет интерес, конечно, - одинаковые зависимости для всех потенциально прибыльных платформ); продажи игр, созданных для XOne, коррелируют с отзывами критиков и не зависят от оценок пользователей (все-таки, коэф. Пирсона для оценок пользователей и продаж по модулю составляет всего 0.07, хотя его отрицательный знак и вызывает вопросы, но само значение слишком мало, чтобы не игнорировать его). "
   ]
  },
  {
   "cell_type": "markdown",
   "metadata": {},
   "source": [
    "Итак, мы получили выводы по каждой из наших потенциально популярных платформ и можем отметить, что они идентичны. Продажи игр, написанных под разные платформы, зависят от одних и тех же факторов."
   ]
  },
  {
   "cell_type": "markdown",
   "metadata": {},
   "source": [
    "Вопрос 4: что можно сказать о самых прибыльных жанрах по общему распределению игр по жанрам? Выделяются ли жанры с высокими и низкими продажами?"
   ]
  },
  {
   "cell_type": "markdown",
   "metadata": {},
   "source": [
    "Для ответа на этот вопрос нам надо установить самые прибыльные и самые менее продаваемые жанры."
   ]
  },
  {
   "cell_type": "code",
   "execution_count": 50,
   "metadata": {},
   "outputs": [],
   "source": [
    "genres_top = games_actual.groupby('genre')['all_sales'].sum().sort_values(ascending=False)"
   ]
  },
  {
   "cell_type": "code",
   "execution_count": 51,
   "metadata": {},
   "outputs": [
    {
     "data": {
      "text/plain": [
       "genre\n",
       "Action          394.65\n",
       "Shooter         267.49\n",
       "Role-Playing    177.97\n",
       "Sports          158.63\n",
       "Misc             77.61\n",
       "Platform         55.42\n",
       "Racing           47.01\n",
       "Fighting         40.02\n",
       "Simulation       32.93\n",
       "Adventure        26.62\n",
       "Strategy         12.28\n",
       "Puzzle            4.67\n",
       "Name: all_sales, dtype: float64"
      ]
     },
     "execution_count": 51,
     "metadata": {},
     "output_type": "execute_result"
    }
   ],
   "source": [
    "genres_top"
   ]
  },
  {
   "cell_type": "markdown",
   "metadata": {},
   "source": [
    "Теперь построим распределение игр по жанрам."
   ]
  },
  {
   "cell_type": "code",
   "execution_count": 52,
   "metadata": {},
   "outputs": [
    {
     "data": {
      "image/png": "[encoded data removed]",
      "text/plain": [
       "<Figure size 432x288 with 1 Axes>"
      ]
     },
     "metadata": {
      "needs_background": "light"
     },
     "output_type": "display_data"
    }
   ],
   "source": [
    "games_actual.groupby('genre')['genre'].count().sort_values(ascending=False).plot(kind='bar')\n",
    "plt.xlabel('Жанр')\n",
    "plt.ylabel('Количество выпущенных игр')\n",
    "plt.title('Распределение игр по жанрам')\n",
    "plt.show()"
   ]
  },
  {
   "cell_type": "markdown",
   "metadata": {},
   "source": [
    "Сравним распределение с нашим списком."
   ]
  },
  {
   "cell_type": "markdown",
   "metadata": {},
   "source": [
    "Больше всего продаж у игр жанра Action, по графику мы видим, что и игр этого жанра было выпущено больше всего. Интересная ситуация с играми жанра Shooter, они занимают второе место в топе по количеству продаж, но по количеству выпущенных игр они лишь на пятом месте. То есть, если высокие продажи игр жанра Action (как и Role-Playing, если говорить о топ-3) можно объяснить количеством выпущенных игр (посмотрим на график, этот столбец явно выделяется), то продажи игр жанра Shooter уже являются следствием не количества игр, а чего-то другого - игры данного жанра очень актуальны. Также интересная позиция у игр жанра Adventure: по продажам они третьи с конца (из 12), а по количеству выпущенных игр - третьи с начала, то есть - выпускают много, покупают мало - жанр не особо популярен. В остальном - график распределения игр по жанрам и топ по количеству проданных копий выглядят согласованно: сколько выпускают, столько и покупают, и наоборот. "
   ]
  },
  {
   "cell_type": "markdown",
   "metadata": {},
   "source": [
    "Построим также столбчатую диаграмму, для каждого жанра укажем среднее количество продаж на игру."
   ]
  },
  {
   "cell_type": "code",
   "execution_count": 53,
   "metadata": {},
   "outputs": [
    {
     "data": {
      "image/png": "[encoded data removed]",
      "text/plain": [
       "<Figure size 432x288 with 1 Axes>"
      ]
     },
     "metadata": {
      "needs_background": "light"
     },
     "output_type": "display_data"
    }
   ],
   "source": [
    "games_actual.groupby('genre')['all_sales'].mean().sort_values(ascending=False).plot(kind='bar')\n",
    "plt.xlabel('Жанр')\n",
    "plt.ylabel('Средние продажи на игру')\n",
    "plt.title('Распределение средних продаж по жанрам')\n",
    "plt.show()"
   ]
  },
  {
   "cell_type": "markdown",
   "metadata": {},
   "source": [
    "**Вывод по Шагу 3**: итак, на данном шаге мы проделали два важных блока работы: определили актуальный период, тем самым обозначив пригодные для анализа данные - с 2012 по 2016 год; ответили на несколько вопросов, в которых заключается наш исследовательский анализ, узнали, какие платформы потенциально прибыльные, какова природа продаж на этих платформах, выяснили, какие жанры продаются лучше всего и от чего зависят продажи сильнее - от отзывов критиков или от отзывов пользователей. "
   ]
  },
  {
   "cell_type": "markdown",
   "metadata": {},
   "source": [
    "<h3>Шаг 4: Составление портретов пользователей различных регионов</h3>\n",
    "<a id='port'></a>"
   ]
  },
  {
   "cell_type": "markdown",
   "metadata": {},
   "source": [
    "На данном Шаге нам необходимо составить портреты пользователей различных регионов (NA, EU, JP). Для каждого портрета ответить на вопросы: самые популярные платформы (топ-5) и различия в долях продаж; самые популярные жанры (топ-5) и разница между ними; влияет ли рейтинг ESRB на продажи в регионе?"
   ]
  },
  {
   "cell_type": "markdown",
   "metadata": {},
   "source": [
    "Начнем с платформ. Выделим топ-5 для каждого региона."
   ]
  },
  {
   "cell_type": "code",
   "execution_count": 54,
   "metadata": {},
   "outputs": [
    {
     "name": "stdout",
     "output_type": "stream",
     "text": [
      "Самые продаваемы платформы в регионе na\n",
      "platform\n",
      "X360    140.57\n",
      "PS4     108.74\n",
      "PS3     103.74\n",
      "XOne     93.12\n",
      "3DS      55.49\n",
      "Name: na_sales, dtype: float64\n",
      "Самые продаваемы платформы в регионе jp\n",
      "platform\n",
      "3DS     87.79\n",
      "PS3     35.29\n",
      "PSV     21.04\n",
      "PS4     15.96\n",
      "WiiU    13.01\n",
      "Name: jp_sales, dtype: float64\n",
      "Самые продаваемы платформы в регионе eu\n",
      "platform\n",
      "PS4     141.09\n",
      "PS3     107.27\n",
      "X360     74.89\n",
      "XOne     51.59\n",
      "3DS      42.83\n",
      "Name: eu_sales, dtype: float64\n"
     ]
    }
   ],
   "source": [
    "for i in ['na', 'jp', 'eu']:\n",
    "    print('Самые продаваемы платформы в регионе ' + i)\n",
    "    name_col = i + '_sales'\n",
    "    print(games_actual.groupby('platform')[name_col].sum().sort_values(ascending=False).head())"
   ]
  },
  {
   "cell_type": "markdown",
   "metadata": {},
   "source": [
    "А теперь построим график для всех регионов, по оси абсцисс отложим названия платформ, а по оси ординат - количество продаж игр для каждой."
   ]
  },
  {
   "cell_type": "code",
   "execution_count": 55,
   "metadata": {
    "scrolled": true
   },
   "outputs": [
    {
     "data": {
      "text/plain": [
       "Text(0.5, 1.0, 'Распределение продаж в различных регионах по платформам')"
      ]
     },
     "execution_count": 55,
     "metadata": {},
     "output_type": "execute_result"
    },
    {
     "data": {
      "image/png": "[encoded data removed]",
      "text/plain": [
       "<Figure size 432x288 with 1 Axes>"
      ]
     },
     "metadata": {
      "needs_background": "light"
     },
     "output_type": "display_data"
    }
   ],
   "source": [
    "ax = games_actual.groupby('platform').sum().sort_values(ascending=False, by=\n",
    "                                                       'all_sales').plot(\n",
    "                                                        kind='bar', y=['na_sales', 'jp_sales', 'eu_sales'])\n",
    "plt.xlabel('Название платформы')\n",
    "plt.ylabel('Продажи в регионе (млн копий)')\n",
    "plt.title('Распределение продаж в различных регионах по платформам')"
   ]
  },
  {
   "cell_type": "markdown",
   "metadata": {},
   "source": [
    "Итак, что мы видим. В Северной Америке лидирует по продажам X360, в Японии - 3DS, в Европе - PS4, везде разный лидер. А теперь подробнее: X360 является лидером в Северной Америке, в Европе эта платформа на третьем месте, а в Японии даже не входит в топ-5. Японский лидер 3DS является пятым в Европе и в Северной Америке. А лидер по Европе PS4 на втором месте в Северной Америке и лишь на четвертом в Японии. Содержимое топ-5 для Европы и Северной Америки аналогично, даже платформы на 4 и 5 местах в этих рейтингах одинаковы, такого сходства у данных регионов нет с Японией: азиатский топ не содержит двух лидеров Европейско-Америнского топа, а также имеет в своем списке две платформы, которые не пользуются спросом в других странах. Вывод: вкусы в Европе и Северной Америке схожи между собой, но имеют мало общего с Японией."
   ]
  },
  {
   "cell_type": "markdown",
   "metadata": {},
   "source": [
    "А теперь к жанрам. Выделим топ-5."
   ]
  },
  {
   "cell_type": "code",
   "execution_count": 56,
   "metadata": {},
   "outputs": [
    {
     "name": "stdout",
     "output_type": "stream",
     "text": [
      "Самые продаваемы жанры в регионе na\n",
      "genre\n",
      "Action          180.15\n",
      "Shooter         144.79\n",
      "Sports           81.53\n",
      "Role-Playing     64.00\n",
      "Misc             38.19\n",
      "Name: na_sales, dtype: float64\n",
      "Самые продаваемы жанры в регионе jp\n",
      "genre\n",
      "Role-Playing    65.44\n",
      "Action          52.80\n",
      "Misc            13.10\n",
      "Simulation      10.41\n",
      "Fighting         9.44\n",
      "Name: jp_sales, dtype: float64\n",
      "Самые продаваемы жанры в регионе eu\n",
      "genre\n",
      "Action          161.70\n",
      "Shooter         113.47\n",
      "Sports           69.09\n",
      "Role-Playing     48.53\n",
      "Racing           27.29\n",
      "Name: eu_sales, dtype: float64\n"
     ]
    }
   ],
   "source": [
    "for i in ['na', 'jp', 'eu']:\n",
    "    print('Самые продаваемы жанры в регионе ' + i)\n",
    "    name_col = i + '_sales'\n",
    "    print(games_actual.groupby('genre')[name_col].sum().sort_values(ascending=False).head())"
   ]
  },
  {
   "cell_type": "markdown",
   "metadata": {},
   "source": [
    "График для всех регионов."
   ]
  },
  {
   "cell_type": "code",
   "execution_count": 57,
   "metadata": {},
   "outputs": [
    {
     "data": {
      "text/plain": [
       "Text(0.5, 1.0, 'Распределение продаж в различных регионах по жанрам')"
      ]
     },
     "execution_count": 57,
     "metadata": {},
     "output_type": "execute_result"
    },
    {
     "data": {
      "image/png": "[encoded data removed]",
      "text/plain": [
       "<Figure size 432x288 with 1 Axes>"
      ]
     },
     "metadata": {
      "needs_background": "light"
     },
     "output_type": "display_data"
    }
   ],
   "source": [
    "ax = games_actual.groupby('genre').sum().sort_values(ascending=False, by=\n",
    "                                                       'all_sales').plot(\n",
    "                                                        kind='bar', y=['na_sales', 'jp_sales', 'eu_sales'])\n",
    "plt.xlabel('Жанр')\n",
    "plt.ylabel('Продажи в регионе (млн копий)')\n",
    "plt.title('Распределение продаж в различных регионах по жанрам')"
   ]
  },
  {
   "cell_type": "markdown",
   "metadata": {},
   "source": [
    "Что мы получили? Топ-5 для Европы и Северной Америки практически идентичны - не совпадают только жанры, занимающие последние места. Опять выделяется Япония - топ данного региона содержит в себе Action и Role_Playing (лидер), которые есть и в рейтинге Северной Америки, и Европы, содержит Misc, который также пользуется спросом в Северной Америке, и два оставшихся жанра - Simulation и Fighting - интерсуют потребителя только в Азии. Вывод: вкусы в Северной Америке и Европе почти совпадают, но имеют они мало схожего с предпочтениями жителей Японии."
   ]
  },
  {
   "cell_type": "markdown",
   "metadata": {},
   "source": [
    "Посмотрим, наконец, как влияет на продажи рейтинг."
   ]
  },
  {
   "cell_type": "code",
   "execution_count": 58,
   "metadata": {},
   "outputs": [
    {
     "data": {
      "text/plain": [
       "Text(0.5, 1.0, 'Распределение продаж в различных регионах по рейтингам')"
      ]
     },
     "execution_count": 58,
     "metadata": {},
     "output_type": "execute_result"
    },
    {
     "data": {
      "image/png": "[encoded data removed]",
      "text/plain": [
       "<Figure size 432x288 with 1 Axes>"
      ]
     },
     "metadata": {
      "needs_background": "light"
     },
     "output_type": "display_data"
    }
   ],
   "source": [
    "ax = games_actual.groupby('rating').sum().sort_values(ascending=False, by=\n",
    "                                                       'all_sales').plot(\n",
    "                                                        kind='bar', y=['na_sales', 'jp_sales', 'eu_sales'])\n",
    "plt.xlabel('Рейтинг')\n",
    "plt.ylabel('Продажи в регионе (млн копий)')\n",
    "plt.title('Распределение продаж в различных регионах по рейтингам')"
   ]
  },
  {
   "cell_type": "markdown",
   "metadata": {},
   "source": [
    "Итак, получаем уже ожидаемый вывод: распределения продаж по рейтингу для Америки и Европе аналогичны: наибольшим спросом пользуются игры с рейтингом M (от слова 'Mature'), на втором месте E (от 'Everyone'), отличительная особенность данных регионов заключается в том, что рейтинг сильно влияет на продажи - это заметно по графику, между столбцами ощутимая разница. В Японии же положение другое: во-первых, здесь рейтинг уже не так сильно влияет на продажи - продажи каждого рейтинга отличаются друг от друга не так сильно, если говорить об определенных категориях (все столбцы, кроме undefined), как в других регионах, но если постараться и выделить пару лидеров, то это будут E (первое место) и T (от 'Teens') на втором, M же занимает всего третье место, во-вторых, среди всех категорий здесь есть яркий лидер - undefined - неопределенный жанр. И как итог -  в очередной раз распределение по Японии отличается от распределений по Европе и Америке. "
   ]
  },
  {
   "cell_type": "markdown",
   "metadata": {},
   "source": [
    "**Вывод по Шагу 4**: на данном Шаге мы построили портреты пользователя каждого из трех регионов, информацию о которых мы имеем, мы выяснили, что вкусы пользователей Европы и Северной Америки сильно схожи, в это время портрет потребителя из Японии отличается от других двух."
   ]
  },
  {
   "cell_type": "markdown",
   "metadata": {},
   "source": [
    "<h3>Шаг 5: Проверка гипотез</h3>\n",
    "<a id='hypo'></a>"
   ]
  },
  {
   "cell_type": "markdown",
   "metadata": {},
   "source": [
    "Здесь нам требуется проверить две гипотезы. Первая: средние пользовательские рейтинги платформ Xbox One и PC одинаковые.\n",
    "Вторая: средние пользовательские рейтинги жанров Action и Sports разные."
   ]
  },
  {
   "cell_type": "markdown",
   "metadata": {},
   "source": [
    "Начнем с первой. Нам нужно проверить, равны ли средние пользовательские рейтинги платформ Xbox One и PC. Будем проверять данную гипотезу как гипотезу о равенстве средних двух генеральных совокупностей, где генеральные совокупности это собрания всех пользовательских рейтингов для всех игр на Xbox One и на PC. А срезы нашего датасета - пользовательские рейтинги для каждой из этих двух платформ - будем рассматривать как выборки из этих совокупностей. "
   ]
  },
  {
   "cell_type": "markdown",
   "metadata": {},
   "source": [
    "Сформулируем нулевую гипотезу: средние этих двух генеральных совокупностей равны. Сформулируем и альтернативную: средние этих двух генеральных совокупностей различаются. "
   ]
  },
  {
   "cell_type": "markdown",
   "metadata": {},
   "source": [
    "Критический уровень статистической значимости возьмем 0.05."
   ]
  },
  {
   "cell_type": "markdown",
   "metadata": {},
   "source": [
    "Оснований считать дисперсии совокупностей разными у нас нет, будем считать, что они одинаковы. Но перед этим проверим это с помощью теста Левене."
   ]
  },
  {
   "cell_type": "code",
   "execution_count": 59,
   "metadata": {},
   "outputs": [
    {
     "data": {
      "text/plain": [
       "0.014264583982264795"
      ]
     },
     "execution_count": 59,
     "metadata": {},
     "output_type": "execute_result"
    }
   ],
   "source": [
    "st.levene(games_actual[games_actual['user_score'].notna()].query('platform == \"XOne\"')['user_score'], \n",
    "          games_actual[games_actual['user_score'].notna()].query('platform == \"PC\"')['user_score']).pvalue"
   ]
  },
  {
   "cell_type": "markdown",
   "metadata": {},
   "source": [
    "P-value результата теста низок, поэтому придется принять дисперсии разными."
   ]
  },
  {
   "cell_type": "markdown",
   "metadata": {},
   "source": [
    "Проведем t-test и посмотрим на p-value, сравним его с критическим уровнем статистической значимости. "
   ]
  },
  {
   "cell_type": "code",
   "execution_count": 60,
   "metadata": {},
   "outputs": [
    {
     "name": "stdout",
     "output_type": "stream",
     "text": [
      "Нулевая гипотеза не отвергается\n"
     ]
    }
   ],
   "source": [
    "results = st.ttest_ind(games_actual[games_actual['user_score'].notna()].query('platform == \"XOne\"')['user_score'], \n",
    "                      games_actual[games_actual['user_score'].notna()].query('platform == \"PC\"')['user_score'], \n",
    "                      equal_var=False)\n",
    "alpha = .05\n",
    "if results.pvalue < alpha:\n",
    "    print('Нулевая гипотеза отвергается -> Средние не равны')\n",
    "else: \n",
    "    print('Нулевая гипотеза не отвергается')"
   ]
  },
  {
   "cell_type": "code",
   "execution_count": 61,
   "metadata": {},
   "outputs": [
    {
     "data": {
      "text/plain": [
       "0.6206366351489678"
      ]
     },
     "execution_count": 61,
     "metadata": {},
     "output_type": "execute_result"
    }
   ],
   "source": [
    "results.pvalue"
   ]
  },
  {
   "cell_type": "markdown",
   "metadata": {},
   "source": [
    "Получаем, что уровень статистической значимости результата выше критического уровня статистической значимости. Это значит, что, при принятии нулевой гипотезы верной, вероятность иметь те выборки, что мы имеем, не мала -> нулевая гипотеза может быть принята. Отсюда вывод: средние совокупностей равны, значит, средние пользовательские рейтинги платформ Xbox One и PC равны. "
   ]
  },
  {
   "cell_type": "markdown",
   "metadata": {},
   "source": [
    "Проверим вторую гипотезу."
   ]
  },
  {
   "cell_type": "markdown",
   "metadata": {},
   "source": [
    "Нам нужно проверить, разные ли средние пользовательские рейтинги жанров Action и Sports. По аналогии с предыдущей гипотезой, будем проверять данную гипотезу как гипотезу о равенстве средних двух генеральных совокупностей, где генеральные совокупности это собрания всех пользовательских рейтингов для всех игр жанра Action и Sports. А срезы нашего датасета - пользовательские рейтинги для каждого из этих двух жанров - будем рассматривать как выборки из этих совокупностей. "
   ]
  },
  {
   "cell_type": "markdown",
   "metadata": {},
   "source": [
    "Сформулируем нулевую гипотезу: средние наших ген. совокупностей равны, альтернативная: средние генеральных совокупностей не равны. "
   ]
  },
  {
   "cell_type": "markdown",
   "metadata": {},
   "source": [
    "Проведем тест, чтобы проверить равенство дисперсий выборок."
   ]
  },
  {
   "cell_type": "code",
   "execution_count": 62,
   "metadata": {},
   "outputs": [
    {
     "data": {
      "text/plain": [
       "1.8018286275085335e-05"
      ]
     },
     "execution_count": 62,
     "metadata": {},
     "output_type": "execute_result"
    }
   ],
   "source": [
    "st.levene(games_actual[games_actual['user_score'].notna()].query('genre == \"Action\"')['user_score'], \n",
    "          games_actual[games_actual['user_score'].notna()].query('genre == \"Sports\"')['user_score']).pvalue"
   ]
  },
  {
   "cell_type": "markdown",
   "metadata": {},
   "source": [
    "Как видно, мы не можем считать дисперсии равными."
   ]
  },
  {
   "cell_type": "markdown",
   "metadata": {},
   "source": [
    "Критический уровень статистической значимости тот же. Проведем тест."
   ]
  },
  {
   "cell_type": "code",
   "execution_count": 63,
   "metadata": {},
   "outputs": [
    {
     "name": "stdout",
     "output_type": "stream",
     "text": [
      "Нулевая гипотеза отвергается -> Средние не равны\n"
     ]
    }
   ],
   "source": [
    "results = st.ttest_ind(games_actual[games_actual['user_score'].notna()].query('genre == \"Action\"')['user_score'], \n",
    "                      games_actual[games_actual['user_score'].notna()].query('genre == \"Sports\"')['user_score'],\n",
    "                      equal_var=False)\n",
    "alpha = .05\n",
    "if results.pvalue < alpha:\n",
    "    print('Нулевая гипотеза отвергается -> Средние не равны')\n",
    "else: \n",
    "    print('Нулевая гипотеза не отвергается')"
   ]
  },
  {
   "cell_type": "code",
   "execution_count": 64,
   "metadata": {},
   "outputs": [
    {
     "data": {
      "text/plain": [
       "2.337200239591976e-20"
      ]
     },
     "execution_count": 64,
     "metadata": {},
     "output_type": "execute_result"
    }
   ],
   "source": [
    "results.pvalue"
   ]
  },
  {
   "cell_type": "markdown",
   "metadata": {},
   "source": [
    "Получаем, что уровень статистической значимости результата ниже критического уровня статистической значимости. Это значит, что, при принятии нулевой гипотезы верной, вероятность иметь те выборки, что мы имеем, мала -> нулевая гипотеза не может быть принята. Отсюда вывод: средние совокупностей не равны, значит, средние пользовательские рейтинги игр жанров Action и Sports разные.  "
   ]
  },
  {
   "cell_type": "markdown",
   "metadata": {},
   "source": [
    "**Вывод по Шагу 5**: на данном Шаге мы проверили две гипотезы как гипотезы о равенстве средних двух генеральных совокупностей, получили результат: средние пользовательские рейтинги платформ Xbox One и PC одинаковы, а вот средние пользовательские рейтинги игр жанров Action и Sports - нет."
   ]
  },
  {
   "cell_type": "markdown",
   "metadata": {},
   "source": [
    "<h3>Шаг 6: Общий вывод</h3>\n",
    "<a id='conq'></a>"
   ]
  },
  {
   "cell_type": "markdown",
   "metadata": {},
   "source": [
    "Настало время заключительного этапа - сделать общие выводы."
   ]
  },
  {
   "cell_type": "markdown",
   "metadata": {},
   "source": [
    "Изначально наша задача стояла в том, чтобы найти определяющие успешность игры закономерности. Поэтому резюмируем все, что мы выяснили, исследуя данные за крайние пять лет. "
   ]
  },
  {
   "cell_type": "markdown",
   "metadata": {},
   "source": [
    "Во-первых, успешность игры зависит от того, для какой платформы она предназначена. Есть в данном вопросе абсолютные лидеры - потенциально прибыльные платформы, такие как XOne и PS4, но все не так просто. Составляя портреты, мы выяснили, что в Японии особой популярностью пользуется платформа 3DS, которую мы, в свою очередь, занесли в список потенциально прибыльных. Так, связка платформа + регион являются фактором, определяющим успешность игры. Без привязки к региону использовать данный фактор может быть рискованно. "
   ]
  },
  {
   "cell_type": "markdown",
   "metadata": {},
   "source": [
    "Во-вторых, успешность игры зависит от жанра. Так, мы заметили, что игры жанра Shooter выпускаются не так часто (относительно), зато спрос на них - высокий, и абсолютно противоположная ситуация для Adventure. Но опять же - стоит оглядываться на регион, вкусы японцев отличаются от европейских и американцев. "
   ]
  },
  {
   "cell_type": "markdown",
   "metadata": {},
   "source": [
    "В-третьих, успех игры определяется еще и рейтингом. Это не такой ключевой момент, как платформа или жанр, но имеет вес. Так, рейтинг E может сослужить хорошим вариантом для целевого выбора, а вот при раздумьях о том, стоит ли приобретать много игр жанра M стоит обратить внимание на то, для какого региона это предназначено: большой спрос будет в Европе и Америке, а вот в Японии на рейтинг особо внимания никто и не обратит -  все берут плюс-минус одинаково."
   ]
  },
  {
   "cell_type": "markdown",
   "metadata": {},
   "source": [
    "В-четвертых, стоит обратить внимание на отзывы критиков, но не пользователей. Лишь профессионалы своего дела помогут в данном вопросе - как мы выяснили, отзывы именно критиков хорошо коррелируют с продажами. "
   ]
  },
  {
   "cell_type": "markdown",
   "metadata": {},
   "source": [
    "**Вывод по Шагу 6**: итак, мы выяснили, что же влияет на успешность игры, а также установили, что применять эти параметры лучше с оглядкой на то, для какого региона предназначены игры. "
   ]
  }
 ],
 "metadata": {
  "kernelspec": {
   "display_name": "Python 3",
   "language": "python",
   "name": "python3"
  },
  "language_info": {
   "codemirror_mode": {
    "name": "ipython",
    "version": 3
   },
   "file_extension": ".py",
   "mimetype": "text/x-python",
   "name": "python",
   "nbconvert_exporter": "python",
   "pygments_lexer": "ipython3",
   "version": "3.7.8"
  }
 },
 "nbformat": 4,
 "nbformat_minor": 4
}
